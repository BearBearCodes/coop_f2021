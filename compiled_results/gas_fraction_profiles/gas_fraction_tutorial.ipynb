{
 "cells": [
  {
   "cell_type": "markdown",
   "id": "detected-tattoo",
   "metadata": {},
   "source": [
    "# Calculate Gas Fractions Using our Lookup Table for Stellar Mass Densities\n",
    "\n",
    "Isaac Cheng - December 2021\n",
    "\n",
    "Based on the [`gas_fraction.ipynb`](../galaxies/gas_fraction/gas_fraction.ipynb) notebook.\n",
    "\n",
    "Note that the data should all be at VERTICO's 9\" beam with 2\" pixel resolution!\n"
   ]
  },
  {
   "cell_type": "code",
   "execution_count": 1,
   "id": "binary-conducting",
   "metadata": {},
   "outputs": [
    {
     "name": "stdout",
     "output_type": "stream",
     "text": [
      "/arc/home/IsaacCheng/coop_f2021/compiled_results/gas_fraction_profiles\n"
     ]
    }
   ],
   "source": [
    "GAS_FRAC_PATH = \"/arc/home/IsaacCheng/coop_f2021/compiled_results/gas_fraction_profiles/\"  # change this path\n",
    "%cd \"$GAS_FRAC_PATH\"\n",
    "\n",
    "from multiprocessing import Pool\n",
    "from itertools import repeat\n",
    "import re\n",
    "\n",
    "import numpy as np\n",
    "import matplotlib as mpl\n",
    "import matplotlib.pyplot as plt\n",
    "import seaborn as sns\n",
    "import dill\n",
    "import astropy.units as u\n",
    "from astropy.io import fits\n",
    "from astropy.wcs import WCS\n",
    "from radio_beam import Beam\n",
    "# \n",
    "# Load my own packages\n",
    "# \n",
    "import sys\n",
    "sys.path.append(\"/arc/home/IsaacCheng/coop_f2021/packages\")\n",
    "import fits_utils as fu\n",
    "import plot_utils as pu\n",
    "import radial_profile_utils as rpu\n",
    "from radial_profile import RadialProfile\n",
    "# \n",
    "GALDIST = 16.5 * u.Mpc  # distance to Virgo cluster centre"
   ]
  },
  {
   "cell_type": "markdown",
   "id": "wanted-prayer",
   "metadata": {},
   "source": [
    "Following are arrays containing information related to the NGVS-VERTICO galaxies.\n"
   ]
  },
  {
   "cell_type": "code",
   "execution_count": 2,
   "id": "normal-supervision",
   "metadata": {},
   "outputs": [],
   "source": [
    "ALPHA_CO = 4.35  # M_sun/pc^2 per (K km/s)\n",
    "R_21 = 0.8  # dimensionless. CO(2-1)/CO(1-0) ratio\n",
    "I_THRESHOLD = 80  # degree. If inclination >= I_THRESHOLD, means high-i galaxy\n",
    "\n",
    "GALAXIES = np.array(\n",
    "    [\n",
    "        \"IC3392\",\n",
    "        # \"NGC4189\",  # ignored flag map, but bad results\n",
    "        \"NGC4192\",\n",
    "        \"NGC4216\",  # has unflagged foreground star\n",
    "        \"NGC4222\",\n",
    "        \"NGC4254\",\n",
    "        \"NGC4294\",\n",
    "        \"NGC4298\",\n",
    "        \"NGC4299\",\n",
    "        \"NGC4302\",\n",
    "        \"NGC4321\",\n",
    "        \"NGC4330\",\n",
    "        \"NGC4351\",\n",
    "        \"NGC4380\",\n",
    "        \"NGC4383\",\n",
    "        \"NGC4388\",\n",
    "        \"NGC4396\",\n",
    "        \"NGC4402\",\n",
    "        \"NGC4405\",\n",
    "        \"NGC4419\",\n",
    "        \"NGC4424\",\n",
    "        \"NGC4450\",\n",
    "        \"NGC4501\",\n",
    "        \"NGC4522\",\n",
    "        \"NGC4532\",\n",
    "        \"NGC4535\",\n",
    "        \"NGC4548\",\n",
    "        \"NGC4567\",\n",
    "        \"NGC4568\",\n",
    "        \"NGC4569\",\n",
    "        \"NGC4579\",\n",
    "        \"NGC4580\",\n",
    "        # \"NGC4606\",  # flag map too intrusive\n",
    "        \"NGC4607\",\n",
    "        \"NGC4651\",\n",
    "        \"NGC4654\",\n",
    "        \"NGC4689\",\n",
    "        \"NGC4694\",\n",
    "    ]\n",
    ")\n",
    "INCLINATIONS = np.array(\n",
    "    [\n",
    "        68,\n",
    "        # 42,  # ignored flag map, but bad results\n",
    "        83,\n",
    "        90,  # has unflagged foreground star\n",
    "        90,\n",
    "        39,\n",
    "        74,\n",
    "        52,\n",
    "        14,\n",
    "        90,\n",
    "        32,\n",
    "        90,\n",
    "        48,\n",
    "        61,\n",
    "        56,\n",
    "        83,\n",
    "        83,\n",
    "        80,\n",
    "        46,\n",
    "        74,\n",
    "        61,\n",
    "        51,\n",
    "        65,\n",
    "        82,\n",
    "        64,\n",
    "        48,\n",
    "        37,\n",
    "        49,\n",
    "        70,\n",
    "        69,\n",
    "        40,\n",
    "        46,\n",
    "        # 69,  # flag map too intrusive\n",
    "        90,\n",
    "        53,\n",
    "        61,\n",
    "        38,\n",
    "        62,\n",
    "    ]\n",
    ")  # degrees\n",
    "POSITION_ANGLES = np.array(\n",
    "    [\n",
    "        219,\n",
    "        # 70,  # ignored flag map, but bad results\n",
    "        333,\n",
    "        20,  # has unflagged foreground star\n",
    "        238,\n",
    "        243,\n",
    "        151,\n",
    "        132,\n",
    "        128,\n",
    "        356,\n",
    "        280,\n",
    "        238,\n",
    "        251,\n",
    "        158,\n",
    "        17,\n",
    "        271,\n",
    "        304,\n",
    "        270,\n",
    "        18,\n",
    "        131,\n",
    "        274,\n",
    "        170,\n",
    "        320,\n",
    "        35,\n",
    "        159,\n",
    "        12,\n",
    "        318,\n",
    "        251,\n",
    "        211,\n",
    "        203,\n",
    "        273,\n",
    "        337,\n",
    "        # 38,  # flag map too intrusive\n",
    "        2,\n",
    "        75,\n",
    "        300,\n",
    "        341,\n",
    "        323,\n",
    "    ]\n",
    ")  # degrees\n",
    "HIGH_I_GALAXIES = np.array(\n",
    "    [\n",
    "        \"NGC4192\",\n",
    "        \"NGC4216\",\n",
    "        \"NGC4222\",\n",
    "        \"NGC4302\",\n",
    "        \"NGC4330\",\n",
    "        \"NGC4388\",\n",
    "        \"NGC4396\",\n",
    "        \"NGC4402\",\n",
    "        \"NGC4522\",\n",
    "        \"NGC4607\",\n",
    "    ]\n",
    ")\n",
    "HIGH_I_HEIGHTS_ARCSEC = np.array(\n",
    "    [80, 60, 25, 55, 38, 65, 43, 45, 40, 70,]\n",
    ")  # arcsec, for radial profiles"
   ]
  },
  {
   "cell_type": "markdown",
   "id": "exact-novelty",
   "metadata": {},
   "source": [
    "The following function calculates the gas fraction radial profile of a galaxy using\n",
    "stellar mass density data from a pickle file (see the [stellar mass\n",
    "pipeline](../stellar_mass_pipeline/)).\n",
    "\n",
    "N.B. You will need to change the import paths!\n"
   ]
  },
  {
   "cell_type": "code",
   "execution_count": 3,
   "id": "nominated-paint",
   "metadata": {},
   "outputs": [],
   "source": [
    "def get_gas_frac_rp(\n",
    "    galaxy,  # galaxy name. string (e.g., \"NGC4380\")\n",
    "    i,  # inclination. float or int\n",
    "    pa,  # position angle. float or int\n",
    "    n_annuli=None,  # number of annuli to use\n",
    "    avg_uncertainty=False,  # if True, the radial profile calculates the average uncertainty instead of the average value. Note that this is different from the uncertainty in the mean!\n",
    "    include_bad=None,  # overrides default include_bad\n",
    "    snr_cutoff=None,  # fit annuli until it drops <= this SNR value\n",
    "    avg_function=\"mean\",  # \"mean\" or \"median\"\n",
    "    max_snr_annuli=40,   # maximum number of annuli to use if using snr_cutoff\n",
    "    min_width=None,  # the minimum width of the annuli\n",
    "    bootstrap_errs=True,  # if True, estimate error on the mean using bootstrapping\n",
    "    bootstrap_seed=1234,  # seed for bootstrapping\n",
    "):\n",
    "    \"\"\"\n",
    "    Calculates the gas fraction radial profile for a given galaxy. Also saves the annulus\n",
    "    width and centre of the galaxy (useful for vorbin radial profiles).\n",
    "    \"\"\"\n",
    "    #\n",
    "    # Load stellar mass density data\n",
    "    #\n",
    "    galpath = f\"/arc/home/IsaacCheng/coop_f2021/galaxies/{galaxy}/\"  # ! CHANGE ME\n",
    "    galaxy_infile = (galpath + f\"{galaxy}_regBin_extinctionCorr_9as_ugiz_Sigma-star_noNorm_i_corr.pkl\")  # ! CHANGE ME\n",
    "    with open(galaxy_infile, \"rb\") as f:\n",
    "        file = dill.load(f)\n",
    "        M_density = file[\"stellar_mass_density\"]\n",
    "        M_density_err = file[\"stellar_mass_density_err\"]\n",
    "        file = None  # free memory\n",
    "    #\n",
    "    # Load molecular gas density data\n",
    "    #\n",
    "    if galaxy == \"NGC4321\":  # no 9 arcsec data since native is 10 arcsec\n",
    "        Ico_path = f\"/arc/home/IsaacCheng/coop_f2021/vertico_data/v1.3.1/native/{galaxy}/{galaxy}_7m+tp_co21_pbcorr_round_mom0_Kkms-1.fits\"\n",
    "        Ico_unc_path = f\"/arc/home/IsaacCheng/coop_f2021/vertico_data/v1.3.1/native/{galaxy}/{galaxy}_7m+tp_co21_pbcorr_round_mom0_unc.fits\"\n",
    "    else:\n",
    "        Ico_path = f\"/arc/home/IsaacCheng/coop_f2021/vertico_data/v1.3/9arcsec/{galaxy}/{galaxy}_7m+tp_co21_pbcorr_9as_round_mom0_Kkms-1.fits\"\n",
    "        Ico_unc_path = f\"/arc/home/IsaacCheng/coop_f2021/vertico_data/v1.3/9arcsec/{galaxy}/{galaxy}_7m+tp_co21_pbcorr_9as_round_mom0_unc.fits\"\n",
    "    Ico_data, gal_header = fits.getdata(Ico_path, header=True)\n",
    "    Ico_unc = fits.getdata(Ico_unc_path)  # uncertainty\n",
    "    gal_wcs = WCS(gal_header)\n",
    "    #\n",
    "    # Get radial profile parameters\n",
    "    #\n",
    "    centre = gal_wcs.pixel_to_world(Ico_data.shape[1] / 2, Ico_data.shape[0] / 2)  # VERTICO image centre = galaxy centre\n",
    "    if i >= I_THRESHOLD:\n",
    "        if include_bad is None:\n",
    "            include_bad = False\n",
    "        high_i_height = HIGH_I_HEIGHTS_ARCSEC[galaxy == HIGH_I_GALAXIES] * u.arcsec\n",
    "    else:\n",
    "        if include_bad is None:\n",
    "            include_bad = True  # only include NaNs if low-i galaxy\n",
    "        high_i_height = None\n",
    "    if n_annuli is None and snr_cutoff is None:\n",
    "        if galaxy == \"NGC4698\" or galaxy == \"NGC4772\":\n",
    "            snr_cutoff = None\n",
    "            n_annuli = 5\n",
    "        else:\n",
    "            snr_cutoff = 0  # fit until no gas detected\n",
    "            n_annuli = None\n",
    "    #\n",
    "    # Get annulus width in degree (just to store)\n",
    "    #\n",
    "    beam = Beam.from_fits_header(gal_header)\n",
    "    annulus_width_arcsec = np.max(\n",
    "        [beam.major.to(u.arcsec).value, beam.minor.to(u.arcsec).value]\n",
    "    )\n",
    "    #\n",
    "    # Mask background\n",
    "    #\n",
    "    Ico_mask = (~np.isfinite(Ico_unc)) | (Ico_unc <= 0)\n",
    "    Ico_data[Ico_mask] = np.nan\n",
    "    Ico_unc[Ico_mask] = np.nan\n",
    "    #\n",
    "    # Convert to gas density (M_sun/pc^2)\n",
    "    #\n",
    "    gas_density_i_uncorr = ALPHA_CO / R_21 * Ico_data\n",
    "    gas_density_unc_i_uncorr = ALPHA_CO / R_21 * Ico_unc\n",
    "    #\n",
    "    # Correct for inclination\n",
    "    #\n",
    "    gas_density = rpu.correct_for_i(\n",
    "        gas_density_i_uncorr, i, i_threshold=I_THRESHOLD, i_replacement=I_THRESHOLD\n",
    "    )\n",
    "    gas_density_unc = rpu.correct_for_i(\n",
    "        gas_density_unc_i_uncorr, i, i_threshold=I_THRESHOLD, i_replacement=I_THRESHOLD\n",
    "    )\n",
    "    #\n",
    "    # Convert to gas fraction\n",
    "    #\n",
    "    gas_frac, gas_frac_unc = fu.calc_gas_fraction(\n",
    "        gas_density, M_density, gas_density_unc, M_density_err\n",
    "    )\n",
    "    #\n",
    "    # Make radial profile\n",
    "    #\n",
    "    if avg_uncertainty:\n",
    "        galaxy_rp = RadialProfile(gas_frac_unc, centre, i, pa, noise=None)\n",
    "    else:\n",
    "        galaxy_rp = RadialProfile(gas_frac, centre, i, pa, noise=gas_frac_unc)\n",
    "    galaxy_rp = galaxy_rp.calc_radial_profile(\n",
    "        i_threshold=I_THRESHOLD,\n",
    "        n_annuli=n_annuli,\n",
    "        snr_cutoff=snr_cutoff,\n",
    "        max_snr_annuli=max_snr_annuli,\n",
    "        min_width=min_width,\n",
    "        wcs=gal_wcs,\n",
    "        header=gal_header,\n",
    "        include_bad=include_bad,\n",
    "        method=\"exact\",\n",
    "        func=avg_function,\n",
    "        is_radio=True,\n",
    "        high_i_height=high_i_height,\n",
    "        bootstrap_errs=bootstrap_errs,\n",
    "        bootstrap_seed=bootstrap_seed,\n",
    "    )\n",
    "    return galaxy_rp, centre, annulus_width_arcsec\n"
   ]
  },
  {
   "cell_type": "markdown",
   "id": "cubic-finnish",
   "metadata": {},
   "source": [
    "## Get gas fraction radial profiles for all NGVS-VERTICO galaxies and save in 1 pickle file\n"
   ]
  },
  {
   "cell_type": "markdown",
   "id": "romance-blanket",
   "metadata": {},
   "source": [
    "First, load the VERTICO gas density radial profiles so that the number of annuli in the\n",
    "gas density and gas fraction radial profiles match.\n",
    "\n",
    "Alternatively, you can just fit annuli with an `snr_cutoff=0` (which is what I did for the\n",
    "gas density radial profiles). In practice, this means it will keep adding annuli until it\n",
    "reaches an annulus that contains all NaNs or is completely out of the image boundary.\n"
   ]
  },
  {
   "cell_type": "code",
   "execution_count": 4,
   "id": "romance-boundary",
   "metadata": {},
   "outputs": [
    {
     "name": "stdout",
     "output_type": "stream",
     "text": [
      "36\n",
      "[3, 19, 21, 9, 16, 3, 7, 6, 18, 15, 9, 5, 5, 5, 10, 8, 13, 3, 4, 4, 7, 7, 7, 4, 12, 11, 6, 5, 8, 11, 4, 7, 6, 8, 8, 5]\n",
      "['IC3392' 'NGC4192' 'NGC4216' 'NGC4222' 'NGC4254' 'NGC4294' 'NGC4298'\n",
      " 'NGC4299' 'NGC4302' 'NGC4321' 'NGC4330' 'NGC4351' 'NGC4380' 'NGC4383'\n",
      " 'NGC4388' 'NGC4396' 'NGC4402' 'NGC4405' 'NGC4419' 'NGC4424' 'NGC4450'\n",
      " 'NGC4501' 'NGC4522' 'NGC4532' 'NGC4535' 'NGC4548' 'NGC4567' 'NGC4568'\n",
      " 'NGC4569' 'NGC4579' 'NGC4580' 'NGC4607' 'NGC4651' 'NGC4654' 'NGC4689'\n",
      " 'NGC4694']\n"
     ]
    }
   ],
   "source": [
    "# \n",
    "# Load VERTICO gas density radial profiles (to get n_annuli)\n",
    "# \n",
    "with open(\"/arc/home/IsaacCheng/coop_f2021/galaxies/gas_densities/gas_density_i_corr_allVERTICO.pkl\", \"rb\") as f:\n",
    "    file = dill.load(f)\n",
    "    vertico_gals = file[\"galaxies\"]\n",
    "    vertico_rps = file[\"radial_profiles\"]\n",
    "    file = None  # free memory\n",
    "n_annulis = []\n",
    "for g, rp in zip(vertico_gals, vertico_rps):\n",
    "    if g not in GALAXIES:\n",
    "        continue\n",
    "    n_annulis.append(len(rp.annuli))\n",
    "print(len(n_annulis))\n",
    "print(n_annulis)  # here, n_annulis correspond to the alphabetized GALAXIES (make sure all lists/arrays correspond element-wise!)\n",
    "print(GALAXIES)"
   ]
  },
  {
   "cell_type": "markdown",
   "id": "refined-jackson",
   "metadata": {},
   "source": [
    "Use multiprocessing to get radial profiles in parallel. This is super fast.\n"
   ]
  },
  {
   "cell_type": "code",
   "execution_count": 5,
   "id": "weekly-logistics",
   "metadata": {
    "collapsed": true,
    "jupyter": {
     "outputs_hidden": true
    },
    "tags": []
   },
   "outputs": [
    {
     "name": "stderr",
     "output_type": "stream",
     "text": [
      "WARNINGWARNINGWARNINGWARNINGWARNINGWARNINGWARNINGWARNINGWARNING: FITSFixedWarning: The WCS transformation has more axes (2) than the image it is associated with (0) [astropy.wcs.wcs]: FITSFixedWarning: The WCS transformation has more axes (2) than the image it is associated with (0) [astropy.wcs.wcs]WARNING: FITSFixedWarning: The WCS transformation has more axes (2) than the image it is associated with (0) [astropy.wcs.wcs]: FITSFixedWarning: The WCS transformation has more axes (2) than the image it is associated with (0) [astropy.wcs.wcs]: FITSFixedWarning: The WCS transformation has more axes (2) than the image it is associated with (0) [astropy.wcs.wcs]: FITSFixedWarning: The WCS transformation has more axes (2) than the image it is associated with (0) [astropy.wcs.wcs]\n",
      ": FITSFixedWarning: The WCS transformation has more axes (2) than the image it is associated with (0) [astropy.wcs.wcs]\n",
      "\n",
      ": FITSFixedWarning: The WCS transformation has more axes (2) than the image it is associated with (0) [astropy.wcs.wcs]WARNING\n",
      ": FITSFixedWarning: The WCS transformation has more axes (2) than the image it is associated with (0) [astropy.wcs.wcs]WARNING\n",
      "WARNING: FITSFixedWarning: The WCS transformation has more axes (2) than the image it is associated with (0) [astropy.wcs.wcs]\n",
      "WARNINGWARNING\n",
      "WARNING: FITSFixedWarning: The WCS transformation has more axes (2) than the image it is associated with (0) [astropy.wcs.wcs]: FITSFixedWarning: The WCS transformation has more axes (2) than the image it is associated with (0) [astropy.wcs.wcs]: FITSFixedWarning: The WCS transformation has more axes (2) than the image it is associated with (0) [astropy.wcs.wcs]: FITSFixedWarning: The WCS transformation has more axes (2) than the image it is associated with (0) [astropy.wcs.wcs]\n",
      ": FITSFixedWarning: The WCS transformation has more axes (2) than the image it is associated with (0) [astropy.wcs.wcs]\n",
      "WARNINGWARNINGWARNING: FITSFixedWarning: The WCS transformation has more axes (2) than the image it is associated with (0) [astropy.wcs.wcs]WARNING\n",
      "\n",
      ": FITSFixedWarning: The WCS transformation has more axes (2) than the image it is associated with (0) [astropy.wcs.wcs]: FITSFixedWarning: The WCS transformation has more axes (2) than the image it is associated with (0) [astropy.wcs.wcs]\n",
      "\n",
      "\n",
      ": FITSFixedWarning: The WCS transformation has more axes (2) than the image it is associated with (0) [astropy.wcs.wcs]: FITSFixedWarning: The WCS transformation has more axes (2) than the image it is associated with (0) [astropy.wcs.wcs]: FITSFixedWarning: The WCS transformation has more axes (2) than the image it is associated with (0) [astropy.wcs.wcs]WARNINGWARNING\n",
      ": FITSFixedWarning: The WCS transformation has more axes (2) than the image it is associated with (0) [astropy.wcs.wcs]WARNING\n",
      "\n",
      "\n",
      "\n",
      "\n",
      ": FITSFixedWarning: The WCS transformation has more axes (2) than the image it is associated with (0) [astropy.wcs.wcs]\n",
      "WARNINGWARNING: FITSFixedWarning: The WCS transformation has more axes (2) than the image it is associated with (0) [astropy.wcs.wcs]WARNINGWARNING\n",
      ": FITSFixedWarning: The WCS transformation has more axes (2) than the image it is associated with (0) [astropy.wcs.wcs]\n",
      ": FITSFixedWarning: The WCS transformation has more axes (2) than the image it is associated with (0) [astropy.wcs.wcs]WARNING\n",
      "WARNINGWARNING: FITSFixedWarning: The WCS transformation has more axes (2) than the image it is associated with (0) [astropy.wcs.wcs]\n",
      "\n",
      ": FITSFixedWarning: The WCS transformation has more axes (2) than the image it is associated with (0) [astropy.wcs.wcs]\n",
      "WARNING\n",
      ": FITSFixedWarning: The WCS transformation has more axes (2) than the image it is associated with (0) [astropy.wcs.wcs]: FITSFixedWarning: The WCS transformation has more axes (2) than the image it is associated with (0) [astropy.wcs.wcs]\n",
      "\n",
      ": FITSFixedWarning: The WCS transformation has more axes (2) than the image it is associated with (0) [astropy.wcs.wcs]\n",
      "WARNING: FITSFixedWarning: The WCS transformation has more axes (2) than the image it is associated with (0) [astropy.wcs.wcs]\n",
      "WARNINGWARNING: FITSFixedWarning: 'datfix' made the change 'Set MJD-OBS to 58823.434418 from DATE-OBS'. [astropy.wcs.wcs]: FITSFixedWarning: 'datfix' made the change 'Set MJD-OBS to 58786.495183 from DATE-OBS'. [astropy.wcs.wcs]\n",
      "WARNING: FITSFixedWarning: 'datfix' made the change 'Set MJD-OBS to 58034.639742 from DATE-OBS'. [astropy.wcs.wcs]\n",
      "WARNING\n",
      "WARNING: FITSFixedWarning: 'obsfix' made the change 'Observatory coordinates incomplete'. [astropy.wcs.wcs]WARNING\n",
      ": FITSFixedWarning: 'datfix' made the change 'Set MJD-OBS to 58838.438545 from DATE-OBS'. [astropy.wcs.wcs]: FITSFixedWarning: 'obsfix' made the change 'Observatory coordinates incomplete'. [astropy.wcs.wcs]\n",
      "\n",
      "WARNINGWARNINGWARNING: FITSFixedWarning: 'datfix' made the change 'Set MJD-OBS to 58771.655996 from DATE-OBS'. [astropy.wcs.wcs]: FITSFixedWarning: 'datfix' made the change 'Set MJD-OBS to 58821.370833 from DATE-OBS'. [astropy.wcs.wcs]"
     ]
    },
    {
     "name": "stdout",
     "output_type": "stream",
     "text": [
      "Info: using provided WCS instead of converting header to WCS\n"
     ]
    },
    {
     "name": "stderr",
     "output_type": "stream",
     "text": [
      "\n",
      "WARNING\n",
      ": FITSFixedWarning: 'datfix' made the change 'Set MJD-OBS to 58839.379235 from DATE-OBS'. [astropy.wcs.wcs]: FITSFixedWarning: 'obsfix' made the change 'Observatory coordinates incomplete'. [astropy.wcs.wcs]\n"
     ]
    },
    {
     "name": "stdout",
     "output_type": "stream",
     "text": [
      "\n",
      "Info: using provided WCS instead of converting header to WCS"
     ]
    },
    {
     "name": "stderr",
     "output_type": "stream",
     "text": [
      "\n"
     ]
    },
    {
     "name": "stdout",
     "output_type": "stream",
     "text": [
      "Getting minimum width from radio beam size"
     ]
    },
    {
     "name": "stderr",
     "output_type": "stream",
     "text": [
      "WARNINGWARNINGWARNINGWARNING"
     ]
    },
    {
     "name": "stdout",
     "output_type": "stream",
     "text": [
      "\n"
     ]
    },
    {
     "name": "stderr",
     "output_type": "stream",
     "text": [
      "WARNING: FITSFixedWarning: 'obsfix' made the change 'Observatory coordinates incomplete'. [astropy.wcs.wcs]: FITSFixedWarning: 'obsfix' made the change 'Observatory coordinates incomplete'. [astropy.wcs.wcs]: FITSFixedWarning: 'datfix' made the change 'Set MJD-OBS to 57524.101317 from DATE-OBS'. [astropy.wcs.wcs]WARNING\n",
      ": FITSFixedWarning: 'datfix' made the change 'Set MJD-OBS to 58771.720579 from DATE-OBS'. [astropy.wcs.wcs]: FITSFixedWarning: 'datfix' made the change 'Set MJD-OBS to 57613.735997 from DATE-OBS'. [astropy.wcs.wcs]WARNING\n",
      "\n",
      ": FITSFixedWarning: 'obsfix' made the change 'Observatory coordinates incomplete'. [astropy.wcs.wcs]\n",
      "WARNING"
     ]
    },
    {
     "name": "stdout",
     "output_type": "stream",
     "text": [
      "Getting minimum width from radio beam sizeInfo: using provided WCS instead of converting header to WCS"
     ]
    },
    {
     "name": "stderr",
     "output_type": "stream",
     "text": [
      "\n"
     ]
    },
    {
     "name": "stdout",
     "output_type": "stream",
     "text": [
      "Min width/beam size (pixels):\n"
     ]
    },
    {
     "name": "stderr",
     "output_type": "stream",
     "text": [
      ": FITSFixedWarning: 'datfix' made the change 'Set MJD-OBS to 58125.369839 from DATE-OBS'. [astropy.wcs.wcs]"
     ]
    },
    {
     "name": "stdout",
     "output_type": "stream",
     "text": [
      " "
     ]
    },
    {
     "name": "stderr",
     "output_type": "stream",
     "text": [
      "WARNING: FITSFixedWarning: 'datfix' made the change 'Set MJD-OBS to 58820.540981 from DATE-OBS'. [astropy.wcs.wcs]"
     ]
    },
    {
     "name": "stdout",
     "output_type": "stream",
     "text": [
      "4.50000000014364"
     ]
    },
    {
     "name": "stderr",
     "output_type": "stream",
     "text": [
      ": FITSFixedWarning: 'obsfix' made the change 'Observatory coordinates incomplete'. [astropy.wcs.wcs]\n"
     ]
    },
    {
     "name": "stdout",
     "output_type": "stream",
     "text": [
      "\n",
      "Info: using provided WCS instead of converting header to WCS\n"
     ]
    },
    {
     "name": "stderr",
     "output_type": "stream",
     "text": [
      "WARNING"
     ]
    },
    {
     "name": "stdout",
     "output_type": "stream",
     "text": [
      "Getting minimum width from radio beam size"
     ]
    },
    {
     "name": "stderr",
     "output_type": "stream",
     "text": [
      "\n"
     ]
    },
    {
     "name": "stdout",
     "output_type": "stream",
     "text": [
      "Info: using provided WCS instead of converting header to WCS"
     ]
    },
    {
     "name": "stderr",
     "output_type": "stream",
     "text": [
      ": FITSFixedWarning: 'obsfix' made the change 'Observatory coordinates incomplete'. [astropy.wcs.wcs]"
     ]
    },
    {
     "name": "stdout",
     "output_type": "stream",
     "text": [
      "\n",
      "Min width/beam size (pixels):\n",
      " "
     ]
    },
    {
     "name": "stderr",
     "output_type": "stream",
     "text": [
      "WARNING\n"
     ]
    },
    {
     "name": "stdout",
     "output_type": "stream",
     "text": [
      "4.5000000002462395"
     ]
    },
    {
     "name": "stderr",
     "output_type": "stream",
     "text": [
      ": FITSFixedWarning: 'datfix' made the change 'Set MJD-OBS to 58822.371327 from DATE-OBS'. [astropy.wcs.wcs]WARNING\n"
     ]
    },
    {
     "name": "stdout",
     "output_type": "stream",
     "text": [
      "Info: using provided WCS instead of converting header to WCSGetting minimum width from radio beam size"
     ]
    },
    {
     "name": "stderr",
     "output_type": "stream",
     "text": [
      ": FITSFixedWarning: 'datfix' made the change 'Set MJD-OBS to 58857.486979 from DATE-OBS'. [astropy.wcs.wcs]"
     ]
    },
    {
     "name": "stdout",
     "output_type": "stream",
     "text": [
      "\n"
     ]
    },
    {
     "name": "stderr",
     "output_type": "stream",
     "text": [
      "WARNING"
     ]
    },
    {
     "name": "stdout",
     "output_type": "stream",
     "text": [
      "\n",
      "Getting minimum width from radio beam size"
     ]
    },
    {
     "name": "stderr",
     "output_type": "stream",
     "text": [
      ": FITSFixedWarning: 'obsfix' made the change 'Observatory coordinates incomplete'. [astropy.wcs.wcs]WARNINGWARNING"
     ]
    },
    {
     "name": "stdout",
     "output_type": "stream",
     "text": [
      "Min width/beam size (pixels):"
     ]
    },
    {
     "name": "stderr",
     "output_type": "stream",
     "text": [
      "\n"
     ]
    },
    {
     "name": "stdout",
     "output_type": "stream",
     "text": [
      "\n"
     ]
    },
    {
     "name": "stderr",
     "output_type": "stream",
     "text": [
      "\n"
     ]
    },
    {
     "name": "stdout",
     "output_type": "stream",
     "text": [
      " "
     ]
    },
    {
     "name": "stderr",
     "output_type": "stream",
     "text": [
      "\n",
      ": FITSFixedWarning: 'obsfix' made the change 'Observatory coordinates incomplete'. [astropy.wcs.wcs]WARNING: FITSFixedWarning: 'obsfix' made the change 'Observatory coordinates incomplete'. [astropy.wcs.wcs]"
     ]
    },
    {
     "name": "stdout",
     "output_type": "stream",
     "text": [
      "4.5000000001472396"
     ]
    },
    {
     "name": "stderr",
     "output_type": "stream",
     "text": [
      ": FITSFixedWarning: 'datfix' made the change 'Set MJD-OBS to 58800.586857 from DATE-OBS'. [astropy.wcs.wcs]\n"
     ]
    },
    {
     "name": "stdout",
     "output_type": "stream",
     "text": [
      "\n",
      "\n"
     ]
    },
    {
     "name": "stderr",
     "output_type": "stream",
     "text": [
      "\n",
      "\n",
      "\n"
     ]
    },
    {
     "name": "stdout",
     "output_type": "stream",
     "text": [
      "Getting minimum width from radio beam sizeInfo: Inclination greater than i_threshold. Fitting rectangles along major axis instead of ellipses/annuli\n",
      "\n",
      "Min width/beam size (pixels):"
     ]
    },
    {
     "name": "stderr",
     "output_type": "stream",
     "text": [
      "WARNINGWARNINGWARNINGWARNING"
     ]
    },
    {
     "name": "stdout",
     "output_type": "stream",
     "text": [
      "Height (pixels):"
     ]
    },
    {
     "name": "stderr",
     "output_type": "stream",
     "text": [
      ": FITSFixedWarning: 'obsfix' made the change 'Observatory coordinates incomplete'. [astropy.wcs.wcs]WARNING"
     ]
    },
    {
     "name": "stdout",
     "output_type": "stream",
     "text": [
      "Info: using provided WCS instead of converting header to WCS"
     ]
    },
    {
     "name": "stderr",
     "output_type": "stream",
     "text": [
      ": FITSFixedWarning: 'datfix' made the change 'Set MJD-OBS to 58837.406607 from DATE-OBS'. [astropy.wcs.wcs]"
     ]
    },
    {
     "name": "stdout",
     "output_type": "stream",
     "text": [
      "  Info: using provided WCS instead of converting header to WCS\n"
     ]
    },
    {
     "name": "stderr",
     "output_type": "stream",
     "text": [
      ": FITSFixedWarning: 'datfix' made the change 'Set MJD-OBS to 58827.396029 from DATE-OBS'. [astropy.wcs.wcs]\n",
      ": FITSFixedWarning: 'datfix' made the change 'Set MJD-OBS to 58830.570338 from DATE-OBS'. [astropy.wcs.wcs]\n"
     ]
    },
    {
     "name": "stdout",
     "output_type": "stream",
     "text": [
      "4.5000000001598432.4999999999974Info: using provided WCS instead of converting header to WCS\n",
      "Info: using provided WCS instead of converting header to WCS"
     ]
    },
    {
     "name": "stderr",
     "output_type": "stream",
     "text": [
      "\n",
      "WARNING"
     ]
    },
    {
     "name": "stdout",
     "output_type": "stream",
     "text": [
      "\n",
      "\n",
      "\n"
     ]
    },
    {
     "name": "stderr",
     "output_type": "stream",
     "text": [
      "WARNING"
     ]
    },
    {
     "name": "stdout",
     "output_type": "stream",
     "text": [
      "Min width/beam size (pixels):"
     ]
    },
    {
     "name": "stderr",
     "output_type": "stream",
     "text": [
      "WARNINGWARNINGWARNING\n",
      "WARNING"
     ]
    },
    {
     "name": "stdout",
     "output_type": "stream",
     "text": [
      "Getting minimum width from radio beam size"
     ]
    },
    {
     "name": "stderr",
     "output_type": "stream",
     "text": [
      "WARNING"
     ]
    },
    {
     "name": "stdout",
     "output_type": "stream",
     "text": [
      " "
     ]
    },
    {
     "name": "stderr",
     "output_type": "stream",
     "text": [
      ": FITSFixedWarning: 'obsfix' made the change 'Observatory coordinates incomplete'. [astropy.wcs.wcs]: FITSFixedWarning: 'datfix' made the change 'Set MJD-OBS to 58807.603859 from DATE-OBS'. [astropy.wcs.wcs]WARNING: FITSFixedWarning: 'datfix' made the change 'Set MJD-OBS to 58811.578396 from DATE-OBS'. [astropy.wcs.wcs]\n"
     ]
    },
    {
     "name": "stdout",
     "output_type": "stream",
     "text": [
      "\n",
      "4.500000000210241"
     ]
    },
    {
     "name": "stderr",
     "output_type": "stream",
     "text": [
      ": FITSFixedWarning: 'obsfix' made the change 'Observatory coordinates incomplete'. [astropy.wcs.wcs]: FITSFixedWarning: 'datfix' made the change 'Set MJD-OBS to 58910.235509 from DATE-OBS'. [astropy.wcs.wcs]\n",
      "WARNINGWARNING\n",
      ": FITSFixedWarning: 'datfix' made the change 'Set MJD-OBS to 58906.231702 from DATE-OBS'. [astropy.wcs.wcs]"
     ]
    },
    {
     "name": "stdout",
     "output_type": "stream",
     "text": [
      "\n"
     ]
    },
    {
     "name": "stderr",
     "output_type": "stream",
     "text": [
      "WARNING\n"
     ]
    },
    {
     "name": "stdout",
     "output_type": "stream",
     "text": [
      "Info: using provided WCS instead of converting header to WCS"
     ]
    },
    {
     "name": "stderr",
     "output_type": "stream",
     "text": [
      "WARNING\n",
      ": FITSFixedWarning: 'datfix' made the change 'Set MJD-OBS to 58855.371869 from DATE-OBS'. [astropy.wcs.wcs]WARNING"
     ]
    },
    {
     "name": "stdout",
     "output_type": "stream",
     "text": [
      "Getting minimum width from radio beam size"
     ]
    },
    {
     "name": "stderr",
     "output_type": "stream",
     "text": [
      ": FITSFixedWarning: 'datfix' made the change 'Set MJD-OBS to 58858.416048 from DATE-OBS'. [astropy.wcs.wcs]"
     ]
    },
    {
     "name": "stdout",
     "output_type": "stream",
     "text": [
      "\n"
     ]
    },
    {
     "name": "stderr",
     "output_type": "stream",
     "text": [
      ": FITSFixedWarning: 'datfix' made the change 'Set MJD-OBS to 58835.533518 from DATE-OBS'. [astropy.wcs.wcs]"
     ]
    },
    {
     "name": "stdout",
     "output_type": "stream",
     "text": [
      "Getting minimum width from radio beam size"
     ]
    },
    {
     "name": "stderr",
     "output_type": "stream",
     "text": [
      ": FITSFixedWarning: 'obsfix' made the change 'Observatory coordinates incomplete'. [astropy.wcs.wcs]: FITSFixedWarning: 'datfix' made the change 'Set MJD-OBS to 58855.352029 from DATE-OBS'. [astropy.wcs.wcs]"
     ]
    },
    {
     "name": "stdout",
     "output_type": "stream",
     "text": [
      "\n"
     ]
    },
    {
     "name": "stderr",
     "output_type": "stream",
     "text": [
      "WARNING\n",
      "WARNING\n"
     ]
    },
    {
     "name": "stdout",
     "output_type": "stream",
     "text": [
      "Info: using provided WCS instead of converting header to WCSGetting minimum width from radio beam size"
     ]
    },
    {
     "name": "stderr",
     "output_type": "stream",
     "text": [
      "\n",
      "\n",
      "\n",
      "WARNING: FITSFixedWarning: 'datfix' made the change 'Set MJD-OBS to 58832.392244 from DATE-OBS'. [astropy.wcs.wcs]"
     ]
    },
    {
     "name": "stdout",
     "output_type": "stream",
     "text": [
      "\n",
      "\n",
      "\n",
      "\n"
     ]
    },
    {
     "name": "stderr",
     "output_type": "stream",
     "text": [
      "WARNING\n"
     ]
    },
    {
     "name": "stdout",
     "output_type": "stream",
     "text": [
      "Getting minimum width from radio beam size"
     ]
    },
    {
     "name": "stderr",
     "output_type": "stream",
     "text": [
      "WARNING: FITSFixedWarning: 'obsfix' made the change 'Observatory coordinates incomplete'. [astropy.wcs.wcs]WARNING"
     ]
    },
    {
     "name": "stdout",
     "output_type": "stream",
     "text": [
      "\n"
     ]
    },
    {
     "name": "stderr",
     "output_type": "stream",
     "text": [
      "\n"
     ]
    },
    {
     "name": "stdout",
     "output_type": "stream",
     "text": [
      "Min width/beam size (pixels):"
     ]
    },
    {
     "name": "stderr",
     "output_type": "stream",
     "text": [
      ": FITSFixedWarning: 'obsfix' made the change 'Observatory coordinates incomplete'. [astropy.wcs.wcs]\n",
      "WARNINGWARNING: FITSFixedWarning: 'obsfix' made the change 'Observatory coordinates incomplete'. [astropy.wcs.wcs]\n"
     ]
    },
    {
     "name": "stdout",
     "output_type": "stream",
     "text": [
      " Min width/beam size (pixels):"
     ]
    },
    {
     "name": "stderr",
     "output_type": "stream",
     "text": [
      "\n",
      ": FITSFixedWarning: 'datfix' made the change 'Set MJD-OBS to 57729.380956 from DATE-OBS'. [astropy.wcs.wcs]: FITSFixedWarning: 'obsfix' made the change 'Observatory coordinates incomplete'. [astropy.wcs.wcs]: FITSFixedWarning: The WCS transformation has more axes (2) than the image it is associated with (0) [astropy.wcs.wcs]: FITSFixedWarning: 'datfix' made the change 'Set MJD-OBS to 58197.199664 from DATE-OBS'. [astropy.wcs.wcs]\n",
      ": FITSFixedWarning: 'obsfix' made the change 'Observatory coordinates incomplete'. [astropy.wcs.wcs]WARNING"
     ]
    },
    {
     "name": "stdout",
     "output_type": "stream",
     "text": [
      "Info: using provided WCS instead of converting header to WCS"
     ]
    },
    {
     "name": "stderr",
     "output_type": "stream",
     "text": [
      "\n",
      "\n"
     ]
    },
    {
     "name": "stdout",
     "output_type": "stream",
     "text": [
      "\n"
     ]
    },
    {
     "name": "stderr",
     "output_type": "stream",
     "text": [
      ": FITSFixedWarning: 'obsfix' made the change 'Observatory coordinates incomplete'. [astropy.wcs.wcs]"
     ]
    },
    {
     "name": "stdout",
     "output_type": "stream",
     "text": [
      " 4.50000000022464"
     ]
    },
    {
     "name": "stderr",
     "output_type": "stream",
     "text": [
      ": FITSFixedWarning: 'datfix' made the change 'Set MJD-OBS to 58184.283297 from DATE-OBS'. [astropy.wcs.wcs]: FITSFixedWarning: 'obsfix' made the change 'Observatory coordinates incomplete'. [astropy.wcs.wcs]: FITSFixedWarning: The WCS transformation has more axes (2) than the image it is associated with (0) [astropy.wcs.wcs]"
     ]
    },
    {
     "name": "stdout",
     "output_type": "stream",
     "text": [
      "Getting minimum width from radio beam size"
     ]
    },
    {
     "name": "stderr",
     "output_type": "stream",
     "text": [
      "WARNING: FITSFixedWarning: 'obsfix' made the change 'Observatory coordinates incomplete'. [astropy.wcs.wcs]\n",
      "\n",
      "WARNING"
     ]
    },
    {
     "name": "stdout",
     "output_type": "stream",
     "text": [
      "\n"
     ]
    },
    {
     "name": "stderr",
     "output_type": "stream",
     "text": [
      "\n",
      "\n",
      "\n",
      "WARNING: FITSFixedWarning: 'obsfix' made the change 'Observatory coordinates incomplete'. [astropy.wcs.wcs]\n"
     ]
    },
    {
     "name": "stdout",
     "output_type": "stream",
     "text": [
      "\n",
      "4.50000000009684"
     ]
    },
    {
     "name": "stderr",
     "output_type": "stream",
     "text": [
      "\n"
     ]
    },
    {
     "name": "stdout",
     "output_type": "stream",
     "text": [
      "Min width/beam size (pixels):"
     ]
    },
    {
     "name": "stderr",
     "output_type": "stream",
     "text": [
      "WARNING"
     ]
    },
    {
     "name": "stdout",
     "output_type": "stream",
     "text": [
      "Info: using provided WCS instead of converting header to WCS\n"
     ]
    },
    {
     "name": "stderr",
     "output_type": "stream",
     "text": [
      ": FITSFixedWarning: 'obsfix' made the change 'Observatory coordinates incomplete'. [astropy.wcs.wcs]"
     ]
    },
    {
     "name": "stdout",
     "output_type": "stream",
     "text": [
      "Info: using provided WCS instead of converting header to WCSInfo: using provided WCS instead of converting header to WCSInfo: using provided WCS instead of converting header to WCS"
     ]
    },
    {
     "name": "stderr",
     "output_type": "stream",
     "text": [
      "WARNING: FITSFixedWarning: 'obsfix' made the change 'Observatory coordinates incomplete'. [astropy.wcs.wcs]"
     ]
    },
    {
     "name": "stdout",
     "output_type": "stream",
     "text": [
      "\n",
      "Info: using provided WCS instead of converting header to WCSInfo: using provided WCS instead of converting header to WCS"
     ]
    },
    {
     "name": "stderr",
     "output_type": "stream",
     "text": [
      "WARNINGWARNING: FITSFixedWarning: 'datfix' made the change 'Set MJD-OBS to 57594.978228 from DATE-OBS'. [astropy.wcs.wcs]"
     ]
    },
    {
     "name": "stdout",
     "output_type": "stream",
     "text": [
      "Min width/beam size (pixels):Info: using provided WCS instead of converting header to WCS\n",
      "Min width/beam size (pixels):Min width/beam size (pixels):\n"
     ]
    },
    {
     "name": "stderr",
     "output_type": "stream",
     "text": [
      "\n",
      "\n"
     ]
    },
    {
     "name": "stdout",
     "output_type": "stream",
     "text": [
      "Min width/beam size (pixels): Getting minimum width from radio beam size"
     ]
    },
    {
     "name": "stderr",
     "output_type": "stream",
     "text": [
      "WARNING"
     ]
    },
    {
     "name": "stdout",
     "output_type": "stream",
     "text": [
      "Info: using provided WCS instead of converting header to WCS\n",
      "\n"
     ]
    },
    {
     "name": "stderr",
     "output_type": "stream",
     "text": [
      "\n",
      ": FITSFixedWarning: 'obsfix' made the change 'Observatory coordinates incomplete'. [astropy.wcs.wcs]\n"
     ]
    },
    {
     "name": "stdout",
     "output_type": "stream",
     "text": [
      " "
     ]
    },
    {
     "name": "stderr",
     "output_type": "stream",
     "text": [
      "WARNING: FITSFixedWarning: 'obsfix' made the change 'Observatory coordinates incomplete'. [astropy.wcs.wcs]\n"
     ]
    },
    {
     "name": "stdout",
     "output_type": "stream",
     "text": [
      "Getting minimum width from radio beam sizeInfo: using provided WCS instead of converting header to WCS"
     ]
    },
    {
     "name": "stderr",
     "output_type": "stream",
     "text": [
      ": FITSFixedWarning: The WCS transformation has more axes (2) than the image it is associated with (0) [astropy.wcs.wcs]"
     ]
    },
    {
     "name": "stdout",
     "output_type": "stream",
     "text": [
      "Getting minimum width from radio beam size\n",
      " \n",
      "\n",
      "Info: using provided WCS instead of converting header to WCSGetting minimum width from radio beam sizeGetting minimum width from radio beam size"
     ]
    },
    {
     "name": "stderr",
     "output_type": "stream",
     "text": [
      "\n"
     ]
    },
    {
     "name": "stdout",
     "output_type": "stream",
     "text": [
      "4.50000000044063954.50000000019764"
     ]
    },
    {
     "name": "stderr",
     "output_type": "stream",
     "text": [
      ": FITSFixedWarning: 'datfix' made the change 'Set MJD-OBS to 58203.170749 from DATE-OBS'. [astropy.wcs.wcs]"
     ]
    },
    {
     "name": "stdout",
     "output_type": "stream",
     "text": [
      "\n",
      "\n",
      "Getting minimum width from radio beam sizeGetting minimum width from radio beam size\n",
      "4.49773120432584\n",
      "\n"
     ]
    },
    {
     "name": "stderr",
     "output_type": "stream",
     "text": [
      "WARNINGWARNING: FITSFixedWarning: The WCS transformation has more axes (2) than the image it is associated with (0) [astropy.wcs.wcs]\n"
     ]
    },
    {
     "name": "stdout",
     "output_type": "stream",
     "text": [
      "\n"
     ]
    },
    {
     "name": "stderr",
     "output_type": "stream",
     "text": [
      ": FITSFixedWarning: 'obsfix' made the change 'Observatory coordinates incomplete'. [astropy.wcs.wcs]"
     ]
    },
    {
     "name": "stdout",
     "output_type": "stream",
     "text": [
      "\n"
     ]
    },
    {
     "name": "stderr",
     "output_type": "stream",
     "text": [
      "\n"
     ]
    },
    {
     "name": "stdout",
     "output_type": "stream",
     "text": [
      "\n",
      "\n",
      "Info: using provided WCS instead of converting header to WCSGetting minimum width from radio beam size\n",
      " Getting minimum width from radio beam size"
     ]
    },
    {
     "name": "stderr",
     "output_type": "stream",
     "text": [
      ": FITSFixedWarning: 'obsfix' made the change 'Observatory coordinates incomplete'. [astropy.wcs.wcs]WARNING\n"
     ]
    },
    {
     "name": "stdout",
     "output_type": "stream",
     "text": [
      "Info: using provided WCS instead of converting header to WCSGetting minimum width from radio beam size\n",
      "\n",
      "\n"
     ]
    },
    {
     "name": "stderr",
     "output_type": "stream",
     "text": [
      "\n"
     ]
    },
    {
     "name": "stdout",
     "output_type": "stream",
     "text": [
      "Info: Inclination greater than i_threshold. Fitting rectangles along major axis instead of ellipses/annuli\n",
      "Min width/beam size (pixels):"
     ]
    },
    {
     "name": "stderr",
     "output_type": "stream",
     "text": [
      ": FITSFixedWarning: 'obsfix' made the change 'Observatory coordinates incomplete'. [astropy.wcs.wcs]\n"
     ]
    },
    {
     "name": "stdout",
     "output_type": "stream",
     "text": [
      "Min width/beam size (pixels):\n",
      "Info: using provided WCS instead of converting header to WCS\n",
      "\n",
      "Getting minimum width from radio beam size\n",
      "Info: using provided WCS instead of converting header to WCS"
     ]
    },
    {
     "name": "stderr",
     "output_type": "stream",
     "text": [
      "\n"
     ]
    },
    {
     "name": "stdout",
     "output_type": "stream",
     "text": [
      "4.50000000014904\n",
      "Min width/beam size (pixels):"
     ]
    },
    {
     "name": "stderr",
     "output_type": "stream",
     "text": [
      "/arc/home/IsaacCheng/coop_f2021/packages/radial_profile_utils.py:607: RuntimeWarning: invalid value encountered in double_scalars\n",
      "  avg_signal = avg_signal / np.nansum(signal_area_mask)\n"
     ]
    },
    {
     "name": "stdout",
     "output_type": "stream",
     "text": [
      "  "
     ]
    },
    {
     "name": "stderr",
     "output_type": "stream",
     "text": [
      "WARNING"
     ]
    },
    {
     "name": "stdout",
     "output_type": "stream",
     "text": [
      "Min width/beam size (pixels):\n",
      "Min width/beam size (pixels):Info: Inclination greater than i_threshold. Fitting rectangles along major axis instead of ellipses/annuliInfo: using provided WCS instead of converting header to WCSInfo: using provided WCS instead of converting header to WCS"
     ]
    },
    {
     "name": "stderr",
     "output_type": "stream",
     "text": [
      "\n"
     ]
    },
    {
     "name": "stdout",
     "output_type": "stream",
     "text": [
      "\n",
      "Min width/beam size (pixels):Min width/beam size (pixels):Getting minimum width from radio beam sizeInfo: using provided WCS instead of converting header to WCSGetting minimum width from radio beam size\n",
      "\n",
      "4.50000000014004Getting minimum width from radio beam size "
     ]
    },
    {
     "name": "stderr",
     "output_type": "stream",
     "text": [
      ": FITSFixedWarning: 'obsfix' made the change 'Observatory coordinates incomplete'. [astropy.wcs.wcs]"
     ]
    },
    {
     "name": "stdout",
     "output_type": "stream",
     "text": [
      " \n",
      " 4.50000000012024Min width/beam size (pixels):  \n",
      "\n",
      "Min width/beam size (pixels):Min width/beam size (pixels):"
     ]
    },
    {
     "name": "stderr",
     "output_type": "stream",
     "text": [
      "\n"
     ]
    },
    {
     "name": "stdout",
     "output_type": "stream",
     "text": [
      "\n"
     ]
    },
    {
     "name": "stderr",
     "output_type": "stream",
     "text": [
      "/arc/home/IsaacCheng/coop_f2021/packages/radial_profile_utils.py:555: RuntimeWarning: invalid value encountered in true_divide\n",
      "  bootstraps = bootstraps / np.nansum(_area)\n"
     ]
    },
    {
     "name": "stdout",
     "output_type": "stream",
     "text": [
      "4.50000000015804\n",
      "4.500000000163444.50000000011664\n",
      "\n",
      " Getting minimum width from radio beam size\n",
      " \n",
      "Height (pixels):Getting minimum width from radio beam sizeMin width/beam size (pixels):4.500000000219244.50000000012564 Info: Inclination greater than i_threshold. Fitting rectangles along major axis instead of ellipses/annuliInfo: using provided WCS instead of converting header to WCS \n"
     ]
    },
    {
     "name": "stderr",
     "output_type": "stream",
     "text": [
      "WARNING"
     ]
    },
    {
     "name": "stdout",
     "output_type": "stream",
     "text": [
      "Getting minimum width from radio beam size\n",
      "\n",
      "4.5000000000752394.50000000019044 \n",
      " \n",
      "Getting minimum width from radio beam size\n",
      "Height (pixels):4.500000000203044.50000000016344"
     ]
    },
    {
     "name": "stderr",
     "output_type": "stream",
     "text": [
      "/opt/conda/lib/python3.8/site-packages/numpy/lib/nanfunctions.py:1664: RuntimeWarning: Degrees of freedom <= 0 for slice.\n",
      "  var = nanvar(a, axis=axis, dtype=dtype, out=out, ddof=ddof,\n"
     ]
    },
    {
     "name": "stdout",
     "output_type": "stream",
     "text": [
      "\n",
      "Min width/beam size (pixels):\n"
     ]
    },
    {
     "name": "stderr",
     "output_type": "stream",
     "text": [
      ": FITSFixedWarning: 'datfix' made the change 'Set MJD-OBS to 58837.456786 from DATE-OBS'. [astropy.wcs.wcs]"
     ]
    },
    {
     "name": "stdout",
     "output_type": "stream",
     "text": [
      "\n",
      "39.9999999999968\n",
      "4.50000000012204Min width/beam size (pixels):Info: Inclination greater than i_threshold. Fitting rectangles along major axis instead of ellipses/annuli\n",
      " \n",
      "\n",
      " Min width/beam size (pixels):Getting minimum width from radio beam size"
     ]
    },
    {
     "name": "stderr",
     "output_type": "stream",
     "text": [
      "\n"
     ]
    },
    {
     "name": "stdout",
     "output_type": "stream",
     "text": [
      "\n",
      "Info: using provided WCS instead of converting header to WCS Info: Inclination greater than i_threshold. Fitting rectangles along major axis instead of ellipses/annuli\n",
      "\n",
      "\n",
      "Info: Inclination greater than i_threshold. Fitting rectangles along major axis instead of ellipses/annuli4.5000000002840395 Min width/beam size (pixels):\n",
      "\n",
      "\n",
      "\n",
      "\n",
      "34.9999999999972 4.50000000020844Getting minimum width from radio beam sizeMin width/beam size (pixels):4.500000000179639\n"
     ]
    },
    {
     "name": "stderr",
     "output_type": "stream",
     "text": [
      "WARNING"
     ]
    },
    {
     "name": "stdout",
     "output_type": "stream",
     "text": [
      "\n",
      " Info: Inclination greater than i_threshold. Fitting rectangles along major axis instead of ellipses/annuliMin width/beam size (pixels):Info: Inclination greater than i_threshold. Fitting rectangles along major axis instead of ellipses/annuli"
     ]
    },
    {
     "name": "stderr",
     "output_type": "stream",
     "text": [
      ": FITSFixedWarning: 'obsfix' made the change 'Observatory coordinates incomplete'. [astropy.wcs.wcs]"
     ]
    },
    {
     "name": "stdout",
     "output_type": "stream",
     "text": [
      "\n",
      "\n",
      " \n",
      "4.50000000016704\n"
     ]
    },
    {
     "name": "stderr",
     "output_type": "stream",
     "text": [
      "\n"
     ]
    },
    {
     "name": "stdout",
     "output_type": "stream",
     "text": [
      "4.50000000017604\n",
      "\n",
      "Height (pixels):Height (pixels):Height (pixels):Info: using provided WCS instead of converting header to WCS Min width/beam size (pixels):Min width/beam size (pixels):  Height (pixels):\n",
      "19.999999999998421.49999999999828 18.999999999998483Min width/beam size (pixels): 4.500000000188639\n",
      "Getting minimum width from radio beam size\n",
      "Height (pixels):\n",
      "27.4999999999978\n",
      "  \n",
      "\n",
      "Info: Inclination greater than i_threshold. Fitting rectangles along major axis instead of ellipses/annuli\n",
      " 5.092956068889193\n",
      "12.499999999999002\n",
      "\n",
      "4.50000000027684Height (pixels):Min width/beam size (pixels):Height (pixels):  \n",
      "4.5000000001616405 29.9999999999976024.50000000021924\n",
      "\n",
      "\n",
      "22.499999999998202\n"
     ]
    },
    {
     "name": "stderr",
     "output_type": "stream",
     "text": [
      "WARNING: FITSFixedWarning: The WCS transformation has more axes (2) than the image it is associated with (0) [astropy.wcs.wcs]WARNINGWARNINGWARNING: FITSFixedWarning: 'datfix' made the change 'Set MJD-OBS to 58029.684441 from DATE-OBS'. [astropy.wcs.wcs]WARNING: FITSFixedWarning: 'datfix' made the change 'Set MJD-OBS to 58125.480975 from DATE-OBS'. [astropy.wcs.wcs]\n",
      "\n",
      "WARNINGWARNING: FITSFixedWarning: 'obsfix' made the change 'Observatory coordinates incomplete'. [astropy.wcs.wcs]: FITSFixedWarning: 'obsfix' made the change 'Observatory coordinates incomplete'. [astropy.wcs.wcs]\n",
      "\n",
      "WARNING: FITSFixedWarning: 'datfix' made the change 'Set MJD-OBS to 58119.389391 from DATE-OBS'. [astropy.wcs.wcs]\n"
     ]
    },
    {
     "name": "stdout",
     "output_type": "stream",
     "text": [
      "Info: using provided WCS instead of converting header to WCSInfo: using provided WCS instead of converting header to WCS\n",
      "\n",
      "Getting minimum width from radio beam sizeGetting minimum width from radio beam size\n",
      "\n"
     ]
    },
    {
     "name": "stderr",
     "output_type": "stream",
     "text": [
      "WARNING: FITSFixedWarning: 'obsfix' made the change 'Observatory coordinates incomplete'. [astropy.wcs.wcs]\n"
     ]
    },
    {
     "name": "stdout",
     "output_type": "stream",
     "text": [
      "Min width/beam size (pixels):Min width/beam size (pixels):  Info: using provided WCS instead of converting header to WCS4.500000000233644.50000000013464\n",
      "\n",
      "\n",
      "Getting minimum width from radio beam size\n",
      "Min width/beam size (pixels): 4.50000000018684\n",
      "Done\n"
     ]
    }
   ],
   "source": [
    "# \n",
    "# Set the following 2 parameters\n",
    "# \n",
    "calc_avg_uncertainty = True  # if True, calculate average uncertainty in annulus instead\n",
    "include_masked_regions = False  # if True, include masked regions as zeros\n",
    "# \n",
    "if calc_avg_uncertainty:\n",
    "    unc_str = \"_unc\"\n",
    "else:\n",
    "    unc_str = \"\"\n",
    "if include_masked_regions:\n",
    "    incl_bad_str = \"\"\n",
    "else:\n",
    "    incl_bad_str = \"_noIncludeBad\"\n",
    "# \n",
    "with Pool(processes=None) as p:\n",
    "    radial_profiles, centers, annulus_widths_arcsec = zip(\n",
    "        *p.starmap(\n",
    "            get_gas_frac_rp,\n",
    "            zip(\n",
    "                GALAXIES,\n",
    "                INCLINATIONS,\n",
    "                POSITION_ANGLES,\n",
    "                n_annulis,\n",
    "                repeat(calc_avg_uncertainty),\n",
    "                repeat(include_masked_regions),\n",
    "            ),\n",
    "        )\n",
    "    )\n",
    "radial_profiles = list(radial_profiles)\n",
    "centers = list(centers)\n",
    "annulus_widths_arcsec = list(annulus_widths_arcsec)\n",
    "print(\"Done\")\n"
   ]
  },
  {
   "cell_type": "markdown",
   "id": "golden-balloon",
   "metadata": {},
   "source": [
    "Save the results for all NGVS-VERTICO galaxies into 1 pickle file.\n"
   ]
  },
  {
   "cell_type": "code",
   "execution_count": 6,
   "id": "statutory-accused",
   "metadata": {},
   "outputs": [
    {
     "name": "stdout",
     "output_type": "stream",
     "text": [
      "Pickled /arc/home/IsaacCheng/coop_f2021/compiled_results/gas_fraction_profiles/gas_fraction_unc_i_corr_NGVS-VERTICO_noNorm_noIncludeBad.pkl\n"
     ]
    }
   ],
   "source": [
    "gas_fraction_outfile = GAS_FRAC_PATH + f\"gas_fraction{unc_str}_i_corr_NGVS-VERTICO_noNorm{incl_bad_str}.pkl\"\n",
    "with open(gas_fraction_outfile, \"wb\") as f:\n",
    "    dill.dump(\n",
    "        {\n",
    "            \"galaxies\": GALAXIES,\n",
    "            \"inclinations\": INCLINATIONS,\n",
    "            \"position_angles\": POSITION_ANGLES,\n",
    "            \"radial_profiles\": radial_profiles,\n",
    "            \"centers\": centers,\n",
    "            \"annulus_widths_arcsec\": annulus_widths_arcsec,\n",
    "            \"n_annulis\": n_annulis,\n",
    "        },\n",
    "        f\n",
    "    )\n",
    "print(\"Pickled\", gas_fraction_outfile)"
   ]
  },
  {
   "cell_type": "markdown",
   "id": "backed-thought",
   "metadata": {},
   "source": [
    "## Make 1 gas fraction radial profile per galaxy\n"
   ]
  },
  {
   "cell_type": "markdown",
   "id": "continued-benjamin",
   "metadata": {},
   "source": [
    "Plot radial profiles of gas fraction.\n"
   ]
  },
  {
   "cell_type": "code",
   "execution_count": 2,
   "id": "innocent-queen",
   "metadata": {
    "collapsed": true,
    "jupyter": {
     "outputs_hidden": true
    }
   },
   "outputs": [
    {
     "name": "stderr",
     "output_type": "stream",
     "text": [
      "WARNING: FITSFixedWarning: The WCS transformation has more axes (2) than the image it is associated with (0) [astropy.wcs.wcs]\n",
      "WARNING: FITSFixedWarning: 'datfix' made the change 'Set MJD-OBS to 58857.486979 from DATE-OBS'. [astropy.wcs.wcs]\n",
      "WARNING: FITSFixedWarning: 'obsfix' made the change 'Observatory coordinates incomplete'. [astropy.wcs.wcs]\n",
      "WARNING: FITSFixedWarning: 'datfix' made the change 'Set MJD-OBS to 58821.370833 from DATE-OBS'. [astropy.wcs.wcs]\n",
      "WARNING: FITSFixedWarning: 'obsfix' made the change 'Observatory coordinates incomplete'. [astropy.wcs.wcs]\n",
      "WARNING: FITSFixedWarning: 'datfix' made the change 'Set MJD-OBS to 58822.371327 from DATE-OBS'. [astropy.wcs.wcs]\n",
      "WARNING: FITSFixedWarning: 'obsfix' made the change 'Observatory coordinates incomplete'. [astropy.wcs.wcs]\n",
      "WARNING: FITSFixedWarning: 'datfix' made the change 'Set MJD-OBS to 58832.392244 from DATE-OBS'. [astropy.wcs.wcs]\n",
      "WARNING: FITSFixedWarning: 'obsfix' made the change 'Observatory coordinates incomplete'. [astropy.wcs.wcs]\n",
      "WARNING: FITSFixedWarning: 'datfix' made the change 'Set MJD-OBS to 57613.735997 from DATE-OBS'. [astropy.wcs.wcs]\n",
      "WARNING: FITSFixedWarning: 'obsfix' made the change 'Observatory coordinates incomplete'. [astropy.wcs.wcs]\n",
      "WARNING: FITSFixedWarning: 'datfix' made the change 'Set MJD-OBS to 58855.352029 from DATE-OBS'. [astropy.wcs.wcs]\n",
      "WARNING: FITSFixedWarning: 'obsfix' made the change 'Observatory coordinates incomplete'. [astropy.wcs.wcs]\n",
      "WARNING: FITSFixedWarning: 'datfix' made the change 'Set MJD-OBS to 58125.369839 from DATE-OBS'. [astropy.wcs.wcs]\n",
      "WARNING: FITSFixedWarning: 'obsfix' made the change 'Observatory coordinates incomplete'. [astropy.wcs.wcs]\n",
      "WARNING: FITSFixedWarning: 'datfix' made the change 'Set MJD-OBS to 58786.495183 from DATE-OBS'. [astropy.wcs.wcs]\n",
      "WARNING: FITSFixedWarning: 'obsfix' made the change 'Observatory coordinates incomplete'. [astropy.wcs.wcs]\n",
      "WARNING: FITSFixedWarning: 'datfix' made the change 'Set MJD-OBS to 58827.396029 from DATE-OBS'. [astropy.wcs.wcs]\n",
      "WARNING: FITSFixedWarning: 'obsfix' made the change 'Observatory coordinates incomplete'. [astropy.wcs.wcs]\n",
      "WARNING: FITSFixedWarning: 'datfix' made the change 'Set MJD-OBS to 57594.978228 from DATE-OBS'. [astropy.wcs.wcs]\n",
      "WARNING: FITSFixedWarning: 'obsfix' made the change 'Observatory coordinates incomplete'. [astropy.wcs.wcs]\n",
      "WARNING: FITSFixedWarning: 'datfix' made the change 'Set MJD-OBS to 58811.578396 from DATE-OBS'. [astropy.wcs.wcs]\n",
      "WARNING: FITSFixedWarning: 'obsfix' made the change 'Observatory coordinates incomplete'. [astropy.wcs.wcs]\n",
      "WARNING: FITSFixedWarning: 'datfix' made the change 'Set MJD-OBS to 58837.406607 from DATE-OBS'. [astropy.wcs.wcs]\n",
      "WARNING: FITSFixedWarning: 'obsfix' made the change 'Observatory coordinates incomplete'. [astropy.wcs.wcs]\n",
      "WARNING: FITSFixedWarning: 'datfix' made the change 'Set MJD-OBS to 58823.434418 from DATE-OBS'. [astropy.wcs.wcs]\n",
      "WARNING: FITSFixedWarning: 'obsfix' made the change 'Observatory coordinates incomplete'. [astropy.wcs.wcs]\n",
      "WARNING: FITSFixedWarning: 'datfix' made the change 'Set MJD-OBS to 58838.438545 from DATE-OBS'. [astropy.wcs.wcs]\n",
      "WARNING: FITSFixedWarning: 'obsfix' made the change 'Observatory coordinates incomplete'. [astropy.wcs.wcs]\n",
      "WARNING: FITSFixedWarning: 'datfix' made the change 'Set MJD-OBS to 58839.379235 from DATE-OBS'. [astropy.wcs.wcs]\n",
      "WARNING: FITSFixedWarning: 'obsfix' made the change 'Observatory coordinates incomplete'. [astropy.wcs.wcs]\n",
      "WARNING: FITSFixedWarning: 'datfix' made the change 'Set MJD-OBS to 58858.416048 from DATE-OBS'. [astropy.wcs.wcs]\n",
      "WARNING: FITSFixedWarning: 'obsfix' made the change 'Observatory coordinates incomplete'. [astropy.wcs.wcs]\n",
      "WARNING: FITSFixedWarning: 'datfix' made the change 'Set MJD-OBS to 57729.380956 from DATE-OBS'. [astropy.wcs.wcs]\n",
      "WARNING: FITSFixedWarning: 'obsfix' made the change 'Observatory coordinates incomplete'. [astropy.wcs.wcs]\n",
      "WARNING: FITSFixedWarning: 'datfix' made the change 'Set MJD-OBS to 58800.586857 from DATE-OBS'. [astropy.wcs.wcs]\n",
      "WARNING: FITSFixedWarning: 'obsfix' made the change 'Observatory coordinates incomplete'. [astropy.wcs.wcs]\n",
      "WARNING: FITSFixedWarning: 'datfix' made the change 'Set MJD-OBS to 58855.371869 from DATE-OBS'. [astropy.wcs.wcs]\n",
      "WARNING: FITSFixedWarning: 'obsfix' made the change 'Observatory coordinates incomplete'. [astropy.wcs.wcs]\n",
      "WARNING: FITSFixedWarning: 'datfix' made the change 'Set MJD-OBS to 58034.639742 from DATE-OBS'. [astropy.wcs.wcs]\n",
      "WARNING: FITSFixedWarning: 'obsfix' made the change 'Observatory coordinates incomplete'. [astropy.wcs.wcs]\n",
      "WARNING: FITSFixedWarning: 'datfix' made the change 'Set MJD-OBS to 58906.231702 from DATE-OBS'. [astropy.wcs.wcs]\n",
      "WARNING: FITSFixedWarning: 'obsfix' made the change 'Observatory coordinates incomplete'. [astropy.wcs.wcs]\n",
      "WARNING: FITSFixedWarning: 'datfix' made the change 'Set MJD-OBS to 58910.235509 from DATE-OBS'. [astropy.wcs.wcs]\n",
      "WARNING: FITSFixedWarning: 'obsfix' made the change 'Observatory coordinates incomplete'. [astropy.wcs.wcs]\n",
      "WARNING: FITSFixedWarning: 'datfix' made the change 'Set MJD-OBS to 58835.533518 from DATE-OBS'. [astropy.wcs.wcs]\n",
      "WARNING: FITSFixedWarning: 'obsfix' made the change 'Observatory coordinates incomplete'. [astropy.wcs.wcs]\n",
      "WARNING: FITSFixedWarning: 'datfix' made the change 'Set MJD-OBS to 58820.540981 from DATE-OBS'. [astropy.wcs.wcs]\n",
      "WARNING: FITSFixedWarning: 'obsfix' made the change 'Observatory coordinates incomplete'. [astropy.wcs.wcs]\n",
      "WARNING: FITSFixedWarning: 'datfix' made the change 'Set MJD-OBS to 57524.101317 from DATE-OBS'. [astropy.wcs.wcs]\n",
      "WARNING: FITSFixedWarning: 'obsfix' made the change 'Observatory coordinates incomplete'. [astropy.wcs.wcs]\n",
      "WARNING: FITSFixedWarning: 'datfix' made the change 'Set MJD-OBS to 58197.199664 from DATE-OBS'. [astropy.wcs.wcs]\n",
      "WARNING: FITSFixedWarning: 'obsfix' made the change 'Observatory coordinates incomplete'. [astropy.wcs.wcs]\n",
      "WARNING: FITSFixedWarning: 'datfix' made the change 'Set MJD-OBS to 58771.720579 from DATE-OBS'. [astropy.wcs.wcs]\n",
      "WARNING: FITSFixedWarning: 'obsfix' made the change 'Observatory coordinates incomplete'. [astropy.wcs.wcs]\n",
      "WARNING: FITSFixedWarning: 'datfix' made the change 'Set MJD-OBS to 58807.603859 from DATE-OBS'. [astropy.wcs.wcs]\n",
      "WARNING: FITSFixedWarning: 'obsfix' made the change 'Observatory coordinates incomplete'. [astropy.wcs.wcs]\n",
      "WARNING: FITSFixedWarning: 'datfix' made the change 'Set MJD-OBS to 58203.170749 from DATE-OBS'. [astropy.wcs.wcs]\n",
      "WARNING: FITSFixedWarning: 'obsfix' made the change 'Observatory coordinates incomplete'. [astropy.wcs.wcs]\n",
      "WARNING: FITSFixedWarning: 'datfix' made the change 'Set MJD-OBS to 58184.283297 from DATE-OBS'. [astropy.wcs.wcs]\n",
      "WARNING: FITSFixedWarning: 'obsfix' made the change 'Observatory coordinates incomplete'. [astropy.wcs.wcs]\n",
      "WARNING: FITSFixedWarning: 'datfix' made the change 'Set MJD-OBS to 58830.570338 from DATE-OBS'. [astropy.wcs.wcs]\n",
      "WARNING: FITSFixedWarning: 'obsfix' made the change 'Observatory coordinates incomplete'. [astropy.wcs.wcs]\n",
      "WARNING: FITSFixedWarning: 'datfix' made the change 'Set MJD-OBS to 58771.655996 from DATE-OBS'. [astropy.wcs.wcs]\n",
      "WARNING: FITSFixedWarning: 'obsfix' made the change 'Observatory coordinates incomplete'. [astropy.wcs.wcs]\n",
      "WARNING: FITSFixedWarning: 'datfix' made the change 'Set MJD-OBS to 58837.456786 from DATE-OBS'. [astropy.wcs.wcs]\n",
      "WARNING: FITSFixedWarning: 'obsfix' made the change 'Observatory coordinates incomplete'. [astropy.wcs.wcs]\n",
      "WARNING: FITSFixedWarning: 'datfix' made the change 'Set MJD-OBS to 58119.389391 from DATE-OBS'. [astropy.wcs.wcs]\n",
      "WARNING: FITSFixedWarning: 'obsfix' made the change 'Observatory coordinates incomplete'. [astropy.wcs.wcs]\n",
      "WARNING: FITSFixedWarning: 'datfix' made the change 'Set MJD-OBS to 58125.480975 from DATE-OBS'. [astropy.wcs.wcs]\n",
      "WARNING: FITSFixedWarning: 'obsfix' made the change 'Observatory coordinates incomplete'. [astropy.wcs.wcs]\n",
      "WARNING: FITSFixedWarning: 'datfix' made the change 'Set MJD-OBS to 58029.684441 from DATE-OBS'. [astropy.wcs.wcs]\n",
      "WARNING: FITSFixedWarning: 'obsfix' made the change 'Observatory coordinates incomplete'. [astropy.wcs.wcs]\n"
     ]
    }
   ],
   "source": [
    "# \n",
    "# Load gas fraction values\n",
    "# \n",
    "PLOT_INCLUDE_BAD = False  # determines pickle file to use\n",
    "# \n",
    "if PLOT_INCLUDE_BAD:\n",
    "    incl_bad_str = \"\"\n",
    "else:\n",
    "    incl_bad_str = \"_noIncludeBad\"\n",
    "#\n",
    "gas_fraction_outfile = GAS_FRAC_PATH + f\"gas_fraction_i_corr_NGVS-VERTICO_noNorm{incl_bad_str}.pkl\"\n",
    "with open(gas_fraction_outfile, \"rb\") as f:\n",
    "    file = dill.load(f)\n",
    "    galaxies = file[\"galaxies\"]\n",
    "    inclinations = file[\"inclinations\"]\n",
    "    position_angles = file[\"position_angles\"]\n",
    "    centers = file[\"centers\"]\n",
    "    radial_profiles = file[\"radial_profiles\"]\n",
    "    annulus_widths_arcsec = file[\"annulus_widths_arcsec\"]\n",
    "    file = None  # free memory\n",
    "# \n",
    "# Calculate radii of annuli in kpc\n",
    "# \n",
    "radius_kpc = []\n",
    "galaxies_wcs = []\n",
    "for galname in galaxies:\n",
    "    galidx = np.where(galaxies == galname)[0]\n",
    "    if galidx.size != 1:\n",
    "        raise ValueError(f\"More than 1 galaxy matched with name {galname} at indices {galidx}\")\n",
    "    galidx = galidx[0]\n",
    "    tmp_gal_wcs = WCS(radial_profiles[galidx].rp_options[\"header\"])\n",
    "    galaxies_wcs.append(tmp_gal_wcs)\n",
    "    px_to_kpc = fu.calc_pc_per_px(tmp_gal_wcs, GALDIST)[0][0] / 1000\n",
    "    radius_kpc.append(radial_profiles[galidx].radii * px_to_kpc)\n",
    "\n",
    "I_THRESHOLD = 80  # degree"
   ]
  },
  {
   "cell_type": "code",
   "execution_count": 3,
   "id": "presidential-briefing",
   "metadata": {
    "collapsed": true,
    "jupyter": {
     "outputs_hidden": true
    }
   },
   "outputs": [
    {
     "name": "stdout",
     "output_type": "stream",
     "text": [
      "Plotting IC3392\n"
     ]
    },
    {
     "name": "stderr",
     "output_type": "stream",
     "text": [
      "WARNING: FITSFixedWarning: 'datfix' made the change 'Set MJD-OBS to 58857.486979 from DATE-OBS'. [astropy.wcs.wcs]\n",
      "WARNING: FITSFixedWarning: 'obsfix' made the change 'Observatory coordinates incomplete'. [astropy.wcs.wcs]\n"
     ]
    },
    {
     "name": "stdout",
     "output_type": "stream",
     "text": [
      "Plotting NGC4192\n"
     ]
    },
    {
     "name": "stderr",
     "output_type": "stream",
     "text": [
      "WARNING: FITSFixedWarning: 'datfix' made the change 'Set MJD-OBS to 58821.370833 from DATE-OBS'. [astropy.wcs.wcs]\n",
      "WARNING: FITSFixedWarning: 'obsfix' made the change 'Observatory coordinates incomplete'. [astropy.wcs.wcs]\n"
     ]
    },
    {
     "name": "stdout",
     "output_type": "stream",
     "text": [
      "Plotting NGC4216\n"
     ]
    },
    {
     "name": "stderr",
     "output_type": "stream",
     "text": [
      "WARNING: FITSFixedWarning: 'datfix' made the change 'Set MJD-OBS to 58822.371327 from DATE-OBS'. [astropy.wcs.wcs]\n",
      "WARNING: FITSFixedWarning: 'obsfix' made the change 'Observatory coordinates incomplete'. [astropy.wcs.wcs]\n"
     ]
    },
    {
     "name": "stdout",
     "output_type": "stream",
     "text": [
      "Plotting NGC4222\n"
     ]
    },
    {
     "name": "stderr",
     "output_type": "stream",
     "text": [
      "WARNING: FITSFixedWarning: 'datfix' made the change 'Set MJD-OBS to 58832.392244 from DATE-OBS'. [astropy.wcs.wcs]\n",
      "WARNING: FITSFixedWarning: 'obsfix' made the change 'Observatory coordinates incomplete'. [astropy.wcs.wcs]\n"
     ]
    },
    {
     "name": "stdout",
     "output_type": "stream",
     "text": [
      "Plotting NGC4254\n"
     ]
    },
    {
     "name": "stderr",
     "output_type": "stream",
     "text": [
      "WARNING: FITSFixedWarning: 'datfix' made the change 'Set MJD-OBS to 57613.735997 from DATE-OBS'. [astropy.wcs.wcs]\n",
      "WARNING: FITSFixedWarning: 'obsfix' made the change 'Observatory coordinates incomplete'. [astropy.wcs.wcs]\n"
     ]
    },
    {
     "name": "stdout",
     "output_type": "stream",
     "text": [
      "Plotting NGC4294\n"
     ]
    },
    {
     "name": "stderr",
     "output_type": "stream",
     "text": [
      "WARNING: FITSFixedWarning: 'datfix' made the change 'Set MJD-OBS to 58855.352029 from DATE-OBS'. [astropy.wcs.wcs]\n",
      "WARNING: FITSFixedWarning: 'obsfix' made the change 'Observatory coordinates incomplete'. [astropy.wcs.wcs]\n"
     ]
    },
    {
     "name": "stdout",
     "output_type": "stream",
     "text": [
      "Plotting NGC4298\n"
     ]
    },
    {
     "name": "stderr",
     "output_type": "stream",
     "text": [
      "WARNING: FITSFixedWarning: 'datfix' made the change 'Set MJD-OBS to 58125.369839 from DATE-OBS'. [astropy.wcs.wcs]\n",
      "WARNING: FITSFixedWarning: 'obsfix' made the change 'Observatory coordinates incomplete'. [astropy.wcs.wcs]\n"
     ]
    },
    {
     "name": "stdout",
     "output_type": "stream",
     "text": [
      "Plotting NGC4299\n"
     ]
    },
    {
     "name": "stderr",
     "output_type": "stream",
     "text": [
      "WARNING: FITSFixedWarning: 'datfix' made the change 'Set MJD-OBS to 58786.495183 from DATE-OBS'. [astropy.wcs.wcs]\n",
      "WARNING: FITSFixedWarning: 'obsfix' made the change 'Observatory coordinates incomplete'. [astropy.wcs.wcs]\n"
     ]
    },
    {
     "name": "stdout",
     "output_type": "stream",
     "text": [
      "Plotting NGC4302\n"
     ]
    },
    {
     "name": "stderr",
     "output_type": "stream",
     "text": [
      "WARNING: FITSFixedWarning: 'datfix' made the change 'Set MJD-OBS to 58827.396029 from DATE-OBS'. [astropy.wcs.wcs]\n",
      "WARNING: FITSFixedWarning: 'obsfix' made the change 'Observatory coordinates incomplete'. [astropy.wcs.wcs]\n"
     ]
    },
    {
     "name": "stdout",
     "output_type": "stream",
     "text": [
      "Plotting NGC4321\n"
     ]
    },
    {
     "name": "stderr",
     "output_type": "stream",
     "text": [
      "WARNING: FITSFixedWarning: 'datfix' made the change 'Set MJD-OBS to 57594.978228 from DATE-OBS'. [astropy.wcs.wcs]\n",
      "WARNING: FITSFixedWarning: 'obsfix' made the change 'Observatory coordinates incomplete'. [astropy.wcs.wcs]\n"
     ]
    },
    {
     "name": "stdout",
     "output_type": "stream",
     "text": [
      "Plotting NGC4330\n"
     ]
    },
    {
     "name": "stderr",
     "output_type": "stream",
     "text": [
      "WARNING: FITSFixedWarning: 'datfix' made the change 'Set MJD-OBS to 58811.578396 from DATE-OBS'. [astropy.wcs.wcs]\n",
      "WARNING: FITSFixedWarning: 'obsfix' made the change 'Observatory coordinates incomplete'. [astropy.wcs.wcs]\n"
     ]
    },
    {
     "name": "stdout",
     "output_type": "stream",
     "text": [
      "Plotting NGC4351\n"
     ]
    },
    {
     "name": "stderr",
     "output_type": "stream",
     "text": [
      "WARNING: FITSFixedWarning: 'datfix' made the change 'Set MJD-OBS to 58837.406607 from DATE-OBS'. [astropy.wcs.wcs]\n",
      "WARNING: FITSFixedWarning: 'obsfix' made the change 'Observatory coordinates incomplete'. [astropy.wcs.wcs]\n"
     ]
    },
    {
     "name": "stdout",
     "output_type": "stream",
     "text": [
      "Plotting NGC4380\n"
     ]
    },
    {
     "name": "stderr",
     "output_type": "stream",
     "text": [
      "WARNING: FITSFixedWarning: 'datfix' made the change 'Set MJD-OBS to 58823.434418 from DATE-OBS'. [astropy.wcs.wcs]\n",
      "WARNING: FITSFixedWarning: 'obsfix' made the change 'Observatory coordinates incomplete'. [astropy.wcs.wcs]\n"
     ]
    },
    {
     "name": "stdout",
     "output_type": "stream",
     "text": [
      "Plotting NGC4383\n"
     ]
    },
    {
     "name": "stderr",
     "output_type": "stream",
     "text": [
      "WARNING: FITSFixedWarning: 'datfix' made the change 'Set MJD-OBS to 58838.438545 from DATE-OBS'. [astropy.wcs.wcs]\n",
      "WARNING: FITSFixedWarning: 'obsfix' made the change 'Observatory coordinates incomplete'. [astropy.wcs.wcs]\n"
     ]
    },
    {
     "name": "stdout",
     "output_type": "stream",
     "text": [
      "Plotting NGC4388\n"
     ]
    },
    {
     "name": "stderr",
     "output_type": "stream",
     "text": [
      "WARNING: FITSFixedWarning: 'datfix' made the change 'Set MJD-OBS to 58839.379235 from DATE-OBS'. [astropy.wcs.wcs]\n",
      "WARNING: FITSFixedWarning: 'obsfix' made the change 'Observatory coordinates incomplete'. [astropy.wcs.wcs]\n"
     ]
    },
    {
     "name": "stdout",
     "output_type": "stream",
     "text": [
      "Plotting NGC4396\n"
     ]
    },
    {
     "name": "stderr",
     "output_type": "stream",
     "text": [
      "WARNING: FITSFixedWarning: 'datfix' made the change 'Set MJD-OBS to 58858.416048 from DATE-OBS'. [astropy.wcs.wcs]\n",
      "WARNING: FITSFixedWarning: 'obsfix' made the change 'Observatory coordinates incomplete'. [astropy.wcs.wcs]\n"
     ]
    },
    {
     "name": "stdout",
     "output_type": "stream",
     "text": [
      "Plotting NGC4402\n"
     ]
    },
    {
     "name": "stderr",
     "output_type": "stream",
     "text": [
      "WARNING: FITSFixedWarning: 'datfix' made the change 'Set MJD-OBS to 57729.380956 from DATE-OBS'. [astropy.wcs.wcs]\n",
      "WARNING: FITSFixedWarning: 'obsfix' made the change 'Observatory coordinates incomplete'. [astropy.wcs.wcs]\n"
     ]
    },
    {
     "name": "stdout",
     "output_type": "stream",
     "text": [
      "Plotting NGC4405\n"
     ]
    },
    {
     "name": "stderr",
     "output_type": "stream",
     "text": [
      "WARNING: FITSFixedWarning: 'datfix' made the change 'Set MJD-OBS to 58800.586857 from DATE-OBS'. [astropy.wcs.wcs]\n",
      "WARNING: FITSFixedWarning: 'obsfix' made the change 'Observatory coordinates incomplete'. [astropy.wcs.wcs]\n"
     ]
    },
    {
     "name": "stdout",
     "output_type": "stream",
     "text": [
      "Plotting NGC4419\n"
     ]
    },
    {
     "name": "stderr",
     "output_type": "stream",
     "text": [
      "WARNING: FITSFixedWarning: 'datfix' made the change 'Set MJD-OBS to 58855.371869 from DATE-OBS'. [astropy.wcs.wcs]\n",
      "WARNING: FITSFixedWarning: 'obsfix' made the change 'Observatory coordinates incomplete'. [astropy.wcs.wcs]\n"
     ]
    },
    {
     "name": "stdout",
     "output_type": "stream",
     "text": [
      "Plotting NGC4424\n"
     ]
    },
    {
     "name": "stderr",
     "output_type": "stream",
     "text": [
      "WARNING: FITSFixedWarning: 'datfix' made the change 'Set MJD-OBS to 58034.639742 from DATE-OBS'. [astropy.wcs.wcs]\n",
      "WARNING: FITSFixedWarning: 'obsfix' made the change 'Observatory coordinates incomplete'. [astropy.wcs.wcs]\n"
     ]
    },
    {
     "name": "stdout",
     "output_type": "stream",
     "text": [
      "Plotting NGC4450\n"
     ]
    },
    {
     "name": "stderr",
     "output_type": "stream",
     "text": [
      "WARNING: FITSFixedWarning: 'datfix' made the change 'Set MJD-OBS to 58906.231702 from DATE-OBS'. [astropy.wcs.wcs]\n",
      "WARNING: FITSFixedWarning: 'obsfix' made the change 'Observatory coordinates incomplete'. [astropy.wcs.wcs]\n"
     ]
    },
    {
     "name": "stdout",
     "output_type": "stream",
     "text": [
      "Plotting NGC4501\n"
     ]
    },
    {
     "name": "stderr",
     "output_type": "stream",
     "text": [
      "WARNING: FITSFixedWarning: 'datfix' made the change 'Set MJD-OBS to 58910.235509 from DATE-OBS'. [astropy.wcs.wcs]\n",
      "WARNING: FITSFixedWarning: 'obsfix' made the change 'Observatory coordinates incomplete'. [astropy.wcs.wcs]\n"
     ]
    },
    {
     "name": "stdout",
     "output_type": "stream",
     "text": [
      "Plotting NGC4522\n"
     ]
    },
    {
     "name": "stderr",
     "output_type": "stream",
     "text": [
      "WARNING: FITSFixedWarning: 'datfix' made the change 'Set MJD-OBS to 58835.533518 from DATE-OBS'. [astropy.wcs.wcs]\n",
      "WARNING: FITSFixedWarning: 'obsfix' made the change 'Observatory coordinates incomplete'. [astropy.wcs.wcs]\n"
     ]
    },
    {
     "name": "stdout",
     "output_type": "stream",
     "text": [
      "Plotting NGC4532\n"
     ]
    },
    {
     "name": "stderr",
     "output_type": "stream",
     "text": [
      "WARNING: FITSFixedWarning: 'datfix' made the change 'Set MJD-OBS to 58820.540981 from DATE-OBS'. [astropy.wcs.wcs]\n",
      "WARNING: FITSFixedWarning: 'obsfix' made the change 'Observatory coordinates incomplete'. [astropy.wcs.wcs]\n"
     ]
    },
    {
     "name": "stdout",
     "output_type": "stream",
     "text": [
      "Plotting NGC4535\n"
     ]
    },
    {
     "name": "stderr",
     "output_type": "stream",
     "text": [
      "WARNING: FITSFixedWarning: 'datfix' made the change 'Set MJD-OBS to 57524.101317 from DATE-OBS'. [astropy.wcs.wcs]\n",
      "WARNING: FITSFixedWarning: 'obsfix' made the change 'Observatory coordinates incomplete'. [astropy.wcs.wcs]\n"
     ]
    },
    {
     "name": "stdout",
     "output_type": "stream",
     "text": [
      "Plotting NGC4548\n"
     ]
    },
    {
     "name": "stderr",
     "output_type": "stream",
     "text": [
      "WARNING: FITSFixedWarning: 'datfix' made the change 'Set MJD-OBS to 58197.199664 from DATE-OBS'. [astropy.wcs.wcs]\n",
      "WARNING: FITSFixedWarning: 'obsfix' made the change 'Observatory coordinates incomplete'. [astropy.wcs.wcs]\n"
     ]
    },
    {
     "name": "stdout",
     "output_type": "stream",
     "text": [
      "Plotting NGC4567\n"
     ]
    },
    {
     "name": "stderr",
     "output_type": "stream",
     "text": [
      "WARNING: FITSFixedWarning: 'datfix' made the change 'Set MJD-OBS to 58771.720579 from DATE-OBS'. [astropy.wcs.wcs]\n",
      "WARNING: FITSFixedWarning: 'obsfix' made the change 'Observatory coordinates incomplete'. [astropy.wcs.wcs]\n"
     ]
    },
    {
     "name": "stdout",
     "output_type": "stream",
     "text": [
      "Plotting NGC4568\n"
     ]
    },
    {
     "name": "stderr",
     "output_type": "stream",
     "text": [
      "WARNING: FITSFixedWarning: 'datfix' made the change 'Set MJD-OBS to 58807.603859 from DATE-OBS'. [astropy.wcs.wcs]\n",
      "WARNING: FITSFixedWarning: 'obsfix' made the change 'Observatory coordinates incomplete'. [astropy.wcs.wcs]\n"
     ]
    },
    {
     "name": "stdout",
     "output_type": "stream",
     "text": [
      "Plotting NGC4569\n"
     ]
    },
    {
     "name": "stderr",
     "output_type": "stream",
     "text": [
      "WARNING: FITSFixedWarning: 'datfix' made the change 'Set MJD-OBS to 58203.170749 from DATE-OBS'. [astropy.wcs.wcs]\n",
      "WARNING: FITSFixedWarning: 'obsfix' made the change 'Observatory coordinates incomplete'. [astropy.wcs.wcs]\n"
     ]
    },
    {
     "name": "stdout",
     "output_type": "stream",
     "text": [
      "Plotting NGC4579\n"
     ]
    },
    {
     "name": "stderr",
     "output_type": "stream",
     "text": [
      "WARNING: FITSFixedWarning: 'datfix' made the change 'Set MJD-OBS to 58184.283297 from DATE-OBS'. [astropy.wcs.wcs]\n",
      "WARNING: FITSFixedWarning: 'obsfix' made the change 'Observatory coordinates incomplete'. [astropy.wcs.wcs]\n"
     ]
    },
    {
     "name": "stdout",
     "output_type": "stream",
     "text": [
      "Plotting NGC4580\n"
     ]
    },
    {
     "name": "stderr",
     "output_type": "stream",
     "text": [
      "WARNING: FITSFixedWarning: 'datfix' made the change 'Set MJD-OBS to 58830.570338 from DATE-OBS'. [astropy.wcs.wcs]\n",
      "WARNING: FITSFixedWarning: 'obsfix' made the change 'Observatory coordinates incomplete'. [astropy.wcs.wcs]\n"
     ]
    },
    {
     "name": "stdout",
     "output_type": "stream",
     "text": [
      "Plotting NGC4607\n"
     ]
    },
    {
     "name": "stderr",
     "output_type": "stream",
     "text": [
      "WARNING: FITSFixedWarning: 'datfix' made the change 'Set MJD-OBS to 58771.655996 from DATE-OBS'. [astropy.wcs.wcs]\n",
      "WARNING: FITSFixedWarning: 'obsfix' made the change 'Observatory coordinates incomplete'. [astropy.wcs.wcs]\n"
     ]
    },
    {
     "name": "stdout",
     "output_type": "stream",
     "text": [
      "Plotting NGC4651\n"
     ]
    },
    {
     "name": "stderr",
     "output_type": "stream",
     "text": [
      "WARNING: FITSFixedWarning: 'datfix' made the change 'Set MJD-OBS to 58837.456786 from DATE-OBS'. [astropy.wcs.wcs]\n",
      "WARNING: FITSFixedWarning: 'obsfix' made the change 'Observatory coordinates incomplete'. [astropy.wcs.wcs]\n"
     ]
    },
    {
     "name": "stdout",
     "output_type": "stream",
     "text": [
      "Plotting NGC4654\n"
     ]
    },
    {
     "name": "stderr",
     "output_type": "stream",
     "text": [
      "WARNING: FITSFixedWarning: 'datfix' made the change 'Set MJD-OBS to 58119.389391 from DATE-OBS'. [astropy.wcs.wcs]\n",
      "WARNING: FITSFixedWarning: 'obsfix' made the change 'Observatory coordinates incomplete'. [astropy.wcs.wcs]\n"
     ]
    },
    {
     "name": "stdout",
     "output_type": "stream",
     "text": [
      "Plotting NGC4689\n"
     ]
    },
    {
     "name": "stderr",
     "output_type": "stream",
     "text": [
      "WARNING: FITSFixedWarning: 'datfix' made the change 'Set MJD-OBS to 58125.480975 from DATE-OBS'. [astropy.wcs.wcs]\n",
      "WARNING: FITSFixedWarning: 'obsfix' made the change 'Observatory coordinates incomplete'. [astropy.wcs.wcs]\n"
     ]
    },
    {
     "name": "stdout",
     "output_type": "stream",
     "text": [
      "Plotting NGC4694\n"
     ]
    },
    {
     "name": "stderr",
     "output_type": "stream",
     "text": [
      "WARNING: FITSFixedWarning: 'datfix' made the change 'Set MJD-OBS to 58029.684441 from DATE-OBS'. [astropy.wcs.wcs]\n",
      "WARNING: FITSFixedWarning: 'obsfix' made the change 'Observatory coordinates incomplete'. [astropy.wcs.wcs]\n"
     ]
    },
    {
     "name": "stdout",
     "output_type": "stream",
     "text": [
      "Done\n"
     ]
    }
   ],
   "source": [
    "# \n",
    "# Plot radial profile of gas fraction values\n",
    "#\n",
    "for galname, gal_centre, inclination, gal_wcs, gal_rp, gal_radius_kpc in zip(galaxies, centers, inclinations, galaxies_wcs, radial_profiles, radius_kpc):\n",
    "    print(\"Plotting\", galname)\n",
    "    fig = plt.figure(figsize=mpl.figure.figaspect(1.5))\n",
    "    ax1 = fig.add_subplot(2, 1, 1, projection=gal_wcs)\n",
    "    #\n",
    "    # Plot data\n",
    "    #\n",
    "    img1 = ax1.imshow(gal_rp.data, cmap=sns.cubehelix_palette(start=.7, rot=-.75, as_cmap=True))\n",
    "    cbar1 = fig.colorbar(img1, fraction=0.045)\n",
    "    cbar1.set_label(r\"$\\rm \\log\\left(\\Sigma_{mol} / \\rm \\Sigma_{\\star}\\right)$\")\n",
    "    # Mark centre\n",
    "    ax1.plot(*gal_wcs.world_to_pixel(gal_centre), marker=\"o\", color=\"C1\", markersize=2, zorder=5)\n",
    "    # Add annuli\n",
    "    pu.add_annuli_RadialProfile(ax1, gal_rp)\n",
    "    pu.add_annuli_RadialProfile(ax1, gal_rp, ls=\"-\", edgecolor=\"k\", fc=\"none\", lw=1, zorder=2)  # just the outlines to emphasize annuli\n",
    "    # Add scalebar\n",
    "    pu.add_scalebar(ax1, gal_wcs, dist=GALDIST)\n",
    "    pu.add_scalebeam(ax1, gal_rp.rp_options[\"header\"])\n",
    "    ax1.set_xlim(0, gal_rp.data.shape[1])\n",
    "    ax1.set_ylim(0, gal_rp.data.shape[0])\n",
    "    ax1.set_xlabel(\"RA (J2000)\")\n",
    "    ax1.set_ylabel(\"Dec (J2000)\")\n",
    "    ax1.grid(False)\n",
    "    ax1.set_aspect(\"equal\")\n",
    "    #\n",
    "    ax2 = fig.add_subplot(2, 1, 2)\n",
    "    ebar2 = ax2.errorbar(\n",
    "        x=gal_radius_kpc,\n",
    "        y=gal_rp.avg_data,\n",
    "        yerr=gal_rp.avg_data_err,  # uncertainty in the mean/median from bootstrapping\n",
    "        fmt=\"-o\",\n",
    "        markersize=4,\n",
    "        color=\"k\",\n",
    "        ecolor=\"r\",\n",
    "        elinewidth=1,\n",
    "        capsize=2,\n",
    "    )\n",
    "    ebar2[-1][0].set_linestyle(\"--\")\n",
    "    # \n",
    "    # Add name of galaxy\n",
    "    # \n",
    "    high_i_str = \"*\" if inclination >= I_THRESHOLD else \"\"\n",
    "    ax2.text(\n",
    "        0.9,\n",
    "        0.9,\n",
    "        re.sub(r\"(\\d+)\", \" \\\\1\", galname) + high_i_str,\n",
    "        c=\"k\",\n",
    "        ha=\"right\",\n",
    "        transform=ax2.transAxes,\n",
    "    )\n",
    "    ax2.set_xlabel(\"Radius [kpc]\")\n",
    "    ax2.set_ylabel(\n",
    "        gal_rp.rp_options[\"func\"].capitalize()\n",
    "        + r\" $\\rm \\log\\left(\\Sigma_{mol} / \\rm \\Sigma_{\\star}\\right)$\"\n",
    "    )\n",
    "    # ax2.set_xlim(left=0)\n",
    "    ax2.set_ylim(bottom=-1.6)\n",
    "    pu.set_aspect(ax2, 0.9, logx=False, logy=False)\n",
    "    #\n",
    "    fig.tight_layout(pad=3.5)\n",
    "    fig.savefig(GAS_FRAC_PATH + f\"{galname}_gas_fraction_i_corr_radProf{incl_bad_str}.pdf\")\n",
    "    plt.close()\n",
    "print(\"Done\")"
   ]
  },
  {
   "cell_type": "markdown",
   "id": "finite-stationery",
   "metadata": {},
   "source": [
    "Plot radial profiles of gas fraction uncertainties.\n"
   ]
  },
  {
   "cell_type": "code",
   "execution_count": 2,
   "id": "antique-train",
   "metadata": {
    "collapsed": true,
    "jupyter": {
     "outputs_hidden": true
    }
   },
   "outputs": [
    {
     "name": "stderr",
     "output_type": "stream",
     "text": [
      "WARNING: FITSFixedWarning: The WCS transformation has more axes (2) than the image it is associated with (0) [astropy.wcs.wcs]\n",
      "WARNING: FITSFixedWarning: 'datfix' made the change 'Set MJD-OBS to 58857.486979 from DATE-OBS'. [astropy.wcs.wcs]\n",
      "WARNING: FITSFixedWarning: 'obsfix' made the change 'Observatory coordinates incomplete'. [astropy.wcs.wcs]\n",
      "WARNING: FITSFixedWarning: 'datfix' made the change 'Set MJD-OBS to 58821.370833 from DATE-OBS'. [astropy.wcs.wcs]\n",
      "WARNING: FITSFixedWarning: 'obsfix' made the change 'Observatory coordinates incomplete'. [astropy.wcs.wcs]\n",
      "WARNING: FITSFixedWarning: 'datfix' made the change 'Set MJD-OBS to 58822.371327 from DATE-OBS'. [astropy.wcs.wcs]\n",
      "WARNING: FITSFixedWarning: 'obsfix' made the change 'Observatory coordinates incomplete'. [astropy.wcs.wcs]\n",
      "WARNING: FITSFixedWarning: 'datfix' made the change 'Set MJD-OBS to 58832.392244 from DATE-OBS'. [astropy.wcs.wcs]\n",
      "WARNING: FITSFixedWarning: 'obsfix' made the change 'Observatory coordinates incomplete'. [astropy.wcs.wcs]\n",
      "WARNING: FITSFixedWarning: 'datfix' made the change 'Set MJD-OBS to 57613.735997 from DATE-OBS'. [astropy.wcs.wcs]\n",
      "WARNING: FITSFixedWarning: 'obsfix' made the change 'Observatory coordinates incomplete'. [astropy.wcs.wcs]\n",
      "WARNING: FITSFixedWarning: 'datfix' made the change 'Set MJD-OBS to 58855.352029 from DATE-OBS'. [astropy.wcs.wcs]\n",
      "WARNING: FITSFixedWarning: 'obsfix' made the change 'Observatory coordinates incomplete'. [astropy.wcs.wcs]\n",
      "WARNING: FITSFixedWarning: 'datfix' made the change 'Set MJD-OBS to 58125.369839 from DATE-OBS'. [astropy.wcs.wcs]\n",
      "WARNING: FITSFixedWarning: 'obsfix' made the change 'Observatory coordinates incomplete'. [astropy.wcs.wcs]\n",
      "WARNING: FITSFixedWarning: 'datfix' made the change 'Set MJD-OBS to 58786.495183 from DATE-OBS'. [astropy.wcs.wcs]\n",
      "WARNING: FITSFixedWarning: 'obsfix' made the change 'Observatory coordinates incomplete'. [astropy.wcs.wcs]\n",
      "WARNING: FITSFixedWarning: 'datfix' made the change 'Set MJD-OBS to 58827.396029 from DATE-OBS'. [astropy.wcs.wcs]\n",
      "WARNING: FITSFixedWarning: 'obsfix' made the change 'Observatory coordinates incomplete'. [astropy.wcs.wcs]\n",
      "WARNING: FITSFixedWarning: 'datfix' made the change 'Set MJD-OBS to 57594.978228 from DATE-OBS'. [astropy.wcs.wcs]\n",
      "WARNING: FITSFixedWarning: 'obsfix' made the change 'Observatory coordinates incomplete'. [astropy.wcs.wcs]\n",
      "WARNING: FITSFixedWarning: 'datfix' made the change 'Set MJD-OBS to 58811.578396 from DATE-OBS'. [astropy.wcs.wcs]\n",
      "WARNING: FITSFixedWarning: 'obsfix' made the change 'Observatory coordinates incomplete'. [astropy.wcs.wcs]\n",
      "WARNING: FITSFixedWarning: 'datfix' made the change 'Set MJD-OBS to 58837.406607 from DATE-OBS'. [astropy.wcs.wcs]\n",
      "WARNING: FITSFixedWarning: 'obsfix' made the change 'Observatory coordinates incomplete'. [astropy.wcs.wcs]\n",
      "WARNING: FITSFixedWarning: 'datfix' made the change 'Set MJD-OBS to 58823.434418 from DATE-OBS'. [astropy.wcs.wcs]\n",
      "WARNING: FITSFixedWarning: 'obsfix' made the change 'Observatory coordinates incomplete'. [astropy.wcs.wcs]\n",
      "WARNING: FITSFixedWarning: 'datfix' made the change 'Set MJD-OBS to 58838.438545 from DATE-OBS'. [astropy.wcs.wcs]\n",
      "WARNING: FITSFixedWarning: 'obsfix' made the change 'Observatory coordinates incomplete'. [astropy.wcs.wcs]\n",
      "WARNING: FITSFixedWarning: 'datfix' made the change 'Set MJD-OBS to 58839.379235 from DATE-OBS'. [astropy.wcs.wcs]\n",
      "WARNING: FITSFixedWarning: 'obsfix' made the change 'Observatory coordinates incomplete'. [astropy.wcs.wcs]\n",
      "WARNING: FITSFixedWarning: 'datfix' made the change 'Set MJD-OBS to 58858.416048 from DATE-OBS'. [astropy.wcs.wcs]\n",
      "WARNING: FITSFixedWarning: 'obsfix' made the change 'Observatory coordinates incomplete'. [astropy.wcs.wcs]\n",
      "WARNING: FITSFixedWarning: 'datfix' made the change 'Set MJD-OBS to 57729.380956 from DATE-OBS'. [astropy.wcs.wcs]\n",
      "WARNING: FITSFixedWarning: 'obsfix' made the change 'Observatory coordinates incomplete'. [astropy.wcs.wcs]\n",
      "WARNING: FITSFixedWarning: 'datfix' made the change 'Set MJD-OBS to 58800.586857 from DATE-OBS'. [astropy.wcs.wcs]\n",
      "WARNING: FITSFixedWarning: 'obsfix' made the change 'Observatory coordinates incomplete'. [astropy.wcs.wcs]\n",
      "WARNING: FITSFixedWarning: 'datfix' made the change 'Set MJD-OBS to 58855.371869 from DATE-OBS'. [astropy.wcs.wcs]\n",
      "WARNING: FITSFixedWarning: 'obsfix' made the change 'Observatory coordinates incomplete'. [astropy.wcs.wcs]\n",
      "WARNING: FITSFixedWarning: 'datfix' made the change 'Set MJD-OBS to 58034.639742 from DATE-OBS'. [astropy.wcs.wcs]\n",
      "WARNING: FITSFixedWarning: 'obsfix' made the change 'Observatory coordinates incomplete'. [astropy.wcs.wcs]\n",
      "WARNING: FITSFixedWarning: 'datfix' made the change 'Set MJD-OBS to 58906.231702 from DATE-OBS'. [astropy.wcs.wcs]\n",
      "WARNING: FITSFixedWarning: 'obsfix' made the change 'Observatory coordinates incomplete'. [astropy.wcs.wcs]\n",
      "WARNING: FITSFixedWarning: 'datfix' made the change 'Set MJD-OBS to 58910.235509 from DATE-OBS'. [astropy.wcs.wcs]\n",
      "WARNING: FITSFixedWarning: 'obsfix' made the change 'Observatory coordinates incomplete'. [astropy.wcs.wcs]\n",
      "WARNING: FITSFixedWarning: 'datfix' made the change 'Set MJD-OBS to 58835.533518 from DATE-OBS'. [astropy.wcs.wcs]\n",
      "WARNING: FITSFixedWarning: 'obsfix' made the change 'Observatory coordinates incomplete'. [astropy.wcs.wcs]\n",
      "WARNING: FITSFixedWarning: 'datfix' made the change 'Set MJD-OBS to 58820.540981 from DATE-OBS'. [astropy.wcs.wcs]\n",
      "WARNING: FITSFixedWarning: 'obsfix' made the change 'Observatory coordinates incomplete'. [astropy.wcs.wcs]\n",
      "WARNING: FITSFixedWarning: 'datfix' made the change 'Set MJD-OBS to 57524.101317 from DATE-OBS'. [astropy.wcs.wcs]\n",
      "WARNING: FITSFixedWarning: 'obsfix' made the change 'Observatory coordinates incomplete'. [astropy.wcs.wcs]\n",
      "WARNING: FITSFixedWarning: 'datfix' made the change 'Set MJD-OBS to 58197.199664 from DATE-OBS'. [astropy.wcs.wcs]\n",
      "WARNING: FITSFixedWarning: 'obsfix' made the change 'Observatory coordinates incomplete'. [astropy.wcs.wcs]\n",
      "WARNING: FITSFixedWarning: 'datfix' made the change 'Set MJD-OBS to 58771.720579 from DATE-OBS'. [astropy.wcs.wcs]\n",
      "WARNING: FITSFixedWarning: 'obsfix' made the change 'Observatory coordinates incomplete'. [astropy.wcs.wcs]\n",
      "WARNING: FITSFixedWarning: 'datfix' made the change 'Set MJD-OBS to 58807.603859 from DATE-OBS'. [astropy.wcs.wcs]\n",
      "WARNING: FITSFixedWarning: 'obsfix' made the change 'Observatory coordinates incomplete'. [astropy.wcs.wcs]\n",
      "WARNING: FITSFixedWarning: 'datfix' made the change 'Set MJD-OBS to 58203.170749 from DATE-OBS'. [astropy.wcs.wcs]\n",
      "WARNING: FITSFixedWarning: 'obsfix' made the change 'Observatory coordinates incomplete'. [astropy.wcs.wcs]\n",
      "WARNING: FITSFixedWarning: 'datfix' made the change 'Set MJD-OBS to 58184.283297 from DATE-OBS'. [astropy.wcs.wcs]\n",
      "WARNING: FITSFixedWarning: 'obsfix' made the change 'Observatory coordinates incomplete'. [astropy.wcs.wcs]\n",
      "WARNING: FITSFixedWarning: 'datfix' made the change 'Set MJD-OBS to 58830.570338 from DATE-OBS'. [astropy.wcs.wcs]\n",
      "WARNING: FITSFixedWarning: 'obsfix' made the change 'Observatory coordinates incomplete'. [astropy.wcs.wcs]\n",
      "WARNING: FITSFixedWarning: 'datfix' made the change 'Set MJD-OBS to 58771.655996 from DATE-OBS'. [astropy.wcs.wcs]\n",
      "WARNING: FITSFixedWarning: 'obsfix' made the change 'Observatory coordinates incomplete'. [astropy.wcs.wcs]\n",
      "WARNING: FITSFixedWarning: 'datfix' made the change 'Set MJD-OBS to 58837.456786 from DATE-OBS'. [astropy.wcs.wcs]\n",
      "WARNING: FITSFixedWarning: 'obsfix' made the change 'Observatory coordinates incomplete'. [astropy.wcs.wcs]\n",
      "WARNING: FITSFixedWarning: 'datfix' made the change 'Set MJD-OBS to 58119.389391 from DATE-OBS'. [astropy.wcs.wcs]\n",
      "WARNING: FITSFixedWarning: 'obsfix' made the change 'Observatory coordinates incomplete'. [astropy.wcs.wcs]\n",
      "WARNING: FITSFixedWarning: 'datfix' made the change 'Set MJD-OBS to 58125.480975 from DATE-OBS'. [astropy.wcs.wcs]\n",
      "WARNING: FITSFixedWarning: 'obsfix' made the change 'Observatory coordinates incomplete'. [astropy.wcs.wcs]\n",
      "WARNING: FITSFixedWarning: 'datfix' made the change 'Set MJD-OBS to 58029.684441 from DATE-OBS'. [astropy.wcs.wcs]\n",
      "WARNING: FITSFixedWarning: 'obsfix' made the change 'Observatory coordinates incomplete'. [astropy.wcs.wcs]\n"
     ]
    }
   ],
   "source": [
    "# \n",
    "# Load gas fraction uncertainties\n",
    "# \n",
    "PLOT_INCLUDE_BAD = False  # determines pickle file to use\n",
    "# \n",
    "if PLOT_INCLUDE_BAD:\n",
    "    incl_bad_str = \"\"\n",
    "else:\n",
    "    incl_bad_str = \"_noIncludeBad\"\n",
    "#\n",
    "gas_fraction_outfile = GAS_FRAC_PATH + f\"gas_fraction_unc_i_corr_NGVS-VERTICO_noNorm{incl_bad_str}.pkl\"\n",
    "with open(gas_fraction_outfile, \"rb\") as f:\n",
    "    file = dill.load(f)\n",
    "    galaxies = file[\"galaxies\"]\n",
    "    inclinations = file[\"inclinations\"]\n",
    "    position_angles = file[\"position_angles\"]\n",
    "    centers = file[\"centers\"]\n",
    "    radial_profiles = file[\"radial_profiles\"]\n",
    "    annulus_widths_arcsec = file[\"annulus_widths_arcsec\"]\n",
    "    file = None  # free memory\n",
    "# \n",
    "# Calculate radii of annuli in kpc\n",
    "# \n",
    "radius_kpc = []\n",
    "galaxies_wcs = []\n",
    "for galname in galaxies:\n",
    "    galidx = np.where(galaxies == galname)[0]\n",
    "    if galidx.size != 1:\n",
    "        raise ValueError(f\"More than 1 galaxy matched with name {galname} at indices {galidx}\")\n",
    "    galidx = galidx[0]\n",
    "    tmp_gal_wcs = WCS(radial_profiles[galidx].rp_options[\"header\"])\n",
    "    galaxies_wcs.append(tmp_gal_wcs)\n",
    "    px_to_kpc = fu.calc_pc_per_px(tmp_gal_wcs, GALDIST)[0][0] / 1000\n",
    "    radius_kpc.append(radial_profiles[galidx].radii * px_to_kpc)\n",
    "\n",
    "I_THRESHOLD = 80  # degree"
   ]
  },
  {
   "cell_type": "code",
   "execution_count": 3,
   "id": "valuable-prime",
   "metadata": {
    "collapsed": true,
    "jupyter": {
     "outputs_hidden": true
    }
   },
   "outputs": [
    {
     "name": "stdout",
     "output_type": "stream",
     "text": [
      "Plotting IC3392\n"
     ]
    },
    {
     "name": "stderr",
     "output_type": "stream",
     "text": [
      "WARNING: FITSFixedWarning: 'datfix' made the change 'Set MJD-OBS to 58857.486979 from DATE-OBS'. [astropy.wcs.wcs]\n",
      "WARNING: FITSFixedWarning: 'obsfix' made the change 'Observatory coordinates incomplete'. [astropy.wcs.wcs]\n"
     ]
    },
    {
     "name": "stdout",
     "output_type": "stream",
     "text": [
      "Plotting NGC4192\n"
     ]
    },
    {
     "name": "stderr",
     "output_type": "stream",
     "text": [
      "WARNING: FITSFixedWarning: 'datfix' made the change 'Set MJD-OBS to 58821.370833 from DATE-OBS'. [astropy.wcs.wcs]\n",
      "WARNING: FITSFixedWarning: 'obsfix' made the change 'Observatory coordinates incomplete'. [astropy.wcs.wcs]\n"
     ]
    },
    {
     "name": "stdout",
     "output_type": "stream",
     "text": [
      "Plotting NGC4216\n"
     ]
    },
    {
     "name": "stderr",
     "output_type": "stream",
     "text": [
      "WARNING: FITSFixedWarning: 'datfix' made the change 'Set MJD-OBS to 58822.371327 from DATE-OBS'. [astropy.wcs.wcs]\n",
      "WARNING: FITSFixedWarning: 'obsfix' made the change 'Observatory coordinates incomplete'. [astropy.wcs.wcs]\n"
     ]
    },
    {
     "name": "stdout",
     "output_type": "stream",
     "text": [
      "Plotting NGC4222\n"
     ]
    },
    {
     "name": "stderr",
     "output_type": "stream",
     "text": [
      "WARNING: FITSFixedWarning: 'datfix' made the change 'Set MJD-OBS to 58832.392244 from DATE-OBS'. [astropy.wcs.wcs]\n",
      "WARNING: FITSFixedWarning: 'obsfix' made the change 'Observatory coordinates incomplete'. [astropy.wcs.wcs]\n"
     ]
    },
    {
     "name": "stdout",
     "output_type": "stream",
     "text": [
      "Plotting NGC4254\n"
     ]
    },
    {
     "name": "stderr",
     "output_type": "stream",
     "text": [
      "WARNING: FITSFixedWarning: 'datfix' made the change 'Set MJD-OBS to 57613.735997 from DATE-OBS'. [astropy.wcs.wcs]\n",
      "WARNING: FITSFixedWarning: 'obsfix' made the change 'Observatory coordinates incomplete'. [astropy.wcs.wcs]\n"
     ]
    },
    {
     "name": "stdout",
     "output_type": "stream",
     "text": [
      "Plotting NGC4294\n"
     ]
    },
    {
     "name": "stderr",
     "output_type": "stream",
     "text": [
      "WARNING: FITSFixedWarning: 'datfix' made the change 'Set MJD-OBS to 58855.352029 from DATE-OBS'. [astropy.wcs.wcs]\n",
      "WARNING: FITSFixedWarning: 'obsfix' made the change 'Observatory coordinates incomplete'. [astropy.wcs.wcs]\n"
     ]
    },
    {
     "name": "stdout",
     "output_type": "stream",
     "text": [
      "Plotting NGC4298\n"
     ]
    },
    {
     "name": "stderr",
     "output_type": "stream",
     "text": [
      "WARNING: FITSFixedWarning: 'datfix' made the change 'Set MJD-OBS to 58125.369839 from DATE-OBS'. [astropy.wcs.wcs]\n",
      "WARNING: FITSFixedWarning: 'obsfix' made the change 'Observatory coordinates incomplete'. [astropy.wcs.wcs]\n"
     ]
    },
    {
     "name": "stdout",
     "output_type": "stream",
     "text": [
      "Plotting NGC4299\n"
     ]
    },
    {
     "name": "stderr",
     "output_type": "stream",
     "text": [
      "WARNING: FITSFixedWarning: 'datfix' made the change 'Set MJD-OBS to 58786.495183 from DATE-OBS'. [astropy.wcs.wcs]\n",
      "WARNING: FITSFixedWarning: 'obsfix' made the change 'Observatory coordinates incomplete'. [astropy.wcs.wcs]\n"
     ]
    },
    {
     "name": "stdout",
     "output_type": "stream",
     "text": [
      "Plotting NGC4302\n"
     ]
    },
    {
     "name": "stderr",
     "output_type": "stream",
     "text": [
      "WARNING: FITSFixedWarning: 'datfix' made the change 'Set MJD-OBS to 58827.396029 from DATE-OBS'. [astropy.wcs.wcs]\n",
      "WARNING: FITSFixedWarning: 'obsfix' made the change 'Observatory coordinates incomplete'. [astropy.wcs.wcs]\n"
     ]
    },
    {
     "name": "stdout",
     "output_type": "stream",
     "text": [
      "Plotting NGC4321\n"
     ]
    },
    {
     "name": "stderr",
     "output_type": "stream",
     "text": [
      "WARNING: FITSFixedWarning: 'datfix' made the change 'Set MJD-OBS to 57594.978228 from DATE-OBS'. [astropy.wcs.wcs]\n",
      "WARNING: FITSFixedWarning: 'obsfix' made the change 'Observatory coordinates incomplete'. [astropy.wcs.wcs]\n"
     ]
    },
    {
     "name": "stdout",
     "output_type": "stream",
     "text": [
      "Plotting NGC4330\n"
     ]
    },
    {
     "name": "stderr",
     "output_type": "stream",
     "text": [
      "WARNING: FITSFixedWarning: 'datfix' made the change 'Set MJD-OBS to 58811.578396 from DATE-OBS'. [astropy.wcs.wcs]\n",
      "WARNING: FITSFixedWarning: 'obsfix' made the change 'Observatory coordinates incomplete'. [astropy.wcs.wcs]\n"
     ]
    },
    {
     "name": "stdout",
     "output_type": "stream",
     "text": [
      "Plotting NGC4351\n"
     ]
    },
    {
     "name": "stderr",
     "output_type": "stream",
     "text": [
      "WARNING: FITSFixedWarning: 'datfix' made the change 'Set MJD-OBS to 58837.406607 from DATE-OBS'. [astropy.wcs.wcs]\n",
      "WARNING: FITSFixedWarning: 'obsfix' made the change 'Observatory coordinates incomplete'. [astropy.wcs.wcs]\n"
     ]
    },
    {
     "name": "stdout",
     "output_type": "stream",
     "text": [
      "Plotting NGC4380\n"
     ]
    },
    {
     "name": "stderr",
     "output_type": "stream",
     "text": [
      "WARNING: FITSFixedWarning: 'datfix' made the change 'Set MJD-OBS to 58823.434418 from DATE-OBS'. [astropy.wcs.wcs]\n",
      "WARNING: FITSFixedWarning: 'obsfix' made the change 'Observatory coordinates incomplete'. [astropy.wcs.wcs]\n"
     ]
    },
    {
     "name": "stdout",
     "output_type": "stream",
     "text": [
      "Plotting NGC4383\n"
     ]
    },
    {
     "name": "stderr",
     "output_type": "stream",
     "text": [
      "WARNING: FITSFixedWarning: 'datfix' made the change 'Set MJD-OBS to 58838.438545 from DATE-OBS'. [astropy.wcs.wcs]\n",
      "WARNING: FITSFixedWarning: 'obsfix' made the change 'Observatory coordinates incomplete'. [astropy.wcs.wcs]\n"
     ]
    },
    {
     "name": "stdout",
     "output_type": "stream",
     "text": [
      "Plotting NGC4388\n"
     ]
    },
    {
     "name": "stderr",
     "output_type": "stream",
     "text": [
      "WARNING: FITSFixedWarning: 'datfix' made the change 'Set MJD-OBS to 58839.379235 from DATE-OBS'. [astropy.wcs.wcs]\n",
      "WARNING: FITSFixedWarning: 'obsfix' made the change 'Observatory coordinates incomplete'. [astropy.wcs.wcs]\n"
     ]
    },
    {
     "name": "stdout",
     "output_type": "stream",
     "text": [
      "Plotting NGC4396\n"
     ]
    },
    {
     "name": "stderr",
     "output_type": "stream",
     "text": [
      "WARNING: FITSFixedWarning: 'datfix' made the change 'Set MJD-OBS to 58858.416048 from DATE-OBS'. [astropy.wcs.wcs]\n",
      "WARNING: FITSFixedWarning: 'obsfix' made the change 'Observatory coordinates incomplete'. [astropy.wcs.wcs]\n"
     ]
    },
    {
     "name": "stdout",
     "output_type": "stream",
     "text": [
      "Plotting NGC4402\n"
     ]
    },
    {
     "name": "stderr",
     "output_type": "stream",
     "text": [
      "WARNING: FITSFixedWarning: 'datfix' made the change 'Set MJD-OBS to 57729.380956 from DATE-OBS'. [astropy.wcs.wcs]\n",
      "WARNING: FITSFixedWarning: 'obsfix' made the change 'Observatory coordinates incomplete'. [astropy.wcs.wcs]\n"
     ]
    },
    {
     "name": "stdout",
     "output_type": "stream",
     "text": [
      "Plotting NGC4405\n"
     ]
    },
    {
     "name": "stderr",
     "output_type": "stream",
     "text": [
      "WARNING: FITSFixedWarning: 'datfix' made the change 'Set MJD-OBS to 58800.586857 from DATE-OBS'. [astropy.wcs.wcs]\n",
      "WARNING: FITSFixedWarning: 'obsfix' made the change 'Observatory coordinates incomplete'. [astropy.wcs.wcs]\n"
     ]
    },
    {
     "name": "stdout",
     "output_type": "stream",
     "text": [
      "Plotting NGC4419\n"
     ]
    },
    {
     "name": "stderr",
     "output_type": "stream",
     "text": [
      "WARNING: FITSFixedWarning: 'datfix' made the change 'Set MJD-OBS to 58855.371869 from DATE-OBS'. [astropy.wcs.wcs]\n",
      "WARNING: FITSFixedWarning: 'obsfix' made the change 'Observatory coordinates incomplete'. [astropy.wcs.wcs]\n"
     ]
    },
    {
     "name": "stdout",
     "output_type": "stream",
     "text": [
      "Plotting NGC4424\n"
     ]
    },
    {
     "name": "stderr",
     "output_type": "stream",
     "text": [
      "WARNING: FITSFixedWarning: 'datfix' made the change 'Set MJD-OBS to 58034.639742 from DATE-OBS'. [astropy.wcs.wcs]\n",
      "WARNING: FITSFixedWarning: 'obsfix' made the change 'Observatory coordinates incomplete'. [astropy.wcs.wcs]\n"
     ]
    },
    {
     "name": "stdout",
     "output_type": "stream",
     "text": [
      "Plotting NGC4450\n"
     ]
    },
    {
     "name": "stderr",
     "output_type": "stream",
     "text": [
      "WARNING: FITSFixedWarning: 'datfix' made the change 'Set MJD-OBS to 58906.231702 from DATE-OBS'. [astropy.wcs.wcs]\n",
      "WARNING: FITSFixedWarning: 'obsfix' made the change 'Observatory coordinates incomplete'. [astropy.wcs.wcs]\n"
     ]
    },
    {
     "name": "stdout",
     "output_type": "stream",
     "text": [
      "Plotting NGC4501\n"
     ]
    },
    {
     "name": "stderr",
     "output_type": "stream",
     "text": [
      "WARNING: FITSFixedWarning: 'datfix' made the change 'Set MJD-OBS to 58910.235509 from DATE-OBS'. [astropy.wcs.wcs]\n",
      "WARNING: FITSFixedWarning: 'obsfix' made the change 'Observatory coordinates incomplete'. [astropy.wcs.wcs]\n"
     ]
    },
    {
     "name": "stdout",
     "output_type": "stream",
     "text": [
      "Plotting NGC4522\n"
     ]
    },
    {
     "name": "stderr",
     "output_type": "stream",
     "text": [
      "WARNING: FITSFixedWarning: 'datfix' made the change 'Set MJD-OBS to 58835.533518 from DATE-OBS'. [astropy.wcs.wcs]\n",
      "WARNING: FITSFixedWarning: 'obsfix' made the change 'Observatory coordinates incomplete'. [astropy.wcs.wcs]\n"
     ]
    },
    {
     "name": "stdout",
     "output_type": "stream",
     "text": [
      "Plotting NGC4532\n"
     ]
    },
    {
     "name": "stderr",
     "output_type": "stream",
     "text": [
      "WARNING: FITSFixedWarning: 'datfix' made the change 'Set MJD-OBS to 58820.540981 from DATE-OBS'. [astropy.wcs.wcs]\n",
      "WARNING: FITSFixedWarning: 'obsfix' made the change 'Observatory coordinates incomplete'. [astropy.wcs.wcs]\n"
     ]
    },
    {
     "name": "stdout",
     "output_type": "stream",
     "text": [
      "Plotting NGC4535\n"
     ]
    },
    {
     "name": "stderr",
     "output_type": "stream",
     "text": [
      "WARNING: FITSFixedWarning: 'datfix' made the change 'Set MJD-OBS to 57524.101317 from DATE-OBS'. [astropy.wcs.wcs]\n",
      "WARNING: FITSFixedWarning: 'obsfix' made the change 'Observatory coordinates incomplete'. [astropy.wcs.wcs]\n"
     ]
    },
    {
     "name": "stdout",
     "output_type": "stream",
     "text": [
      "Plotting NGC4548\n"
     ]
    },
    {
     "name": "stderr",
     "output_type": "stream",
     "text": [
      "WARNING: FITSFixedWarning: 'datfix' made the change 'Set MJD-OBS to 58197.199664 from DATE-OBS'. [astropy.wcs.wcs]\n",
      "WARNING: FITSFixedWarning: 'obsfix' made the change 'Observatory coordinates incomplete'. [astropy.wcs.wcs]\n"
     ]
    },
    {
     "name": "stdout",
     "output_type": "stream",
     "text": [
      "Plotting NGC4567\n"
     ]
    },
    {
     "name": "stderr",
     "output_type": "stream",
     "text": [
      "WARNING: FITSFixedWarning: 'datfix' made the change 'Set MJD-OBS to 58771.720579 from DATE-OBS'. [astropy.wcs.wcs]\n",
      "WARNING: FITSFixedWarning: 'obsfix' made the change 'Observatory coordinates incomplete'. [astropy.wcs.wcs]\n"
     ]
    },
    {
     "name": "stdout",
     "output_type": "stream",
     "text": [
      "Plotting NGC4568\n"
     ]
    },
    {
     "name": "stderr",
     "output_type": "stream",
     "text": [
      "WARNING: FITSFixedWarning: 'datfix' made the change 'Set MJD-OBS to 58807.603859 from DATE-OBS'. [astropy.wcs.wcs]\n",
      "WARNING: FITSFixedWarning: 'obsfix' made the change 'Observatory coordinates incomplete'. [astropy.wcs.wcs]\n"
     ]
    },
    {
     "name": "stdout",
     "output_type": "stream",
     "text": [
      "Plotting NGC4569\n"
     ]
    },
    {
     "name": "stderr",
     "output_type": "stream",
     "text": [
      "WARNING: FITSFixedWarning: 'datfix' made the change 'Set MJD-OBS to 58203.170749 from DATE-OBS'. [astropy.wcs.wcs]\n",
      "WARNING: FITSFixedWarning: 'obsfix' made the change 'Observatory coordinates incomplete'. [astropy.wcs.wcs]\n"
     ]
    },
    {
     "name": "stdout",
     "output_type": "stream",
     "text": [
      "Plotting NGC4579\n"
     ]
    },
    {
     "name": "stderr",
     "output_type": "stream",
     "text": [
      "WARNING: FITSFixedWarning: 'datfix' made the change 'Set MJD-OBS to 58184.283297 from DATE-OBS'. [astropy.wcs.wcs]\n",
      "WARNING: FITSFixedWarning: 'obsfix' made the change 'Observatory coordinates incomplete'. [astropy.wcs.wcs]\n"
     ]
    },
    {
     "name": "stdout",
     "output_type": "stream",
     "text": [
      "Plotting NGC4580\n"
     ]
    },
    {
     "name": "stderr",
     "output_type": "stream",
     "text": [
      "WARNING: FITSFixedWarning: 'datfix' made the change 'Set MJD-OBS to 58830.570338 from DATE-OBS'. [astropy.wcs.wcs]\n",
      "WARNING: FITSFixedWarning: 'obsfix' made the change 'Observatory coordinates incomplete'. [astropy.wcs.wcs]\n"
     ]
    },
    {
     "name": "stdout",
     "output_type": "stream",
     "text": [
      "Plotting NGC4607\n"
     ]
    },
    {
     "name": "stderr",
     "output_type": "stream",
     "text": [
      "WARNING: FITSFixedWarning: 'datfix' made the change 'Set MJD-OBS to 58771.655996 from DATE-OBS'. [astropy.wcs.wcs]\n",
      "WARNING: FITSFixedWarning: 'obsfix' made the change 'Observatory coordinates incomplete'. [astropy.wcs.wcs]\n"
     ]
    },
    {
     "name": "stdout",
     "output_type": "stream",
     "text": [
      "Plotting NGC4651\n"
     ]
    },
    {
     "name": "stderr",
     "output_type": "stream",
     "text": [
      "WARNING: FITSFixedWarning: 'datfix' made the change 'Set MJD-OBS to 58837.456786 from DATE-OBS'. [astropy.wcs.wcs]\n",
      "WARNING: FITSFixedWarning: 'obsfix' made the change 'Observatory coordinates incomplete'. [astropy.wcs.wcs]\n"
     ]
    },
    {
     "name": "stdout",
     "output_type": "stream",
     "text": [
      "Plotting NGC4654\n"
     ]
    },
    {
     "name": "stderr",
     "output_type": "stream",
     "text": [
      "WARNING: FITSFixedWarning: 'datfix' made the change 'Set MJD-OBS to 58119.389391 from DATE-OBS'. [astropy.wcs.wcs]\n",
      "WARNING: FITSFixedWarning: 'obsfix' made the change 'Observatory coordinates incomplete'. [astropy.wcs.wcs]\n"
     ]
    },
    {
     "name": "stdout",
     "output_type": "stream",
     "text": [
      "Plotting NGC4689\n"
     ]
    },
    {
     "name": "stderr",
     "output_type": "stream",
     "text": [
      "WARNING: FITSFixedWarning: 'datfix' made the change 'Set MJD-OBS to 58125.480975 from DATE-OBS'. [astropy.wcs.wcs]\n",
      "WARNING: FITSFixedWarning: 'obsfix' made the change 'Observatory coordinates incomplete'. [astropy.wcs.wcs]\n"
     ]
    },
    {
     "name": "stdout",
     "output_type": "stream",
     "text": [
      "Plotting NGC4694\n"
     ]
    },
    {
     "name": "stderr",
     "output_type": "stream",
     "text": [
      "WARNING: FITSFixedWarning: 'datfix' made the change 'Set MJD-OBS to 58029.684441 from DATE-OBS'. [astropy.wcs.wcs]\n",
      "WARNING: FITSFixedWarning: 'obsfix' made the change 'Observatory coordinates incomplete'. [astropy.wcs.wcs]\n"
     ]
    },
    {
     "name": "stdout",
     "output_type": "stream",
     "text": [
      "Done\n"
     ]
    }
   ],
   "source": [
    "# \n",
    "# Plot radial profile of gas fraction uncertainties\n",
    "#\n",
    "for galname, gal_centre, inclination, gal_wcs, gal_rp, gal_radius_kpc in zip(galaxies, centers, inclinations, galaxies_wcs, radial_profiles, radius_kpc):\n",
    "    print(\"Plotting\", galname)\n",
    "    fig = plt.figure(figsize=mpl.figure.figaspect(1.5))\n",
    "    ax1 = fig.add_subplot(2, 1, 1, projection=gal_wcs)\n",
    "    #\n",
    "    # Plot uncertainties\n",
    "    #\n",
    "    img1 = ax1.imshow(\n",
    "        gal_rp.data,\n",
    "        cmap=sns.cubehelix_palette(start=.7, rot=-.75, as_cmap=True),\n",
    "        vmax=np.percentile(gal_rp.data[np.isfinite(gal_rp.data)], 99)\n",
    "    )\n",
    "    cbar1 = fig.colorbar(img1, fraction=0.045, extend=\"max\")\n",
    "    cbar1.set_label(r\"$\\rm \\log\\left(\\Sigma_{mol} / \\rm \\Sigma_{\\star}\\right)$ Uncertainty\")\n",
    "    # Mark centre\n",
    "    ax1.plot(*gal_wcs.world_to_pixel(gal_centre), marker=\"o\", color=\"C1\", markersize=2, zorder=5)\n",
    "    # Add annuli\n",
    "    pu.add_annuli_RadialProfile(ax1, gal_rp)\n",
    "    pu.add_annuli_RadialProfile(ax1, gal_rp, ls=\"-\", edgecolor=\"k\", fc=\"none\", lw=1, zorder=2)  # just the outlines to emphasize annuli\n",
    "    # Add scalebar\n",
    "    pu.add_scalebar(ax1, gal_wcs, dist=GALDIST)\n",
    "    pu.add_scalebeam(ax1, gal_rp.rp_options[\"header\"])\n",
    "    ax1.set_xlim(0, gal_rp.data.shape[1])\n",
    "    ax1.set_ylim(0, gal_rp.data.shape[0])\n",
    "    ax1.set_xlabel(\"RA (J2000)\")\n",
    "    ax1.set_ylabel(\"Dec (J2000)\")\n",
    "    ax1.grid(False)\n",
    "    ax1.set_aspect(\"equal\")\n",
    "    #\n",
    "    ax2 = fig.add_subplot(2, 1, 2)\n",
    "    ebar2 = ax2.errorbar(\n",
    "        x=gal_radius_kpc,\n",
    "        y=gal_rp.avg_data,\n",
    "        yerr=gal_rp.avg_data_err,  # uncertainty in the mean/median from bootstrapping\n",
    "        fmt=\"-o\",\n",
    "        markersize=4,\n",
    "        color=\"k\",\n",
    "        ecolor=\"r\",\n",
    "        elinewidth=1,\n",
    "        capsize=2,\n",
    "    )\n",
    "    ebar2[-1][0].set_linestyle(\"--\")\n",
    "    # \n",
    "    # Add name of galaxy\n",
    "    # \n",
    "    high_i_str = \"*\" if inclination >= I_THRESHOLD else \"\"\n",
    "    ax2.text(\n",
    "        0.9,\n",
    "        0.9,\n",
    "        re.sub(r\"(\\d+)\", \" \\\\1\", galname) + high_i_str,\n",
    "        c=\"k\",\n",
    "        ha=\"right\",\n",
    "        transform=ax2.transAxes,\n",
    "    )\n",
    "    ax2.set_xlabel(\"Radius [kpc]\")\n",
    "    ax2.set_ylabel(\n",
    "        gal_rp.rp_options[\"func\"].capitalize()\n",
    "        + r\" $\\rm \\log\\left(\\Sigma_{mol} / \\rm \\Sigma_{\\star}\\right)$ Uncertainty\",\n",
    "        labelpad=8,\n",
    "    )\n",
    "    # ax2.set_xlim(left=0)\n",
    "    pu.set_aspect(ax2, 0.9, logx=False, logy=False)\n",
    "    #\n",
    "    fig.tight_layout(pad=3.5)\n",
    "    fig.savefig(GAS_FRAC_PATH +  f\"{galname}_gas_fraction_unc_i_corr_radProf{incl_bad_str}.pdf\")\n",
    "    plt.close()\n",
    "print(\"Done\")"
   ]
  },
  {
   "cell_type": "markdown",
   "id": "printable-combat",
   "metadata": {},
   "source": [
    "## Gas Fraction Mosaic\n"
   ]
  },
  {
   "cell_type": "markdown",
   "id": "asian-joyce",
   "metadata": {},
   "source": [
    "The following 2 arrays order the galaxies by decreasing mean/median stellar mass density.\n",
    "Don't take this ordering too seriously.\n",
    "\n",
    "From a short blurb I posted on Slack:\n",
    "\n",
    "> High inclination galaxies ($i \\geq 80^\\circ$) are marked with an asterisk next to their\n",
    "name and are green instead of blue. The galaxies in the mosaic are ordered by decreasing\n",
    "mean/median stellar mass density (top to bottom, left to right).\n",
    ">\n",
    "> \"Mean/median stellar mass density\" is determined from the Voronoi-binned images. I only\n",
    "consider Voronoi bins with SNR >= 30 in all bands and I treat each Voronoi bin as 1 pixel,\n",
    "from which I take the mean/median inclination-corrected stellar mass density.\n",
    ">\n",
    "> This explains why high-i galaxies are typically lower in these mosaics: because they\n",
    "are:\n",
    ">\n",
    "> - (a) high-i so multiplying by $cos(i)$ decreases their stellar mass densities more than\n",
    "    low-i galaxies, and\n",
    "> - (b) more of the image for a high-i galaxy is taken up by the background compared to\n",
    "    low-i galaxies, skewing the mean/median stellar mass densities. I've tried to account\n",
    "    for (b) by treating each Voronoi-bin as effectively 1 pixel, but this doesn't\n",
    "    completely mitigate the bias.\n",
    ">\n",
    "> Either way, I wouldn't take the ordering of these radial profile plots too\n",
    "seriously—just think of them as an interesting way of ordering our data that is\n",
    "non-alphabetical."
   ]
  },
  {
   "cell_type": "code",
   "execution_count": 2,
   "id": "noticed-mercury",
   "metadata": {},
   "outputs": [],
   "source": [
    "# ! WARNING: DO NOT UNCOMMENT NGC4189 OR NGC4606 IF USING THIS AS THEY WERE NOT CONSIDERED !\n",
    "NGVS_DECR_MEAN_M_DENSITY_IDX = np.array(\n",
    "    [\n",
    "        29, 18, 21, 30, 27, 26, 28, 0, 17, 35, 25, 9, 12, 34, 32, 16, 14, 24, 4, 20, 11, 33, 19, 6, 7, 23, 2, 5, 22, 3, 1, 8, 13, 10, 31, 15,\n",
    "    ]\n",
    ")  # only considered finite SNRs >= 30 and treated each Voronoi bin as 1 pixel. All data corrected for inclination\n",
    "# ! WARNING: DO NOT UNCOMMENT NGC4189 OR NGC4606 IF USING THIS AS THEY WERE NOT CONSIDERED !\n",
    "NGVS_DECR_MEDIAN_M_DENSITY_IDX = np.array(\n",
    "    [\n",
    "        30, 29, 21, 26, 0, 17, 18, 27, 35, 9, 34, 12, 25, 28, 32, 11, 24, 19, 20, 14, 4, 16, 33, 7, 6, 5, 13, 22, 10, 3, 23, 2, 8, 15, 1, 31\n",
    "    ]\n",
    ")  # only considered finite SNRs >= 30 and treated each Voronoi bin as 1 pixel. All data corrected for inclination"
   ]
  },
  {
   "cell_type": "markdown",
   "id": "official-priest",
   "metadata": {},
   "source": [
    "Make mosaic of gas fractions\n"
   ]
  },
  {
   "cell_type": "code",
   "execution_count": 3,
   "id": "acquired-leadership",
   "metadata": {
    "collapsed": true,
    "jupyter": {
     "outputs_hidden": true
    }
   },
   "outputs": [
    {
     "name": "stderr",
     "output_type": "stream",
     "text": [
      "WARNING: FITSFixedWarning: The WCS transformation has more axes (2) than the image it is associated with (0) [astropy.wcs.wcs]\n",
      "WARNING: FITSFixedWarning: 'datfix' made the change 'Set MJD-OBS to 58857.486979 from DATE-OBS'. [astropy.wcs.wcs]\n",
      "WARNING: FITSFixedWarning: 'obsfix' made the change 'Observatory coordinates incomplete'. [astropy.wcs.wcs]\n",
      "WARNING: FITSFixedWarning: 'datfix' made the change 'Set MJD-OBS to 58821.370833 from DATE-OBS'. [astropy.wcs.wcs]\n",
      "WARNING: FITSFixedWarning: 'obsfix' made the change 'Observatory coordinates incomplete'. [astropy.wcs.wcs]\n",
      "WARNING: FITSFixedWarning: 'datfix' made the change 'Set MJD-OBS to 58822.371327 from DATE-OBS'. [astropy.wcs.wcs]\n",
      "WARNING: FITSFixedWarning: 'obsfix' made the change 'Observatory coordinates incomplete'. [astropy.wcs.wcs]\n",
      "WARNING: FITSFixedWarning: 'datfix' made the change 'Set MJD-OBS to 58832.392244 from DATE-OBS'. [astropy.wcs.wcs]\n",
      "WARNING: FITSFixedWarning: 'obsfix' made the change 'Observatory coordinates incomplete'. [astropy.wcs.wcs]\n",
      "WARNING: FITSFixedWarning: 'datfix' made the change 'Set MJD-OBS to 57613.735997 from DATE-OBS'. [astropy.wcs.wcs]\n",
      "WARNING: FITSFixedWarning: 'obsfix' made the change 'Observatory coordinates incomplete'. [astropy.wcs.wcs]\n",
      "WARNING: FITSFixedWarning: 'datfix' made the change 'Set MJD-OBS to 58855.352029 from DATE-OBS'. [astropy.wcs.wcs]\n",
      "WARNING: FITSFixedWarning: 'obsfix' made the change 'Observatory coordinates incomplete'. [astropy.wcs.wcs]\n",
      "WARNING: FITSFixedWarning: 'datfix' made the change 'Set MJD-OBS to 58125.369839 from DATE-OBS'. [astropy.wcs.wcs]\n",
      "WARNING: FITSFixedWarning: 'obsfix' made the change 'Observatory coordinates incomplete'. [astropy.wcs.wcs]\n",
      "WARNING: FITSFixedWarning: 'datfix' made the change 'Set MJD-OBS to 58786.495183 from DATE-OBS'. [astropy.wcs.wcs]\n",
      "WARNING: FITSFixedWarning: 'obsfix' made the change 'Observatory coordinates incomplete'. [astropy.wcs.wcs]\n",
      "WARNING: FITSFixedWarning: 'datfix' made the change 'Set MJD-OBS to 58827.396029 from DATE-OBS'. [astropy.wcs.wcs]\n",
      "WARNING: FITSFixedWarning: 'obsfix' made the change 'Observatory coordinates incomplete'. [astropy.wcs.wcs]\n",
      "WARNING: FITSFixedWarning: 'datfix' made the change 'Set MJD-OBS to 57594.978228 from DATE-OBS'. [astropy.wcs.wcs]\n",
      "WARNING: FITSFixedWarning: 'obsfix' made the change 'Observatory coordinates incomplete'. [astropy.wcs.wcs]\n",
      "WARNING: FITSFixedWarning: 'datfix' made the change 'Set MJD-OBS to 58811.578396 from DATE-OBS'. [astropy.wcs.wcs]\n",
      "WARNING: FITSFixedWarning: 'obsfix' made the change 'Observatory coordinates incomplete'. [astropy.wcs.wcs]\n",
      "WARNING: FITSFixedWarning: 'datfix' made the change 'Set MJD-OBS to 58837.406607 from DATE-OBS'. [astropy.wcs.wcs]\n",
      "WARNING: FITSFixedWarning: 'obsfix' made the change 'Observatory coordinates incomplete'. [astropy.wcs.wcs]\n",
      "WARNING: FITSFixedWarning: 'datfix' made the change 'Set MJD-OBS to 58823.434418 from DATE-OBS'. [astropy.wcs.wcs]\n",
      "WARNING: FITSFixedWarning: 'obsfix' made the change 'Observatory coordinates incomplete'. [astropy.wcs.wcs]\n",
      "WARNING: FITSFixedWarning: 'datfix' made the change 'Set MJD-OBS to 58838.438545 from DATE-OBS'. [astropy.wcs.wcs]\n",
      "WARNING: FITSFixedWarning: 'obsfix' made the change 'Observatory coordinates incomplete'. [astropy.wcs.wcs]\n",
      "WARNING: FITSFixedWarning: 'datfix' made the change 'Set MJD-OBS to 58839.379235 from DATE-OBS'. [astropy.wcs.wcs]\n",
      "WARNING: FITSFixedWarning: 'obsfix' made the change 'Observatory coordinates incomplete'. [astropy.wcs.wcs]\n",
      "WARNING: FITSFixedWarning: 'datfix' made the change 'Set MJD-OBS to 58858.416048 from DATE-OBS'. [astropy.wcs.wcs]\n",
      "WARNING: FITSFixedWarning: 'obsfix' made the change 'Observatory coordinates incomplete'. [astropy.wcs.wcs]\n",
      "WARNING: FITSFixedWarning: 'datfix' made the change 'Set MJD-OBS to 57729.380956 from DATE-OBS'. [astropy.wcs.wcs]\n",
      "WARNING: FITSFixedWarning: 'obsfix' made the change 'Observatory coordinates incomplete'. [astropy.wcs.wcs]\n",
      "WARNING: FITSFixedWarning: 'datfix' made the change 'Set MJD-OBS to 58800.586857 from DATE-OBS'. [astropy.wcs.wcs]\n",
      "WARNING: FITSFixedWarning: 'obsfix' made the change 'Observatory coordinates incomplete'. [astropy.wcs.wcs]\n",
      "WARNING: FITSFixedWarning: 'datfix' made the change 'Set MJD-OBS to 58855.371869 from DATE-OBS'. [astropy.wcs.wcs]\n",
      "WARNING: FITSFixedWarning: 'obsfix' made the change 'Observatory coordinates incomplete'. [astropy.wcs.wcs]\n",
      "WARNING: FITSFixedWarning: 'datfix' made the change 'Set MJD-OBS to 58034.639742 from DATE-OBS'. [astropy.wcs.wcs]\n",
      "WARNING: FITSFixedWarning: 'obsfix' made the change 'Observatory coordinates incomplete'. [astropy.wcs.wcs]\n",
      "WARNING: FITSFixedWarning: 'datfix' made the change 'Set MJD-OBS to 58906.231702 from DATE-OBS'. [astropy.wcs.wcs]\n",
      "WARNING: FITSFixedWarning: 'obsfix' made the change 'Observatory coordinates incomplete'. [astropy.wcs.wcs]\n",
      "WARNING: FITSFixedWarning: 'datfix' made the change 'Set MJD-OBS to 58910.235509 from DATE-OBS'. [astropy.wcs.wcs]\n",
      "WARNING: FITSFixedWarning: 'obsfix' made the change 'Observatory coordinates incomplete'. [astropy.wcs.wcs]\n",
      "WARNING: FITSFixedWarning: 'datfix' made the change 'Set MJD-OBS to 58835.533518 from DATE-OBS'. [astropy.wcs.wcs]\n",
      "WARNING: FITSFixedWarning: 'obsfix' made the change 'Observatory coordinates incomplete'. [astropy.wcs.wcs]\n",
      "WARNING: FITSFixedWarning: 'datfix' made the change 'Set MJD-OBS to 58820.540981 from DATE-OBS'. [astropy.wcs.wcs]\n",
      "WARNING: FITSFixedWarning: 'obsfix' made the change 'Observatory coordinates incomplete'. [astropy.wcs.wcs]\n",
      "WARNING: FITSFixedWarning: 'datfix' made the change 'Set MJD-OBS to 57524.101317 from DATE-OBS'. [astropy.wcs.wcs]\n",
      "WARNING: FITSFixedWarning: 'obsfix' made the change 'Observatory coordinates incomplete'. [astropy.wcs.wcs]\n",
      "WARNING: FITSFixedWarning: 'datfix' made the change 'Set MJD-OBS to 58197.199664 from DATE-OBS'. [astropy.wcs.wcs]\n",
      "WARNING: FITSFixedWarning: 'obsfix' made the change 'Observatory coordinates incomplete'. [astropy.wcs.wcs]\n",
      "WARNING: FITSFixedWarning: 'datfix' made the change 'Set MJD-OBS to 58771.720579 from DATE-OBS'. [astropy.wcs.wcs]\n",
      "WARNING: FITSFixedWarning: 'obsfix' made the change 'Observatory coordinates incomplete'. [astropy.wcs.wcs]\n",
      "WARNING: FITSFixedWarning: 'datfix' made the change 'Set MJD-OBS to 58807.603859 from DATE-OBS'. [astropy.wcs.wcs]\n",
      "WARNING: FITSFixedWarning: 'obsfix' made the change 'Observatory coordinates incomplete'. [astropy.wcs.wcs]\n",
      "WARNING: FITSFixedWarning: 'datfix' made the change 'Set MJD-OBS to 58203.170749 from DATE-OBS'. [astropy.wcs.wcs]\n",
      "WARNING: FITSFixedWarning: 'obsfix' made the change 'Observatory coordinates incomplete'. [astropy.wcs.wcs]\n",
      "WARNING: FITSFixedWarning: 'datfix' made the change 'Set MJD-OBS to 58184.283297 from DATE-OBS'. [astropy.wcs.wcs]\n",
      "WARNING: FITSFixedWarning: 'obsfix' made the change 'Observatory coordinates incomplete'. [astropy.wcs.wcs]\n",
      "WARNING: FITSFixedWarning: 'datfix' made the change 'Set MJD-OBS to 58830.570338 from DATE-OBS'. [astropy.wcs.wcs]\n",
      "WARNING: FITSFixedWarning: 'obsfix' made the change 'Observatory coordinates incomplete'. [astropy.wcs.wcs]\n",
      "WARNING: FITSFixedWarning: 'datfix' made the change 'Set MJD-OBS to 58771.655996 from DATE-OBS'. [astropy.wcs.wcs]\n",
      "WARNING: FITSFixedWarning: 'obsfix' made the change 'Observatory coordinates incomplete'. [astropy.wcs.wcs]\n",
      "WARNING: FITSFixedWarning: 'datfix' made the change 'Set MJD-OBS to 58837.456786 from DATE-OBS'. [astropy.wcs.wcs]\n",
      "WARNING: FITSFixedWarning: 'obsfix' made the change 'Observatory coordinates incomplete'. [astropy.wcs.wcs]\n",
      "WARNING: FITSFixedWarning: 'datfix' made the change 'Set MJD-OBS to 58119.389391 from DATE-OBS'. [astropy.wcs.wcs]\n",
      "WARNING: FITSFixedWarning: 'obsfix' made the change 'Observatory coordinates incomplete'. [astropy.wcs.wcs]\n",
      "WARNING: FITSFixedWarning: 'datfix' made the change 'Set MJD-OBS to 58125.480975 from DATE-OBS'. [astropy.wcs.wcs]\n",
      "WARNING: FITSFixedWarning: 'obsfix' made the change 'Observatory coordinates incomplete'. [astropy.wcs.wcs]\n",
      "WARNING: FITSFixedWarning: 'datfix' made the change 'Set MJD-OBS to 58029.684441 from DATE-OBS'. [astropy.wcs.wcs]\n",
      "WARNING: FITSFixedWarning: 'obsfix' made the change 'Observatory coordinates incomplete'. [astropy.wcs.wcs]\n"
     ]
    }
   ],
   "source": [
    "PLOT_INCLUDE_BAD = False  # determines pickle file to use\n",
    "# \n",
    "if PLOT_INCLUDE_BAD:\n",
    "    incl_bad_str = \"\"\n",
    "else:\n",
    "    incl_bad_str = \"_noIncludeBad\"\n",
    "# \n",
    "# Load data\n",
    "# \n",
    "gas_fraction_outfile = GAS_FRAC_PATH + f\"gas_fraction_i_corr_NGVS-VERTICO_noNorm{incl_bad_str}.pkl\"\n",
    "with open(gas_fraction_outfile, \"rb\") as f:\n",
    "    file = dill.load(f)\n",
    "    galaxies = file[\"galaxies\"]\n",
    "    inclinations = file[\"inclinations\"]\n",
    "    position_angles = file[\"position_angles\"]\n",
    "    centers = file[\"centers\"]\n",
    "    radial_profiles = file[\"radial_profiles\"]\n",
    "    annulus_widths_arcsec = file[\"annulus_widths_arcsec\"]\n",
    "    file = None  # free memory\n",
    "avg_function = radial_profiles[0].rp_options[\"func\"]\n",
    "# \n",
    "# Calculate radii of annuli in kpc\n",
    "# \n",
    "radius_kpc = []\n",
    "for galname in galaxies:\n",
    "    galidx = np.where(galaxies == galname)[0]\n",
    "    if galidx.size != 1:\n",
    "        raise ValueError(f\"More than 1 galaxy matched with name {galname} at indices {galidx}\")\n",
    "    galidx = galidx[0]\n",
    "    gal_wcs = WCS(radial_profiles[galidx].rp_options[\"header\"])\n",
    "    px_to_kpc = fu.calc_pc_per_px(gal_wcs, GALDIST)[0][0] / 1000\n",
    "    radius_kpc.append(radial_profiles[galidx].radii * px_to_kpc)\n",
    "\n",
    "i_threshold = 80  # degree"
   ]
  },
  {
   "cell_type": "code",
   "execution_count": 5,
   "id": "adopted-convert",
   "metadata": {},
   "outputs": [
    {
     "data": {
      "image/png": "[encoded data removed]",
      "text/plain": [
       "<Figure size 684x576 with 36 Axes>"
      ]
     },
     "metadata": {
      "needs_background": "light"
     },
     "output_type": "display_data"
    }
   ],
   "source": [
    "# MOSAIC OF GAS FRACTION DATA\n",
    "\n",
    "plot_order = NGVS_DECR_MEDIAN_M_DENSITY_IDX\n",
    "plot_order_str = \"DecrMedianSigmaStar\"  # \"DecrMeanSigmaStar\" or \"DecrMedianSigmaStar\"\n",
    "\n",
    "fig, axs = plt.subplots(nrows=6, ncols=6, figsize=(9.5, 8), sharex=True, sharey=True)\n",
    "for ax, galname, i in zip(axs.flatten(), galaxies[plot_order], inclinations[plot_order]):\n",
    "    is_high_i = i >= i_threshold\n",
    "    galidx = np.where(galaxies == galname)[0]\n",
    "    if galidx.size != 1:\n",
    "        raise ValueError(f\"More than 1 galaxy matched with name {galname} at indices {galidx}\")\n",
    "    galidx = galidx[0]\n",
    "    if is_high_i:\n",
    "        tmp_color = sns.color_palette(\"colorblind\")[2]\n",
    "        tmp_ecolor = sns.color_palette(\"colorblind\")[4]\n",
    "    else:\n",
    "        tmp_color = sns.color_palette(\"colorblind\")[0]\n",
    "        tmp_ecolor = sns.color_palette(\"colorblind\")[3]\n",
    "    ebar = ax.errorbar(\n",
    "        x=radius_kpc[galidx],\n",
    "        y=radial_profiles[galidx].avg_data,\n",
    "        yerr=radial_profiles[galidx].avg_data_err,\n",
    "        fmt=\"-o\",\n",
    "        markersize=2,\n",
    "        color=tmp_color,\n",
    "        ecolor=tmp_ecolor,\n",
    "        elinewidth=1,\n",
    "        capsize=2,\n",
    "    )\n",
    "    # ax.set_ylim(-2.2, 0.1)  # if including masked regions\n",
    "    ax.set_ylim(-2.2, -0.5)  # if not including masked regions (i.e., used _noIncludeBad file)\n",
    "    ax.set_xlim(0, 11)\n",
    "    pu.set_aspect(ax, 0.86, logx=False, logy=False)\n",
    "    # Galaxy name in top right corner + add space between letters and numbers in galname\n",
    "    high_i_str = \"*\" if is_high_i else \"\"\n",
    "    ax.text(0.9, 0.8, re.sub(r\"(\\d+)\", \" \\\\1\", galname) + high_i_str, c=\"k\", ha=\"right\", transform=ax.transAxes)\n",
    "    ax.grid(False)\n",
    "\n",
    "fig.text(0.5, 0.0, \"Radius [kpc]\", ha=\"center\", fontsize=15)\n",
    "fig.text(\n",
    "    0.0,\n",
    "    0.5,\n",
    "    f\"{avg_function.capitalize()} \" + r\"$\\log\\left(\\Sigma_{\\rm mol} / \\Sigma_\\star\\right)$\",\n",
    "    va=\"center\",\n",
    "    rotation=\"vertical\",\n",
    "    fontsize=15,\n",
    ")\n",
    "#\n",
    "plt.subplots_adjust(left=0.07, right=1.0, bottom=0.05, top=1.0, wspace=0.015, hspace=0.02)\n",
    "fig.savefig(GAS_FRAC_PATH + f\"gas_fraction_i_corr_NGVS-VERTICO_{plot_order_str}_noNorm{incl_bad_str}.pdf\")\n",
    "plt.show()"
   ]
  },
  {
   "cell_type": "markdown",
   "id": "coupled-feeding",
   "metadata": {},
   "source": [
    "Make mosaic of gas fraction uncertainties\n"
   ]
  },
  {
   "cell_type": "code",
   "execution_count": 3,
   "id": "artificial-imperial",
   "metadata": {
    "collapsed": true,
    "jupyter": {
     "outputs_hidden": true
    }
   },
   "outputs": [
    {
     "name": "stderr",
     "output_type": "stream",
     "text": [
      "WARNING: FITSFixedWarning: The WCS transformation has more axes (2) than the image it is associated with (0) [astropy.wcs.wcs]\n",
      "WARNING: FITSFixedWarning: 'datfix' made the change 'Set MJD-OBS to 58857.486979 from DATE-OBS'. [astropy.wcs.wcs]\n",
      "WARNING: FITSFixedWarning: 'obsfix' made the change 'Observatory coordinates incomplete'. [astropy.wcs.wcs]\n",
      "WARNING: FITSFixedWarning: 'datfix' made the change 'Set MJD-OBS to 58821.370833 from DATE-OBS'. [astropy.wcs.wcs]\n",
      "WARNING: FITSFixedWarning: 'obsfix' made the change 'Observatory coordinates incomplete'. [astropy.wcs.wcs]\n",
      "WARNING: FITSFixedWarning: 'datfix' made the change 'Set MJD-OBS to 58822.371327 from DATE-OBS'. [astropy.wcs.wcs]\n",
      "WARNING: FITSFixedWarning: 'obsfix' made the change 'Observatory coordinates incomplete'. [astropy.wcs.wcs]\n",
      "WARNING: FITSFixedWarning: 'datfix' made the change 'Set MJD-OBS to 58832.392244 from DATE-OBS'. [astropy.wcs.wcs]\n",
      "WARNING: FITSFixedWarning: 'obsfix' made the change 'Observatory coordinates incomplete'. [astropy.wcs.wcs]\n",
      "WARNING: FITSFixedWarning: 'datfix' made the change 'Set MJD-OBS to 57613.735997 from DATE-OBS'. [astropy.wcs.wcs]\n",
      "WARNING: FITSFixedWarning: 'obsfix' made the change 'Observatory coordinates incomplete'. [astropy.wcs.wcs]\n",
      "WARNING: FITSFixedWarning: 'datfix' made the change 'Set MJD-OBS to 58855.352029 from DATE-OBS'. [astropy.wcs.wcs]\n",
      "WARNING: FITSFixedWarning: 'obsfix' made the change 'Observatory coordinates incomplete'. [astropy.wcs.wcs]\n",
      "WARNING: FITSFixedWarning: 'datfix' made the change 'Set MJD-OBS to 58125.369839 from DATE-OBS'. [astropy.wcs.wcs]\n",
      "WARNING: FITSFixedWarning: 'obsfix' made the change 'Observatory coordinates incomplete'. [astropy.wcs.wcs]\n",
      "WARNING: FITSFixedWarning: 'datfix' made the change 'Set MJD-OBS to 58786.495183 from DATE-OBS'. [astropy.wcs.wcs]\n",
      "WARNING: FITSFixedWarning: 'obsfix' made the change 'Observatory coordinates incomplete'. [astropy.wcs.wcs]\n",
      "WARNING: FITSFixedWarning: 'datfix' made the change 'Set MJD-OBS to 58827.396029 from DATE-OBS'. [astropy.wcs.wcs]\n",
      "WARNING: FITSFixedWarning: 'obsfix' made the change 'Observatory coordinates incomplete'. [astropy.wcs.wcs]\n",
      "WARNING: FITSFixedWarning: 'datfix' made the change 'Set MJD-OBS to 57594.978228 from DATE-OBS'. [astropy.wcs.wcs]\n",
      "WARNING: FITSFixedWarning: 'obsfix' made the change 'Observatory coordinates incomplete'. [astropy.wcs.wcs]\n",
      "WARNING: FITSFixedWarning: 'datfix' made the change 'Set MJD-OBS to 58811.578396 from DATE-OBS'. [astropy.wcs.wcs]\n",
      "WARNING: FITSFixedWarning: 'obsfix' made the change 'Observatory coordinates incomplete'. [astropy.wcs.wcs]\n",
      "WARNING: FITSFixedWarning: 'datfix' made the change 'Set MJD-OBS to 58837.406607 from DATE-OBS'. [astropy.wcs.wcs]\n",
      "WARNING: FITSFixedWarning: 'obsfix' made the change 'Observatory coordinates incomplete'. [astropy.wcs.wcs]\n",
      "WARNING: FITSFixedWarning: 'datfix' made the change 'Set MJD-OBS to 58823.434418 from DATE-OBS'. [astropy.wcs.wcs]\n",
      "WARNING: FITSFixedWarning: 'obsfix' made the change 'Observatory coordinates incomplete'. [astropy.wcs.wcs]\n",
      "WARNING: FITSFixedWarning: 'datfix' made the change 'Set MJD-OBS to 58838.438545 from DATE-OBS'. [astropy.wcs.wcs]\n",
      "WARNING: FITSFixedWarning: 'obsfix' made the change 'Observatory coordinates incomplete'. [astropy.wcs.wcs]\n",
      "WARNING: FITSFixedWarning: 'datfix' made the change 'Set MJD-OBS to 58839.379235 from DATE-OBS'. [astropy.wcs.wcs]\n",
      "WARNING: FITSFixedWarning: 'obsfix' made the change 'Observatory coordinates incomplete'. [astropy.wcs.wcs]\n",
      "WARNING: FITSFixedWarning: 'datfix' made the change 'Set MJD-OBS to 58858.416048 from DATE-OBS'. [astropy.wcs.wcs]\n",
      "WARNING: FITSFixedWarning: 'obsfix' made the change 'Observatory coordinates incomplete'. [astropy.wcs.wcs]\n",
      "WARNING: FITSFixedWarning: 'datfix' made the change 'Set MJD-OBS to 57729.380956 from DATE-OBS'. [astropy.wcs.wcs]\n",
      "WARNING: FITSFixedWarning: 'obsfix' made the change 'Observatory coordinates incomplete'. [astropy.wcs.wcs]\n",
      "WARNING: FITSFixedWarning: 'datfix' made the change 'Set MJD-OBS to 58800.586857 from DATE-OBS'. [astropy.wcs.wcs]\n",
      "WARNING: FITSFixedWarning: 'obsfix' made the change 'Observatory coordinates incomplete'. [astropy.wcs.wcs]\n",
      "WARNING: FITSFixedWarning: 'datfix' made the change 'Set MJD-OBS to 58855.371869 from DATE-OBS'. [astropy.wcs.wcs]\n",
      "WARNING: FITSFixedWarning: 'obsfix' made the change 'Observatory coordinates incomplete'. [astropy.wcs.wcs]\n",
      "WARNING: FITSFixedWarning: 'datfix' made the change 'Set MJD-OBS to 58034.639742 from DATE-OBS'. [astropy.wcs.wcs]\n",
      "WARNING: FITSFixedWarning: 'obsfix' made the change 'Observatory coordinates incomplete'. [astropy.wcs.wcs]\n",
      "WARNING: FITSFixedWarning: 'datfix' made the change 'Set MJD-OBS to 58906.231702 from DATE-OBS'. [astropy.wcs.wcs]\n",
      "WARNING: FITSFixedWarning: 'obsfix' made the change 'Observatory coordinates incomplete'. [astropy.wcs.wcs]\n",
      "WARNING: FITSFixedWarning: 'datfix' made the change 'Set MJD-OBS to 58910.235509 from DATE-OBS'. [astropy.wcs.wcs]\n",
      "WARNING: FITSFixedWarning: 'obsfix' made the change 'Observatory coordinates incomplete'. [astropy.wcs.wcs]\n",
      "WARNING: FITSFixedWarning: 'datfix' made the change 'Set MJD-OBS to 58835.533518 from DATE-OBS'. [astropy.wcs.wcs]\n",
      "WARNING: FITSFixedWarning: 'obsfix' made the change 'Observatory coordinates incomplete'. [astropy.wcs.wcs]\n",
      "WARNING: FITSFixedWarning: 'datfix' made the change 'Set MJD-OBS to 58820.540981 from DATE-OBS'. [astropy.wcs.wcs]\n",
      "WARNING: FITSFixedWarning: 'obsfix' made the change 'Observatory coordinates incomplete'. [astropy.wcs.wcs]\n",
      "WARNING: FITSFixedWarning: 'datfix' made the change 'Set MJD-OBS to 57524.101317 from DATE-OBS'. [astropy.wcs.wcs]\n",
      "WARNING: FITSFixedWarning: 'obsfix' made the change 'Observatory coordinates incomplete'. [astropy.wcs.wcs]\n",
      "WARNING: FITSFixedWarning: 'datfix' made the change 'Set MJD-OBS to 58197.199664 from DATE-OBS'. [astropy.wcs.wcs]\n",
      "WARNING: FITSFixedWarning: 'obsfix' made the change 'Observatory coordinates incomplete'. [astropy.wcs.wcs]\n",
      "WARNING: FITSFixedWarning: 'datfix' made the change 'Set MJD-OBS to 58771.720579 from DATE-OBS'. [astropy.wcs.wcs]\n",
      "WARNING: FITSFixedWarning: 'obsfix' made the change 'Observatory coordinates incomplete'. [astropy.wcs.wcs]\n",
      "WARNING: FITSFixedWarning: 'datfix' made the change 'Set MJD-OBS to 58807.603859 from DATE-OBS'. [astropy.wcs.wcs]\n",
      "WARNING: FITSFixedWarning: 'obsfix' made the change 'Observatory coordinates incomplete'. [astropy.wcs.wcs]\n",
      "WARNING: FITSFixedWarning: 'datfix' made the change 'Set MJD-OBS to 58203.170749 from DATE-OBS'. [astropy.wcs.wcs]\n",
      "WARNING: FITSFixedWarning: 'obsfix' made the change 'Observatory coordinates incomplete'. [astropy.wcs.wcs]\n",
      "WARNING: FITSFixedWarning: 'datfix' made the change 'Set MJD-OBS to 58184.283297 from DATE-OBS'. [astropy.wcs.wcs]\n",
      "WARNING: FITSFixedWarning: 'obsfix' made the change 'Observatory coordinates incomplete'. [astropy.wcs.wcs]\n",
      "WARNING: FITSFixedWarning: 'datfix' made the change 'Set MJD-OBS to 58830.570338 from DATE-OBS'. [astropy.wcs.wcs]\n",
      "WARNING: FITSFixedWarning: 'obsfix' made the change 'Observatory coordinates incomplete'. [astropy.wcs.wcs]\n",
      "WARNING: FITSFixedWarning: 'datfix' made the change 'Set MJD-OBS to 58771.655996 from DATE-OBS'. [astropy.wcs.wcs]\n",
      "WARNING: FITSFixedWarning: 'obsfix' made the change 'Observatory coordinates incomplete'. [astropy.wcs.wcs]\n",
      "WARNING: FITSFixedWarning: 'datfix' made the change 'Set MJD-OBS to 58837.456786 from DATE-OBS'. [astropy.wcs.wcs]\n",
      "WARNING: FITSFixedWarning: 'obsfix' made the change 'Observatory coordinates incomplete'. [astropy.wcs.wcs]\n",
      "WARNING: FITSFixedWarning: 'datfix' made the change 'Set MJD-OBS to 58119.389391 from DATE-OBS'. [astropy.wcs.wcs]\n",
      "WARNING: FITSFixedWarning: 'obsfix' made the change 'Observatory coordinates incomplete'. [astropy.wcs.wcs]\n",
      "WARNING: FITSFixedWarning: 'datfix' made the change 'Set MJD-OBS to 58125.480975 from DATE-OBS'. [astropy.wcs.wcs]\n",
      "WARNING: FITSFixedWarning: 'obsfix' made the change 'Observatory coordinates incomplete'. [astropy.wcs.wcs]\n",
      "WARNING: FITSFixedWarning: 'datfix' made the change 'Set MJD-OBS to 58029.684441 from DATE-OBS'. [astropy.wcs.wcs]\n",
      "WARNING: FITSFixedWarning: 'obsfix' made the change 'Observatory coordinates incomplete'. [astropy.wcs.wcs]\n"
     ]
    }
   ],
   "source": [
    "PLOT_INCLUDE_BAD = False  # determines pickle file to use\n",
    "# \n",
    "if PLOT_INCLUDE_BAD:\n",
    "    incl_bad_str = \"\"\n",
    "else:\n",
    "    incl_bad_str = \"_noIncludeBad\"\n",
    "# \n",
    "# Load uncertainties\n",
    "# \n",
    "gas_fraction_unc_infile = GAS_FRAC_PATH + f\"gas_fraction_unc_i_corr_NGVS-VERTICO_noNorm{incl_bad_str}.pkl\"\n",
    "with open(gas_fraction_unc_infile, \"rb\") as f:\n",
    "    file = dill.load(f)\n",
    "    galaxies = file[\"galaxies\"]\n",
    "    inclinations = file[\"inclinations\"]\n",
    "    position_angles = file[\"position_angles\"]\n",
    "    centers = file[\"centers\"]\n",
    "    radial_profiles = file[\"radial_profiles\"]\n",
    "    annulus_widths_arcsec = file[\"annulus_widths_arcsec\"]\n",
    "    file = None  # free memory\n",
    "avg_function = radial_profiles[0].rp_options[\"func\"]\n",
    "# \n",
    "# Calculate radii of annuli in kpc\n",
    "# \n",
    "radius_kpc = []\n",
    "for galname in galaxies:\n",
    "    galidx = np.where(galaxies == galname)[0]\n",
    "    if galidx.size != 1:\n",
    "        raise ValueError(f\"More than 1 galaxy matched with name {galname} at indices {galidx}\")\n",
    "    galidx = galidx[0]\n",
    "    gal_wcs = WCS(radial_profiles[galidx].rp_options[\"header\"])\n",
    "    px_to_kpc = fu.calc_pc_per_px(gal_wcs, GALDIST)[0][0] / 1000\n",
    "    radius_kpc.append(radial_profiles[galidx].radii * px_to_kpc)\n",
    "\n",
    "i_threshold = 80  # degree"
   ]
  },
  {
   "cell_type": "code",
   "execution_count": 5,
   "id": "invisible-today",
   "metadata": {},
   "outputs": [
    {
     "data": {
      "image/png": "[encoded data removed]",
      "text/plain": [
       "<Figure size 684x576 with 36 Axes>"
      ]
     },
     "metadata": {
      "needs_background": "light"
     },
     "output_type": "display_data"
    }
   ],
   "source": [
    "# MOSAIC OF GAS FRACTION UNCERTAINTIES\n",
    "\n",
    "plot_order = NGVS_DECR_MEDIAN_M_DENSITY_IDX  # NGVS_DECR_MEAN_M_DENSITY_IDX or NGVS_DECR_MEDIAN_M_DENSITY_IDX\n",
    "plot_order_str = \"DecrMedianSigmaStar\"  # \"DecrMeanSigmaStar\" or \"DecrMedianSigmaStar\"\n",
    "\n",
    "fig, axs = plt.subplots(nrows=6, ncols=6, figsize=(9.5, 8), sharex=True, sharey=True)\n",
    "for ax, galname, i in zip(axs.flatten(), galaxies[NGVS_DECR_MEDIAN_M_DENSITY_IDX], inclinations[NGVS_DECR_MEDIAN_M_DENSITY_IDX]):\n",
    "    is_high_i = i >= i_threshold\n",
    "    galidx = np.where(galaxies == galname)[0]\n",
    "    if galidx.size != 1:\n",
    "        raise ValueError(f\"More than 1 galaxy matched with name {galname} at indices {galidx}\")\n",
    "    galidx = galidx[0]\n",
    "    if is_high_i:\n",
    "        tmp_color = sns.color_palette(\"colorblind\")[2]\n",
    "        tmp_ecolor = sns.color_palette(\"colorblind\")[4]\n",
    "    else:\n",
    "        tmp_color = sns.color_palette(\"colorblind\")[0]\n",
    "        tmp_ecolor = sns.color_palette(\"colorblind\")[3]\n",
    "    ebar = ax.errorbar(\n",
    "        x=radius_kpc[galidx],\n",
    "        y=radial_profiles[galidx].avg_data,\n",
    "        yerr=radial_profiles[galidx].avg_data_err,\n",
    "        fmt=\"-o\",\n",
    "        markersize=2,\n",
    "        color=tmp_color,\n",
    "        ecolor=tmp_ecolor,\n",
    "        elinewidth=1,\n",
    "        capsize=2,\n",
    "    )\n",
    "    ax.set_ylim(0.02, 0.25)\n",
    "    ax.set_xlim(0, 11)\n",
    "    pu.set_aspect(ax, 0.86, logx=False, logy=False)\n",
    "    # Galaxy name in top right corner + add space between letters and numbers in galname\n",
    "    high_i_str = \"*\" if is_high_i else \"\"\n",
    "    ax.text(0.9, 0.8, re.sub(r\"(\\d+)\", \" \\\\1\", galname) + high_i_str, c=\"k\", ha=\"right\", transform=ax.transAxes)\n",
    "    ax.grid(False)\n",
    "\n",
    "fig.text(0.5, 0.0, \"Radius [kpc]\", ha=\"center\", fontsize=15)\n",
    "fig.text(\n",
    "    0.0,\n",
    "    0.5,\n",
    "    f\"{avg_function.capitalize()} \" + r\"$\\log\\left(\\Sigma_{\\rm mol} / \\Sigma_\\star\\right)$ Uncertainty\",\n",
    "    va=\"center\",\n",
    "    rotation=\"vertical\",\n",
    "    fontsize=15,\n",
    ")\n",
    "#\n",
    "plt.subplots_adjust(left=0.07, right=1.0, bottom=0.05, top=1.0, wspace=0.015, hspace=0.02)\n",
    "fig.savefig(GAS_FRAC_PATH + f\"gas_fraction_unc_i_corr_NGVS-VERTICO_{plot_order_str}_noNorm{incl_bad_str}.pdf\")\n",
    "plt.show()"
   ]
  }
 ],
 "metadata": {
  "kernelspec": {
   "display_name": "Python 3 (ipykernel)",
   "language": "python",
   "name": "python3"
  },
  "language_info": {
   "codemirror_mode": {
    "name": "ipython",
    "version": 3
   },
   "file_extension": ".py",
   "mimetype": "text/x-python",
   "name": "python",
   "nbconvert_exporter": "python",
   "pygments_lexer": "ipython3",
   "version": "3.8.6"
  }
 },
 "nbformat": 4,
 "nbformat_minor": 5
}
