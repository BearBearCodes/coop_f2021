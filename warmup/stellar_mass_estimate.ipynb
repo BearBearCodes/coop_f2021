{
 "cells": [
  {
   "cell_type": "markdown",
   "source": [
    "# Estimating Stellar Mass-to-Light Ratios using Colours\n",
    "\n",
    "Based on the work by [Taylor et al. (2011)](https://academic.oup.com/mnras/article/418/3/1587/1060932) and maybe [Gallazzi & Bell (2009)](https://iopscience.iop.org/article/10.1088/0067-0049/185/2/253)\n"
   ],
   "metadata": {}
  },
  {
   "cell_type": "code",
   "execution_count": 1,
   "source": [
    "# May need to do this if running remote server with VS Code\n",
    "%cd \"/arc/home/IsaacCheng/coop_f2021/warmup\""
   ],
   "outputs": [
    {
     "output_type": "stream",
     "name": "stdout",
     "text": [
      "/arc/home/IsaacCheng/coop_f2021/warmup\n"
     ]
    }
   ],
   "metadata": {}
  },
  {
   "cell_type": "code",
   "execution_count": 23,
   "source": [
    "import numpy as np\n",
    "import pandas as pd\n",
    "import matplotlib.pyplot as plt\n",
    "from matplotlib.colors import LogNorm\n",
    "from astropy.wcs import WCS\n",
    "import astropy.units as u\n",
    "import fits_plot_utils as utils\n",
    "import dill"
   ],
   "outputs": [],
   "metadata": {}
  },
  {
   "cell_type": "markdown",
   "source": [
    "# Load and mask data\n"
   ],
   "metadata": {}
  },
  {
   "cell_type": "code",
   "execution_count": 7,
   "source": [
    "# # \n",
    "# # Load data\n",
    "# # \n",
    "# vcc792_dist = 16.5 * u.Mpc\n",
    "# # Signal\n",
    "# zband_path = \"/arc/home/IsaacCheng/coop_f2021/ngvs_data/NGVS-2-2.l.z.Mg004.3136_8588_6905_10184.fits\"\n",
    "# iband_path = \"/arc/home/IsaacCheng/coop_f2021/ngvs_data/NGVS-2-2.l.i.Mg004.3136_8588_6905_10184.fits\"\n",
    "# gband_path = \"/arc/home/IsaacCheng/coop_f2021/ngvs_data/NGVS-2-2.l.g.Mg004.3136_8588_6905_10184.fits\"\n",
    "# uband_path = \"/arc/home/IsaacCheng/coop_f2021/ngvs_data/NGVS-2-2.l.u.Mg004.3136_8588_6905_10184.fits\"\n",
    "# # Noise (sigma maps)\n",
    "# znoise_path = \"/arc/home/IsaacCheng/coop_f2021/ngvs_data/NGVS-2-2.l.z.Mg004.sig.3136_8588_6905_10184.fits\"\n",
    "# inoise_path = \"/arc/home/IsaacCheng/coop_f2021/ngvs_data/NGVS-2-2.l.i.Mg004.sig.3136_8588_6905_10184.fits\"\n",
    "# gnoise_path = \"/arc/home/IsaacCheng/coop_f2021/ngvs_data/NGVS-2-2.l.g.Mg004.sig.3136_8588_6905_10184.fits\"\n",
    "# unoise_path = \"/arc/home/IsaacCheng/coop_f2021/ngvs_data/NGVS-2-2.l.u.Mg004.sig.3136_8588_6905_10184.fits\"\n",
    "# # Mask (flap maps)\n",
    "# zgood_path = \"/arc/home/IsaacCheng/coop_f2021/ngvs_data/NGVS-2-2.l.z.Mg004.flag.3136_8588_6905_10184.fits\"\n",
    "# igood_path = \"/arc/home/IsaacCheng/coop_f2021/ngvs_data/NGVS-2-2.l.i.Mg004.flag.3136_8588_6905_10184.fits\"\n",
    "# ggood_path = \"/arc/home/IsaacCheng/coop_f2021/ngvs_data/NGVS-2-2.l.g.Mg004.flag.3136_8588_6905_10184.fits\"\n",
    "# ugood_path = \"/arc/home/IsaacCheng/coop_f2021/ngvs_data/NGVS-2-2.l.u.Mg004.flag.3136_8588_6905_10184.fits\"\n",
    "# # \n",
    "# # Load NGVS data\n",
    "# # \n",
    "# # Signal\n",
    "# data_z, header_z = utils.load_img(zband_path)\n",
    "# data_i, header_i = utils.load_img(iband_path)\n",
    "# data_g, header_g = utils.load_img(gband_path)\n",
    "# data_u, header_u = utils.load_img(uband_path)\n",
    "# # Noise\n",
    "# noise_z, header_noise_z = utils.load_img(znoise_path)\n",
    "# noise_i, header_noise_i = utils.load_img(inoise_path)\n",
    "# noise_g, header_noise_g = utils.load_img(gnoise_path)\n",
    "# noise_u, header_noise_u = utils.load_img(unoise_path)\n",
    "# # Masks\n",
    "# good_z, header_good_z = utils.load_img(zgood_path, idx=1)\n",
    "# good_i, header_good_i = utils.load_img(igood_path, idx=1)\n",
    "# good_g, header_good_g = utils.load_img(ggood_path, idx=1)\n",
    "# good_u, header_good_u = utils.load_img(ugood_path, idx=1)\n",
    "# # \n",
    "# # VERTICO CO Data\n",
    "# # \n",
    "# # co_path = \"/arc/projects/vertico/products/release.v1.2/native/NGC4380/NGC4380_7m+tp_co21_pbcorr_round_k_mom0_Msun.fits\"\n",
    "# co_path = \"/arc/projects/vertico/products/release.v1.2/nyquistPix/9arcsec/NGC4380/NGC4380_7m+tp_co21_pbcorr_round_k_nyquistPix_9_arcsec_mom0_Msun.fits\"\n",
    "# data_co, header_co = utils.load_img(co_path)\n",
    "# wcs_co = WCS(header_co)\n",
    "# #\n",
    "# # Mask the data and noise arrays\n",
    "# #\n",
    "# data_u_masked = np.ma.masked_array(data_u, mask=good_u == 0).filled(fill_value=np.nan)\n",
    "# noise_u_masked = np.ma.masked_array(noise_u, mask=good_u == 0).filled(fill_value=np.nan)\n",
    "# data_g_masked = np.ma.masked_array(data_g, mask=good_g == 0).filled(fill_value=np.nan)\n",
    "# noise_g_masked = np.ma.masked_array(noise_g, mask=good_g == 0).filled(fill_value=np.nan)\n",
    "# data_i_masked = np.ma.masked_array(data_i, mask=good_i == 0).filled(fill_value=np.nan)\n",
    "# noise_i_masked = np.ma.masked_array(noise_i, mask=good_i == 0).filled(fill_value=np.nan)\n",
    "# data_z_masked = np.ma.masked_array(data_z, mask=good_z == 0).filled(fill_value=np.nan)\n",
    "# noise_z_masked = np.ma.masked_array(noise_z, mask=good_z == 0).filled(fill_value=np.nan)"
   ],
   "outputs": [],
   "metadata": {}
  },
  {
   "cell_type": "code",
   "execution_count": 31,
   "source": [
    "# \n",
    "# Load binned data from pickle file\n",
    "# \n",
    "g_infile = \"/arc/home/IsaacCheng/coop_f2021/binned_data/NGVS-2-2.l.g.Mg004.3136_8588_6905_10184_BINNED_reproject_exact.pkl\"\n",
    "with open(g_infile, \"rb\") as f:\n",
    "    g_file = dill.load(f)\n",
    "    g_xs = g_file[\"x_coords\"]\n",
    "    g_ys = g_file[\"y_coords\"]\n",
    "    g_signal = g_file[\"signal_binned\"]\n",
    "    g_noise = g_file[\"noise_binned\"]\n",
    "    g_isgood = g_file[\"is_good\"]\n",
    "    g_wcs = g_file[\"wcs_binned\"]\n",
    "    g_wcs.array_shape = g_file[\"wcs_binned_array_shape\"]\n",
    "# \n",
    "i_infile = \"/arc/home/IsaacCheng/coop_f2021/binned_data/NGVS-2-2.l.i.Mg004.3136_8588_6905_10184_BINNED_reproject_exact.pkl\"\n",
    "with open(i_infile, \"rb\") as f:\n",
    "    i_file = dill.load(f)\n",
    "    i_xs = i_file[\"x_coords\"]\n",
    "    i_ys = i_file[\"y_coords\"]\n",
    "    i_signal = i_file[\"signal_binned\"]\n",
    "    i_noise = i_file[\"noise_binned\"]\n",
    "    i_isgood = i_file[\"is_good\"]\n",
    "    i_wcs = i_file[\"wcs_binned\"]\n",
    "    i_wcs.array_shape = i_file[\"wcs_binned_array_shape\"]\n",
    "# \n",
    "# Load CO map data\n",
    "# \n",
    "co_path = \"/arc/projects/vertico/products/release.v1.2/nyquistPix/9arcsec/NGC4380/NGC4380_7m+tp_co21_pbcorr_round_k_nyquistPix_9_arcsec_mom0_Msun.fits\"\n",
    "data_co, header_co = utils.load_img(co_path)\n",
    "wcs_co = WCS(header_co)"
   ],
   "outputs": [
    {
     "output_type": "stream",
     "name": "stdout",
     "text": [
      "Filename: /arc/projects/vertico/products/release.v1.2/nyquistPix/9arcsec/NGC4380/NGC4380_7m+tp_co21_pbcorr_round_k_nyquistPix_9_arcsec_mom0_Msun.fits\n",
      "No.    Name      Ver    Type      Cards   Dimensions   Format\n",
      "  0  PRIMARY       1 PrimaryHDU      63   (42, 42)   float64   \n"
     ]
    },
    {
     "output_type": "stream",
     "name": "stderr",
     "text": [
      "WARNING: FITSFixedWarning: The WCS transformation has more axes (2) than the image it is associated with (0) [astropy.wcs.wcs]\n",
      "WARNING: FITSFixedWarning: 'datfix' made the change 'Set MJD-OBS to 58823.434418 from DATE-OBS'. [astropy.wcs.wcs]\n",
      "WARNING: FITSFixedWarning: 'obsfix' made the change 'Observatory coordinates incomplete'. [astropy.wcs.wcs]\n"
     ]
    }
   ],
   "metadata": {}
  },
  {
   "cell_type": "code",
   "execution_count": 10,
   "source": [
    "gi_signal = -2.5 * np.log10(g_signal / i_signal)  # g- & i-values from binned data\n",
    "# gi_noise = utils.calc_colour_err(g_signal, i_signal, g_noise, i_noise)\n",
    "# \n",
    "# Calculate relative magnitude in i-band\n",
    "# \n",
    "rel_mag_i = -2.5 * np.log10(i_signal) + 30.0  # AB magnitude system\n",
    "# \n",
    "# Get absolute magnitudes in i-band\n",
    "# \n",
    "vcc792_dist_pc = 16.5 * 1e6  # pc\n",
    "abs_mag_i = rel_mag_i - 5 * (np.log10(vcc792_dist_pc) - 1)\n",
    "abs_mag_i_sun = 4.58  # absolute AB magnitude of Sun in i-band\n",
    "#\n",
    "# Eq. (7) of Taylor et al. (2011)\n",
    "#\n",
    "log_MLi = -0.68 + 0.70 * gi_signal  # log10 of mass-to-light ratio in i-band\n",
    "MLi = 10 ** log_MLi  # mass-to-light ratio in i-band\n",
    "# \n",
    "# Get masses in solar units\n",
    "# \n",
    "Li = 10 ** (-0.4 * (abs_mag_i - abs_mag_i_sun))  # luminosity in i-band\n",
    "M = MLi * Li  # masses in solar units\n",
    "# \n",
    "# Save to file\n",
    "# \n",
    "Li_outfile = (\n",
    "    \"/arc/home/IsaacCheng/coop_f2021/binned_data/vcc792_MLi_BINNED_reproject_exact.txt\"\n",
    ")\n",
    "id_arr = np.array(\n",
    "    [str(x).zfill(2) + str(y).zfill(2) for x, y in zip(g_xs.flatten(), g_ys.flatten())]\n",
    ")\n",
    "Li_outdata = pd.DataFrame({\"id\": id_arr, \"Li\": Li.flatten(), \"M\": M.flatten()})\n",
    "Li_outdata.to_csv(Li_outfile, sep=\" \", index=False, header=True)\n",
    "# \n",
    "# Calculating masses using Eq. (8) of Taylor et al. (2011)\n",
    "# \n",
    "M2 = 10 ** (1.15 + 0.7 * gi_signal - 0.4 * abs_mag_i)\n",
    "# print(M)\n",
    "# print(M2)"
   ],
   "outputs": [],
   "metadata": {}
  },
  {
   "cell_type": "code",
   "execution_count": 45,
   "source": [
    "%matplotlib widget\n",
    "plt.close(\"all\")\n",
    "# \n",
    "# Plot mass map\n",
    "# \n",
    "cmap = \"viridis\"\n",
    "fig, ax = plt.subplots(subplot_kw={\"projection\": i_wcs})\n",
    "img = ax.imshow(M, cmap=cmap, norm=LogNorm(vmin=2e6, vmax=1e8))\n",
    "# img = ax.imshow(M, cmap=cmap, vmin=1e6, vmax=3e7)\n",
    "# img = ax.imshow(M, cmap=cmap, vmin=1e6, vmax=5e7)\n",
    "cbar = fig.colorbar(img)\n",
    "cbar.ax.tick_params(which=\"both\", direction=\"out\")\n",
    "cbar.set_label(r\"Stellar Mass Estimate ($M_*/M_\\odot$)\")\n",
    "cbar.ax.yaxis.set_offset_position(\"left\")\n",
    "ax.contour(\n",
    "    data_co,\n",
    "    transform=ax.get_transform(WCS(header_co)),\n",
    "    levels=range(0, 15, 5),\n",
    "    colors=\"w\"\n",
    ")\n",
    "ax.set_title(\"VCC 792 / NGC 4380: Stellar Mass Map Estimate\")\n",
    "ax.set_xlabel(\"RA (J2000)\")\n",
    "ax.set_ylabel(\"Dec (J2000)\")\n",
    "ax.grid(False)\n",
    "ax.set_aspect(\"equal\")\n",
    "# fig.tight_layout()\n",
    "# fig.savefig(\"imgs/vcc792_i-mass_estimate.pdf\")\n",
    "plt.show()\n"
   ],
   "outputs": [
    {
     "output_type": "display_data",
     "data": {
      "application/vnd.jupyter.widget-view+json": {
       "version_major": 2,
       "version_minor": 0,
       "model_id": "e3b542167aad4477a87e543c2db66dd9"
      },
      "text/plain": [
       "Canvas(toolbar=Toolbar(toolitems=[('Home', 'Reset original view', 'home', 'home'), ('Back', 'Back to previous …"
      ]
     },
     "metadata": {}
    },
    {
     "output_type": "stream",
     "name": "stderr",
     "text": [
      "WARNING: FITSFixedWarning: 'datfix' made the change 'Set MJD-OBS to 58823.434418 from DATE-OBS'. [astropy.wcs.wcs]\n",
      "WARNING: FITSFixedWarning: 'obsfix' made the change 'Observatory coordinates incomplete'. [astropy.wcs.wcs]\n"
     ]
    }
   ],
   "metadata": {}
  }
 ],
 "metadata": {
  "orig_nbformat": 4,
  "kernelspec": {
   "name": "python3",
   "display_name": "Python 3 (ipykernel)",
   "language": "python"
  },
  "language_info": {
   "name": "python",
   "version": "3.8.6",
   "mimetype": "text/x-python",
   "codemirror_mode": {
    "name": "ipython",
    "version": 3
   },
   "pygments_lexer": "ipython3",
   "nbconvert_exporter": "python",
   "file_extension": ".py"
  }
 },
 "nbformat": 4,
 "nbformat_minor": 2
}