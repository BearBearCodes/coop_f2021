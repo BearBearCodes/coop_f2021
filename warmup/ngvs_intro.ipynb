{
 "cells": [
  {
   "cell_type": "markdown",
   "source": [
    "# ngvs_intro.ipynb\n",
    "\n",
    "### Isaac Cheng - September 2021\n",
    "\n",
    "Just exploring the NGVS data (of VCC 792 aka NGC 4380) given to me. Read [this webpage](http://www.cadc-ccda.hia-iha.nrc-cnrc.gc.ca/en/community/ngvs/docs/ngvsdoc.html) for lots of useful information! Also look at [this PDF](https://www.ucolick.org/~bolte/AY257/s_n.pdf) for a useful overview of CCD signal/noise satistics. Also read the section on binning.\n",
    "\n",
    "[Astropy Course](https://www.iasf-milano.inaf.it/astropy-course/), in particular, see the [Astropy image walkthrough](https://www.iasf-milano.inaf.it/AstropyCourse/07.Images.slides.html)"
   ],
   "metadata": {}
  },
  {
   "cell_type": "code",
   "execution_count": 9,
   "source": [
    "import numpy as np\n",
    "import matplotlib.pyplot as plt\n",
    "import matplotlib as mpl\n",
    "from matplotlib.colors import LogNorm\n",
    "import matplotlib.font_manager as fm\n",
    "from mpl_toolkits.axes_grid1.anchored_artists import AnchoredSizeBar\n",
    "from astropy.wcs.utils import proj_plane_pixel_scales\n",
    "import astropy.units as u\n",
    "from astropy.io import fits\n",
    "from astropy.wcs import WCS\n",
    "import copy\n",
    "# %matplotlib widget"
   ],
   "outputs": [],
   "metadata": {}
  },
  {
   "cell_type": "code",
   "execution_count": 3,
   "source": [
    "def shiftedColorMap(cmap, start=0, midpoint=0.5, stop=1.0, name='shiftedcmap'):\n",
    "    '''\n",
    "    Function to offset the \"center\" of a colormap. Useful for\n",
    "    data with a negative min and positive max and you want the\n",
    "    middle of the colormap's dynamic range to be at zero.\n",
    "    \n",
    "    From https://stackoverflow.com/a/20528097.\n",
    "\n",
    "    Input\n",
    "    -----\n",
    "      cmap : The matplotlib colormap to be altered\n",
    "      start : Offset from lowest point in the colormap's range.\n",
    "          Defaults to 0.0 (no lower offset). Should be between\n",
    "          0.0 and `midpoint`.\n",
    "      midpoint : The new center of the colormap. Defaults to \n",
    "          0.5 (no shift). Should be between 0.0 and 1.0. In\n",
    "          general, this should be  1 - vmax / (vmax + abs(vmin))\n",
    "          For example if your data range from -15.0 to +5.0 and\n",
    "          you want the center of the colormap at 0.0, `midpoint`\n",
    "          should be set to  1 - 5/(5 + 15)) or 0.75\n",
    "      stop : Offset from highest point in the colormap's range.\n",
    "          Defaults to 1.0 (no upper offset). Should be between\n",
    "          `midpoint` and 1.0.\n",
    "    '''\n",
    "    cdict = {\n",
    "        'red': [],\n",
    "        'green': [],\n",
    "        'blue': [],\n",
    "        'alpha': []\n",
    "    }\n",
    "\n",
    "    # regular index to compute the colors\n",
    "    reg_index = np.linspace(start, stop, 257)\n",
    "\n",
    "    # shifted index to match the data\n",
    "    shift_index = np.hstack([\n",
    "        np.linspace(0.0, midpoint, 128, endpoint=False), \n",
    "        np.linspace(midpoint, 1.0, 129, endpoint=True)\n",
    "    ])\n",
    "\n",
    "    for ri, si in zip(reg_index, shift_index):\n",
    "        r, g, b, a = cmap(ri)\n",
    "\n",
    "        cdict['red'].append((si, r, r))\n",
    "        cdict['green'].append((si, g, g))\n",
    "        cdict['blue'].append((si, b, b))\n",
    "        cdict['alpha'].append((si, a, a))\n",
    "\n",
    "    newcmap = mpl.colors.LinearSegmentedColormap(name, cdict)\n",
    "    plt.register_cmap(cmap=newcmap)\n",
    "\n",
    "    return newcmap\n",
    "\n",
    "\n",
    "class MidPointLogNorm(LogNorm):\n",
    "    \"\"\"\n",
    "    LogNorm with adjustable midpoint. From https://stackoverflow.com/a/48632237.\n",
    "    \"\"\"\n",
    "    def __init__(self, vmin=None, vmax=None, midpoint=None, clip=False):\n",
    "        LogNorm.__init__(self,vmin=vmin, vmax=vmax, clip=clip)\n",
    "        self.midpoint=midpoint\n",
    "    def __call__(self, value, clip=None):\n",
    "        result, is_scalar = self.process_value(value)\n",
    "        x, y = [np.log(self.vmin), np.log(self.midpoint), np.log(self.vmax)], [0, 0.5, 1]\n",
    "        return np.ma.array(np.interp(np.log(value), x, y), mask=result.mask, copy=False)\n"
   ],
   "outputs": [],
   "metadata": {}
  },
  {
   "cell_type": "markdown",
   "source": [
    "## Log-Scale  1 Band Image & g-i Colour Index Image"
   ],
   "metadata": {}
  },
  {
   "cell_type": "code",
   "execution_count": 4,
   "source": [
    "def load_img(imgpath, idx=0):\n",
    "    \"\"\"\n",
    "    Retrieves and returns the image data and header from a .fits file\n",
    "    given a filepath.\n",
    "    \n",
    "    Parameters:\n",
    "      imgpath :: str\n",
    "        The path to the .fits file\n",
    "      idx :: int (optional, default: 0)\n",
    "        The index of the block from which to extract the data\n",
    "    \n",
    "    Returns: imgdata, imgheader, imgwcs\n",
    "      imgdata :: 2D array\n",
    "        An array with the pixel values from the .fits file\n",
    "      imgheader :: `astropy.io.fits.header.Header`\n",
    "        The header to the .fits file\n",
    "    \"\"\"\n",
    "    with fits.open(imgpath) as hdu_list:\n",
    "        hdu_list.info()\n",
    "        # Get image data (typically in PRIMARY block)\n",
    "        imgdata = hdu_list[idx].data  # 2D array\n",
    "        # Get image header and WCS coordinates\n",
    "        imgheader = hdu_list[idx].header\n",
    "        # imgwcs = WCS(hdu_list[0].header)\n",
    "    return imgdata, imgheader\n",
    "\n",
    "\n",
    "def add_scalebar(ax, imgwcs, dist, scalebar_factor=1, label=\"1 kpc\", color=\"k\", loc=\"lower right\",\n",
    "                 size_vertical=0.5, pad=1, fontsize=12, **kwargs):\n",
    "    \"\"\"\n",
    "    Adds a 1 kpc scale bar (by default) to a plot.\n",
    "    \n",
    "    Parameters:\n",
    "      ax :: `matplotlib.axes._subplots.AxesSubplot`\n",
    "        The matplotlib axis object on which to add the scalebar\n",
    "      imgwcs :: `astropy.wcs.wcs.WCS`\n",
    "        The WCS coordinates of the .fits file\n",
    "      dist :: `astropy.units.quantity.Quantity` scalar\n",
    "        The distance to the object\n",
    "      scalebar_factor :: float\n",
    "        Factor by which to multiply the 1 kpc scale bar.\n",
    "      label :: str (optional, default: \"1 kpc\")\n",
    "        The scale bar label\n",
    "      color :: str (optional, default: \"k\")\n",
    "        Colour of the scale bar and label\n",
    "      loc :: str or int (optional, default: \"lower right\")\n",
    "        The location of the scale bar and label\n",
    "      size_vertical :: float (optional, default: 0.5)\n",
    "        Vertical length of the scale bar (in ax units)\n",
    "      pad :: float or int (optional, default: 1)\n",
    "        Padding around scale bar and label (in fractions of the font size)\n",
    "      fontsize :: str or int (optional, default: 12)\n",
    "        The font size for the label\n",
    "      **kwargs :: dict (optional)\n",
    "        Keyworded arguments to pass to `matplotlib.offsetbox.AnchoredOffsetbox`\n",
    "        \n",
    "    Returns: ax.add_artist(scalebar)\n",
    "      ax.add_artist(scalebar) :: `mpl_toolkits.axes_grid1.anchored_artists.AnchoredSizeBar`\n",
    "        Adds the scale har to the given ax\n",
    "    \"\"\"\n",
    "    arcsec_per_px = (proj_plane_pixel_scales(imgwcs.celestial)[0] * u.deg).to(u.arcsec)\n",
    "    # Still deciding whether to use arctan for the next line\n",
    "    arcsec_per_kpc = np.rad2deg(1 * u.kpc / dist.to(u.kpc) * u.rad).to(u.arcsec)\n",
    "    px_per_kpc = arcsec_per_kpc / arcsec_per_px\n",
    "    # Set font properties\n",
    "    fontproperties = fm.FontProperties(size=fontsize)\n",
    "    # Add scale bar\n",
    "    scalebar = AnchoredSizeBar(ax.transData, px_per_kpc * scalebar_factor, label=label, loc=loc,\n",
    "                               fontproperties=fontproperties, pad=pad, color=color,\n",
    "                               frameon=False, size_vertical=size_vertical, **kwargs)\n",
    "    return ax.add_artist(scalebar)\n",
    "\n",
    "\n",
    "def plot_img_log(imgdata, imgheader, dist,\n",
    "                 levels=18, cmap=\"magma\", vmin=None, vmax=None, midpoint=None, interp=\"none\",\n",
    "                 scale_lbl=\"1 kpc\", scale_loc=\"lower right\", scale_color=\"k\",\n",
    "                 scalebar_factor=1, scale_size_vertical=0.5, scale_pad=1, scale_fontsize=12, \n",
    "                 fig_title=None, fig_yax=None, fig_xax=None, fig_cbar=None,\n",
    "                 figname=None, dpi=300, **imshow_kwargs):\n",
    "    \"\"\"\n",
    "    Plots an image with a spatial scale bar using `imshow` + a log_10 colour bar scale.\n",
    "    Also optionally saves the figure if given a figname.\n",
    "    May not use in the future since it is so clunky.\n",
    "    \n",
    "    FIXME: add **scale_kwargs\n",
    "    \n",
    "    Parameters:\n",
    "      imgdata :: 2D array\n",
    "        An array with the pixel values from the .fits file\n",
    "      imgheader :: `astropy.io.fits.header.Header`\n",
    "        The header to the .fits file\n",
    "      dist :: `astropy.units.quantity.Quantity` scalar\n",
    "        The distance to the object\n",
    "      levels :: int (optional, default: 18. NOT USED)\n",
    "        Number of contour levels to use (NOT USED)\n",
    "      cmap :: str (optional, default: \"magma\")\n",
    "        Colour map\n",
    "      vmin, vmax, midpoint :: float (optional, defaults: None)\n",
    "        The minimum, maximum, and midpoint of the colour bar. If None,\n",
    "        use the default values determined by matplotlib\n",
    "      interp :: str (optional, default: \"none\")\n",
    "        Interpolation for `imshow` (e.g., \"none\", \"antiasliased\", \"bicubic\")\n",
    "      scale_lbl, scale_loc, scale_color :: str (optional,\n",
    "                                                defaults: \"1 kpc\", \"lower right\", \"k\")\n",
    "        The label, location, and colour of the scale bar\n",
    "      scalebar_factor :: float (optional, default: 1)\n",
    "        Factor by which to multiply the 1 kpc scale bar.\n",
    "      scale_size_vertical :: float (optional, default: 0.5)\n",
    "        Vertical length of the scale bar (in axis units)\n",
    "      scale_pad :: float or int (optional, default: 1)\n",
    "        Padding around scale bar and label (in fractions of the font size)\n",
    "      scale_fontsize :: str or int (optional, default: 12)\n",
    "        The font size for the scale bar label\n",
    "      fig_title, fig_yax, fig_xax, fig_cbar :: str (optional, defaults: None)\n",
    "        The title of the plot, y-axis label, x-axis label, and colourbar label.\n",
    "        If None, do not write labels (though astropy may automatically add coordinate labels)\n",
    "      figname :: str (optional, default: None)\n",
    "        Name of the file to save (e.g. \"img.pdf\", \"img_2.png\"). By default, it will save the file\n",
    "        in the directory from which the Python file is called or where the iPython notebook is located.\n",
    "        If None, do not save the image.\n",
    "      dpi :: int (optional, default: 300)\n",
    "        The dpi of the saved image. Relevant for raster graphics only (i.e., not PDFs).\n",
    "      **imshow_kwargs :: dict (optional)\n",
    "          Keyworded arguments to pass to `matplotlib.image.AxesImage`\n",
    "    \n",
    "      Returns: None\n",
    "    \"\"\"\n",
    "    imgwcs = WCS(imgheader)\n",
    "    # Remove background pixels\n",
    "#     imgdata[imgdata <= 0] = np.nan  # or not. May look bad\n",
    "#     imgdata[imgdata <= 0] = np.min(imgdata[imgdata > 0])\n",
    "    imgdata[imgdata <= 0] = 1e-15\n",
    "#     cmap = mpl.cm.get_cmap(cmap, levels)\n",
    "    cmap = copy.copy(mpl.cm.get_cmap(cmap))\n",
    "    # Set NaN pixels to lowest colour in colormap\n",
    "    cmap.set_bad(cmap(0))\n",
    "    #\n",
    "    fig, ax = plt.subplots(subplot_kw={\"projection\": imgwcs})\n",
    "    if midpoint is None:\n",
    "        img = ax.imshow(imgdata, cmap=cmap,\n",
    "                        norm=LogNorm(vmin=vmin, vmax=vmax),\n",
    "                        interpolation=interp, **imshow_kwargs)\n",
    "    elif midpoint > 0:\n",
    "        img = ax.imshow(imgdata, cmap=cmap,\n",
    "                        norm=MidPointLogNorm(vmin=vmin, vmax=vmax, midpoint=midpoint),\n",
    "                        interpolation=interp, **imshow_kwargs)\n",
    "    else:\n",
    "        raise ValueError(\"midpoint should be >0 and between vmin & vmax\")\n",
    "    add_scalebar(ax, imgwcs, dist, scalebar_factor=scalebar_factor, label=scale_lbl,\n",
    "                 color=scale_color, loc=scale_loc, size_vertical=scale_size_vertical,\n",
    "                 pad=scale_pad, fontsize=scale_fontsize)\n",
    "    cbar = fig.colorbar(img)\n",
    "    cbar.ax.tick_params(which=\"both\", direction=\"out\")\n",
    "    # cbar.ax.minorticks_off()\n",
    "    cbar.set_label(fig_cbar) if fig_cbar is not None else None\n",
    "    ax.tick_params(which=\"both\", direction=\"out\")\n",
    "    ax.set_xlabel(fig_xax) if fig_xax is not None else None\n",
    "    ax.set_ylabel(fig_yax) if fig_yax is not None else None\n",
    "    ax.set_title(fig_title) if fig_title is not None else None\n",
    "    ax.grid(False)\n",
    "    ax.set_aspect(\"equal\")\n",
    "    fig.savefig(figname, bbox_inches=\"tight\", dpi=dpi) if figname is not None else None\n",
    "    plt.show()\n",
    "\n",
    "\n",
    "def plot_img_linear(imgdata, imgheader, dist,\n",
    "                    levels=18, cmap=\"magma\", vmin=None, vmax=None, midpoint=0.5, interp=\"none\",\n",
    "                    scale_lbl=\"1 kpc\", scale_loc=\"lower right\", scale_color=\"k\",\n",
    "                    scalebar_factor=1, scale_size_vertical=0.5, scale_pad=1, scale_fontsize=12, \n",
    "                    fig_title=None, fig_yax=None, fig_xax=None, fig_cbar=None,\n",
    "                    figname=None, dpi=300, **imshow_kwargs):\n",
    "    \"\"\"\n",
    "    Plots an image with a spatial scale bar using `imshow` + a linear colour bar scale.\n",
    "    Also optionally saves the figure if given a figname.\n",
    "    May not use in the future since it is so clunky.\n",
    "    \n",
    "    FIXME: add **scale_kwargs\n",
    "    \n",
    "    Parameters:\n",
    "      imgdata :: 2D array\n",
    "        An array with the pixel values from the .fits file\n",
    "      imgheader :: `astropy.io.fits.header.Header`\n",
    "        The header to the .fits file\n",
    "      dist :: `astropy.units.quantity.Quantity` scalar\n",
    "        The distance to the object\n",
    "      levels :: int (optional, default: 18. NOT USED)\n",
    "        Number of contour levels to use (NOT USED)\n",
    "      cmap :: str (optional, default: \"magma\")\n",
    "        Colour map\n",
    "      vmin, vmax, midpoint :: float (optional, defaults: None)\n",
    "        The minimum, maximum of the colour bar. If None,\n",
    "        use the default values determined by matplotlib\n",
    "      midpoint :: float (optional, default: 0.5)\n",
    "        The midpoint of the colourbar. Must be between 0.0 and 1.0.\n",
    "      interp :: str (optional, default: \"none\")\n",
    "        Interpolation for `imshow` (e.g., \"none\", \"antiasliased\", \"bicubic\")\n",
    "      scale_lbl, scale_loc, scale_color :: str (optional,\n",
    "                                                defaults: \"1 kpc\", \"lower right\", \"k\")\n",
    "        The label, location, and colour of the scale bar\n",
    "      scalebar_factor :: float (optional, default: 1)\n",
    "        Factor by which to multiply the 1 kpc scale bar.\n",
    "      scale_size_vertical :: float (optional, default: 0.5)\n",
    "        Vertical length of the scale bar (in axis units)\n",
    "      scale_pad :: float or int (optional, default: 1)\n",
    "        Padding around scale bar and label (in fractions of the font size)\n",
    "      scale_fontsize :: str or int (optional, default: 12)\n",
    "        The font size for the scale bar label\n",
    "      fig_title, fig_yax, fig_xax, fig_cbar :: str (optional, defaults: None)\n",
    "        The title of the plot, y-axis label, x-axis label, and colourbar label.\n",
    "        If None, do not write labels (though astropy may automatically add coordinate labels)\n",
    "      figname :: str (optional, default: None)\n",
    "        Name of the file to save (e.g. \"img.pdf\", \"img_2.png\"). By default, it will save the file\n",
    "        in the directory from which the Python file is called or where the iPython notebook is located.\n",
    "        If None, do not save the image.\n",
    "      dpi :: int (optional, default: 300)\n",
    "        The dpi of the saved image. Relevant for raster graphics only (i.e., not PDFs).\n",
    "      **imshow_kwargs :: dict (optional)\n",
    "          Keyworded arguments to pass to `matplotlib.image.AxesImage`\n",
    "    \n",
    "      Returns: None\n",
    "    \"\"\"\n",
    "    imgwcs = WCS(imgheader)\n",
    "    # Remove background pixels\n",
    "#     imgdata[imgdata <= 0] = np.nan  # or not. May look bad\n",
    "#     imgdata[imgdata <= 0] = np.min(imgdata[imgdata > 0])\n",
    "#     imgdata[imgdata <= 0] = 1e-15\n",
    "#     cmap = mpl.cm.get_cmap(cmap, levels)\n",
    "    cmap = mpl.cm.get_cmap(cmap)\n",
    "    cmap = copy.copy(shiftedColorMap(cmap, midpoint=midpoint))\n",
    "    # Set NaN pixels to lowest colour in colormap\n",
    "    cmap.set_bad(cmap(0))\n",
    "    #\n",
    "    fig, ax = plt.subplots(subplot_kw={\"projection\": imgwcs})\n",
    "    img = ax.imshow(imgdata, cmap=cmap, vmin=vmin, vmax=vmax, **imshow_kwargs)\n",
    "    add_scalebar(ax, imgwcs, dist, scalebar_factor=scalebar_factor, label=scale_lbl,\n",
    "                 color=scale_color, loc=scale_loc, size_vertical=scale_size_vertical,\n",
    "                 pad=scale_pad, fontsize=scale_fontsize)\n",
    "    cbar = fig.colorbar(img)\n",
    "    cbar.ax.tick_params(which=\"both\", direction=\"out\")\n",
    "    # cbar.ax.minorticks_off()\n",
    "    cbar.set_label(fig_cbar) if fig_cbar is not None else None\n",
    "    ax.tick_params(which=\"both\", direction=\"out\")\n",
    "    ax.set_xlabel(fig_xax) if fig_xax is not None else None\n",
    "    ax.set_ylabel(fig_yax) if fig_yax is not None else None\n",
    "    ax.set_title(fig_title) if fig_title is not None else None\n",
    "    ax.grid(False)\n",
    "    ax.set_aspect(\"equal\")\n",
    "    fig.savefig(figname, bbox_inches=\"tight\", dpi=dpi) if figname is not None else None\n",
    "    plt.show()"
   ],
   "outputs": [],
   "metadata": {}
  },
  {
   "cell_type": "code",
   "execution_count": null,
   "source": [
    "def cutout(left=None, right=None, top-None, bottom=None):\n",
    "    \"\"\"\n",
    "    Parameters:\n",
    "      left, right, top, bottom :: int\n",
    "        Indices for the left, right, top, and bottom\n",
    "    \"\"\"\n",
    "    # TODO: make cutout method and also update the WCS object"
   ],
   "outputs": [],
   "metadata": {}
  },
  {
   "cell_type": "markdown",
   "source": [
    "### Log Image"
   ],
   "metadata": {}
  },
  {
   "cell_type": "code",
   "execution_count": 4,
   "source": [
    "vcc792_path = \"/arc/home/IsaacCheng/coop_f2021/ngvs_data/NGVS-2-2.l.g.Mg004.3136_8588_6905_10184.fits\"\n",
    "vcc792_dist = 16.5 * u.Mpc\n",
    "data, header = load_img(vcc792_path)\n",
    "plot_img_log(data, header, vcc792_dist, cmap=\"gray\", vmin=1e-1, midpoint=23, vmax=None,\n",
    "             scalebar_factor=10, scale_color=\"w\", scale_lbl=\"10 kpc\", fig_title=\"VCC 792 / NGC 4380\",\n",
    "             fig_yax=\"Dec (J2000)\", fig_xax=\"RA (J2000)\", fig_cbar=\"Log g-Band Flux\", figname=\"vcc792_g_v1.pdf\")"
   ],
   "outputs": [
    {
     "output_type": "stream",
     "name": "stdout",
     "text": [
      "Filename: /arc/home/IsaacCheng/coop_f2021/ngvs_data/NGVS-2-2.l.g.Mg004.3136_8588_6905_10184.fits\n",
      "No.    Name      Ver    Type      Cards   Dimensions   Format\n",
      "  0  PRIMARY       1 PrimaryHDU      52   (5453, 3280)   float32   \n"
     ]
    },
    {
     "output_type": "stream",
     "name": "stderr",
     "text": [
      "WARNING: FITSFixedWarning: RADECSYS= 'ICRS ' / Astrometric system \n",
      "the RADECSYS keyword is deprecated, use RADESYSa. [astropy.wcs.wcs]\n"
     ]
    },
    {
     "output_type": "display_data",
     "data": {
      "application/vnd.jupyter.widget-view+json": {
       "model_id": "e0c45566d7cd4d29a3a3158bd13fec45",
       "version_major": 2,
       "version_minor": 0
      },
      "text/plain": [
       "Canvas(toolbar=Toolbar(toolitems=[('Home', 'Reset original view', 'home', 'home'), ('Back', 'Back to previous …"
      ]
     },
     "metadata": {}
    }
   ],
   "metadata": {}
  },
  {
   "cell_type": "markdown",
   "source": [
    "### g-i Colour Index Image"
   ],
   "metadata": {}
  },
  {
   "cell_type": "code",
   "execution_count": 5,
   "source": [
    "vcc792_g_path = \"/arc/home/IsaacCheng/coop_f2021/ngvs_data/NGVS-2-2.l.g.Mg004.3136_8588_6905_10184.fits\"\n",
    "vcc792_i_path = \"/arc/home/IsaacCheng/coop_f2021/ngvs_data/NGVS-2-2.l.i.Mg004.3136_8588_6905_10184.fits\"\n",
    "data_g, header_g = load_img(vcc792_g_path)\n",
    "data_i, header_i = load_img(vcc792_i_path)\n",
    "# # Double-checking that the images have the same extent\n",
    "# print(WCS(header_g).pixel_to_world(0,0))\n",
    "# print(WCS(header_i).pixel_to_world(0,0))\n",
    "# print(WCS(header_g).pixel_to_world(*data_g.shape))\n",
    "# print(WCS(header_i).pixel_to_world(*data_i.shape))\n",
    "plot_img_log(data_g, header_g, vcc792_dist, cmap=\"gray\", vmin=1e-1, midpoint=23, vmax=None,\n",
    "             scalebar_factor=10, scale_color=\"w\", scale_lbl=\"10 kpc\", fig_title=\"VCC 792 / NGC 4380\",\n",
    "             fig_yax=\"Dec (J2000)\", fig_xax=\"RA (J2000)\", fig_cbar=\"Log g-Band Flux\")\n",
    "plot_img_log(data_i, header_i, vcc792_dist, cmap=\"gray\", vmin=1e-1, midpoint=23, vmax=None,\n",
    "             scalebar_factor=10, scale_color=\"w\", scale_lbl=\"10 kpc\", fig_title=\"VCC 792 / NGC 4380\",\n",
    "             fig_yax=\"Dec (J2000)\", fig_xax=\"RA (J2000)\", fig_cbar=\"Log i-Band Flux\")"
   ],
   "outputs": [
    {
     "output_type": "stream",
     "name": "stdout",
     "text": [
      "Filename: /arc/home/IsaacCheng/coop_f2021/ngvs_data/NGVS-2-2.l.g.Mg004.3136_8588_6905_10184.fits\n",
      "No.    Name      Ver    Type      Cards   Dimensions   Format\n",
      "  0  PRIMARY       1 PrimaryHDU      52   (5453, 3280)   float32   \n",
      "Filename: /arc/home/IsaacCheng/coop_f2021/ngvs_data/NGVS-2-2.l.i.Mg004.3136_8588_6905_10184.fits\n",
      "No.    Name      Ver    Type      Cards   Dimensions   Format\n",
      "  0  PRIMARY       1 PrimaryHDU      52   (5453, 3280)   float32   \n"
     ]
    },
    {
     "output_type": "stream",
     "name": "stderr",
     "text": [
      "WARNING: FITSFixedWarning: RADECSYS= 'ICRS ' / Astrometric system \n",
      "the RADECSYS keyword is deprecated, use RADESYSa. [astropy.wcs.wcs]\n"
     ]
    },
    {
     "output_type": "display_data",
     "data": {
      "application/vnd.jupyter.widget-view+json": {
       "model_id": "1d01124e28a64420a2177f1e47f615d3",
       "version_major": 2,
       "version_minor": 0
      },
      "text/plain": [
       "Canvas(toolbar=Toolbar(toolitems=[('Home', 'Reset original view', 'home', 'home'), ('Back', 'Back to previous …"
      ]
     },
     "metadata": {}
    },
    {
     "output_type": "stream",
     "name": "stderr",
     "text": [
      "WARNING: FITSFixedWarning: RADECSYS= 'ICRS ' / Astrometric system \n",
      "the RADECSYS keyword is deprecated, use RADESYSa. [astropy.wcs.wcs]\n"
     ]
    },
    {
     "output_type": "display_data",
     "data": {
      "application/vnd.jupyter.widget-view+json": {
       "model_id": "f5bf300c7395483e8b590e2104c72469",
       "version_major": 2,
       "version_minor": 0
      },
      "text/plain": [
       "Canvas(toolbar=Toolbar(toolitems=[('Home', 'Reset original view', 'home', 'home'), ('Back', 'Back to previous …"
      ]
     },
     "metadata": {}
    }
   ],
   "metadata": {}
  },
  {
   "cell_type": "code",
   "execution_count": 6,
   "source": [
    "gi_colour = -2.5 * np.log10(data_g / data_i)\n",
    "# plt.hist(gi_colour.flatten(), bins=50)\n",
    "# plt.show()\n",
    "plot_img_linear(gi_colour, header_i, vcc792_dist, cmap=\"plasma\", midpoint=0.5,\n",
    "#                 vmin=np.percentile(gi_colour.flatten(), 22), vmax=np.percentile(gi_colour.flatten(), 83),\n",
    "                vmin=0.5, vmax=1.6,\n",
    "                interp=\"antialiased\",\n",
    "                scalebar_factor=10, scale_color=\"w\", scale_size_vertical=20, scale_lbl=\"10 kpc\", scale_fontsize=15,\n",
    "                fig_title=\"VCC 792 / NGC 4380\", fig_yax=\"Dec (J2000)\", fig_xax=\"RA (J2000)\",\n",
    "                fig_cbar=\"g-i Colour Index\", figname=\"vcc792_g-i_dpi300_v2.1.png\")"
   ],
   "outputs": [
    {
     "output_type": "stream",
     "name": "stderr",
     "text": [
      "WARNING: FITSFixedWarning: RADECSYS= 'ICRS ' / Astrometric system \n",
      "the RADECSYS keyword is deprecated, use RADESYSa. [astropy.wcs.wcs]\n"
     ]
    },
    {
     "output_type": "display_data",
     "data": {
      "application/vnd.jupyter.widget-view+json": {
       "model_id": "a29a2bc8702a47ffa0c7cfe2e3f20fed",
       "version_major": 2,
       "version_minor": 0
      },
      "text/plain": [
       "Canvas(toolbar=Toolbar(toolitems=[('Home', 'Reset original view', 'home', 'home'), ('Back', 'Back to previous …"
      ]
     },
     "metadata": {}
    }
   ],
   "metadata": {}
  },
  {
   "cell_type": "code",
   "execution_count": 7,
   "source": [
    "plt.close(\"all\")"
   ],
   "outputs": [],
   "metadata": {}
  },
  {
   "cell_type": "markdown",
   "source": [
    "## RGB image"
   ],
   "metadata": {}
  },
  {
   "cell_type": "code",
   "execution_count": 5,
   "source": [
    "# \"red\" channel (i-band)\n",
    "iband_path = \"/arc/home/IsaacCheng/coop_f2021/ngvs_data/NGVS-2-2.l.i.Mg004.3136_8588_6905_10184.fits\"\n",
    "# \"green\" channel (g-band)\n",
    "gband_path = \"/arc/home/IsaacCheng/coop_f2021/ngvs_data/NGVS-2-2.l.g.Mg004.3136_8588_6905_10184.fits\"\n",
    "# \"blue\" channel (u-band)\n",
    "uband_path = \"/arc/home/IsaacCheng/coop_f2021/ngvs_data/NGVS-2-2.l.u.Mg004.3136_8588_6905_10184.fits\"\n",
    "# \n",
    "# Load .fits files\n",
    "# \n",
    "data_i, header_i = load_img(iband_path)\n",
    "data_g, header_g = load_img(gband_path)\n",
    "data_u, header_u = load_img(uband_path)"
   ],
   "outputs": [
    {
     "output_type": "stream",
     "name": "stdout",
     "text": [
      "Filename: /arc/home/IsaacCheng/coop_f2021/ngvs_data/NGVS-2-2.l.i.Mg004.3136_8588_6905_10184.fits\n",
      "No.    Name      Ver    Type      Cards   Dimensions   Format\n",
      "  0  PRIMARY       1 PrimaryHDU      52   (5453, 3280)   float32   \n",
      "Filename: /arc/home/IsaacCheng/coop_f2021/ngvs_data/NGVS-2-2.l.g.Mg004.3136_8588_6905_10184.fits\n",
      "No.    Name      Ver    Type      Cards   Dimensions   Format\n",
      "  0  PRIMARY       1 PrimaryHDU      52   (5453, 3280)   float32   \n",
      "Filename: /arc/home/IsaacCheng/coop_f2021/ngvs_data/NGVS-2-2.l.u.Mg004.3136_8588_6905_10184.fits\n",
      "No.    Name      Ver    Type      Cards   Dimensions   Format\n",
      "  0  PRIMARY       1 PrimaryHDU      58   (5453, 3280)   float32   \n"
     ]
    }
   ],
   "metadata": {}
  },
  {
   "cell_type": "markdown",
   "source": [
    "### Direct data-to-RGB image"
   ],
   "metadata": {}
  },
  {
   "cell_type": "code",
   "execution_count": 6,
   "source": [
    "from astropy.visualization import make_lupton_rgb  # for RGB image. https://docs.astropy.org/en/stable/visualization/rgb.html\n",
    "rgb_data = make_lupton_rgb(data_i, data_g, data_u)\n",
    "rgb_wcs = WCS(header_i)\n",
    "print(rgb_data.shape)"
   ],
   "outputs": [
    {
     "output_type": "stream",
     "name": "stdout",
     "text": [
      "(3280, 5453, 3)\n"
     ]
    },
    {
     "output_type": "stream",
     "name": "stderr",
     "text": [
      "WARNING: FITSFixedWarning: RADECSYS= 'ICRS ' / Astrometric system \n",
      "the RADECSYS keyword is deprecated, use RADESYSa. [astropy.wcs.wcs]\n"
     ]
    }
   ],
   "metadata": {}
  },
  {
   "cell_type": "code",
   "execution_count": 8,
   "source": [
    "vcc792_dist = 16.5 * u.Mpc\n",
    "fig, ax = plt.subplots(subplot_kw={\"projection\": rgb_wcs})\n",
    "rgb_img = ax.imshow(rgb_data, interpolation=\"antialiased\")\n",
    "add_scalebar(ax, rgb_wcs, vcc792_dist, scalebar_factor=10, label=\"10 kpc\", color=\"w\")\n",
    "ax.grid(False)\n",
    "ax.tick_params(which=\"both\", direction=\"out\")\n",
    "ax.set_xlabel(\"RA (J2000)\")\n",
    "ax.set_ylabel(\"Dec (J2000)\")\n",
    "ax.set_title(\"VCC 792 / NGC 4380\")\n",
    "# fig.savefig(\"vcc792_rgb_noprocessing.png\", dpi=300)\n",
    "plt.show()"
   ],
   "outputs": [
    {
     "output_type": "display_data",
     "data": {
      "image/png": "[encoded data removed]",
      "text/plain": [
       "<Figure size 432x288 with 1 Axes>"
      ]
     },
     "metadata": {
      "needs_background": "light"
     }
    }
   ],
   "metadata": {}
  },
  {
   "cell_type": "code",
   "execution_count": 9,
   "source": [
    "# Cutout galaxy\n",
    "from astropy.nddata import Cutout2D\n",
    "data_i_cut = Cutout2D(data_i, (2716, 1613), (1100, 1300), wcs=rgb_wcs)\n",
    "data_g_cut = Cutout2D(data_g, (2716, 1613), (1100, 1300), wcs=rgb_wcs).data\n",
    "data_u_cut = Cutout2D(data_u, (2716, 1613), (1100, 1300), wcs=rgb_wcs).data\n",
    "rgb_wcs_cut = data_i_cut.wcs\n",
    "data_i_cut = data_i_cut.data"
   ],
   "outputs": [],
   "metadata": {}
  },
  {
   "cell_type": "markdown",
   "source": [
    "### Histogram Equalization (BAD)"
   ],
   "metadata": {}
  },
  {
   "cell_type": "code",
   "execution_count": 54,
   "source": [
    "from astropy.visualization import HistEqStretch  # for RGB image. https://docs.astropy.org/en/stable/visualization/rgb.html\n",
    "data_i_histEq = HistEqStretch(data_i).data.reshape(data_i.shape)\n",
    "data_g_histEq = HistEqStretch(data_g).data.reshape(data_g.shape)\n",
    "data_u_histEq = HistEqStretch(data_u).data.reshape(data_u.shape)"
   ],
   "outputs": [],
   "metadata": {}
  },
  {
   "cell_type": "code",
   "execution_count": 58,
   "source": [
    "rgb_data_histEq = make_lupton_rgb(data_i_histEq, data_g_histEq, data_u_histEq)\n",
    "fig, ax = plt.subplots(subplot_kw={\"projection\": rgb_wcs})\n",
    "rgb_img = ax.imshow(rgb_data_histEq, interpolation=\"antialiased\")\n",
    "add_scalebar(ax, rgb_wcs, vcc792_dist, scalebar_factor=10, label=\"10 kpc\", color=\"w\")\n",
    "ax.grid(False)\n",
    "ax.tick_params(which=\"both\", direction=\"out\")\n",
    "ax.set_xlabel(\"RA (J2000)\")\n",
    "ax.set_ylabel(\"Dec (J2000)\")\n",
    "ax.set_title(\"VCC 792 / NGC 4380\")\n",
    "# fig.savefig(\"vcc792_rgb_histEq.png\", dpi=300)\n",
    "plt.show()"
   ],
   "outputs": [
    {
     "output_type": "display_data",
     "data": {
      "application/vnd.jupyter.widget-view+json": {
       "model_id": "b5c5eb3debd340d18b3f113415e2ff89",
       "version_major": 2,
       "version_minor": 0
      },
      "text/plain": [
       "Canvas(toolbar=Toolbar(toolitems=[('Home', 'Reset original view', 'home', 'home'), ('Back', 'Back to previous …"
      ]
     },
     "metadata": {}
    }
   ],
   "metadata": {}
  },
  {
   "cell_type": "markdown",
   "source": [
    "### Normalizing image by exposure time"
   ],
   "metadata": {}
  },
  {
   "cell_type": "code",
   "execution_count": 12,
   "source": [
    "# Exposure times of each .fits file\n",
    "print(\"i-band EXPTIME:\", header_i[\"EXPTIME\"])\n",
    "print(\"g-band EXPTIME:\", header_g[\"EXPTIME\"])\n",
    "print(\"u-band EXPTIME:\", header_u[\"EXPTIME\"])"
   ],
   "outputs": [
    {
     "output_type": "stream",
     "name": "stdout",
     "text": [
      "i-band EXPTIME: 2055\n",
      "g-band EXPTIME: 3170\n",
      "u-band EXPTIME: 6402\n",
      "6402\n"
     ]
    }
   ],
   "metadata": {}
  },
  {
   "cell_type": "code",
   "execution_count": 51,
   "source": [
    "from astropy.visualization import LogStretch\n",
    "vcc792_dist = 16.5 * u.Mpc\n",
    "rgb_data_exp = []\n",
    "max_exptime = np.max([header[\"EXPTIME\"] for header in [header_i, header_g, header_u]])  # max exposure time\n",
    "for image, header in zip([data_i_cut, data_g_cut, data_u_cut], [header_i, header_g, header_u]):   \n",
    "    exptime = header[\"EXPTIME\"]\n",
    "    norm_factor = exptime / max_exptime  # if max_exptime / exptime, too red\n",
    "    # Define transformation\n",
    "    T = LogStretch(a=1000)\n",
    "    # Apply transformation and create a new image\n",
    "    image = image * norm_factor / 1000\n",
    "    rgb_data_exp.append(T(image))\n",
    "rgb_data_exp = np.dstack(rgb_data_exp)"
   ],
   "outputs": [],
   "metadata": {}
  },
  {
   "cell_type": "code",
   "execution_count": 52,
   "source": [
    "fig, ax = plt.subplots(subplot_kw={\"projection\": rgb_wcs_cut})\n",
    "ax.imshow(rgb_data_exp, interpolation=\"none\")\n",
    "add_scalebar(ax, rgb_wcs_cut, vcc792_dist, scalebar_factor=2, label=\"2 kpc\", color=\"w\")\n",
    "ax.grid(False)\n",
    "ax.tick_params(which=\"both\", direction=\"out\")\n",
    "ax.set_xlabel(\"RA (J2000)\")\n",
    "ax.set_ylabel(\"Dec (J2000)\")\n",
    "ax.set_title(\"VCC 792 / NGC 4380\")\n",
    "# fig.savefig(\"vcc792_rgb_exptime_noLupton.pdf\")\n",
    "plt.show()"
   ],
   "outputs": [
    {
     "output_type": "display_data",
     "data": {
      "application/vnd.jupyter.widget-view+json": {
       "model_id": "d82f5eb908df4f59bed7a8581f45d587",
       "version_major": 2,
       "version_minor": 0
      },
      "text/plain": [
       "Canvas(toolbar=Toolbar(toolitems=[('Home', 'Reset original view', 'home', 'home'), ('Back', 'Back to previous …"
      ]
     },
     "metadata": {}
    }
   ],
   "metadata": {}
  },
  {
   "cell_type": "code",
   "execution_count": 46,
   "source": [
    "vcc792_dist = 16.5 * u.Mpc\n",
    "rgb_data_exp2 = []\n",
    "max_exptime = np.max([header[\"EXPTIME\"] for header in [header_i, header_g, header_u]])  # max exposure time\n",
    "for image, header in zip([data_i_cut, data_g_cut, data_u_cut], [header_i, header_g, header_u]):   \n",
    "    exptime = header[\"EXPTIME\"]\n",
    "    norm_factor = exptime / max_exptime  # if max_exptime / exptime, too red\n",
    "    image = image * norm_factor\n",
    "    rgb_data_exp2.append(image)\n",
    "rgb_data_exp2 = np.dstack(rgb_data_exp2)\n",
    "# \n",
    "rgb_data_exptime_lupton = make_lupton_rgb(rgb_data_exp2[:, :, 0], rgb_data_exp2[:, :, 1], rgb_data_exp2[:, :, 2], stretch=10)\n",
    "fig, ax = plt.subplots(subplot_kw={\"projection\": rgb_wcs_cut})\n",
    "ax.imshow(rgb_data_exptime_lupton, interpolation=\"none\")\n",
    "add_scalebar(ax, rgb_wcs_cut, vcc792_dist, scalebar_factor=2, label=\"2 kpc\", color=\"w\")\n",
    "ax.grid(False)\n",
    "ax.tick_params(which=\"both\", direction=\"out\")\n",
    "ax.set_xlabel(\"RA (J2000)\")\n",
    "ax.set_ylabel(\"Dec (J2000)\")\n",
    "ax.set_title(\"VCC 792 / NGC 4380\")\n",
    "fig.savefig(\"vcc792_rgb_exptime_Lupton.pdf\")\n",
    "plt.show()"
   ],
   "outputs": [
    {
     "output_type": "display_data",
     "data": {
      "application/vnd.jupyter.widget-view+json": {
       "model_id": "1da1ac65847e4856a4c155aa615e4441",
       "version_major": 2,
       "version_minor": 0
      },
      "text/plain": [
       "Canvas(toolbar=Toolbar(toolitems=[('Home', 'Reset original view', 'home', 'home'), ('Back', 'Back to previous …"
      ]
     },
     "metadata": {}
    }
   ],
   "metadata": {}
  },
  {
   "cell_type": "code",
   "execution_count": 71,
   "source": [
    "# Dividing data by exposure time\n",
    "vcc792_dist = 16.5 * u.Mpc\n",
    "rgb_data_exp = []\n",
    "for image, header in zip([data_i_cut, data_g_cut, data_u_cut], [header_i, header_g, header_u]):   \n",
    "    exptime = header[\"EXPTIME\"]\n",
    "    # Define transformation\n",
    "    T = LogStretch(a=1000)\n",
    "    # Apply transformation and create a new image\n",
    "    image = image / exptime\n",
    "    rgb_data_exp.append(T(image))\n",
    "rgb_data_exp = np.dstack(rgb_data_exp)"
   ],
   "outputs": [],
   "metadata": {}
  },
  {
   "cell_type": "code",
   "execution_count": 78,
   "source": [
    "fig, ax = plt.subplots(subplot_kw={\"projection\": rgb_wcs_cut})\n",
    "ax.imshow(rgb_data_exp, interpolation=\"none\")\n",
    "add_scalebar(ax, rgb_wcs_cut, vcc792_dist, scalebar_factor=2, label=\"2 kpc\", color=\"w\")\n",
    "ax.grid(False)\n",
    "ax.tick_params(which=\"both\", direction=\"out\")\n",
    "ax.set_xlabel(\"RA (J2000)\")\n",
    "ax.set_ylabel(\"Dec (J2000)\")\n",
    "ax.set_title(\"VCC 792 / NGC 4380\")\n",
    "fig.savefig(\"vcc792_rgb_exptime_noLupton_v2.pdf\")\n",
    "plt.show()"
   ],
   "outputs": [
    {
     "output_type": "display_data",
     "data": {
      "application/vnd.jupyter.widget-view+json": {
       "model_id": "6cb9f60ab9ca42089ea2d238ad5b7e6d",
       "version_major": 2,
       "version_minor": 0
      },
      "text/plain": [
       "Canvas(toolbar=Toolbar(toolitems=[('Home', 'Reset original view', 'home', 'home'), ('Back', 'Back to previous …"
      ]
     },
     "metadata": {}
    }
   ],
   "metadata": {}
  },
  {
   "cell_type": "code",
   "execution_count": 77,
   "source": [
    "# Dividing data by exposure time\n",
    "vcc792_dist = 16.5 * u.Mpc\n",
    "rgb_data_exp2 = []\n",
    "for image, header in zip([data_i_cut, data_g_cut, data_u_cut], [header_i, header_g, header_u]):   \n",
    "    exptime = header[\"EXPTIME\"]\n",
    "    image = image / exptime * 100\n",
    "    rgb_data_exp2.append(image)\n",
    "rgb_data_exp2 = np.dstack(rgb_data_exp2)\n",
    "# \n",
    "rgb_data_exptime_lupton = make_lupton_rgb(rgb_data_exp2[:, :, 0], rgb_data_exp2[:, :, 1], rgb_data_exp2[:, :, 2], stretch=10)\n",
    "fig, ax = plt.subplots(subplot_kw={\"projection\": rgb_wcs_cut})\n",
    "ax.imshow(rgb_data_exptime_lupton, interpolation=\"none\")\n",
    "add_scalebar(ax, rgb_wcs_cut, vcc792_dist, scalebar_factor=2, label=\"2 kpc\", color=\"w\")\n",
    "ax.grid(False)\n",
    "ax.tick_params(which=\"both\", direction=\"out\")\n",
    "ax.set_xlabel(\"RA (J2000)\")\n",
    "ax.set_ylabel(\"Dec (J2000)\")\n",
    "ax.set_title(\"VCC 792 / NGC 4380\")\n",
    "fig.savefig(\"vcc792_rgb_exptime_Lupton_v2.pdf\")\n",
    "plt.show()"
   ],
   "outputs": [
    {
     "output_type": "display_data",
     "data": {
      "application/vnd.jupyter.widget-view+json": {
       "model_id": "31058a0360cc48b8b47f08c1ada0abd5",
       "version_major": 2,
       "version_minor": 0
      },
      "text/plain": [
       "Canvas(toolbar=Toolbar(toolitems=[('Home', 'Reset original view', 'home', 'home'), ('Back', 'Back to previous …"
      ]
     },
     "metadata": {}
    }
   ],
   "metadata": {}
  },
  {
   "cell_type": "markdown",
   "source": [
    "### Normalizing image by median value"
   ],
   "metadata": {}
  },
  {
   "cell_type": "markdown",
   "source": [
    "Manual recipe (without Lupton RGB)"
   ],
   "metadata": {}
  },
  {
   "cell_type": "code",
   "execution_count": 10,
   "source": [
    "# Adapted from https://www.iasf-milano.inaf.it/AstropyCourse/07.Images.slides.html#/21\n",
    "from astropy.visualization import ManualInterval\n",
    "rgb_data_med = []\n",
    "for image in (data_i_cut, data_g_cut, data_u_cut):   \n",
    "    median = np.median(image.data)\n",
    "    delta = (image.max() - median) / 25\n",
    "    high = median + delta\n",
    "    low = median - delta / 10\n",
    "    # Define transformation\n",
    "    T = ManualInterval(low, high)\n",
    "    # Apply transformation and create a new image\n",
    "    rgb_data_med.append(T(image))\n",
    "rgb_data_med = np.dstack(rgb_data_med)"
   ],
   "outputs": [],
   "metadata": {}
  },
  {
   "cell_type": "code",
   "execution_count": 133,
   "source": [
    "fig, ax = plt.subplots(subplot_kw={\"projection\": rgb_wcs_cut})\n",
    "ax.imshow(rgb_data_med, interpolation=\"none\")\n",
    "add_scalebar(ax, rgb_wcs_cut, vcc792_dist, scalebar_factor=2, label=\"2 kpc\", color=\"w\")\n",
    "ax.grid(False)\n",
    "ax.tick_params(which=\"both\", direction=\"out\")\n",
    "ax.set_xlabel(\"RA (J2000)\")\n",
    "ax.set_ylabel(\"Dec (J2000)\")\n",
    "ax.set_title(\"VCC 792 / NGC 4380\")\n",
    "fig.savefig(\"vcc792_rgb_med_noLupton_v1.pdf\")\n",
    "plt.show()"
   ],
   "outputs": [
    {
     "output_type": "display_data",
     "data": {
      "application/vnd.jupyter.widget-view+json": {
       "model_id": "3f0ac54d97934abcb089dc02e97d5dfe",
       "version_major": 2,
       "version_minor": 0
      },
      "text/plain": [
       "Canvas(toolbar=Toolbar(toolitems=[('Home', 'Reset original view', 'home', 'home'), ('Back', 'Back to previous …"
      ]
     },
     "metadata": {}
    }
   ],
   "metadata": {}
  },
  {
   "cell_type": "code",
   "execution_count": 220,
   "source": [
    "# Trying another median normalization scheme\n",
    "rgb_data_med2 = []\n",
    "max_flux_all = np.max([data_i_cut.data, data_g_cut.data, data_u_cut.data]).max()\n",
    "for image in (data_i_cut, data_g_cut, data_u_cut):   \n",
    "    median = np.median(image.data)\n",
    "    delta = (max_flux_all - median)\n",
    "    high = median + delta  # max_flux_all\n",
    "    low = median - delta / 15\n",
    "    # Define transformation\n",
    "    T = ManualInterval(low, high)\n",
    "    # Apply transformation and create a new image\n",
    "    image = image / median * 130\n",
    "    rgb_data_med2.append(T(image))\n",
    "rgb_data_med2 = np.dstack(rgb_data_med2)\n",
    "# \n",
    "# Plot\n",
    "# \n",
    "fig, ax = plt.subplots(subplot_kw={\"projection\": rgb_wcs_cut})\n",
    "# fig, ax = plt.subplots()\n",
    "ax.imshow(rgb_data_med2, interpolation=\"none\")\n",
    "add_scalebar(ax, rgb_wcs_cut, vcc792_dist, scalebar_factor=2, label=\"2 kpc\", color=\"w\")\n",
    "ax.grid(False)\n",
    "ax.tick_params(which=\"both\", direction=\"out\")\n",
    "ax.set_xlabel(\"RA (J2000)\")\n",
    "ax.set_ylabel(\"Dec (J2000)\")\n",
    "ax.set_title(\"VCC 792 / NGC 4380\")\n",
    "# fig.savefig(\"vcc792_rgb_med_noLupton_v2.pdf\")\n",
    "plt.show()"
   ],
   "outputs": [
    {
     "output_type": "display_data",
     "data": {
      "application/vnd.jupyter.widget-view+json": {
       "model_id": "35796ad336794db49ac62500a20ee288",
       "version_major": 2,
       "version_minor": 0
      },
      "text/plain": [
       "Canvas(toolbar=Toolbar(toolitems=[('Home', 'Reset original view', 'home', 'home'), ('Back', 'Back to previous …"
      ]
     },
     "metadata": {}
    }
   ],
   "metadata": {}
  },
  {
   "cell_type": "code",
   "execution_count": 47,
   "source": [
    "# v2 but using log scaling (v2.1)\n",
    "vcc792_dist = 16.5 * u.Mpc\n",
    "from astropy.visualization import LogStretch\n",
    "rgb_data_med2 = []\n",
    "for image in (data_i_cut, data_g_cut, data_u_cut):\n",
    "    median = np.median(image.data)\n",
    "    # Define transformation\n",
    "    T = LogStretch(a=1000)\n",
    "    # Apply transformation and create a new image\n",
    "    image = image / median / 1000\n",
    "    rgb_data_med2.append(T(image))\n",
    "rgb_data_med2 = np.dstack(rgb_data_med2)\n",
    "# \n",
    "# Plot\n",
    "# \n",
    "fig, ax = plt.subplots(subplot_kw={\"projection\": rgb_wcs_cut})\n",
    "# fig, ax = plt.subplots()\n",
    "ax.imshow(rgb_data_med2, interpolation=\"none\")\n",
    "add_scalebar(ax, rgb_wcs_cut, vcc792_dist, scalebar_factor=2, label=\"2 kpc\", color=\"w\")\n",
    "ax.grid(False)\n",
    "ax.tick_params(which=\"both\", direction=\"out\")\n",
    "ax.set_xlabel(\"RA (J2000)\")\n",
    "ax.set_ylabel(\"Dec (J2000)\")\n",
    "ax.set_title(\"VCC 792 / NGC 4380\")\n",
    "fig.savefig(\"vcc792_rgb_med_noLupton_v2.1.pdf\")\n",
    "plt.show()"
   ],
   "outputs": [
    {
     "output_type": "display_data",
     "data": {
      "application/vnd.jupyter.widget-view+json": {
       "model_id": "00667ee970504b8aac9b3550820ea82a",
       "version_major": 2,
       "version_minor": 0
      },
      "text/plain": [
       "Canvas(toolbar=Toolbar(toolitems=[('Home', 'Reset original view', 'home', 'home'), ('Back', 'Back to previous …"
      ]
     },
     "metadata": {}
    }
   ],
   "metadata": {}
  },
  {
   "cell_type": "code",
   "execution_count": 217,
   "source": [
    "# Trying yet another median normalization scheme. This time apply diff\n",
    "# normalization scheme to galactic centre vs. rest of disk\n",
    "rgb_data_med3 = []\n",
    "max_flux_all = np.max([data_i_cut.data, data_g_cut.data, data_u_cut.data]).max()\n",
    "for image in (data_i_cut, data_g_cut, data_u_cut):   \n",
    "    median = np.median(image.data)\n",
    "    delta = (max_flux_all - median)\n",
    "    high = median + delta  # max_flux_all\n",
    "    low = median - delta / 15\n",
    "    # Define transformation\n",
    "    T = ManualInterval(low, high)\n",
    "    # Apply transformation and create a new image\n",
    "    image = image / median * 130\n",
    "    print(image.shape)\n",
    "    # Decrease brightness of galactic centre\n",
    "    image[519:624, 614:700] = image[519:624, 614:700] / 10\n",
    "    # TODO: np.average with Gaussian weights\n",
    "    rgb_data_med3.append(T(image))\n",
    "rgb_data_med3 = np.dstack(rgb_data_med3)\n",
    "# \n",
    "# Plot\n",
    "# \n",
    "fig, ax = plt.subplots(subplot_kw={\"projection\": rgb_wcs_cut})\n",
    "ax.imshow(rgb_data_med3, interpolation=\"none\")\n",
    "add_scalebar(ax, rgb_wcs_cut, vcc792_dist, scalebar_factor=2, label=\"2 kpc\", color=\"w\")\n",
    "ax.grid(False)\n",
    "ax.tick_params(which=\"both\", direction=\"out\")\n",
    "ax.set_xlabel(\"RA (J2000)\")\n",
    "ax.set_ylabel(\"Dec (J2000)\")\n",
    "ax.set_title(\"VCC 792 / NGC 4380\")\n",
    "fig.savefig(\"vcc792_rgb_med_noLupton_v3_bad.pdf\")\n",
    "plt.show()"
   ],
   "outputs": [
    {
     "output_type": "stream",
     "name": "stdout",
     "text": [
      "(1100, 1300)\n",
      "(1100, 1300)\n",
      "(1100, 1300)\n"
     ]
    },
    {
     "output_type": "display_data",
     "data": {
      "application/vnd.jupyter.widget-view+json": {
       "model_id": "3801ea671ee54d4faa722bba07340f36",
       "version_major": 2,
       "version_minor": 0
      },
      "text/plain": [
       "Canvas(toolbar=Toolbar(toolitems=[('Home', 'Reset original view', 'home', 'home'), ('Back', 'Back to previous …"
      ]
     },
     "metadata": {}
    }
   ],
   "metadata": {}
  },
  {
   "cell_type": "markdown",
   "source": [
    "Median normalization with Lupton RGB"
   ],
   "metadata": {}
  },
  {
   "cell_type": "code",
   "execution_count": 124,
   "source": [
    "print(rgb_data_med[:, :, 0].shape)"
   ],
   "outputs": [
    {
     "output_type": "stream",
     "name": "stdout",
     "text": [
      "(1100, 1300)\n"
     ]
    }
   ],
   "metadata": {}
  },
  {
   "cell_type": "code",
   "execution_count": 39,
   "source": [
    "# rgb_data_med_lupton = make_lupton_rgb(rgb_data_med[:, :, 0], rgb_data_med[:, :, 1], rgb_data_med[:, :, 2])\n",
    "rgb_data_med_lupton = make_lupton_rgb(data_i_cut / np.median(data_i_cut), data_g_cut / np.median(data_g_cut), data_u_cut / np.median(data_u_cut),\n",
    "                                     stretch=10)\n",
    "fig, ax = plt.subplots(subplot_kw={\"projection\": rgb_wcs_cut})\n",
    "ax.imshow(rgb_data_med_lupton, interpolation=\"none\")\n",
    "add_scalebar(ax, rgb_wcs_cut, vcc792_dist, scalebar_factor=2, label=\"2 kpc\", color=\"w\")\n",
    "ax.grid(False)\n",
    "ax.tick_params(which=\"both\", direction=\"out\")\n",
    "ax.set_xlabel(\"RA (J2000)\")\n",
    "ax.set_ylabel(\"Dec (J2000)\")\n",
    "ax.set_title(\"VCC 792 / NGC 4380\")\n",
    "# fig.savefig(\"vcc792_rgb_med_Lupton.pdf\")\n",
    "plt.show()"
   ],
   "outputs": [
    {
     "output_type": "display_data",
     "data": {
      "application/vnd.jupyter.widget-view+json": {
       "model_id": "72c84dc51c8b4cb6a2a5d81a82fa37d1",
       "version_major": 2,
       "version_minor": 0
      },
      "text/plain": [
       "Canvas(toolbar=Toolbar(toolitems=[('Home', 'Reset original view', 'home', 'home'), ('Back', 'Back to previous …"
      ]
     },
     "metadata": {}
    }
   ],
   "metadata": {}
  },
  {
   "cell_type": "code",
   "execution_count": 53,
   "source": [
    "plt.close(\"all\")"
   ],
   "outputs": [],
   "metadata": {}
  }
 ],
 "metadata": {
  "kernelspec": {
   "display_name": "Python 3",
   "language": "python",
   "name": "python3"
  }
 },
 "nbformat": 4,
 "nbformat_minor": 5
}