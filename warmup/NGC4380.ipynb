{
 "cells": [
  {
   "cell_type": "markdown",
   "id": "polyphonic-elimination",
   "metadata": {},
   "source": [
    "# Various plots of NGC 4380 using VERTICO data\n",
    "\n",
    "Isaac Cheng - September 2021"
   ]
  },
  {
   "cell_type": "code",
   "execution_count": 2,
   "id": "solar-nickel",
   "metadata": {},
   "outputs": [],
   "source": [
    "import numpy as np\n",
    "import matplotlib.pyplot as plt\n",
    "import matplotlib as mpl\n",
    "from astropy.io import fits\n",
    "from astropy.wcs import WCS\n",
    "%matplotlib widget"
   ]
  },
  {
   "cell_type": "markdown",
   "id": "dated-shakespeare",
   "metadata": {},
   "source": [
    "# Moment 0 Maps"
   ]
  },
  {
   "cell_type": "markdown",
   "id": "finnish-diamond",
   "metadata": {},
   "source": [
    "## Surface density moment 0 map"
   ]
  },
  {
   "cell_type": "code",
   "execution_count": 3,
   "id": "plain-cookbook",
   "metadata": {},
   "outputs": [
    {
     "name": "stdout",
     "output_type": "stream",
     "text": [
      "Filename: /arc/projects/vertico/products/release.v1.2/native/NGC4380/NGC4380_7m+tp_co21_pbcorr_round_k_mom0_Msun.fits\n",
      "No.    Name      Ver    Type      Cards   Dimensions   Format\n",
      "  0  PRIMARY       1 PrimaryHDU      63   (78, 78)   float64   \n",
      "SIMPLE  =                    T / conforms to FITS standard                      BITPIX  =                  -64 / array data type                                NAXIS   =                    2 / number of array dimensions                     NAXIS1  =                   78                                                  NAXIS2  =                   78                                                  BMAJ    =   2.096678171147E-03                                                  BMIN    =    0.002096678171147                                                  BPA     =                  0.0                                                  BTYPE   = 'Column density'     / Total molecular gas (H_2 + He)                 OBJECT  = 'NGC4380 '                                                            COMMENT Cube was clipped using the Sun+18 masking method                        BUNIT   = 'M_Sun/pc^2'                                                          EQUINOX =   2.000000000000E+03                                                  RADESYS = 'FK5     '                                                            LONPOLE =   1.800000000000E+02                                                  LATPOLE =   1.001666666667E+01                                                  PC1_1   =   1.000000000000E+00                                                  PC2_1   =   0.000000000000E+00                                                  PC1_2   =   0.000000000000E+00                                                  PC2_2   =   1.000000000000E+00                                                  CTYPE1  = 'RA---SIN'                                                            CRVAL1  =   1.863430641667E+02                                                  CDELT1  =  -5.555555555556E-04                                                  CRPIX1  =                38.75                                                  CUNIT1  = 'deg     '                                                            CTYPE2  = 'DEC--SIN'                                                            CRVAL2  =   1.001666666667E+01                                                  CDELT2  =   5.555555555556E-04                                                  CRPIX2  =                39.75                                                  CUNIT2  = 'deg     '                                                            PV2_1   =   0.000000000000E+00                                                  PV2_2   =   0.000000000000E+00                                                  RESTFRQ =   2.305380000000E+11 /Rest Frequency (Hz)                             SPECSYS = 'LSRK    '           /Spectral reference frame                        ALTRVAL =   2.294119296633E+11                                                  ALTRPIX =   1.000000000000E+00                                                  VELREF  =                  257 /1 LSR, 2 HEL, 3 OBS, +256 Radio                 COMMENT casacore non-standard usage: 4 LSD, 5 GEO, 6 SOU, 7 GAL                 TELESCOP= 'ALMA    '                                                            OBSERVER= 'thbrown '                                                            DATE-OBS= '2019-12-06T10:25:33.744000'                                          TIMESYS = 'UTC     '                                                            OBSRA   =   1.863430641667E+02                                                  OBSDEC  =   1.001666666667E+01                                                  OBSGEO-X=   2.225142180269E+06                                                  OBSGEO-Y=  -5.440307370349E+06                                                  INSTRUME= 'ALMA    '                                                            DISTANCE=   0.000000000000E+00                                                  USEWEIGH=                    T                                                  JTOK    =   4.062200515895E-01                                                  DATE    = '2020-07-31T22:21:44.796000' /Date FITS file was written              ORIGIN  = 'VERTICO-ALMA'                                                        DATAMAX =   0.1445615887641907                                                  DATAMIN = -0.03776006773114204                                                  ALPHA_CO=                  5.4                                                  CLIPL_L =                    2 / S/N threshold specified for the \"wing mask\"    CLIPL_H =                  3.5 / S/N threshold specified for the \"core mask\"    NCHAN_L =                    2 / # of consecutive channels specified for the \"coNCHAN_H =                    3 / # of consecutive channels specified for the \"wiCLIP_RMS= 0.003528921399265528 / rms noise level used in masking (K km/s)       HISTORY This cube was produced by the PHANGS-ALMA pipeline.                     HISTORY (Adapted for use in the VERTICO-ALMA project)                           HISTORY PHANGS-ALMA Pipeline version 4.0.dev                                    END                                                                                                                                                                                                                                                                                                                                                                                                                                                                                                                                                                                                                                                                                                                                             \n",
      "<SkyCoord (FK5: equinox=2000.0): (ra, dec) in deg\n",
      "    (186.3643596, 9.99513821)>\n",
      "<SkyCoord (FK5: equinox=2000.0): (ra, dec) in deg\n",
      "    (186.32035541, 10.03847145)>\n"
     ]
    },
    {
     "name": "stderr",
     "output_type": "stream",
     "text": [
      "WARNING: FITSFixedWarning: 'datfix' made the change 'Set MJD-OBS to 58823.434418 from DATE-OBS'. [astropy.wcs.wcs]\n",
      "WARNING: FITSFixedWarning: 'obsfix' made the change 'Observatory coordinates incomplete'. [astropy.wcs.wcs]\n"
     ]
    }
   ],
   "source": [
    "# Surface density moment 0 map\n",
    "imgpath = \"/arc/projects/vertico/products/release.v1.2/native/NGC4380/NGC4380_7m+tp_co21_pbcorr_round_k_mom0_Msun.fits\"\n",
    "# \n",
    "# Extract image data\n",
    "# \n",
    "# imgdata = fits.getdata(imgpath)\n",
    "with fits.open(imgpath) as hdu_list:\n",
    "    hdu_list.info()\n",
    "    # Get image data (typically in PRIMARY block)\n",
    "    imgdata = hdu_list[0].data  # 2D array\n",
    "    # Get image coordinates\n",
    "    imgwcs = WCS(hdu_list[0].header)\n",
    "    print(hdu_list[0].header)\n",
    "    # print(type(hdu_list[0].header[\"BSCALE\"]))  # astropy strips some keywords\n",
    "                                                 # https://docs.astropy.org/en/stable/io/fits/usage/headers.html\n",
    "# Trim background\n",
    "imgdata = np.ma.masked_less_equal(imgdata, 0)  # background value is 0\n",
    "print(imgwcs.pixel_to_world(0,0))\n",
    "print(imgwcs.pixel_to_world(78,78))"
   ]
  },
  {
   "cell_type": "code",
   "execution_count": 4,
   "id": "angry-witness",
   "metadata": {},
   "outputs": [
    {
     "data": {
      "application/vnd.jupyter.widget-view+json": {
       "model_id": "cddf692bf8af4e23ad083b8cb2e1c175",
       "version_major": 2,
       "version_minor": 0
      },
      "text/plain": [
       "Canvas(toolbar=Toolbar(toolitems=[('Home', 'Reset original view', 'home', 'home'), ('Back', 'Back to previous …"
      ]
     },
     "metadata": {},
     "output_type": "display_data"
    }
   ],
   "source": [
    "# Plot image data\n",
    "# cmap = \"inferno_r\"\n",
    "levels = 22  # number of contour/cmap levels\n",
    "cmap = mpl.cm.get_cmap(\"inferno_r\", levels)\n",
    "fig, ax = plt.subplots(subplot_kw={\"projection\": imgwcs})\n",
    "# ! DO NOT TRANSPOSE DATA !\n",
    "# img = ax.imshow(imgdata, cmap=cmap, vmin=0, interpolation=\"none\")\n",
    "img = ax.contourf(imgdata, levels=levels, cmap=cmap, vmin=0)\n",
    "# ax.contour(imgdata, levels=levels, colors=\"w\", linewidths=0.01)\n",
    "cbar = fig.colorbar(img)\n",
    "cbar.ax.minorticks_off()\n",
    "cbar.set_ticks([0, 10, 20, 30])\n",
    "# cbar.ax.tick_params(direction=\"out\")\n",
    "# ax.tick_params(which=\"both\", direction=\"out\")\n",
    "cbar.set_label(r\"Surface Density ($\\rm M_\\odot\\; pc^{-2}$)\")\n",
    "ax.grid(False)\n",
    "ax.set_xlabel(\"RA (J2000)\")\n",
    "ax.set_ylabel(\"Dec (J2000)\")\n",
    "ax.set_title(\"NGC 4380: Moment 0 Surface Density Map\")\n",
    "# fig.savefig(\"NGC4380_mom0_Msun.pdf\")\n",
    "plt.show()\n",
    "# TODO: fix contours to match pre-existing plot?\n",
    "# TODO: 1 kpc scale"
   ]
  },
  {
   "cell_type": "code",
   "execution_count": 5,
   "id": "velvet-platinum",
   "metadata": {},
   "outputs": [],
   "source": [
    "plt.close(\"all\")"
   ]
  }
 ],
 "metadata": {
  "kernelspec": {
   "display_name": "Python 3",
   "language": "python",
   "name": "python3"
  },
  "language_info": {
   "codemirror_mode": {
    "name": "ipython",
    "version": 3
   },
   "file_extension": ".py",
   "mimetype": "text/x-python",
   "name": "python",
   "nbconvert_exporter": "python",
   "pygments_lexer": "ipython3",
   "version": "3.8.6"
  }
 },
 "nbformat": 4,
 "nbformat_minor": 5
}
