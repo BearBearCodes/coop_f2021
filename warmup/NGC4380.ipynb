{
 "cells": [
  {
   "cell_type": "markdown",
   "id": "wired-earthquake",
   "metadata": {},
   "source": [
    "# Various plots of NGC 4380 using VERTICO data\n",
    "\n",
    "Isaac Cheng - September 2021"
   ]
  },
  {
   "cell_type": "code",
   "execution_count": 1,
   "id": "covered-fraction",
   "metadata": {},
   "outputs": [],
   "source": [
    "import numpy as np\n",
    "import matplotlib.pyplot as plt\n",
    "import matplotlib as mpl\n",
    "from mpl_toolkits.axes_grid1.anchored_artists import AnchoredSizeBar\n",
    "from matplotlib.patches import Ellipse\n",
    "import astropy.units as u\n",
    "from astropy.io import fits\n",
    "from astropy.wcs import WCS\n",
    "from astropy.wcs.utils import proj_plane_pixel_scales\n",
    "from radio_beam import Beam\n",
    "%matplotlib widget"
   ]
  },
  {
   "cell_type": "markdown",
   "id": "orange-mobility",
   "metadata": {},
   "source": [
    "# Moment 0 Maps"
   ]
  },
  {
   "cell_type": "markdown",
   "id": "varying-reynolds",
   "metadata": {},
   "source": [
    "## Surface density moment 0 map"
   ]
  },
  {
   "cell_type": "code",
   "execution_count": 2,
   "id": "minus-watson",
   "metadata": {},
   "outputs": [
    {
     "name": "stdout",
     "output_type": "stream",
     "text": [
      "Filename: /arc/projects/vertico/products/release.v1.2/native/NGC4380/NGC4380_7m+tp_co21_pbcorr_round_k_mom0_Msun.fits\n",
      "No.    Name      Ver    Type      Cards   Dimensions   Format\n",
      "  0  PRIMARY       1 PrimaryHDU      63   (78, 78)   float64   \n"
     ]
    },
    {
     "name": "stderr",
     "output_type": "stream",
     "text": [
      "WARNING: FITSFixedWarning: 'datfix' made the change 'Set MJD-OBS to 58823.434418 from DATE-OBS'. [astropy.wcs.wcs]\n",
      "WARNING: FITSFixedWarning: 'obsfix' made the change 'Observatory coordinates incomplete'. [astropy.wcs.wcs]\n"
     ]
    }
   ],
   "source": [
    "# Surface density moment 0 map\n",
    "imgpath = \"/arc/projects/vertico/products/release.v1.2/native/NGC4380/NGC4380_7m+tp_co21_pbcorr_round_k_mom0_Msun.fits\"\n",
    "# \n",
    "# Extract image data\n",
    "# \n",
    "# imgdata = fits.getdata(imgpath)\n",
    "with fits.open(imgpath) as hdu_list:\n",
    "    hdu_list.info()\n",
    "    # Get image data (typically in PRIMARY block)\n",
    "    imgdata = hdu_list[0].data  # 2D array\n",
    "    # Get image coordinates\n",
    "    imgheader = hdu_list[0].header\n",
    "    imgwcs = WCS(hdu_list[0].header)\n",
    "    # print(hdu_list[0].header)  # astropy strips some keywords\n",
    "                                 # https://docs.astropy.org/en/stable/io/fits/usage/headers.html\n",
    "# Trim background\n",
    "imgdata[imgdata <= 0] = np.nan  # background value is zero\n",
    "# print(imgwcs.pixel_to_world(0,0))\n",
    "# print(imgwcs.pixel_to_world(*imgdata.shape))"
   ]
  },
  {
   "cell_type": "code",
   "execution_count": 3,
   "id": "available-commander",
   "metadata": {},
   "outputs": [
    {
     "data": {
      "application/vnd.jupyter.widget-view+json": {
       "model_id": "e378be33339b4df1bea6f087179962ae",
       "version_major": 2,
       "version_minor": 0
      },
      "text/plain": [
       "Canvas(toolbar=Toolbar(toolitems=[('Home', 'Reset original view', 'home', 'home'), ('Back', 'Back to previous …"
      ]
     },
     "metadata": {},
     "output_type": "display_data"
    }
   ],
   "source": [
    "# Plot image data\n",
    "levels = 22  # number of contour/cmap levels\n",
    "cmap = mpl.cm.get_cmap(\"inferno_r\", levels)\n",
    "fig, ax = plt.subplots(subplot_kw={\"projection\": imgwcs})\n",
    "# ! DO NOT TRANSPOSE DATA !\n",
    "# img = ax.imshow(imgdata, cmap=cmap, vmin=0, interpolation=\"none\")\n",
    "img = ax.contourf(imgdata, levels=levels, cmap=cmap, vmin=0)\n",
    "# ax.contour(imgdata, levels=levels, colors=\"w\", linewidths=0.01)\n",
    "cbar = fig.colorbar(img)\n",
    "cbar.ax.minorticks_off()\n",
    "cbar.set_ticks([0, 10, 20, 30])\n",
    "cbar.set_label(r\"Surface Density ($\\rm M_\\odot\\; pc^{-2}$)\")\n",
    "# cbar.ax.tick_params(direction=\"out\")\n",
    "# ax.tick_params(which=\"both\", direction=\"out\")\n",
    "# \n",
    "# Add 1 kpc scale bar\n",
    "# \n",
    "dist = 16.5 * u.Mpc\n",
    "arcsec_per_px = (proj_plane_pixel_scales(imgwcs.celestial)[0] * u.deg).to(u.arcsec)\n",
    "# Still deciding whether to use arctan for the following\n",
    "arcsec_per_kpc = np.rad2deg(1 * u.kpc / dist.to(u.kpc) * u.rad).to(u.arcsec)\n",
    "px_per_kpc = arcsec_per_kpc / arcsec_per_px\n",
    "scalebar = AnchoredSizeBar(ax.transData, px_per_kpc, label=\"1 kpc\", loc=\"lower right\",\n",
    "                           pad=1, color=\"k\", frameon=False, size_vertical=0.5)\n",
    "ax.add_artist(scalebar)\n",
    "# \n",
    "# Add beam size\n",
    "# \n",
    "deg_per_px = proj_plane_pixel_scales(imgwcs.celestial)[0] * u.deg\n",
    "beam = Beam.from_fits_header(imgheader)\n",
    "xbeam, ybeam = (8, 9)\n",
    "ellipse = Ellipse(\n",
    "    xy=(xbeam, ybeam),\n",
    "    width=(beam.major.to(u.deg) / deg_per_px).to(u.dimensionless_unscaled).value,\n",
    "    height=(beam.minor.to(u.deg) / deg_per_px).to(u.dimensionless_unscaled).value,\n",
    "    # PA is 90 deg offset from x-y axes by convention,  (it is angle from NCP)\n",
    "    angle=(beam.pa + 90 * u.deg).to(u.deg).value,\n",
    "    ls=\"-\", edgecolor=\"k\", fc='None', lw=2, zorder=2\n",
    ")\n",
    "ax.add_patch(ellipse)\n",
    "# Add text label\n",
    "xtxt, ytxt = (xbeam - 4, ybeam - 5)\n",
    "ax.text(xtxt, ytxt, \"Beam\")\n",
    "# \n",
    "# Other plot parameters\n",
    "# \n",
    "ax.grid(False)\n",
    "ax.set_xlabel(\"RA (J2000)\")\n",
    "ax.set_ylabel(\"Dec (J2000)\")\n",
    "ax.set_title(\"NGC 4380: Moment 0 Surface Density Map\")\n",
    "ax.set_aspect(\"equal\")\n",
    "fig.savefig(\"NGC4380_mom0_Msun_v2.pdf\")\n",
    "plt.show()\n",
    "# TODO: fix contours to match pre-existing plot?\n",
    "# TODO: add outline to determine \"edge\" of galaxy?"
   ]
  },
  {
   "cell_type": "code",
   "execution_count": 4,
   "id": "permanent-blast",
   "metadata": {},
   "outputs": [],
   "source": [
    "plt.close(\"all\")"
   ]
  }
 ],
 "metadata": {
  "kernelspec": {
   "display_name": "Python 3",
   "language": "python",
   "name": "python3"
  },
  "language_info": {
   "codemirror_mode": {
    "name": "ipython",
    "version": 3
   },
   "file_extension": ".py",
   "mimetype": "text/x-python",
   "name": "python",
   "nbconvert_exporter": "python",
   "pygments_lexer": "ipython3",
   "version": "3.8.6"
  }
 },
 "nbformat": 4,
 "nbformat_minor": 5
}
