{
 "cells": [
  {
   "cell_type": "markdown",
   "id": "substantial-story",
   "metadata": {},
   "source": [
    "Following [this astropy tutorial](https://learn.astropy.org/rst-tutorials/FITS-images.html?highlight=filtertutorials).\n",
    "\n",
    "Isaac Cheng - September 2021"
   ]
  },
  {
   "cell_type": "code",
   "execution_count": 1,
   "id": "environmental-worry",
   "metadata": {},
   "outputs": [],
   "source": [
    "import numpy as np\n",
    "import matplotlib.pyplot as plt\n",
    "from astropy.io import fits\n",
    "%matplotlib widget"
   ]
  },
  {
   "cell_type": "code",
   "execution_count": 28,
   "id": "mechanical-mortgage",
   "metadata": {},
   "outputs": [
    {
     "data": {
      "text/plain": [
       "str"
      ]
     },
     "execution_count": 28,
     "metadata": {},
     "output_type": "execute_result"
    }
   ],
   "source": [
    "# Download .fits file\n",
    "from astropy.utils.data import download_file\n",
    "image_file = download_file('http://data.astropy.org/tutorials/FITS-images/HorseHead.fits', cache=True)\n",
    "type(image_file)"
   ]
  },
  {
   "cell_type": "code",
   "execution_count": 3,
   "id": "computational-render",
   "metadata": {},
   "outputs": [
    {
     "name": "stdout",
     "output_type": "stream",
     "text": [
      "(893, 891)\n"
     ]
    }
   ],
   "source": [
    "# \n",
    "# Extract image data\n",
    "# \n",
    "# with fits.open(image_file) as hdu_list:\n",
    "#     hdu_list.info()\n",
    "#     # Get image data (typically in PRIMARY block)\n",
    "#     image_data = hdu_list[0].data  # 2D array\n",
    "#     print(image_data.shape)\n",
    "# Alternatively:\n",
    "image_data = fits.getdata(image_file)\n",
    "print(image_data.shape)"
   ]
  },
  {
   "cell_type": "code",
   "execution_count": 17,
   "id": "disabled-brooks",
   "metadata": {},
   "outputs": [
    {
     "data": {
      "application/vnd.jupyter.widget-view+json": {
       "model_id": "763386d60e214efda67d3f461cba1cad",
       "version_major": 2,
       "version_minor": 0
      },
      "text/plain": [
       "Canvas(toolbar=Toolbar(toolitems=[('Home', 'Reset original view', 'home', 'home'), ('Back', 'Back to previous …"
      ]
     },
     "metadata": {},
     "output_type": "display_data"
    }
   ],
   "source": [
    "# Plot image data\n",
    "cmap = \"gray\"\n",
    "fig, ax = plt.subplots()\n",
    "img = ax.imshow(image_data.T, origin=\"lower\", cmap=\"gray\")\n",
    "cbar = fig.colorbar(img)\n",
    "cbar.ax.minorticks_off()\n",
    "cbar.ax.tick_params(direction=\"out\")\n",
    "ax.tick_params(which=\"both\", direction=\"out\")\n",
    "ax.grid(False)\n",
    "# fig.savefig(\"test1.pdf\")\n",
    "plt.show()"
   ]
  },
  {
   "cell_type": "code",
   "execution_count": 5,
   "id": "normal-transaction",
   "metadata": {},
   "outputs": [
    {
     "name": "stdout",
     "output_type": "stream",
     "text": [
      "Min: 3759\n",
      "Max: 22918\n",
      "Mean: 9831.481676287574\n",
      "Stdev: 3032.3927542049046\n"
     ]
    }
   ],
   "source": [
    "print(\"Min:\", np.min(image_data))\n",
    "print(\"Max:\", np.max(image_data))\n",
    "print(\"Mean:\", np.mean(image_data))\n",
    "print(\"Stdev:\", np.std(image_data))"
   ]
  },
  {
   "cell_type": "code",
   "execution_count": 19,
   "id": "substantial-pressure",
   "metadata": {},
   "outputs": [
    {
     "data": {
      "application/vnd.jupyter.widget-view+json": {
       "model_id": "ea695e35d2ee492fa61d472e0ad6333a",
       "version_major": 2,
       "version_minor": 0
      },
      "text/plain": [
       "Canvas(toolbar=Toolbar(toolitems=[('Home', 'Reset original view', 'home', 'home'), ('Back', 'Back to previous …"
      ]
     },
     "metadata": {},
     "output_type": "display_data"
    }
   ],
   "source": [
    "fig, ax = plt.subplots()\n",
    "ax.hist(image_data.flatten(), bins=\"auto\")\n",
    "plt.show()"
   ]
  },
  {
   "cell_type": "code",
   "execution_count": 25,
   "id": "perfect-discrimination",
   "metadata": {},
   "outputs": [
    {
     "data": {
      "application/vnd.jupyter.widget-view+json": {
       "model_id": "7ee0d35d75c94e1693767afaf9378f5e",
       "version_major": 2,
       "version_minor": 0
      },
      "text/plain": [
       "Canvas(toolbar=Toolbar(toolitems=[('Home', 'Reset original view', 'home', 'home'), ('Back', 'Back to previous …"
      ]
     },
     "metadata": {},
     "output_type": "display_data"
    }
   ],
   "source": [
    "# Image with log scale\n",
    "from matplotlib.colors import LogNorm\n",
    "# \n",
    "fig, ax = plt.subplots()\n",
    "img_log = ax.imshow(image_data.T, origin=\"lower\", cmap=\"gray\", norm=LogNorm())\n",
    "cbar_log = fig.colorbar(img_log)\n",
    "ax.grid(False)\n",
    "cbar_log.ax.tick_params(which=\"both\", direction=\"out\")\n",
    "# cbar_log.ax.minorticks_off()\n",
    "ax.tick_params(which=\"both\", direction=\"out\")\n",
    "plt.show()"
   ]
  },
  {
   "cell_type": "code",
   "execution_count": 18,
   "id": "quick-definition",
   "metadata": {},
   "outputs": [],
   "source": [
    "imgpath = \"/arc/projects/vertico/products/release.v1.2/native/NGC4380/NGC4380_7m+tp_co21_pbcorr_round_k_mom0_Msun.fits\""
   ]
  }
 ],
 "metadata": {
  "kernelspec": {
   "display_name": "Python 3 (ipykernel)",
   "language": "python",
   "name": "python3"
  },
  "language_info": {
   "codemirror_mode": {
    "name": "ipython",
    "version": 3
   },
   "file_extension": ".py",
   "mimetype": "text/x-python",
   "name": "python",
   "nbconvert_exporter": "python",
   "pygments_lexer": "ipython3",
   "version": "3.8.10"
  }
 },
 "nbformat": 4,
 "nbformat_minor": 5
}
