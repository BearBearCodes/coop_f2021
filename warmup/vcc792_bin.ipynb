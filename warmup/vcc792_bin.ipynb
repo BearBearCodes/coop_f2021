{
 "cells": [
  {
   "cell_type": "markdown",
   "source": [
    "# vcc792_bin.ipynb\n",
    "\n",
    "### Isaac Cheng - September 2021\n",
    "\n",
    "Various plots of VCC 792 with binning. Read [this webpage](http://www.cadc-ccda.hia-iha.nrc-cnrc.gc.ca/en/community/ngvs/docs/ngvsdoc.html) for lots of useful information! Also look at [this PDF](https://www.ucolick.org/~bolte/AY257/s_n.pdf) for a useful overview of CCD signal/noise satistics. Also read the section on binning.\n",
    "\n",
    "Also: [Astropy Course](https://www.iasf-milano.inaf.it/astropy-course/), in particular, see the [Astropy image walkthrough](https://www.iasf-milano.inaf.it/AstropyCourse/07.Images.slides.html).\n",
    "\n",
    "[vorbin manual](https://www-astro.physics.ox.ac.uk/~mxc/software/vorbin_manual.pdf) and [Michele Cappellari's Python Programs page](http://www-astro.physics.ox.ac.uk/~mxc/software/)\n"
   ],
   "metadata": {}
  },
  {
   "cell_type": "code",
   "execution_count": 1,
   "source": [
    "# # May need to do this if running remote server with VS Code\n",
    "%cd \"/arc/home/IsaacCheng/coop_f2021/warmup\""
   ],
   "outputs": [
    {
     "output_type": "stream",
     "name": "stdout",
     "text": [
      "/arc/home/IsaacCheng/coop_f2021/warmup\n"
     ]
    }
   ],
   "metadata": {}
  },
  {
   "cell_type": "markdown",
   "source": [
    "# Voronoi Binning\n"
   ],
   "metadata": {}
  },
  {
   "cell_type": "code",
   "execution_count": 7,
   "source": [
    "import numpy as np\n",
    "import matplotlib.pyplot as plt\n",
    "import matplotlib as mpl\n",
    "import astropy.units as u\n",
    "from astropy.wcs import WCS\n",
    "import vorbin\n",
    "from vorbin.voronoi_2d_binning import voronoi_2d_binning\n",
    "import plotbin\n",
    "import fits_plot_utils as utils\n",
    "%matplotlib widget"
   ],
   "outputs": [],
   "metadata": {}
  },
  {
   "cell_type": "code",
   "execution_count": 3,
   "source": [
    "# \n",
    "# Load data\n",
    "# \n",
    "vcc792_dist = 16.5 * u.Mpc\n",
    "iband_path = \"/arc/home/IsaacCheng/coop_f2021/ngvs_data/NGVS-2-2.l.i.Mg004.3136_8588_6905_10184.fits\"\n",
    "gband_path = \"/arc/home/IsaacCheng/coop_f2021/ngvs_data/NGVS-2-2.l.g.Mg004.3136_8588_6905_10184.fits\"\n",
    "uband_path = \"/arc/home/IsaacCheng/coop_f2021/ngvs_data/NGVS-2-2.l.u.Mg004.3136_8588_6905_10184.fits\"\n",
    "# \n",
    "# Load NGVS data\n",
    "# \n",
    "data_i, header_i = utils.load_img(iband_path)\n",
    "data_g, header_g = utils.load_img(gband_path)\n",
    "data_u, header_u = utils.load_img(uband_path)\n",
    "# \n",
    "# Cut out galaxy\n",
    "# \n",
    "vcc792_center = (2716, 1613)\n",
    "vcc792_shape = (1480, 1127)\n",
    "data_i_cut, wcs_i_cut = utils.cutout(data_i, vcc792_center, vcc792_shape, header=header_i)\n",
    "data_g_cut, wcs_g_cut = utils.cutout(data_g, vcc792_center, vcc792_shape, header=header_g)\n",
    "data_u_cut, wcs_u_cut = utils.cutout(data_u, vcc792_center, vcc792_shape, header=header_u)\n",
    "# \n",
    "# VERTICO CO Data\n",
    "# \n",
    "co_path = \"/arc/projects/vertico/products/release.v1.2/native/NGC4380/NGC4380_7m+tp_co21_pbcorr_round_k_mom0_Msun.fits\"\n",
    "data_co, header_co = utils.load_img(co_path)"
   ],
   "outputs": [
    {
     "output_type": "stream",
     "name": "stdout",
     "text": [
      "Filename: /arc/home/IsaacCheng/coop_f2021/ngvs_data/NGVS-2-2.l.i.Mg004.3136_8588_6905_10184.fits\n",
      "No.    Name      Ver    Type      Cards   Dimensions   Format\n",
      "  0  PRIMARY       1 PrimaryHDU      52   (5453, 3280)   float32   \n",
      "Filename: /arc/home/IsaacCheng/coop_f2021/ngvs_data/NGVS-2-2.l.g.Mg004.3136_8588_6905_10184.fits\n",
      "No.    Name      Ver    Type      Cards   Dimensions   Format\n",
      "  0  PRIMARY       1 PrimaryHDU      52   (5453, 3280)   float32   \n",
      "Filename: /arc/home/IsaacCheng/coop_f2021/ngvs_data/NGVS-2-2.l.u.Mg004.3136_8588_6905_10184.fits\n",
      "No.    Name      Ver    Type      Cards   Dimensions   Format\n",
      "  0  PRIMARY       1 PrimaryHDU      58   (5453, 3280)   float32   \n",
      "Filename: /arc/projects/vertico/products/release.v1.2/native/NGC4380/NGC4380_7m+tp_co21_pbcorr_round_k_mom0_Msun.fits\n",
      "No.    Name      Ver    Type      Cards   Dimensions   Format\n",
      "  0  PRIMARY       1 PrimaryHDU      63   (78, 78)   float64   \n"
     ]
    },
    {
     "output_type": "stream",
     "name": "stderr",
     "text": [
      "WARNING: FITSFixedWarning: RADECSYS= 'ICRS ' / Astrometric system \n",
      "the RADECSYS keyword is deprecated, use RADESYSa. [astropy.wcs.wcs]\n",
      "WARNING: FITSFixedWarning: RADECSYS= 'ICRS ' / Astrometric system \n",
      "the RADECSYS keyword is deprecated, use RADESYSa. [astropy.wcs.wcs]\n",
      "WARNING: FITSFixedWarning: RADECSYS= 'ICRS ' / Astrometric system \n",
      "the RADECSYS keyword is deprecated, use RADESYSa. [astropy.wcs.wcs]\n"
     ]
    }
   ],
   "metadata": {}
  },
  {
   "cell_type": "markdown",
   "source": [
    "## g-i Colour\n"
   ],
   "metadata": {}
  },
  {
   "cell_type": "code",
   "execution_count": 8,
   "source": [
    "gi_colour = -2.5 * np.log10(data_g_cut / data_i_cut)\n",
    "cmap = \"plasma\"\n",
    "cmap = mpl.cm.get_cmap(cmap)\n",
    "#\n",
    "fig, ax = plt.subplots(subplot_kw={\"projection\": wcs_i_cut})\n",
    "# fig, ax = plt.subplots()\n",
    "img = ax.imshow(gi_colour, cmap=cmap, vmin=0.5, vmax=1.6)\n",
    "utils.add_scalebar(ax, wcs_i_cut, vcc792_dist,\n",
    "                   scalebar_factor=2, label=\"2 kpc\", color=\"w\", loc=\"lower right\")\n",
    "cbar = fig.colorbar(img)\n",
    "cbar.ax.tick_params(which=\"both\", direction=\"out\")\n",
    "cbar.set_label(\"g-i Colour Index\")\n",
    "# \n",
    "# Overplot CO contours from VERTICO data\n",
    "# \n",
    "ax.contour(data_co, transform=ax.get_transform(WCS(header_co)), levels=0, colors='w')\n",
    "ax.tick_params(which=\"both\", direction=\"out\")\n",
    "ax.set_xlabel(\"RA (J2000)\")\n",
    "ax.set_ylabel(\"Dec (J2000)\")\n",
    "ax.set_title(\"VCC 792 / NGC 4380\")\n",
    "ax.grid(False)\n",
    "ax.set_aspect(\"equal\")\n",
    "# fig.savefig(\"imgs/vcc792_contour1_g-i.pdf\")\n",
    "plt.show()\n"
   ],
   "outputs": [
    {
     "output_type": "stream",
     "name": "stderr",
     "text": [
      "<ipython-input-8-c72960aff5e8>:1: RuntimeWarning: invalid value encountered in log10\n",
      "  gi_colour = -2.5 * np.log10(data_g_cut / data_i_cut)\n"
     ]
    },
    {
     "output_type": "display_data",
     "data": {
      "application/vnd.jupyter.widget-view+json": {
       "version_major": 2,
       "version_minor": 0,
       "model_id": "e361130639954d0292814620648624ee"
      },
      "text/plain": [
       "Canvas(toolbar=Toolbar(toolitems=[('Home', 'Reset original view', 'home', 'home'), ('Back', 'Back to previous …"
      ]
     },
     "metadata": {}
    },
    {
     "output_type": "stream",
     "name": "stderr",
     "text": [
      "WARNING: FITSFixedWarning: 'datfix' made the change 'Set MJD-OBS to 58823.434418 from DATE-OBS'. [astropy.wcs.wcs]\n",
      "WARNING: FITSFixedWarning: 'obsfix' made the change 'Observatory coordinates incomplete'. [astropy.wcs.wcs]\n",
      "/arc/home/IsaacCheng/.local/lib/python3.8/site-packages/astropy/visualization/wcsaxes/core.py:234: UserWarning: No contour levels were found within the data range.\n",
      "  cset = super().contour(*args, **kwargs)\n"
     ]
    }
   ],
   "metadata": {}
  },
  {
   "cell_type": "code",
   "execution_count": 9,
   "source": [
    "plt.close(\"all\")"
   ],
   "outputs": [],
   "metadata": {}
  }
 ],
 "metadata": {
  "orig_nbformat": 4,
  "kernelspec": {
   "name": "python3",
   "display_name": "Python 3",
   "language": "python"
  },
  "language_info": {
   "name": "python",
   "version": "3.8.6",
   "mimetype": "text/x-python",
   "codemirror_mode": {
    "name": "ipython",
    "version": 3
   },
   "pygments_lexer": "ipython3",
   "nbconvert_exporter": "python",
   "file_extension": ".py"
  }
 },
 "nbformat": 4,
 "nbformat_minor": 2
}