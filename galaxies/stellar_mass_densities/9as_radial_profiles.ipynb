{
 "cells": [
  {
   "cell_type": "markdown",
   "id": "congressional-spine",
   "metadata": {},
   "source": [
    "# Stellar Mass Density Radial Profiles at 9 arcsec beam + 2 arcsec pixel resolution\n",
    "\n",
    "Isaac Cheng - December 2021\n"
   ]
  },
  {
   "cell_type": "code",
   "execution_count": 1,
   "id": "accepting-plain",
   "metadata": {},
   "outputs": [
    {
     "name": "stdout",
     "output_type": "stream",
     "text": [
      "/arc/home/IsaacCheng/coop_f2021/galaxies/stellar_mass_densities\n"
     ]
    }
   ],
   "source": [
    "SIG_STAR_PATH = \"/arc/home/IsaacCheng/coop_f2021/galaxies/stellar_mass_densities/\"\n",
    "%cd \"$SIG_STAR_PATH\"\n",
    "\n",
    "from multiprocessing import Pool\n",
    "from itertools import repeat\n",
    "import re\n",
    "\n",
    "import numpy as np\n",
    "import matplotlib as mpl\n",
    "import matplotlib.pyplot as plt\n",
    "import seaborn as sns\n",
    "import pandas as pd\n",
    "import dill\n",
    "import astropy.coordinates as coord\n",
    "import astropy.units as u\n",
    "from astropy.io import fits\n",
    "from astropy.wcs import WCS\n",
    "# \n",
    "# Load my own packages\n",
    "# \n",
    "import sys\n",
    "sys.path.append(\"/arc/home/IsaacCheng/coop_f2021/packages\")\n",
    "import fits_utils as fu\n",
    "import plot_utils as pu\n",
    "import radial_profile_utils as rpu\n",
    "from radial_profile import RadialProfile\n",
    "# \n",
    "GALDIST = 16.5 * u.Mpc  # distance to Virgo cluster centre"
   ]
  },
  {
   "cell_type": "code",
   "execution_count": 2,
   "id": "normal-tumor",
   "metadata": {},
   "outputs": [],
   "source": [
    "I_THRESHOLD = 80  # degree. If inclination >= I_THRESHOLD, means high-i galaxy\n",
    "\n",
    "# ----------------------------------------------------------------------------------------\n",
    "GALAXIES = np.array(\n",
    "    [\n",
    "        \"IC3392\",\n",
    "        # \"NGC4189\",  # ignored flag map, but bad results\n",
    "        \"NGC4192\",\n",
    "        \"NGC4216\",  # has unflagged foreground star\n",
    "        \"NGC4222\",\n",
    "        \"NGC4254\",\n",
    "        \"NGC4294\",\n",
    "        \"NGC4298\",\n",
    "        \"NGC4299\",\n",
    "        \"NGC4302\",\n",
    "        \"NGC4321\",\n",
    "        \"NGC4330\",\n",
    "        \"NGC4351\",\n",
    "        \"NGC4380\",\n",
    "        \"NGC4383\",\n",
    "        \"NGC4388\",\n",
    "        \"NGC4396\",\n",
    "        \"NGC4402\",\n",
    "        \"NGC4405\",\n",
    "        \"NGC4419\",\n",
    "        \"NGC4424\",\n",
    "        \"NGC4450\",\n",
    "        \"NGC4501\",\n",
    "        \"NGC4522\",\n",
    "        \"NGC4532\",\n",
    "        \"NGC4535\",\n",
    "        \"NGC4548\",\n",
    "        \"NGC4567\",\n",
    "        \"NGC4568\",\n",
    "        \"NGC4569\",\n",
    "        \"NGC4579\",\n",
    "        \"NGC4580\",\n",
    "        # \"NGC4606\",  # flag map too intrusive\n",
    "        \"NGC4607\",\n",
    "        \"NGC4651\",\n",
    "        \"NGC4654\",\n",
    "        \"NGC4689\",\n",
    "        \"NGC4694\",\n",
    "    ]\n",
    ")\n",
    "INCLINATIONS = np.array(\n",
    "    [\n",
    "        68,\n",
    "        # 42,  # ignored flag map, but bad results\n",
    "        83,\n",
    "        90,  # has unflagged foreground star\n",
    "        90,\n",
    "        39,\n",
    "        74,\n",
    "        52,\n",
    "        14,\n",
    "        90,\n",
    "        32,\n",
    "        90,\n",
    "        48,\n",
    "        61,\n",
    "        56,\n",
    "        83,\n",
    "        83,\n",
    "        80,\n",
    "        46,\n",
    "        74,\n",
    "        61,\n",
    "        51,\n",
    "        65,\n",
    "        82,\n",
    "        64,\n",
    "        48,\n",
    "        37,\n",
    "        49,\n",
    "        70,\n",
    "        69,\n",
    "        40,\n",
    "        46,\n",
    "        # 69,  # flag map too intrusive\n",
    "        90,\n",
    "        53,\n",
    "        61,\n",
    "        38,\n",
    "        62,\n",
    "    ]\n",
    ")  # degrees\n",
    "POSITION_ANGLES = np.array(\n",
    "    [\n",
    "        219,\n",
    "        # 70,  # ignored flag map, but bad results\n",
    "        333,\n",
    "        20,  # has unflagged foreground star\n",
    "        238,\n",
    "        243,\n",
    "        151,\n",
    "        132,\n",
    "        128,\n",
    "        356,\n",
    "        280,\n",
    "        238,\n",
    "        251,\n",
    "        158,\n",
    "        17,\n",
    "        271,\n",
    "        304,\n",
    "        270,\n",
    "        18,\n",
    "        131,\n",
    "        274,\n",
    "        170,\n",
    "        320,\n",
    "        35,\n",
    "        159,\n",
    "        12,\n",
    "        318,\n",
    "        251,\n",
    "        211,\n",
    "        203,\n",
    "        273,\n",
    "        337,\n",
    "        # 38,  # flag map too intrusive\n",
    "        2,\n",
    "        75,\n",
    "        300,\n",
    "        341,\n",
    "        323,\n",
    "    ]\n",
    ")  # degrees\n",
    "# ----------------------------------------------------------------------------------------\n",
    "# N.B. \"high inclination\" means inclination >= 80 degrees\n",
    "HIGH_I_GALAXIES = np.array(\n",
    "    [\n",
    "        \"NGC4192\",\n",
    "        \"NGC4216\",\n",
    "        \"NGC4222\",\n",
    "        \"NGC4302\",\n",
    "        \"NGC4330\",\n",
    "        \"NGC4388\",\n",
    "        \"NGC4396\",\n",
    "        \"NGC4402\",\n",
    "        \"NGC4522\",\n",
    "        \"NGC4607\",\n",
    "    ]\n",
    ")\n",
    "HIGH_I_INCLINATIONS = np.array([83, 90, 90, 90, 90, 83, 83, 80, 82, 90,])  # degrees\n",
    "HIGH_I_POSITION_ANGLES = np.array(\n",
    "    [333, 20, 238, 356, 238, 271, 304, 270, 35, 2]\n",
    ")  # degrees\n",
    "# ----------------------------------------------------------------------------------------\n",
    "HIGH_I_HEIGHTS_ARCSEC = np.array(\n",
    "    [80, 60, 25, 55, 38, 65, 43, 45, 40, 70,]\n",
    ")  # arcsec, for radial profiles\n",
    "# ----------------------------------------------------------------------------------------\n",
    "VCC_GALAXIES = np.array(\n",
    "    [\n",
    "        1126,  # IC3392\n",
    "        # 89,  # NGC4189, ignored flag map, but bad results\n",
    "        92,  # NGC4192\n",
    "        167,  # NGC4216, has unflagged foreground star\n",
    "        187,  # NGC4222\n",
    "        307,  # NGC4254\n",
    "        465,  # NGC4294\n",
    "        483,  # NGC4298\n",
    "        491,  # NGC4299\n",
    "        497,  # NGC4302\n",
    "        596,  # NGC4321\n",
    "        630,  # NGC4330\n",
    "        692,  # NGC4351\n",
    "        792,  # NGC4380\n",
    "        801,  # NGC4383\n",
    "        836,  # NGC4388\n",
    "        865,  # NGC4396\n",
    "        873,  # NGC4402\n",
    "        874,  # NGC4405\n",
    "        958,  # NGC4419\n",
    "        979,  # NGC4424\n",
    "        1110,  # NGC4450\n",
    "        1401,  # NGC4501\n",
    "        1516,  # NGC4522\n",
    "        1554,  # NGC4532\n",
    "        1555,  # NGC4535\n",
    "        1615,  # NGC4548\n",
    "        1673,  # NGC4567\n",
    "        1676,  # NGC4568\n",
    "        1690,  # NGC4569\n",
    "        1727,  # NGC4579\n",
    "        1730,  # NGC4580\n",
    "        # 1859,  # NGC4606, flag map too intrusive\n",
    "        1868,  # NGC4607\n",
    "        -100,  # NGC4651 (EVCC number is 1102, cannot use EVCC number)\n",
    "        1987,  # NGC4654\n",
    "        2058,  # NGC4689\n",
    "        2066,  # NGC4694\n",
    "    ]\n",
    ")\n",
    "# ----------------------------------------------------------------------------------------\n",
    "# ! WARNING: DO NOT UNCOMMENT NGC4189 OR NGC4606 IF USING THIS AS THEY WERE NOT CONSIDERED !\n",
    "DECR_MEAN_M_DENSITY_IDX = np.array(\n",
    "    [\n",
    "        29, 18, 21, 30, 27, 26, 28, 0, 17, 35, 25, 9, 12, 34, 32, 16, 14, 24, 4, 20, 11, 33, 19, 6, 7, 23, 2, 5, 22, 3, 1, 8, 13, 10, 31, 15,\n",
    "    ]\n",
    ")  # only considered finite SNRs >= 30 and treated each Voronoi bin as 1 pixel. All data corrected for inclination\n",
    "# ! WARNING: DO NOT UNCOMMENT NGC4189 OR NGC4606 IF USING THIS AS THEY WERE NOT CONSIDERED !\n",
    "DECR_MEDIAN_M_DENSITY_IDX = np.array(\n",
    "    [\n",
    "        30, 29, 21, 26, 0, 17, 18, 27, 35, 9, 34, 12, 25, 28, 32, 11, 24, 19, 20, 14, 4, 16, 33, 7, 6, 5, 13, 22, 10, 3, 23, 2, 8, 15, 1, 31\n",
    "    ]\n",
    ")  # only considered finite SNRs >= 30 and treated each Voronoi bin as 1 pixel. All data corrected for inclination\n",
    "# ----------------------------------------------------------------------------------------"
   ]
  },
  {
   "cell_type": "code",
   "execution_count": 3,
   "id": "robust-catholic",
   "metadata": {},
   "outputs": [],
   "source": [
    "from radio_beam import Beam\n",
    "\n",
    "def get_9as_rp(\n",
    "    galaxy, i, pa,\n",
    "    include_bad=None,  # overrides default include_bad\n",
    "    snr_cutoff=None,\n",
    "    max_snr_annuli=40,\n",
    "    n_annuli=None,\n",
    "    avg_function=\"mean\",\n",
    "    min_width=None,\n",
    "    bootstrap_errs=True,\n",
    "    bootstrap_seed=1234,\n",
    "):\n",
    "    # \n",
    "    # Load stellar mass density data\n",
    "    # \n",
    "    galpath = f\"/arc/home/IsaacCheng/coop_f2021/galaxies/{galaxy}/\"\n",
    "    galaxy_infile = galpath + f\"{galaxy}_regBin_extinctionCorr_9as_ugiz_Sigma-star_noNorm_i_corr.pkl\"\n",
    "    with open(galaxy_infile, \"rb\") as f:\n",
    "        file = dill.load(f)\n",
    "        # gal_wcs = file[\"wcs_binned\"]\n",
    "        # gal_wcs.array_shape = file[\"wcs_binned_array_shape\"]\n",
    "        M_density = file[\"stellar_mass_density\"]\n",
    "        M_density_err = file[\"stellar_mass_density_err\"]\n",
    "        file = None  # free memory\n",
    "    #\n",
    "    # Load molecular gas density data for header\n",
    "    #\n",
    "    if galaxy == \"NGC4321\":  # no 9 arcsec data since native is 10 arcsec\n",
    "        Ico_path = f\"/arc/home/IsaacCheng/coop_f2021/vertico_data/v1.3.1/native/{galaxy}/{galaxy}_7m+tp_co21_pbcorr_round_mom0_Kkms-1.fits\"\n",
    "        Ico_unc_path = f\"/arc/home/IsaacCheng/coop_f2021/vertico_data/v1.3.1/native/{galaxy}/{galaxy}_7m+tp_co21_pbcorr_round_mom0_unc.fits\"\n",
    "    else:\n",
    "        Ico_path = f\"/arc/home/IsaacCheng/coop_f2021/vertico_data/v1.3/9arcsec/{galaxy}/{galaxy}_7m+tp_co21_pbcorr_9as_round_mom0_Kkms-1.fits\"\n",
    "        Ico_unc_path = f\"/arc/home/IsaacCheng/coop_f2021/vertico_data/v1.3/9arcsec/{galaxy}/{galaxy}_7m+tp_co21_pbcorr_9as_round_mom0_unc.fits\"\n",
    "    Ico_data, gal_header = fits.getdata(Ico_path, header=True)\n",
    "    Ico_unc = fits.getdata(Ico_unc_path)  # uncertainty\n",
    "    gal_wcs = WCS(gal_header)\n",
    "    #\n",
    "    # Get annulus width in degree (just to store)\n",
    "    #\n",
    "    beam = Beam.from_fits_header(gal_header)\n",
    "    annulus_width_arcsec = np.max([beam.major.to(u.arcsec).value, beam.minor.to(u.arcsec).value])\n",
    "    #\n",
    "    # Get radial profile parameters\n",
    "    #\n",
    "    centre = gal_wcs.pixel_to_world(Ico_data.shape[1] / 2, Ico_data.shape[0] / 2)\n",
    "    if i >= I_THRESHOLD:\n",
    "        if include_bad is None:\n",
    "            include_bad = False\n",
    "        high_i_height = HIGH_I_HEIGHTS_ARCSEC[galaxy == HIGH_I_GALAXIES] * u.arcsec\n",
    "    else:\n",
    "        if include_bad is None:\n",
    "            include_bad = True  # only include NaNs if low-i galaxy\n",
    "        high_i_height = None\n",
    "    #\n",
    "    # Make radial profile\n",
    "    #\n",
    "    galaxy_rp = RadialProfile(M_density, centre, i, pa, noise=M_density_err)\n",
    "    galaxy_rp = galaxy_rp.calc_radial_profile(\n",
    "        i_threshold=I_THRESHOLD,\n",
    "        n_annuli=n_annuli,\n",
    "        snr_cutoff=snr_cutoff,\n",
    "        max_snr_annuli=max_snr_annuli,\n",
    "        min_width=min_width,\n",
    "        wcs=gal_wcs,\n",
    "        header=gal_header,\n",
    "        include_bad=include_bad,\n",
    "        method=\"exact\",\n",
    "        func=avg_function,\n",
    "        is_radio=True,\n",
    "        high_i_height=high_i_height,\n",
    "        bootstrap_errs=bootstrap_errs,\n",
    "        bootstrap_seed=bootstrap_seed,\n",
    "    )\n",
    "    return galaxy_rp, centre, annulus_width_arcsec"
   ]
  },
  {
   "cell_type": "code",
   "execution_count": 4,
   "id": "aware-petroleum",
   "metadata": {},
   "outputs": [
    {
     "name": "stdout",
     "output_type": "stream",
     "text": [
      "36\n",
      "[3, 19, 21, 9, 16, 3, 7, 6, 18, 15, 9, 5, 5, 5, 10, 8, 13, 3, 4, 4, 7, 7, 7, 4, 12, 11, 6, 5, 8, 11, 4, 7, 6, 8, 8, 5]\n",
      "['IC3392' 'NGC4192' 'NGC4216' 'NGC4222' 'NGC4254' 'NGC4294' 'NGC4298'\n",
      " 'NGC4299' 'NGC4302' 'NGC4321' 'NGC4330' 'NGC4351' 'NGC4380' 'NGC4383'\n",
      " 'NGC4388' 'NGC4396' 'NGC4402' 'NGC4405' 'NGC4419' 'NGC4424' 'NGC4450'\n",
      " 'NGC4501' 'NGC4522' 'NGC4532' 'NGC4535' 'NGC4548' 'NGC4567' 'NGC4568'\n",
      " 'NGC4569' 'NGC4579' 'NGC4580' 'NGC4607' 'NGC4651' 'NGC4654' 'NGC4689'\n",
      " 'NGC4694']\n"
     ]
    }
   ],
   "source": [
    "# \n",
    "# Load VERTICO gas density radial profiles (to get n_annuli)\n",
    "# \n",
    "with open(\"/arc/home/IsaacCheng/coop_f2021/galaxies/gas_densities/gas_density_i_corr_allVERTICO.pkl\", \"rb\") as f:\n",
    "    file = dill.load(f)\n",
    "    vertico_gals = file[\"galaxies\"]\n",
    "    vertico_inclinations = file[\"inclinations\"]\n",
    "    vertico_pas = file[\"position_angles\"]\n",
    "    vertico_rps = file[\"radial_profiles\"]\n",
    "    file = None  # free memory\n",
    "n_annulis = []\n",
    "for g, i, p, rp in zip(vertico_gals, vertico_inclinations, vertico_pas, vertico_rps):\n",
    "    if g not in GALAXIES:\n",
    "        continue\n",
    "    n_annulis.append(len(rp.annuli))\n",
    "print(len(n_annulis))\n",
    "print(n_annulis)  # here, n_annulis correspond to the alphabetized GALAXIES (make sure all lists/arrays correspond element-wise!)\n",
    "print(GALAXIES)"
   ]
  },
  {
   "cell_type": "code",
   "execution_count": 4,
   "id": "white-password",
   "metadata": {
    "collapsed": true,
    "jupyter": {
     "outputs_hidden": true
    }
   },
   "outputs": [
    {
     "name": "stderr",
     "output_type": "stream",
     "text": [
      "WARNING: FITSFixedWarning: The WCS transformation has more axes (2) than the image it is associated with (0) [astropy.wcs.wcs]WARNINGWARNING\n",
      "WARNING: FITSFixedWarning: The WCS transformation has more axes (2) than the image it is associated with (0) [astropy.wcs.wcs]: FITSFixedWarning: The WCS transformation has more axes (2) than the image it is associated with (0) [astropy.wcs.wcs]WARNINGWARNINGWARNINGWARNING: FITSFixedWarning: The WCS transformation has more axes (2) than the image it is associated with (0) [astropy.wcs.wcs]WARNINGWARNINGWARNINGWARNINGWARNINGWARNINGWARNINGWARNINGWARNINGWARNINGWARNINGWARNINGWARNINGWARNINGWARNINGWARNING: FITSFixedWarning: The WCS transformation has more axes (2) than the image it is associated with (0) [astropy.wcs.wcs]\n",
      ": FITSFixedWarning: The WCS transformation has more axes (2) than the image it is associated with (0) [astropy.wcs.wcs]: FITSFixedWarning: The WCS transformation has more axes (2) than the image it is associated with (0) [astropy.wcs.wcs]: FITSFixedWarning: The WCS transformation has more axes (2) than the image it is associated with (0) [astropy.wcs.wcs]WARNING: FITSFixedWarning: The WCS transformation has more axes (2) than the image it is associated with (0) [astropy.wcs.wcs]: FITSFixedWarning: The WCS transformation has more axes (2) than the image it is associated with (0) [astropy.wcs.wcs]: FITSFixedWarning: The WCS transformation has more axes (2) than the image it is associated with (0) [astropy.wcs.wcs]: FITSFixedWarning: The WCS transformation has more axes (2) than the image it is associated with (0) [astropy.wcs.wcs]: FITSFixedWarning: The WCS transformation has more axes (2) than the image it is associated with (0) [astropy.wcs.wcs]: FITSFixedWarning: The WCS transformation has more axes (2) than the image it is associated with (0) [astropy.wcs.wcs]: FITSFixedWarning: The WCS transformation has more axes (2) than the image it is associated with (0) [astropy.wcs.wcs]WARNING: FITSFixedWarning: The WCS transformation has more axes (2) than the image it is associated with (0) [astropy.wcs.wcs]: FITSFixedWarning: The WCS transformation has more axes (2) than the image it is associated with (0) [astropy.wcs.wcs]\n",
      ": FITSFixedWarning: The WCS transformation has more axes (2) than the image it is associated with (0) [astropy.wcs.wcs]: FITSFixedWarning: The WCS transformation has more axes (2) than the image it is associated with (0) [astropy.wcs.wcs]\n",
      ": FITSFixedWarning: The WCS transformation has more axes (2) than the image it is associated with (0) [astropy.wcs.wcs]: FITSFixedWarning: The WCS transformation has more axes (2) than the image it is associated with (0) [astropy.wcs.wcs]\n",
      "WARNING\n",
      "\n",
      ": FITSFixedWarning: The WCS transformation has more axes (2) than the image it is associated with (0) [astropy.wcs.wcs]\n",
      "WARNING\n",
      "\n",
      "\n",
      ": FITSFixedWarning: The WCS transformation has more axes (2) than the image it is associated with (0) [astropy.wcs.wcs]\n",
      "\n",
      "\n",
      "\n",
      "\n",
      "WARNING: FITSFixedWarning: The WCS transformation has more axes (2) than the image it is associated with (0) [astropy.wcs.wcs]\n",
      ": FITSFixedWarning: The WCS transformation has more axes (2) than the image it is associated with (0) [astropy.wcs.wcs]\n",
      ": FITSFixedWarning: The WCS transformation has more axes (2) than the image it is associated with (0) [astropy.wcs.wcs]: FITSFixedWarning: The WCS transformation has more axes (2) than the image it is associated with (0) [astropy.wcs.wcs]WARNING\n",
      ": FITSFixedWarning: The WCS transformation has more axes (2) than the image it is associated with (0) [astropy.wcs.wcs]\n",
      "\n",
      ": FITSFixedWarning: The WCS transformation has more axes (2) than the image it is associated with (0) [astropy.wcs.wcs]\n",
      "\n",
      "\n",
      "\n",
      "\n",
      "\n",
      "WARNINGWARNING: FITSFixedWarning: The WCS transformation has more axes (2) than the image it is associated with (0) [astropy.wcs.wcs]: FITSFixedWarning: 'datfix' made the change 'Set MJD-OBS to 58858.416048 from DATE-OBS'. [astropy.wcs.wcs]: FITSFixedWarning: 'datfix' made the change 'Set MJD-OBS to 58857.486979 from DATE-OBS'. [astropy.wcs.wcs]\n",
      "WARNING\n",
      "WARNINGWARNINGWARNINGWARNINGWARNINGWARNINGWARNING\n",
      "WARNING: FITSFixedWarning: 'datfix' made the change 'Set MJD-OBS to 58839.379235 from DATE-OBS'. [astropy.wcs.wcs]\n",
      ": FITSFixedWarning: 'datfix' made the change 'Set MJD-OBS to 58832.392244 from DATE-OBS'. [astropy.wcs.wcs]: FITSFixedWarning: 'datfix' made the change 'Set MJD-OBS to 58811.578396 from DATE-OBS'. [astropy.wcs.wcs]WARNING: FITSFixedWarning: 'datfix' made the change 'Set MJD-OBS to 58786.495183 from DATE-OBS'. [astropy.wcs.wcs]WARNING: FITSFixedWarning: 'datfix' made the change 'Set MJD-OBS to 58906.231702 from DATE-OBS'. [astropy.wcs.wcs]: FITSFixedWarning: 'datfix' made the change 'Set MJD-OBS to 58800.586857 from DATE-OBS'. [astropy.wcs.wcs]: FITSFixedWarning: 'datfix' made the change 'Set MJD-OBS to 58807.603859 from DATE-OBS'. [astropy.wcs.wcs]\n",
      "\n",
      ": FITSFixedWarning: 'datfix' made the change 'Set MJD-OBS to 58830.570338 from DATE-OBS'. [astropy.wcs.wcs]\n",
      "WARNING\n",
      "WARNING: FITSFixedWarning: 'datfix' made the change 'Set MJD-OBS to 58855.371869 from DATE-OBS'. [astropy.wcs.wcs]\n",
      "\n",
      "\n",
      "\n",
      "WARNING: FITSFixedWarning: 'datfix' made the change 'Set MJD-OBS to 58771.720579 from DATE-OBS'. [astropy.wcs.wcs]: FITSFixedWarning: 'datfix' made the change 'Set MJD-OBS to 58855.352029 from DATE-OBS'. [astropy.wcs.wcs]WARNING: FITSFixedWarning: 'datfix' made the change 'Set MJD-OBS to 58034.639742 from DATE-OBS'. [astropy.wcs.wcs]\n",
      "\n",
      "\n",
      "WARNINGWARNING\n",
      ": FITSFixedWarning: The WCS transformation has more axes (2) than the image it is associated with (0) [astropy.wcs.wcs]WARNINGWARNINGWARNINGWARNINGWARNING: FITSFixedWarning: 'datfix' made the change 'Set MJD-OBS to 58837.406607 from DATE-OBS'. [astropy.wcs.wcs]: FITSFixedWarning: 'datfix' made the change 'Set MJD-OBS to 58820.540981 from DATE-OBS'. [astropy.wcs.wcs]: FITSFixedWarning: 'datfix' made the change 'Set MJD-OBS to 58197.199664 from DATE-OBS'. [astropy.wcs.wcs]WARNINGWARNINGWARNINGWARNINGWARNINGWARNING\n",
      ": FITSFixedWarning: 'datfix' made the change 'Set MJD-OBS to 58835.533518 from DATE-OBS'. [astropy.wcs.wcs]: FITSFixedWarning: 'datfix' made the change 'Set MJD-OBS to 57729.380956 from DATE-OBS'. [astropy.wcs.wcs]: FITSFixedWarning: The WCS transformation has more axes (2) than the image it is associated with (0) [astropy.wcs.wcs]\n",
      "WARNINGWARNING\n",
      "WARNINGWARNING: FITSFixedWarning: 'obsfix' made the change 'Observatory coordinates incomplete'. [astropy.wcs.wcs]: FITSFixedWarning: 'obsfix' made the change 'Observatory coordinates incomplete'. [astropy.wcs.wcs]: FITSFixedWarning: 'obsfix' made the change 'Observatory coordinates incomplete'. [astropy.wcs.wcs]: FITSFixedWarning: 'datfix' made the change 'Set MJD-OBS to 58827.396029 from DATE-OBS'. [astropy.wcs.wcs]\n",
      "\n",
      ": FITSFixedWarning: 'obsfix' made the change 'Observatory coordinates incomplete'. [astropy.wcs.wcs]\n",
      ": FITSFixedWarning: 'obsfix' made the change 'Observatory coordinates incomplete'. [astropy.wcs.wcs]: FITSFixedWarning: 'obsfix' made the change 'Observatory coordinates incomplete'. [astropy.wcs.wcs]: FITSFixedWarning: 'obsfix' made the change 'Observatory coordinates incomplete'. [astropy.wcs.wcs]WARNING\n",
      "\n",
      "\n",
      "\n",
      "\n",
      "\n",
      "WARNING\n",
      "\n",
      "WARNINGWARNING: FITSFixedWarning: 'obsfix' made the change 'Observatory coordinates incomplete'. [astropy.wcs.wcs]WARNING: FITSFixedWarning: 'obsfix' made the change 'Observatory coordinates incomplete'. [astropy.wcs.wcs]: FITSFixedWarning: 'obsfix' made the change 'Observatory coordinates incomplete'. [astropy.wcs.wcs]: FITSFixedWarning: 'obsfix' made the change 'Observatory coordinates incomplete'. [astropy.wcs.wcs]\n",
      ": FITSFixedWarning: 'obsfix' made the change 'Observatory coordinates incomplete'. [astropy.wcs.wcs]WARNINGWARNING\n",
      ": FITSFixedWarning: 'obsfix' made the change 'Observatory coordinates incomplete'. [astropy.wcs.wcs]\n",
      "\n",
      "WARNINGWARNING: FITSFixedWarning: 'datfix' made the change 'Set MJD-OBS to 57594.978228 from DATE-OBS'. [astropy.wcs.wcs]WARNING: FITSFixedWarning: 'datfix' made the change 'Set MJD-OBS to 58771.655996 from DATE-OBS'. [astropy.wcs.wcs]\n",
      ": FITSFixedWarning: 'datfix' made the change 'Set MJD-OBS to 57524.101317 from DATE-OBS'. [astropy.wcs.wcs]\n",
      "WARNING\n",
      ": FITSFixedWarning: 'datfix' made the change 'Set MJD-OBS to 58822.371327 from DATE-OBS'. [astropy.wcs.wcs]WARNING: FITSFixedWarning: 'obsfix' made the change 'Observatory coordinates incomplete'. [astropy.wcs.wcs]WARNINGWARNING: FITSFixedWarning: 'obsfix' made the change 'Observatory coordinates incomplete'. [astropy.wcs.wcs]\n",
      ": FITSFixedWarning: 'obsfix' made the change 'Observatory coordinates incomplete'. [astropy.wcs.wcs]\n",
      ": FITSFixedWarning: 'obsfix' made the change 'Observatory coordinates incomplete'. [astropy.wcs.wcs]\n",
      ": FITSFixedWarning: 'obsfix' made the change 'Observatory coordinates incomplete'. [astropy.wcs.wcs]WARNING"
     ]
    },
    {
     "name": "stdout",
     "output_type": "stream",
     "text": [
      "Info: using provided WCS instead of converting header to WCSInfo: using provided WCS instead of converting header to WCS"
     ]
    },
    {
     "name": "stderr",
     "output_type": "stream",
     "text": [
      "\n"
     ]
    },
    {
     "name": "stdout",
     "output_type": "stream",
     "text": [
      "Info: using provided WCS instead of converting header to WCS"
     ]
    },
    {
     "name": "stderr",
     "output_type": "stream",
     "text": [
      ": FITSFixedWarning: 'obsfix' made the change 'Observatory coordinates incomplete'. [astropy.wcs.wcs]\n",
      ": FITSFixedWarning: 'datfix' made the change 'Set MJD-OBS to 58184.283297 from DATE-OBS'. [astropy.wcs.wcs]"
     ]
    },
    {
     "name": "stdout",
     "output_type": "stream",
     "text": [
      "Info: using provided WCS instead of converting header to WCS"
     ]
    },
    {
     "name": "stderr",
     "output_type": "stream",
     "text": [
      "\n"
     ]
    },
    {
     "name": "stdout",
     "output_type": "stream",
     "text": [
      "\n"
     ]
    },
    {
     "name": "stderr",
     "output_type": "stream",
     "text": [
      ": FITSFixedWarning: 'datfix' made the change 'Set MJD-OBS to 58125.369839 from DATE-OBS'. [astropy.wcs.wcs]\n"
     ]
    },
    {
     "name": "stdout",
     "output_type": "stream",
     "text": [
      "Info: using provided WCS instead of converting header to WCS\n",
      "\n"
     ]
    },
    {
     "name": "stderr",
     "output_type": "stream",
     "text": [
      ": FITSFixedWarning: 'datfix' made the change 'Set MJD-OBS to 57613.735997 from DATE-OBS'. [astropy.wcs.wcs]: FITSFixedWarning: 'obsfix' made the change 'Observatory coordinates incomplete'. [astropy.wcs.wcs]\n"
     ]
    },
    {
     "name": "stdout",
     "output_type": "stream",
     "text": [
      "Getting minimum width from radio beam size"
     ]
    },
    {
     "name": "stderr",
     "output_type": "stream",
     "text": [
      "\n"
     ]
    },
    {
     "name": "stdout",
     "output_type": "stream",
     "text": [
      "Getting minimum width from radio beam sizeGetting minimum width from radio beam size\n",
      "\n",
      "Info: using provided WCS instead of converting header to WCSInfo: using provided WCS instead of converting header to WCSInfo: using provided WCS instead of converting header to WCS"
     ]
    },
    {
     "name": "stderr",
     "output_type": "stream",
     "text": [
      "WARNING\n",
      "WARNING"
     ]
    },
    {
     "name": "stdout",
     "output_type": "stream",
     "text": [
      "Info: using provided WCS instead of converting header to WCS\n"
     ]
    },
    {
     "name": "stderr",
     "output_type": "stream",
     "text": [
      "WARNING"
     ]
    },
    {
     "name": "stdout",
     "output_type": "stream",
     "text": [
      "\n",
      "\n"
     ]
    },
    {
     "name": "stderr",
     "output_type": "stream",
     "text": [
      ": FITSFixedWarning: 'obsfix' made the change 'Observatory coordinates incomplete'. [astropy.wcs.wcs]"
     ]
    },
    {
     "name": "stdout",
     "output_type": "stream",
     "text": [
      "\n"
     ]
    },
    {
     "name": "stderr",
     "output_type": "stream",
     "text": [
      "WARNING: FITSFixedWarning: 'datfix' made the change 'Set MJD-OBS to 58821.370833 from DATE-OBS'. [astropy.wcs.wcs]"
     ]
    },
    {
     "name": "stdout",
     "output_type": "stream",
     "text": [
      "\n",
      "Info: using provided WCS instead of converting header to WCS\n"
     ]
    },
    {
     "name": "stderr",
     "output_type": "stream",
     "text": [
      "\n"
     ]
    },
    {
     "name": "stdout",
     "output_type": "stream",
     "text": [
      "Getting minimum width from radio beam size"
     ]
    },
    {
     "name": "stderr",
     "output_type": "stream",
     "text": [
      "\n"
     ]
    },
    {
     "name": "stdout",
     "output_type": "stream",
     "text": [
      "Getting minimum width from radio beam sizeGetting minimum width from radio beam size"
     ]
    },
    {
     "name": "stderr",
     "output_type": "stream",
     "text": [
      "WARNING"
     ]
    },
    {
     "name": "stdout",
     "output_type": "stream",
     "text": [
      "Info: using provided WCS instead of converting header to WCSGetting minimum width from radio beam size"
     ]
    },
    {
     "name": "stderr",
     "output_type": "stream",
     "text": [
      "\n"
     ]
    },
    {
     "name": "stdout",
     "output_type": "stream",
     "text": [
      "\n"
     ]
    },
    {
     "name": "stderr",
     "output_type": "stream",
     "text": [
      "WARNING"
     ]
    },
    {
     "name": "stdout",
     "output_type": "stream",
     "text": [
      "Info: using provided WCS instead of converting header to WCS\n"
     ]
    },
    {
     "name": "stderr",
     "output_type": "stream",
     "text": [
      ": FITSFixedWarning: 'datfix' made the change 'Set MJD-OBS to 58823.434418 from DATE-OBS'. [astropy.wcs.wcs]"
     ]
    },
    {
     "name": "stdout",
     "output_type": "stream",
     "text": [
      "\n",
      "Info: using provided WCS instead of converting header to WCS\n",
      "Info: using provided WCS instead of converting header to WCSInfo: using provided WCS instead of converting header to WCS"
     ]
    },
    {
     "name": "stderr",
     "output_type": "stream",
     "text": [
      ": FITSFixedWarning: 'obsfix' made the change 'Observatory coordinates incomplete'. [astropy.wcs.wcs]"
     ]
    },
    {
     "name": "stdout",
     "output_type": "stream",
     "text": [
      "\n"
     ]
    },
    {
     "name": "stderr",
     "output_type": "stream",
     "text": [
      "\n"
     ]
    },
    {
     "name": "stdout",
     "output_type": "stream",
     "text": [
      "\n",
      "\n"
     ]
    },
    {
     "name": "stderr",
     "output_type": "stream",
     "text": [
      ": FITSFixedWarning: 'obsfix' made the change 'Observatory coordinates incomplete'. [astropy.wcs.wcs]"
     ]
    },
    {
     "name": "stdout",
     "output_type": "stream",
     "text": [
      "\n",
      "Info: using provided WCS instead of converting header to WCS\n",
      "\n",
      "Getting minimum width from radio beam sizeGetting minimum width from radio beam size"
     ]
    },
    {
     "name": "stderr",
     "output_type": "stream",
     "text": [
      "\n"
     ]
    },
    {
     "name": "stdout",
     "output_type": "stream",
     "text": [
      "Min width/beam size (pixels):\n",
      "Min width/beam size (pixels):"
     ]
    },
    {
     "name": "stderr",
     "output_type": "stream",
     "text": [
      "WARNING\n"
     ]
    },
    {
     "name": "stdout",
     "output_type": "stream",
     "text": [
      "\n"
     ]
    },
    {
     "name": "stderr",
     "output_type": "stream",
     "text": [
      "WARNING"
     ]
    },
    {
     "name": "stdout",
     "output_type": "stream",
     "text": [
      "Getting minimum width from radio beam size "
     ]
    },
    {
     "name": "stderr",
     "output_type": "stream",
     "text": [
      "WARNING"
     ]
    },
    {
     "name": "stdout",
     "output_type": "stream",
     "text": [
      " Getting minimum width from radio beam size\n"
     ]
    },
    {
     "name": "stderr",
     "output_type": "stream",
     "text": [
      ": FITSFixedWarning: 'datfix' made the change 'Set MJD-OBS to 58910.235509 from DATE-OBS'. [astropy.wcs.wcs]\n",
      ": FITSFixedWarning: 'obsfix' made the change 'Observatory coordinates incomplete'. [astropy.wcs.wcs]: FITSFixedWarning: 'datfix' made the change 'Set MJD-OBS to 58203.170749 from DATE-OBS'. [astropy.wcs.wcs]"
     ]
    },
    {
     "name": "stdout",
     "output_type": "stream",
     "text": [
      "4.50000000020304Min width/beam size (pixels):Info: using provided WCS instead of converting header to WCSGetting minimum width from radio beam size"
     ]
    },
    {
     "name": "stderr",
     "output_type": "stream",
     "text": [
      ": FITSFixedWarning: 'datfix' made the change 'Set MJD-OBS to 58838.438545 from DATE-OBS'. [astropy.wcs.wcs]\n"
     ]
    },
    {
     "name": "stdout",
     "output_type": "stream",
     "text": [
      "\n"
     ]
    },
    {
     "name": "stderr",
     "output_type": "stream",
     "text": [
      "\n"
     ]
    },
    {
     "name": "stdout",
     "output_type": "stream",
     "text": [
      "Info: using provided WCS instead of converting header to WCSInfo: using provided WCS instead of converting header to WCSInfo: using provided WCS instead of converting header to WCS"
     ]
    },
    {
     "name": "stderr",
     "output_type": "stream",
     "text": [
      "\n"
     ]
    },
    {
     "name": "stdout",
     "output_type": "stream",
     "text": [
      "\n",
      "Getting minimum width from radio beam size"
     ]
    },
    {
     "name": "stderr",
     "output_type": "stream",
     "text": [
      "\n",
      "\n",
      "WARNING\n"
     ]
    },
    {
     "name": "stdout",
     "output_type": "stream",
     "text": [
      " Min width/beam size (pixels):\n",
      "Min width/beam size (pixels):"
     ]
    },
    {
     "name": "stderr",
     "output_type": "stream",
     "text": [
      "WARNING"
     ]
    },
    {
     "name": "stdout",
     "output_type": "stream",
     "text": [
      "\n",
      "\n",
      "\n",
      "\n",
      "Min width/beam size (pixels):Min width/beam size (pixels):\n",
      "Getting minimum width from radio beam size"
     ]
    },
    {
     "name": "stderr",
     "output_type": "stream",
     "text": [
      "WARNING"
     ]
    },
    {
     "name": "stdout",
     "output_type": "stream",
     "text": [
      "Min width/beam size (pixels):\n",
      "Min width/beam size (pixels):"
     ]
    },
    {
     "name": "stderr",
     "output_type": "stream",
     "text": [
      "\n"
     ]
    },
    {
     "name": "stdout",
     "output_type": "stream",
     "text": [
      "Getting minimum width from radio beam size "
     ]
    },
    {
     "name": "stderr",
     "output_type": "stream",
     "text": [
      ": FITSFixedWarning: 'obsfix' made the change 'Observatory coordinates incomplete'. [astropy.wcs.wcs]: FITSFixedWarning: 'obsfix' made the change 'Observatory coordinates incomplete'. [astropy.wcs.wcs]"
     ]
    },
    {
     "name": "stdout",
     "output_type": "stream",
     "text": [
      "Getting minimum width from radio beam size4.50000000020844Info: using provided WCS instead of converting header to WCSGetting minimum width from radio beam size4.5000000002462395 Info: using provided WCS instead of converting header to WCS "
     ]
    },
    {
     "name": "stderr",
     "output_type": "stream",
     "text": [
      ": FITSFixedWarning: 'obsfix' made the change 'Observatory coordinates incomplete'. [astropy.wcs.wcs]"
     ]
    },
    {
     "name": "stdout",
     "output_type": "stream",
     "text": [
      "Getting minimum width from radio beam size\n",
      " 4.50000000015984 \n"
     ]
    },
    {
     "name": "stderr",
     "output_type": "stream",
     "text": [
      "\n"
     ]
    },
    {
     "name": "stdout",
     "output_type": "stream",
     "text": [
      "\n",
      "\n",
      "Getting minimum width from radio beam size4.50000000021924"
     ]
    },
    {
     "name": "stderr",
     "output_type": "stream",
     "text": [
      "\n",
      "\n"
     ]
    },
    {
     "name": "stdout",
     "output_type": "stream",
     "text": [
      "\n",
      "\n",
      "4.500000000163444.5000000002840395\n",
      "4.500000000075239\n",
      "\n",
      "\n",
      "Info: Fitting annuli according to snr_cutoff. Warning messages (e.g., invalid values, degrees of freedom <= 0, etc.) can safely be ignored"
     ]
    },
    {
     "name": "stderr",
     "output_type": "stream",
     "text": [
      "WARNING"
     ]
    },
    {
     "name": "stdout",
     "output_type": "stream",
     "text": [
      "Info: using provided WCS instead of converting header to WCSGetting minimum width from radio beam size\n"
     ]
    },
    {
     "name": "stderr",
     "output_type": "stream",
     "text": [
      "WARNING"
     ]
    },
    {
     "name": "stdout",
     "output_type": "stream",
     "text": [
      " \n",
      "\n",
      "Min width/beam size (pixels):\n"
     ]
    },
    {
     "name": "stderr",
     "output_type": "stream",
     "text": [
      "WARNING"
     ]
    },
    {
     "name": "stdout",
     "output_type": "stream",
     "text": [
      "\n",
      "Min width/beam size (pixels):Min width/beam size (pixels):Info: using provided WCS instead of converting header to WCS\n",
      "4.50000000017604\n",
      " "
     ]
    },
    {
     "name": "stderr",
     "output_type": "stream",
     "text": [
      ": FITSFixedWarning: 'obsfix' made the change 'Observatory coordinates incomplete'. [astropy.wcs.wcs]"
     ]
    },
    {
     "name": "stdout",
     "output_type": "stream",
     "text": [
      "Info: Inclination greater than i_threshold. Fitting rectangles along major axis instead of ellipses/annuli \n"
     ]
    },
    {
     "name": "stderr",
     "output_type": "stream",
     "text": [
      ": FITSFixedWarning: 'obsfix' made the change 'Observatory coordinates incomplete'. [astropy.wcs.wcs]"
     ]
    },
    {
     "name": "stdout",
     "output_type": "stream",
     "text": [
      "Getting minimum width from radio beam size"
     ]
    },
    {
     "name": "stderr",
     "output_type": "stream",
     "text": [
      "WARNING"
     ]
    },
    {
     "name": "stdout",
     "output_type": "stream",
     "text": [
      "4.50000000014004\n",
      "Iter 1: average SNR = 51.74841115504826"
     ]
    },
    {
     "name": "stderr",
     "output_type": "stream",
     "text": [
      "\n",
      "WARNING"
     ]
    },
    {
     "name": "stdout",
     "output_type": "stream",
     "text": [
      "4.500000000188639\n",
      " Info: Fitting annuli according to snr_cutoff. Warning messages (e.g., invalid values, degrees of freedom <= 0, etc.) can safely be ignored\n",
      "Min width/beam size (pixels):\n",
      "\n",
      "Info: using provided WCS instead of converting header to WCSMin width/beam size (pixels):Getting minimum width from radio beam sizeInfo: using provided WCS instead of converting header to WCS\n",
      "4.500000000179639Min width/beam size (pixels):"
     ]
    },
    {
     "name": "stderr",
     "output_type": "stream",
     "text": [
      "\n"
     ]
    },
    {
     "name": "stdout",
     "output_type": "stream",
     "text": [
      "Min width/beam size (pixels):Info: Fitting annuli according to snr_cutoff. Warning messages (e.g., invalid values, degrees of freedom <= 0, etc.) can safely be ignoredInfo: using provided WCS instead of converting header to WCSInfo: Inclination greater than i_threshold. Fitting rectangles along major axis instead of ellipses/annuli"
     ]
    },
    {
     "name": "stderr",
     "output_type": "stream",
     "text": [
      ": FITSFixedWarning: 'obsfix' made the change 'Observatory coordinates incomplete'. [astropy.wcs.wcs]"
     ]
    },
    {
     "name": "stdout",
     "output_type": "stream",
     "text": [
      " \n",
      " \n",
      "\n",
      "\n",
      "Getting minimum width from radio beam sizeMin width/beam size (pixels):\n",
      "Info: Fitting annuli according to snr_cutoff. Warning messages (e.g., invalid values, degrees of freedom <= 0, etc.) can safely be ignored\n",
      "  \n",
      "Iter 2: average SNR = 89.6365763608187Min width/beam size (pixels):Min width/beam size (pixels):\n"
     ]
    },
    {
     "name": "stderr",
     "output_type": "stream",
     "text": [
      ": FITSFixedWarning: 'obsfix' made the change 'Observatory coordinates incomplete'. [astropy.wcs.wcs]"
     ]
    },
    {
     "name": "stdout",
     "output_type": "stream",
     "text": [
      "4.50000000012564Info: Fitting annuli according to snr_cutoff. Warning messages (e.g., invalid values, degrees of freedom <= 0, etc.) can safely be ignored\n",
      "Getting minimum width from radio beam sizeInfo: Inclination greater than i_threshold. Fitting rectangles along major axis instead of ellipses/annuliMin width/beam size (pixels): Getting minimum width from radio beam size\n"
     ]
    },
    {
     "name": "stderr",
     "output_type": "stream",
     "text": [
      ": FITSFixedWarning: 'obsfix' made the change 'Observatory coordinates incomplete'. [astropy.wcs.wcs]"
     ]
    },
    {
     "name": "stdout",
     "output_type": "stream",
     "text": [
      "Info: Inclination greater than i_threshold. Fitting rectangles along major axis instead of ellipses/annuli4.500000000276844.50000000011664"
     ]
    },
    {
     "name": "stderr",
     "output_type": "stream",
     "text": [
      "\n"
     ]
    },
    {
     "name": "stdout",
     "output_type": "stream",
     "text": [
      "Height (pixels): Iter 1: average SNR = 46.46452112804641\n",
      "Getting minimum width from radio beam size\n",
      "\n",
      "4.50000000014904\n",
      " \n",
      "\n",
      "\n"
     ]
    },
    {
     "name": "stderr",
     "output_type": "stream",
     "text": [
      "\n"
     ]
    },
    {
     "name": "stdout",
     "output_type": "stream",
     "text": [
      "\n",
      "Info: using provided WCS instead of converting header to WCS4.5000000001472396Info: Inclination greater than i_threshold. Fitting rectangles along major axis instead of ellipses/annuli4.50000000009684Iter 1: average SNR = 35.95718516751563\n",
      "Min width/beam size (pixels):\n",
      " Info: Fitting annuli according to snr_cutoff. Warning messages (e.g., invalid values, degrees of freedom <= 0, etc.) can safely be ignoredIter 1: average SNR = 131.42144848508724Iter 1: average SNR = 117.37165519060112 \n",
      "Info: using provided WCS instead of converting header to WCS\n",
      "\n",
      "\n",
      "Min width/beam size (pixels):5.092956068889193\n",
      "4.50000000012024Height (pixels): \n",
      "\n",
      "Iter 2: average SNR = 73.88735836385807\n",
      "Info: Fitting annuli according to snr_cutoff. Warning messages (e.g., invalid values, degrees of freedom <= 0, etc.) can safely be ignored12.499999999999002\n",
      " 4.50000000019764\n",
      "\n",
      "Getting minimum width from radio beam sizeMin width/beam size (pixels):\n",
      "Iter 2: average SNR = 60.51476200833766Height (pixels):Info: Fitting annuli according to snr_cutoff. Warning messages (e.g., invalid values, degrees of freedom <= 0, etc.) can safely be ignored4.50000000016344Min width/beam size (pixels):\n",
      "Iter 1: average SNR = 40.9166041000205Min width/beam size (pixels):\n",
      "\n",
      "\n",
      "\n",
      "\n",
      "Info: Inclination greater than i_threshold. Fitting rectangles along major axis instead of ellipses/annuli  \n",
      "Min width/beam size (pixels): \n",
      "\n",
      "Getting minimum width from radio beam size "
     ]
    },
    {
     "name": "stderr",
     "output_type": "stream",
     "text": [
      "\n"
     ]
    },
    {
     "name": "stdout",
     "output_type": "stream",
     "text": [
      "Height (pixels):\n",
      "27.4999999999978Info: Inclination greater than i_threshold. Fitting rectangles along major axis instead of ellipses/annuliIter 1: average SNR = 20.44919796289387 Iter 2: average SNR = 145.798548335002324.497731204325844.50000000014364Height (pixels): Info: Fitting annuli according to snr_cutoff. Warning messages (e.g., invalid values, degrees of freedom <= 0, etc.) can safely be ignored\n",
      " Iter 2: average SNR = 67.6837838889991Iter 2: average SNR = 129.15873624539466Getting minimum width from radio beam size\n",
      "\n",
      "Info: Fitting annuli according to snr_cutoff. Warning messages (e.g., invalid values, degrees of freedom <= 0, etc.) can safely be ignoredInfo: using provided WCS instead of converting header to WCS\n",
      "\n",
      " \n",
      "4.50000000022464\n",
      "Info: Fitting annuli according to snr_cutoff. Warning messages (e.g., invalid values, degrees of freedom <= 0, etc.) can safely be ignored\n",
      "18.999999999998483Iter 1: average SNR = 82.84033549854679Info: using provided WCS instead of converting header to WCS\n",
      "Info: Fitting rectangles according to snr_cutoff. Warning messages (e.g., invalid values, degrees of freedom <= 0, etc.) can safely be ignored\n",
      "\n",
      "Iter 3: average SNR = 73.7214171926968519.9999999999984Info: Inclination greater than i_threshold. Fitting rectangles along major axis instead of ellipses/annuliInfo: Fitting annuli according to snr_cutoff. Warning messages (e.g., invalid values, degrees of freedom <= 0, etc.) can safely be ignored\n",
      "\n",
      "Min width/beam size (pixels):4.50000000019044Iter 2: average SNR = 39.663798254002046\n",
      "22.499999999998202\n",
      "Info: Fitting annuli according to snr_cutoff. Warning messages (e.g., invalid values, degrees of freedom <= 0, etc.) can safely be ignored\n",
      "\n",
      " Height (pixels):\n",
      "\n",
      "\n",
      "Iter 1: average SNR = 67.89973578563851Info: Fitting rectangles according to snr_cutoff. Warning messages (e.g., invalid values, degrees of freedom <= 0, etc.) can safely be ignored\n",
      "\n",
      "Info: using provided WCS instead of converting header to WCSInfo: Fitting rectangles according to snr_cutoff. Warning messages (e.g., invalid values, degrees of freedom <= 0, etc.) can safely be ignoredIter 1: average SNR = 108.08016174452521\n",
      " \n",
      "\n",
      "\n",
      "4.5000000004406395Info: Fitting annuli according to snr_cutoff. Warning messages (e.g., invalid values, degrees of freedom <= 0, etc.) can safely be ignored\n",
      "Info: Fitting rectangles according to snr_cutoff. Warning messages (e.g., invalid values, degrees of freedom <= 0, etc.) can safely be ignored\n",
      "Iter 3: average SNR = 135.94152611741725\n",
      "\n",
      "Info: Fitting annuli according to snr_cutoff. Warning messages (e.g., invalid values, degrees of freedom <= 0, etc.) can safely be ignoredGetting minimum width from radio beam size\n",
      "Info: Fitting annuli according to snr_cutoff. Warning messages (e.g., invalid values, degrees of freedom <= 0, etc.) can safely be ignored\n",
      "\n",
      "\n",
      "Iter 2: average SNR = 121.42126135976697\n",
      "Info: Inclination greater than i_threshold. Fitting rectangles along major axis instead of ellipses/annuliIter 3: average SNR = 83.85355438350513\n",
      "\n",
      "Getting minimum width from radio beam sizeIter 1: average SNR = 57.82481235772688432.4999999999974\n",
      "Iter 3: average SNR = 88.91677531475807Iter 4: average SNR = 81.88155948541272\n",
      "\n",
      "Iter 1: average SNR = 45.51488312216059Iter 3: average SNR = 127.76348431351597\n",
      "\n",
      "Iter 1: average SNR = 43.972824579605096\n",
      "Info: Fitting annuli according to snr_cutoff. Warning messages (e.g., invalid values, degrees of freedom <= 0, etc.) can safely be ignored\n",
      "Getting minimum width from radio beam sizeIter 3: average SNR = 53.33509036368036\n",
      "\n",
      "Iter 2: average SNR = 141.57298150709875\n",
      "Height (pixels):Iter 1: average SNR = 59.83457789015232\n",
      "Iter 3: average SNR = 97.07686973438989Info: Fitting rectangles according to snr_cutoff. Warning messages (e.g., invalid values, degrees of freedom <= 0, etc.) can safely be ignored\n",
      "\n",
      "\n",
      "Iter 2: average SNR = 340.4883873936972\n",
      "\n",
      " \n",
      "\n",
      "Iter 2: average SNR = 79.84681163436225Height (pixels):Iter 1: average SNR = 47.401555839766075Iter 1: average SNR = 228.9673101889727\n",
      "Iter 4: average SNR = 110.12737276335262Info: Fitting rectangles according to snr_cutoff. Warning messages (e.g., invalid values, degrees of freedom <= 0, etc.) can safely be ignored\n",
      "Iter 1: average SNR = 60.087375534220996\n",
      "Min width/beam size (pixels): \n",
      "\n",
      "Iter 1: average SNR = 89.24391950750403\n",
      "21.49999999999828Iter 3: average SNR = 301.429560354534239.9999999999968Min width/beam size (pixels):Info: Inclination greater than i_threshold. Fitting rectangles along major axis instead of ellipses/annuli\n",
      "\n",
      "Iter 1: average SNR = 69.75660129629853\n",
      "Min width/beam size (pixels):\n",
      "Iter 4: average SNR = 106.60760725686357Height (pixels):Iter 1: average SNR = 51.51174316384561\n",
      "\n",
      "Iter 1: average SNR = 96.09488644664857Info: Fitting rectangles according to snr_cutoff. Warning messages (e.g., invalid values, degrees of freedom <= 0, etc.) can safely be ignoredIter 3: average SNR = 97.2293111181573Iter 2: average SNR = 52.37336997321642Iter 3: average SNR = 94.81522811396931Min width/beam size (pixels):\n",
      "\n",
      "\n",
      " Iter 2: average SNR = 89.54358584348527\n",
      " \n",
      "  \n",
      "Iter 2: average SNR = 68.84379079390327Iter 4: average SNR = 88.040983151822Info: Fitting rectangles according to snr_cutoff. Warning messages (e.g., invalid values, degrees of freedom <= 0, etc.) can safely be ignored\n",
      "\n",
      "\n",
      "4.5000000001616405Iter 4: average SNR = 104.406386263353244.50000000021024129.999999999997602\n",
      "Iter 3: average SNR = 114.03437038852134Iter 1: average SNR = 104.13366720433473Iter 2: average SNR = 246.81113532260497\n",
      "\n",
      " \n",
      "\n",
      "\n",
      "\n",
      "Iter 1: average SNR = 41.82293511250854.50000000015804\n",
      "4.50000000012204\n",
      "Height (pixels):\n",
      "Iter 4: average SNR = 61.69721765886526\n",
      "\n",
      " \n",
      "\n",
      "\n",
      "Info: Fitting annuli according to snr_cutoff. Warning messages (e.g., invalid values, degrees of freedom <= 0, etc.) can safely be ignored\n",
      "\n",
      "Iter 5: average SNR = 102.06699839984753Info: Fitting rectangles according to snr_cutoff. Warning messages (e.g., invalid values, degrees of freedom <= 0, etc.) can safely be ignoredIter 2: average SNR = 70.15565907827767Iter 2: average SNR = 319.8177519758348Iter 2: average SNR = 81.7352092978865Iter 4: average SNR = 235.9752323137196Iter 2: average SNR = 122.78443286564801\n",
      "\n",
      "\n",
      "\n",
      "\n",
      "Min width/beam size (pixels):Info: Fitting annuli according to snr_cutoff. Warning messages (e.g., invalid values, degrees of freedom <= 0, etc.) can safely be ignored34.9999999999972Iter 4: average SNR = 79.44654805572078Iter 5: average SNR = 92.79960731638033Iter 3: average SNR = 50.48547182736957\n",
      " \n",
      "Iter 4: average SNR = 107.01538738782907\n",
      "Info: Fitting annuli according to snr_cutoff. Warning messages (e.g., invalid values, degrees of freedom <= 0, etc.) can safely be ignoredIter 5: average SNR = 67.71985436639997\n",
      "Iter 2: average SNR = 97.61255068107043\n",
      "Iter 3: average SNR = 250.07090083652528Info: Fitting rectangles according to snr_cutoff. Warning messages (e.g., invalid values, degrees of freedom <= 0, etc.) can safely be ignored4.50000000016704Iter 3: average SNR = 147.27326823338046\n",
      "Iter 2: average SNR = 148.6995573823402\n",
      "Iter 3: average SNR = 326.39719973311276\n",
      "\n",
      "\n",
      "Info: Fitting annuli according to snr_cutoff. Warning messages (e.g., invalid values, degrees of freedom <= 0, etc.) can safely be ignored\n",
      "Iter 1: average SNR = 35.94828428629878\n",
      "\n",
      "\n",
      "Iter 2: average SNR = 61.67034469768952\n",
      "Iter 4: average SNR = 105.63487982396033Iter 5: average SNR = 88.83768693972301\n",
      "Iter 5: average SNR = 190.04574450983958Iter 6: average SNR = 194.72469976354796\n",
      "\n",
      "\n",
      "\n",
      "Iter 4: average SNR = 100.33139432112417Iter 1: average SNR = 134.317203579903\n",
      "Iter 1: average SNR = 38.31152766139789\n",
      "\n",
      "Iter 5: average SNR = 86.3902965670921\n",
      "Iter 3: average SNR = 127.38695313211035Iter 6: average SNR = 51.186676629316864Iter 3: average SNR = 91.11574610450342Iter 3: average SNR = 49.06634594425903Info: Fitting annuli according to snr_cutoff. Warning messages (e.g., invalid values, degrees of freedom <= 0, etc.) can safely be ignoredIter 1: average SNR = 130.89311574448328\n",
      "\n",
      "Iter 5: average SNR = 187.89914414835144Iter 2: average SNR = 78.98076961506524Iter 1: average SNR = 47.3912193511406\n",
      "Iter 4: average SNR = 259.2812486850212\n",
      "\n",
      "\n",
      "\n",
      "Iter 4: average SNR = 43.38092108412317\n",
      "\n",
      "\n",
      "Iter 3: average SNR = 84.87716814476644Iter 5: average SNR = 100.0382938002636\n",
      "Iter 1: average SNR = 159.04531720300858Iter 4: average SNR = 136.71728445861297Iter 3: average SNR = 139.61767749587403\n",
      "\n",
      "\n",
      "\n",
      "Iter 1: average SNR = 80.41149152986569\n",
      "\n",
      "\n",
      "Iter 1: average SNR = 127.03625590857702Iter 4: average SNR = 101.72433765666769Iter 2: average SNR = 46.29013900098168Iter 6: average SNR = 57.28844268343452\n",
      "Iter 7: average SNR = 283.3068954924518Iter 5: average SNR = 121.28128433614008Iter 3: average SNR = 85.05390787439813\n",
      "\n",
      "\n",
      "\n",
      "\n",
      "\n",
      "\n",
      "Iter 5: average SNR = 223.36589960699703\n",
      "Iter 1: average SNR = 108.09727510828392\n",
      "Iter 5: average SNR = 50.420407373993456Iter 5: average SNR = 93.86886070680437\n",
      "Iter 4: average SNR = 241.43058840691106Iter 7: average SNR = 50.58268389921043\n",
      "\n",
      "\n",
      "\n",
      "Iter 3: average SNR = 72.4305234608573Iter 2: average SNR = 163.9281922172217\n",
      "\n",
      "\n",
      "Iter 2: average SNR = 310.69555541012625\n",
      "Iter 6: average SNR = 122.95654190207075Iter 5: average SNR = 112.29576400761212\n",
      "\n",
      "Iter 2: average SNR = 309.4895934798881Iter 2: average SNR = 188.53055019566324\n",
      "Iter 4: average SNR = 151.63140903461291\n",
      "Iter 6: average SNR = 85.5048073977869Iter 4: average SNR = 122.82749468930993Iter 2: average SNR = 76.71513669352217Iter 8: average SNR = 47.47683994638723\n",
      "\n",
      "\n",
      "\n",
      "\n",
      "Iter 3: average SNR = 269.5399793760802Iter 2: average SNR = 89.23864461068806\n",
      "Iter 3: average SNR = 166.460134045548Iter 3: average SNR = 48.0726956232449\n",
      "\n",
      "\n",
      "Iter 7: average SNR = 144.45940930431487Iter 3: average SNR = 98.42441755243789Iter 4: average SNR = 48.96247017137958Iter 3: average SNR = 165.89345435955582Iter 3: average SNR = 164.87626409365126\n",
      "\n",
      "\n",
      "\n",
      "Iter 5: average SNR = 40.048154714546264Iter 4: average SNR = 173.107226274006\n",
      "Iter 8: average SNR = 17.346691642801886\n",
      "Iter 4: average SNR = 71.24643385343252Iter 4: average SNR = 80.75554699071752Iter 6: average SNR = 84.7657440843846Iter 4: average SNR = 123.31750546453743Iter 2: average SNR = 213.94643365082194Iter 6: average SNR = 256.714646033824Iter 7: average SNR = 72.6885541767331Iter 2: average SNR = 66.92378143109677\n",
      "\n",
      "\n",
      "Iter 5: average SNR = 97.78110705957239Iter 6: average SNR = 179.35591605887777\n",
      "Iter 4: average SNR = 71.42151513470571\n",
      "Iter 3: average SNR = 81.27450903028618\n",
      "Iter 3: average SNR = 313.4986676506912Iter 6: average SNR = 118.1224669937146\n",
      "\n",
      "\n",
      "Iter 7: average SNR = 52.196410997431016\n",
      "\n",
      "\n",
      "\n",
      "\n",
      "Iter 5: average SNR = 88.50653894946493Iter 4: average SNR = 190.84498503975317\n",
      "\n",
      "\n",
      "Iter 4: average SNR = 45.96748530896853"
     ]
    },
    {
     "name": "stderr",
     "output_type": "stream",
     "text": [
      "/arc/home/IsaacCheng/coop_f2021/packages/radial_profile_utils.py:607: RuntimeWarning: invalid value encountered in double_scalars\n",
      "  avg_signal = avg_signal / np.nansum(signal_area_mask)\n"
     ]
    },
    {
     "name": "stdout",
     "output_type": "stream",
     "text": [
      "Iter 5: average SNR = 33.92738551203121Iter 5: average SNR = 226.41540485867463\n"
     ]
    },
    {
     "name": "stderr",
     "output_type": "stream",
     "text": [
      "/arc/home/IsaacCheng/coop_f2021/packages/radial_profile_utils.py:613: RuntimeWarning: invalid value encountered in double_scalars\n",
      "  avg_noise = np.sqrt(avg_noise) / np.nansum(noise_area_mask)\n"
     ]
    },
    {
     "name": "stdout",
     "output_type": "stream",
     "text": [
      "\n",
      "Iter 5: average SNR = 136.57744066930564"
     ]
    },
    {
     "name": "stderr",
     "output_type": "stream",
     "text": [
      "/opt/conda/lib/python3.8/site-packages/numpy/lib/nanfunctions.py:1664: RuntimeWarning: Degrees of freedom <= 0 for slice.\n",
      "  var = nanvar(a, axis=axis, dtype=dtype, out=out, ddof=ddof,\n"
     ]
    },
    {
     "name": "stdout",
     "output_type": "stream",
     "text": [
      "\n",
      "Iter 6: average SNR = 139.4399888499544Iter 9: average SNR = 37.3290076150329Iter 5: average SNR = 134.91849389489835\n",
      "\n",
      "Iter 6: average SNR = 96.18579517258128Iter 6: average SNR = 47.09177220524765Iter 6: average SNR = 43.950576397145895\n",
      "\n",
      "Iter 5: average SNR = 112.32266004812772Stopped creating ellipses/annuli after\n",
      "\n",
      "Iter 8: average SNR = 53.299642135600585 \n",
      "Iter 7: average SNR = 180.95225595107283\n",
      "8Iter 5: average SNR = 51.87514757378602\n",
      "\n",
      "\n",
      " \n",
      "\n",
      "Iter 7: average SNR = 122.40329834747287Iter 4: average SNR = 62.338718392962726Iter 8: average SNR = 149.73846569747676\n",
      "\n",
      "Iter 6: average SNR = 37.67550319446272Iter 6: average SNR = 139.21238015269935Iter 6: average SNR = 170.85830586074542Iter 6: average SNR = 14.021916835388819\n",
      "\n",
      "\n",
      "\n",
      "Iter 4: average SNR = 175.06200325581108\n",
      "Iter 4: average SNR = 178.77116036041508\n",
      "Iter 7: average SNR = 146.8045669930395Iter 5: average SNR = 65.70054205403429Iter 7: average SNR = 16.71544292531574\n",
      "Iter 5: average SNR = 204.1416918468428"
     ]
    },
    {
     "name": "stderr",
     "output_type": "stream",
     "text": [
      "/arc/home/IsaacCheng/coop_f2021/packages/radial_profile_utils.py:607: RuntimeWarning: invalid value encountered in double_scalars\n",
      "  avg_signal = avg_signal / np.nansum(signal_area_mask)\n"
     ]
    },
    {
     "name": "stdout",
     "output_type": "stream",
     "text": [
      "\n",
      "Iter 6: average SNR = 79.0330134123665Iter 4: average SNR = 271.61491335900024"
     ]
    },
    {
     "name": "stderr",
     "output_type": "stream",
     "text": [
      "/arc/home/IsaacCheng/coop_f2021/packages/radial_profile_utils.py:607: RuntimeWarning: invalid value encountered in double_scalars\n",
      "  avg_signal = avg_signal / np.nansum(signal_area_mask)\n"
     ]
    },
    {
     "name": "stdout",
     "output_type": "stream",
     "text": [
      "iterationsIter 9: average SNR = 157.79073729635138\n",
      "\n",
      "Iter 8: average SNR = 132.19104599417747"
     ]
    },
    {
     "name": "stderr",
     "output_type": "stream",
     "text": [
      "/arc/home/IsaacCheng/coop_f2021/packages/radial_profile_utils.py:613: RuntimeWarning: invalid value encountered in double_scalars\n",
      "  avg_noise = np.sqrt(avg_noise) / np.nansum(noise_area_mask)\n",
      "/arc/home/IsaacCheng/coop_f2021/packages/radial_profile_utils.py:613: RuntimeWarning: invalid value encountered in double_scalars\n",
      "  avg_noise = np.sqrt(avg_noise) / np.nansum(noise_area_mask)\n"
     ]
    },
    {
     "name": "stdout",
     "output_type": "stream",
     "text": [
      "\n",
      "Iter 8: average SNR = 156.67914421649587Iter 9: average SNR = 36.16685903547189Iter 5: average SNR = 192.4646264328181\n",
      "Iter 3: average SNR = 90.05627004898975Iter 5: average SNR = 47.104815353553896\n",
      "\n",
      "\n",
      "\n"
     ]
    },
    {
     "name": "stderr",
     "output_type": "stream",
     "text": [
      "/opt/conda/lib/python3.8/site-packages/numpy/lib/nanfunctions.py:1664: RuntimeWarning: Degrees of freedom <= 0 for slice.\n",
      "  var = nanvar(a, axis=axis, dtype=dtype, out=out, ddof=ddof,\n"
     ]
    },
    {
     "name": "stdout",
     "output_type": "stream",
     "text": [
      "Iter 5: average SNR = 66.54010863889881"
     ]
    },
    {
     "name": "stderr",
     "output_type": "stream",
     "text": [
      "/opt/conda/lib/python3.8/site-packages/numpy/lib/nanfunctions.py:1664: RuntimeWarning: Degrees of freedom <= 0 for slice.\n",
      "  var = nanvar(a, axis=axis, dtype=dtype, out=out, ddof=ddof,\n"
     ]
    },
    {
     "name": "stdout",
     "output_type": "stream",
     "text": [
      "Iter 5: average SNR = 52.320891925482236\n",
      "Iter 3: average SNR = 182.0006303849915\n",
      "Average SNR of most recent successful fit:\n",
      "Iter 7: average SNR = 48.01330380551379Stopped creating ellipses/annuli afterStopped creating ellipses/annuli after\n",
      "\n",
      "\n",
      "\n",
      "Iter 6: average SNR = 133.7591642017477Iter 6: average SNR = 151.53592460273248\n",
      "Iter 6: average SNR = 168.50869478905182 \n",
      "\n",
      "\n",
      "Iter 7: average SNR = 155.69321706504775\n",
      "9\n",
      "Iter 6: average SNR = 43.20909007779388 Iter 10: average SNR = 152.3063700014667\n",
      "\n"
     ]
    },
    {
     "name": "stderr",
     "output_type": "stream",
     "text": [
      "/arc/home/IsaacCheng/coop_f2021/packages/radial_profile_utils.py:607: RuntimeWarning: invalid value encountered in double_scalars\n",
      "  avg_signal = avg_signal / np.nansum(signal_area_mask)\n"
     ]
    },
    {
     "name": "stdout",
     "output_type": "stream",
     "text": [
      "\n"
     ]
    },
    {
     "name": "stderr",
     "output_type": "stream",
     "text": [
      "/arc/home/IsaacCheng/coop_f2021/packages/radial_profile_utils.py:613: RuntimeWarning: invalid value encountered in double_scalars\n",
      "  avg_noise = np.sqrt(avg_noise) / np.nansum(noise_area_mask)\n"
     ]
    },
    {
     "name": "stdout",
     "output_type": "stream",
     "text": [
      "Iter 8: average SNR = 33.82338188688606Iter 5: average SNR = 169.94799711244164\n",
      "Iter 9: average SNR = 144.2438630473822Iter 7: average SNR = 152.90211634357595\n",
      "\n",
      "\n",
      "Iter 7: average SNR = 44.01183008819397\n",
      "Iter 7: average SNR = 71.41082207583247Iter 10: average SNR = 7.596221264152757Iter 7: average SNR = 166.9615375949825\n",
      "iterations\n",
      "\n",
      "\n",
      "Average SNR of most recent successful fit:Iter 8: average SNR = 129.03235434265326 Iter 6: average SNR = 51.37564688859781Iter 11: average SNR = 146.3844698008627537.3290076150329\n",
      "Iter 6: average SNR = 56.487840266406344\n",
      " \n",
      "Iter 7: average SNR = 145.7079075753848\n",
      "Average SNR of next annulus:17.346691642801886 Iter 7: average SNR = 29.754979910267124Iter 7: average SNR = 182.37718371136344nan\n",
      "\n"
     ]
    },
    {
     "name": "stderr",
     "output_type": "stream",
     "text": [
      "/opt/conda/lib/python3.8/site-packages/numpy/lib/nanfunctions.py:1664: RuntimeWarning: Degrees of freedom <= 0 for slice.\n",
      "  var = nanvar(a, axis=axis, dtype=dtype, out=out, ddof=ddof,\n"
     ]
    },
    {
     "name": "stdout",
     "output_type": "stream",
     "text": [
      "\n",
      "\n"
     ]
    },
    {
     "name": "stderr",
     "output_type": "stream",
     "text": [
      "/arc/home/IsaacCheng/coop_f2021/packages/radial_profile_utils.py:607: RuntimeWarning: invalid value encountered in double_scalars\n",
      "  avg_signal = avg_signal / np.nansum(signal_area_mask)\n"
     ]
    },
    {
     "name": "stdout",
     "output_type": "stream",
     "text": [
      "Iter 5: average SNR = 229.9925117799965\n",
      "\n",
      "Iter 8: average SNR = 165.6714094847115Average SNR of next annulus:Iter 6: average SNR = 62.90040012778111\n",
      " Iter 10: average SNR = 144.27307603546112nanIter 6: average SNR = 139.01502063286682Iter 6: average SNR = 207.9580120877547\n",
      " \n",
      "\n",
      "\n",
      "Iter 4: average SNR = 148.2820797058356\n",
      "\n",
      "6"
     ]
    },
    {
     "name": "stderr",
     "output_type": "stream",
     "text": [
      "/arc/home/IsaacCheng/coop_f2021/packages/radial_profile_utils.py:607: RuntimeWarning: invalid value encountered in double_scalars\n",
      "  avg_signal = avg_signal / np.nansum(signal_area_mask)\n"
     ]
    },
    {
     "name": "stdout",
     "output_type": "stream",
     "text": [
      "Iter 6: average SNR = 42.71613326073682Iter 8: average SNR = 153.72420159693323\n"
     ]
    },
    {
     "name": "stderr",
     "output_type": "stream",
     "text": [
      "/arc/home/IsaacCheng/coop_f2021/packages/radial_profile_utils.py:607: RuntimeWarning: invalid value encountered in double_scalars\n",
      "  avg_signal = avg_signal / np.nansum(signal_area_mask)\n"
     ]
    },
    {
     "name": "stdout",
     "output_type": "stream",
     "text": [
      " Stopped creating ellipses/annuli after"
     ]
    },
    {
     "name": "stderr",
     "output_type": "stream",
     "text": [
      "/arc/home/IsaacCheng/coop_f2021/packages/radial_profile_utils.py:613: RuntimeWarning: invalid value encountered in double_scalars\n",
      "  avg_noise = np.sqrt(avg_noise) / np.nansum(noise_area_mask)\n"
     ]
    },
    {
     "name": "stdout",
     "output_type": "stream",
     "text": [
      "Iter 12: average SNR = 157.44040452743093\n",
      "\n",
      " Iter 7: average SNR = 43.95280181912447\n"
     ]
    },
    {
     "name": "stderr",
     "output_type": "stream",
     "text": [
      "/opt/conda/lib/python3.8/site-packages/numpy/lib/nanfunctions.py:1664: RuntimeWarning: Degrees of freedom <= 0 for slice.\n",
      "  var = nanvar(a, axis=axis, dtype=dtype, out=out, ddof=ddof,\n"
     ]
    },
    {
     "name": "stdout",
     "output_type": "stream",
     "text": [
      "Iter 9: average SNR = 190.38723472521744Iter 8: average SNR = 72.08307995238242Iter 4: average SNR = 147.78772634254278Iter 9: average SNR = 217.8602378404015\n",
      "iterations7Stopped creating ellipses/annuli after\n",
      "\n",
      "Iter 8: average SNR = 65.32746064237058\n",
      "\n",
      "Iter 7: average SNR = 145.62737608048218"
     ]
    },
    {
     "name": "stderr",
     "output_type": "stream",
     "text": [
      "/arc/home/IsaacCheng/coop_f2021/packages/radial_profile_utils.py:613: RuntimeWarning: invalid value encountered in double_scalars\n",
      "  avg_noise = np.sqrt(avg_noise) / np.nansum(noise_area_mask)\n"
     ]
    },
    {
     "name": "stdout",
     "output_type": "stream",
     "text": [
      "\n"
     ]
    },
    {
     "name": "stderr",
     "output_type": "stream",
     "text": [
      "/arc/home/IsaacCheng/coop_f2021/packages/radial_profile_utils.py:613: RuntimeWarning: invalid value encountered in double_scalars\n",
      "  avg_noise = np.sqrt(avg_noise) / np.nansum(noise_area_mask)\n"
     ]
    },
    {
     "name": "stdout",
     "output_type": "stream",
     "text": [
      "\n",
      "\n",
      "\n",
      "Average SNR of most recent successful fit: Iter 9: average SNR = 188.20307110540747Iter 7: average SNR = 142.18442741802625\n"
     ]
    },
    {
     "name": "stderr",
     "output_type": "stream",
     "text": [
      "/opt/conda/lib/python3.8/site-packages/numpy/lib/nanfunctions.py:1664: RuntimeWarning: Degrees of freedom <= 0 for slice.\n",
      "  var = nanvar(a, axis=axis, dtype=dtype, out=out, ddof=ddof,\n"
     ]
    },
    {
     "name": "stdout",
     "output_type": "stream",
     "text": [
      "Iter 8: average SNR = 156.37704855163213Stopped creating ellipses/annuli afterIter 5: average SNR = 178.20706714046227\n",
      "Iter 8: average SNR = 36.640230306724874  Iter 11: average SNR = 185.74453325917287Iter 7: average SNR = 124.50155647458827"
     ]
    },
    {
     "name": "stderr",
     "output_type": "stream",
     "text": [
      "/opt/conda/lib/python3.8/site-packages/numpy/lib/nanfunctions.py:1664: RuntimeWarning: Degrees of freedom <= 0 for slice.\n",
      "  var = nanvar(a, axis=axis, dtype=dtype, out=out, ddof=ddof,\n"
     ]
    },
    {
     "name": "stdout",
     "output_type": "stream",
     "text": [
      "iterations\n",
      "10\n",
      "\n",
      "Stopped creating ellipses/annuli afterIter 9: average SNR = 166.6550951361363  \n",
      "iterations\n",
      "Iter 7: average SNR = 50.907645934188245\n",
      "\n",
      " Iter 6: average SNR = 243.72767702422456Iter 10: average SNR = 218.58297165760104Average SNR of most recent successful fit:Iter 9: average SNR = 14.40276765155871414.021916835388819\n",
      "\n",
      "7\n",
      "Iter 8: average SNR = 123.687448938229 Iter 6: average SNR = 207.75420742069264\n",
      "Iter 8: average SNR = 175.3731978349867.596221264152757\n",
      "\n",
      "\n",
      "Iter 9: average SNR = 158.01453168085442Iter 10: average SNR = 147.68261999567105\n",
      "\n",
      "\n",
      "Iter 9: average SNR = 64.64936513093967Average SNR of next annulus:\n",
      "\n",
      "6\n",
      " Iter 10: average SNR = 166.32625535961424Iter 12: average SNR = 146.84752343583233 Iter 7: average SNR = 58.730932823868606Iter 8: average SNR = 13.406418001942008\n",
      "\n",
      "iterations\n",
      "Iter 9: average SNR = 36.967621104017795\n",
      "nanIter 7: average SNR = 248.8634421048286\n",
      "\n",
      "Average SNR of most recent successful fit:\n",
      "Average SNR of most recent successful fit:\n",
      " Iter 7: average SNR = 184.54137109063205 Iter 7: average SNR = 37.905655047967684Iter 6: average SNR = 209.31487639640704Iter 11: average SNR = 211.98441934284068Average SNR of next annulus:43.950576397145895\n",
      " \n",
      "\n",
      " iterationsAverage SNR of next annulus:nanIter 9: average SNR = 132.2045147459089\n",
      "\n",
      " \n",
      "\n",
      "nanIter 7: average SNR = 60.55857957478502\n",
      "Iter 8: average SNR = 139.28435008193463Iter 5: average SNR = 133.0319455604319\n",
      "\n",
      "Iter 10: average SNR = 179.38628708930923\n",
      "\n",
      "\n",
      "Iter 8: average SNR = 166.60366066395807Iter 11: average SNR = 107.16612942238442Iter 11: average SNR = 155.56777169332173Iter 13: average SNR = 70.9539591511473416.71544292531574\n",
      "Iter 8: average SNR = 39.4301635681201\n",
      "\n",
      "Iter 12: average SNR = 176.55357037926893\n",
      "\n",
      "\n",
      "Average SNR of next annulus:Average SNR of most recent successful fit:Iter 8: average SNR = 122.09304164567887\n",
      "Iter 8: average SNR = 44.809611346559606 \n",
      " nan\n",
      "Iter 10: average SNR = 18.001928502423556\n",
      "Iter 8: average SNR = 37.79785119728833\n",
      "48.01330380551379Iter 10: average SNR = 188.12027766345966\n",
      "Iter 13: average SNR = 245.0323814248427\n",
      "\n",
      "Iter 9: average SNR = 72.59965629060592\n",
      "Average SNR of next annulus:\n",
      " nan\n",
      "Iter 8: average SNR = 141.24951670274982Iter 10: average SNR = 68.35479622001102Iter 11: average SNR = 180.61920757895265Iter 10: average SNR = 138.94622447278908\n",
      "\n",
      "Iter 10: average SNR = 1.5087914815847439Iter 9: average SNR = 67.65642704823121\n",
      "\n",
      "\n",
      "\n",
      "Iter 13: average SNR = 157.98334814654532Iter 12: average SNR = 80.06082814531075Iter 12: average SNR = 126.13973428504382\n",
      "\n",
      "\n",
      "Iter 8: average SNR = 36.24352783648524\n",
      "Iter 9: average SNR = 133.64665783937662\n",
      "Iter 11: average SNR = 162.35255579992364\n",
      "\n"
     ]
    },
    {
     "name": "stderr",
     "output_type": "stream",
     "text": [
      "/arc/home/IsaacCheng/coop_f2021/packages/radial_profile_utils.py:607: RuntimeWarning: invalid value encountered in double_scalars\n",
      "  avg_signal = avg_signal / np.nansum(signal_area_mask)\n",
      "/arc/home/IsaacCheng/coop_f2021/packages/radial_profile_utils.py:607: RuntimeWarning: invalid value encountered in double_scalars\n",
      "  avg_signal = avg_signal / np.nansum(signal_area_mask)\n"
     ]
    },
    {
     "name": "stdout",
     "output_type": "stream",
     "text": [
      "Iter 6: average SNR = 118.38741108156904"
     ]
    },
    {
     "name": "stderr",
     "output_type": "stream",
     "text": [
      "/arc/home/IsaacCheng/coop_f2021/packages/radial_profile_utils.py:607: RuntimeWarning: invalid value encountered in double_scalars\n",
      "  avg_signal = avg_signal / np.nansum(signal_area_mask)\n"
     ]
    },
    {
     "name": "stdout",
     "output_type": "stream",
     "text": [
      "Iter 14: average SNR = 171.0820893202304"
     ]
    },
    {
     "name": "stderr",
     "output_type": "stream",
     "text": [
      "/arc/home/IsaacCheng/coop_f2021/packages/radial_profile_utils.py:607: RuntimeWarning: invalid value encountered in double_scalars\n",
      "  avg_signal = avg_signal / np.nansum(signal_area_mask)\n"
     ]
    },
    {
     "name": "stdout",
     "output_type": "stream",
     "text": [
      "Iter 14: average SNR = 128.1366375630946Iter 9: average SNR = 120.09427428239306Iter 9: average SNR = 22.207249331657426Iter 12: average SNR = 199.28735476728784"
     ]
    },
    {
     "name": "stderr",
     "output_type": "stream",
     "text": [
      "/arc/home/IsaacCheng/coop_f2021/packages/radial_profile_utils.py:613: RuntimeWarning: invalid value encountered in double_scalars\n",
      "  avg_noise = np.sqrt(avg_noise) / np.nansum(noise_area_mask)\n"
     ]
    },
    {
     "name": "stdout",
     "output_type": "stream",
     "text": [
      "\n"
     ]
    },
    {
     "name": "stderr",
     "output_type": "stream",
     "text": [
      "/arc/home/IsaacCheng/coop_f2021/packages/radial_profile_utils.py:613: RuntimeWarning: invalid value encountered in double_scalars\n",
      "  avg_noise = np.sqrt(avg_noise) / np.nansum(noise_area_mask)\n",
      "/arc/home/IsaacCheng/coop_f2021/packages/radial_profile_utils.py:613: RuntimeWarning: invalid value encountered in double_scalars\n",
      "  avg_noise = np.sqrt(avg_noise) / np.nansum(noise_area_mask)\n"
     ]
    },
    {
     "name": "stdout",
     "output_type": "stream",
     "text": [
      "\n"
     ]
    },
    {
     "name": "stderr",
     "output_type": "stream",
     "text": [
      "/arc/home/IsaacCheng/coop_f2021/packages/radial_profile_utils.py:613: RuntimeWarning: invalid value encountered in double_scalars\n",
      "  avg_noise = np.sqrt(avg_noise) / np.nansum(noise_area_mask)\n"
     ]
    },
    {
     "name": "stdout",
     "output_type": "stream",
     "text": [
      "\n",
      "Iter 9: average SNR = 25.309491367678877Iter 13: average SNR = 112.5782097295866\n",
      "Iter 9: average SNR = 43.780834203300955Iter 7: average SNR = 165.47895594689712\n",
      "Iter 11: average SNR = 138.17830099411708\n",
      "\n",
      "\n",
      "\n"
     ]
    },
    {
     "name": "stderr",
     "output_type": "stream",
     "text": [
      "/opt/conda/lib/python3.8/site-packages/numpy/lib/nanfunctions.py:1664: RuntimeWarning: Degrees of freedom <= 0 for slice.\n",
      "  var = nanvar(a, axis=axis, dtype=dtype, out=out, ddof=ddof,\n"
     ]
    },
    {
     "name": "stdout",
     "output_type": "stream",
     "text": [
      "Iter 9: average SNR = 102.646298189832Iter 13: average SNR = 50.51707352495433\n"
     ]
    },
    {
     "name": "stderr",
     "output_type": "stream",
     "text": [
      "/opt/conda/lib/python3.8/site-packages/numpy/lib/nanfunctions.py:1664: RuntimeWarning: Degrees of freedom <= 0 for slice.\n",
      "  var = nanvar(a, axis=axis, dtype=dtype, out=out, ddof=ddof,\n"
     ]
    },
    {
     "name": "stdout",
     "output_type": "stream",
     "text": [
      "\n"
     ]
    },
    {
     "name": "stderr",
     "output_type": "stream",
     "text": [
      "/opt/conda/lib/python3.8/site-packages/numpy/lib/nanfunctions.py:1664: RuntimeWarning: Degrees of freedom <= 0 for slice.\n",
      "  var = nanvar(a, axis=axis, dtype=dtype, out=out, ddof=ddof,\n",
      "/opt/conda/lib/python3.8/site-packages/numpy/lib/nanfunctions.py:1664: RuntimeWarning: Degrees of freedom <= 0 for slice.\n",
      "  var = nanvar(a, axis=axis, dtype=dtype, out=out, ddof=ddof,\n"
     ]
    },
    {
     "name": "stdout",
     "output_type": "stream",
     "text": [
      "\n",
      "Iter 12: average SNR = 153.49806204494644Iter 8: average SNR = 60.12091706182992\n",
      "Stopped creating ellipses/annuli afterStopped creating ellipses/annuli afterStopped creating rectangles after\n",
      "Iter 14: average SNR = 147.85631968151458  \n",
      "Iter 10: average SNR = 17.91080484383394Stopped creating ellipses/annuli after Iter 10: average SNR = 102.5809723299064789Iter 11: average SNR = 60.668484097852826Iter 14: average SNR = 76.31859979779964\n",
      "\n",
      "8\n",
      "  \n",
      "Iter 15: average SNR = 88.52418482382377Iter 10: average SNR = 118.96183508559072Iter 9: average SNR = 30.772022602877527Iter 14: average SNR = 8.498296026020926 \n",
      " iterations\n",
      "\n",
      "\n",
      " \n",
      "\n",
      "Iter 13: average SNR = 175.054139496216Iter 15: average SNR = 127.15402268825413\n"
     ]
    },
    {
     "name": "stderr",
     "output_type": "stream",
     "text": [
      "/arc/home/IsaacCheng/coop_f2021/packages/radial_profile_utils.py:607: RuntimeWarning: invalid value encountered in double_scalars\n",
      "  avg_signal = avg_signal / np.nansum(signal_area_mask)\n"
     ]
    },
    {
     "name": "stdout",
     "output_type": "stream",
     "text": [
      "10\n",
      "\n",
      " Iter 7: average SNR = 106.38312878421885"
     ]
    },
    {
     "name": "stderr",
     "output_type": "stream",
     "text": [
      "/arc/home/IsaacCheng/coop_f2021/packages/radial_profile_utils.py:613: RuntimeWarning: invalid value encountered in double_scalars\n",
      "  avg_noise = np.sqrt(avg_noise) / np.nansum(noise_area_mask)\n"
     ]
    },
    {
     "name": "stdout",
     "output_type": "stream",
     "text": [
      "\n",
      "iterationsIter 9: average SNR = 63.43532576186712"
     ]
    },
    {
     "name": "stderr",
     "output_type": "stream",
     "text": [
      "/opt/conda/lib/python3.8/site-packages/numpy/lib/nanfunctions.py:1664: RuntimeWarning: Degrees of freedom <= 0 for slice.\n",
      "  var = nanvar(a, axis=axis, dtype=dtype, out=out, ddof=ddof,\n"
     ]
    },
    {
     "name": "stdout",
     "output_type": "stream",
     "text": [
      "Iter 12: average SNR = 156.94397238469526\n",
      "\n",
      "\n",
      "Stopped creating ellipses/annuli afterAverage SNR of most recent successful fit:Average SNR of most recent successful fit:  Iter 10: average SNR = 114.45125835239801Iter 13: average SNR = 89.9181549591043713.406418001942008 10"
     ]
    },
    {
     "name": "stderr",
     "output_type": "stream",
     "text": [
      "WARNING"
     ]
    },
    {
     "name": "stdout",
     "output_type": "stream",
     "text": [
      "iterations \n"
     ]
    },
    {
     "name": "stderr",
     "output_type": "stream",
     "text": [
      ": FITSFixedWarning: The WCS transformation has more axes (2) than the image it is associated with (0) [astropy.wcs.wcs]"
     ]
    },
    {
     "name": "stdout",
     "output_type": "stream",
     "text": [
      "iterationsAverage SNR of most recent successful fit:"
     ]
    },
    {
     "name": "stderr",
     "output_type": "stream",
     "text": [
      "\n"
     ]
    },
    {
     "name": "stdout",
     "output_type": "stream",
     "text": [
      " \n",
      "18.001928502423556Iter 15: average SNR = 126.17387826369531Average SNR of most recent successful fit:\n",
      "\n",
      " \n",
      "\n",
      "67.65642704823121\n",
      "iterationsIter 8: average SNR = 146.670878822204061.5087914815847439Iter 10: average SNR = 36.80780491089767Average SNR of next annulus:Average SNR of next annulus:\n",
      "\n",
      "\n",
      "Iter 12: average SNR = 58.9036394871735 Average SNR of most recent successful fit:Average SNR of next annulus:nanAverage SNR of next annulus: \n",
      "Iter 11: average SNR = 44.69541614029749 \n",
      "nanIter 10: average SNR = 3.3466870618597118 37.79785119728833\n",
      "nan\n"
     ]
    },
    {
     "name": "stderr",
     "output_type": "stream",
     "text": [
      "WARNING"
     ]
    },
    {
     "name": "stdout",
     "output_type": "stream",
     "text": [
      "nan\n"
     ]
    },
    {
     "name": "stderr",
     "output_type": "stream",
     "text": [
      ": FITSFixedWarning: 'datfix' made the change 'Set MJD-OBS to 58837.456786 from DATE-OBS'. [astropy.wcs.wcs]"
     ]
    },
    {
     "name": "stdout",
     "output_type": "stream",
     "text": [
      "Iter 14: average SNR = 139.49345000464015\n",
      "Iter 16: average SNR = 85.75727759251714\n",
      "\n",
      "Iter 15: average SNR = 68.78177743597631"
     ]
    },
    {
     "name": "stderr",
     "output_type": "stream",
     "text": [
      "/arc/home/IsaacCheng/coop_f2021/packages/radial_profile_utils.py:607: RuntimeWarning: invalid value encountered in double_scalars\n",
      "  avg_signal = avg_signal / np.nansum(signal_area_mask)\n",
      "/arc/home/IsaacCheng/coop_f2021/packages/radial_profile_utils.py:607: RuntimeWarning: invalid value encountered in double_scalars\n",
      "  avg_signal = avg_signal / np.nansum(signal_area_mask)\n"
     ]
    },
    {
     "name": "stdout",
     "output_type": "stream",
     "text": [
      "\n"
     ]
    },
    {
     "name": "stderr",
     "output_type": "stream",
     "text": [
      "/arc/home/IsaacCheng/coop_f2021/packages/radial_profile_utils.py:613: RuntimeWarning: invalid value encountered in double_scalars\n",
      "  avg_noise = np.sqrt(avg_noise) / np.nansum(noise_area_mask)\n",
      "/arc/home/IsaacCheng/coop_f2021/packages/radial_profile_utils.py:607: RuntimeWarning: invalid value encountered in double_scalars\n",
      "  avg_signal = avg_signal / np.nansum(signal_area_mask)\n"
     ]
    },
    {
     "name": "stdout",
     "output_type": "stream",
     "text": [
      "Iter 16: average SNR = 80.5566612738204Iter 16: average SNR = 91.79653205628004"
     ]
    },
    {
     "name": "stderr",
     "output_type": "stream",
     "text": [
      "/arc/home/IsaacCheng/coop_f2021/packages/radial_profile_utils.py:613: RuntimeWarning: invalid value encountered in double_scalars\n",
      "  avg_noise = np.sqrt(avg_noise) / np.nansum(noise_area_mask)\n",
      "/arc/home/IsaacCheng/coop_f2021/packages/radial_profile_utils.py:613: RuntimeWarning: invalid value encountered in double_scalars\n",
      "  avg_noise = np.sqrt(avg_noise) / np.nansum(noise_area_mask)\n"
     ]
    },
    {
     "name": "stdout",
     "output_type": "stream",
     "text": [
      "Iter 10: average SNR = 66.11710295841553\n"
     ]
    },
    {
     "name": "stderr",
     "output_type": "stream",
     "text": [
      "/opt/conda/lib/python3.8/site-packages/numpy/lib/nanfunctions.py:1664: RuntimeWarning: Degrees of freedom <= 0 for slice.\n",
      "  var = nanvar(a, axis=axis, dtype=dtype, out=out, ddof=ddof,\n"
     ]
    },
    {
     "name": "stdout",
     "output_type": "stream",
     "text": [
      "\n",
      "Iter 13: average SNR = 331.65235413377025\n",
      "Iter 11: average SNR = 0.26826409062129425"
     ]
    },
    {
     "name": "stderr",
     "output_type": "stream",
     "text": [
      "/opt/conda/lib/python3.8/site-packages/numpy/lib/nanfunctions.py:1664: RuntimeWarning: Degrees of freedom <= 0 for slice.\n",
      "  var = nanvar(a, axis=axis, dtype=dtype, out=out, ddof=ddof,\n",
      "/opt/conda/lib/python3.8/site-packages/numpy/lib/nanfunctions.py:1664: RuntimeWarning: Degrees of freedom <= 0 for slice.\n",
      "  var = nanvar(a, axis=axis, dtype=dtype, out=out, ddof=ddof,\n"
     ]
    },
    {
     "name": "stdout",
     "output_type": "stream",
     "text": [
      "Iter 11: average SNR = 94.16015136996623\n",
      "Stopped creating ellipses/annuli after\n",
      "Stopped creating ellipses/annuli afterStopped creating ellipses/annuli after\n"
     ]
    },
    {
     "name": "stderr",
     "output_type": "stream",
     "text": [
      "\n"
     ]
    },
    {
     "name": "stdout",
     "output_type": "stream",
     "text": [
      "   149\n",
      " 13 iterationsiterations Iter 12: average SNR = 29.564626835483164\n",
      "\n"
     ]
    },
    {
     "name": "stderr",
     "output_type": "stream",
     "text": [
      "WARNING"
     ]
    },
    {
     "name": "stdout",
     "output_type": "stream",
     "text": [
      "iterations\n",
      "\n",
      "Iter 13: average SNR = 59.74177606612141Average SNR of most recent successful fit:"
     ]
    },
    {
     "name": "stderr",
     "output_type": "stream",
     "text": [
      ": FITSFixedWarning: 'obsfix' made the change 'Observatory coordinates incomplete'. [astropy.wcs.wcs]"
     ]
    },
    {
     "name": "stdout",
     "output_type": "stream",
     "text": [
      "\n",
      "Average SNR of most recent successful fit:Average SNR of next rectangle:  Average SNR of most recent successful fit:\n"
     ]
    },
    {
     "name": "stderr",
     "output_type": "stream",
     "text": [
      "\n"
     ]
    },
    {
     "name": "stdout",
     "output_type": "stream",
     "text": [
      "8.498296026020926 \n",
      " nanIter 10: average SNR = 25.95201746170118222.207249331657426\n",
      "Iter 16: average SNR = 75.49228710193141\n",
      "89.91815495910437\n",
      "\n",
      "\n",
      "Average SNR of next annulus:Average SNR of next annulus:  nannan\n",
      "Iter 11: average SNR = 24.560466423392352"
     ]
    },
    {
     "name": "stderr",
     "output_type": "stream",
     "text": [
      "/arc/home/IsaacCheng/coop_f2021/packages/radial_profile_utils.py:607: RuntimeWarning: invalid value encountered in double_scalars\n",
      "  avg_signal = avg_signal / np.nansum(signal_area_mask)\n"
     ]
    },
    {
     "name": "stdout",
     "output_type": "stream",
     "text": [
      "Iter 17: average SNR = 37.515210532945666"
     ]
    },
    {
     "name": "stderr",
     "output_type": "stream",
     "text": [
      "/arc/home/IsaacCheng/coop_f2021/packages/radial_profile_utils.py:607: RuntimeWarning: invalid value encountered in double_scalars\n",
      "  avg_signal = avg_signal / np.nansum(signal_area_mask)\n"
     ]
    },
    {
     "name": "stdout",
     "output_type": "stream",
     "text": [
      "Iter 9: average SNR = 134.08177584013555Iter 15: average SNR = 109.69328981493686Iter 17: average SNR = 80.45392328959791Iter 8: average SNR = 99.40612713331024Iter 17: average SNR = 39.33332827704673Iter 11: average SNR = 35.46204702167182Iter 11: average SNR = 132.7656359801717Iter 14: average SNR = 38.3294455348951Iter 12: average SNR = 90.49104104300139Iter 17: average SNR = 72.39118784949635\n",
      "Average SNR of next annulus:\n",
      "\n",
      "Info: using provided WCS instead of converting header to WCS\n",
      "\n",
      "\n",
      "\n",
      "\n",
      " \n",
      "\n"
     ]
    },
    {
     "name": "stderr",
     "output_type": "stream",
     "text": [
      "/arc/home/IsaacCheng/coop_f2021/packages/radial_profile_utils.py:613: RuntimeWarning: invalid value encountered in double_scalars\n",
      "  avg_noise = np.sqrt(avg_noise) / np.nansum(noise_area_mask)\n"
     ]
    },
    {
     "name": "stdout",
     "output_type": "stream",
     "text": [
      "\n",
      "nan\n"
     ]
    },
    {
     "name": "stderr",
     "output_type": "stream",
     "text": [
      "WARNING: FITSFixedWarning: The WCS transformation has more axes (2) than the image it is associated with (0) [astropy.wcs.wcs]\n"
     ]
    },
    {
     "name": "stdout",
     "output_type": "stream",
     "text": [
      "Getting minimum width from radio beam size\n"
     ]
    },
    {
     "name": "stderr",
     "output_type": "stream",
     "text": [
      "/arc/home/IsaacCheng/coop_f2021/packages/radial_profile_utils.py:613: RuntimeWarning: invalid value encountered in double_scalars\n",
      "  avg_noise = np.sqrt(avg_noise) / np.nansum(noise_area_mask)\n",
      "/opt/conda/lib/python3.8/site-packages/numpy/lib/nanfunctions.py:1664: RuntimeWarning: Degrees of freedom <= 0 for slice.\n",
      "  var = nanvar(a, axis=axis, dtype=dtype, out=out, ddof=ddof,\n"
     ]
    },
    {
     "name": "stdout",
     "output_type": "stream",
     "text": [
      "Stopped creating ellipses/annuli after"
     ]
    },
    {
     "name": "stderr",
     "output_type": "stream",
     "text": [
      "/opt/conda/lib/python3.8/site-packages/numpy/lib/nanfunctions.py:1664: RuntimeWarning: Degrees of freedom <= 0 for slice.\n",
      "  var = nanvar(a, axis=axis, dtype=dtype, out=out, ddof=ddof,\n"
     ]
    },
    {
     "name": "stdout",
     "output_type": "stream",
     "text": [
      " Stopped creating rectangles after12 10 \n",
      " iterations\n",
      "\n",
      "iterationsAverage SNR of most recent successful fit:\n",
      "\n",
      " Average SNR of most recent successful fit:29.564626835483164 \n",
      "3.3466870618597118Average SNR of next annulus:\n",
      "Average SNR of next rectangle:  nannan\n",
      "\n",
      "Iter 14: average SNR = 101.27975622478138"
     ]
    },
    {
     "name": "stderr",
     "output_type": "stream",
     "text": [
      "WARNING: FITSFixedWarning: The WCS transformation has more axes (2) than the image it is associated with (0) [astropy.wcs.wcs]\n",
      "/arc/home/IsaacCheng/coop_f2021/packages/radial_profile_utils.py:607: RuntimeWarning: invalid value encountered in double_scalars\n",
      "  avg_signal = avg_signal / np.nansum(signal_area_mask)\n",
      "/arc/home/IsaacCheng/coop_f2021/packages/radial_profile_utils.py:613: RuntimeWarning: invalid value encountered in double_scalars\n",
      "  avg_noise = np.sqrt(avg_noise) / np.nansum(noise_area_mask)\n",
      "/opt/conda/lib/python3.8/site-packages/numpy/lib/nanfunctions.py:1664: RuntimeWarning: Degrees of freedom <= 0 for slice.\n",
      "  var = nanvar(a, axis=axis, dtype=dtype, out=out, ddof=ddof,\n"
     ]
    },
    {
     "name": "stdout",
     "output_type": "stream",
     "text": [
      "Stopped creating rectangles after 14 "
     ]
    },
    {
     "name": "stderr",
     "output_type": "stream",
     "text": [
      "/arc/home/IsaacCheng/coop_f2021/packages/radial_profile_utils.py:607: RuntimeWarning: invalid value encountered in double_scalars\n",
      "  avg_signal = avg_signal / np.nansum(signal_area_mask)\n"
     ]
    },
    {
     "name": "stdout",
     "output_type": "stream",
     "text": [
      "\n"
     ]
    },
    {
     "name": "stderr",
     "output_type": "stream",
     "text": [
      "/arc/home/IsaacCheng/coop_f2021/packages/radial_profile_utils.py:613: RuntimeWarning: invalid value encountered in double_scalars\n",
      "  avg_noise = np.sqrt(avg_noise) / np.nansum(noise_area_mask)\n"
     ]
    },
    {
     "name": "stdout",
     "output_type": "stream",
     "text": [
      "iterations\n"
     ]
    },
    {
     "name": "stderr",
     "output_type": "stream",
     "text": [
      "/arc/home/IsaacCheng/coop_f2021/packages/radial_profile_utils.py:607: RuntimeWarning: invalid value encountered in double_scalars\n",
      "  avg_signal = avg_signal / np.nansum(signal_area_mask)\n"
     ]
    },
    {
     "name": "stdout",
     "output_type": "stream",
     "text": [
      "Average SNR of most recent successful fit:"
     ]
    },
    {
     "name": "stderr",
     "output_type": "stream",
     "text": [
      "/opt/conda/lib/python3.8/site-packages/numpy/lib/nanfunctions.py:1664: RuntimeWarning: Degrees of freedom <= 0 for slice.\n",
      "  var = nanvar(a, axis=axis, dtype=dtype, out=out, ddof=ddof,\n"
     ]
    },
    {
     "name": "stdout",
     "output_type": "stream",
     "text": [
      "Iter 16: average SNR = 84.60922682689394\n",
      "Stopped creating rectangles after"
     ]
    },
    {
     "name": "stderr",
     "output_type": "stream",
     "text": [
      "/arc/home/IsaacCheng/coop_f2021/packages/radial_profile_utils.py:613: RuntimeWarning: invalid value encountered in double_scalars\n",
      "  avg_noise = np.sqrt(avg_noise) / np.nansum(noise_area_mask)\n"
     ]
    },
    {
     "name": "stdout",
     "output_type": "stream",
     "text": [
      "Iter 18: average SNR = 169.2845818338199 11\n"
     ]
    },
    {
     "name": "stderr",
     "output_type": "stream",
     "text": [
      "/opt/conda/lib/python3.8/site-packages/numpy/lib/nanfunctions.py:1664: RuntimeWarning: Degrees of freedom <= 0 for slice.\n",
      "  var = nanvar(a, axis=axis, dtype=dtype, out=out, ddof=ddof,\n"
     ]
    },
    {
     "name": "stdout",
     "output_type": "stream",
     "text": [
      " Min width/beam size (pixels): 38.3294455348951 \n",
      "Stopped creating ellipses/annuli afteriterations4.50000000021924 Average SNR of next rectangle:\n",
      "\n",
      "Iter 18: average SNR = 9.158651239020413 17"
     ]
    },
    {
     "name": "stderr",
     "output_type": "stream",
     "text": [
      "WARNING"
     ]
    },
    {
     "name": "stdout",
     "output_type": "stream",
     "text": [
      "Average SNR of most recent successful fit:  iterations\n",
      "0.26826409062129425\n",
      "Average SNR of most recent successful fit:\n",
      "Iter 13: average SNR = 80.55008474921704Average SNR of next rectangle: Info: Fitting annuli according to snr_cutoff. Warning messages (e.g., invalid values, degrees of freedom <= 0, etc.) can safely be ignored\n",
      "39.33332827704673\n",
      "\n",
      "nan"
     ]
    },
    {
     "name": "stderr",
     "output_type": "stream",
     "text": [
      ": FITSFixedWarning: 'datfix' made the change 'Set MJD-OBS to 58119.389391 from DATE-OBS'. [astropy.wcs.wcs]"
     ]
    },
    {
     "name": "stdout",
     "output_type": "stream",
     "text": [
      "Average SNR of next annulus:"
     ]
    },
    {
     "name": "stderr",
     "output_type": "stream",
     "text": [
      "/arc/home/IsaacCheng/coop_f2021/packages/radial_profile_utils.py:607: RuntimeWarning: invalid value encountered in double_scalars\n",
      "  avg_signal = avg_signal / np.nansum(signal_area_mask)\n"
     ]
    },
    {
     "name": "stdout",
     "output_type": "stream",
     "text": [
      "\n"
     ]
    },
    {
     "name": "stderr",
     "output_type": "stream",
     "text": [
      "\n"
     ]
    },
    {
     "name": "stdout",
     "output_type": "stream",
     "text": [
      "Iter 10: average SNR = 128.93668011705856 "
     ]
    },
    {
     "name": "stderr",
     "output_type": "stream",
     "text": [
      "/arc/home/IsaacCheng/coop_f2021/packages/radial_profile_utils.py:613: RuntimeWarning: invalid value encountered in double_scalars\n",
      "  avg_noise = np.sqrt(avg_noise) / np.nansum(noise_area_mask)\n"
     ]
    },
    {
     "name": "stdout",
     "output_type": "stream",
     "text": [
      "Iter 11: average SNR = 3.3911004087924286Iter 1: average SNR = 78.96502847290768 \n",
      "Iter 18: average SNR = 6.658805726654502\n"
     ]
    },
    {
     "name": "stderr",
     "output_type": "stream",
     "text": [
      "/opt/conda/lib/python3.8/site-packages/numpy/lib/nanfunctions.py:1664: RuntimeWarning: Degrees of freedom <= 0 for slice.\n",
      "  var = nanvar(a, axis=axis, dtype=dtype, out=out, ddof=ddof,\n"
     ]
    },
    {
     "name": "stdout",
     "output_type": "stream",
     "text": [
      "nan\n",
      "Iter 2: average SNR = 82.06146768023652Stopped creating rectangles after\n",
      "\n"
     ]
    },
    {
     "name": "stderr",
     "output_type": "stream",
     "text": [
      "WARNINGWARNING"
     ]
    },
    {
     "name": "stdout",
     "output_type": "stream",
     "text": [
      "\n"
     ]
    },
    {
     "name": "stderr",
     "output_type": "stream",
     "text": [
      ": FITSFixedWarning: 'obsfix' made the change 'Observatory coordinates incomplete'. [astropy.wcs.wcs]\n"
     ]
    },
    {
     "name": "stdout",
     "output_type": "stream",
     "text": [
      "Iter 3: average SNR = 96.71905045102966\n",
      " 11Info: using provided WCS instead of converting header to WCS \n",
      "iterationsGetting minimum width from radio beam size\n",
      "\n",
      "Average SNR of most recent successful fit:Iter 4: average SNR = 114.75810122407451 \n"
     ]
    },
    {
     "name": "stderr",
     "output_type": "stream",
     "text": [
      "WARNING: FITSFixedWarning: The WCS transformation has more axes (2) than the image it is associated with (0) [astropy.wcs.wcs]: FITSFixedWarning: The WCS transformation has more axes (2) than the image it is associated with (0) [astropy.wcs.wcs]\n"
     ]
    },
    {
     "name": "stdout",
     "output_type": "stream",
     "text": [
      "Iter 17: average SNR = 55.17106954851422\n",
      "Iter 5: average SNR = 131.14750464888132\n",
      "Min width/beam size (pixels): 4.50000000018684\n",
      "Info: Fitting annuli according to snr_cutoff. Warning messages (e.g., invalid values, degrees of freedom <= 0, etc.) can safely be ignored\n",
      "Iter 19: average SNR = 109.220533896891Iter 6: average SNR = 131.839659541155nan\n",
      "35.46204702167182"
     ]
    },
    {
     "name": "stderr",
     "output_type": "stream",
     "text": [
      "/arc/home/IsaacCheng/coop_f2021/packages/radial_profile_utils.py:607: RuntimeWarning: invalid value encountered in double_scalars\n",
      "  avg_signal = avg_signal / np.nansum(signal_area_mask)\n"
     ]
    },
    {
     "name": "stdout",
     "output_type": "stream",
     "text": [
      "\n"
     ]
    },
    {
     "name": "stderr",
     "output_type": "stream",
     "text": [
      "/arc/home/IsaacCheng/coop_f2021/packages/radial_profile_utils.py:613: RuntimeWarning: invalid value encountered in double_scalars\n",
      "  avg_noise = np.sqrt(avg_noise) / np.nansum(noise_area_mask)\n"
     ]
    },
    {
     "name": "stdout",
     "output_type": "stream",
     "text": [
      "Iter 12: average SNR = 133.51670014982167Iter 9: average SNR = 92.49448067596252\n"
     ]
    },
    {
     "name": "stderr",
     "output_type": "stream",
     "text": [
      "\n"
     ]
    },
    {
     "name": "stdout",
     "output_type": "stream",
     "text": [
      "\n",
      "\n"
     ]
    },
    {
     "name": "stderr",
     "output_type": "stream",
     "text": [
      "/opt/conda/lib/python3.8/site-packages/numpy/lib/nanfunctions.py:1664: RuntimeWarning: Degrees of freedom <= 0 for slice.\n",
      "  var = nanvar(a, axis=axis, dtype=dtype, out=out, ddof=ddof,\n"
     ]
    },
    {
     "name": "stdout",
     "output_type": "stream",
     "text": [
      "Iter 1: average SNR = 63.66254158758389Average SNR of next rectangle: "
     ]
    },
    {
     "name": "stderr",
     "output_type": "stream",
     "text": [
      "WARNING"
     ]
    },
    {
     "name": "stdout",
     "output_type": "stream",
     "text": [
      "\n",
      "nan"
     ]
    },
    {
     "name": "stderr",
     "output_type": "stream",
     "text": [
      ": FITSFixedWarning: 'datfix' made the change 'Set MJD-OBS to 58029.684441 from DATE-OBS'. [astropy.wcs.wcs]\n"
     ]
    },
    {
     "name": "stdout",
     "output_type": "stream",
     "text": [
      "\n",
      "\n",
      "Iter 2: average SNR = 98.23476246897104\n",
      "Iter 7: average SNR = 137.15822286394214"
     ]
    },
    {
     "name": "stderr",
     "output_type": "stream",
     "text": [
      "WARNING"
     ]
    },
    {
     "name": "stdout",
     "output_type": "stream",
     "text": [
      "\n"
     ]
    },
    {
     "name": "stderr",
     "output_type": "stream",
     "text": [
      ": FITSFixedWarning: 'obsfix' made the change 'Observatory coordinates incomplete'. [astropy.wcs.wcs]\n"
     ]
    },
    {
     "name": "stdout",
     "output_type": "stream",
     "text": [
      "Iter 3: average SNR = 113.65877905298566Iter 14: average SNR = 76.4727738158209\n"
     ]
    },
    {
     "name": "stderr",
     "output_type": "stream",
     "text": [
      "/arc/home/IsaacCheng/coop_f2021/packages/radial_profile_utils.py:607: RuntimeWarning: invalid value encountered in double_scalars\n",
      "  avg_signal = avg_signal / np.nansum(signal_area_mask)\n",
      "/arc/home/IsaacCheng/coop_f2021/packages/radial_profile_utils.py:613: RuntimeWarning: invalid value encountered in double_scalars\n",
      "  avg_noise = np.sqrt(avg_noise) / np.nansum(noise_area_mask)\n"
     ]
    },
    {
     "name": "stdout",
     "output_type": "stream",
     "text": [
      "Info: using provided WCS instead of converting header to WCS\n"
     ]
    },
    {
     "name": "stderr",
     "output_type": "stream",
     "text": [
      "/opt/conda/lib/python3.8/site-packages/numpy/lib/nanfunctions.py:1664: RuntimeWarning: Degrees of freedom <= 0 for slice.\n",
      "  var = nanvar(a, axis=axis, dtype=dtype, out=out, ddof=ddof,\n"
     ]
    },
    {
     "name": "stdout",
     "output_type": "stream",
     "text": [
      "\n",
      "Iter 15: average SNR = 147.9771932169864\n",
      "Iter 8: average SNR = 138.05964138905Stopped creating ellipses/annuli after\n",
      "Stopped creating ellipses/annuli afterIter 12: average SNR = 6.128411052869692Getting minimum width from radio beam size\n",
      " Iter 11: average SNR = 127.12415971998428 \n",
      "18\n"
     ]
    },
    {
     "name": "stderr",
     "output_type": "stream",
     "text": [
      "WARNING"
     ]
    },
    {
     "name": "stdout",
     "output_type": "stream",
     "text": [
      "Iter 4: average SNR = 122.27248958387986\n",
      " 18Iter 9: average SNR = 111.39233081739688Iter 20: average SNR = 46.570544982432494iterations \n",
      "\n",
      "iterations\n",
      "\n",
      "Iter 18: average SNR = 24.836899442187583"
     ]
    },
    {
     "name": "stderr",
     "output_type": "stream",
     "text": [
      ": FITSFixedWarning: 'datfix' made the change 'Set MJD-OBS to 58125.480975 from DATE-OBS'. [astropy.wcs.wcs]"
     ]
    },
    {
     "name": "stdout",
     "output_type": "stream",
     "text": [
      "\n",
      "Average SNR of most recent successful fit: 9.158651239020413\n",
      "Average SNR of next annulus: Min width/beam size (pixels):nan \n",
      "Iter 5: average SNR = 133.441555940839044.50000000013464Average SNR of most recent successful fit:\n",
      "Iter 10: average SNR = 129.8938648451457\n",
      "Info: Fitting annuli according to snr_cutoff. Warning messages (e.g., invalid values, degrees of freedom <= 0, etc.) can safely be ignored\n",
      "Iter 13: average SNR = 133.4162299894957\n",
      "Iter 1: average SNR = 44.1449050910712"
     ]
    },
    {
     "name": "stderr",
     "output_type": "stream",
     "text": [
      "\n"
     ]
    },
    {
     "name": "stdout",
     "output_type": "stream",
     "text": [
      "\n"
     ]
    },
    {
     "name": "stderr",
     "output_type": "stream",
     "text": [
      "/arc/home/IsaacCheng/coop_f2021/packages/radial_profile_utils.py:607: RuntimeWarning: invalid value encountered in double_scalars\n",
      "  avg_signal = avg_signal / np.nansum(signal_area_mask)\n"
     ]
    },
    {
     "name": "stdout",
     "output_type": "stream",
     "text": [
      "Iter 15: average SNR = 80.98651708012734Iter 2: average SNR = 102.0255317322548\n",
      "\n",
      "\n",
      " 6.658805726654502\n"
     ]
    },
    {
     "name": "stderr",
     "output_type": "stream",
     "text": [
      "WARNING"
     ]
    },
    {
     "name": "stdout",
     "output_type": "stream",
     "text": [
      "\n",
      "Iter 11: average SNR = 16.00500419442859Iter 3: average SNR = 117.0618916529497Average SNR of next annulus:\n",
      " \n",
      "nan\n",
      "Iter 10: average SNR = 87.03406826949583Iter 4: average SNR = 85.67946497116795\n",
      "\n",
      "Iter 6: average SNR = 139.80087239770955"
     ]
    },
    {
     "name": "stderr",
     "output_type": "stream",
     "text": [
      ": FITSFixedWarning: 'obsfix' made the change 'Observatory coordinates incomplete'. [astropy.wcs.wcs]"
     ]
    },
    {
     "name": "stdout",
     "output_type": "stream",
     "text": [
      "\n"
     ]
    },
    {
     "name": "stderr",
     "output_type": "stream",
     "text": [
      "\n"
     ]
    },
    {
     "name": "stdout",
     "output_type": "stream",
     "text": [
      "Iter 5: average SNR = 55.80822142080181Info: using provided WCS instead of converting header to WCS"
     ]
    },
    {
     "name": "stderr",
     "output_type": "stream",
     "text": [
      "/arc/home/IsaacCheng/coop_f2021/packages/radial_profile_utils.py:607: RuntimeWarning: invalid value encountered in double_scalars\n",
      "  avg_signal = avg_signal / np.nansum(signal_area_mask)\n"
     ]
    },
    {
     "name": "stdout",
     "output_type": "stream",
     "text": [
      "\n",
      "\n"
     ]
    },
    {
     "name": "stderr",
     "output_type": "stream",
     "text": [
      "/arc/home/IsaacCheng/coop_f2021/packages/radial_profile_utils.py:613: RuntimeWarning: invalid value encountered in double_scalars\n",
      "  avg_noise = np.sqrt(avg_noise) / np.nansum(noise_area_mask)\n"
     ]
    },
    {
     "name": "stdout",
     "output_type": "stream",
     "text": [
      "Getting minimum width from radio beam size\n"
     ]
    },
    {
     "name": "stderr",
     "output_type": "stream",
     "text": [
      "/opt/conda/lib/python3.8/site-packages/numpy/lib/nanfunctions.py:1664: RuntimeWarning: Degrees of freedom <= 0 for slice.\n",
      "  var = nanvar(a, axis=axis, dtype=dtype, out=out, ddof=ddof,\n",
      "/arc/home/IsaacCheng/coop_f2021/packages/radial_profile_utils.py:613: RuntimeWarning: invalid value encountered in double_scalars\n",
      "  avg_noise = np.sqrt(avg_noise) / np.nansum(noise_area_mask)\n"
     ]
    },
    {
     "name": "stdout",
     "output_type": "stream",
     "text": [
      "Iter 16: average SNR = 37.7748634664389"
     ]
    },
    {
     "name": "stderr",
     "output_type": "stream",
     "text": [
      "/arc/home/IsaacCheng/coop_f2021/packages/radial_profile_utils.py:607: RuntimeWarning: invalid value encountered in double_scalars\n",
      "  avg_signal = avg_signal / np.nansum(signal_area_mask)\n"
     ]
    },
    {
     "name": "stdout",
     "output_type": "stream",
     "text": [
      "Iter 21: average SNR = 11.050159643277071\n",
      "\n"
     ]
    },
    {
     "name": "stderr",
     "output_type": "stream",
     "text": [
      "/arc/home/IsaacCheng/coop_f2021/packages/radial_profile_utils.py:613: RuntimeWarning: invalid value encountered in double_scalars\n",
      "  avg_noise = np.sqrt(avg_noise) / np.nansum(noise_area_mask)\n",
      "/opt/conda/lib/python3.8/site-packages/numpy/lib/nanfunctions.py:1664: RuntimeWarning: Degrees of freedom <= 0 for slice.\n",
      "  var = nanvar(a, axis=axis, dtype=dtype, out=out, ddof=ddof,\n"
     ]
    },
    {
     "name": "stdout",
     "output_type": "stream",
     "text": [
      "Iter 7: average SNR = 153.15060859731864Stopped creating rectangles after"
     ]
    },
    {
     "name": "stderr",
     "output_type": "stream",
     "text": [
      "/opt/conda/lib/python3.8/site-packages/numpy/lib/nanfunctions.py:1664: RuntimeWarning: Degrees of freedom <= 0 for slice.\n",
      "  var = nanvar(a, axis=axis, dtype=dtype, out=out, ddof=ddof,\n"
     ]
    },
    {
     "name": "stdout",
     "output_type": "stream",
     "text": [
      "\n",
      " Stopped creating ellipses/annuli afterMin width/beam size (pixels): Stopped creating ellipses/annuli after Iter 6: average SNR = 56.098634445205015184.50000000023364\n",
      " \n",
      " iterations\n",
      "Average SNR of most recent successful fit:Iter 14: average SNR = 142.34662469162149 24.836899442187583\n",
      "\n",
      "Average SNR of next annulus:Info: Fitting annuli according to snr_cutoff. Warning messages (e.g., invalid values, degrees of freedom <= 0, etc.) can safely be ignored \n",
      "Iter 1: average SNR = 48.43075922017469nanIter 8: average SNR = 163.93405395117423\n",
      "11\n",
      "\n",
      " Iter 2: average SNR = 73.3394241881173\n",
      "Iter 12: average SNR = 117.43840371693263\n",
      "Iter 7: average SNR = 45.88260294295384Iter 3: average SNR = 97.9470455280813\n",
      "\n",
      "11 iterationsIter 16: average SNR = 84.66071763556195\n",
      "\n",
      "Average SNR of most recent successful fit:Iter 4: average SNR = 110.44111080715692 \n",
      "16.00500419442859\n"
     ]
    },
    {
     "name": "stderr",
     "output_type": "stream",
     "text": [
      "/arc/home/IsaacCheng/coop_f2021/packages/radial_profile_utils.py:607: RuntimeWarning: invalid value encountered in double_scalars\n",
      "  avg_signal = avg_signal / np.nansum(signal_area_mask)\n"
     ]
    },
    {
     "name": "stdout",
     "output_type": "stream",
     "text": [
      "Average SNR of next annulus: "
     ]
    },
    {
     "name": "stderr",
     "output_type": "stream",
     "text": [
      "/arc/home/IsaacCheng/coop_f2021/packages/radial_profile_utils.py:613: RuntimeWarning: invalid value encountered in double_scalars\n",
      "  avg_noise = np.sqrt(avg_noise) / np.nansum(noise_area_mask)\n"
     ]
    },
    {
     "name": "stdout",
     "output_type": "stream",
     "text": [
      "nan\n",
      "Iter 5: average SNR = 125.59204571424854"
     ]
    },
    {
     "name": "stderr",
     "output_type": "stream",
     "text": [
      "/opt/conda/lib/python3.8/site-packages/numpy/lib/nanfunctions.py:1664: RuntimeWarning: Degrees of freedom <= 0 for slice.\n",
      "  var = nanvar(a, axis=axis, dtype=dtype, out=out, ddof=ddof,\n"
     ]
    },
    {
     "name": "stdout",
     "output_type": "stream",
     "text": [
      "Stopped creating rectangles afterIter 9: average SNR = 104.0733215253558 \n",
      "12 iterations\n",
      "Average SNR of most recent successful fit:Iter 8: average SNR = 13.853663151334569 \n",
      "6.128411052869692\n",
      "Average SNR of next rectangle: nan\n",
      "Iter 22: average SNR = 8.61734154181502\n",
      "\n",
      "Iter 15: average SNR = 142.03543649294375\n",
      "Iter 10: average SNR = 177.06755882465575\n",
      "iterationsIter 6: average SNR = 153.14041329841817"
     ]
    },
    {
     "name": "stderr",
     "output_type": "stream",
     "text": [
      "/arc/home/IsaacCheng/coop_f2021/packages/radial_profile_utils.py:607: RuntimeWarning: invalid value encountered in double_scalars\n",
      "  avg_signal = avg_signal / np.nansum(signal_area_mask)\n"
     ]
    },
    {
     "name": "stdout",
     "output_type": "stream",
     "text": [
      "\n",
      "Average SNR of most recent successful fit:\n"
     ]
    },
    {
     "name": "stderr",
     "output_type": "stream",
     "text": [
      "/arc/home/IsaacCheng/coop_f2021/packages/radial_profile_utils.py:613: RuntimeWarning: invalid value encountered in double_scalars\n",
      "  avg_noise = np.sqrt(avg_noise) / np.nansum(noise_area_mask)\n"
     ]
    },
    {
     "name": "stdout",
     "output_type": "stream",
     "text": [
      " "
     ]
    },
    {
     "name": "stderr",
     "output_type": "stream",
     "text": [
      "/opt/conda/lib/python3.8/site-packages/numpy/lib/nanfunctions.py:1664: RuntimeWarning: Degrees of freedom <= 0 for slice.\n",
      "  var = nanvar(a, axis=axis, dtype=dtype, out=out, ddof=ddof,\n"
     ]
    },
    {
     "name": "stdout",
     "output_type": "stream",
     "text": [
      "3.3911004087924286Stopped creating ellipses/annuli after \n",
      "8Average SNR of next rectangle:Iter 11: average SNR = 78.26230640869055 "
     ]
    },
    {
     "name": "stderr",
     "output_type": "stream",
     "text": [
      "/arc/home/IsaacCheng/coop_f2021/packages/radial_profile_utils.py:607: RuntimeWarning: invalid value encountered in double_scalars\n",
      "  avg_signal = avg_signal / np.nansum(signal_area_mask)\n"
     ]
    },
    {
     "name": "stdout",
     "output_type": "stream",
     "text": [
      "\n",
      "nan \n"
     ]
    },
    {
     "name": "stderr",
     "output_type": "stream",
     "text": [
      "/arc/home/IsaacCheng/coop_f2021/packages/radial_profile_utils.py:613: RuntimeWarning: invalid value encountered in double_scalars\n",
      "  avg_noise = np.sqrt(avg_noise) / np.nansum(noise_area_mask)\n",
      "/opt/conda/lib/python3.8/site-packages/numpy/lib/nanfunctions.py:1664: RuntimeWarning: Degrees of freedom <= 0 for slice.\n",
      "  var = nanvar(a, axis=axis, dtype=dtype, out=out, ddof=ddof,\n"
     ]
    },
    {
     "name": "stdout",
     "output_type": "stream",
     "text": [
      "Iter 17: average SNR = 87.55783890979544Stopped creating ellipses/annuli after\n",
      " 16 iterationsIter 7: average SNR = 230.52184718528017\n",
      "\n",
      "Average SNR of most recent successful fit: 37.7748634664389\n",
      "Average SNR of next annulus:iterations \n",
      "nanAverage SNR of most recent successful fit:\n",
      "  13.853663151334569Iter 8: average SNR = 239.2967915777838\n",
      "\n",
      "Iter 23: average SNR = 1.7282416099448283Average SNR of next annulus:Iter 13: average SNR = 110.8767365281507Iter 11: average SNR = 287.69954773305767\n",
      "\n",
      "nan\n",
      "\n",
      "Iter 9: average SNR = 239.61084259804784\n",
      "Iter 10: average SNR = 303.80543719572285\n",
      "Iter 18: average SNR = 44.97164172659613\n",
      "Iter 12: average SNR = 288.1847792217928\n",
      "Iter 11: average SNR = 343.6208923750448\n"
     ]
    },
    {
     "name": "stderr",
     "output_type": "stream",
     "text": [
      "/arc/home/IsaacCheng/coop_f2021/packages/radial_profile_utils.py:607: RuntimeWarning: invalid value encountered in double_scalars\n",
      "  avg_signal = avg_signal / np.nansum(signal_area_mask)\n",
      "/arc/home/IsaacCheng/coop_f2021/packages/radial_profile_utils.py:613: RuntimeWarning: invalid value encountered in double_scalars\n",
      "  avg_noise = np.sqrt(avg_noise) / np.nansum(noise_area_mask)\n"
     ]
    },
    {
     "name": "stdout",
     "output_type": "stream",
     "text": [
      "Iter 16: average SNR = 23.430137270467263\n"
     ]
    },
    {
     "name": "stderr",
     "output_type": "stream",
     "text": [
      "/opt/conda/lib/python3.8/site-packages/numpy/lib/nanfunctions.py:1664: RuntimeWarning: Degrees of freedom <= 0 for slice.\n",
      "  var = nanvar(a, axis=axis, dtype=dtype, out=out, ddof=ddof,\n"
     ]
    },
    {
     "name": "stdout",
     "output_type": "stream",
     "text": [
      "Stopped creating ellipses/annuli after 23 iterations\n",
      "Average SNR of most recent successful fit: 1.7282416099448283Iter 12: average SNR = 596.992724054105\n",
      "\n",
      "Average SNR of next annulus: nan\n",
      "Iter 13: average SNR = 372.43829198311437\n",
      "Iter 14: average SNR = 110.82360334916507\n",
      "Iter 13: average SNR = 224.3119587611362\n",
      "Iter 12: average SNR = 80.63453175676267\n"
     ]
    },
    {
     "name": "stderr",
     "output_type": "stream",
     "text": [
      "/arc/home/IsaacCheng/coop_f2021/packages/radial_profile_utils.py:607: RuntimeWarning: invalid value encountered in double_scalars\n",
      "  avg_signal = avg_signal / np.nansum(signal_area_mask)\n",
      "/arc/home/IsaacCheng/coop_f2021/packages/radial_profile_utils.py:613: RuntimeWarning: invalid value encountered in double_scalars\n",
      "  avg_noise = np.sqrt(avg_noise) / np.nansum(noise_area_mask)\n",
      "/opt/conda/lib/python3.8/site-packages/numpy/lib/nanfunctions.py:1664: RuntimeWarning: Degrees of freedom <= 0 for slice.\n",
      "  var = nanvar(a, axis=axis, dtype=dtype, out=out, ddof=ddof,\n"
     ]
    },
    {
     "name": "stdout",
     "output_type": "stream",
     "text": [
      "Stopped creating rectangles after 18 Iter 14: average SNR = 161.7111972608733\n",
      "iterations\n",
      "Average SNR of most recent successful fit: 44.97164172659613\n",
      "Average SNR of next rectangle: nan\n",
      "Iter 14: average SNR = 205.37123775803707\n"
     ]
    },
    {
     "name": "stderr",
     "output_type": "stream",
     "text": [
      "/arc/home/IsaacCheng/coop_f2021/packages/radial_profile_utils.py:607: RuntimeWarning: invalid value encountered in double_scalars\n",
      "  avg_signal = avg_signal / np.nansum(signal_area_mask)\n",
      "/arc/home/IsaacCheng/coop_f2021/packages/radial_profile_utils.py:613: RuntimeWarning: invalid value encountered in double_scalars\n",
      "  avg_noise = np.sqrt(avg_noise) / np.nansum(noise_area_mask)\n",
      "/opt/conda/lib/python3.8/site-packages/numpy/lib/nanfunctions.py:1664: RuntimeWarning: Degrees of freedom <= 0 for slice.\n",
      "  var = nanvar(a, axis=axis, dtype=dtype, out=out, ddof=ddof,\n"
     ]
    },
    {
     "name": "stdout",
     "output_type": "stream",
     "text": [
      "Stopped creating ellipses/annuli after 14 iterations\n",
      "Average SNR of most recent successful fit: 161.7111972608733\n",
      "Average SNR of next annulus: nan\n",
      "Iter 15: average SNR = 152.75346915882872\n"
     ]
    },
    {
     "name": "stderr",
     "output_type": "stream",
     "text": [
      "/arc/home/IsaacCheng/coop_f2021/packages/radial_profile_utils.py:607: RuntimeWarning: invalid value encountered in double_scalars\n",
      "  avg_signal = avg_signal / np.nansum(signal_area_mask)\n",
      "/arc/home/IsaacCheng/coop_f2021/packages/radial_profile_utils.py:613: RuntimeWarning: invalid value encountered in double_scalars\n",
      "  avg_noise = np.sqrt(avg_noise) / np.nansum(noise_area_mask)\n",
      "/opt/conda/lib/python3.8/site-packages/numpy/lib/nanfunctions.py:1664: RuntimeWarning: Degrees of freedom <= 0 for slice.\n",
      "  var = nanvar(a, axis=axis, dtype=dtype, out=out, ddof=ddof,\n"
     ]
    },
    {
     "name": "stdout",
     "output_type": "stream",
     "text": [
      "Stopped creating ellipses/annuli after 16 iterations\n",
      "Average SNR of most recent successful fit: 23.430137270467263\n",
      "Average SNR of next annulus: nan\n",
      "Iter 15: average SNR = 100.77905787267501\n",
      "Iter 16: average SNR = 116.55847180172853\n",
      "Iter 13: average SNR = 84.95851104942476\n",
      "Iter 17: average SNR = 202.9565886984143\n",
      "Iter 16: average SNR = 99.60981048798337\n",
      "Iter 18: average SNR = 87.87128689912538\n",
      "Iter 19: average SNR = 52.80865108763889Iter 14: average SNR = 82.02020365000699\n",
      "\n",
      "Iter 17: average SNR = 91.26724046463575\n",
      "Iter 20: average SNR = 26.33390143937507\n",
      "Iter 15: average SNR = 81.03100633853768\n"
     ]
    },
    {
     "name": "stderr",
     "output_type": "stream",
     "text": [
      "/arc/home/IsaacCheng/coop_f2021/packages/radial_profile_utils.py:607: RuntimeWarning: invalid value encountered in double_scalars\n",
      "  avg_signal = avg_signal / np.nansum(signal_area_mask)\n",
      "/arc/home/IsaacCheng/coop_f2021/packages/radial_profile_utils.py:613: RuntimeWarning: invalid value encountered in double_scalars\n",
      "  avg_noise = np.sqrt(avg_noise) / np.nansum(noise_area_mask)\n",
      "/opt/conda/lib/python3.8/site-packages/numpy/lib/nanfunctions.py:1664: RuntimeWarning: Degrees of freedom <= 0 for slice.\n",
      "  var = nanvar(a, axis=axis, dtype=dtype, out=out, ddof=ddof,\n"
     ]
    },
    {
     "name": "stdout",
     "output_type": "stream",
     "text": [
      "Stopped creating ellipses/annuli after 20 iterations\n",
      "Average SNR of most recent successful fit: 26.33390143937507\n",
      "Average SNR of next annulus: nan\n",
      "Iter 18: average SNR = 91.90572638574632\n",
      "Iter 16: average SNR = 75.48220009102357\n",
      "Iter 19: average SNR = 91.46196430062422\n",
      "Iter 17: average SNR = 73.62353087424249\n",
      "Iter 20: average SNR = 91.43888236348117\n",
      "Iter 18: average SNR = 98.4503844354079\n",
      "Iter 21: average SNR = 95.69594463733624\n",
      "Iter 19: average SNR = 72.67902076734862\n",
      "Iter 22: average SNR = 58.01828174991169\n",
      "Iter 20: average SNR = 34.729003222003556\n",
      "Iter 23: average SNR = 15.817676976902453\n",
      "Iter 21: average SNR = 16.83739980036709\n"
     ]
    },
    {
     "name": "stderr",
     "output_type": "stream",
     "text": [
      "/arc/home/IsaacCheng/coop_f2021/packages/radial_profile_utils.py:607: RuntimeWarning: invalid value encountered in double_scalars\n",
      "  avg_signal = avg_signal / np.nansum(signal_area_mask)\n",
      "/arc/home/IsaacCheng/coop_f2021/packages/radial_profile_utils.py:613: RuntimeWarning: invalid value encountered in double_scalars\n",
      "  avg_noise = np.sqrt(avg_noise) / np.nansum(noise_area_mask)\n",
      "/opt/conda/lib/python3.8/site-packages/numpy/lib/nanfunctions.py:1664: RuntimeWarning: Degrees of freedom <= 0 for slice.\n",
      "  var = nanvar(a, axis=axis, dtype=dtype, out=out, ddof=ddof,\n"
     ]
    },
    {
     "name": "stdout",
     "output_type": "stream",
     "text": [
      "Stopped creating rectangles after 23 iterations\n",
      "Average SNR of most recent successful fit: 15.817676976902453\n",
      "Average SNR of next rectangle: nan\n"
     ]
    },
    {
     "name": "stderr",
     "output_type": "stream",
     "text": [
      "/arc/home/IsaacCheng/coop_f2021/packages/radial_profile_utils.py:607: RuntimeWarning: invalid value encountered in double_scalars\n",
      "  avg_signal = avg_signal / np.nansum(signal_area_mask)\n",
      "/arc/home/IsaacCheng/coop_f2021/packages/radial_profile_utils.py:613: RuntimeWarning: invalid value encountered in double_scalars\n",
      "  avg_noise = np.sqrt(avg_noise) / np.nansum(noise_area_mask)\n",
      "/opt/conda/lib/python3.8/site-packages/numpy/lib/nanfunctions.py:1664: RuntimeWarning: Degrees of freedom <= 0 for slice.\n",
      "  var = nanvar(a, axis=axis, dtype=dtype, out=out, ddof=ddof,\n"
     ]
    },
    {
     "name": "stdout",
     "output_type": "stream",
     "text": [
      "Stopped creating rectangles after 21 iterations\n",
      "Average SNR of most recent successful fit: 16.83739980036709\n",
      "Average SNR of next rectangle: nan\n",
      "Done\n"
     ]
    }
   ],
   "source": [
    "with Pool(processes=None) as p:\n",
    "    radial_profiles, centers, annulus_widths_arcsec= zip(\n",
    "        *p.starmap(\n",
    "            get_9as_rp, zip(GALAXIES, INCLINATIONS, POSITION_ANGLES, repeat(False), repeat(0))\n",
    "        )\n",
    "    )\n",
    "radial_profiles = list(radial_profiles)\n",
    "centers = list(centers)\n",
    "annulus_widths_arcsec = list(annulus_widths_arcsec)\n",
    "print(\"Done\")"
   ]
  },
  {
   "cell_type": "code",
   "execution_count": 5,
   "id": "alternate-virtue",
   "metadata": {},
   "outputs": [
    {
     "name": "stdout",
     "output_type": "stream",
     "text": [
      "Pickled /arc/home/IsaacCheng/coop_f2021/galaxies/stellar_mass_densities/stellar_mass_density_9as_i_corr_NGVS-VERTICO_noNorm_noIncludeBad_fitUntilAllNaNs.pkl\n"
     ]
    }
   ],
   "source": [
    "sig_star_outfile = SIG_STAR_PATH + \"stellar_mass_density_9as_i_corr_NGVS-VERTICO_noNorm_noIncludeBad_fitUntilAllNaNs.pkl\"\n",
    "with open(sig_star_outfile, \"wb\") as f:\n",
    "    dill.dump(\n",
    "        {\n",
    "            \"galaxies\": GALAXIES,\n",
    "            \"inclinations\": INCLINATIONS,\n",
    "            \"position_angles\": POSITION_ANGLES,\n",
    "            \"radial_profiles\": radial_profiles,\n",
    "            \"centers\": centers,\n",
    "            \"annulus_widths_arcsec\": annulus_widths_arcsec,\n",
    "            # \"n_annulis\": n_annulis,\n",
    "        },\n",
    "        f\n",
    "    )\n",
    "print(\"Pickled\", sig_star_outfile)"
   ]
  },
  {
   "cell_type": "markdown",
   "id": "dramatic-prison",
   "metadata": {},
   "source": [
    "# Plot individual radial profiles\n"
   ]
  },
  {
   "cell_type": "code",
   "execution_count": 4,
   "id": "adequate-plant",
   "metadata": {
    "collapsed": true,
    "jupyter": {
     "outputs_hidden": true
    }
   },
   "outputs": [
    {
     "name": "stdout",
     "output_type": "stream",
     "text": [
      "Loading /arc/home/IsaacCheng/coop_f2021/galaxies/stellar_mass_densities/stellar_mass_density_9as_i_corr_NGVS-VERTICO_noNorm_noIncludeBad_fitUntilAllNaNs.pkl\n"
     ]
    },
    {
     "name": "stderr",
     "output_type": "stream",
     "text": [
      "WARNING: FITSFixedWarning: The WCS transformation has more axes (2) than the image it is associated with (0) [astropy.wcs.wcs]\n",
      "WARNING: FITSFixedWarning: 'datfix' made the change 'Set MJD-OBS to 58857.486979 from DATE-OBS'. [astropy.wcs.wcs]\n",
      "WARNING: FITSFixedWarning: 'obsfix' made the change 'Observatory coordinates incomplete'. [astropy.wcs.wcs]\n",
      "WARNING: FITSFixedWarning: 'datfix' made the change 'Set MJD-OBS to 58821.370833 from DATE-OBS'. [astropy.wcs.wcs]\n",
      "WARNING: FITSFixedWarning: 'obsfix' made the change 'Observatory coordinates incomplete'. [astropy.wcs.wcs]\n",
      "WARNING: FITSFixedWarning: 'datfix' made the change 'Set MJD-OBS to 58822.371327 from DATE-OBS'. [astropy.wcs.wcs]\n",
      "WARNING: FITSFixedWarning: 'obsfix' made the change 'Observatory coordinates incomplete'. [astropy.wcs.wcs]\n",
      "WARNING: FITSFixedWarning: 'datfix' made the change 'Set MJD-OBS to 58832.392244 from DATE-OBS'. [astropy.wcs.wcs]\n",
      "WARNING: FITSFixedWarning: 'obsfix' made the change 'Observatory coordinates incomplete'. [astropy.wcs.wcs]\n",
      "WARNING: FITSFixedWarning: 'datfix' made the change 'Set MJD-OBS to 57613.735997 from DATE-OBS'. [astropy.wcs.wcs]\n",
      "WARNING: FITSFixedWarning: 'obsfix' made the change 'Observatory coordinates incomplete'. [astropy.wcs.wcs]\n",
      "WARNING: FITSFixedWarning: 'datfix' made the change 'Set MJD-OBS to 58855.352029 from DATE-OBS'. [astropy.wcs.wcs]\n",
      "WARNING: FITSFixedWarning: 'obsfix' made the change 'Observatory coordinates incomplete'. [astropy.wcs.wcs]\n",
      "WARNING: FITSFixedWarning: 'datfix' made the change 'Set MJD-OBS to 58125.369839 from DATE-OBS'. [astropy.wcs.wcs]\n",
      "WARNING: FITSFixedWarning: 'obsfix' made the change 'Observatory coordinates incomplete'. [astropy.wcs.wcs]\n",
      "WARNING: FITSFixedWarning: 'datfix' made the change 'Set MJD-OBS to 58786.495183 from DATE-OBS'. [astropy.wcs.wcs]\n",
      "WARNING: FITSFixedWarning: 'obsfix' made the change 'Observatory coordinates incomplete'. [astropy.wcs.wcs]\n",
      "WARNING: FITSFixedWarning: 'datfix' made the change 'Set MJD-OBS to 58827.396029 from DATE-OBS'. [astropy.wcs.wcs]\n",
      "WARNING: FITSFixedWarning: 'obsfix' made the change 'Observatory coordinates incomplete'. [astropy.wcs.wcs]\n",
      "WARNING: FITSFixedWarning: 'datfix' made the change 'Set MJD-OBS to 57594.978228 from DATE-OBS'. [astropy.wcs.wcs]\n",
      "WARNING: FITSFixedWarning: 'obsfix' made the change 'Observatory coordinates incomplete'. [astropy.wcs.wcs]\n",
      "WARNING: FITSFixedWarning: 'datfix' made the change 'Set MJD-OBS to 58811.578396 from DATE-OBS'. [astropy.wcs.wcs]\n",
      "WARNING: FITSFixedWarning: 'obsfix' made the change 'Observatory coordinates incomplete'. [astropy.wcs.wcs]\n",
      "WARNING: FITSFixedWarning: 'datfix' made the change 'Set MJD-OBS to 58837.406607 from DATE-OBS'. [astropy.wcs.wcs]\n",
      "WARNING: FITSFixedWarning: 'obsfix' made the change 'Observatory coordinates incomplete'. [astropy.wcs.wcs]\n",
      "WARNING: FITSFixedWarning: 'datfix' made the change 'Set MJD-OBS to 58823.434418 from DATE-OBS'. [astropy.wcs.wcs]\n",
      "WARNING: FITSFixedWarning: 'obsfix' made the change 'Observatory coordinates incomplete'. [astropy.wcs.wcs]\n",
      "WARNING: FITSFixedWarning: 'datfix' made the change 'Set MJD-OBS to 58838.438545 from DATE-OBS'. [astropy.wcs.wcs]\n",
      "WARNING: FITSFixedWarning: 'obsfix' made the change 'Observatory coordinates incomplete'. [astropy.wcs.wcs]\n",
      "WARNING: FITSFixedWarning: 'datfix' made the change 'Set MJD-OBS to 58839.379235 from DATE-OBS'. [astropy.wcs.wcs]\n",
      "WARNING: FITSFixedWarning: 'obsfix' made the change 'Observatory coordinates incomplete'. [astropy.wcs.wcs]\n",
      "WARNING: FITSFixedWarning: 'datfix' made the change 'Set MJD-OBS to 58858.416048 from DATE-OBS'. [astropy.wcs.wcs]\n",
      "WARNING: FITSFixedWarning: 'obsfix' made the change 'Observatory coordinates incomplete'. [astropy.wcs.wcs]\n",
      "WARNING: FITSFixedWarning: 'datfix' made the change 'Set MJD-OBS to 57729.380956 from DATE-OBS'. [astropy.wcs.wcs]\n",
      "WARNING: FITSFixedWarning: 'obsfix' made the change 'Observatory coordinates incomplete'. [astropy.wcs.wcs]\n",
      "WARNING: FITSFixedWarning: 'datfix' made the change 'Set MJD-OBS to 58800.586857 from DATE-OBS'. [astropy.wcs.wcs]\n",
      "WARNING: FITSFixedWarning: 'obsfix' made the change 'Observatory coordinates incomplete'. [astropy.wcs.wcs]\n",
      "WARNING: FITSFixedWarning: 'datfix' made the change 'Set MJD-OBS to 58855.371869 from DATE-OBS'. [astropy.wcs.wcs]\n",
      "WARNING: FITSFixedWarning: 'obsfix' made the change 'Observatory coordinates incomplete'. [astropy.wcs.wcs]\n",
      "WARNING: FITSFixedWarning: 'datfix' made the change 'Set MJD-OBS to 58034.639742 from DATE-OBS'. [astropy.wcs.wcs]\n",
      "WARNING: FITSFixedWarning: 'obsfix' made the change 'Observatory coordinates incomplete'. [astropy.wcs.wcs]\n",
      "WARNING: FITSFixedWarning: 'datfix' made the change 'Set MJD-OBS to 58906.231702 from DATE-OBS'. [astropy.wcs.wcs]\n",
      "WARNING: FITSFixedWarning: 'obsfix' made the change 'Observatory coordinates incomplete'. [astropy.wcs.wcs]\n",
      "WARNING: FITSFixedWarning: 'datfix' made the change 'Set MJD-OBS to 58910.235509 from DATE-OBS'. [astropy.wcs.wcs]\n",
      "WARNING: FITSFixedWarning: 'obsfix' made the change 'Observatory coordinates incomplete'. [astropy.wcs.wcs]\n",
      "WARNING: FITSFixedWarning: 'datfix' made the change 'Set MJD-OBS to 58835.533518 from DATE-OBS'. [astropy.wcs.wcs]\n",
      "WARNING: FITSFixedWarning: 'obsfix' made the change 'Observatory coordinates incomplete'. [astropy.wcs.wcs]\n",
      "WARNING: FITSFixedWarning: 'datfix' made the change 'Set MJD-OBS to 58820.540981 from DATE-OBS'. [astropy.wcs.wcs]\n",
      "WARNING: FITSFixedWarning: 'obsfix' made the change 'Observatory coordinates incomplete'. [astropy.wcs.wcs]\n",
      "WARNING: FITSFixedWarning: 'datfix' made the change 'Set MJD-OBS to 57524.101317 from DATE-OBS'. [astropy.wcs.wcs]\n",
      "WARNING: FITSFixedWarning: 'obsfix' made the change 'Observatory coordinates incomplete'. [astropy.wcs.wcs]\n",
      "WARNING: FITSFixedWarning: 'datfix' made the change 'Set MJD-OBS to 58197.199664 from DATE-OBS'. [astropy.wcs.wcs]\n",
      "WARNING: FITSFixedWarning: 'obsfix' made the change 'Observatory coordinates incomplete'. [astropy.wcs.wcs]\n",
      "WARNING: FITSFixedWarning: 'datfix' made the change 'Set MJD-OBS to 58771.720579 from DATE-OBS'. [astropy.wcs.wcs]\n",
      "WARNING: FITSFixedWarning: 'obsfix' made the change 'Observatory coordinates incomplete'. [astropy.wcs.wcs]\n",
      "WARNING: FITSFixedWarning: 'datfix' made the change 'Set MJD-OBS to 58807.603859 from DATE-OBS'. [astropy.wcs.wcs]\n",
      "WARNING: FITSFixedWarning: 'obsfix' made the change 'Observatory coordinates incomplete'. [astropy.wcs.wcs]\n",
      "WARNING: FITSFixedWarning: 'datfix' made the change 'Set MJD-OBS to 58203.170749 from DATE-OBS'. [astropy.wcs.wcs]\n",
      "WARNING: FITSFixedWarning: 'obsfix' made the change 'Observatory coordinates incomplete'. [astropy.wcs.wcs]\n",
      "WARNING: FITSFixedWarning: 'datfix' made the change 'Set MJD-OBS to 58184.283297 from DATE-OBS'. [astropy.wcs.wcs]\n",
      "WARNING: FITSFixedWarning: 'obsfix' made the change 'Observatory coordinates incomplete'. [astropy.wcs.wcs]\n",
      "WARNING: FITSFixedWarning: 'datfix' made the change 'Set MJD-OBS to 58830.570338 from DATE-OBS'. [astropy.wcs.wcs]\n",
      "WARNING: FITSFixedWarning: 'obsfix' made the change 'Observatory coordinates incomplete'. [astropy.wcs.wcs]\n",
      "WARNING: FITSFixedWarning: 'datfix' made the change 'Set MJD-OBS to 58771.655996 from DATE-OBS'. [astropy.wcs.wcs]\n",
      "WARNING: FITSFixedWarning: 'obsfix' made the change 'Observatory coordinates incomplete'. [astropy.wcs.wcs]\n",
      "WARNING: FITSFixedWarning: 'datfix' made the change 'Set MJD-OBS to 58837.456786 from DATE-OBS'. [astropy.wcs.wcs]\n",
      "WARNING: FITSFixedWarning: 'obsfix' made the change 'Observatory coordinates incomplete'. [astropy.wcs.wcs]\n",
      "WARNING: FITSFixedWarning: 'datfix' made the change 'Set MJD-OBS to 58119.389391 from DATE-OBS'. [astropy.wcs.wcs]\n",
      "WARNING: FITSFixedWarning: 'obsfix' made the change 'Observatory coordinates incomplete'. [astropy.wcs.wcs]\n",
      "WARNING: FITSFixedWarning: 'datfix' made the change 'Set MJD-OBS to 58125.480975 from DATE-OBS'. [astropy.wcs.wcs]\n",
      "WARNING: FITSFixedWarning: 'obsfix' made the change 'Observatory coordinates incomplete'. [astropy.wcs.wcs]\n",
      "WARNING: FITSFixedWarning: 'datfix' made the change 'Set MJD-OBS to 58029.684441 from DATE-OBS'. [astropy.wcs.wcs]\n",
      "WARNING: FITSFixedWarning: 'obsfix' made the change 'Observatory coordinates incomplete'. [astropy.wcs.wcs]\n"
     ]
    }
   ],
   "source": [
    "PLOT_INCLUDE_BAD = False  # determines pickle file to use\n",
    "PLOT_FIT_UNTIL_ALL_NANS = True  # if True, use file that fits annuli until an annulus is all NaN\n",
    "# \n",
    "if PLOT_INCLUDE_BAD:\n",
    "    incl_bad_str = \"\"\n",
    "else:\n",
    "    incl_bad_str = \"_noIncludeBad\"\n",
    "if PLOT_FIT_UNTIL_ALL_NANS:\n",
    "    fit_until_all_nans_str = \"_fitUntilAllNaNs\"\n",
    "else:\n",
    "    fit_until_all_nans_str = \"\"\n",
    "# \n",
    "# Load radial profiles\n",
    "# \n",
    "sig_star_outfile = SIG_STAR_PATH + f\"stellar_mass_density_9as_i_corr_NGVS-VERTICO_noNorm{incl_bad_str}{fit_until_all_nans_str}.pkl\"\n",
    "print(\"Loading\", sig_star_outfile)\n",
    "with open(sig_star_outfile, \"rb\") as f:\n",
    "    file = dill.load(f)\n",
    "    galaxies = file[\"galaxies\"]\n",
    "    inclinations = file[\"inclinations\"]\n",
    "    position_angles = file[\"position_angles\"]\n",
    "    centers = file[\"centers\"]\n",
    "    radial_profiles = file[\"radial_profiles\"]\n",
    "    annulus_widths_arcsec = file[\"annulus_widths_arcsec\"]\n",
    "    file = None  # free memory\n",
    "avg_function = radial_profiles[0].rp_options[\"func\"]\n",
    "# \n",
    "# Calculate radii of annuli in kpc\n",
    "# \n",
    "radius_kpc = []\n",
    "for galname in galaxies:\n",
    "    galidx = np.where(galaxies == galname)[0]\n",
    "    if galidx.size != 1:\n",
    "        raise ValueError(f\"More than 1 galaxy matched with name {galname} at indices {galidx}\")\n",
    "    galidx = galidx[0]\n",
    "    gal_wcs = WCS(radial_profiles[galidx].rp_options[\"header\"])\n",
    "    px_to_kpc = fu.calc_pc_per_px(gal_wcs, GALDIST)[0][0] / 1000\n",
    "    radius_kpc.append(radial_profiles[galidx].radii * px_to_kpc)\n",
    "#\n",
    "I_THRESHOLD = 80  # degrees"
   ]
  },
  {
   "cell_type": "code",
   "execution_count": 5,
   "id": "smart-grace",
   "metadata": {
    "collapsed": true,
    "jupyter": {
     "outputs_hidden": true
    }
   },
   "outputs": [
    {
     "name": "stderr",
     "output_type": "stream",
     "text": [
      "WARNING: FITSFixedWarning: 'datfix' made the change 'Set MJD-OBS to 58857.486979 from DATE-OBS'. [astropy.wcs.wcs]\n",
      "WARNING: FITSFixedWarning: 'obsfix' made the change 'Observatory coordinates incomplete'. [astropy.wcs.wcs]\n",
      "/tmp/ipykernel_28920/638030849.py:15: MatplotlibDeprecationWarning: Auto-removal of grids by pcolor() and pcolormesh() is deprecated since 3.5 and will be removed two minor releases later; please call grid(False) first.\n",
      "  cbar1 = fig.colorbar(img1, fraction=0.045)\n",
      "WARNING: FITSFixedWarning: 'datfix' made the change 'Set MJD-OBS to 58857.486979 from DATE-OBS'. [astropy.wcs.wcs]\n",
      "WARNING: FITSFixedWarning: 'obsfix' made the change 'Observatory coordinates incomplete'. [astropy.wcs.wcs]\n",
      "WARNING: FITSFixedWarning: 'datfix' made the change 'Set MJD-OBS to 58821.370833 from DATE-OBS'. [astropy.wcs.wcs]\n",
      "WARNING: FITSFixedWarning: 'obsfix' made the change 'Observatory coordinates incomplete'. [astropy.wcs.wcs]\n",
      "/tmp/ipykernel_28920/638030849.py:15: MatplotlibDeprecationWarning: Auto-removal of grids by pcolor() and pcolormesh() is deprecated since 3.5 and will be removed two minor releases later; please call grid(False) first.\n",
      "  cbar1 = fig.colorbar(img1, fraction=0.045)\n",
      "WARNING: FITSFixedWarning: 'datfix' made the change 'Set MJD-OBS to 58821.370833 from DATE-OBS'. [astropy.wcs.wcs]\n",
      "WARNING: FITSFixedWarning: 'obsfix' made the change 'Observatory coordinates incomplete'. [astropy.wcs.wcs]\n",
      "WARNING: FITSFixedWarning: 'datfix' made the change 'Set MJD-OBS to 58822.371327 from DATE-OBS'. [astropy.wcs.wcs]\n",
      "WARNING: FITSFixedWarning: 'obsfix' made the change 'Observatory coordinates incomplete'. [astropy.wcs.wcs]\n",
      "/tmp/ipykernel_28920/638030849.py:15: MatplotlibDeprecationWarning: Auto-removal of grids by pcolor() and pcolormesh() is deprecated since 3.5 and will be removed two minor releases later; please call grid(False) first.\n",
      "  cbar1 = fig.colorbar(img1, fraction=0.045)\n",
      "WARNING: FITSFixedWarning: 'datfix' made the change 'Set MJD-OBS to 58822.371327 from DATE-OBS'. [astropy.wcs.wcs]\n",
      "WARNING: FITSFixedWarning: 'obsfix' made the change 'Observatory coordinates incomplete'. [astropy.wcs.wcs]\n",
      "WARNING: FITSFixedWarning: 'datfix' made the change 'Set MJD-OBS to 58832.392244 from DATE-OBS'. [astropy.wcs.wcs]\n",
      "WARNING: FITSFixedWarning: 'obsfix' made the change 'Observatory coordinates incomplete'. [astropy.wcs.wcs]\n",
      "/tmp/ipykernel_28920/638030849.py:15: MatplotlibDeprecationWarning: Auto-removal of grids by pcolor() and pcolormesh() is deprecated since 3.5 and will be removed two minor releases later; please call grid(False) first.\n",
      "  cbar1 = fig.colorbar(img1, fraction=0.045)\n",
      "WARNING: FITSFixedWarning: 'datfix' made the change 'Set MJD-OBS to 58832.392244 from DATE-OBS'. [astropy.wcs.wcs]\n",
      "WARNING: FITSFixedWarning: 'obsfix' made the change 'Observatory coordinates incomplete'. [astropy.wcs.wcs]\n",
      "WARNING: FITSFixedWarning: 'datfix' made the change 'Set MJD-OBS to 57613.735997 from DATE-OBS'. [astropy.wcs.wcs]\n",
      "WARNING: FITSFixedWarning: 'obsfix' made the change 'Observatory coordinates incomplete'. [astropy.wcs.wcs]\n",
      "/tmp/ipykernel_28920/638030849.py:15: MatplotlibDeprecationWarning: Auto-removal of grids by pcolor() and pcolormesh() is deprecated since 3.5 and will be removed two minor releases later; please call grid(False) first.\n",
      "  cbar1 = fig.colorbar(img1, fraction=0.045)\n",
      "WARNING: FITSFixedWarning: 'datfix' made the change 'Set MJD-OBS to 57613.735997 from DATE-OBS'. [astropy.wcs.wcs]\n",
      "WARNING: FITSFixedWarning: 'obsfix' made the change 'Observatory coordinates incomplete'. [astropy.wcs.wcs]\n",
      "WARNING: FITSFixedWarning: 'datfix' made the change 'Set MJD-OBS to 58855.352029 from DATE-OBS'. [astropy.wcs.wcs]\n",
      "WARNING: FITSFixedWarning: 'obsfix' made the change 'Observatory coordinates incomplete'. [astropy.wcs.wcs]\n",
      "/tmp/ipykernel_28920/638030849.py:15: MatplotlibDeprecationWarning: Auto-removal of grids by pcolor() and pcolormesh() is deprecated since 3.5 and will be removed two minor releases later; please call grid(False) first.\n",
      "  cbar1 = fig.colorbar(img1, fraction=0.045)\n",
      "WARNING: FITSFixedWarning: 'datfix' made the change 'Set MJD-OBS to 58855.352029 from DATE-OBS'. [astropy.wcs.wcs]\n",
      "WARNING: FITSFixedWarning: 'obsfix' made the change 'Observatory coordinates incomplete'. [astropy.wcs.wcs]\n",
      "WARNING: FITSFixedWarning: 'datfix' made the change 'Set MJD-OBS to 58125.369839 from DATE-OBS'. [astropy.wcs.wcs]\n",
      "WARNING: FITSFixedWarning: 'obsfix' made the change 'Observatory coordinates incomplete'. [astropy.wcs.wcs]\n",
      "/tmp/ipykernel_28920/638030849.py:15: MatplotlibDeprecationWarning: Auto-removal of grids by pcolor() and pcolormesh() is deprecated since 3.5 and will be removed two minor releases later; please call grid(False) first.\n",
      "  cbar1 = fig.colorbar(img1, fraction=0.045)\n",
      "WARNING: FITSFixedWarning: 'datfix' made the change 'Set MJD-OBS to 58125.369839 from DATE-OBS'. [astropy.wcs.wcs]\n",
      "WARNING: FITSFixedWarning: 'obsfix' made the change 'Observatory coordinates incomplete'. [astropy.wcs.wcs]\n",
      "WARNING: FITSFixedWarning: 'datfix' made the change 'Set MJD-OBS to 58786.495183 from DATE-OBS'. [astropy.wcs.wcs]\n",
      "WARNING: FITSFixedWarning: 'obsfix' made the change 'Observatory coordinates incomplete'. [astropy.wcs.wcs]\n",
      "/tmp/ipykernel_28920/638030849.py:15: MatplotlibDeprecationWarning: Auto-removal of grids by pcolor() and pcolormesh() is deprecated since 3.5 and will be removed two minor releases later; please call grid(False) first.\n",
      "  cbar1 = fig.colorbar(img1, fraction=0.045)\n",
      "WARNING: FITSFixedWarning: 'datfix' made the change 'Set MJD-OBS to 58786.495183 from DATE-OBS'. [astropy.wcs.wcs]\n",
      "WARNING: FITSFixedWarning: 'obsfix' made the change 'Observatory coordinates incomplete'. [astropy.wcs.wcs]\n",
      "WARNING: FITSFixedWarning: 'datfix' made the change 'Set MJD-OBS to 58827.396029 from DATE-OBS'. [astropy.wcs.wcs]\n",
      "WARNING: FITSFixedWarning: 'obsfix' made the change 'Observatory coordinates incomplete'. [astropy.wcs.wcs]\n",
      "/tmp/ipykernel_28920/638030849.py:15: MatplotlibDeprecationWarning: Auto-removal of grids by pcolor() and pcolormesh() is deprecated since 3.5 and will be removed two minor releases later; please call grid(False) first.\n",
      "  cbar1 = fig.colorbar(img1, fraction=0.045)\n",
      "WARNING: FITSFixedWarning: 'datfix' made the change 'Set MJD-OBS to 58827.396029 from DATE-OBS'. [astropy.wcs.wcs]\n",
      "WARNING: FITSFixedWarning: 'obsfix' made the change 'Observatory coordinates incomplete'. [astropy.wcs.wcs]\n",
      "WARNING: FITSFixedWarning: 'datfix' made the change 'Set MJD-OBS to 57594.978228 from DATE-OBS'. [astropy.wcs.wcs]\n",
      "WARNING: FITSFixedWarning: 'obsfix' made the change 'Observatory coordinates incomplete'. [astropy.wcs.wcs]\n",
      "/tmp/ipykernel_28920/638030849.py:15: MatplotlibDeprecationWarning: Auto-removal of grids by pcolor() and pcolormesh() is deprecated since 3.5 and will be removed two minor releases later; please call grid(False) first.\n",
      "  cbar1 = fig.colorbar(img1, fraction=0.045)\n",
      "WARNING: FITSFixedWarning: 'datfix' made the change 'Set MJD-OBS to 57594.978228 from DATE-OBS'. [astropy.wcs.wcs]\n",
      "WARNING: FITSFixedWarning: 'obsfix' made the change 'Observatory coordinates incomplete'. [astropy.wcs.wcs]\n",
      "WARNING: FITSFixedWarning: 'datfix' made the change 'Set MJD-OBS to 58811.578396 from DATE-OBS'. [astropy.wcs.wcs]\n",
      "WARNING: FITSFixedWarning: 'obsfix' made the change 'Observatory coordinates incomplete'. [astropy.wcs.wcs]\n",
      "/tmp/ipykernel_28920/638030849.py:15: MatplotlibDeprecationWarning: Auto-removal of grids by pcolor() and pcolormesh() is deprecated since 3.5 and will be removed two minor releases later; please call grid(False) first.\n",
      "  cbar1 = fig.colorbar(img1, fraction=0.045)\n",
      "WARNING: FITSFixedWarning: 'datfix' made the change 'Set MJD-OBS to 58811.578396 from DATE-OBS'. [astropy.wcs.wcs]\n",
      "WARNING: FITSFixedWarning: 'obsfix' made the change 'Observatory coordinates incomplete'. [astropy.wcs.wcs]\n",
      "WARNING: FITSFixedWarning: 'datfix' made the change 'Set MJD-OBS to 58837.406607 from DATE-OBS'. [astropy.wcs.wcs]\n",
      "WARNING: FITSFixedWarning: 'obsfix' made the change 'Observatory coordinates incomplete'. [astropy.wcs.wcs]\n",
      "/tmp/ipykernel_28920/638030849.py:15: MatplotlibDeprecationWarning: Auto-removal of grids by pcolor() and pcolormesh() is deprecated since 3.5 and will be removed two minor releases later; please call grid(False) first.\n",
      "  cbar1 = fig.colorbar(img1, fraction=0.045)\n",
      "WARNING: FITSFixedWarning: 'datfix' made the change 'Set MJD-OBS to 58837.406607 from DATE-OBS'. [astropy.wcs.wcs]\n",
      "WARNING: FITSFixedWarning: 'obsfix' made the change 'Observatory coordinates incomplete'. [astropy.wcs.wcs]\n",
      "WARNING: FITSFixedWarning: 'datfix' made the change 'Set MJD-OBS to 58823.434418 from DATE-OBS'. [astropy.wcs.wcs]\n",
      "WARNING: FITSFixedWarning: 'obsfix' made the change 'Observatory coordinates incomplete'. [astropy.wcs.wcs]\n",
      "/tmp/ipykernel_28920/638030849.py:15: MatplotlibDeprecationWarning: Auto-removal of grids by pcolor() and pcolormesh() is deprecated since 3.5 and will be removed two minor releases later; please call grid(False) first.\n",
      "  cbar1 = fig.colorbar(img1, fraction=0.045)\n",
      "WARNING: FITSFixedWarning: 'datfix' made the change 'Set MJD-OBS to 58823.434418 from DATE-OBS'. [astropy.wcs.wcs]\n",
      "WARNING: FITSFixedWarning: 'obsfix' made the change 'Observatory coordinates incomplete'. [astropy.wcs.wcs]\n",
      "WARNING: FITSFixedWarning: 'datfix' made the change 'Set MJD-OBS to 58838.438545 from DATE-OBS'. [astropy.wcs.wcs]\n",
      "WARNING: FITSFixedWarning: 'obsfix' made the change 'Observatory coordinates incomplete'. [astropy.wcs.wcs]\n",
      "/tmp/ipykernel_28920/638030849.py:15: MatplotlibDeprecationWarning: Auto-removal of grids by pcolor() and pcolormesh() is deprecated since 3.5 and will be removed two minor releases later; please call grid(False) first.\n",
      "  cbar1 = fig.colorbar(img1, fraction=0.045)\n",
      "WARNING: FITSFixedWarning: 'datfix' made the change 'Set MJD-OBS to 58838.438545 from DATE-OBS'. [astropy.wcs.wcs]\n",
      "WARNING: FITSFixedWarning: 'obsfix' made the change 'Observatory coordinates incomplete'. [astropy.wcs.wcs]\n",
      "WARNING: FITSFixedWarning: 'datfix' made the change 'Set MJD-OBS to 58839.379235 from DATE-OBS'. [astropy.wcs.wcs]\n",
      "WARNING: FITSFixedWarning: 'obsfix' made the change 'Observatory coordinates incomplete'. [astropy.wcs.wcs]\n",
      "/tmp/ipykernel_28920/638030849.py:15: MatplotlibDeprecationWarning: Auto-removal of grids by pcolor() and pcolormesh() is deprecated since 3.5 and will be removed two minor releases later; please call grid(False) first.\n",
      "  cbar1 = fig.colorbar(img1, fraction=0.045)\n",
      "WARNING: FITSFixedWarning: 'datfix' made the change 'Set MJD-OBS to 58839.379235 from DATE-OBS'. [astropy.wcs.wcs]\n",
      "WARNING: FITSFixedWarning: 'obsfix' made the change 'Observatory coordinates incomplete'. [astropy.wcs.wcs]\n",
      "WARNING: FITSFixedWarning: 'datfix' made the change 'Set MJD-OBS to 58858.416048 from DATE-OBS'. [astropy.wcs.wcs]\n",
      "WARNING: FITSFixedWarning: 'obsfix' made the change 'Observatory coordinates incomplete'. [astropy.wcs.wcs]\n",
      "/tmp/ipykernel_28920/638030849.py:15: MatplotlibDeprecationWarning: Auto-removal of grids by pcolor() and pcolormesh() is deprecated since 3.5 and will be removed two minor releases later; please call grid(False) first.\n",
      "  cbar1 = fig.colorbar(img1, fraction=0.045)\n",
      "WARNING: FITSFixedWarning: 'datfix' made the change 'Set MJD-OBS to 58858.416048 from DATE-OBS'. [astropy.wcs.wcs]\n",
      "WARNING: FITSFixedWarning: 'obsfix' made the change 'Observatory coordinates incomplete'. [astropy.wcs.wcs]\n",
      "WARNING: FITSFixedWarning: 'datfix' made the change 'Set MJD-OBS to 57729.380956 from DATE-OBS'. [astropy.wcs.wcs]\n",
      "WARNING: FITSFixedWarning: 'obsfix' made the change 'Observatory coordinates incomplete'. [astropy.wcs.wcs]\n",
      "/tmp/ipykernel_28920/638030849.py:15: MatplotlibDeprecationWarning: Auto-removal of grids by pcolor() and pcolormesh() is deprecated since 3.5 and will be removed two minor releases later; please call grid(False) first.\n",
      "  cbar1 = fig.colorbar(img1, fraction=0.045)\n",
      "WARNING: FITSFixedWarning: 'datfix' made the change 'Set MJD-OBS to 57729.380956 from DATE-OBS'. [astropy.wcs.wcs]\n",
      "WARNING: FITSFixedWarning: 'obsfix' made the change 'Observatory coordinates incomplete'. [astropy.wcs.wcs]\n",
      "WARNING: FITSFixedWarning: 'datfix' made the change 'Set MJD-OBS to 58800.586857 from DATE-OBS'. [astropy.wcs.wcs]\n",
      "WARNING: FITSFixedWarning: 'obsfix' made the change 'Observatory coordinates incomplete'. [astropy.wcs.wcs]\n",
      "/tmp/ipykernel_28920/638030849.py:15: MatplotlibDeprecationWarning: Auto-removal of grids by pcolor() and pcolormesh() is deprecated since 3.5 and will be removed two minor releases later; please call grid(False) first.\n",
      "  cbar1 = fig.colorbar(img1, fraction=0.045)\n",
      "WARNING: FITSFixedWarning: 'datfix' made the change 'Set MJD-OBS to 58800.586857 from DATE-OBS'. [astropy.wcs.wcs]\n",
      "WARNING: FITSFixedWarning: 'obsfix' made the change 'Observatory coordinates incomplete'. [astropy.wcs.wcs]\n",
      "WARNING: FITSFixedWarning: 'datfix' made the change 'Set MJD-OBS to 58855.371869 from DATE-OBS'. [astropy.wcs.wcs]\n",
      "WARNING: FITSFixedWarning: 'obsfix' made the change 'Observatory coordinates incomplete'. [astropy.wcs.wcs]\n",
      "/tmp/ipykernel_28920/638030849.py:15: MatplotlibDeprecationWarning: Auto-removal of grids by pcolor() and pcolormesh() is deprecated since 3.5 and will be removed two minor releases later; please call grid(False) first.\n",
      "  cbar1 = fig.colorbar(img1, fraction=0.045)\n",
      "WARNING: FITSFixedWarning: 'datfix' made the change 'Set MJD-OBS to 58855.371869 from DATE-OBS'. [astropy.wcs.wcs]\n",
      "WARNING: FITSFixedWarning: 'obsfix' made the change 'Observatory coordinates incomplete'. [astropy.wcs.wcs]\n",
      "WARNING: FITSFixedWarning: 'datfix' made the change 'Set MJD-OBS to 58034.639742 from DATE-OBS'. [astropy.wcs.wcs]\n",
      "WARNING: FITSFixedWarning: 'obsfix' made the change 'Observatory coordinates incomplete'. [astropy.wcs.wcs]\n",
      "/tmp/ipykernel_28920/638030849.py:15: MatplotlibDeprecationWarning: Auto-removal of grids by pcolor() and pcolormesh() is deprecated since 3.5 and will be removed two minor releases later; please call grid(False) first.\n",
      "  cbar1 = fig.colorbar(img1, fraction=0.045)\n",
      "WARNING: FITSFixedWarning: 'datfix' made the change 'Set MJD-OBS to 58034.639742 from DATE-OBS'. [astropy.wcs.wcs]\n",
      "WARNING: FITSFixedWarning: 'obsfix' made the change 'Observatory coordinates incomplete'. [astropy.wcs.wcs]\n",
      "WARNING: FITSFixedWarning: 'datfix' made the change 'Set MJD-OBS to 58906.231702 from DATE-OBS'. [astropy.wcs.wcs]\n",
      "WARNING: FITSFixedWarning: 'obsfix' made the change 'Observatory coordinates incomplete'. [astropy.wcs.wcs]\n",
      "/tmp/ipykernel_28920/638030849.py:15: MatplotlibDeprecationWarning: Auto-removal of grids by pcolor() and pcolormesh() is deprecated since 3.5 and will be removed two minor releases later; please call grid(False) first.\n",
      "  cbar1 = fig.colorbar(img1, fraction=0.045)\n",
      "WARNING: FITSFixedWarning: 'datfix' made the change 'Set MJD-OBS to 58906.231702 from DATE-OBS'. [astropy.wcs.wcs]\n",
      "WARNING: FITSFixedWarning: 'obsfix' made the change 'Observatory coordinates incomplete'. [astropy.wcs.wcs]\n",
      "WARNING: FITSFixedWarning: 'datfix' made the change 'Set MJD-OBS to 58910.235509 from DATE-OBS'. [astropy.wcs.wcs]\n",
      "WARNING: FITSFixedWarning: 'obsfix' made the change 'Observatory coordinates incomplete'. [astropy.wcs.wcs]\n",
      "/tmp/ipykernel_28920/638030849.py:15: MatplotlibDeprecationWarning: Auto-removal of grids by pcolor() and pcolormesh() is deprecated since 3.5 and will be removed two minor releases later; please call grid(False) first.\n",
      "  cbar1 = fig.colorbar(img1, fraction=0.045)\n",
      "WARNING: FITSFixedWarning: 'datfix' made the change 'Set MJD-OBS to 58910.235509 from DATE-OBS'. [astropy.wcs.wcs]\n",
      "WARNING: FITSFixedWarning: 'obsfix' made the change 'Observatory coordinates incomplete'. [astropy.wcs.wcs]\n",
      "WARNING: FITSFixedWarning: 'datfix' made the change 'Set MJD-OBS to 58835.533518 from DATE-OBS'. [astropy.wcs.wcs]\n",
      "WARNING: FITSFixedWarning: 'obsfix' made the change 'Observatory coordinates incomplete'. [astropy.wcs.wcs]\n",
      "/tmp/ipykernel_28920/638030849.py:15: MatplotlibDeprecationWarning: Auto-removal of grids by pcolor() and pcolormesh() is deprecated since 3.5 and will be removed two minor releases later; please call grid(False) first.\n",
      "  cbar1 = fig.colorbar(img1, fraction=0.045)\n",
      "WARNING: FITSFixedWarning: 'datfix' made the change 'Set MJD-OBS to 58835.533518 from DATE-OBS'. [astropy.wcs.wcs]\n",
      "WARNING: FITSFixedWarning: 'obsfix' made the change 'Observatory coordinates incomplete'. [astropy.wcs.wcs]\n",
      "WARNING: FITSFixedWarning: 'datfix' made the change 'Set MJD-OBS to 58820.540981 from DATE-OBS'. [astropy.wcs.wcs]\n",
      "WARNING: FITSFixedWarning: 'obsfix' made the change 'Observatory coordinates incomplete'. [astropy.wcs.wcs]\n",
      "/tmp/ipykernel_28920/638030849.py:15: MatplotlibDeprecationWarning: Auto-removal of grids by pcolor() and pcolormesh() is deprecated since 3.5 and will be removed two minor releases later; please call grid(False) first.\n",
      "  cbar1 = fig.colorbar(img1, fraction=0.045)\n",
      "WARNING: FITSFixedWarning: 'datfix' made the change 'Set MJD-OBS to 58820.540981 from DATE-OBS'. [astropy.wcs.wcs]\n",
      "WARNING: FITSFixedWarning: 'obsfix' made the change 'Observatory coordinates incomplete'. [astropy.wcs.wcs]\n",
      "WARNING: FITSFixedWarning: 'datfix' made the change 'Set MJD-OBS to 57524.101317 from DATE-OBS'. [astropy.wcs.wcs]\n",
      "WARNING: FITSFixedWarning: 'obsfix' made the change 'Observatory coordinates incomplete'. [astropy.wcs.wcs]\n",
      "/tmp/ipykernel_28920/638030849.py:15: MatplotlibDeprecationWarning: Auto-removal of grids by pcolor() and pcolormesh() is deprecated since 3.5 and will be removed two minor releases later; please call grid(False) first.\n",
      "  cbar1 = fig.colorbar(img1, fraction=0.045)\n",
      "WARNING: FITSFixedWarning: 'datfix' made the change 'Set MJD-OBS to 57524.101317 from DATE-OBS'. [astropy.wcs.wcs]\n",
      "WARNING: FITSFixedWarning: 'obsfix' made the change 'Observatory coordinates incomplete'. [astropy.wcs.wcs]\n",
      "WARNING: FITSFixedWarning: 'datfix' made the change 'Set MJD-OBS to 58197.199664 from DATE-OBS'. [astropy.wcs.wcs]\n",
      "WARNING: FITSFixedWarning: 'obsfix' made the change 'Observatory coordinates incomplete'. [astropy.wcs.wcs]\n",
      "/tmp/ipykernel_28920/638030849.py:15: MatplotlibDeprecationWarning: Auto-removal of grids by pcolor() and pcolormesh() is deprecated since 3.5 and will be removed two minor releases later; please call grid(False) first.\n",
      "  cbar1 = fig.colorbar(img1, fraction=0.045)\n",
      "WARNING: FITSFixedWarning: 'datfix' made the change 'Set MJD-OBS to 58197.199664 from DATE-OBS'. [astropy.wcs.wcs]\n",
      "WARNING: FITSFixedWarning: 'obsfix' made the change 'Observatory coordinates incomplete'. [astropy.wcs.wcs]\n",
      "WARNING: FITSFixedWarning: 'datfix' made the change 'Set MJD-OBS to 58771.720579 from DATE-OBS'. [astropy.wcs.wcs]\n",
      "WARNING: FITSFixedWarning: 'obsfix' made the change 'Observatory coordinates incomplete'. [astropy.wcs.wcs]\n",
      "/tmp/ipykernel_28920/638030849.py:15: MatplotlibDeprecationWarning: Auto-removal of grids by pcolor() and pcolormesh() is deprecated since 3.5 and will be removed two minor releases later; please call grid(False) first.\n",
      "  cbar1 = fig.colorbar(img1, fraction=0.045)\n",
      "WARNING: FITSFixedWarning: 'datfix' made the change 'Set MJD-OBS to 58771.720579 from DATE-OBS'. [astropy.wcs.wcs]\n",
      "WARNING: FITSFixedWarning: 'obsfix' made the change 'Observatory coordinates incomplete'. [astropy.wcs.wcs]\n",
      "WARNING: FITSFixedWarning: 'datfix' made the change 'Set MJD-OBS to 58807.603859 from DATE-OBS'. [astropy.wcs.wcs]\n",
      "WARNING: FITSFixedWarning: 'obsfix' made the change 'Observatory coordinates incomplete'. [astropy.wcs.wcs]\n",
      "/tmp/ipykernel_28920/638030849.py:15: MatplotlibDeprecationWarning: Auto-removal of grids by pcolor() and pcolormesh() is deprecated since 3.5 and will be removed two minor releases later; please call grid(False) first.\n",
      "  cbar1 = fig.colorbar(img1, fraction=0.045)\n",
      "WARNING: FITSFixedWarning: 'datfix' made the change 'Set MJD-OBS to 58807.603859 from DATE-OBS'. [astropy.wcs.wcs]\n",
      "WARNING: FITSFixedWarning: 'obsfix' made the change 'Observatory coordinates incomplete'. [astropy.wcs.wcs]\n",
      "WARNING: FITSFixedWarning: 'datfix' made the change 'Set MJD-OBS to 58203.170749 from DATE-OBS'. [astropy.wcs.wcs]\n",
      "WARNING: FITSFixedWarning: 'obsfix' made the change 'Observatory coordinates incomplete'. [astropy.wcs.wcs]\n",
      "/tmp/ipykernel_28920/638030849.py:15: MatplotlibDeprecationWarning: Auto-removal of grids by pcolor() and pcolormesh() is deprecated since 3.5 and will be removed two minor releases later; please call grid(False) first.\n",
      "  cbar1 = fig.colorbar(img1, fraction=0.045)\n",
      "WARNING: FITSFixedWarning: 'datfix' made the change 'Set MJD-OBS to 58203.170749 from DATE-OBS'. [astropy.wcs.wcs]\n",
      "WARNING: FITSFixedWarning: 'obsfix' made the change 'Observatory coordinates incomplete'. [astropy.wcs.wcs]\n",
      "WARNING: FITSFixedWarning: 'datfix' made the change 'Set MJD-OBS to 58184.283297 from DATE-OBS'. [astropy.wcs.wcs]\n",
      "WARNING: FITSFixedWarning: 'obsfix' made the change 'Observatory coordinates incomplete'. [astropy.wcs.wcs]\n",
      "/tmp/ipykernel_28920/638030849.py:15: MatplotlibDeprecationWarning: Auto-removal of grids by pcolor() and pcolormesh() is deprecated since 3.5 and will be removed two minor releases later; please call grid(False) first.\n",
      "  cbar1 = fig.colorbar(img1, fraction=0.045)\n",
      "WARNING: FITSFixedWarning: 'datfix' made the change 'Set MJD-OBS to 58184.283297 from DATE-OBS'. [astropy.wcs.wcs]\n",
      "WARNING: FITSFixedWarning: 'obsfix' made the change 'Observatory coordinates incomplete'. [astropy.wcs.wcs]\n",
      "WARNING: FITSFixedWarning: 'datfix' made the change 'Set MJD-OBS to 58830.570338 from DATE-OBS'. [astropy.wcs.wcs]\n",
      "WARNING: FITSFixedWarning: 'obsfix' made the change 'Observatory coordinates incomplete'. [astropy.wcs.wcs]\n",
      "/tmp/ipykernel_28920/638030849.py:15: MatplotlibDeprecationWarning: Auto-removal of grids by pcolor() and pcolormesh() is deprecated since 3.5 and will be removed two minor releases later; please call grid(False) first.\n",
      "  cbar1 = fig.colorbar(img1, fraction=0.045)\n",
      "WARNING: FITSFixedWarning: 'datfix' made the change 'Set MJD-OBS to 58830.570338 from DATE-OBS'. [astropy.wcs.wcs]\n",
      "WARNING: FITSFixedWarning: 'obsfix' made the change 'Observatory coordinates incomplete'. [astropy.wcs.wcs]\n",
      "WARNING: FITSFixedWarning: 'datfix' made the change 'Set MJD-OBS to 58771.655996 from DATE-OBS'. [astropy.wcs.wcs]\n",
      "WARNING: FITSFixedWarning: 'obsfix' made the change 'Observatory coordinates incomplete'. [astropy.wcs.wcs]\n",
      "/tmp/ipykernel_28920/638030849.py:15: MatplotlibDeprecationWarning: Auto-removal of grids by pcolor() and pcolormesh() is deprecated since 3.5 and will be removed two minor releases later; please call grid(False) first.\n",
      "  cbar1 = fig.colorbar(img1, fraction=0.045)\n",
      "WARNING: FITSFixedWarning: 'datfix' made the change 'Set MJD-OBS to 58771.655996 from DATE-OBS'. [astropy.wcs.wcs]\n",
      "WARNING: FITSFixedWarning: 'obsfix' made the change 'Observatory coordinates incomplete'. [astropy.wcs.wcs]\n",
      "WARNING: FITSFixedWarning: 'datfix' made the change 'Set MJD-OBS to 58837.456786 from DATE-OBS'. [astropy.wcs.wcs]\n",
      "WARNING: FITSFixedWarning: 'obsfix' made the change 'Observatory coordinates incomplete'. [astropy.wcs.wcs]\n",
      "/tmp/ipykernel_28920/638030849.py:15: MatplotlibDeprecationWarning: Auto-removal of grids by pcolor() and pcolormesh() is deprecated since 3.5 and will be removed two minor releases later; please call grid(False) first.\n",
      "  cbar1 = fig.colorbar(img1, fraction=0.045)\n",
      "WARNING: FITSFixedWarning: 'datfix' made the change 'Set MJD-OBS to 58837.456786 from DATE-OBS'. [astropy.wcs.wcs]\n",
      "WARNING: FITSFixedWarning: 'obsfix' made the change 'Observatory coordinates incomplete'. [astropy.wcs.wcs]\n",
      "WARNING: FITSFixedWarning: 'datfix' made the change 'Set MJD-OBS to 58119.389391 from DATE-OBS'. [astropy.wcs.wcs]\n",
      "WARNING: FITSFixedWarning: 'obsfix' made the change 'Observatory coordinates incomplete'. [astropy.wcs.wcs]\n",
      "/tmp/ipykernel_28920/638030849.py:15: MatplotlibDeprecationWarning: Auto-removal of grids by pcolor() and pcolormesh() is deprecated since 3.5 and will be removed two minor releases later; please call grid(False) first.\n",
      "  cbar1 = fig.colorbar(img1, fraction=0.045)\n",
      "WARNING: FITSFixedWarning: 'datfix' made the change 'Set MJD-OBS to 58119.389391 from DATE-OBS'. [astropy.wcs.wcs]\n",
      "WARNING: FITSFixedWarning: 'obsfix' made the change 'Observatory coordinates incomplete'. [astropy.wcs.wcs]\n",
      "WARNING: FITSFixedWarning: 'datfix' made the change 'Set MJD-OBS to 58125.480975 from DATE-OBS'. [astropy.wcs.wcs]\n",
      "WARNING: FITSFixedWarning: 'obsfix' made the change 'Observatory coordinates incomplete'. [astropy.wcs.wcs]\n",
      "/tmp/ipykernel_28920/638030849.py:15: MatplotlibDeprecationWarning: Auto-removal of grids by pcolor() and pcolormesh() is deprecated since 3.5 and will be removed two minor releases later; please call grid(False) first.\n",
      "  cbar1 = fig.colorbar(img1, fraction=0.045)\n",
      "WARNING: FITSFixedWarning: 'datfix' made the change 'Set MJD-OBS to 58125.480975 from DATE-OBS'. [astropy.wcs.wcs]\n",
      "WARNING: FITSFixedWarning: 'obsfix' made the change 'Observatory coordinates incomplete'. [astropy.wcs.wcs]\n",
      "WARNING: FITSFixedWarning: 'datfix' made the change 'Set MJD-OBS to 58029.684441 from DATE-OBS'. [astropy.wcs.wcs]\n",
      "WARNING: FITSFixedWarning: 'obsfix' made the change 'Observatory coordinates incomplete'. [astropy.wcs.wcs]\n",
      "/tmp/ipykernel_28920/638030849.py:15: MatplotlibDeprecationWarning: Auto-removal of grids by pcolor() and pcolormesh() is deprecated since 3.5 and will be removed two minor releases later; please call grid(False) first.\n",
      "  cbar1 = fig.colorbar(img1, fraction=0.045)\n",
      "WARNING: FITSFixedWarning: 'datfix' made the change 'Set MJD-OBS to 58029.684441 from DATE-OBS'. [astropy.wcs.wcs]\n",
      "WARNING: FITSFixedWarning: 'obsfix' made the change 'Observatory coordinates incomplete'. [astropy.wcs.wcs]\n"
     ]
    },
    {
     "name": "stdout",
     "output_type": "stream",
     "text": [
      "Done!\n"
     ]
    }
   ],
   "source": [
    "for galname, i, gal_rp, r_kpc, gal_cen in zip(galaxies, inclinations, radial_profiles, radius_kpc, centers):\n",
    "    # if galname != \"NGC4222\":\n",
    "    #     continue\n",
    "    # print(gal_cen.to_string('hmsdms'))\n",
    "    is_high_i = i >= I_THRESHOLD\n",
    "    gal_wcs = WCS(gal_rp.rp_options[\"header\"])\n",
    "    #\n",
    "    fig = plt.figure(figsize=mpl.figure.figaspect(1.5))\n",
    "    ax1 = fig.add_subplot(2, 1, 1, projection=gal_wcs)\n",
    "    #\n",
    "    # Plot data\n",
    "    #\n",
    "    # img1 = ax1.imshow(gal_rp.data, cmap=sns.cubehelix_palette(start=.5, rot=-.75, as_cmap=True))\n",
    "    img1 = ax1.imshow(gal_rp.data, cmap=\"magma\", norm=mpl.colors.LogNorm())\n",
    "    cbar1 = fig.colorbar(img1, fraction=0.045)\n",
    "    cbar1.set_label(r\"$\\Sigma_{\\star}$ [$\\rm M_\\odot\\;pc^{-2}$]\")\n",
    "    # Mark centre\n",
    "    ax1.plot(*gal_wcs.world_to_pixel(gal_cen), marker=\"o\", color=\"c\", markersize=4)\n",
    "    # Add annuli\n",
    "    pu.add_annuli_RadialProfile(ax1, gal_rp)\n",
    "    # Add scalebar\n",
    "    scalebar_colour = \"grey\"\n",
    "    scalebar_alpha = 1\n",
    "    pu.add_scalebar(ax1, gal_wcs, dist=GALDIST, color=mpl.colors.to_rgba(scalebar_colour)[0:3] + (scalebar_alpha,))\n",
    "    pu.add_scalebeam(ax1, gal_rp.rp_options[\"header\"], ec=\"grey\", alpha=1)\n",
    "    ax1.set_xlim(0, gal_rp.data.shape[1])\n",
    "    ax1.set_ylim(0, gal_rp.data.shape[0])\n",
    "    ax1.set_xlabel(\"RA (J2000)\")\n",
    "    ax1.set_ylabel(\"Dec (J2000)\")\n",
    "    ax1.grid(False)\n",
    "    ax1.set_aspect(\"equal\")\n",
    "    #\n",
    "    ax2 = fig.add_subplot(2, 1, 2)\n",
    "    ebar2 = ax2.errorbar(\n",
    "        x=r_kpc,\n",
    "        y=gal_rp.avg_data,\n",
    "        yerr=gal_rp.avg_data_err,  # uncertainty in the mean/median from bootstrapping\n",
    "        fmt=\"-o\",\n",
    "        markersize=4,\n",
    "        color=\"k\",\n",
    "        ecolor=\"r\",\n",
    "        elinewidth=1,\n",
    "        capsize=2,\n",
    "    )\n",
    "    ebar2[-1][0].set_linestyle(\"--\")\n",
    "    ax2.semilogy()\n",
    "    # \n",
    "    # Add name of galaxy\n",
    "    # \n",
    "    high_i_str = \"*\" if gal_rp.i >= I_THRESHOLD else \"\"\n",
    "    ax2.text(\n",
    "        0.9,\n",
    "        0.9,\n",
    "        re.sub(r\"(\\d+)\", \" \\\\1\", galname) + high_i_str,\n",
    "        c=\"k\",\n",
    "        ha=\"right\",\n",
    "        transform=ax2.transAxes,\n",
    "    )\n",
    "    ax2.set_xlabel(\"Radius [kpc]\")\n",
    "    ax2.set_ylabel(\n",
    "        gal_rp.rp_options[\"func\"].capitalize()\n",
    "        + r\" $\\Sigma_{\\star}$ [$\\rm M_\\odot\\;pc^{-2}$]\"\n",
    "    )\n",
    "    ax2.set_xlim(left=0)\n",
    "    # pu.set_aspect(ax2, 0.9, logx=False, logy=True)\n",
    "    #\n",
    "    fig.tight_layout(pad=3.5)\n",
    "    # fig.savefig(SIG_STAR_PATH + f\"9as/{galname}_stellar_mass_density_9as_i_corr_noNorm{incl_bad_str}{fit_until_all_nans_str}.pdf\")\n",
    "    plt.close()\n",
    "print(\"Done!\")"
   ]
  },
  {
   "cell_type": "code",
   "execution_count": null,
   "id": "speaking-lending",
   "metadata": {},
   "outputs": [],
   "source": []
  },
  {
   "cell_type": "code",
   "execution_count": null,
   "id": "heavy-tissue",
   "metadata": {},
   "outputs": [],
   "source": []
  }
 ],
 "metadata": {
  "kernelspec": {
   "display_name": "Python 3 (ipykernel)",
   "language": "python",
   "name": "python3"
  },
  "language_info": {
   "codemirror_mode": {
    "name": "ipython",
    "version": 3
   },
   "file_extension": ".py",
   "mimetype": "text/x-python",
   "name": "python",
   "nbconvert_exporter": "python",
   "pygments_lexer": "ipython3",
   "version": "3.8.6"
  }
 },
 "nbformat": 4,
 "nbformat_minor": 5
}
