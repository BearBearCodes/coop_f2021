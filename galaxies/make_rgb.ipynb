{
 "cells": [
  {
   "cell_type": "markdown",
   "id": "graphic-while",
   "metadata": {},
   "source": [
    "# Make median-normalized, false-colour RGB images of the NGVS-VERTICO galaxies\n",
    "\n",
    "Isaac Cheng - November 2021\n",
    "\n",
    "Convert i-band, g-band, and u-band data to red, green, and blue channels, respectively. Note that we ignore the flag maps for the RGB images.\n"
   ]
  },
  {
   "cell_type": "code",
   "execution_count": 1,
   "id": "protecting-stadium",
   "metadata": {},
   "outputs": [],
   "source": [
    "import re\n",
    "import astropy.units as u\n",
    "import numpy as np\n",
    "import matplotlib.pyplot as plt\n",
    "from astropy.io import fits\n",
    "from astropy.wcs import WCS\n",
    "# \n",
    "# Load my own packages\n",
    "# \n",
    "import sys\n",
    "sys.path.append(\"/arc/home/IsaacCheng/coop_f2021/packages\")\n",
    "import fits_utils as fu\n",
    "import plot_utils as pu\n",
    "# # Reload my packages\n",
    "# import importlib\n",
    "# importlib.reload(fu)\n",
    "# importlib.reload(pu)\n",
    "GALDIST = 16.5 * u.Mpc  # distance to centre of Virgo cluster. Assume 10% uncertainty"
   ]
  },
  {
   "cell_type": "code",
   "execution_count": 2,
   "id": "narrative-cologne",
   "metadata": {
    "collapsed": true,
    "jupyter": {
     "outputs_hidden": true
    }
   },
   "outputs": [
    {
     "name": "stdout",
     "output_type": "stream",
     "text": [
      "Making IC3392 RGB image\n"
     ]
    },
    {
     "name": "stderr",
     "output_type": "stream",
     "text": [
      "WARNING: FITSFixedWarning: 'datfix' made the change 'Set MJD-OBS to 58857.486979 from DATE-OBS'. [astropy.wcs.wcs]\n",
      "WARNING: FITSFixedWarning: 'obsfix' made the change 'Observatory coordinates incomplete'. [astropy.wcs.wcs]\n",
      "WARNING: FITSFixedWarning: RADECSYS= 'ICRS ' / Astrometric system \n",
      "the RADECSYS keyword is deprecated, use RADESYSa. [astropy.wcs.wcs]\n",
      "WARNING: FITSFixedWarning: RADECSYS= 'ICRS ' / Astrometric system \n",
      "the RADECSYS keyword is deprecated, use RADESYSa. [astropy.wcs.wcs]\n",
      "WARNING: FITSFixedWarning: RADECSYS= 'ICRS ' / Astrometric system \n",
      "the RADECSYS keyword is deprecated, use RADESYSa. [astropy.wcs.wcs]\n"
     ]
    },
    {
     "name": "stdout",
     "output_type": "stream",
     "text": [
      "Making NGC4189 RGB image\n"
     ]
    },
    {
     "name": "stderr",
     "output_type": "stream",
     "text": [
      "WARNING: FITSFixedWarning: 'datfix' made the change 'Set MJD-OBS to 58797.517684 from DATE-OBS'. [astropy.wcs.wcs]\n",
      "WARNING: FITSFixedWarning: 'obsfix' made the change 'Observatory coordinates incomplete'. [astropy.wcs.wcs]\n",
      "WARNING: FITSFixedWarning: RADECSYS= 'ICRS ' / Astrometric system \n",
      "the RADECSYS keyword is deprecated, use RADESYSa. [astropy.wcs.wcs]\n",
      "WARNING: FITSFixedWarning: RADECSYS= 'ICRS ' / Astrometric system \n",
      "the RADECSYS keyword is deprecated, use RADESYSa. [astropy.wcs.wcs]\n",
      "WARNING: FITSFixedWarning: RADECSYS= 'ICRS ' / Astrometric system \n",
      "the RADECSYS keyword is deprecated, use RADESYSa. [astropy.wcs.wcs]\n"
     ]
    },
    {
     "name": "stdout",
     "output_type": "stream",
     "text": [
      "Making NGC4192 RGB image\n"
     ]
    },
    {
     "name": "stderr",
     "output_type": "stream",
     "text": [
      "WARNING: FITSFixedWarning: 'datfix' made the change 'Set MJD-OBS to 58821.370833 from DATE-OBS'. [astropy.wcs.wcs]\n",
      "WARNING: FITSFixedWarning: 'obsfix' made the change 'Observatory coordinates incomplete'. [astropy.wcs.wcs]\n",
      "WARNING: FITSFixedWarning: RADECSYS= 'ICRS ' / Astrometric system \n",
      "the RADECSYS keyword is deprecated, use RADESYSa. [astropy.wcs.wcs]\n",
      "WARNING: FITSFixedWarning: RADECSYS= 'ICRS ' / Astrometric system \n",
      "the RADECSYS keyword is deprecated, use RADESYSa. [astropy.wcs.wcs]\n",
      "WARNING: FITSFixedWarning: RADECSYS= 'ICRS ' / Astrometric system \n",
      "the RADECSYS keyword is deprecated, use RADESYSa. [astropy.wcs.wcs]\n"
     ]
    },
    {
     "name": "stdout",
     "output_type": "stream",
     "text": [
      "Making NGC4216 RGB image\n"
     ]
    },
    {
     "name": "stderr",
     "output_type": "stream",
     "text": [
      "WARNING: FITSFixedWarning: 'datfix' made the change 'Set MJD-OBS to 58822.371327 from DATE-OBS'. [astropy.wcs.wcs]\n",
      "WARNING: FITSFixedWarning: 'obsfix' made the change 'Observatory coordinates incomplete'. [astropy.wcs.wcs]\n",
      "WARNING: FITSFixedWarning: RADECSYS= 'ICRS ' / Astrometric system \n",
      "the RADECSYS keyword is deprecated, use RADESYSa. [astropy.wcs.wcs]\n",
      "WARNING: FITSFixedWarning: RADECSYS= 'ICRS ' / Astrometric system \n",
      "the RADECSYS keyword is deprecated, use RADESYSa. [astropy.wcs.wcs]\n",
      "WARNING: FITSFixedWarning: RADECSYS= 'ICRS ' / Astrometric system \n",
      "the RADECSYS keyword is deprecated, use RADESYSa. [astropy.wcs.wcs]\n"
     ]
    },
    {
     "name": "stdout",
     "output_type": "stream",
     "text": [
      "Making NGC4222 RGB image\n"
     ]
    },
    {
     "name": "stderr",
     "output_type": "stream",
     "text": [
      "WARNING: FITSFixedWarning: 'datfix' made the change 'Set MJD-OBS to 58832.392244 from DATE-OBS'. [astropy.wcs.wcs]\n",
      "WARNING: FITSFixedWarning: 'obsfix' made the change 'Observatory coordinates incomplete'. [astropy.wcs.wcs]\n",
      "WARNING: FITSFixedWarning: RADECSYS= 'ICRS ' / Astrometric system \n",
      "the RADECSYS keyword is deprecated, use RADESYSa. [astropy.wcs.wcs]\n",
      "WARNING: FITSFixedWarning: RADECSYS= 'ICRS ' / Astrometric system \n",
      "the RADECSYS keyword is deprecated, use RADESYSa. [astropy.wcs.wcs]\n",
      "WARNING: FITSFixedWarning: RADECSYS= 'ICRS ' / Astrometric system \n",
      "the RADECSYS keyword is deprecated, use RADESYSa. [astropy.wcs.wcs]\n"
     ]
    },
    {
     "name": "stdout",
     "output_type": "stream",
     "text": [
      "Making NGC4254 RGB image\n"
     ]
    },
    {
     "name": "stderr",
     "output_type": "stream",
     "text": [
      "WARNING: FITSFixedWarning: 'datfix' made the change 'Set MJD-OBS to 57613.735997 from DATE-OBS'. [astropy.wcs.wcs]\n",
      "WARNING: FITSFixedWarning: 'obsfix' made the change 'Observatory coordinates incomplete'. [astropy.wcs.wcs]\n",
      "WARNING: FITSFixedWarning: RADECSYS= 'ICRS ' / Astrometric system \n",
      "the RADECSYS keyword is deprecated, use RADESYSa. [astropy.wcs.wcs]\n",
      "WARNING: FITSFixedWarning: RADECSYS= 'ICRS ' / Astrometric system \n",
      "the RADECSYS keyword is deprecated, use RADESYSa. [astropy.wcs.wcs]\n",
      "WARNING: FITSFixedWarning: RADECSYS= 'ICRS ' / Astrometric system \n",
      "the RADECSYS keyword is deprecated, use RADESYSa. [astropy.wcs.wcs]\n"
     ]
    },
    {
     "name": "stdout",
     "output_type": "stream",
     "text": [
      "Making NGC4294 RGB image\n"
     ]
    },
    {
     "name": "stderr",
     "output_type": "stream",
     "text": [
      "WARNING: FITSFixedWarning: 'datfix' made the change 'Set MJD-OBS to 58855.352029 from DATE-OBS'. [astropy.wcs.wcs]\n",
      "WARNING: FITSFixedWarning: 'obsfix' made the change 'Observatory coordinates incomplete'. [astropy.wcs.wcs]\n",
      "WARNING: FITSFixedWarning: RADECSYS= 'ICRS ' / Astrometric system \n",
      "the RADECSYS keyword is deprecated, use RADESYSa. [astropy.wcs.wcs]\n",
      "WARNING: FITSFixedWarning: RADECSYS= 'ICRS ' / Astrometric system \n",
      "the RADECSYS keyword is deprecated, use RADESYSa. [astropy.wcs.wcs]\n",
      "WARNING: FITSFixedWarning: RADECSYS= 'ICRS ' / Astrometric system \n",
      "the RADECSYS keyword is deprecated, use RADESYSa. [astropy.wcs.wcs]\n"
     ]
    },
    {
     "name": "stdout",
     "output_type": "stream",
     "text": [
      "Making NGC4298 RGB image\n"
     ]
    },
    {
     "name": "stderr",
     "output_type": "stream",
     "text": [
      "WARNING: FITSFixedWarning: 'datfix' made the change 'Set MJD-OBS to 58125.369839 from DATE-OBS'. [astropy.wcs.wcs]\n",
      "WARNING: FITSFixedWarning: 'obsfix' made the change 'Observatory coordinates incomplete'. [astropy.wcs.wcs]\n",
      "WARNING: FITSFixedWarning: RADECSYS= 'ICRS ' / Astrometric system \n",
      "the RADECSYS keyword is deprecated, use RADESYSa. [astropy.wcs.wcs]\n",
      "WARNING: FITSFixedWarning: RADECSYS= 'ICRS ' / Astrometric system \n",
      "the RADECSYS keyword is deprecated, use RADESYSa. [astropy.wcs.wcs]\n",
      "WARNING: FITSFixedWarning: RADECSYS= 'ICRS ' / Astrometric system \n",
      "the RADECSYS keyword is deprecated, use RADESYSa. [astropy.wcs.wcs]\n"
     ]
    },
    {
     "name": "stdout",
     "output_type": "stream",
     "text": [
      "Making NGC4299 RGB image\n"
     ]
    },
    {
     "name": "stderr",
     "output_type": "stream",
     "text": [
      "WARNING: FITSFixedWarning: 'datfix' made the change 'Set MJD-OBS to 58786.495183 from DATE-OBS'. [astropy.wcs.wcs]\n",
      "WARNING: FITSFixedWarning: 'obsfix' made the change 'Observatory coordinates incomplete'. [astropy.wcs.wcs]\n",
      "WARNING: FITSFixedWarning: RADECSYS= 'ICRS ' / Astrometric system \n",
      "the RADECSYS keyword is deprecated, use RADESYSa. [astropy.wcs.wcs]\n",
      "WARNING: FITSFixedWarning: RADECSYS= 'ICRS ' / Astrometric system \n",
      "the RADECSYS keyword is deprecated, use RADESYSa. [astropy.wcs.wcs]\n",
      "WARNING: FITSFixedWarning: RADECSYS= 'ICRS ' / Astrometric system \n",
      "the RADECSYS keyword is deprecated, use RADESYSa. [astropy.wcs.wcs]\n"
     ]
    },
    {
     "name": "stdout",
     "output_type": "stream",
     "text": [
      "Making NGC4302 RGB image\n"
     ]
    },
    {
     "name": "stderr",
     "output_type": "stream",
     "text": [
      "WARNING: FITSFixedWarning: 'datfix' made the change 'Set MJD-OBS to 58827.396029 from DATE-OBS'. [astropy.wcs.wcs]\n",
      "WARNING: FITSFixedWarning: 'obsfix' made the change 'Observatory coordinates incomplete'. [astropy.wcs.wcs]\n",
      "WARNING: FITSFixedWarning: RADECSYS= 'ICRS ' / Astrometric system \n",
      "the RADECSYS keyword is deprecated, use RADESYSa. [astropy.wcs.wcs]\n",
      "WARNING: FITSFixedWarning: RADECSYS= 'ICRS ' / Astrometric system \n",
      "the RADECSYS keyword is deprecated, use RADESYSa. [astropy.wcs.wcs]\n",
      "WARNING: FITSFixedWarning: RADECSYS= 'ICRS ' / Astrometric system \n",
      "the RADECSYS keyword is deprecated, use RADESYSa. [astropy.wcs.wcs]\n"
     ]
    },
    {
     "name": "stdout",
     "output_type": "stream",
     "text": [
      "Making NGC4321 RGB image\n"
     ]
    },
    {
     "name": "stderr",
     "output_type": "stream",
     "text": [
      "WARNING: FITSFixedWarning: 'datfix' made the change 'Set MJD-OBS to 57594.978228 from DATE-OBS'. [astropy.wcs.wcs]\n",
      "WARNING: FITSFixedWarning: 'obsfix' made the change 'Observatory coordinates incomplete'. [astropy.wcs.wcs]\n",
      "WARNING: FITSFixedWarning: RADECSYS= 'ICRS ' / Astrometric system \n",
      "the RADECSYS keyword is deprecated, use RADESYSa. [astropy.wcs.wcs]\n",
      "WARNING: FITSFixedWarning: RADECSYS= 'ICRS ' / Astrometric system \n",
      "the RADECSYS keyword is deprecated, use RADESYSa. [astropy.wcs.wcs]\n",
      "WARNING: FITSFixedWarning: RADECSYS= 'ICRS ' / Astrometric system \n",
      "the RADECSYS keyword is deprecated, use RADESYSa. [astropy.wcs.wcs]\n"
     ]
    },
    {
     "name": "stdout",
     "output_type": "stream",
     "text": [
      "Making NGC4330 RGB image\n"
     ]
    },
    {
     "name": "stderr",
     "output_type": "stream",
     "text": [
      "WARNING: FITSFixedWarning: 'datfix' made the change 'Set MJD-OBS to 58811.578396 from DATE-OBS'. [astropy.wcs.wcs]\n",
      "WARNING: FITSFixedWarning: 'obsfix' made the change 'Observatory coordinates incomplete'. [astropy.wcs.wcs]\n",
      "WARNING: FITSFixedWarning: RADECSYS= 'ICRS ' / Astrometric system \n",
      "the RADECSYS keyword is deprecated, use RADESYSa. [astropy.wcs.wcs]\n",
      "WARNING: FITSFixedWarning: RADECSYS= 'ICRS ' / Astrometric system \n",
      "the RADECSYS keyword is deprecated, use RADESYSa. [astropy.wcs.wcs]\n",
      "WARNING: FITSFixedWarning: RADECSYS= 'ICRS ' / Astrometric system \n",
      "the RADECSYS keyword is deprecated, use RADESYSa. [astropy.wcs.wcs]\n"
     ]
    },
    {
     "name": "stdout",
     "output_type": "stream",
     "text": [
      "Making NGC4351 RGB image\n"
     ]
    },
    {
     "name": "stderr",
     "output_type": "stream",
     "text": [
      "WARNING: FITSFixedWarning: 'datfix' made the change 'Set MJD-OBS to 58837.406607 from DATE-OBS'. [astropy.wcs.wcs]\n",
      "WARNING: FITSFixedWarning: 'obsfix' made the change 'Observatory coordinates incomplete'. [astropy.wcs.wcs]\n",
      "WARNING: FITSFixedWarning: RADECSYS= 'ICRS ' / Astrometric system \n",
      "the RADECSYS keyword is deprecated, use RADESYSa. [astropy.wcs.wcs]\n",
      "WARNING: FITSFixedWarning: RADECSYS= 'ICRS ' / Astrometric system \n",
      "the RADECSYS keyword is deprecated, use RADESYSa. [astropy.wcs.wcs]\n",
      "WARNING: FITSFixedWarning: RADECSYS= 'ICRS ' / Astrometric system \n",
      "the RADECSYS keyword is deprecated, use RADESYSa. [astropy.wcs.wcs]\n"
     ]
    },
    {
     "name": "stdout",
     "output_type": "stream",
     "text": [
      "Making NGC4380 RGB image\n"
     ]
    },
    {
     "name": "stderr",
     "output_type": "stream",
     "text": [
      "WARNING: FITSFixedWarning: 'datfix' made the change 'Set MJD-OBS to 58823.434418 from DATE-OBS'. [astropy.wcs.wcs]\n",
      "WARNING: FITSFixedWarning: 'obsfix' made the change 'Observatory coordinates incomplete'. [astropy.wcs.wcs]\n",
      "WARNING: FITSFixedWarning: RADECSYS= 'ICRS ' / Astrometric system \n",
      "the RADECSYS keyword is deprecated, use RADESYSa. [astropy.wcs.wcs]\n",
      "WARNING: FITSFixedWarning: RADECSYS= 'ICRS ' / Astrometric system \n",
      "the RADECSYS keyword is deprecated, use RADESYSa. [astropy.wcs.wcs]\n",
      "WARNING: FITSFixedWarning: RADECSYS= 'ICRS ' / Astrometric system \n",
      "the RADECSYS keyword is deprecated, use RADESYSa. [astropy.wcs.wcs]\n"
     ]
    },
    {
     "name": "stdout",
     "output_type": "stream",
     "text": [
      "Making NGC4383 RGB image\n"
     ]
    },
    {
     "name": "stderr",
     "output_type": "stream",
     "text": [
      "WARNING: FITSFixedWarning: 'datfix' made the change 'Set MJD-OBS to 58838.438545 from DATE-OBS'. [astropy.wcs.wcs]\n",
      "WARNING: FITSFixedWarning: 'obsfix' made the change 'Observatory coordinates incomplete'. [astropy.wcs.wcs]\n",
      "WARNING: FITSFixedWarning: RADECSYS= 'ICRS ' / Astrometric system \n",
      "the RADECSYS keyword is deprecated, use RADESYSa. [astropy.wcs.wcs]\n",
      "WARNING: FITSFixedWarning: RADECSYS= 'ICRS ' / Astrometric system \n",
      "the RADECSYS keyword is deprecated, use RADESYSa. [astropy.wcs.wcs]\n",
      "WARNING: FITSFixedWarning: RADECSYS= 'ICRS ' / Astrometric system \n",
      "the RADECSYS keyword is deprecated, use RADESYSa. [astropy.wcs.wcs]\n"
     ]
    },
    {
     "name": "stdout",
     "output_type": "stream",
     "text": [
      "Making NGC4388 RGB image\n"
     ]
    },
    {
     "name": "stderr",
     "output_type": "stream",
     "text": [
      "WARNING: FITSFixedWarning: 'datfix' made the change 'Set MJD-OBS to 58839.379235 from DATE-OBS'. [astropy.wcs.wcs]\n",
      "WARNING: FITSFixedWarning: 'obsfix' made the change 'Observatory coordinates incomplete'. [astropy.wcs.wcs]\n",
      "WARNING: FITSFixedWarning: RADECSYS= 'ICRS ' / Astrometric system \n",
      "the RADECSYS keyword is deprecated, use RADESYSa. [astropy.wcs.wcs]\n",
      "WARNING: FITSFixedWarning: RADECSYS= 'ICRS ' / Astrometric system \n",
      "the RADECSYS keyword is deprecated, use RADESYSa. [astropy.wcs.wcs]\n",
      "WARNING: FITSFixedWarning: RADECSYS= 'ICRS ' / Astrometric system \n",
      "the RADECSYS keyword is deprecated, use RADESYSa. [astropy.wcs.wcs]\n"
     ]
    },
    {
     "name": "stdout",
     "output_type": "stream",
     "text": [
      "Making NGC4396 RGB image\n"
     ]
    },
    {
     "name": "stderr",
     "output_type": "stream",
     "text": [
      "WARNING: FITSFixedWarning: 'datfix' made the change 'Set MJD-OBS to 58858.416048 from DATE-OBS'. [astropy.wcs.wcs]\n",
      "WARNING: FITSFixedWarning: 'obsfix' made the change 'Observatory coordinates incomplete'. [astropy.wcs.wcs]\n",
      "WARNING: FITSFixedWarning: RADECSYS= 'ICRS ' / Astrometric system \n",
      "the RADECSYS keyword is deprecated, use RADESYSa. [astropy.wcs.wcs]\n",
      "WARNING: FITSFixedWarning: RADECSYS= 'ICRS ' / Astrometric system \n",
      "the RADECSYS keyword is deprecated, use RADESYSa. [astropy.wcs.wcs]\n",
      "WARNING: FITSFixedWarning: RADECSYS= 'ICRS ' / Astrometric system \n",
      "the RADECSYS keyword is deprecated, use RADESYSa. [astropy.wcs.wcs]\n"
     ]
    },
    {
     "name": "stdout",
     "output_type": "stream",
     "text": [
      "Making NGC4402 RGB image\n"
     ]
    },
    {
     "name": "stderr",
     "output_type": "stream",
     "text": [
      "WARNING: FITSFixedWarning: 'datfix' made the change 'Set MJD-OBS to 57729.380956 from DATE-OBS'. [astropy.wcs.wcs]\n",
      "WARNING: FITSFixedWarning: 'obsfix' made the change 'Observatory coordinates incomplete'. [astropy.wcs.wcs]\n",
      "WARNING: FITSFixedWarning: RADECSYS= 'ICRS ' / Astrometric system \n",
      "the RADECSYS keyword is deprecated, use RADESYSa. [astropy.wcs.wcs]\n",
      "WARNING: FITSFixedWarning: RADECSYS= 'ICRS ' / Astrometric system \n",
      "the RADECSYS keyword is deprecated, use RADESYSa. [astropy.wcs.wcs]\n",
      "WARNING: FITSFixedWarning: RADECSYS= 'ICRS ' / Astrometric system \n",
      "the RADECSYS keyword is deprecated, use RADESYSa. [astropy.wcs.wcs]\n"
     ]
    },
    {
     "name": "stdout",
     "output_type": "stream",
     "text": [
      "Making NGC4405 RGB image\n"
     ]
    },
    {
     "name": "stderr",
     "output_type": "stream",
     "text": [
      "WARNING: FITSFixedWarning: 'datfix' made the change 'Set MJD-OBS to 58800.586857 from DATE-OBS'. [astropy.wcs.wcs]\n",
      "WARNING: FITSFixedWarning: 'obsfix' made the change 'Observatory coordinates incomplete'. [astropy.wcs.wcs]\n",
      "WARNING: FITSFixedWarning: RADECSYS= 'ICRS ' / Astrometric system \n",
      "the RADECSYS keyword is deprecated, use RADESYSa. [astropy.wcs.wcs]\n",
      "WARNING: FITSFixedWarning: RADECSYS= 'ICRS ' / Astrometric system \n",
      "the RADECSYS keyword is deprecated, use RADESYSa. [astropy.wcs.wcs]\n",
      "WARNING: FITSFixedWarning: RADECSYS= 'ICRS ' / Astrometric system \n",
      "the RADECSYS keyword is deprecated, use RADESYSa. [astropy.wcs.wcs]\n"
     ]
    },
    {
     "name": "stdout",
     "output_type": "stream",
     "text": [
      "Making NGC4419 RGB image\n"
     ]
    },
    {
     "name": "stderr",
     "output_type": "stream",
     "text": [
      "WARNING: FITSFixedWarning: 'datfix' made the change 'Set MJD-OBS to 58855.371869 from DATE-OBS'. [astropy.wcs.wcs]\n",
      "WARNING: FITSFixedWarning: 'obsfix' made the change 'Observatory coordinates incomplete'. [astropy.wcs.wcs]\n",
      "WARNING: FITSFixedWarning: RADECSYS= 'ICRS ' / Astrometric system \n",
      "the RADECSYS keyword is deprecated, use RADESYSa. [astropy.wcs.wcs]\n",
      "WARNING: FITSFixedWarning: RADECSYS= 'ICRS ' / Astrometric system \n",
      "the RADECSYS keyword is deprecated, use RADESYSa. [astropy.wcs.wcs]\n",
      "WARNING: FITSFixedWarning: RADECSYS= 'ICRS ' / Astrometric system \n",
      "the RADECSYS keyword is deprecated, use RADESYSa. [astropy.wcs.wcs]\n"
     ]
    },
    {
     "name": "stdout",
     "output_type": "stream",
     "text": [
      "Making NGC4424 RGB image\n"
     ]
    },
    {
     "name": "stderr",
     "output_type": "stream",
     "text": [
      "WARNING: FITSFixedWarning: 'datfix' made the change 'Set MJD-OBS to 58034.639742 from DATE-OBS'. [astropy.wcs.wcs]\n",
      "WARNING: FITSFixedWarning: 'obsfix' made the change 'Observatory coordinates incomplete'. [astropy.wcs.wcs]\n",
      "WARNING: FITSFixedWarning: RADECSYS= 'ICRS ' / Astrometric system \n",
      "the RADECSYS keyword is deprecated, use RADESYSa. [astropy.wcs.wcs]\n",
      "WARNING: FITSFixedWarning: RADECSYS= 'ICRS ' / Astrometric system \n",
      "the RADECSYS keyword is deprecated, use RADESYSa. [astropy.wcs.wcs]\n",
      "WARNING: FITSFixedWarning: RADECSYS= 'ICRS ' / Astrometric system \n",
      "the RADECSYS keyword is deprecated, use RADESYSa. [astropy.wcs.wcs]\n"
     ]
    },
    {
     "name": "stdout",
     "output_type": "stream",
     "text": [
      "Making NGC4450 RGB image\n"
     ]
    },
    {
     "name": "stderr",
     "output_type": "stream",
     "text": [
      "WARNING: FITSFixedWarning: 'datfix' made the change 'Set MJD-OBS to 58906.231702 from DATE-OBS'. [astropy.wcs.wcs]\n",
      "WARNING: FITSFixedWarning: 'obsfix' made the change 'Observatory coordinates incomplete'. [astropy.wcs.wcs]\n",
      "WARNING: FITSFixedWarning: RADECSYS= 'ICRS ' / Astrometric system \n",
      "the RADECSYS keyword is deprecated, use RADESYSa. [astropy.wcs.wcs]\n",
      "WARNING: FITSFixedWarning: RADECSYS= 'ICRS ' / Astrometric system \n",
      "the RADECSYS keyword is deprecated, use RADESYSa. [astropy.wcs.wcs]\n",
      "WARNING: FITSFixedWarning: RADECSYS= 'ICRS ' / Astrometric system \n",
      "the RADECSYS keyword is deprecated, use RADESYSa. [astropy.wcs.wcs]\n"
     ]
    },
    {
     "name": "stdout",
     "output_type": "stream",
     "text": [
      "Making NGC4501 RGB image\n"
     ]
    },
    {
     "name": "stderr",
     "output_type": "stream",
     "text": [
      "WARNING: FITSFixedWarning: 'datfix' made the change 'Set MJD-OBS to 58910.235509 from DATE-OBS'. [astropy.wcs.wcs]\n",
      "WARNING: FITSFixedWarning: 'obsfix' made the change 'Observatory coordinates incomplete'. [astropy.wcs.wcs]\n",
      "WARNING: FITSFixedWarning: RADECSYS= 'ICRS ' / Astrometric system \n",
      "the RADECSYS keyword is deprecated, use RADESYSa. [astropy.wcs.wcs]\n",
      "WARNING: FITSFixedWarning: RADECSYS= 'ICRS ' / Astrometric system \n",
      "the RADECSYS keyword is deprecated, use RADESYSa. [astropy.wcs.wcs]\n",
      "WARNING: FITSFixedWarning: RADECSYS= 'ICRS ' / Astrometric system \n",
      "the RADECSYS keyword is deprecated, use RADESYSa. [astropy.wcs.wcs]\n"
     ]
    },
    {
     "name": "stdout",
     "output_type": "stream",
     "text": [
      "Making NGC4522 RGB image\n"
     ]
    },
    {
     "name": "stderr",
     "output_type": "stream",
     "text": [
      "WARNING: FITSFixedWarning: 'datfix' made the change 'Set MJD-OBS to 58835.533518 from DATE-OBS'. [astropy.wcs.wcs]\n",
      "WARNING: FITSFixedWarning: 'obsfix' made the change 'Observatory coordinates incomplete'. [astropy.wcs.wcs]\n",
      "WARNING: FITSFixedWarning: RADECSYS= 'ICRS ' / Astrometric system \n",
      "the RADECSYS keyword is deprecated, use RADESYSa. [astropy.wcs.wcs]\n",
      "WARNING: FITSFixedWarning: RADECSYS= 'ICRS ' / Astrometric system \n",
      "the RADECSYS keyword is deprecated, use RADESYSa. [astropy.wcs.wcs]\n",
      "WARNING: FITSFixedWarning: RADECSYS= 'ICRS ' / Astrometric system \n",
      "the RADECSYS keyword is deprecated, use RADESYSa. [astropy.wcs.wcs]\n"
     ]
    },
    {
     "name": "stdout",
     "output_type": "stream",
     "text": [
      "Making NGC4532 RGB image\n"
     ]
    },
    {
     "name": "stderr",
     "output_type": "stream",
     "text": [
      "WARNING: FITSFixedWarning: 'datfix' made the change 'Set MJD-OBS to 58820.540981 from DATE-OBS'. [astropy.wcs.wcs]\n",
      "WARNING: FITSFixedWarning: 'obsfix' made the change 'Observatory coordinates incomplete'. [astropy.wcs.wcs]\n",
      "WARNING: FITSFixedWarning: RADECSYS= 'ICRS ' / Astrometric system \n",
      "the RADECSYS keyword is deprecated, use RADESYSa. [astropy.wcs.wcs]\n",
      "WARNING: FITSFixedWarning: RADECSYS= 'ICRS ' / Astrometric system \n",
      "the RADECSYS keyword is deprecated, use RADESYSa. [astropy.wcs.wcs]\n",
      "WARNING: FITSFixedWarning: RADECSYS= 'ICRS ' / Astrometric system \n",
      "the RADECSYS keyword is deprecated, use RADESYSa. [astropy.wcs.wcs]\n"
     ]
    },
    {
     "name": "stdout",
     "output_type": "stream",
     "text": [
      "Making NGC4535 RGB image\n"
     ]
    },
    {
     "name": "stderr",
     "output_type": "stream",
     "text": [
      "WARNING: FITSFixedWarning: 'datfix' made the change 'Set MJD-OBS to 57524.101317 from DATE-OBS'. [astropy.wcs.wcs]\n",
      "WARNING: FITSFixedWarning: 'obsfix' made the change 'Observatory coordinates incomplete'. [astropy.wcs.wcs]\n",
      "WARNING: FITSFixedWarning: RADECSYS= 'ICRS ' / Astrometric system \n",
      "the RADECSYS keyword is deprecated, use RADESYSa. [astropy.wcs.wcs]\n",
      "WARNING: FITSFixedWarning: RADECSYS= 'ICRS ' / Astrometric system \n",
      "the RADECSYS keyword is deprecated, use RADESYSa. [astropy.wcs.wcs]\n",
      "WARNING: FITSFixedWarning: RADECSYS= 'ICRS ' / Astrometric system \n",
      "the RADECSYS keyword is deprecated, use RADESYSa. [astropy.wcs.wcs]\n"
     ]
    },
    {
     "name": "stdout",
     "output_type": "stream",
     "text": [
      "Making NGC4548 RGB image\n"
     ]
    },
    {
     "name": "stderr",
     "output_type": "stream",
     "text": [
      "WARNING: FITSFixedWarning: 'datfix' made the change 'Set MJD-OBS to 58197.199664 from DATE-OBS'. [astropy.wcs.wcs]\n",
      "WARNING: FITSFixedWarning: 'obsfix' made the change 'Observatory coordinates incomplete'. [astropy.wcs.wcs]\n",
      "WARNING: FITSFixedWarning: RADECSYS= 'ICRS ' / Astrometric system \n",
      "the RADECSYS keyword is deprecated, use RADESYSa. [astropy.wcs.wcs]\n",
      "WARNING: FITSFixedWarning: RADECSYS= 'ICRS ' / Astrometric system \n",
      "the RADECSYS keyword is deprecated, use RADESYSa. [astropy.wcs.wcs]\n",
      "WARNING: FITSFixedWarning: RADECSYS= 'ICRS ' / Astrometric system \n",
      "the RADECSYS keyword is deprecated, use RADESYSa. [astropy.wcs.wcs]\n"
     ]
    },
    {
     "name": "stdout",
     "output_type": "stream",
     "text": [
      "Making NGC4567 RGB image\n"
     ]
    },
    {
     "name": "stderr",
     "output_type": "stream",
     "text": [
      "WARNING: FITSFixedWarning: 'datfix' made the change 'Set MJD-OBS to 58771.720579 from DATE-OBS'. [astropy.wcs.wcs]\n",
      "WARNING: FITSFixedWarning: 'obsfix' made the change 'Observatory coordinates incomplete'. [astropy.wcs.wcs]\n",
      "WARNING: FITSFixedWarning: RADECSYS= 'ICRS ' / Astrometric system \n",
      "the RADECSYS keyword is deprecated, use RADESYSa. [astropy.wcs.wcs]\n",
      "WARNING: FITSFixedWarning: RADECSYS= 'ICRS ' / Astrometric system \n",
      "the RADECSYS keyword is deprecated, use RADESYSa. [astropy.wcs.wcs]\n",
      "WARNING: FITSFixedWarning: RADECSYS= 'ICRS ' / Astrometric system \n",
      "the RADECSYS keyword is deprecated, use RADESYSa. [astropy.wcs.wcs]\n"
     ]
    },
    {
     "name": "stdout",
     "output_type": "stream",
     "text": [
      "Making NGC4568 RGB image\n"
     ]
    },
    {
     "name": "stderr",
     "output_type": "stream",
     "text": [
      "WARNING: FITSFixedWarning: 'datfix' made the change 'Set MJD-OBS to 58807.603859 from DATE-OBS'. [astropy.wcs.wcs]\n",
      "WARNING: FITSFixedWarning: 'obsfix' made the change 'Observatory coordinates incomplete'. [astropy.wcs.wcs]\n",
      "WARNING: FITSFixedWarning: RADECSYS= 'ICRS ' / Astrometric system \n",
      "the RADECSYS keyword is deprecated, use RADESYSa. [astropy.wcs.wcs]\n",
      "WARNING: FITSFixedWarning: RADECSYS= 'ICRS ' / Astrometric system \n",
      "the RADECSYS keyword is deprecated, use RADESYSa. [astropy.wcs.wcs]\n",
      "WARNING: FITSFixedWarning: RADECSYS= 'ICRS ' / Astrometric system \n",
      "the RADECSYS keyword is deprecated, use RADESYSa. [astropy.wcs.wcs]\n"
     ]
    },
    {
     "name": "stdout",
     "output_type": "stream",
     "text": [
      "Making NGC4569 RGB image\n"
     ]
    },
    {
     "name": "stderr",
     "output_type": "stream",
     "text": [
      "WARNING: FITSFixedWarning: 'datfix' made the change 'Set MJD-OBS to 58203.170749 from DATE-OBS'. [astropy.wcs.wcs]\n",
      "WARNING: FITSFixedWarning: 'obsfix' made the change 'Observatory coordinates incomplete'. [astropy.wcs.wcs]\n",
      "WARNING: FITSFixedWarning: RADECSYS= 'ICRS ' / Astrometric system \n",
      "the RADECSYS keyword is deprecated, use RADESYSa. [astropy.wcs.wcs]\n",
      "WARNING: FITSFixedWarning: RADECSYS= 'ICRS ' / Astrometric system \n",
      "the RADECSYS keyword is deprecated, use RADESYSa. [astropy.wcs.wcs]\n",
      "WARNING: FITSFixedWarning: RADECSYS= 'ICRS ' / Astrometric system \n",
      "the RADECSYS keyword is deprecated, use RADESYSa. [astropy.wcs.wcs]\n"
     ]
    },
    {
     "name": "stdout",
     "output_type": "stream",
     "text": [
      "Making NGC4579 RGB image\n"
     ]
    },
    {
     "name": "stderr",
     "output_type": "stream",
     "text": [
      "WARNING: FITSFixedWarning: 'datfix' made the change 'Set MJD-OBS to 58184.283297 from DATE-OBS'. [astropy.wcs.wcs]\n",
      "WARNING: FITSFixedWarning: 'obsfix' made the change 'Observatory coordinates incomplete'. [astropy.wcs.wcs]\n",
      "WARNING: FITSFixedWarning: RADECSYS= 'ICRS ' / Astrometric system \n",
      "the RADECSYS keyword is deprecated, use RADESYSa. [astropy.wcs.wcs]\n",
      "WARNING: FITSFixedWarning: RADECSYS= 'ICRS ' / Astrometric system \n",
      "the RADECSYS keyword is deprecated, use RADESYSa. [astropy.wcs.wcs]\n",
      "WARNING: FITSFixedWarning: RADECSYS= 'ICRS ' / Astrometric system \n",
      "the RADECSYS keyword is deprecated, use RADESYSa. [astropy.wcs.wcs]\n"
     ]
    },
    {
     "name": "stdout",
     "output_type": "stream",
     "text": [
      "Making NGC4580 RGB image\n"
     ]
    },
    {
     "name": "stderr",
     "output_type": "stream",
     "text": [
      "WARNING: FITSFixedWarning: 'datfix' made the change 'Set MJD-OBS to 58830.570338 from DATE-OBS'. [astropy.wcs.wcs]\n",
      "WARNING: FITSFixedWarning: 'obsfix' made the change 'Observatory coordinates incomplete'. [astropy.wcs.wcs]\n",
      "WARNING: FITSFixedWarning: RADECSYS= 'ICRS ' / Astrometric system \n",
      "the RADECSYS keyword is deprecated, use RADESYSa. [astropy.wcs.wcs]\n",
      "WARNING: FITSFixedWarning: RADECSYS= 'ICRS ' / Astrometric system \n",
      "the RADECSYS keyword is deprecated, use RADESYSa. [astropy.wcs.wcs]\n",
      "WARNING: FITSFixedWarning: RADECSYS= 'ICRS ' / Astrometric system \n",
      "the RADECSYS keyword is deprecated, use RADESYSa. [astropy.wcs.wcs]\n"
     ]
    },
    {
     "name": "stdout",
     "output_type": "stream",
     "text": [
      "Making NGC4606 RGB image\n"
     ]
    },
    {
     "name": "stderr",
     "output_type": "stream",
     "text": [
      "WARNING: FITSFixedWarning: 'datfix' made the change 'Set MJD-OBS to 58786.646376 from DATE-OBS'. [astropy.wcs.wcs]\n",
      "WARNING: FITSFixedWarning: 'obsfix' made the change 'Observatory coordinates incomplete'. [astropy.wcs.wcs]\n",
      "WARNING: FITSFixedWarning: RADECSYS= 'ICRS ' / Astrometric system \n",
      "the RADECSYS keyword is deprecated, use RADESYSa. [astropy.wcs.wcs]\n",
      "WARNING: FITSFixedWarning: RADECSYS= 'ICRS ' / Astrometric system \n",
      "the RADECSYS keyword is deprecated, use RADESYSa. [astropy.wcs.wcs]\n",
      "WARNING: FITSFixedWarning: RADECSYS= 'ICRS ' / Astrometric system \n",
      "the RADECSYS keyword is deprecated, use RADESYSa. [astropy.wcs.wcs]\n"
     ]
    },
    {
     "name": "stdout",
     "output_type": "stream",
     "text": [
      "Making NGC4607 RGB image\n"
     ]
    },
    {
     "name": "stderr",
     "output_type": "stream",
     "text": [
      "WARNING: FITSFixedWarning: 'datfix' made the change 'Set MJD-OBS to 58771.655996 from DATE-OBS'. [astropy.wcs.wcs]\n",
      "WARNING: FITSFixedWarning: 'obsfix' made the change 'Observatory coordinates incomplete'. [astropy.wcs.wcs]\n",
      "WARNING: FITSFixedWarning: RADECSYS= 'ICRS ' / Astrometric system \n",
      "the RADECSYS keyword is deprecated, use RADESYSa. [astropy.wcs.wcs]\n",
      "WARNING: FITSFixedWarning: RADECSYS= 'ICRS ' / Astrometric system \n",
      "the RADECSYS keyword is deprecated, use RADESYSa. [astropy.wcs.wcs]\n",
      "WARNING: FITSFixedWarning: RADECSYS= 'ICRS ' / Astrometric system \n",
      "the RADECSYS keyword is deprecated, use RADESYSa. [astropy.wcs.wcs]\n"
     ]
    },
    {
     "name": "stdout",
     "output_type": "stream",
     "text": [
      "Making NGC4651 RGB image\n"
     ]
    },
    {
     "name": "stderr",
     "output_type": "stream",
     "text": [
      "WARNING: FITSFixedWarning: 'datfix' made the change 'Set MJD-OBS to 58837.456786 from DATE-OBS'. [astropy.wcs.wcs]\n",
      "WARNING: FITSFixedWarning: 'obsfix' made the change 'Observatory coordinates incomplete'. [astropy.wcs.wcs]\n",
      "WARNING: FITSFixedWarning: RADECSYS= 'ICRS ' / Astrometric system \n",
      "the RADECSYS keyword is deprecated, use RADESYSa. [astropy.wcs.wcs]\n",
      "WARNING: FITSFixedWarning: RADECSYS= 'ICRS ' / Astrometric system \n",
      "the RADECSYS keyword is deprecated, use RADESYSa. [astropy.wcs.wcs]\n",
      "WARNING: FITSFixedWarning: RADECSYS= 'ICRS ' / Astrometric system \n",
      "the RADECSYS keyword is deprecated, use RADESYSa. [astropy.wcs.wcs]\n"
     ]
    },
    {
     "name": "stdout",
     "output_type": "stream",
     "text": [
      "Making NGC4654 RGB image\n"
     ]
    },
    {
     "name": "stderr",
     "output_type": "stream",
     "text": [
      "WARNING: FITSFixedWarning: 'datfix' made the change 'Set MJD-OBS to 58119.389391 from DATE-OBS'. [astropy.wcs.wcs]\n",
      "WARNING: FITSFixedWarning: 'obsfix' made the change 'Observatory coordinates incomplete'. [astropy.wcs.wcs]\n",
      "WARNING: FITSFixedWarning: RADECSYS= 'ICRS ' / Astrometric system \n",
      "the RADECSYS keyword is deprecated, use RADESYSa. [astropy.wcs.wcs]\n",
      "WARNING: FITSFixedWarning: RADECSYS= 'ICRS ' / Astrometric system \n",
      "the RADECSYS keyword is deprecated, use RADESYSa. [astropy.wcs.wcs]\n",
      "WARNING: FITSFixedWarning: RADECSYS= 'ICRS ' / Astrometric system \n",
      "the RADECSYS keyword is deprecated, use RADESYSa. [astropy.wcs.wcs]\n"
     ]
    },
    {
     "name": "stdout",
     "output_type": "stream",
     "text": [
      "Making NGC4689 RGB image\n"
     ]
    },
    {
     "name": "stderr",
     "output_type": "stream",
     "text": [
      "WARNING: FITSFixedWarning: 'datfix' made the change 'Set MJD-OBS to 58125.480975 from DATE-OBS'. [astropy.wcs.wcs]\n",
      "WARNING: FITSFixedWarning: 'obsfix' made the change 'Observatory coordinates incomplete'. [astropy.wcs.wcs]\n",
      "WARNING: FITSFixedWarning: RADECSYS= 'ICRS ' / Astrometric system \n",
      "the RADECSYS keyword is deprecated, use RADESYSa. [astropy.wcs.wcs]\n",
      "WARNING: FITSFixedWarning: RADECSYS= 'ICRS ' / Astrometric system \n",
      "the RADECSYS keyword is deprecated, use RADESYSa. [astropy.wcs.wcs]\n",
      "WARNING: FITSFixedWarning: RADECSYS= 'ICRS ' / Astrometric system \n",
      "the RADECSYS keyword is deprecated, use RADESYSa. [astropy.wcs.wcs]\n"
     ]
    },
    {
     "name": "stdout",
     "output_type": "stream",
     "text": [
      "Making NGC4694 RGB image\n"
     ]
    },
    {
     "name": "stderr",
     "output_type": "stream",
     "text": [
      "WARNING: FITSFixedWarning: 'datfix' made the change 'Set MJD-OBS to 58029.684441 from DATE-OBS'. [astropy.wcs.wcs]\n",
      "WARNING: FITSFixedWarning: 'obsfix' made the change 'Observatory coordinates incomplete'. [astropy.wcs.wcs]\n",
      "WARNING: FITSFixedWarning: RADECSYS= 'ICRS ' / Astrometric system \n",
      "the RADECSYS keyword is deprecated, use RADESYSa. [astropy.wcs.wcs]\n",
      "WARNING: FITSFixedWarning: RADECSYS= 'ICRS ' / Astrometric system \n",
      "the RADECSYS keyword is deprecated, use RADESYSa. [astropy.wcs.wcs]\n",
      "WARNING: FITSFixedWarning: RADECSYS= 'ICRS ' / Astrometric system \n",
      "the RADECSYS keyword is deprecated, use RADESYSa. [astropy.wcs.wcs]\n"
     ]
    },
    {
     "name": "stdout",
     "output_type": "stream",
     "text": [
      "Done!\n"
     ]
    }
   ],
   "source": [
    "GALAXIES = [\n",
    "    \"IC3392\",\n",
    "    \"NGC4189\",  # ignored flag map, but bad results\n",
    "    \"NGC4192\",\n",
    "    \"NGC4216\",  # has unflagged foreground star\n",
    "    \"NGC4222\",\n",
    "    \"NGC4254\",\n",
    "    \"NGC4294\",\n",
    "    \"NGC4298\",\n",
    "    \"NGC4299\",\n",
    "    \"NGC4302\",\n",
    "    \"NGC4321\",\n",
    "    \"NGC4330\",\n",
    "    \"NGC4351\",\n",
    "    \"NGC4380\",\n",
    "    \"NGC4383\",\n",
    "    \"NGC4388\",\n",
    "    \"NGC4396\",\n",
    "    \"NGC4402\",\n",
    "    \"NGC4405\",\n",
    "    \"NGC4419\",\n",
    "    \"NGC4424\",\n",
    "    \"NGC4450\",\n",
    "    \"NGC4501\",\n",
    "    \"NGC4522\",\n",
    "    \"NGC4532\",\n",
    "    \"NGC4535\",\n",
    "    \"NGC4548\",\n",
    "    \"NGC4567\",\n",
    "    \"NGC4568\",\n",
    "    \"NGC4569\",\n",
    "    \"NGC4579\",\n",
    "    \"NGC4580\",\n",
    "    \"NGC4606\",  # flag map too intrusive\n",
    "    \"NGC4607\",\n",
    "    \"NGC4651\",\n",
    "    \"NGC4654\",\n",
    "    \"NGC4689\",\n",
    "    \"NGC4694\",\n",
    "]\n",
    "\n",
    "INCLINATIONS = [\n",
    "    68,\n",
    "    42,  # ignored flag map, but bad results\n",
    "    83,\n",
    "    90,  # has unflagged foreground star\n",
    "    90,\n",
    "    39,\n",
    "    74,\n",
    "    52,\n",
    "    14,\n",
    "    90,\n",
    "    32,\n",
    "    90,\n",
    "    48,\n",
    "    61,\n",
    "    56,\n",
    "    83,\n",
    "    83,\n",
    "    80,\n",
    "    46,\n",
    "    74,\n",
    "    61,\n",
    "    51,\n",
    "    65,\n",
    "    82,\n",
    "    64,\n",
    "    48,\n",
    "    37,\n",
    "    49,\n",
    "    70,\n",
    "    69,\n",
    "    40,\n",
    "    46,\n",
    "    69,  # flag map too intrusive\n",
    "    90,\n",
    "    53,\n",
    "    61,\n",
    "    38,\n",
    "    62,\n",
    "]  # degrees\n",
    "\n",
    "for galaxy, i in zip(GALAXIES, INCLINATIONS):\n",
    "    print(\"Making\", galaxy, \"RGB image\")\n",
    "    galpath = f\"/arc/home/IsaacCheng/coop_f2021/galaxies/{galaxy}/\"\n",
    "    # 2 arcsec pixel CO data (purely to cutout optical data to match CO data)\n",
    "    if galaxy == \"NGC4321\":  # no 9 arcsec data since native is 10 arcsec\n",
    "        Ico_path = f\"/arc/home/IsaacCheng/coop_f2021/vertico_data/v1.3.1/native/{galaxy}/{galaxy}_7m+tp_co21_pbcorr_round_mom0_Kkms-1.fits\"\n",
    "    else:\n",
    "        Ico_path = f\"/arc/home/IsaacCheng/coop_f2021/vertico_data/v1.3/9arcsec/{galaxy}/{galaxy}_7m+tp_co21_pbcorr_9as_round_mom0_Kkms-1.fits\"\n",
    "    Ico_data, co_header = fits.getdata(Ico_path, header=True)\n",
    "    co_wcs = WCS(co_header)\n",
    "    # \"red\" channel (i-band)\n",
    "    iband_path = f\"/arc/home/IsaacCheng/coop_f2021/ngvs_data/{galaxy}/{galaxy}_i_data.fits\"\n",
    "    # \"green\" channel (g-band)\n",
    "    gband_path = f\"/arc/home/IsaacCheng/coop_f2021/ngvs_data/{galaxy}/{galaxy}_g_data.fits\"\n",
    "    # \"blue\" channel (u-band)\n",
    "    uband_path = f\"/arc/home/IsaacCheng/coop_f2021/ngvs_data/{galaxy}/{galaxy}_u_data.fits\"\n",
    "    iband_data_uncut, iband_header_uncut = fits.getdata(iband_path, header=True)\n",
    "    gband_data_uncut, gband_header_uncut = fits.getdata(gband_path, header=True)\n",
    "    uband_data_uncut, uband_header_uncut = fits.getdata(uband_path, header=True)\n",
    "    # \n",
    "    # Cutout optical data to extent of CO data (optional)\n",
    "    # \n",
    "    iband_data, iband_wcs = fu.cutout_to_target(\n",
    "        iband_data_uncut, WCS(iband_header_uncut), Ico_data, co_wcs\n",
    "    )\n",
    "    gband_data, gband_wcs = fu.cutout_to_target(\n",
    "        gband_data_uncut, WCS(gband_header_uncut), Ico_data, co_wcs\n",
    "    )\n",
    "    uband_data, uband_wcs = fu.cutout_to_target(\n",
    "        uband_data_uncut, WCS(uband_header_uncut), Ico_data, co_wcs\n",
    "    )\n",
    "    # \n",
    "    # Median-normalize data on a logarithmic scale and make RGB array\n",
    "    # \n",
    "    rgb_data = pu.lognorm_median(iband_data, gband_data, uband_data, a=1000, norm_factor=1000)\n",
    "    # \n",
    "    # Plot\n",
    "    # \n",
    "    fig, ax = plt.subplots(subplot_kw={\"projection\": uband_wcs})\n",
    "    ax.imshow(rgb_data, interpolation=\"none\")\n",
    "    ax.tick_params(color=\"w\")\n",
    "    pu.add_scalebar(ax, uband_wcs, dist=GALDIST, color=\"w\")\n",
    "    ax.set_xlabel(\"RA (J2000)\")\n",
    "    ax.set_ylabel(\"Dec (J2000)\")\n",
    "    ax.grid(False)\n",
    "    # \n",
    "    # Add name of galaxy\n",
    "    # \n",
    "    high_i_str = \"*\" if i >= 80 else \"\"\n",
    "    ax.text(\n",
    "        0.9,\n",
    "        0.9,\n",
    "        re.sub(r\"(\\d+)\", \" \\\\1\", galaxy) + high_i_str,\n",
    "        c=\"w\",\n",
    "        ha=\"right\",\n",
    "        transform=ax.transAxes,\n",
    "    )\n",
    "    fig.savefig(galpath + f\"{galaxy}_rgb.pdf\")\n",
    "    plt.close()\n",
    "print(\"Done!\")"
   ]
  },
  {
   "cell_type": "markdown",
   "id": "union-protection",
   "metadata": {},
   "source": [
    "# (Miscellaneous) Getting the inclinations of NGVS galaxies\n"
   ]
  },
  {
   "cell_type": "code",
   "execution_count": null,
   "id": "unable-turkish",
   "metadata": {},
   "outputs": [],
   "source": [
    "galaxies = [\n",
    "    \"IC3392\", \"NGC4064\", \"NGC4189\", \"NGC4192\", \"NGC4216\", \"NGC4222\", \"NGC4254\",\n",
    "    \"NGC4293\", \"NGC4294\", \"NGC4298\", \"NGC4299\", \"NGC4302\", \"NGC4321\", \"NGC4330\",\n",
    "    \"NGC4351\", \"NGC4380\", \"NGC4383\", \"NGC4388\", \"NGC4394\", \"NGC4396\", \"NGC4402\",\n",
    "    \"NGC4405\", \"NGC4419\", \"NGC4424\", \"NGC4450\", \"NGC4457\", \"NGC4501\", \"NGC4522\",\n",
    "    \"NGC4532\", \"NGC4533\", \"NGC4535\", \"NGC4536\", \"NGC4548\", \"NGC4561\", \"NGC4567\",\n",
    "    \"NGC4568\", \"NGC4569\", \"NGC4579\", \"NGC4580\", \"NGC4606\", \"NGC4607\", \"NGC4651\",\n",
    "    \"NGC4654\", \"NGC4689\", \"NGC4694\", \"NGC4698\", \"NGC4713\", \"NGC4772\", \"NGC4808\",\n",
    "]  # 49 galaxies\n",
    "\n",
    "inclinations = [\n",
    "    68, 70, 42, 83, 90, 90, 39, 67, 74, 52, 14, 90, 32, 90, 48, 61, 56, 83, 32, 83, 80,\n",
    "    46, 74, 61, 51, 37, 65, 82, 64, 80, 48, 74, 37, 28, 49, 70, 69, 40, 46, 69, 90, 53,\n",
    "    61, 38, 62, 66, 45, 60, 72\n",
    "]  # degrees\n",
    "\n",
    "non_NGVS_galaxies = [\n",
    "    \"NGC4064\", \"NGC4293\", \"NGC4394\", \"NGC4457\", \"NGC4533\", \"NGC4536\",\n",
    "    \"NGC4561\", \"NGC4698\", \"NGC4713\", \"NGC4772\", \"NGC4808\", # \"NGC4606\"\n",
    "]\n",
    "\n",
    "for galaxy, i in zip(galaxies, inclinations):\n",
    "    if galaxy in non_NGVS_galaxies:\n",
    "        continue\n",
    "    print(f\"{i},\", end=\" \")\n",
    "    # print(f\"{i},\")"
   ]
  },
  {
   "cell_type": "code",
   "execution_count": null,
   "id": "retained-burst",
   "metadata": {},
   "outputs": [],
   "source": []
  }
 ],
 "metadata": {
  "kernelspec": {
   "display_name": "Python 3 (ipykernel)",
   "language": "python",
   "name": "python3"
  },
  "language_info": {
   "codemirror_mode": {
    "name": "ipython",
    "version": 3
   },
   "file_extension": ".py",
   "mimetype": "text/x-python",
   "name": "python",
   "nbconvert_exporter": "python",
   "pygments_lexer": "ipython3",
   "version": "3.8.6"
  }
 },
 "nbformat": 4,
 "nbformat_minor": 5
}
