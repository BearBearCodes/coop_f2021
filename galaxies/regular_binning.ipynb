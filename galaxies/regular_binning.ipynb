{
 "cells": [
  {
   "cell_type": "markdown",
   "id": "boxed-score",
   "metadata": {},
   "source": [
    "# Regular binning of NGVS data to VERTICO resolutions (either 9 arcsec beam with 2 arcsec pixels or Nyquist resolution)\n",
    "\n",
    "Isaac Cheng - November 2021\n",
    "\n",
    "Relative magnitudes are corrected for extinction.\n"
   ]
  },
  {
   "cell_type": "code",
   "execution_count": 1,
   "id": "adopted-relations",
   "metadata": {},
   "outputs": [],
   "source": [
    "import astropy.units as u\n",
    "import matplotlib as mpl\n",
    "import matplotlib.pyplot as plt\n",
    "import numpy as np\n",
    "import reproject\n",
    "from astropy.io import fits\n",
    "from astropy.wcs import WCS\n",
    "import dill\n",
    "import pandas as pd\n",
    "import reproject\n",
    "from multiprocessing import Pool\n",
    "from itertools import repeat\n",
    "# \n",
    "# Load my own packages\n",
    "# \n",
    "import sys\n",
    "sys.path.append(\"/arc/home/IsaacCheng/coop_f2021/packages\")\n",
    "import fits_utils as fu\n",
    "import plot_utils as pu\n",
    "# # Reload my packages\n",
    "# import importlib\n",
    "# importlib.reload(fu)\n",
    "# importlib.reload(pu)\n",
    "GALDIST = 16.5 * u.Mpc  # distance to centre of Virgo cluster. Assume 10% uncertainty"
   ]
  },
  {
   "cell_type": "code",
   "execution_count": 2,
   "id": "supported-terminal",
   "metadata": {},
   "outputs": [
    {
     "data": {
      "text/html": [
       "<div>\n",
       "<style scoped>\n",
       "    .dataframe tbody tr th:only-of-type {\n",
       "        vertical-align: middle;\n",
       "    }\n",
       "\n",
       "    .dataframe tbody tr th {\n",
       "        vertical-align: top;\n",
       "    }\n",
       "\n",
       "    .dataframe thead th {\n",
       "        text-align: right;\n",
       "    }\n",
       "</style>\n",
       "<table border=\"1\" class=\"dataframe\">\n",
       "  <thead>\n",
       "    <tr style=\"text-align: right;\">\n",
       "      <th></th>\n",
       "      <th>#Official_name</th>\n",
       "      <th>Old_name</th>\n",
       "      <th>VCC_name</th>\n",
       "      <th>VCC_membership</th>\n",
       "      <th>VCC_Bmag</th>\n",
       "      <th>TH_name</th>\n",
       "      <th>sep</th>\n",
       "      <th>NGVS_ra(deg)</th>\n",
       "      <th>NGVS_dec(deg)</th>\n",
       "      <th>NGVS_ra(hms)</th>\n",
       "      <th>...</th>\n",
       "      <th>MAGERR_GALFIT_z_nuc</th>\n",
       "      <th>RE_GALFIT_z_nuc</th>\n",
       "      <th>REERR_GALFIT_z_nuc</th>\n",
       "      <th>N_GALFIT_z_nuc</th>\n",
       "      <th>NERR_GALFIT_z_nuc</th>\n",
       "      <th>Q_GALFIT_z_nuc</th>\n",
       "      <th>PA_GALFIT_z_nuc</th>\n",
       "      <th>SKY_GALFIT_z</th>\n",
       "      <th>CHI2NU_z</th>\n",
       "      <th>sep.43</th>\n",
       "    </tr>\n",
       "  </thead>\n",
       "  <tbody>\n",
       "    <tr>\n",
       "      <th>0</th>\n",
       "      <td>NGVSJ12:03:45.06+27:37:02.0</td>\n",
       "      <td>NGVSJ12:03:45.06+27:37:02.0</td>\n",
       "      <td>-100</td>\n",
       "      <td>-100</td>\n",
       "      <td>-100.00</td>\n",
       "      <td>-100</td>\n",
       "      <td>||</td>\n",
       "      <td>180.937750</td>\n",
       "      <td>27.617222</td>\n",
       "      <td>12:03:45.06</td>\n",
       "      <td>...</td>\n",
       "      <td>NaN</td>\n",
       "      <td>NaN</td>\n",
       "      <td>NaN</td>\n",
       "      <td>NaN</td>\n",
       "      <td>NaN</td>\n",
       "      <td>NaN</td>\n",
       "      <td>NaN</td>\n",
       "      <td>NaN</td>\n",
       "      <td>NaN</td>\n",
       "      <td>NaN</td>\n",
       "    </tr>\n",
       "    <tr>\n",
       "      <th>1</th>\n",
       "      <td>NGVSJ12:04:51.83+26:59:33.1</td>\n",
       "      <td>NGVSJ12:04:51.83+26:59:33.1</td>\n",
       "      <td>-100</td>\n",
       "      <td>-100</td>\n",
       "      <td>-100.00</td>\n",
       "      <td>-100</td>\n",
       "      <td>||</td>\n",
       "      <td>181.215958</td>\n",
       "      <td>26.992528</td>\n",
       "      <td>12:04:51.83</td>\n",
       "      <td>...</td>\n",
       "      <td>NaN</td>\n",
       "      <td>NaN</td>\n",
       "      <td>NaN</td>\n",
       "      <td>NaN</td>\n",
       "      <td>NaN</td>\n",
       "      <td>NaN</td>\n",
       "      <td>NaN</td>\n",
       "      <td>NaN</td>\n",
       "      <td>NaN</td>\n",
       "      <td>NaN</td>\n",
       "    </tr>\n",
       "    <tr>\n",
       "      <th>2</th>\n",
       "      <td>NGVSJ12:07:45.73+12:03:37.0</td>\n",
       "      <td>NGVSJ12:07:45.73+12:03:37.0</td>\n",
       "      <td>-100</td>\n",
       "      <td>-100</td>\n",
       "      <td>-100.00</td>\n",
       "      <td>-100</td>\n",
       "      <td>||</td>\n",
       "      <td>181.940552</td>\n",
       "      <td>12.060277</td>\n",
       "      <td>12:07:45.73</td>\n",
       "      <td>...</td>\n",
       "      <td>NaN</td>\n",
       "      <td>NaN</td>\n",
       "      <td>NaN</td>\n",
       "      <td>NaN</td>\n",
       "      <td>NaN</td>\n",
       "      <td>NaN</td>\n",
       "      <td>NaN</td>\n",
       "      <td>NaN</td>\n",
       "      <td>NaN</td>\n",
       "      <td>NaN</td>\n",
       "    </tr>\n",
       "    <tr>\n",
       "      <th>3</th>\n",
       "      <td>NGVSJ12:08:01.21+12:48:56.0</td>\n",
       "      <td>NGVSJ12:08:01.21+12:48:56.0</td>\n",
       "      <td>-100</td>\n",
       "      <td>-100</td>\n",
       "      <td>-100.00</td>\n",
       "      <td>-100</td>\n",
       "      <td>||</td>\n",
       "      <td>182.005060</td>\n",
       "      <td>12.815564</td>\n",
       "      <td>12:08:01.21</td>\n",
       "      <td>...</td>\n",
       "      <td>NaN</td>\n",
       "      <td>NaN</td>\n",
       "      <td>NaN</td>\n",
       "      <td>NaN</td>\n",
       "      <td>NaN</td>\n",
       "      <td>NaN</td>\n",
       "      <td>NaN</td>\n",
       "      <td>NaN</td>\n",
       "      <td>NaN</td>\n",
       "      <td>NaN</td>\n",
       "    </tr>\n",
       "    <tr>\n",
       "      <th>4</th>\n",
       "      <td>NGVSJ12:08:04.43+13:13:17.0</td>\n",
       "      <td>NGVSJ12:08:04.43+13:13:17.0</td>\n",
       "      <td>-100</td>\n",
       "      <td>-100</td>\n",
       "      <td>-100.00</td>\n",
       "      <td>-100</td>\n",
       "      <td>||</td>\n",
       "      <td>182.018458</td>\n",
       "      <td>13.221389</td>\n",
       "      <td>12:08:04.43</td>\n",
       "      <td>...</td>\n",
       "      <td>NaN</td>\n",
       "      <td>NaN</td>\n",
       "      <td>NaN</td>\n",
       "      <td>NaN</td>\n",
       "      <td>NaN</td>\n",
       "      <td>NaN</td>\n",
       "      <td>NaN</td>\n",
       "      <td>NaN</td>\n",
       "      <td>NaN</td>\n",
       "      <td>NaN</td>\n",
       "    </tr>\n",
       "    <tr>\n",
       "      <th>...</th>\n",
       "      <td>...</td>\n",
       "      <td>...</td>\n",
       "      <td>...</td>\n",
       "      <td>...</td>\n",
       "      <td>...</td>\n",
       "      <td>...</td>\n",
       "      <td>...</td>\n",
       "      <td>...</td>\n",
       "      <td>...</td>\n",
       "      <td>...</td>\n",
       "      <td>...</td>\n",
       "      <td>...</td>\n",
       "      <td>...</td>\n",
       "      <td>...</td>\n",
       "      <td>...</td>\n",
       "      <td>...</td>\n",
       "      <td>...</td>\n",
       "      <td>...</td>\n",
       "      <td>...</td>\n",
       "      <td>...</td>\n",
       "      <td>...</td>\n",
       "    </tr>\n",
       "    <tr>\n",
       "      <th>3684</th>\n",
       "      <td>NGVSJ12:52:55.97+11:13:51.5</td>\n",
       "      <td>NGVS193.23325+11.230949_VCC2095</td>\n",
       "      <td>2095</td>\n",
       "      <td>M</td>\n",
       "      <td>11.18</td>\n",
       "      <td>-100</td>\n",
       "      <td>||</td>\n",
       "      <td>193.233227</td>\n",
       "      <td>11.230975</td>\n",
       "      <td>12:52:55.97</td>\n",
       "      <td>...</td>\n",
       "      <td>NaN</td>\n",
       "      <td>NaN</td>\n",
       "      <td>NaN</td>\n",
       "      <td>NaN</td>\n",
       "      <td>NaN</td>\n",
       "      <td>NaN</td>\n",
       "      <td>NaN</td>\n",
       "      <td>NaN</td>\n",
       "      <td>NaN</td>\n",
       "      <td>NaN</td>\n",
       "    </tr>\n",
       "    <tr>\n",
       "      <th>3685</th>\n",
       "      <td>NGVSJ12:52:59.03+14:24:01.9</td>\n",
       "      <td>NGVSJ12:52:59.03+14:24:01.9</td>\n",
       "      <td>-100</td>\n",
       "      <td>-100</td>\n",
       "      <td>-100.00</td>\n",
       "      <td>-100</td>\n",
       "      <td>||</td>\n",
       "      <td>193.245965</td>\n",
       "      <td>14.400533</td>\n",
       "      <td>12:52:59.03</td>\n",
       "      <td>...</td>\n",
       "      <td>NaN</td>\n",
       "      <td>NaN</td>\n",
       "      <td>NaN</td>\n",
       "      <td>NaN</td>\n",
       "      <td>NaN</td>\n",
       "      <td>NaN</td>\n",
       "      <td>NaN</td>\n",
       "      <td>NaN</td>\n",
       "      <td>NaN</td>\n",
       "      <td>NaN</td>\n",
       "    </tr>\n",
       "    <tr>\n",
       "      <th>3686</th>\n",
       "      <td>NGVSJ12:53:01.39+13:07:54.3</td>\n",
       "      <td>NGVSJ12:53:01.39+13:07:54.3</td>\n",
       "      <td>-100</td>\n",
       "      <td>-100</td>\n",
       "      <td>-100.00</td>\n",
       "      <td>-100</td>\n",
       "      <td>||</td>\n",
       "      <td>193.255792</td>\n",
       "      <td>13.131739</td>\n",
       "      <td>12:53:01.39</td>\n",
       "      <td>...</td>\n",
       "      <td>NaN</td>\n",
       "      <td>NaN</td>\n",
       "      <td>NaN</td>\n",
       "      <td>NaN</td>\n",
       "      <td>NaN</td>\n",
       "      <td>NaN</td>\n",
       "      <td>NaN</td>\n",
       "      <td>NaN</td>\n",
       "      <td>NaN</td>\n",
       "      <td>NaN</td>\n",
       "    </tr>\n",
       "    <tr>\n",
       "      <th>3687</th>\n",
       "      <td>NGVSJ12:53:11.59+12:38:06.3</td>\n",
       "      <td>NGVSJ12:53:11.59+12:38:06.3</td>\n",
       "      <td>-100</td>\n",
       "      <td>-100</td>\n",
       "      <td>-100.00</td>\n",
       "      <td>-100</td>\n",
       "      <td>||</td>\n",
       "      <td>193.298303</td>\n",
       "      <td>12.635086</td>\n",
       "      <td>12:53:11.59</td>\n",
       "      <td>...</td>\n",
       "      <td>NaN</td>\n",
       "      <td>NaN</td>\n",
       "      <td>NaN</td>\n",
       "      <td>NaN</td>\n",
       "      <td>NaN</td>\n",
       "      <td>NaN</td>\n",
       "      <td>NaN</td>\n",
       "      <td>NaN</td>\n",
       "      <td>NaN</td>\n",
       "      <td>NaN</td>\n",
       "    </tr>\n",
       "    <tr>\n",
       "      <th>3688</th>\n",
       "      <td>NGVSJ12:53:30.98+11:18:11.4</td>\n",
       "      <td>NGVSJ12:53:30.98+11:18:11.4</td>\n",
       "      <td>-100</td>\n",
       "      <td>-100</td>\n",
       "      <td>-100.00</td>\n",
       "      <td>-100</td>\n",
       "      <td>||</td>\n",
       "      <td>193.379083</td>\n",
       "      <td>11.303167</td>\n",
       "      <td>12:53:30.98</td>\n",
       "      <td>...</td>\n",
       "      <td>NaN</td>\n",
       "      <td>NaN</td>\n",
       "      <td>NaN</td>\n",
       "      <td>NaN</td>\n",
       "      <td>NaN</td>\n",
       "      <td>NaN</td>\n",
       "      <td>NaN</td>\n",
       "      <td>NaN</td>\n",
       "      <td>NaN</td>\n",
       "      <td>NaN</td>\n",
       "    </tr>\n",
       "  </tbody>\n",
       "</table>\n",
       "<p>3689 rows × 815 columns</p>\n",
       "</div>"
      ],
      "text/plain": [
       "                   #Official_name                         Old_name  VCC_name  \\\n",
       "0     NGVSJ12:03:45.06+27:37:02.0      NGVSJ12:03:45.06+27:37:02.0      -100   \n",
       "1     NGVSJ12:04:51.83+26:59:33.1      NGVSJ12:04:51.83+26:59:33.1      -100   \n",
       "2     NGVSJ12:07:45.73+12:03:37.0      NGVSJ12:07:45.73+12:03:37.0      -100   \n",
       "3     NGVSJ12:08:01.21+12:48:56.0      NGVSJ12:08:01.21+12:48:56.0      -100   \n",
       "4     NGVSJ12:08:04.43+13:13:17.0      NGVSJ12:08:04.43+13:13:17.0      -100   \n",
       "...                           ...                              ...       ...   \n",
       "3684  NGVSJ12:52:55.97+11:13:51.5  NGVS193.23325+11.230949_VCC2095      2095   \n",
       "3685  NGVSJ12:52:59.03+14:24:01.9      NGVSJ12:52:59.03+14:24:01.9      -100   \n",
       "3686  NGVSJ12:53:01.39+13:07:54.3      NGVSJ12:53:01.39+13:07:54.3      -100   \n",
       "3687  NGVSJ12:53:11.59+12:38:06.3      NGVSJ12:53:11.59+12:38:06.3      -100   \n",
       "3688  NGVSJ12:53:30.98+11:18:11.4      NGVSJ12:53:30.98+11:18:11.4      -100   \n",
       "\n",
       "     VCC_membership  VCC_Bmag  TH_name sep  NGVS_ra(deg)  NGVS_dec(deg)  \\\n",
       "0              -100   -100.00     -100  ||    180.937750      27.617222   \n",
       "1              -100   -100.00     -100  ||    181.215958      26.992528   \n",
       "2              -100   -100.00     -100  ||    181.940552      12.060277   \n",
       "3              -100   -100.00     -100  ||    182.005060      12.815564   \n",
       "4              -100   -100.00     -100  ||    182.018458      13.221389   \n",
       "...             ...       ...      ...  ..           ...            ...   \n",
       "3684              M     11.18     -100  ||    193.233227      11.230975   \n",
       "3685           -100   -100.00     -100  ||    193.245965      14.400533   \n",
       "3686           -100   -100.00     -100  ||    193.255792      13.131739   \n",
       "3687           -100   -100.00     -100  ||    193.298303      12.635086   \n",
       "3688           -100   -100.00     -100  ||    193.379083      11.303167   \n",
       "\n",
       "     NGVS_ra(hms)  ... MAGERR_GALFIT_z_nuc RE_GALFIT_z_nuc  \\\n",
       "0     12:03:45.06  ...                 NaN             NaN   \n",
       "1     12:04:51.83  ...                 NaN             NaN   \n",
       "2     12:07:45.73  ...                 NaN             NaN   \n",
       "3     12:08:01.21  ...                 NaN             NaN   \n",
       "4     12:08:04.43  ...                 NaN             NaN   \n",
       "...           ...  ...                 ...             ...   \n",
       "3684  12:52:55.97  ...                 NaN             NaN   \n",
       "3685  12:52:59.03  ...                 NaN             NaN   \n",
       "3686  12:53:01.39  ...                 NaN             NaN   \n",
       "3687  12:53:11.59  ...                 NaN             NaN   \n",
       "3688  12:53:30.98  ...                 NaN             NaN   \n",
       "\n",
       "      REERR_GALFIT_z_nuc N_GALFIT_z_nuc NERR_GALFIT_z_nuc Q_GALFIT_z_nuc  \\\n",
       "0                    NaN            NaN               NaN            NaN   \n",
       "1                    NaN            NaN               NaN            NaN   \n",
       "2                    NaN            NaN               NaN            NaN   \n",
       "3                    NaN            NaN               NaN            NaN   \n",
       "4                    NaN            NaN               NaN            NaN   \n",
       "...                  ...            ...               ...            ...   \n",
       "3684                 NaN            NaN               NaN            NaN   \n",
       "3685                 NaN            NaN               NaN            NaN   \n",
       "3686                 NaN            NaN               NaN            NaN   \n",
       "3687                 NaN            NaN               NaN            NaN   \n",
       "3688                 NaN            NaN               NaN            NaN   \n",
       "\n",
       "     PA_GALFIT_z_nuc SKY_GALFIT_z  CHI2NU_z sep.43  \n",
       "0                NaN          NaN       NaN    NaN  \n",
       "1                NaN          NaN       NaN    NaN  \n",
       "2                NaN          NaN       NaN    NaN  \n",
       "3                NaN          NaN       NaN    NaN  \n",
       "4                NaN          NaN       NaN    NaN  \n",
       "...              ...          ...       ...    ...  \n",
       "3684             NaN          NaN       NaN    NaN  \n",
       "3685             NaN          NaN       NaN    NaN  \n",
       "3686             NaN          NaN       NaN    NaN  \n",
       "3687             NaN          NaN       NaN    NaN  \n",
       "3688             NaN          NaN       NaN    NaN  \n",
       "\n",
       "[3689 rows x 815 columns]"
      ]
     },
     "execution_count": 2,
     "metadata": {},
     "output_type": "execute_result"
    }
   ],
   "source": [
    "ngvs_catalogue = pd.read_csv(\"/arc/home/IsaacCheng/coop_f2021/ngvs_data/NGVS_catalogue.txt\", sep=\" \", low_memory=False)\n",
    "ngvs_catalogue"
   ]
  },
  {
   "cell_type": "code",
   "execution_count": 3,
   "id": "amateur-allen",
   "metadata": {},
   "outputs": [],
   "source": [
    "GALAXIES = [\n",
    "    \"IC3392\",\n",
    "    # \"NGC4189\",  # ignored flag map, but bad results\n",
    "    \"NGC4192\",\n",
    "    \"NGC4216\",  # has unflagged foreground star\n",
    "    \"NGC4222\",\n",
    "    \"NGC4254\",\n",
    "    \"NGC4294\",\n",
    "    \"NGC4298\",\n",
    "    \"NGC4299\",\n",
    "    \"NGC4302\",\n",
    "    \"NGC4321\",\n",
    "    \"NGC4330\",\n",
    "    \"NGC4351\",\n",
    "    \"NGC4380\",\n",
    "    \"NGC4383\",\n",
    "    \"NGC4388\",\n",
    "    \"NGC4396\",\n",
    "    \"NGC4402\",\n",
    "    \"NGC4405\",\n",
    "    \"NGC4419\",\n",
    "    \"NGC4424\",\n",
    "    \"NGC4450\",\n",
    "    \"NGC4501\",\n",
    "    \"NGC4522\",\n",
    "    \"NGC4532\",\n",
    "    \"NGC4535\",\n",
    "    \"NGC4548\",\n",
    "    \"NGC4567\",\n",
    "    \"NGC4568\",\n",
    "    \"NGC4569\",\n",
    "    \"NGC4579\",\n",
    "    \"NGC4580\",\n",
    "    # \"NGC4606\",  # flag map too intrusive\n",
    "    \"NGC4607\",\n",
    "    \"NGC4651\",\n",
    "    \"NGC4654\",\n",
    "    \"NGC4689\",\n",
    "    \"NGC4694\",\n",
    "]\n",
    "VCC_GALAXIES = [\n",
    "    1126,  # IC3392\n",
    "    # 89,  # NGC4189, ignored flag map, but bad results\n",
    "    92,  # NGC4192\n",
    "    167,  # NGC4216, has unflagged foreground star\n",
    "    187,  # NGC4222\n",
    "    307,  # NGC4254\n",
    "    465,  # NGC4294\n",
    "    483,  # NGC4298\n",
    "    491,  # NGC4299\n",
    "    497,  # NGC4302\n",
    "    596,  # NGC4321\n",
    "    630,  # NGC4330\n",
    "    692,  # NGC4351\n",
    "    792,  # NGC4380\n",
    "    801,  # NGC4383\n",
    "    836,  # NGC4388\n",
    "    865,  # NGC4396\n",
    "    873,  # NGC4402\n",
    "    874,  # NGC4405\n",
    "    958,  # NGC4419\n",
    "    979,  # NGC4424\n",
    "    1110,  # NGC4450\n",
    "    1401,  # NGC4501\n",
    "    1516,  # NGC4522\n",
    "    1554,  # NGC4532\n",
    "    1555,  # NGC4535\n",
    "    1615,  # NGC4548\n",
    "    1673,  # NGC4567\n",
    "    1676,  # NGC4568\n",
    "    1690,  # NGC4569\n",
    "    1727,  # NGC4579\n",
    "    1730,  # NGC4580\n",
    "    # 1859,  # NGC4606, flag map too intrusive\n",
    "    1868,  # NGC4607\n",
    "    -100,  # NGC4651 (EVCC number is 1102, cannot use EVCC number)\n",
    "    1987,  # NGC4654\n",
    "    2058,  # NGC4689\n",
    "    2066,  # NGC4694\n",
    "]\n",
    "\n",
    "ngvs_ra = ngvs_catalogue[\"NGVS_ra(deg)\"]\n",
    "ngvs_dec = ngvs_catalogue[\"NGVS_dec(deg)\"]\n",
    "vcc_name = ngvs_catalogue[\"VCC_name\"]\n",
    "extinctions = ngvs_catalogue[\"e(B-V)\"]\n",
    "\n",
    "# Single entry that is closest to NGC4651 coordinates\n",
    "NGC4651_row = vcc_name[\n",
    "    (abs(ngvs_ra - 190.927625) < 0.1) & (abs(ngvs_dec - 16.39338889) < 0.1)\n",
    "].index.values[0]\n",
    "\n",
    "# E(B-V) to u, g, i, z extinction coefficients\n",
    "# (from http://www.cadc-ccda.hia-iha.nrc-cnrc.gc.ca/en/community/ngvs/query/catdoc.html#ebv)\n",
    "EBV_u = 4.594\n",
    "EBV_g = 3.560\n",
    "EBV_i = 1.813\n",
    "EBV_z = 1.221"
   ]
  },
  {
   "cell_type": "markdown",
   "id": "sexual-software",
   "metadata": {},
   "source": [
    "# Regular binning procedure\n",
    "\n",
    "1. Cut out the optical data to the radio data's extent. Remember to modify the WCS object.\n",
    "2. Reproject the optical image (while preserving flux) so that its dimensions are integer\n",
    "   multiples of the radio data's dimensions. Furthermore, the new dimensions should\n",
    "   satisfy the above criterion while being as close as possible to the cutout's original\n",
    "   dimensions. (This is because reprojection tries to preserve the pixel values as much as\n",
    "   possible, regardless of the new dimensions.) Remember to modify the WCS object\n",
    "   (tricky!).\n",
    "3. Bin the reprojected optical image to the same resolution as the radio data. Remember to\n",
    "   modify the WCS object (which should now be identical to the radio data's WCS object).\n",
    "   "
   ]
  },
  {
   "cell_type": "code",
   "execution_count": 4,
   "id": "comic-memory",
   "metadata": {},
   "outputs": [],
   "source": [
    "def bin_ngvs_data(\n",
    "    galaxy,\n",
    "    vcc_galaxy,\n",
    "    bin_resolution,\n",
    "    reproject_func=reproject.reproject_interp,\n",
    "    bin_func=np.nansum,\n",
    "    print_debug=False,\n",
    "    plot_debug=False,\n",
    "):\n",
    "    # \n",
    "    # Check inputs\n",
    "    # \n",
    "    if bin_resolution != \"nyquist\" and bin_resolution != \"9as\":\n",
    "        raise ValueError(\"bin_resolution must be 'nyquist' or '9as'\")\n",
    "    if reproject_func == reproject.reproject_interp:\n",
    "        reproject_str = \"reproject_interp\"\n",
    "    elif reproject_func == reproject.reproject_exact:\n",
    "        reproject_str = \"reproject_exact\"\n",
    "    else:\n",
    "        raise ValueError(\n",
    "            \"reproject_func must be either reproject_interp or reproject_exact\"\n",
    "        )\n",
    "    if bin_func == np.nansum:\n",
    "        bin_func_str = \"nansum\"\n",
    "    elif bin_func == np.sum:\n",
    "        bin_func_str = \"sum\"\n",
    "    else:\n",
    "        raise ValueError(\"bin_func must be either np.nansum or np.sum\")\n",
    "    # \n",
    "    # Get NGVS filepaths\n",
    "    #\n",
    "    if print_debug:\n",
    "        print(f\"On {galaxy} (VCC {vcc_galaxy}) at {bin_resolution} resolution\")\n",
    "    galpath = f\"/arc/home/IsaacCheng/coop_f2021/galaxies/{galaxy}/\"\n",
    "    # Signal\n",
    "    zband_path = f\"/arc/home/IsaacCheng/coop_f2021/ngvs_data/{galaxy}/{galaxy}_z_data.fits\"\n",
    "    iband_path = f\"/arc/home/IsaacCheng/coop_f2021/ngvs_data/{galaxy}/{galaxy}_i_data.fits\"\n",
    "    gband_path = f\"/arc/home/IsaacCheng/coop_f2021/ngvs_data/{galaxy}/{galaxy}_g_data.fits\"\n",
    "    uband_path = f\"/arc/home/IsaacCheng/coop_f2021/ngvs_data/{galaxy}/{galaxy}_u_data.fits\"\n",
    "    # Noise (sigma maps)\n",
    "    znoise_path = f\"/arc/home/IsaacCheng/coop_f2021/ngvs_data/{galaxy}/{galaxy}_z_sig.fits\"\n",
    "    inoise_path = f\"/arc/home/IsaacCheng/coop_f2021/ngvs_data/{galaxy}/{galaxy}_i_sig.fits\"\n",
    "    gnoise_path = f\"/arc/home/IsaacCheng/coop_f2021/ngvs_data/{galaxy}/{galaxy}_g_sig.fits\"\n",
    "    unoise_path = f\"/arc/home/IsaacCheng/coop_f2021/ngvs_data/{galaxy}/{galaxy}_u_sig.fits\"\n",
    "    # Mask (flag maps)\n",
    "    zgood_path = f\"/arc/home/IsaacCheng/coop_f2021/ngvs_data/{galaxy}/{galaxy}_z_flag.fits\"\n",
    "    igood_path = f\"/arc/home/IsaacCheng/coop_f2021/ngvs_data/{galaxy}/{galaxy}_z_flag.fits\"\n",
    "    ggood_path = f\"/arc/home/IsaacCheng/coop_f2021/ngvs_data/{galaxy}/{galaxy}_z_flag.fits\"\n",
    "    ugood_path = f\"/arc/home/IsaacCheng/coop_f2021/ngvs_data/{galaxy}/{galaxy}_z_flag.fits\"\n",
    "    # \n",
    "    # Load NGVS data\n",
    "    # \n",
    "    # Signal\n",
    "    zband_data_full, zband_header_full = fits.getdata(zband_path, header=True)\n",
    "    iband_data_full, iband_header_full = fits.getdata(iband_path, header=True)\n",
    "    gband_data_full, gband_header_full = fits.getdata(gband_path, header=True)\n",
    "    uband_data_full, uband_header_full = fits.getdata(uband_path, header=True)\n",
    "    # Noise\n",
    "    zband_noise_full = fits.getdata(znoise_path)\n",
    "    iband_noise_full = fits.getdata(inoise_path)\n",
    "    gband_noise_full = fits.getdata(gnoise_path)\n",
    "    uband_noise_full = fits.getdata(unoise_path)\n",
    "    # Masks\n",
    "    zband_good_full = fits.getdata(zgood_path, ext=1)\n",
    "    iband_good_full = fits.getdata(igood_path, ext=1)\n",
    "    gband_good_full = fits.getdata(ggood_path, ext=1)\n",
    "    uband_good_full = fits.getdata(ugood_path, ext=1)\n",
    "    #\n",
    "    # Mask the data and noise arrays\n",
    "    #\n",
    "    uband_data_masked = np.ma.masked_array(uband_data_full, mask=uband_good_full == 0).filled(fill_value=np.nan)\n",
    "    uband_noise_masked = np.ma.masked_array(uband_noise_full, mask=uband_good_full == 0).filled(fill_value=np.nan)\n",
    "    gband_data_masked = np.ma.masked_array(gband_data_full, mask=gband_good_full == 0).filled(fill_value=np.nan)\n",
    "    gband_noise_masked = np.ma.masked_array(gband_noise_full, mask=gband_good_full == 0).filled(fill_value=np.nan)\n",
    "    iband_data_masked = np.ma.masked_array(iband_data_full, mask=iband_good_full == 0).filled(fill_value=np.nan)\n",
    "    iband_noise_masked = np.ma.masked_array(iband_noise_full, mask=iband_good_full == 0).filled(fill_value=np.nan)\n",
    "    zband_data_masked = np.ma.masked_array(zband_data_full, mask=zband_good_full == 0).filled(fill_value=np.nan)\n",
    "    zband_noise_masked = np.ma.masked_array(zband_noise_full, mask=zband_good_full == 0).filled(fill_value=np.nan)\n",
    "    # \n",
    "    # VERTICO CO Data\n",
    "    # \n",
    "    if bin_resolution == \"nyquist\":\n",
    "        if galaxy == \"NGC4321\":  # no 9 arcsec data since native is 10 arcsec. Use 15 arcsec data instead\n",
    "            Ico_path = f\"/arc/home/IsaacCheng/coop_f2021/vertico_data/v1.3.1/nyquistPix/15arcsec/{galaxy}/{galaxy}_7m+tp_co21_pbcorr_15as_np_round_mom0_Kkms-1.fits\"\n",
    "        else:\n",
    "            Ico_path = f\"/arc/home/IsaacCheng/coop_f2021/vertico_data/v1.3/nyquistPix/9arcsec/{galaxy}/{galaxy}_7m+tp_co21_pbcorr_9as_np_round_mom0_Kkms-1.fits\"\n",
    "    else:\n",
    "        if galaxy == \"NGC4321\":  # no 9 arcsec data since native is 10 arcsec\n",
    "            Ico_path = f\"/arc/home/IsaacCheng/coop_f2021/vertico_data/v1.3.1/native/{galaxy}/{galaxy}_7m+tp_co21_pbcorr_round_mom0_Kkms-1.fits\"\n",
    "        else:\n",
    "            Ico_path = f\"/arc/home/IsaacCheng/coop_f2021/vertico_data/v1.3/9arcsec/{galaxy}/{galaxy}_7m+tp_co21_pbcorr_9as_round_mom0_Kkms-1.fits\"\n",
    "    Ico_data, co_header = fits.getdata(Ico_path, header=True)\n",
    "    co_wcs = WCS(co_header)\n",
    "    # \n",
    "    # Bin NGVS data to VERTICO resolution\n",
    "    # \n",
    "    (\n",
    "        xs_binned,\n",
    "        ys_binned,\n",
    "        uband_data_binned,\n",
    "        uband_noise_binned,\n",
    "        uband_isgood_binned,\n",
    "        wcs_binned,\n",
    "        bin_dimensions,\n",
    "    ) = fu.bin_sn_arrs_to_target(\n",
    "        uband_data_masked,\n",
    "        WCS(uband_header_full),\n",
    "        uband_noise_masked,\n",
    "        WCS(uband_header_full),\n",
    "        Ico_data,\n",
    "        co_wcs,\n",
    "        reproject_func=reproject_func,\n",
    "        bin_func=np.nansum,\n",
    "        print_debug=print_debug,\n",
    "        return_bin_dimen=True,\n",
    "    )\n",
    "    (\n",
    "        _,\n",
    "        _,\n",
    "        gband_data_binned,\n",
    "        gband_noise_binned,\n",
    "        gband_isgood_binned,\n",
    "        _,\n",
    "        tmpgdim,\n",
    "    ) = fu.bin_sn_arrs_to_target(\n",
    "        gband_data_masked,\n",
    "        WCS(gband_header_full),\n",
    "        gband_noise_masked,\n",
    "        WCS(gband_header_full),\n",
    "        Ico_data,\n",
    "        co_wcs,\n",
    "        reproject_func=reproject_func,\n",
    "        bin_func=np.nansum,\n",
    "        print_debug=False,\n",
    "        return_bin_dimen=True,\n",
    "    )\n",
    "    (\n",
    "        _,\n",
    "        _,\n",
    "        iband_data_binned,\n",
    "        iband_noise_binned,\n",
    "        iband_isgood_binned,\n",
    "        _,\n",
    "        tmpidim,\n",
    "    ) = fu.bin_sn_arrs_to_target(\n",
    "        iband_data_masked,\n",
    "        WCS(iband_header_full),\n",
    "        iband_noise_masked,\n",
    "        WCS(iband_header_full),\n",
    "        Ico_data,\n",
    "        co_wcs,\n",
    "        reproject_func=reproject_func,\n",
    "        bin_func=np.nansum,\n",
    "        print_debug=False,\n",
    "        return_bin_dimen=True,\n",
    "    )\n",
    "    (\n",
    "        _,\n",
    "        _,\n",
    "        zband_data_binned,\n",
    "        zband_noise_binned,\n",
    "        zband_isgood_binned,\n",
    "        _,\n",
    "        tmpzdim,\n",
    "    ) = fu.bin_sn_arrs_to_target(\n",
    "        zband_data_masked,\n",
    "        WCS(zband_header_full),\n",
    "        zband_noise_masked,\n",
    "        WCS(zband_header_full),\n",
    "        Ico_data,\n",
    "        co_wcs,\n",
    "        reproject_func=reproject_func,\n",
    "        bin_func=np.nansum,\n",
    "        print_debug=False,\n",
    "        return_bin_dimen=True,\n",
    "    )\n",
    "    # \n",
    "    # Check all bin dimensions are equal\n",
    "    # \n",
    "    if (\n",
    "        (not np.all(bin_dimensions == tmpgdim))\n",
    "        or (not np.all(bin_dimensions == tmpidim))\n",
    "        or (not np.all(bin_dimensions == tmpzdim))\n",
    "    ):\n",
    "        print(bin_dimensions, tmpgdim, tmpidim, tmpzdim)\n",
    "        raise ValueError(\"Bin dimensions are not equal\")\n",
    "    ##################################################################################\n",
    "    # \n",
    "    # Normalize fluxes by the number of pixels in each bin\n",
    "    #\n",
    "    if plot_debug:\n",
    "        fig, ax = plt.subplots(subplot_kw={\"projection\": wcs_binned})\n",
    "        img = ax.imshow(uband_data_binned, cmap=\"plasma\", norm=mpl.colors.LogNorm())\n",
    "        cbar = fig.colorbar(img)\n",
    "        cbar.ax.tick_params(which=\"both\", direction=\"out\")\n",
    "        ax.contour(\n",
    "            Ico_data,\n",
    "            transform=ax.get_transform(co_wcs),\n",
    "            levels=[0, 5, 10],\n",
    "            colors=\"w\",\n",
    "        )\n",
    "        ax.set_title(\"Un-normalized u-band flux\")\n",
    "        ax.set_xlabel(\"RA (J2000)\")\n",
    "        ax.set_ylabel(\"Dec (J2000)\")\n",
    "        ax.grid(False)\n",
    "        ax.set_aspect(\"equal\")\n",
    "        plt.show()\n",
    "    px_per_bin = bin_dimensions[0] * bin_dimensions[1]\n",
    "    uband_data_binned = uband_data_binned / px_per_bin\n",
    "    uband_noise_binned = uband_noise_binned / px_per_bin\n",
    "    gband_data_binned = gband_data_binned / px_per_bin\n",
    "    gband_noise_binned = gband_noise_binned / px_per_bin\n",
    "    iband_data_binned = iband_data_binned / px_per_bin\n",
    "    iband_noise_binned = iband_noise_binned / px_per_bin\n",
    "    zband_data_binned = zband_data_binned / px_per_bin\n",
    "    zband_noise_binned = zband_noise_binned / px_per_bin\n",
    "    if plot_debug:\n",
    "        fig, ax = plt.subplots(subplot_kw={\"projection\": wcs_binned})\n",
    "        img = ax.imshow(uband_data_binned, cmap=\"plasma\", norm=mpl.colors.LogNorm())\n",
    "        cbar = fig.colorbar(img)\n",
    "        cbar.ax.tick_params(which=\"both\", direction=\"out\")\n",
    "        ax.contour(\n",
    "            Ico_data,\n",
    "            transform=ax.get_transform(co_wcs),\n",
    "            levels=[0, 5, 10],\n",
    "            colors=\"w\",\n",
    "        )\n",
    "        ax.set_title(\"Normalized u-band flux\")\n",
    "        ax.set_xlabel(\"RA (J2000)\")\n",
    "        ax.set_ylabel(\"Dec (J2000)\")\n",
    "        ax.grid(False)\n",
    "        ax.set_aspect(\"equal\")\n",
    "        plt.show()\n",
    "    ##################################################################################\n",
    "    # \n",
    "    # Calculate relative AB magnitudes\n",
    "    # \n",
    "    uband_rel_mag_binned, uband_rel_mag_err_binned = fu.calc_mag(\n",
    "        uband_data_binned, uband_noise_binned, zpt=30.0, calc_abs=False\n",
    "    )\n",
    "    gband_rel_mag_binned, gband_rel_mag_err_binned = fu.calc_mag(\n",
    "        gband_data_binned, gband_noise_binned, zpt=30.0, calc_abs=False\n",
    "    )\n",
    "    iband_rel_mag_binned, iband_rel_mag_err_binned = fu.calc_mag(\n",
    "        iband_data_binned, iband_noise_binned, zpt=30.0, calc_abs=False\n",
    "    )\n",
    "    zband_rel_mag_binned, zband_rel_mag_err_binned = fu.calc_mag(\n",
    "        zband_data_binned, zband_noise_binned, zpt=30.0, calc_abs=False\n",
    "    )\n",
    "    # \n",
    "    # Correct for extinction\n",
    "    # \n",
    "    if galaxy != \"NGC4651\":\n",
    "        ebv_coeff = extinctions[vcc_name == vcc_galaxy].values\n",
    "        if ebv_coeff.size != 1:\n",
    "            raise ValueError(f\"More than one E(B-V) coefficient found for {galaxy}\")\n",
    "        ebv_coeff = ebv_coeff[0]\n",
    "    else:\n",
    "        ebv_coeff = extinctions.iloc[NGC4651_row]\n",
    "    uband_rel_mag_binned = uband_rel_mag_binned - ebv_coeff * EBV_u\n",
    "    gband_rel_mag_binned = gband_rel_mag_binned - ebv_coeff * EBV_g\n",
    "    iband_rel_mag_binned = iband_rel_mag_binned - ebv_coeff * EBV_i\n",
    "    zband_rel_mag_binned = zband_rel_mag_binned - ebv_coeff * EBV_z\n",
    "    # \n",
    "    # Pickle data\n",
    "    # \n",
    "    galaxy_outfile = galpath + f\"{galaxy}_regBin_extinctionCorr_{bin_resolution}.pkl\"\n",
    "    with open(galaxy_outfile, \"wb\") as f:\n",
    "        dill.dump(\n",
    "            {\n",
    "                \"README\": \"The binned signal and noise arrays, as well as the relative magnitudes, have all been normalized by the number of pixels per bin. \"\n",
    "                + \"To recover the un-normalized binned signal and noise arrays, simply multiply the signal and noise arrays by (`bin_dimensions`[0] * `bin_dimensions`[1]). \"\n",
    "                + \"\\nThe relative magnitudes have been corrected for extinction; the binned signal and noise arrays have not. \"\n",
    "                + \"\\n`ebv_coeff` is the extinction coefficient for the galaxy from the NGVS catalogue; \"\n",
    "                + \"`ebv_u`, `ebv_g`, `ebv_i`, `ebv_z` are the NGVS extinction coefficient conversion factors from http://www.cadc-ccda.hia-iha.nrc-cnrc.gc.ca/en/community/ngvs/query/catdoc.html#ebv. \"\n",
    "                + \"\\nAlso remember to set `wcs_binned.array_shape = wcs_binned_array_shape`\",\n",
    "                \n",
    "                \"reproject_method\": reproject_str,\n",
    "                \"binning_function\": bin_func_str,\n",
    "                \"dist_pc\": GALDIST.to(u.pc).value,  # distance in parsecs\n",
    "                \"x_coords\": xs_binned,  # x-value of pixel coordinates\n",
    "                \"y_coords\": ys_binned,  # y-value of pixel coordinates\n",
    "                \"bin_dimensions\": bin_dimensions,\n",
    "                \"wcs_binned\": wcs_binned,  # dill has trouble saving the \"NAXIS\" keyword\n",
    "                \"wcs_binned_array_shape\": wcs_binned.array_shape,  # \"NAXIS\" keyword\n",
    "                \"ebv_coeff\": ebv_coeff,  # extinction coefficient for the galaxy\n",
    "                \"ebv_u\": EBV_u,  # extinction coefficient conversion factor for the u-band\n",
    "                \"ebv_g\": EBV_g,  # extinction coefficient conversion factor for the g-band\n",
    "                \"ebv_i\": EBV_i,  # extinction coefficient conversion factor for the i-band\n",
    "                \"ebv_z\": EBV_z,  # extinction coefficient conversion factor for the z-band\n",
    "                \n",
    "                \"uband_signal\": uband_data_binned,\n",
    "                \"uband_noise\": uband_noise_binned,\n",
    "                \"gband_signal\": gband_data_binned,\n",
    "                \"gband_noise\": gband_noise_binned,\n",
    "                \"iband_signal\": iband_data_binned,\n",
    "                \"iband_noise\": iband_noise_binned,\n",
    "                \"zband_signal\": zband_data_binned,\n",
    "                \"zband_noise\": zband_noise_binned,\n",
    "                \n",
    "                \"uband_rel_mag\": uband_rel_mag_binned,\n",
    "                \"uband_rel_mag_err\": uband_rel_mag_err_binned,\n",
    "                \"gband_rel_mag\": gband_rel_mag_binned,\n",
    "                \"gband_rel_mag_err\": gband_rel_mag_err_binned,\n",
    "                \"iband_rel_mag\": iband_rel_mag_binned,\n",
    "                \"iband_rel_mag_err\": iband_rel_mag_err_binned,\n",
    "                \"zband_rel_mag\": zband_rel_mag_binned,\n",
    "                \"zband_rel_mag_err\": zband_rel_mag_err_binned,\n",
    "                \n",
    "                \"uband_is_good\": uband_isgood_binned,\n",
    "                \"gband_is_good\": gband_isgood_binned,\n",
    "                \"iband_is_good\": iband_isgood_binned,\n",
    "                \"zband_is_good\": zband_isgood_binned,\n",
    "            },\n",
    "            f,\n",
    "        )\n",
    "        print(f\"Pickled {galaxy_outfile}\")\n"
   ]
  },
  {
   "cell_type": "code",
   "execution_count": 4,
   "id": "ec35579e-036e-4b81-9d85-eb41004218ab",
   "metadata": {},
   "outputs": [],
   "source": [
    "def bin_ngvs_data_noNorm(\n",
    "    galaxy,\n",
    "    vcc_galaxy,\n",
    "    bin_resolution,\n",
    "    reproject_func=reproject.reproject_interp,\n",
    "    bin_func=np.nansum,\n",
    "    print_debug=False,\n",
    "    plot_debug=False,\n",
    "):\n",
    "    # \n",
    "    # Check inputs\n",
    "    # \n",
    "    if bin_resolution != \"nyquist\" and bin_resolution != \"9as\":\n",
    "        raise ValueError(\"bin_resolution must be 'nyquist' or '9as'\")\n",
    "    if reproject_func == reproject.reproject_interp:\n",
    "        reproject_str = \"reproject_interp\"\n",
    "    elif reproject_func == reproject.reproject_exact:\n",
    "        reproject_str = \"reproject_exact\"\n",
    "    else:\n",
    "        raise ValueError(\n",
    "            \"reproject_func must be either reproject_interp or reproject_exact\"\n",
    "        )\n",
    "    if bin_func == np.nansum:\n",
    "        bin_func_str = \"nansum\"\n",
    "    elif bin_func == np.sum:\n",
    "        bin_func_str = \"sum\"\n",
    "    else:\n",
    "        raise ValueError(\"bin_func must be either np.nansum or np.sum\")\n",
    "    # \n",
    "    # Get NGVS filepaths\n",
    "    #\n",
    "    if print_debug:\n",
    "        print(f\"On {galaxy} (VCC {vcc_galaxy}) at {bin_resolution} resolution\")\n",
    "    galpath = f\"/arc/home/IsaacCheng/coop_f2021/galaxies/{galaxy}/\"\n",
    "    # Signal\n",
    "    zband_path = f\"/arc/home/IsaacCheng/coop_f2021/ngvs_data/{galaxy}/{galaxy}_z_data.fits\"\n",
    "    iband_path = f\"/arc/home/IsaacCheng/coop_f2021/ngvs_data/{galaxy}/{galaxy}_i_data.fits\"\n",
    "    gband_path = f\"/arc/home/IsaacCheng/coop_f2021/ngvs_data/{galaxy}/{galaxy}_g_data.fits\"\n",
    "    uband_path = f\"/arc/home/IsaacCheng/coop_f2021/ngvs_data/{galaxy}/{galaxy}_u_data.fits\"\n",
    "    # Noise (sigma maps)\n",
    "    znoise_path = f\"/arc/home/IsaacCheng/coop_f2021/ngvs_data/{galaxy}/{galaxy}_z_sig.fits\"\n",
    "    inoise_path = f\"/arc/home/IsaacCheng/coop_f2021/ngvs_data/{galaxy}/{galaxy}_i_sig.fits\"\n",
    "    gnoise_path = f\"/arc/home/IsaacCheng/coop_f2021/ngvs_data/{galaxy}/{galaxy}_g_sig.fits\"\n",
    "    unoise_path = f\"/arc/home/IsaacCheng/coop_f2021/ngvs_data/{galaxy}/{galaxy}_u_sig.fits\"\n",
    "    # Mask (flag maps)\n",
    "    zgood_path = f\"/arc/home/IsaacCheng/coop_f2021/ngvs_data/{galaxy}/{galaxy}_z_flag.fits\"\n",
    "    igood_path = f\"/arc/home/IsaacCheng/coop_f2021/ngvs_data/{galaxy}/{galaxy}_z_flag.fits\"\n",
    "    ggood_path = f\"/arc/home/IsaacCheng/coop_f2021/ngvs_data/{galaxy}/{galaxy}_z_flag.fits\"\n",
    "    ugood_path = f\"/arc/home/IsaacCheng/coop_f2021/ngvs_data/{galaxy}/{galaxy}_z_flag.fits\"\n",
    "    # \n",
    "    # Load NGVS data\n",
    "    # \n",
    "    # Signal\n",
    "    zband_data_full, zband_header_full = fits.getdata(zband_path, header=True)\n",
    "    iband_data_full, iband_header_full = fits.getdata(iband_path, header=True)\n",
    "    gband_data_full, gband_header_full = fits.getdata(gband_path, header=True)\n",
    "    uband_data_full, uband_header_full = fits.getdata(uband_path, header=True)\n",
    "    # Noise\n",
    "    zband_noise_full = fits.getdata(znoise_path)\n",
    "    iband_noise_full = fits.getdata(inoise_path)\n",
    "    gband_noise_full = fits.getdata(gnoise_path)\n",
    "    uband_noise_full = fits.getdata(unoise_path)\n",
    "    # Masks\n",
    "    zband_good_full = fits.getdata(zgood_path, ext=1)\n",
    "    iband_good_full = fits.getdata(igood_path, ext=1)\n",
    "    gband_good_full = fits.getdata(ggood_path, ext=1)\n",
    "    uband_good_full = fits.getdata(ugood_path, ext=1)\n",
    "    #\n",
    "    # Mask the data and noise arrays\n",
    "    #\n",
    "    uband_data_masked = np.ma.masked_array(uband_data_full, mask=uband_good_full == 0).filled(fill_value=np.nan)\n",
    "    uband_noise_masked = np.ma.masked_array(uband_noise_full, mask=uband_good_full == 0).filled(fill_value=np.nan)\n",
    "    gband_data_masked = np.ma.masked_array(gband_data_full, mask=gband_good_full == 0).filled(fill_value=np.nan)\n",
    "    gband_noise_masked = np.ma.masked_array(gband_noise_full, mask=gband_good_full == 0).filled(fill_value=np.nan)\n",
    "    iband_data_masked = np.ma.masked_array(iband_data_full, mask=iband_good_full == 0).filled(fill_value=np.nan)\n",
    "    iband_noise_masked = np.ma.masked_array(iband_noise_full, mask=iband_good_full == 0).filled(fill_value=np.nan)\n",
    "    zband_data_masked = np.ma.masked_array(zband_data_full, mask=zband_good_full == 0).filled(fill_value=np.nan)\n",
    "    zband_noise_masked = np.ma.masked_array(zband_noise_full, mask=zband_good_full == 0).filled(fill_value=np.nan)\n",
    "    # \n",
    "    # VERTICO CO Data\n",
    "    # \n",
    "    if bin_resolution == \"nyquist\":\n",
    "        if galaxy == \"NGC4321\":  # no 9 arcsec data since native is 10 arcsec. Use 15 arcsec data instead\n",
    "            Ico_path = f\"/arc/home/IsaacCheng/coop_f2021/vertico_data/v1.3.1/nyquistPix/15arcsec/{galaxy}/{galaxy}_7m+tp_co21_pbcorr_15as_np_round_mom0_Kkms-1.fits\"\n",
    "        else:\n",
    "            Ico_path = f\"/arc/home/IsaacCheng/coop_f2021/vertico_data/v1.3/nyquistPix/9arcsec/{galaxy}/{galaxy}_7m+tp_co21_pbcorr_9as_np_round_mom0_Kkms-1.fits\"\n",
    "    else:\n",
    "        if galaxy == \"NGC4321\":  # no 9 arcsec data since native is 10 arcsec\n",
    "            Ico_path = f\"/arc/home/IsaacCheng/coop_f2021/vertico_data/v1.3.1/native/{galaxy}/{galaxy}_7m+tp_co21_pbcorr_round_mom0_Kkms-1.fits\"\n",
    "        else:\n",
    "            Ico_path = f\"/arc/home/IsaacCheng/coop_f2021/vertico_data/v1.3/9arcsec/{galaxy}/{galaxy}_7m+tp_co21_pbcorr_9as_round_mom0_Kkms-1.fits\"\n",
    "    Ico_data, co_header = fits.getdata(Ico_path, header=True)\n",
    "    co_wcs = WCS(co_header)\n",
    "    # \n",
    "    # Bin NGVS data to VERTICO resolution\n",
    "    # \n",
    "    (\n",
    "        xs_binned,\n",
    "        ys_binned,\n",
    "        uband_data_binned,\n",
    "        uband_noise_binned,\n",
    "        uband_isgood_binned,\n",
    "        wcs_binned,\n",
    "        bin_dimensions,\n",
    "    ) = fu.bin_sn_arrs_to_target(\n",
    "        uband_data_masked,\n",
    "        WCS(uband_header_full),\n",
    "        uband_noise_masked,\n",
    "        WCS(uband_header_full),\n",
    "        Ico_data,\n",
    "        co_wcs,\n",
    "        reproject_func=reproject_func,\n",
    "        bin_func=np.nansum,\n",
    "        print_debug=print_debug,\n",
    "        return_bin_dimen=True,\n",
    "    )\n",
    "    (\n",
    "        _,\n",
    "        _,\n",
    "        gband_data_binned,\n",
    "        gband_noise_binned,\n",
    "        gband_isgood_binned,\n",
    "        _,\n",
    "        tmpgdim,\n",
    "    ) = fu.bin_sn_arrs_to_target(\n",
    "        gband_data_masked,\n",
    "        WCS(gband_header_full),\n",
    "        gband_noise_masked,\n",
    "        WCS(gband_header_full),\n",
    "        Ico_data,\n",
    "        co_wcs,\n",
    "        reproject_func=reproject_func,\n",
    "        bin_func=np.nansum,\n",
    "        print_debug=False,\n",
    "        return_bin_dimen=True,\n",
    "    )\n",
    "    (\n",
    "        _,\n",
    "        _,\n",
    "        iband_data_binned,\n",
    "        iband_noise_binned,\n",
    "        iband_isgood_binned,\n",
    "        _,\n",
    "        tmpidim,\n",
    "    ) = fu.bin_sn_arrs_to_target(\n",
    "        iband_data_masked,\n",
    "        WCS(iband_header_full),\n",
    "        iband_noise_masked,\n",
    "        WCS(iband_header_full),\n",
    "        Ico_data,\n",
    "        co_wcs,\n",
    "        reproject_func=reproject_func,\n",
    "        bin_func=np.nansum,\n",
    "        print_debug=False,\n",
    "        return_bin_dimen=True,\n",
    "    )\n",
    "    (\n",
    "        _,\n",
    "        _,\n",
    "        zband_data_binned,\n",
    "        zband_noise_binned,\n",
    "        zband_isgood_binned,\n",
    "        _,\n",
    "        tmpzdim,\n",
    "    ) = fu.bin_sn_arrs_to_target(\n",
    "        zband_data_masked,\n",
    "        WCS(zband_header_full),\n",
    "        zband_noise_masked,\n",
    "        WCS(zband_header_full),\n",
    "        Ico_data,\n",
    "        co_wcs,\n",
    "        reproject_func=reproject_func,\n",
    "        bin_func=np.nansum,\n",
    "        print_debug=False,\n",
    "        return_bin_dimen=True,\n",
    "    )\n",
    "    # \n",
    "    # Check all bin dimensions are equal\n",
    "    # \n",
    "    if (\n",
    "        (not np.all(bin_dimensions == tmpgdim))\n",
    "        or (not np.all(bin_dimensions == tmpidim))\n",
    "        or (not np.all(bin_dimensions == tmpzdim))\n",
    "    ):\n",
    "        print(bin_dimensions, tmpgdim, tmpidim, tmpzdim)\n",
    "        raise ValueError(\"Bin dimensions are not equal\")\n",
    "    ##################################################################################\n",
    "    # # \n",
    "    # # Normalize fluxes by the number of pixels in each bin\n",
    "    # #\n",
    "    # if plot_debug:\n",
    "    #     fig, ax = plt.subplots(subplot_kw={\"projection\": wcs_binned})\n",
    "    #     img = ax.imshow(uband_data_binned, cmap=\"plasma\", norm=mpl.colors.LogNorm())\n",
    "    #     cbar = fig.colorbar(img)\n",
    "    #     cbar.ax.tick_params(which=\"both\", direction=\"out\")\n",
    "    #     ax.contour(\n",
    "    #         Ico_data,\n",
    "    #         transform=ax.get_transform(co_wcs),\n",
    "    #         levels=[0, 5, 10],\n",
    "    #         colors=\"w\",\n",
    "    #     )\n",
    "    #     ax.set_title(\"Un-normalized u-band flux\")\n",
    "    #     ax.set_xlabel(\"RA (J2000)\")\n",
    "    #     ax.set_ylabel(\"Dec (J2000)\")\n",
    "    #     ax.grid(False)\n",
    "    #     ax.set_aspect(\"equal\")\n",
    "    #     plt.show()\n",
    "    # px_per_bin = bin_dimensions[0] * bin_dimensions[1]\n",
    "    # uband_data_binned = uband_data_binned / px_per_bin\n",
    "    # uband_noise_binned = uband_noise_binned / px_per_bin\n",
    "    # gband_data_binned = gband_data_binned / px_per_bin\n",
    "    # gband_noise_binned = gband_noise_binned / px_per_bin\n",
    "    # iband_data_binned = iband_data_binned / px_per_bin\n",
    "    # iband_noise_binned = iband_noise_binned / px_per_bin\n",
    "    # zband_data_binned = zband_data_binned / px_per_bin\n",
    "    # zband_noise_binned = zband_noise_binned / px_per_bin\n",
    "    # if plot_debug:\n",
    "    #     fig, ax = plt.subplots(subplot_kw={\"projection\": wcs_binned})\n",
    "    #     img = ax.imshow(uband_data_binned, cmap=\"plasma\", norm=mpl.colors.LogNorm())\n",
    "    #     cbar = fig.colorbar(img)\n",
    "    #     cbar.ax.tick_params(which=\"both\", direction=\"out\")\n",
    "    #     ax.contour(\n",
    "    #         Ico_data,\n",
    "    #         transform=ax.get_transform(co_wcs),\n",
    "    #         levels=[0, 5, 10],\n",
    "    #         colors=\"w\",\n",
    "    #     )\n",
    "    #     ax.set_title(\"Normalized u-band flux\")\n",
    "    #     ax.set_xlabel(\"RA (J2000)\")\n",
    "    #     ax.set_ylabel(\"Dec (J2000)\")\n",
    "    #     ax.grid(False)\n",
    "    #     ax.set_aspect(\"equal\")\n",
    "    #     plt.show()\n",
    "    ##################################################################################\n",
    "    # \n",
    "    # Calculate relative AB magnitudes\n",
    "    # \n",
    "    uband_rel_mag_binned, uband_rel_mag_err_binned = fu.calc_mag(\n",
    "        uband_data_binned, uband_noise_binned, zpt=30.0, calc_abs=False\n",
    "    )\n",
    "    gband_rel_mag_binned, gband_rel_mag_err_binned = fu.calc_mag(\n",
    "        gband_data_binned, gband_noise_binned, zpt=30.0, calc_abs=False\n",
    "    )\n",
    "    iband_rel_mag_binned, iband_rel_mag_err_binned = fu.calc_mag(\n",
    "        iband_data_binned, iband_noise_binned, zpt=30.0, calc_abs=False\n",
    "    )\n",
    "    zband_rel_mag_binned, zband_rel_mag_err_binned = fu.calc_mag(\n",
    "        zband_data_binned, zband_noise_binned, zpt=30.0, calc_abs=False\n",
    "    )\n",
    "    # \n",
    "    # Correct for extinction\n",
    "    # \n",
    "    if galaxy != \"NGC4651\":\n",
    "        ebv_coeff = extinctions[vcc_name == vcc_galaxy].values\n",
    "        if ebv_coeff.size != 1:\n",
    "            raise ValueError(f\"More than one E(B-V) coefficient found for {galaxy}\")\n",
    "        ebv_coeff = ebv_coeff[0]\n",
    "    else:\n",
    "        ebv_coeff = extinctions.iloc[NGC4651_row]\n",
    "    uband_rel_mag_binned = uband_rel_mag_binned - ebv_coeff * EBV_u\n",
    "    gband_rel_mag_binned = gband_rel_mag_binned - ebv_coeff * EBV_g\n",
    "    iband_rel_mag_binned = iband_rel_mag_binned - ebv_coeff * EBV_i\n",
    "    zband_rel_mag_binned = zband_rel_mag_binned - ebv_coeff * EBV_z\n",
    "    # \n",
    "    # Pickle data\n",
    "    # \n",
    "    galaxy_outfile = galpath + f\"{galaxy}_regBin_extinctionCorr_{bin_resolution}_noNorm.pkl\"\n",
    "    with open(galaxy_outfile, \"wb\") as f:\n",
    "        dill.dump(\n",
    "            {\n",
    "                \"README\": \"The binned signal and noise arrays, as well as the relative magnitudes, have NOT been normalized by the number of pixels per bin. \"\n",
    "                + \"To normalize the binned signal and noise arrays, simply divide the signal and noise arrays by (`bin_dimensions`[0] * `bin_dimensions`[1]). \"\n",
    "                + \"\\nThe relative magnitudes have been corrected for extinction; the binned signal and noise arrays have not. \"\n",
    "                + \"\\n`ebv_coeff` is the extinction coefficient for the galaxy from the NGVS catalogue; \"\n",
    "                + \"`ebv_u`, `ebv_g`, `ebv_i`, `ebv_z` are the NGVS extinction coefficient conversion factors from http://www.cadc-ccda.hia-iha.nrc-cnrc.gc.ca/en/community/ngvs/query/catdoc.html#ebv. \"\n",
    "                + \"\\nAlso remember to set `wcs_binned.array_shape = wcs_binned_array_shape`\",\n",
    "                \n",
    "                \"reproject_method\": reproject_str,\n",
    "                \"binning_function\": bin_func_str,\n",
    "                \"dist_pc\": GALDIST.to(u.pc).value,  # distance in parsecs\n",
    "                \"x_coords\": xs_binned,  # x-value of pixel coordinates\n",
    "                \"y_coords\": ys_binned,  # y-value of pixel coordinates\n",
    "                \"bin_dimensions\": bin_dimensions,\n",
    "                \"wcs_binned\": wcs_binned,  # dill has trouble saving the \"NAXIS\" keyword\n",
    "                \"wcs_binned_array_shape\": wcs_binned.array_shape,  # \"NAXIS\" keyword\n",
    "                \"ebv_coeff\": ebv_coeff,  # extinction coefficient for the galaxy\n",
    "                \"ebv_u\": EBV_u,  # extinction coefficient conversion factor for the u-band\n",
    "                \"ebv_g\": EBV_g,  # extinction coefficient conversion factor for the g-band\n",
    "                \"ebv_i\": EBV_i,  # extinction coefficient conversion factor for the i-band\n",
    "                \"ebv_z\": EBV_z,  # extinction coefficient conversion factor for the z-band\n",
    "                \n",
    "                \"uband_signal\": uband_data_binned,\n",
    "                \"uband_noise\": uband_noise_binned,\n",
    "                \"gband_signal\": gband_data_binned,\n",
    "                \"gband_noise\": gband_noise_binned,\n",
    "                \"iband_signal\": iband_data_binned,\n",
    "                \"iband_noise\": iband_noise_binned,\n",
    "                \"zband_signal\": zband_data_binned,\n",
    "                \"zband_noise\": zband_noise_binned,\n",
    "                \n",
    "                \"uband_rel_mag\": uband_rel_mag_binned,\n",
    "                \"uband_rel_mag_err\": uband_rel_mag_err_binned,\n",
    "                \"gband_rel_mag\": gband_rel_mag_binned,\n",
    "                \"gband_rel_mag_err\": gband_rel_mag_err_binned,\n",
    "                \"iband_rel_mag\": iband_rel_mag_binned,\n",
    "                \"iband_rel_mag_err\": iband_rel_mag_err_binned,\n",
    "                \"zband_rel_mag\": zband_rel_mag_binned,\n",
    "                \"zband_rel_mag_err\": zband_rel_mag_err_binned,\n",
    "                \n",
    "                \"uband_is_good\": uband_isgood_binned,\n",
    "                \"gband_is_good\": gband_isgood_binned,\n",
    "                \"iband_is_good\": iband_isgood_binned,\n",
    "                \"zband_is_good\": zband_isgood_binned,\n",
    "            },\n",
    "            f,\n",
    "        )\n",
    "        print(f\"Pickled {galaxy_outfile}\")\n"
   ]
  },
  {
   "cell_type": "code",
   "execution_count": null,
   "id": "oriented-sucking",
   "metadata": {},
   "outputs": [],
   "source": [
    "# # \n",
    "# # Preliminary testing and sanity checks\n",
    "# # \n",
    "# bin_ngvs_data(\"IC3392\", 1126, bin_resolution=\"nyquist\", plot_debug=True, reproject_func=reproject.reproject_interp, bin_func=np.nansum)\n",
    "# print()\n",
    "# with open(\"/arc/home/IsaacCheng/coop_f2021/galaxies/IC3392/IC3392_regBin_extinctionCorr_nyquist.pkl\", \"rb\") as f:\n",
    "#     file = dill.load(f)\n",
    "#     print(file.keys())\n",
    "#     print()\n",
    "#     print(file[\"README\"])\n",
    "#     print()\n",
    "#     print(file[\"reproject_method\"])\n",
    "#     print(file[\"binning_function\"])\n",
    "#     print(file[\"wcs_binned\"])\n",
    "#     print(file[\"wcs_binned\"])\n",
    "#     print(file[\"wcs_binned_array_shape\"])\n",
    "#     print(file[\"ebv_coeff\"])\n",
    "#     print(file[\"ebv_u\"])\n",
    "#     print(file[\"uband_signal\"].shape)\n",
    "    \n",
    "# tmppath = \"/arc/home/IsaacCheng/coop_f2021/vertico_data/v1.3/nyquistPix/9arcsec/IC3392/IC3392_7m+tp_co21_pbcorr_9as_np_round_mom0_Kkms-1.fits\"\n",
    "# tmpdata, tmpheader = fits.getdata(tmppath, header=True)\n",
    "# print(\"-\" * 10)\n",
    "# print(tmpdata.shape)\n",
    "# print(WCS(tmpheader))"
   ]
  },
  {
   "cell_type": "markdown",
   "id": "constant-outside",
   "metadata": {},
   "source": [
    "## Nyquist (4 arcsec pixel) Resolution\n"
   ]
  },
  {
   "cell_type": "code",
   "execution_count": null,
   "id": "respiratory-indonesia",
   "metadata": {},
   "outputs": [],
   "source": [
    "# for gal, vcc_gal in zip(GALAXIES, VCC_GALAXIES):\n",
    "#     bin_ngvs_data(\n",
    "#         gal,\n",
    "#         vcc_gal,\n",
    "#         \"nyquist\",\n",
    "#         reproject_func=reproject.reproject_interp,\n",
    "#         bin_func=np.nansum,\n",
    "#     )\n",
    "# print(\"Done!\")"
   ]
  },
  {
   "cell_type": "code",
   "execution_count": 5,
   "id": "identical-hostel",
   "metadata": {
    "collapsed": true,
    "jupyter": {
     "outputs_hidden": true
    },
    "tags": []
   },
   "outputs": [
    {
     "name": "stderr",
     "output_type": "stream",
     "text": [
      "WARNING: FITSFixedWarning: 'datfix' made the change 'Set MJD-OBS to 58800.586857 from DATE-OBS'. [astropy.wcs.wcs]WARNING\n",
      ": FITSFixedWarning: 'datfix' made the change 'Set MJD-OBS to 58857.486979 from DATE-OBS'. [astropy.wcs.wcs]\n",
      "WARNINGWARNING: FITSFixedWarning: 'obsfix' made the change 'Observatory coordinates incomplete'. [astropy.wcs.wcs]\n",
      ": FITSFixedWarning: 'obsfix' made the change 'Observatory coordinates incomplete'. [astropy.wcs.wcs]\n",
      "WARNING: FITSFixedWarning: RADECSYS= 'ICRS ' / Astrometric system \n",
      "the RADECSYS keyword is deprecated, use RADESYSa. [astropy.wcs.wcs]\n",
      "WARNING: FITSFixedWarning: RADECSYS= 'ICRS ' / Astrometric system \n",
      "the RADECSYS keyword is deprecated, use RADESYSa. [astropy.wcs.wcs]\n",
      "WARNING: FITSFixedWarning: 'datfix' made the change 'Set MJD-OBS to 58830.570338 from DATE-OBS'. [astropy.wcs.wcs]\n",
      "WARNING: FITSFixedWarning: 'obsfix' made the change 'Observatory coordinates incomplete'. [astropy.wcs.wcs]\n",
      "WARNING: FITSFixedWarning: RADECSYS= 'ICRS ' / Astrometric system \n",
      "the RADECSYS keyword is deprecated, use RADESYSa. [astropy.wcs.wcs]\n",
      "WARNING: FITSFixedWarning: 'datfix' made the change 'Set MJD-OBS to 58771.720579 from DATE-OBS'. [astropy.wcs.wcs]\n",
      "WARNING: FITSFixedWarning: 'obsfix' made the change 'Observatory coordinates incomplete'. [astropy.wcs.wcs]\n",
      "WARNING: FITSFixedWarning: RADECSYS= 'ICRS ' / Astrometric system \n",
      "the RADECSYS keyword is deprecated, use RADESYSa. [astropy.wcs.wcs]\n",
      "WARNING: FITSFixedWarning: 'datfix' made the change 'Set MJD-OBS to 58203.170749 from DATE-OBS'. [astropy.wcs.wcs]\n",
      "WARNING: FITSFixedWarning: 'obsfix' made the change 'Observatory coordinates incomplete'. [astropy.wcs.wcs]\n",
      "WARNING: FITSFixedWarning: RADECSYS= 'ICRS ' / Astrometric system \n",
      "the RADECSYS keyword is deprecated, use RADESYSa. [astropy.wcs.wcs]\n",
      "WARNING: FITSFixedWarning: 'datfix' made the change 'Set MJD-OBS to 58184.283297 from DATE-OBS'. [astropy.wcs.wcs]\n",
      "WARNING: FITSFixedWarning: 'obsfix' made the change 'Observatory coordinates incomplete'. [astropy.wcs.wcs]\n",
      "WARNING: FITSFixedWarning: RADECSYS= 'ICRS ' / Astrometric system \n",
      "the RADECSYS keyword is deprecated, use RADESYSa. [astropy.wcs.wcs]\n",
      "WARNING: FITSFixedWarning: 'datfix' made the change 'Set MJD-OBS to 58771.655996 from DATE-OBS'. [astropy.wcs.wcs]\n",
      "WARNING: FITSFixedWarning: 'obsfix' made the change 'Observatory coordinates incomplete'. [astropy.wcs.wcs]\n",
      "WARNING: FITSFixedWarning: 'datfix' made the change 'Set MJD-OBS to 58832.392244 from DATE-OBS'. [astropy.wcs.wcs]WARNING\n",
      ": FITSFixedWarning: RADECSYS= 'ICRS ' / Astrometric system \n",
      "the RADECSYS keyword is deprecated, use RADESYSa. [astropy.wcs.wcs]\n",
      "WARNING: FITSFixedWarning: 'obsfix' made the change 'Observatory coordinates incomplete'. [astropy.wcs.wcs]\n",
      "WARNING: FITSFixedWarning: RADECSYS= 'ICRS ' / Astrometric system \n",
      "the RADECSYS keyword is deprecated, use RADESYSa. [astropy.wcs.wcs]\n",
      "WARNINGWARNINGWARNING: FITSFixedWarning: 'datfix' made the change 'Set MJD-OBS to 58125.369839 from DATE-OBS'. [astropy.wcs.wcs]: FITSFixedWarning: 'datfix' made the change 'Set MJD-OBS to 58855.371869 from DATE-OBS'. [astropy.wcs.wcs]WARNING\n",
      "\n",
      ": FITSFixedWarning: 'datfix' made the change 'Set MJD-OBS to 58807.603859 from DATE-OBS'. [astropy.wcs.wcs]\n",
      ": FITSFixedWarning: RADECSYS= 'ICRS ' / Astrometric system \n",
      "the RADECSYS keyword is deprecated, use RADESYSa. [astropy.wcs.wcs]\n",
      "WARNINGWARNING: FITSFixedWarning: 'obsfix' made the change 'Observatory coordinates incomplete'. [astropy.wcs.wcs]\n",
      ": FITSFixedWarning: 'obsfix' made the change 'Observatory coordinates incomplete'. [astropy.wcs.wcs]\n",
      "WARNING: FITSFixedWarning: RADECSYS= 'ICRS ' / Astrometric system \n",
      "the RADECSYS keyword is deprecated, use RADESYSa. [astropy.wcs.wcs]\n",
      "WARNING: FITSFixedWarning: 'obsfix' made the change 'Observatory coordinates incomplete'. [astropy.wcs.wcs]WARNING: FITSFixedWarning: RADECSYS= 'ICRS ' / Astrometric system \n",
      "the RADECSYS keyword is deprecated, use RADESYSa. [astropy.wcs.wcs]\n",
      "\n",
      "WARNING: FITSFixedWarning: RADECSYS= 'ICRS ' / Astrometric system \n",
      "the RADECSYS keyword is deprecated, use RADESYSa. [astropy.wcs.wcs]\n",
      "WARNING: FITSFixedWarning: 'datfix' made the change 'Set MJD-OBS to 58820.540981 from DATE-OBS'. [astropy.wcs.wcs]\n",
      "WARNING: FITSFixedWarning: 'obsfix' made the change 'Observatory coordinates incomplete'. [astropy.wcs.wcs]\n",
      "WARNINGWARNING: FITSFixedWarning: RADECSYS= 'ICRS ' / Astrometric system \n",
      "the RADECSYS keyword is deprecated, use RADESYSa. [astropy.wcs.wcs]: FITSFixedWarning: RADECSYS= 'ICRS ' / Astrometric system \n",
      "the RADECSYS keyword is deprecated, use RADESYSa. [astropy.wcs.wcs]\n",
      "\n",
      "WARNINGWARNING: FITSFixedWarning: 'datfix' made the change 'Set MJD-OBS to 58786.495183 from DATE-OBS'. [astropy.wcs.wcs]\n",
      ": FITSFixedWarning: 'datfix' made the change 'Set MJD-OBS to 58835.533518 from DATE-OBS'. [astropy.wcs.wcs]\n",
      "WARNING: FITSFixedWarning: 'obsfix' made the change 'Observatory coordinates incomplete'. [astropy.wcs.wcs]\n",
      "WARNING: FITSFixedWarning: 'obsfix' made the change 'Observatory coordinates incomplete'. [astropy.wcs.wcs]\n",
      "WARNING: FITSFixedWarning: 'datfix' made the change 'Set MJD-OBS to 58855.352029 from DATE-OBS'. [astropy.wcs.wcs]\n",
      "WARNINGWARNINGWARNING: FITSFixedWarning: 'obsfix' made the change 'Observatory coordinates incomplete'. [astropy.wcs.wcs]\n",
      ": FITSFixedWarning: RADECSYS= 'ICRS ' / Astrometric system \n",
      "the RADECSYS keyword is deprecated, use RADESYSa. [astropy.wcs.wcs]: FITSFixedWarning: RADECSYS= 'ICRS ' / Astrometric system \n",
      "the RADECSYS keyword is deprecated, use RADESYSa. [astropy.wcs.wcs]\n",
      "\n",
      "WARNING: FITSFixedWarning: RADECSYS= 'ICRS ' / Astrometric system \n",
      "the RADECSYS keyword is deprecated, use RADESYSa. [astropy.wcs.wcs]\n",
      "WARNING: FITSFixedWarning: 'datfix' made the change 'Set MJD-OBS to 58838.438545 from DATE-OBS'. [astropy.wcs.wcs]\n",
      "WARNING: FITSFixedWarning: 'obsfix' made the change 'Observatory coordinates incomplete'. [astropy.wcs.wcs]\n",
      "WARNING: FITSFixedWarning: 'datfix' made the change 'Set MJD-OBS to 58858.416048 from DATE-OBS'. [astropy.wcs.wcs]\n",
      "WARNINGWARNING: FITSFixedWarning: RADECSYS= 'ICRS ' / Astrometric system \n",
      "the RADECSYS keyword is deprecated, use RADESYSa. [astropy.wcs.wcs]\n",
      ": FITSFixedWarning: 'obsfix' made the change 'Observatory coordinates incomplete'. [astropy.wcs.wcs]WARNING: FITSFixedWarning: 'datfix' made the change 'Set MJD-OBS to 58197.199664 from DATE-OBS'. [astropy.wcs.wcs]\n",
      "\n",
      "WARNING: FITSFixedWarning: 'obsfix' made the change 'Observatory coordinates incomplete'. [astropy.wcs.wcs]\n",
      "WARNING: FITSFixedWarning: RADECSYS= 'ICRS ' / Astrometric system \n",
      "the RADECSYS keyword is deprecated, use RADESYSa. [astropy.wcs.wcs]\n",
      "WARNING: FITSFixedWarning: RADECSYS= 'ICRS ' / Astrometric system \n",
      "the RADECSYS keyword is deprecated, use RADESYSa. [astropy.wcs.wcs]\n",
      "WARNING: FITSFixedWarning: 'datfix' made the change 'Set MJD-OBS to 58837.406607 from DATE-OBS'. [astropy.wcs.wcs]\n",
      "WARNINGWARNING: FITSFixedWarning: 'datfix' made the change 'Set MJD-OBS to 58034.639742 from DATE-OBS'. [astropy.wcs.wcs]: FITSFixedWarning: 'datfix' made the change 'Set MJD-OBS to 57613.735997 from DATE-OBS'. [astropy.wcs.wcs]\n",
      "WARNING\n",
      ": FITSFixedWarning: 'obsfix' made the change 'Observatory coordinates incomplete'. [astropy.wcs.wcs]\n",
      "WARNINGWARNING: FITSFixedWarning: 'obsfix' made the change 'Observatory coordinates incomplete'. [astropy.wcs.wcs]: FITSFixedWarning: 'obsfix' made the change 'Observatory coordinates incomplete'. [astropy.wcs.wcs]\n",
      "\n",
      "WARNINGWARNING: FITSFixedWarning: RADECSYS= 'ICRS ' / Astrometric system \n",
      "the RADECSYS keyword is deprecated, use RADESYSa. [astropy.wcs.wcs]\n",
      "WARNING: FITSFixedWarning: RADECSYS= 'ICRS ' / Astrometric system \n",
      "the RADECSYS keyword is deprecated, use RADESYSa. [astropy.wcs.wcs]: FITSFixedWarning: RADECSYS= 'ICRS ' / Astrometric system \n",
      "the RADECSYS keyword is deprecated, use RADESYSa. [astropy.wcs.wcs]\n",
      "WARNING: FITSFixedWarning: 'datfix' made the change 'Set MJD-OBS to 58827.396029 from DATE-OBS'. [astropy.wcs.wcs]\n",
      "\n",
      "WARNING: FITSFixedWarning: 'obsfix' made the change 'Observatory coordinates incomplete'. [astropy.wcs.wcs]\n",
      "WARNING: FITSFixedWarning: RADECSYS= 'ICRS ' / Astrometric system \n",
      "the RADECSYS keyword is deprecated, use RADESYSa. [astropy.wcs.wcs]\n",
      "WARNING: FITSFixedWarning: 'datfix' made the change 'Set MJD-OBS to 58910.235509 from DATE-OBS'. [astropy.wcs.wcs]\n",
      "WARNING: FITSFixedWarning: 'obsfix' made the change 'Observatory coordinates incomplete'. [astropy.wcs.wcs]\n",
      "WARNING: FITSFixedWarning: 'datfix' made the change 'Set MJD-OBS to 58822.371327 from DATE-OBS'. [astropy.wcs.wcs]\n",
      "WARNING: FITSFixedWarning: RADECSYS= 'ICRS ' / Astrometric system \n",
      "the RADECSYS keyword is deprecated, use RADESYSa. [astropy.wcs.wcs]\n",
      "WARNING: FITSFixedWarning: 'obsfix' made the change 'Observatory coordinates incomplete'. [astropy.wcs.wcs]\n",
      "WARNING: FITSFixedWarning: RADECSYS= 'ICRS ' / Astrometric system \n",
      "the RADECSYS keyword is deprecated, use RADESYSa. [astropy.wcs.wcs]\n",
      "WARNING: FITSFixedWarning: 'datfix' made the change 'Set MJD-OBS to 58906.231702 from DATE-OBS'. [astropy.wcs.wcs]\n",
      "WARNING: FITSFixedWarning: 'obsfix' made the change 'Observatory coordinates incomplete'. [astropy.wcs.wcs]\n",
      "WARNING: FITSFixedWarning: 'datfix' made the change 'Set MJD-OBS to 58839.379235 from DATE-OBS'. [astropy.wcs.wcs]WARNING: FITSFixedWarning: RADECSYS= 'ICRS ' / Astrometric system \n",
      "the RADECSYS keyword is deprecated, use RADESYSa. [astropy.wcs.wcs]\n",
      "\n",
      "WARNING: FITSFixedWarning: 'obsfix' made the change 'Observatory coordinates incomplete'. [astropy.wcs.wcs]\n",
      "WARNINGWARNING: FITSFixedWarning: RADECSYS= 'ICRS ' / Astrometric system \n",
      "the RADECSYS keyword is deprecated, use RADESYSa. [astropy.wcs.wcs]\n",
      ": FITSFixedWarning: 'datfix' made the change 'Set MJD-OBS to 57594.978228 from DATE-OBS'. [astropy.wcs.wcs]\n",
      "WARNING: FITSFixedWarning: 'obsfix' made the change 'Observatory coordinates incomplete'. [astropy.wcs.wcs]\n",
      "WARNING: FITSFixedWarning: 'datfix' made the change 'Set MJD-OBS to 58821.370833 from DATE-OBS'. [astropy.wcs.wcs]WARNING: FITSFixedWarning: RADECSYS= 'ICRS ' / Astrometric system \n",
      "the RADECSYS keyword is deprecated, use RADESYSa. [astropy.wcs.wcs]WARNING\n",
      "\n",
      ": FITSFixedWarning: 'datfix' made the change 'Set MJD-OBS to 57524.101317 from DATE-OBS'. [astropy.wcs.wcs]\n",
      "WARNINGWARNING: FITSFixedWarning: 'obsfix' made the change 'Observatory coordinates incomplete'. [astropy.wcs.wcs]: FITSFixedWarning: 'obsfix' made the change 'Observatory coordinates incomplete'. [astropy.wcs.wcs]\n",
      "\n",
      "WARNING: FITSFixedWarning: RADECSYS= 'ICRS ' / Astrometric system \n",
      "the RADECSYS keyword is deprecated, use RADESYSa. [astropy.wcs.wcs]WARNING: FITSFixedWarning: RADECSYS= 'ICRS ' / Astrometric system \n",
      "the RADECSYS keyword is deprecated, use RADESYSa. [astropy.wcs.wcs]\n",
      "\n",
      "WARNINGWARNING: FITSFixedWarning: 'datfix' made the change 'Set MJD-OBS to 57729.380956 from DATE-OBS'. [astropy.wcs.wcs]: FITSFixedWarning: 'datfix' made the change 'Set MJD-OBS to 58811.578396 from DATE-OBS'. [astropy.wcs.wcs]WARNING\n",
      "\n",
      "WARNINGWARNING: FITSFixedWarning: RADECSYS= 'ICRS ' / Astrometric system \n",
      "the RADECSYS keyword is deprecated, use RADESYSa. [astropy.wcs.wcs]WARNING: FITSFixedWarning: RADECSYS= 'ICRS ' / Astrometric system \n",
      "the RADECSYS keyword is deprecated, use RADESYSa. [astropy.wcs.wcs]: FITSFixedWarning: 'obsfix' made the change 'Observatory coordinates incomplete'. [astropy.wcs.wcs]\n",
      ": FITSFixedWarning: 'obsfix' made the change 'Observatory coordinates incomplete'. [astropy.wcs.wcs]\n",
      "\n",
      "\n",
      "WARNINGWARNING: FITSFixedWarning: RADECSYS= 'ICRS ' / Astrometric system \n",
      "the RADECSYS keyword is deprecated, use RADESYSa. [astropy.wcs.wcs]: FITSFixedWarning: RADECSYS= 'ICRS ' / Astrometric system \n",
      "the RADECSYS keyword is deprecated, use RADESYSa. [astropy.wcs.wcs]\n",
      "\n",
      "WARNING: FITSFixedWarning: RADECSYS= 'ICRS ' / Astrometric system \n",
      "the RADECSYS keyword is deprecated, use RADESYSa. [astropy.wcs.wcs]\n",
      "WARNING: FITSFixedWarning: RADECSYS= 'ICRS ' / Astrometric system \n",
      "the RADECSYS keyword is deprecated, use RADESYSa. [astropy.wcs.wcs]WARNINGWARNING\n",
      ": FITSFixedWarning: RADECSYS= 'ICRS ' / Astrometric system \n",
      "the RADECSYS keyword is deprecated, use RADESYSa. [astropy.wcs.wcs]: FITSFixedWarning: RADECSYS= 'ICRS ' / Astrometric system \n",
      "the RADECSYS keyword is deprecated, use RADESYSa. [astropy.wcs.wcs]\n",
      "\n",
      "WARNING: FITSFixedWarning: RADECSYS= 'ICRS ' / Astrometric system \n",
      "the RADECSYS keyword is deprecated, use RADESYSa. [astropy.wcs.wcs]\n",
      "WARNING: FITSFixedWarning: RADECSYS= 'ICRS ' / Astrometric system \n",
      "the RADECSYS keyword is deprecated, use RADESYSa. [astropy.wcs.wcs]\n",
      "WARNING: FITSFixedWarning: RADECSYS= 'ICRS ' / Astrometric system \n",
      "the RADECSYS keyword is deprecated, use RADESYSa. [astropy.wcs.wcs]\n",
      "WARNING: FITSFixedWarning: RADECSYS= 'ICRS ' / Astrometric system \n",
      "the RADECSYS keyword is deprecated, use RADESYSa. [astropy.wcs.wcs]\n",
      "WARNING: FITSFixedWarning: RADECSYS= 'ICRS ' / Astrometric system \n",
      "the RADECSYS keyword is deprecated, use RADESYSa. [astropy.wcs.wcs]\n",
      "WARNINGWARNING: FITSFixedWarning: RADECSYS= 'ICRS ' / Astrometric system \n",
      "the RADECSYS keyword is deprecated, use RADESYSa. [astropy.wcs.wcs]: FITSFixedWarning: RADECSYS= 'ICRS ' / Astrometric system \n",
      "the RADECSYS keyword is deprecated, use RADESYSa. [astropy.wcs.wcs]\n",
      "\n",
      "WARNINGWARNING: FITSFixedWarning: 'datfix' made the change 'Set MJD-OBS to 58823.434418 from DATE-OBS'. [astropy.wcs.wcs]\n",
      ": FITSFixedWarning: RADECSYS= 'ICRS ' / Astrometric system \n",
      "the RADECSYS keyword is deprecated, use RADESYSa. [astropy.wcs.wcs]\n",
      "WARNING: FITSFixedWarning: 'obsfix' made the change 'Observatory coordinates incomplete'. [astropy.wcs.wcs]\n",
      "WARNINGWARNING: FITSFixedWarning: RADECSYS= 'ICRS ' / Astrometric system \n",
      "the RADECSYS keyword is deprecated, use RADESYSa. [astropy.wcs.wcs]\n",
      ": FITSFixedWarning: RADECSYS= 'ICRS ' / Astrometric system \n",
      "the RADECSYS keyword is deprecated, use RADESYSa. [astropy.wcs.wcs]\n",
      "WARNING: FITSFixedWarning: RADECSYS= 'ICRS ' / Astrometric system \n",
      "the RADECSYS keyword is deprecated, use RADESYSa. [astropy.wcs.wcs]\n",
      "WARNING: FITSFixedWarning: RADECSYS= 'ICRS ' / Astrometric system \n",
      "the RADECSYS keyword is deprecated, use RADESYSa. [astropy.wcs.wcs]WARNINGWARNINGWARNING\n",
      ": FITSFixedWarning: RADECSYS= 'ICRS ' / Astrometric system \n",
      "the RADECSYS keyword is deprecated, use RADESYSa. [astropy.wcs.wcs]: FITSFixedWarning: RADECSYS= 'ICRS ' / Astrometric system \n",
      "the RADECSYS keyword is deprecated, use RADESYSa. [astropy.wcs.wcs]: FITSFixedWarning: RADECSYS= 'ICRS ' / Astrometric system \n",
      "the RADECSYS keyword is deprecated, use RADESYSa. [astropy.wcs.wcs]\n",
      "\n",
      "\n"
     ]
    },
    {
     "name": "stdout",
     "output_type": "stream",
     "text": [
      "Pickled /arc/home/IsaacCheng/coop_f2021/galaxies/NGC4405/NGC4405_regBin_extinctionCorr_nyquist.pkl"
     ]
    },
    {
     "name": "stderr",
     "output_type": "stream",
     "text": [
      "WARNING"
     ]
    },
    {
     "name": "stdout",
     "output_type": "stream",
     "text": [
      "\n"
     ]
    },
    {
     "name": "stderr",
     "output_type": "stream",
     "text": [
      ": FITSFixedWarning: RADECSYS= 'ICRS ' / Astrometric system \n",
      "the RADECSYS keyword is deprecated, use RADESYSa. [astropy.wcs.wcs]\n",
      "WARNING: FITSFixedWarning: RADECSYS= 'ICRS ' / Astrometric system \n",
      "the RADECSYS keyword is deprecated, use RADESYSa. [astropy.wcs.wcs]\n",
      "WARNING: FITSFixedWarning: RADECSYS= 'ICRS ' / Astrometric system \n",
      "the RADECSYS keyword is deprecated, use RADESYSa. [astropy.wcs.wcs]\n",
      "WARNING: FITSFixedWarning: RADECSYS= 'ICRS ' / Astrometric system \n",
      "the RADECSYS keyword is deprecated, use RADESYSa. [astropy.wcs.wcs]\n",
      "WARNING: FITSFixedWarning: RADECSYS= 'ICRS ' / Astrometric system \n",
      "the RADECSYS keyword is deprecated, use RADESYSa. [astropy.wcs.wcs]\n",
      "WARNING: FITSFixedWarning: RADECSYS= 'ICRS ' / Astrometric system \n",
      "the RADECSYS keyword is deprecated, use RADESYSa. [astropy.wcs.wcs]\n",
      "WARNING: FITSFixedWarning: 'datfix' made the change 'Set MJD-OBS to 58837.456786 from DATE-OBS'. [astropy.wcs.wcs]\n",
      "WARNING: FITSFixedWarning: 'obsfix' made the change 'Observatory coordinates incomplete'. [astropy.wcs.wcs]\n",
      "WARNING: FITSFixedWarning: RADECSYS= 'ICRS ' / Astrometric system \n",
      "the RADECSYS keyword is deprecated, use RADESYSa. [astropy.wcs.wcs]"
     ]
    },
    {
     "name": "stdout",
     "output_type": "stream",
     "text": [
      "Pickled /arc/home/IsaacCheng/coop_f2021/galaxies/IC3392/IC3392_regBin_extinctionCorr_nyquist.pkl"
     ]
    },
    {
     "name": "stderr",
     "output_type": "stream",
     "text": [
      "\n"
     ]
    },
    {
     "name": "stdout",
     "output_type": "stream",
     "text": [
      "\n"
     ]
    },
    {
     "name": "stderr",
     "output_type": "stream",
     "text": [
      "WARNING: FITSFixedWarning: RADECSYS= 'ICRS ' / Astrometric system \n",
      "the RADECSYS keyword is deprecated, use RADESYSa. [astropy.wcs.wcs]\n",
      "WARNINGWARNING: FITSFixedWarning: RADECSYS= 'ICRS ' / Astrometric system \n",
      "the RADECSYS keyword is deprecated, use RADESYSa. [astropy.wcs.wcs]\n",
      ": FITSFixedWarning: RADECSYS= 'ICRS ' / Astrometric system \n",
      "the RADECSYS keyword is deprecated, use RADESYSa. [astropy.wcs.wcs]\n",
      "WARNING: FITSFixedWarning: RADECSYS= 'ICRS ' / Astrometric system \n",
      "the RADECSYS keyword is deprecated, use RADESYSa. [astropy.wcs.wcs]\n",
      "WARNING: FITSFixedWarning: RADECSYS= 'ICRS ' / Astrometric system \n",
      "the RADECSYS keyword is deprecated, use RADESYSa. [astropy.wcs.wcs]\n",
      "WARNING: FITSFixedWarning: RADECSYS= 'ICRS ' / Astrometric system \n",
      "the RADECSYS keyword is deprecated, use RADESYSa. [astropy.wcs.wcs]\n",
      "WARNING: FITSFixedWarning: RADECSYS= 'ICRS ' / Astrometric system \n",
      "the RADECSYS keyword is deprecated, use RADESYSa. [astropy.wcs.wcs]\n",
      "WARNINGWARNING: FITSFixedWarning: RADECSYS= 'ICRS ' / Astrometric system \n",
      "the RADECSYS keyword is deprecated, use RADESYSa. [astropy.wcs.wcs]: FITSFixedWarning: RADECSYS= 'ICRS ' / Astrometric system \n",
      "the RADECSYS keyword is deprecated, use RADESYSa. [astropy.wcs.wcs]\n",
      "\n",
      "WARNING: FITSFixedWarning: RADECSYS= 'ICRS ' / Astrometric system \n",
      "the RADECSYS keyword is deprecated, use RADESYSa. [astropy.wcs.wcs]\n",
      "WARNINGWARNING: FITSFixedWarning: RADECSYS= 'ICRS ' / Astrometric system \n",
      "the RADECSYS keyword is deprecated, use RADESYSa. [astropy.wcs.wcs]: FITSFixedWarning: 'datfix' made the change 'Set MJD-OBS to 58119.389391 from DATE-OBS'. [astropy.wcs.wcs]\n",
      "\n",
      "/arc/home/IsaacCheng/coop_f2021/packages/fits_utils.py:241: RuntimeWarning: divide by zero encountered in log10\n",
      "  rel_mag = -2.5 * np.log10(flux) + zpt\n",
      "WARNING: FITSFixedWarning: 'obsfix' made the change 'Observatory coordinates incomplete'. [astropy.wcs.wcs]/arc/home/IsaacCheng/coop_f2021/packages/fits_utils.py:242: RuntimeWarning: invalid value encountered in true_divide\n",
      "  rel_mag_err = 2.5 / np.log(10) * abs(flux_err / flux)\n",
      "\n",
      "WARNING: FITSFixedWarning: RADECSYS= 'ICRS ' / Astrometric system \n",
      "the RADECSYS keyword is deprecated, use RADESYSa. [astropy.wcs.wcs]\n"
     ]
    },
    {
     "name": "stdout",
     "output_type": "stream",
     "text": [
      "Pickled /arc/home/IsaacCheng/coop_f2021/galaxies/NGC4299/NGC4299_regBin_extinctionCorr_nyquist.pkl\n"
     ]
    },
    {
     "name": "stderr",
     "output_type": "stream",
     "text": [
      "WARNING: FITSFixedWarning: RADECSYS= 'ICRS ' / Astrometric system \n",
      "the RADECSYS keyword is deprecated, use RADESYSa. [astropy.wcs.wcs]\n",
      "WARNING: FITSFixedWarning: RADECSYS= 'ICRS ' / Astrometric system \n",
      "the RADECSYS keyword is deprecated, use RADESYSa. [astropy.wcs.wcs]\n",
      "WARNING: FITSFixedWarning: RADECSYS= 'ICRS ' / Astrometric system \n",
      "the RADECSYS keyword is deprecated, use RADESYSa. [astropy.wcs.wcs]\n",
      "WARNING: FITSFixedWarning: RADECSYS= 'ICRS ' / Astrometric system \n",
      "the RADECSYS keyword is deprecated, use RADESYSa. [astropy.wcs.wcs]\n",
      "WARNING: FITSFixedWarning: RADECSYS= 'ICRS ' / Astrometric system \n",
      "the RADECSYS keyword is deprecated, use RADESYSa. [astropy.wcs.wcs]\n",
      "WARNING: FITSFixedWarning: 'datfix' made the change 'Set MJD-OBS to 58125.480975 from DATE-OBS'. [astropy.wcs.wcs]/arc/home/IsaacCheng/coop_f2021/packages/fits_utils.py:241: RuntimeWarning: divide by zero encountered in log10\n",
      "  rel_mag = -2.5 * np.log10(flux) + zpt\n",
      "\n",
      "/arc/home/IsaacCheng/coop_f2021/packages/fits_utils.py:242: RuntimeWarning: invalid value encountered in true_divide\n",
      "  rel_mag_err = 2.5 / np.log(10) * abs(flux_err / flux)\n",
      "WARNING: FITSFixedWarning: 'obsfix' made the change 'Observatory coordinates incomplete'. [astropy.wcs.wcs]\n"
     ]
    },
    {
     "name": "stdout",
     "output_type": "stream",
     "text": [
      "Pickled /arc/home/IsaacCheng/coop_f2021/galaxies/NGC4294/NGC4294_regBin_extinctionCorr_nyquist.pkl"
     ]
    },
    {
     "name": "stderr",
     "output_type": "stream",
     "text": [
      "WARNING"
     ]
    },
    {
     "name": "stdout",
     "output_type": "stream",
     "text": [
      "\n"
     ]
    },
    {
     "name": "stderr",
     "output_type": "stream",
     "text": [
      ": FITSFixedWarning: RADECSYS= 'ICRS ' / Astrometric system \n",
      "the RADECSYS keyword is deprecated, use RADESYSa. [astropy.wcs.wcs]\n",
      "WARNINGWARNING: FITSFixedWarning: RADECSYS= 'ICRS ' / Astrometric system \n",
      "the RADECSYS keyword is deprecated, use RADESYSa. [astropy.wcs.wcs]: FITSFixedWarning: RADECSYS= 'ICRS ' / Astrometric system \n",
      "the RADECSYS keyword is deprecated, use RADESYSa. [astropy.wcs.wcs]\n",
      "\n"
     ]
    },
    {
     "name": "stdout",
     "output_type": "stream",
     "text": [
      "Pickled /arc/home/IsaacCheng/coop_f2021/galaxies/NGC4568/NGC4568_regBin_extinctionCorr_nyquist.pkl\n"
     ]
    },
    {
     "name": "stderr",
     "output_type": "stream",
     "text": [
      "WARNINGWARNING: FITSFixedWarning: RADECSYS= 'ICRS ' / Astrometric system \n",
      "the RADECSYS keyword is deprecated, use RADESYSa. [astropy.wcs.wcs]: FITSFixedWarning: RADECSYS= 'ICRS ' / Astrometric system \n",
      "the RADECSYS keyword is deprecated, use RADESYSa. [astropy.wcs.wcs]\n",
      "\n"
     ]
    },
    {
     "name": "stdout",
     "output_type": "stream",
     "text": [
      "Pickled /arc/home/IsaacCheng/coop_f2021/galaxies/NGC4351/NGC4351_regBin_extinctionCorr_nyquist.pkl\n"
     ]
    },
    {
     "name": "stderr",
     "output_type": "stream",
     "text": [
      "WARNING: FITSFixedWarning: RADECSYS= 'ICRS ' / Astrometric system \n",
      "the RADECSYS keyword is deprecated, use RADESYSa. [astropy.wcs.wcs]\n",
      "WARNING: FITSFixedWarning: RADECSYS= 'ICRS ' / Astrometric system \n",
      "the RADECSYS keyword is deprecated, use RADESYSa. [astropy.wcs.wcs]\n",
      "WARNING: FITSFixedWarning: RADECSYS= 'ICRS ' / Astrometric system \n",
      "the RADECSYS keyword is deprecated, use RADESYSa. [astropy.wcs.wcs]\n",
      "WARNING: FITSFixedWarning: 'datfix' made the change 'Set MJD-OBS to 58029.684441 from DATE-OBS'. [astropy.wcs.wcs]WARNING\n",
      ": FITSFixedWarning: RADECSYS= 'ICRS ' / Astrometric system \n",
      "the RADECSYS keyword is deprecated, use RADESYSa. [astropy.wcs.wcs]\n",
      "WARNING: FITSFixedWarning: 'obsfix' made the change 'Observatory coordinates incomplete'. [astropy.wcs.wcs]\n",
      "WARNING: FITSFixedWarning: RADECSYS= 'ICRS ' / Astrometric system \n",
      "the RADECSYS keyword is deprecated, use RADESYSa. [astropy.wcs.wcs]\n",
      "/arc/home/IsaacCheng/coop_f2021/packages/fits_utils.py:241: RuntimeWarning: divide by zero encountered in log10\n",
      "  rel_mag = -2.5 * np.log10(flux) + zpt\n",
      "/arc/home/IsaacCheng/coop_f2021/packages/fits_utils.py:242: RuntimeWarning: invalid value encountered in true_divide\n",
      "  rel_mag_err = 2.5 / np.log(10) * abs(flux_err / flux)\n"
     ]
    },
    {
     "name": "stdout",
     "output_type": "stream",
     "text": [
      "Pickled /arc/home/IsaacCheng/coop_f2021/galaxies/NGC4419/NGC4419_regBin_extinctionCorr_nyquist.pkl\n"
     ]
    },
    {
     "name": "stderr",
     "output_type": "stream",
     "text": [
      "WARNING: FITSFixedWarning: RADECSYS= 'ICRS ' / Astrometric system \n",
      "the RADECSYS keyword is deprecated, use RADESYSa. [astropy.wcs.wcs]\n",
      "WARNING: FITSFixedWarning: RADECSYS= 'ICRS ' / Astrometric system \n",
      "the RADECSYS keyword is deprecated, use RADESYSa. [astropy.wcs.wcs]\n"
     ]
    },
    {
     "name": "stdout",
     "output_type": "stream",
     "text": [
      "Pickled /arc/home/IsaacCheng/coop_f2021/galaxies/NGC4580/NGC4580_regBin_extinctionCorr_nyquist.pkl\n"
     ]
    },
    {
     "name": "stderr",
     "output_type": "stream",
     "text": [
      "WARNING: FITSFixedWarning: RADECSYS= 'ICRS ' / Astrometric system \n",
      "the RADECSYS keyword is deprecated, use RADESYSa. [astropy.wcs.wcs]\n",
      "WARNING: FITSFixedWarning: RADECSYS= 'ICRS ' / Astrometric system \n",
      "the RADECSYS keyword is deprecated, use RADESYSa. [astropy.wcs.wcs]\n",
      "WARNING: FITSFixedWarning: RADECSYS= 'ICRS ' / Astrometric system \n",
      "the RADECSYS keyword is deprecated, use RADESYSa. [astropy.wcs.wcs]\n",
      "WARNING: FITSFixedWarning: RADECSYS= 'ICRS ' / Astrometric system \n",
      "the RADECSYS keyword is deprecated, use RADESYSa. [astropy.wcs.wcs]\n"
     ]
    },
    {
     "name": "stdout",
     "output_type": "stream",
     "text": [
      "Pickled /arc/home/IsaacCheng/coop_f2021/galaxies/NGC4607/NGC4607_regBin_extinctionCorr_nyquist.pkl\n",
      "Pickled /arc/home/IsaacCheng/coop_f2021/galaxies/NGC4424/NGC4424_regBin_extinctionCorr_nyquist.pkl\n"
     ]
    },
    {
     "name": "stderr",
     "output_type": "stream",
     "text": [
      "WARNING: FITSFixedWarning: RADECSYS= 'ICRS ' / Astrometric system \n",
      "the RADECSYS keyword is deprecated, use RADESYSa. [astropy.wcs.wcs]\n",
      "WARNING: FITSFixedWarning: RADECSYS= 'ICRS ' / Astrometric system \n",
      "the RADECSYS keyword is deprecated, use RADESYSa. [astropy.wcs.wcs]\n",
      "WARNING: FITSFixedWarning: RADECSYS= 'ICRS ' / Astrometric system \n",
      "the RADECSYS keyword is deprecated, use RADESYSa. [astropy.wcs.wcs]\n",
      "WARNING: FITSFixedWarning: RADECSYS= 'ICRS ' / Astrometric system \n",
      "the RADECSYS keyword is deprecated, use RADESYSa. [astropy.wcs.wcs]\n"
     ]
    },
    {
     "name": "stdout",
     "output_type": "stream",
     "text": [
      "Pickled /arc/home/IsaacCheng/coop_f2021/galaxies/NGC4567/NGC4567_regBin_extinctionCorr_nyquist.pkl\n"
     ]
    },
    {
     "name": "stderr",
     "output_type": "stream",
     "text": [
      "/arc/home/IsaacCheng/coop_f2021/packages/fits_utils.py:241: RuntimeWarning: divide by zero encountered in log10\n",
      "  rel_mag = -2.5 * np.log10(flux) + zpt\n",
      "/arc/home/IsaacCheng/coop_f2021/packages/fits_utils.py:242: RuntimeWarning: invalid value encountered in true_divide\n",
      "  rel_mag_err = 2.5 / np.log(10) * abs(flux_err / flux)\n"
     ]
    },
    {
     "name": "stdout",
     "output_type": "stream",
     "text": [
      "Pickled /arc/home/IsaacCheng/coop_f2021/galaxies/NGC4383/NGC4383_regBin_extinctionCorr_nyquist.pkl\n"
     ]
    },
    {
     "name": "stderr",
     "output_type": "stream",
     "text": [
      "WARNING: FITSFixedWarning: RADECSYS= 'ICRS ' / Astrometric system \n",
      "the RADECSYS keyword is deprecated, use RADESYSa. [astropy.wcs.wcs]\n",
      "WARNING: FITSFixedWarning: RADECSYS= 'ICRS ' / Astrometric system \n",
      "the RADECSYS keyword is deprecated, use RADESYSa. [astropy.wcs.wcs]\n",
      "WARNING: FITSFixedWarning: RADECSYS= 'ICRS ' / Astrometric system \n",
      "the RADECSYS keyword is deprecated, use RADESYSa. [astropy.wcs.wcs]\n",
      "WARNING: FITSFixedWarning: RADECSYS= 'ICRS ' / Astrometric system \n",
      "the RADECSYS keyword is deprecated, use RADESYSa. [astropy.wcs.wcs]\n"
     ]
    },
    {
     "name": "stdout",
     "output_type": "stream",
     "text": [
      "Pickled /arc/home/IsaacCheng/coop_f2021/galaxies/NGC4522/NGC4522_regBin_extinctionCorr_nyquist.pkl\n"
     ]
    },
    {
     "name": "stderr",
     "output_type": "stream",
     "text": [
      "WARNING: FITSFixedWarning: RADECSYS= 'ICRS ' / Astrometric system \n",
      "the RADECSYS keyword is deprecated, use RADESYSa. [astropy.wcs.wcs]\n",
      "WARNING: FITSFixedWarning: RADECSYS= 'ICRS ' / Astrometric system \n",
      "the RADECSYS keyword is deprecated, use RADESYSa. [astropy.wcs.wcs]\n",
      "WARNING: FITSFixedWarning: RADECSYS= 'ICRS ' / Astrometric system \n",
      "the RADECSYS keyword is deprecated, use RADESYSa. [astropy.wcs.wcs]\n",
      "WARNING: FITSFixedWarning: RADECSYS= 'ICRS ' / Astrometric system \n",
      "the RADECSYS keyword is deprecated, use RADESYSa. [astropy.wcs.wcs]\n",
      "/arc/home/IsaacCheng/coop_f2021/packages/fits_utils.py:241: RuntimeWarning: divide by zero encountered in log10\n",
      "  rel_mag = -2.5 * np.log10(flux) + zpt\n",
      "/arc/home/IsaacCheng/coop_f2021/packages/fits_utils.py:242: RuntimeWarning: invalid value encountered in true_divide\n",
      "  rel_mag_err = 2.5 / np.log(10) * abs(flux_err / flux)\n"
     ]
    },
    {
     "name": "stdout",
     "output_type": "stream",
     "text": [
      "Pickled /arc/home/IsaacCheng/coop_f2021/galaxies/NGC4532/NGC4532_regBin_extinctionCorr_nyquist.pkl\n"
     ]
    },
    {
     "name": "stderr",
     "output_type": "stream",
     "text": [
      "WARNING: FITSFixedWarning: RADECSYS= 'ICRS ' / Astrometric system \n",
      "the RADECSYS keyword is deprecated, use RADESYSa. [astropy.wcs.wcs]\n",
      "WARNING: FITSFixedWarning: RADECSYS= 'ICRS ' / Astrometric system \n",
      "the RADECSYS keyword is deprecated, use RADESYSa. [astropy.wcs.wcs]\n",
      "WARNING: FITSFixedWarning: RADECSYS= 'ICRS ' / Astrometric system \n",
      "the RADECSYS keyword is deprecated, use RADESYSa. [astropy.wcs.wcs]\n"
     ]
    },
    {
     "name": "stdout",
     "output_type": "stream",
     "text": [
      "Pickled /arc/home/IsaacCheng/coop_f2021/galaxies/NGC4694/NGC4694_regBin_extinctionCorr_nyquist.pkl\n"
     ]
    },
    {
     "name": "stderr",
     "output_type": "stream",
     "text": [
      "WARNING: FITSFixedWarning: RADECSYS= 'ICRS ' / Astrometric system \n",
      "the RADECSYS keyword is deprecated, use RADESYSa. [astropy.wcs.wcs]\n",
      "/arc/home/IsaacCheng/coop_f2021/packages/fits_utils.py:241: RuntimeWarning: divide by zero encountered in log10\n",
      "  rel_mag = -2.5 * np.log10(flux) + zpt\n",
      "/arc/home/IsaacCheng/coop_f2021/packages/fits_utils.py:242: RuntimeWarning: invalid value encountered in true_divide\n",
      "  rel_mag_err = 2.5 / np.log(10) * abs(flux_err / flux)\n",
      "/arc/home/IsaacCheng/coop_f2021/packages/fits_utils.py:241: RuntimeWarning: invalid value encountered in log10\n",
      "  rel_mag = -2.5 * np.log10(flux) + zpt\n"
     ]
    },
    {
     "name": "stdout",
     "output_type": "stream",
     "text": [
      "Pickled /arc/home/IsaacCheng/coop_f2021/galaxies/NGC4330/NGC4330_regBin_extinctionCorr_nyquist.pkl\n"
     ]
    },
    {
     "name": "stderr",
     "output_type": "stream",
     "text": [
      "WARNING: FITSFixedWarning: RADECSYS= 'ICRS ' / Astrometric system \n",
      "the RADECSYS keyword is deprecated, use RADESYSa. [astropy.wcs.wcs]\n",
      "/arc/home/IsaacCheng/coop_f2021/packages/fits_utils.py:241: RuntimeWarning: divide by zero encountered in log10\n",
      "  rel_mag = -2.5 * np.log10(flux) + zpt\n",
      "/arc/home/IsaacCheng/coop_f2021/packages/fits_utils.py:242: RuntimeWarning: invalid value encountered in true_divide\n",
      "  rel_mag_err = 2.5 / np.log(10) * abs(flux_err / flux)\n",
      "/arc/home/IsaacCheng/coop_f2021/packages/fits_utils.py:241: RuntimeWarning: invalid value encountered in log10\n",
      "  rel_mag = -2.5 * np.log10(flux) + zpt\n"
     ]
    },
    {
     "name": "stdout",
     "output_type": "stream",
     "text": [
      "Pickled /arc/home/IsaacCheng/coop_f2021/galaxies/NGC4222/NGC4222_regBin_extinctionCorr_nyquist.pkl\n"
     ]
    },
    {
     "name": "stderr",
     "output_type": "stream",
     "text": [
      "WARNING: FITSFixedWarning: RADECSYS= 'ICRS ' / Astrometric system \n",
      "the RADECSYS keyword is deprecated, use RADESYSa. [astropy.wcs.wcs]\n",
      "WARNING: FITSFixedWarning: RADECSYS= 'ICRS ' / Astrometric system \n",
      "the RADECSYS keyword is deprecated, use RADESYSa. [astropy.wcs.wcs]\n",
      "WARNING: FITSFixedWarning: RADECSYS= 'ICRS ' / Astrometric system \n",
      "the RADECSYS keyword is deprecated, use RADESYSa. [astropy.wcs.wcs]\n",
      "WARNING: FITSFixedWarning: RADECSYS= 'ICRS ' / Astrometric system \n",
      "the RADECSYS keyword is deprecated, use RADESYSa. [astropy.wcs.wcs]\n",
      "WARNING: FITSFixedWarning: RADECSYS= 'ICRS ' / Astrometric system \n",
      "the RADECSYS keyword is deprecated, use RADESYSa. [astropy.wcs.wcs]\n",
      "WARNING: FITSFixedWarning: RADECSYS= 'ICRS ' / Astrometric system \n",
      "the RADECSYS keyword is deprecated, use RADESYSa. [astropy.wcs.wcs]\n",
      "/arc/home/IsaacCheng/coop_f2021/packages/fits_utils.py:241: RuntimeWarning: divide by zero encountered in log10\n",
      "  rel_mag = -2.5 * np.log10(flux) + zpt\n",
      "/arc/home/IsaacCheng/coop_f2021/packages/fits_utils.py:242: RuntimeWarning: invalid value encountered in true_divide\n",
      "  rel_mag_err = 2.5 / np.log(10) * abs(flux_err / flux)\n"
     ]
    },
    {
     "name": "stdout",
     "output_type": "stream",
     "text": [
      "Pickled /arc/home/IsaacCheng/coop_f2021/galaxies/NGC4298/NGC4298_regBin_extinctionCorr_nyquist.pkl\n"
     ]
    },
    {
     "name": "stderr",
     "output_type": "stream",
     "text": [
      "WARNING: FITSFixedWarning: RADECSYS= 'ICRS ' / Astrometric system \n",
      "the RADECSYS keyword is deprecated, use RADESYSa. [astropy.wcs.wcs]\n",
      "/arc/home/IsaacCheng/coop_f2021/packages/fits_utils.py:241: RuntimeWarning: divide by zero encountered in log10\n",
      "  rel_mag = -2.5 * np.log10(flux) + zpt\n",
      "/arc/home/IsaacCheng/coop_f2021/packages/fits_utils.py:242: RuntimeWarning: invalid value encountered in true_divide\n",
      "  rel_mag_err = 2.5 / np.log(10) * abs(flux_err / flux)\n"
     ]
    },
    {
     "name": "stdout",
     "output_type": "stream",
     "text": [
      "Pickled /arc/home/IsaacCheng/coop_f2021/galaxies/NGC4388/NGC4388_regBin_extinctionCorr_nyquist.pkl\n"
     ]
    },
    {
     "name": "stderr",
     "output_type": "stream",
     "text": [
      "WARNING: FITSFixedWarning: RADECSYS= 'ICRS ' / Astrometric system \n",
      "the RADECSYS keyword is deprecated, use RADESYSa. [astropy.wcs.wcs]\n",
      "WARNING: FITSFixedWarning: RADECSYS= 'ICRS ' / Astrometric system \n",
      "the RADECSYS keyword is deprecated, use RADESYSa. [astropy.wcs.wcs]\n",
      "WARNING: FITSFixedWarning: RADECSYS= 'ICRS ' / Astrometric system \n",
      "the RADECSYS keyword is deprecated, use RADESYSa. [astropy.wcs.wcs]\n",
      "WARNING: FITSFixedWarning: RADECSYS= 'ICRS ' / Astrometric system \n",
      "the RADECSYS keyword is deprecated, use RADESYSa. [astropy.wcs.wcs]\n",
      "WARNING: FITSFixedWarning: RADECSYS= 'ICRS ' / Astrometric system \n",
      "the RADECSYS keyword is deprecated, use RADESYSa. [astropy.wcs.wcs]\n",
      "WARNING: FITSFixedWarning: RADECSYS= 'ICRS ' / Astrometric system \n",
      "the RADECSYS keyword is deprecated, use RADESYSa. [astropy.wcs.wcs]\n",
      "/arc/home/IsaacCheng/coop_f2021/packages/fits_utils.py:241: RuntimeWarning: divide by zero encountered in log10\n",
      "  rel_mag = -2.5 * np.log10(flux) + zpt\n",
      "/arc/home/IsaacCheng/coop_f2021/packages/fits_utils.py:242: RuntimeWarning: invalid value encountered in true_divide\n",
      "  rel_mag_err = 2.5 / np.log(10) * abs(flux_err / flux)\n",
      "/arc/home/IsaacCheng/coop_f2021/packages/fits_utils.py:241: RuntimeWarning: invalid value encountered in log10\n",
      "  rel_mag = -2.5 * np.log10(flux) + zpt\n"
     ]
    },
    {
     "name": "stdout",
     "output_type": "stream",
     "text": [
      "Pickled /arc/home/IsaacCheng/coop_f2021/galaxies/NGC4396/NGC4396_regBin_extinctionCorr_nyquist.pkl\n"
     ]
    },
    {
     "name": "stderr",
     "output_type": "stream",
     "text": [
      "WARNING: FITSFixedWarning: RADECSYS= 'ICRS ' / Astrometric system \n",
      "the RADECSYS keyword is deprecated, use RADESYSa. [astropy.wcs.wcs]\n"
     ]
    },
    {
     "name": "stdout",
     "output_type": "stream",
     "text": [
      "Pickled /arc/home/IsaacCheng/coop_f2021/galaxies/NGC4651/NGC4651_regBin_extinctionCorr_nyquist.pkl\n"
     ]
    },
    {
     "name": "stderr",
     "output_type": "stream",
     "text": [
      "WARNING: FITSFixedWarning: RADECSYS= 'ICRS ' / Astrometric system \n",
      "the RADECSYS keyword is deprecated, use RADESYSa. [astropy.wcs.wcs]\n",
      "WARNING: FITSFixedWarning: RADECSYS= 'ICRS ' / Astrometric system \n",
      "the RADECSYS keyword is deprecated, use RADESYSa. [astropy.wcs.wcs]\n",
      "/arc/home/IsaacCheng/coop_f2021/packages/fits_utils.py:241: RuntimeWarning: divide by zero encountered in log10\n",
      "  rel_mag = -2.5 * np.log10(flux) + zpt\n",
      "/arc/home/IsaacCheng/coop_f2021/packages/fits_utils.py:242: RuntimeWarning: invalid value encountered in true_divide\n",
      "  rel_mag_err = 2.5 / np.log(10) * abs(flux_err / flux)\n"
     ]
    },
    {
     "name": "stdout",
     "output_type": "stream",
     "text": [
      "Pickled /arc/home/IsaacCheng/coop_f2021/galaxies/NGC4450/NGC4450_regBin_extinctionCorr_nyquist.pkl\n"
     ]
    },
    {
     "name": "stderr",
     "output_type": "stream",
     "text": [
      "WARNING: FITSFixedWarning: RADECSYS= 'ICRS ' / Astrometric system \n",
      "the RADECSYS keyword is deprecated, use RADESYSa. [astropy.wcs.wcs]\n",
      "WARNING: FITSFixedWarning: RADECSYS= 'ICRS ' / Astrometric system \n",
      "the RADECSYS keyword is deprecated, use RADESYSa. [astropy.wcs.wcs]\n",
      "WARNING: FITSFixedWarning: RADECSYS= 'ICRS ' / Astrometric system \n",
      "the RADECSYS keyword is deprecated, use RADESYSa. [astropy.wcs.wcs]\n",
      "/arc/home/IsaacCheng/coop_f2021/packages/fits_utils.py:241: RuntimeWarning: divide by zero encountered in log10\n",
      "  rel_mag = -2.5 * np.log10(flux) + zpt\n",
      "/arc/home/IsaacCheng/coop_f2021/packages/fits_utils.py:242: RuntimeWarning: invalid value encountered in true_divide\n",
      "  rel_mag_err = 2.5 / np.log(10) * abs(flux_err / flux)\n"
     ]
    },
    {
     "name": "stdout",
     "output_type": "stream",
     "text": [
      "Pickled /arc/home/IsaacCheng/coop_f2021/galaxies/NGC4501/NGC4501_regBin_extinctionCorr_nyquist.pkl\n"
     ]
    },
    {
     "name": "stderr",
     "output_type": "stream",
     "text": [
      "WARNING: FITSFixedWarning: RADECSYS= 'ICRS ' / Astrometric system \n",
      "the RADECSYS keyword is deprecated, use RADESYSa. [astropy.wcs.wcs]\n"
     ]
    },
    {
     "name": "stdout",
     "output_type": "stream",
     "text": [
      "Pickled /arc/home/IsaacCheng/coop_f2021/galaxies/NGC4689/NGC4689_regBin_extinctionCorr_nyquist.pkl\n"
     ]
    },
    {
     "name": "stderr",
     "output_type": "stream",
     "text": [
      "WARNING: FITSFixedWarning: RADECSYS= 'ICRS ' / Astrometric system \n",
      "the RADECSYS keyword is deprecated, use RADESYSa. [astropy.wcs.wcs]\n",
      "WARNING: FITSFixedWarning: RADECSYS= 'ICRS ' / Astrometric system \n",
      "the RADECSYS keyword is deprecated, use RADESYSa. [astropy.wcs.wcs]\n"
     ]
    },
    {
     "name": "stdout",
     "output_type": "stream",
     "text": [
      "Pickled /arc/home/IsaacCheng/coop_f2021/galaxies/NGC4380/NGC4380_regBin_extinctionCorr_nyquist.pkl\n"
     ]
    },
    {
     "name": "stderr",
     "output_type": "stream",
     "text": [
      "WARNING: FITSFixedWarning: RADECSYS= 'ICRS ' / Astrometric system \n",
      "the RADECSYS keyword is deprecated, use RADESYSa. [astropy.wcs.wcs]\n",
      "WARNING: FITSFixedWarning: RADECSYS= 'ICRS ' / Astrometric system \n",
      "the RADECSYS keyword is deprecated, use RADESYSa. [astropy.wcs.wcs]\n",
      "WARNING: FITSFixedWarning: RADECSYS= 'ICRS ' / Astrometric system \n",
      "the RADECSYS keyword is deprecated, use RADESYSa. [astropy.wcs.wcs]\n"
     ]
    },
    {
     "name": "stdout",
     "output_type": "stream",
     "text": [
      "Pickled /arc/home/IsaacCheng/coop_f2021/galaxies/NGC4548/NGC4548_regBin_extinctionCorr_nyquist.pkl\n"
     ]
    },
    {
     "name": "stderr",
     "output_type": "stream",
     "text": [
      "WARNING: FITSFixedWarning: RADECSYS= 'ICRS ' / Astrometric system \n",
      "the RADECSYS keyword is deprecated, use RADESYSa. [astropy.wcs.wcs]\n"
     ]
    },
    {
     "name": "stdout",
     "output_type": "stream",
     "text": [
      "Pickled /arc/home/IsaacCheng/coop_f2021/galaxies/NGC4579/NGC4579_regBin_extinctionCorr_nyquist.pkl\n"
     ]
    },
    {
     "name": "stderr",
     "output_type": "stream",
     "text": [
      "/arc/home/IsaacCheng/coop_f2021/packages/fits_utils.py:241: RuntimeWarning: divide by zero encountered in log10\n",
      "  rel_mag = -2.5 * np.log10(flux) + zpt\n",
      "/arc/home/IsaacCheng/coop_f2021/packages/fits_utils.py:242: RuntimeWarning: invalid value encountered in true_divide\n",
      "  rel_mag_err = 2.5 / np.log(10) * abs(flux_err / flux)\n"
     ]
    },
    {
     "name": "stdout",
     "output_type": "stream",
     "text": [
      "Pickled /arc/home/IsaacCheng/coop_f2021/galaxies/NGC4535/NGC4535_regBin_extinctionCorr_nyquist.pkl\n"
     ]
    },
    {
     "name": "stderr",
     "output_type": "stream",
     "text": [
      "WARNING: FITSFixedWarning: RADECSYS= 'ICRS ' / Astrometric system \n",
      "the RADECSYS keyword is deprecated, use RADESYSa. [astropy.wcs.wcs]\n",
      "/arc/home/IsaacCheng/coop_f2021/packages/fits_utils.py:241: RuntimeWarning: divide by zero encountered in log10\n",
      "  rel_mag = -2.5 * np.log10(flux) + zpt\n",
      "/arc/home/IsaacCheng/coop_f2021/packages/fits_utils.py:242: RuntimeWarning: invalid value encountered in true_divide\n",
      "  rel_mag_err = 2.5 / np.log(10) * abs(flux_err / flux)\n"
     ]
    },
    {
     "name": "stdout",
     "output_type": "stream",
     "text": [
      "Pickled /arc/home/IsaacCheng/coop_f2021/galaxies/NGC4402/NGC4402_regBin_extinctionCorr_nyquist.pkl\n",
      "Pickled /arc/home/IsaacCheng/coop_f2021/galaxies/NGC4569/NGC4569_regBin_extinctionCorr_nyquist.pkl\n"
     ]
    },
    {
     "name": "stderr",
     "output_type": "stream",
     "text": [
      "WARNING: FITSFixedWarning: RADECSYS= 'ICRS ' / Astrometric system \n",
      "the RADECSYS keyword is deprecated, use RADESYSa. [astropy.wcs.wcs]\n",
      "WARNING: FITSFixedWarning: RADECSYS= 'ICRS ' / Astrometric system \n",
      "the RADECSYS keyword is deprecated, use RADESYSa. [astropy.wcs.wcs]\n",
      "WARNING: FITSFixedWarning: RADECSYS= 'ICRS ' / Astrometric system \n",
      "the RADECSYS keyword is deprecated, use RADESYSa. [astropy.wcs.wcs]\n",
      "WARNING: FITSFixedWarning: RADECSYS= 'ICRS ' / Astrometric system \n",
      "the RADECSYS keyword is deprecated, use RADESYSa. [astropy.wcs.wcs]\n",
      "/arc/home/IsaacCheng/coop_f2021/packages/fits_utils.py:241: RuntimeWarning: divide by zero encountered in log10\n",
      "  rel_mag = -2.5 * np.log10(flux) + zpt\n",
      "/arc/home/IsaacCheng/coop_f2021/packages/fits_utils.py:242: RuntimeWarning: invalid value encountered in true_divide\n",
      "  rel_mag_err = 2.5 / np.log(10) * abs(flux_err / flux)\n"
     ]
    },
    {
     "name": "stdout",
     "output_type": "stream",
     "text": [
      "Pickled /arc/home/IsaacCheng/coop_f2021/galaxies/NGC4321/NGC4321_regBin_extinctionCorr_nyquist.pkl\n"
     ]
    },
    {
     "name": "stderr",
     "output_type": "stream",
     "text": [
      "WARNING: FITSFixedWarning: RADECSYS= 'ICRS ' / Astrometric system \n",
      "the RADECSYS keyword is deprecated, use RADESYSa. [astropy.wcs.wcs]\n",
      "/arc/home/IsaacCheng/coop_f2021/packages/fits_utils.py:241: RuntimeWarning: divide by zero encountered in log10\n",
      "  rel_mag = -2.5 * np.log10(flux) + zpt\n",
      "/arc/home/IsaacCheng/coop_f2021/packages/fits_utils.py:242: RuntimeWarning: invalid value encountered in true_divide\n",
      "  rel_mag_err = 2.5 / np.log(10) * abs(flux_err / flux)\n"
     ]
    },
    {
     "name": "stdout",
     "output_type": "stream",
     "text": [
      "Pickled /arc/home/IsaacCheng/coop_f2021/galaxies/NGC4654/NGC4654_regBin_extinctionCorr_nyquist.pkl\n"
     ]
    },
    {
     "name": "stderr",
     "output_type": "stream",
     "text": [
      "/arc/home/IsaacCheng/coop_f2021/packages/fits_utils.py:241: RuntimeWarning: divide by zero encountered in log10\n",
      "  rel_mag = -2.5 * np.log10(flux) + zpt\n",
      "/arc/home/IsaacCheng/coop_f2021/packages/fits_utils.py:242: RuntimeWarning: invalid value encountered in true_divide\n",
      "  rel_mag_err = 2.5 / np.log(10) * abs(flux_err / flux)\n",
      "/arc/home/IsaacCheng/coop_f2021/packages/fits_utils.py:241: RuntimeWarning: invalid value encountered in log10\n",
      "  rel_mag = -2.5 * np.log10(flux) + zpt\n"
     ]
    },
    {
     "name": "stdout",
     "output_type": "stream",
     "text": [
      "Pickled /arc/home/IsaacCheng/coop_f2021/galaxies/NGC4254/NGC4254_regBin_extinctionCorr_nyquist.pkl\n"
     ]
    },
    {
     "name": "stderr",
     "output_type": "stream",
     "text": [
      "WARNING: FITSFixedWarning: RADECSYS= 'ICRS ' / Astrometric system \n",
      "the RADECSYS keyword is deprecated, use RADESYSa. [astropy.wcs.wcs]\n",
      "/arc/home/IsaacCheng/coop_f2021/packages/fits_utils.py:241: RuntimeWarning: divide by zero encountered in log10\n",
      "  rel_mag = -2.5 * np.log10(flux) + zpt\n",
      "/arc/home/IsaacCheng/coop_f2021/packages/fits_utils.py:241: RuntimeWarning: invalid value encountered in log10\n",
      "  rel_mag = -2.5 * np.log10(flux) + zpt\n",
      "/arc/home/IsaacCheng/coop_f2021/packages/fits_utils.py:242: RuntimeWarning: invalid value encountered in true_divide\n",
      "  rel_mag_err = 2.5 / np.log(10) * abs(flux_err / flux)\n"
     ]
    },
    {
     "name": "stdout",
     "output_type": "stream",
     "text": [
      "Pickled /arc/home/IsaacCheng/coop_f2021/galaxies/NGC4302/NGC4302_regBin_extinctionCorr_nyquist.pkl\n"
     ]
    },
    {
     "name": "stderr",
     "output_type": "stream",
     "text": [
      "/arc/home/IsaacCheng/coop_f2021/packages/fits_utils.py:241: RuntimeWarning: divide by zero encountered in log10\n",
      "  rel_mag = -2.5 * np.log10(flux) + zpt\n",
      "/arc/home/IsaacCheng/coop_f2021/packages/fits_utils.py:242: RuntimeWarning: invalid value encountered in true_divide\n",
      "  rel_mag_err = 2.5 / np.log(10) * abs(flux_err / flux)\n",
      "/arc/home/IsaacCheng/coop_f2021/packages/fits_utils.py:241: RuntimeWarning: invalid value encountered in log10\n",
      "  rel_mag = -2.5 * np.log10(flux) + zpt\n"
     ]
    },
    {
     "name": "stdout",
     "output_type": "stream",
     "text": [
      "Pickled /arc/home/IsaacCheng/coop_f2021/galaxies/NGC4192/NGC4192_regBin_extinctionCorr_nyquist.pkl\n"
     ]
    },
    {
     "name": "stderr",
     "output_type": "stream",
     "text": [
      "/arc/home/IsaacCheng/coop_f2021/packages/fits_utils.py:241: RuntimeWarning: divide by zero encountered in log10\n",
      "  rel_mag = -2.5 * np.log10(flux) + zpt\n",
      "/arc/home/IsaacCheng/coop_f2021/packages/fits_utils.py:242: RuntimeWarning: invalid value encountered in true_divide\n",
      "  rel_mag_err = 2.5 / np.log(10) * abs(flux_err / flux)\n",
      "/arc/home/IsaacCheng/coop_f2021/packages/fits_utils.py:241: RuntimeWarning: invalid value encountered in log10\n",
      "  rel_mag = -2.5 * np.log10(flux) + zpt\n"
     ]
    },
    {
     "name": "stdout",
     "output_type": "stream",
     "text": [
      "Pickled /arc/home/IsaacCheng/coop_f2021/galaxies/NGC4216/NGC4216_regBin_extinctionCorr_nyquist.pkl\n",
      "Done\n"
     ]
    }
   ],
   "source": [
    "with Pool(processes=None) as p:\n",
    "    p.starmap(bin_ngvs_data, zip(GALAXIES, VCC_GALAXIES, repeat(\"nyquist\")))\n",
    "print(\"Done\")"
   ]
  },
  {
   "cell_type": "code",
   "execution_count": 5,
   "id": "97d71cc8-65e1-4171-a434-2bff8064c7c0",
   "metadata": {
    "collapsed": true,
    "jupyter": {
     "outputs_hidden": true
    },
    "tags": []
   },
   "outputs": [
    {
     "name": "stderr",
     "output_type": "stream",
     "text": [
      "WARNING\n",
      ": FITSFixedWarning: 'datfix' made the change 'Set MJD-OBS to 58203.170749 from DATE-OBS'. [astropy.wcs.wcs]WARNING: FITSFixedWarning: 'obsfix' made the change 'Observatory coordinates incomplete'. [astropy.wcs.wcs]\n",
      "WARNING: FITSFixedWarning: RADECSYS= 'ICRS ' / Astrometric system \n",
      "the RADECSYS keyword is deprecated, use RADESYSa. [astropy.wcs.wcs]\n",
      "WARNING: FITSFixedWarning: 'datfix' made the change 'Set MJD-OBS to 58771.720579 from DATE-OBS'. [astropy.wcs.wcs]\n",
      "WARNING: FITSFixedWarning: 'obsfix' made the change 'Observatory coordinates incomplete'. [astropy.wcs.wcs]\n",
      "WARNING: FITSFixedWarning: RADECSYS= 'ICRS ' / Astrometric system \n",
      "the RADECSYS keyword is deprecated, use RADESYSa. [astropy.wcs.wcs]\n",
      "WARNING: FITSFixedWarning: 'datfix' made the change 'Set MJD-OBS to 58184.283297 from DATE-OBS'. [astropy.wcs.wcs]\n",
      "WARNING: FITSFixedWarning: 'obsfix' made the change 'Observatory coordinates incomplete'. [astropy.wcs.wcs]\n",
      "WARNING: FITSFixedWarning: RADECSYS= 'ICRS ' / Astrometric system \n",
      "the RADECSYS keyword is deprecated, use RADESYSa. [astropy.wcs.wcs]\n",
      "WARNING: FITSFixedWarning: 'datfix' made the change 'Set MJD-OBS to 58786.495183 from DATE-OBS'. [astropy.wcs.wcs]\n",
      "WARNING: FITSFixedWarning: 'obsfix' made the change 'Observatory coordinates incomplete'. [astropy.wcs.wcs]\n",
      "WARNING: FITSFixedWarning: RADECSYS= 'ICRS ' / Astrometric system \n",
      "the RADECSYS keyword is deprecated, use RADESYSa. [astropy.wcs.wcs]\n",
      "WARNING: FITSFixedWarning: 'datfix' made the change 'Set MJD-OBS to 58838.438545 from DATE-OBS'. [astropy.wcs.wcs]\n",
      "WARNING: FITSFixedWarning: 'obsfix' made the change 'Observatory coordinates incomplete'. [astropy.wcs.wcs]\n",
      "WARNING: FITSFixedWarning: RADECSYS= 'ICRS ' / Astrometric system \n",
      "the RADECSYS keyword is deprecated, use RADESYSa. [astropy.wcs.wcs]WARNING\n",
      ": FITSFixedWarning: 'datfix' made the change 'Set MJD-OBS to 58832.392244 from DATE-OBS'. [astropy.wcs.wcs]\n",
      "WARNING: FITSFixedWarning: 'obsfix' made the change 'Observatory coordinates incomplete'. [astropy.wcs.wcs]\n",
      "WARNING: FITSFixedWarning: RADECSYS= 'ICRS ' / Astrometric system \n",
      "the RADECSYS keyword is deprecated, use RADESYSa. [astropy.wcs.wcs]\n",
      "WARNING: FITSFixedWarning: 'datfix' made the change 'Set MJD-OBS to 58830.570338 from DATE-OBS'. [astropy.wcs.wcs]\n",
      "WARNING: FITSFixedWarning: 'obsfix' made the change 'Observatory coordinates incomplete'. [astropy.wcs.wcs]\n",
      "WARNING: FITSFixedWarning: 'datfix' made the change 'Set MJD-OBS to 58771.655996 from DATE-OBS'. [astropy.wcs.wcs]\n",
      "WARNINGWARNING: FITSFixedWarning: RADECSYS= 'ICRS ' / Astrometric system \n",
      "the RADECSYS keyword is deprecated, use RADESYSa. [astropy.wcs.wcs]: FITSFixedWarning: 'obsfix' made the change 'Observatory coordinates incomplete'. [astropy.wcs.wcs]\n",
      "\n",
      "WARNING: FITSFixedWarning: RADECSYS= 'ICRS ' / Astrometric system \n",
      "the RADECSYS keyword is deprecated, use RADESYSa. [astropy.wcs.wcs]\n",
      "WARNING: FITSFixedWarning: 'datfix' made the change 'Set MJD-OBS to 58800.586857 from DATE-OBS'. [astropy.wcs.wcs]\n",
      "WARNING: FITSFixedWarning: 'obsfix' made the change 'Observatory coordinates incomplete'. [astropy.wcs.wcs]\n",
      "WARNING: FITSFixedWarning: RADECSYS= 'ICRS ' / Astrometric system \n",
      "the RADECSYS keyword is deprecated, use RADESYSa. [astropy.wcs.wcs]\n",
      "WARNING: FITSFixedWarning: 'datfix' made the change 'Set MJD-OBS to 58837.406607 from DATE-OBS'. [astropy.wcs.wcs]\n",
      "WARNING: FITSFixedWarning: 'obsfix' made the change 'Observatory coordinates incomplete'. [astropy.wcs.wcs]\n",
      "WARNING: FITSFixedWarning: RADECSYS= 'ICRS ' / Astrometric system \n",
      "the RADECSYS keyword is deprecated, use RADESYSa. [astropy.wcs.wcs]\n",
      "WARNING: FITSFixedWarning: 'datfix' made the change 'Set MJD-OBS to 58125.369839 from DATE-OBS'. [astropy.wcs.wcs]\n",
      "WARNING: FITSFixedWarning: 'obsfix' made the change 'Observatory coordinates incomplete'. [astropy.wcs.wcs]\n",
      "WARNING: FITSFixedWarning: 'datfix' made the change 'Set MJD-OBS to 58855.371869 from DATE-OBS'. [astropy.wcs.wcs]\n",
      "WARNING: FITSFixedWarning: RADECSYS= 'ICRS ' / Astrometric system \n",
      "the RADECSYS keyword is deprecated, use RADESYSa. [astropy.wcs.wcs]WARNING\n",
      ": FITSFixedWarning: 'obsfix' made the change 'Observatory coordinates incomplete'. [astropy.wcs.wcs]\n",
      "WARNING: FITSFixedWarning: RADECSYS= 'ICRS ' / Astrometric system \n",
      "the RADECSYS keyword is deprecated, use RADESYSa. [astropy.wcs.wcs]\n",
      "WARNING: FITSFixedWarning: 'datfix' made the change 'Set MJD-OBS to 58857.486979 from DATE-OBS'. [astropy.wcs.wcs]\n",
      "WARNING: FITSFixedWarning: 'obsfix' made the change 'Observatory coordinates incomplete'. [astropy.wcs.wcs]\n",
      "WARNINGWARNING: FITSFixedWarning: RADECSYS= 'ICRS ' / Astrometric system \n",
      "the RADECSYS keyword is deprecated, use RADESYSa. [astropy.wcs.wcs]\n",
      ": FITSFixedWarning: 'datfix' made the change 'Set MJD-OBS to 58835.533518 from DATE-OBS'. [astropy.wcs.wcs]\n",
      "WARNING: FITSFixedWarning: 'obsfix' made the change 'Observatory coordinates incomplete'. [astropy.wcs.wcs]\n",
      "WARNINGWARNING: FITSFixedWarning: 'datfix' made the change 'Set MJD-OBS to 58811.578396 from DATE-OBS'. [astropy.wcs.wcs]: FITSFixedWarning: RADECSYS= 'ICRS ' / Astrometric system \n",
      "the RADECSYS keyword is deprecated, use RADESYSa. [astropy.wcs.wcs]\n",
      "\n",
      "WARNING: FITSFixedWarning: 'obsfix' made the change 'Observatory coordinates incomplete'. [astropy.wcs.wcs]\n",
      "WARNING: FITSFixedWarning: RADECSYS= 'ICRS ' / Astrometric system \n",
      "the RADECSYS keyword is deprecated, use RADESYSa. [astropy.wcs.wcs]\n",
      "WARNING: FITSFixedWarning: 'datfix' made the change 'Set MJD-OBS to 58855.352029 from DATE-OBS'. [astropy.wcs.wcs]\n",
      "WARNING: FITSFixedWarning: RADECSYS= 'ICRS ' / Astrometric system \n",
      "the RADECSYS keyword is deprecated, use RADESYSa. [astropy.wcs.wcs]\n",
      "WARNING: FITSFixedWarning: 'obsfix' made the change 'Observatory coordinates incomplete'. [astropy.wcs.wcs]\n",
      "WARNING: FITSFixedWarning: 'datfix' made the change 'Set MJD-OBS to 58820.540981 from DATE-OBS'. [astropy.wcs.wcs]WARNINGWARNING\n",
      ": FITSFixedWarning: RADECSYS= 'ICRS ' / Astrometric system \n",
      "the RADECSYS keyword is deprecated, use RADESYSa. [astropy.wcs.wcs]: FITSFixedWarning: 'datfix' made the change 'Set MJD-OBS to 58034.639742 from DATE-OBS'. [astropy.wcs.wcs]\n",
      "WARNING: FITSFixedWarning: 'obsfix' made the change 'Observatory coordinates incomplete'. [astropy.wcs.wcs]\n",
      "\n",
      "WARNINGWARNING: FITSFixedWarning: 'obsfix' made the change 'Observatory coordinates incomplete'. [astropy.wcs.wcs]\n",
      ": FITSFixedWarning: RADECSYS= 'ICRS ' / Astrometric system \n",
      "the RADECSYS keyword is deprecated, use RADESYSa. [astropy.wcs.wcs]\n",
      "WARNING: FITSFixedWarning: RADECSYS= 'ICRS ' / Astrometric system \n",
      "the RADECSYS keyword is deprecated, use RADESYSa. [astropy.wcs.wcs]\n",
      "WARNING: FITSFixedWarning: 'datfix' made the change 'Set MJD-OBS to 58858.416048 from DATE-OBS'. [astropy.wcs.wcs]\n",
      "WARNING: FITSFixedWarning: 'obsfix' made the change 'Observatory coordinates incomplete'. [astropy.wcs.wcs]\n",
      "WARNING: FITSFixedWarning: RADECSYS= 'ICRS ' / Astrometric system \n",
      "the RADECSYS keyword is deprecated, use RADESYSa. [astropy.wcs.wcs]WARNING\n",
      ": FITSFixedWarning: 'datfix' made the change 'Set MJD-OBS to 58906.231702 from DATE-OBS'. [astropy.wcs.wcs]\n",
      "WARNING: FITSFixedWarning: 'obsfix' made the change 'Observatory coordinates incomplete'. [astropy.wcs.wcs]\n",
      "WARNING: FITSFixedWarning: RADECSYS= 'ICRS ' / Astrometric system \n",
      "the RADECSYS keyword is deprecated, use RADESYSa. [astropy.wcs.wcs]\n",
      "WARNINGWARNING: FITSFixedWarning: 'datfix' made the change 'Set MJD-OBS to 58807.603859 from DATE-OBS'. [astropy.wcs.wcs]: FITSFixedWarning: 'datfix' made the change 'Set MJD-OBS to 58822.371327 from DATE-OBS'. [astropy.wcs.wcs]\n",
      "\n",
      "WARNINGWARNINGWARNING: FITSFixedWarning: 'obsfix' made the change 'Observatory coordinates incomplete'. [astropy.wcs.wcs]\n",
      ": FITSFixedWarning: 'datfix' made the change 'Set MJD-OBS to 57613.735997 from DATE-OBS'. [astropy.wcs.wcs]\n",
      ": FITSFixedWarning: 'obsfix' made the change 'Observatory coordinates incomplete'. [astropy.wcs.wcs]WARNING\n",
      "WARNING: FITSFixedWarning: RADECSYS= 'ICRS ' / Astrometric system \n",
      "the RADECSYS keyword is deprecated, use RADESYSa. [astropy.wcs.wcs]: FITSFixedWarning: 'obsfix' made the change 'Observatory coordinates incomplete'. [astropy.wcs.wcs]\n",
      "WARNINGWARNING\n",
      ": FITSFixedWarning: 'datfix' made the change 'Set MJD-OBS to 58827.396029 from DATE-OBS'. [astropy.wcs.wcs]\n",
      ": FITSFixedWarning: 'datfix' made the change 'Set MJD-OBS to 58197.199664 from DATE-OBS'. [astropy.wcs.wcs]\n",
      "WARNING: FITSFixedWarning: 'obsfix' made the change 'Observatory coordinates incomplete'. [astropy.wcs.wcs]\n",
      "WARNINGWARNING: FITSFixedWarning: RADECSYS= 'ICRS ' / Astrometric system \n",
      "the RADECSYS keyword is deprecated, use RADESYSa. [astropy.wcs.wcs]\n",
      "WARNING: FITSFixedWarning: RADECSYS= 'ICRS ' / Astrometric system \n",
      "the RADECSYS keyword is deprecated, use RADESYSa. [astropy.wcs.wcs]\n",
      ": FITSFixedWarning: RADECSYS= 'ICRS ' / Astrometric system \n",
      "the RADECSYS keyword is deprecated, use RADESYSa. [astropy.wcs.wcs]WARNINGWARNING: FITSFixedWarning: 'datfix' made the change 'Set MJD-OBS to 57729.380956 from DATE-OBS'. [astropy.wcs.wcs]\n",
      "\n",
      "WARNING: FITSFixedWarning: 'obsfix' made the change 'Observatory coordinates incomplete'. [astropy.wcs.wcs]: FITSFixedWarning: 'obsfix' made the change 'Observatory coordinates incomplete'. [astropy.wcs.wcs]\n",
      "\n",
      "WARNINGWARNING: FITSFixedWarning: RADECSYS= 'ICRS ' / Astrometric system \n",
      "the RADECSYS keyword is deprecated, use RADESYSa. [astropy.wcs.wcs]: FITSFixedWarning: RADECSYS= 'ICRS ' / Astrometric system \n",
      "the RADECSYS keyword is deprecated, use RADESYSa. [astropy.wcs.wcs]\n",
      "\n",
      "WARNING: FITSFixedWarning: 'datfix' made the change 'Set MJD-OBS to 58910.235509 from DATE-OBS'. [astropy.wcs.wcs]\n",
      "WARNING: FITSFixedWarning: 'obsfix' made the change 'Observatory coordinates incomplete'. [astropy.wcs.wcs]WARNINGWARNING\n",
      ": FITSFixedWarning: RADECSYS= 'ICRS ' / Astrometric system \n",
      "the RADECSYS keyword is deprecated, use RADESYSa. [astropy.wcs.wcs]: FITSFixedWarning: RADECSYS= 'ICRS ' / Astrometric system \n",
      "the RADECSYS keyword is deprecated, use RADESYSa. [astropy.wcs.wcs]\n",
      "\n",
      "WARNING: FITSFixedWarning: RADECSYS= 'ICRS ' / Astrometric system \n",
      "the RADECSYS keyword is deprecated, use RADESYSa. [astropy.wcs.wcs]\n",
      "WARNING: FITSFixedWarning: RADECSYS= 'ICRS ' / Astrometric system \n",
      "the RADECSYS keyword is deprecated, use RADESYSa. [astropy.wcs.wcs]\n",
      "WARNING: FITSFixedWarning: 'datfix' made the change 'Set MJD-OBS to 58839.379235 from DATE-OBS'. [astropy.wcs.wcs]\n",
      "WARNING: FITSFixedWarning: 'obsfix' made the change 'Observatory coordinates incomplete'. [astropy.wcs.wcs]\n",
      "WARNINGWARNING: FITSFixedWarning: RADECSYS= 'ICRS ' / Astrometric system \n",
      "the RADECSYS keyword is deprecated, use RADESYSa. [astropy.wcs.wcs]: FITSFixedWarning: RADECSYS= 'ICRS ' / Astrometric system \n",
      "the RADECSYS keyword is deprecated, use RADESYSa. [astropy.wcs.wcs]\n",
      "\n",
      "WARNING: FITSFixedWarning: 'datfix' made the change 'Set MJD-OBS to 57524.101317 from DATE-OBS'. [astropy.wcs.wcs]WARNING\n",
      ": FITSFixedWarning: 'datfix' made the change 'Set MJD-OBS to 58821.370833 from DATE-OBS'. [astropy.wcs.wcs]WARNING: FITSFixedWarning: 'obsfix' made the change 'Observatory coordinates incomplete'. [astropy.wcs.wcs]\n",
      "\n",
      "WARNINGWARNING: FITSFixedWarning: 'obsfix' made the change 'Observatory coordinates incomplete'. [astropy.wcs.wcs]: FITSFixedWarning: RADECSYS= 'ICRS ' / Astrometric system \n",
      "the RADECSYS keyword is deprecated, use RADESYSa. [astropy.wcs.wcs]\n",
      "\n",
      "WARNINGWARNING: FITSFixedWarning: 'datfix' made the change 'Set MJD-OBS to 57594.978228 from DATE-OBS'. [astropy.wcs.wcs]: FITSFixedWarning: RADECSYS= 'ICRS ' / Astrometric system \n",
      "the RADECSYS keyword is deprecated, use RADESYSa. [astropy.wcs.wcs]WARNING\n",
      "\n",
      ": FITSFixedWarning: RADECSYS= 'ICRS ' / Astrometric system \n",
      "the RADECSYS keyword is deprecated, use RADESYSa. [astropy.wcs.wcs]WARNING: FITSFixedWarning: 'obsfix' made the change 'Observatory coordinates incomplete'. [astropy.wcs.wcs]\n",
      "\n",
      "WARNING: FITSFixedWarning: RADECSYS= 'ICRS ' / Astrometric system \n",
      "the RADECSYS keyword is deprecated, use RADESYSa. [astropy.wcs.wcs]\n",
      "WARNING: FITSFixedWarning: RADECSYS= 'ICRS ' / Astrometric system \n",
      "the RADECSYS keyword is deprecated, use RADESYSa. [astropy.wcs.wcs]\n",
      "WARNING: FITSFixedWarning: RADECSYS= 'ICRS ' / Astrometric system \n",
      "the RADECSYS keyword is deprecated, use RADESYSa. [astropy.wcs.wcs]WARNING\n",
      ": FITSFixedWarning: RADECSYS= 'ICRS ' / Astrometric system \n",
      "the RADECSYS keyword is deprecated, use RADESYSa. [astropy.wcs.wcs]\n",
      "WARNINGWARNING: FITSFixedWarning: RADECSYS= 'ICRS ' / Astrometric system \n",
      "the RADECSYS keyword is deprecated, use RADESYSa. [astropy.wcs.wcs]: FITSFixedWarning: RADECSYS= 'ICRS ' / Astrometric system \n",
      "the RADECSYS keyword is deprecated, use RADESYSa. [astropy.wcs.wcs]\n",
      "\n",
      "WARNING: FITSFixedWarning: RADECSYS= 'ICRS ' / Astrometric system \n",
      "the RADECSYS keyword is deprecated, use RADESYSa. [astropy.wcs.wcs]\n",
      "WARNING: FITSFixedWarning: RADECSYS= 'ICRS ' / Astrometric system \n",
      "the RADECSYS keyword is deprecated, use RADESYSa. [astropy.wcs.wcs]\n",
      "WARNINGWARNING: FITSFixedWarning: RADECSYS= 'ICRS ' / Astrometric system \n",
      "the RADECSYS keyword is deprecated, use RADESYSa. [astropy.wcs.wcs]: FITSFixedWarning: RADECSYS= 'ICRS ' / Astrometric system \n",
      "the RADECSYS keyword is deprecated, use RADESYSa. [astropy.wcs.wcs]\n",
      "\n",
      "WARNING: FITSFixedWarning: 'datfix' made the change 'Set MJD-OBS to 58823.434418 from DATE-OBS'. [astropy.wcs.wcs]\n",
      "WARNING: FITSFixedWarning: 'obsfix' made the change 'Observatory coordinates incomplete'. [astropy.wcs.wcs]\n",
      "WARNING: FITSFixedWarning: RADECSYS= 'ICRS ' / Astrometric system \n",
      "the RADECSYS keyword is deprecated, use RADESYSa. [astropy.wcs.wcs]\n",
      "WARNING: FITSFixedWarning: RADECSYS= 'ICRS ' / Astrometric system \n",
      "the RADECSYS keyword is deprecated, use RADESYSa. [astropy.wcs.wcs]\n",
      "WARNING: FITSFixedWarning: RADECSYS= 'ICRS ' / Astrometric system \n",
      "the RADECSYS keyword is deprecated, use RADESYSa. [astropy.wcs.wcs]\n",
      "WARNING: FITSFixedWarning: RADECSYS= 'ICRS ' / Astrometric system \n",
      "the RADECSYS keyword is deprecated, use RADESYSa. [astropy.wcs.wcs]\n",
      "WARNING: FITSFixedWarning: RADECSYS= 'ICRS ' / Astrometric system \n",
      "the RADECSYS keyword is deprecated, use RADESYSa. [astropy.wcs.wcs]\n",
      "WARNING: FITSFixedWarning: RADECSYS= 'ICRS ' / Astrometric system \n",
      "the RADECSYS keyword is deprecated, use RADESYSa. [astropy.wcs.wcs]WARNING\n",
      ": FITSFixedWarning: RADECSYS= 'ICRS ' / Astrometric system \n",
      "the RADECSYS keyword is deprecated, use RADESYSa. [astropy.wcs.wcs]\n",
      "WARNINGWARNING: FITSFixedWarning: RADECSYS= 'ICRS ' / Astrometric system \n",
      "the RADECSYS keyword is deprecated, use RADESYSa. [astropy.wcs.wcs]: FITSFixedWarning: RADECSYS= 'ICRS ' / Astrometric system \n",
      "the RADECSYS keyword is deprecated, use RADESYSa. [astropy.wcs.wcs]\n",
      "\n",
      "WARNING: FITSFixedWarning: RADECSYS= 'ICRS ' / Astrometric system \n",
      "the RADECSYS keyword is deprecated, use RADESYSa. [astropy.wcs.wcs]\n",
      "WARNING: FITSFixedWarning: RADECSYS= 'ICRS ' / Astrometric system \n",
      "the RADECSYS keyword is deprecated, use RADESYSa. [astropy.wcs.wcs]WARNING\n",
      ": FITSFixedWarning: RADECSYS= 'ICRS ' / Astrometric system \n",
      "the RADECSYS keyword is deprecated, use RADESYSa. [astropy.wcs.wcs]\n",
      "WARNING: FITSFixedWarning: RADECSYS= 'ICRS ' / Astrometric system \n",
      "the RADECSYS keyword is deprecated, use RADESYSa. [astropy.wcs.wcs]\n",
      "WARNING: FITSFixedWarning: RADECSYS= 'ICRS ' / Astrometric system \n",
      "the RADECSYS keyword is deprecated, use RADESYSa. [astropy.wcs.wcs]\n",
      "WARNING: FITSFixedWarning: RADECSYS= 'ICRS ' / Astrometric system \n",
      "the RADECSYS keyword is deprecated, use RADESYSa. [astropy.wcs.wcs]\n",
      "WARNING: FITSFixedWarning: RADECSYS= 'ICRS ' / Astrometric system \n",
      "the RADECSYS keyword is deprecated, use RADESYSa. [astropy.wcs.wcs]\n",
      "WARNING: FITSFixedWarning: RADECSYS= 'ICRS ' / Astrometric system \n",
      "the RADECSYS keyword is deprecated, use RADESYSa. [astropy.wcs.wcs]\n",
      "WARNING: FITSFixedWarning: RADECSYS= 'ICRS ' / Astrometric system \n",
      "the RADECSYS keyword is deprecated, use RADESYSa. [astropy.wcs.wcs]\n",
      "WARNING: FITSFixedWarning: RADECSYS= 'ICRS ' / Astrometric system \n",
      "the RADECSYS keyword is deprecated, use RADESYSa. [astropy.wcs.wcs]\n",
      "WARNING: FITSFixedWarning: RADECSYS= 'ICRS ' / Astrometric system \n",
      "the RADECSYS keyword is deprecated, use RADESYSa. [astropy.wcs.wcs]\n",
      "WARNING: FITSFixedWarning: RADECSYS= 'ICRS ' / Astrometric system \n",
      "the RADECSYS keyword is deprecated, use RADESYSa. [astropy.wcs.wcs]\n",
      "WARNING: FITSFixedWarning: RADECSYS= 'ICRS ' / Astrometric system \n",
      "the RADECSYS keyword is deprecated, use RADESYSa. [astropy.wcs.wcs]\n",
      "/arc/home/IsaacCheng/coop_f2021/packages/fits_utils.py:241: RuntimeWarning: divide by zero encountered in log10\n",
      "  rel_mag = -2.5 * np.log10(flux) + zpt\n",
      "/arc/home/IsaacCheng/coop_f2021/packages/fits_utils.py:242: RuntimeWarning: invalid value encountered in true_divide\n",
      "  rel_mag_err = 2.5 / np.log(10) * abs(flux_err / flux)\n"
     ]
    },
    {
     "name": "stdout",
     "output_type": "stream",
     "text": [
      "Pickled /arc/home/IsaacCheng/coop_f2021/galaxies/NGC4405/NGC4405_regBin_extinctionCorr_nyquist_noNorm.pklPickled /arc/home/IsaacCheng/coop_f2021/galaxies/NGC4299/NGC4299_regBin_extinctionCorr_nyquist_noNorm.pkl\n",
      "\n"
     ]
    },
    {
     "name": "stderr",
     "output_type": "stream",
     "text": [
      "WARNING: FITSFixedWarning: RADECSYS= 'ICRS ' / Astrometric system \n",
      "the RADECSYS keyword is deprecated, use RADESYSa. [astropy.wcs.wcs]\n"
     ]
    },
    {
     "name": "stdout",
     "output_type": "stream",
     "text": [
      "Pickled /arc/home/IsaacCheng/coop_f2021/galaxies/IC3392/IC3392_regBin_extinctionCorr_nyquist_noNorm.pklPickled /arc/home/IsaacCheng/coop_f2021/galaxies/NGC4351/NGC4351_regBin_extinctionCorr_nyquist_noNorm.pkl\n",
      "\n"
     ]
    },
    {
     "name": "stderr",
     "output_type": "stream",
     "text": [
      "WARNING: FITSFixedWarning: RADECSYS= 'ICRS ' / Astrometric system \n",
      "the RADECSYS keyword is deprecated, use RADESYSa. [astropy.wcs.wcs]\n",
      "WARNINGWARNING: FITSFixedWarning: RADECSYS= 'ICRS ' / Astrometric system \n",
      "the RADECSYS keyword is deprecated, use RADESYSa. [astropy.wcs.wcs]: FITSFixedWarning: 'datfix' made the change 'Set MJD-OBS to 58837.456786 from DATE-OBS'. [astropy.wcs.wcs]\n",
      "WARNING: FITSFixedWarning: RADECSYS= 'ICRS ' / Astrometric system \n",
      "the RADECSYS keyword is deprecated, use RADESYSa. [astropy.wcs.wcs]\n",
      "\n",
      "WARNING: FITSFixedWarning: 'obsfix' made the change 'Observatory coordinates incomplete'. [astropy.wcs.wcs]\n",
      "WARNING: FITSFixedWarning: RADECSYS= 'ICRS ' / Astrometric system \n",
      "the RADECSYS keyword is deprecated, use RADESYSa. [astropy.wcs.wcs]\n",
      "WARNING: FITSFixedWarning: RADECSYS= 'ICRS ' / Astrometric system \n",
      "the RADECSYS keyword is deprecated, use RADESYSa. [astropy.wcs.wcs]\n",
      "WARNING/arc/home/IsaacCheng/coop_f2021/packages/fits_utils.py:241: RuntimeWarning: divide by zero encountered in log10\n",
      "  rel_mag = -2.5 * np.log10(flux) + zpt\n",
      ": FITSFixedWarning: RADECSYS= 'ICRS ' / Astrometric system \n",
      "the RADECSYS keyword is deprecated, use RADESYSa. [astropy.wcs.wcs]\n",
      "/arc/home/IsaacCheng/coop_f2021/packages/fits_utils.py:242: RuntimeWarning: invalid value encountered in true_divide\n",
      "  rel_mag_err = 2.5 / np.log(10) * abs(flux_err / flux)\n",
      "WARNINGWARNING: FITSFixedWarning: RADECSYS= 'ICRS ' / Astrometric system \n",
      "the RADECSYS keyword is deprecated, use RADESYSa. [astropy.wcs.wcs]\n",
      ": FITSFixedWarning: RADECSYS= 'ICRS ' / Astrometric system \n",
      "the RADECSYS keyword is deprecated, use RADESYSa. [astropy.wcs.wcs]"
     ]
    },
    {
     "name": "stdout",
     "output_type": "stream",
     "text": [
      "Pickled /arc/home/IsaacCheng/coop_f2021/galaxies/NGC4294/NGC4294_regBin_extinctionCorr_nyquist_noNorm.pkl\n"
     ]
    },
    {
     "name": "stderr",
     "output_type": "stream",
     "text": [
      "\n",
      "WARNING: FITSFixedWarning: RADECSYS= 'ICRS ' / Astrometric system \n",
      "the RADECSYS keyword is deprecated, use RADESYSa. [astropy.wcs.wcs]\n",
      "WARNING: FITSFixedWarning: 'datfix' made the change 'Set MJD-OBS to 58125.480975 from DATE-OBS'. [astropy.wcs.wcs]WARNINGWARNING: FITSFixedWarning: RADECSYS= 'ICRS ' / Astrometric system \n",
      "the RADECSYS keyword is deprecated, use RADESYSa. [astropy.wcs.wcs]: FITSFixedWarning: 'datfix' made the change 'Set MJD-OBS to 58029.684441 from DATE-OBS'. [astropy.wcs.wcs]\n",
      "\n",
      "\n",
      "WARNINGWARNINGWARNING: FITSFixedWarning: 'obsfix' made the change 'Observatory coordinates incomplete'. [astropy.wcs.wcs]: FITSFixedWarning: 'obsfix' made the change 'Observatory coordinates incomplete'. [astropy.wcs.wcs]WARNING: FITSFixedWarning: 'datfix' made the change 'Set MJD-OBS to 58119.389391 from DATE-OBS'. [astropy.wcs.wcs]\n",
      "\n",
      ": FITSFixedWarning: RADECSYS= 'ICRS ' / Astrometric system \n",
      "the RADECSYS keyword is deprecated, use RADESYSa. [astropy.wcs.wcs]\n",
      "\n",
      "WARNING: FITSFixedWarning: 'obsfix' made the change 'Observatory coordinates incomplete'. [astropy.wcs.wcs]WARNING\n",
      ": FITSFixedWarning: RADECSYS= 'ICRS ' / Astrometric system \n",
      "the RADECSYS keyword is deprecated, use RADESYSa. [astropy.wcs.wcs]WARNING\n",
      ": FITSFixedWarning: RADECSYS= 'ICRS ' / Astrometric system \n",
      "the RADECSYS keyword is deprecated, use RADESYSa. [astropy.wcs.wcs]\n",
      "WARNING: FITSFixedWarning: RADECSYS= 'ICRS ' / Astrometric system \n",
      "the RADECSYS keyword is deprecated, use RADESYSa. [astropy.wcs.wcs]\n",
      "WARNING: FITSFixedWarning: RADECSYS= 'ICRS ' / Astrometric system \n",
      "the RADECSYS keyword is deprecated, use RADESYSa. [astropy.wcs.wcs]\n",
      "WARNING: FITSFixedWarning: RADECSYS= 'ICRS ' / Astrometric system \n",
      "the RADECSYS keyword is deprecated, use RADESYSa. [astropy.wcs.wcs]\n",
      "WARNING: FITSFixedWarning: RADECSYS= 'ICRS ' / Astrometric system \n",
      "the RADECSYS keyword is deprecated, use RADESYSa. [astropy.wcs.wcs]\n",
      "WARNING: FITSFixedWarning: RADECSYS= 'ICRS ' / Astrometric system \n",
      "the RADECSYS keyword is deprecated, use RADESYSa. [astropy.wcs.wcs]\n",
      "WARNING: FITSFixedWarning: RADECSYS= 'ICRS ' / Astrometric system \n",
      "the RADECSYS keyword is deprecated, use RADESYSa. [astropy.wcs.wcs]\n"
     ]
    },
    {
     "name": "stdout",
     "output_type": "stream",
     "text": [
      "Pickled /arc/home/IsaacCheng/coop_f2021/galaxies/NGC4607/NGC4607_regBin_extinctionCorr_nyquist_noNorm.pkl\n"
     ]
    },
    {
     "name": "stderr",
     "output_type": "stream",
     "text": [
      "WARNING: FITSFixedWarning: RADECSYS= 'ICRS ' / Astrometric system \n",
      "the RADECSYS keyword is deprecated, use RADESYSa. [astropy.wcs.wcs]\n",
      "/arc/home/IsaacCheng/coop_f2021/packages/fits_utils.py:241: RuntimeWarning: divide by zero encountered in log10\n",
      "  rel_mag = -2.5 * np.log10(flux) + zpt\n",
      "/arc/home/IsaacCheng/coop_f2021/packages/fits_utils.py:242: RuntimeWarning: invalid value encountered in true_divide\n",
      "  rel_mag_err = 2.5 / np.log(10) * abs(flux_err / flux)\n"
     ]
    },
    {
     "name": "stdout",
     "output_type": "stream",
     "text": [
      "Pickled /arc/home/IsaacCheng/coop_f2021/galaxies/NGC4424/NGC4424_regBin_extinctionCorr_nyquist_noNorm.pkl\n",
      "Pickled /arc/home/IsaacCheng/coop_f2021/galaxies/NGC4419/NGC4419_regBin_extinctionCorr_nyquist_noNorm.pkl\n"
     ]
    },
    {
     "name": "stderr",
     "output_type": "stream",
     "text": [
      "WARNING: FITSFixedWarning: RADECSYS= 'ICRS ' / Astrometric system \n",
      "the RADECSYS keyword is deprecated, use RADESYSa. [astropy.wcs.wcs]\n",
      "WARNING: FITSFixedWarning: RADECSYS= 'ICRS ' / Astrometric system \n",
      "the RADECSYS keyword is deprecated, use RADESYSa. [astropy.wcs.wcs]WARNING\n",
      ": FITSFixedWarning: RADECSYS= 'ICRS ' / Astrometric system \n",
      "the RADECSYS keyword is deprecated, use RADESYSa. [astropy.wcs.wcs]WARNING: FITSFixedWarning: RADECSYS= 'ICRS ' / Astrometric system \n",
      "the RADECSYS keyword is deprecated, use RADESYSa. [astropy.wcs.wcs]\n",
      "\n",
      "WARNING: FITSFixedWarning: RADECSYS= 'ICRS ' / Astrometric system \n",
      "the RADECSYS keyword is deprecated, use RADESYSa. [astropy.wcs.wcs]WARNING\n",
      ": FITSFixedWarning: RADECSYS= 'ICRS ' / Astrometric system \n",
      "the RADECSYS keyword is deprecated, use RADESYSa. [astropy.wcs.wcs]\n"
     ]
    },
    {
     "name": "stdout",
     "output_type": "stream",
     "text": [
      "Pickled /arc/home/IsaacCheng/coop_f2021/galaxies/NGC4567/NGC4567_regBin_extinctionCorr_nyquist_noNorm.pkl\n",
      "Pickled /arc/home/IsaacCheng/coop_f2021/galaxies/NGC4522/NGC4522_regBin_extinctionCorr_nyquist_noNorm.pkl\n"
     ]
    },
    {
     "name": "stderr",
     "output_type": "stream",
     "text": [
      "WARNING: FITSFixedWarning: RADECSYS= 'ICRS ' / Astrometric system \n",
      "the RADECSYS keyword is deprecated, use RADESYSa. [astropy.wcs.wcs]\n",
      "WARNING: FITSFixedWarning: RADECSYS= 'ICRS ' / Astrometric system \n",
      "the RADECSYS keyword is deprecated, use RADESYSa. [astropy.wcs.wcs]\n",
      "WARNING: FITSFixedWarning: RADECSYS= 'ICRS ' / Astrometric system \n",
      "the RADECSYS keyword is deprecated, use RADESYSa. [astropy.wcs.wcs]\n",
      "WARNING: FITSFixedWarning: RADECSYS= 'ICRS ' / Astrometric system \n",
      "the RADECSYS keyword is deprecated, use RADESYSa. [astropy.wcs.wcs]\n",
      "/arc/home/IsaacCheng/coop_f2021/packages/fits_utils.py:241: RuntimeWarning: divide by zero encountered in log10\n",
      "  rel_mag = -2.5 * np.log10(flux) + zpt\n",
      "/arc/home/IsaacCheng/coop_f2021/packages/fits_utils.py:242: RuntimeWarning: invalid value encountered in true_divide\n",
      "  rel_mag_err = 2.5 / np.log(10) * abs(flux_err / flux)\n"
     ]
    },
    {
     "name": "stdout",
     "output_type": "stream",
     "text": [
      "Pickled /arc/home/IsaacCheng/coop_f2021/galaxies/NGC4383/NGC4383_regBin_extinctionCorr_nyquist_noNorm.pkl\n"
     ]
    },
    {
     "name": "stderr",
     "output_type": "stream",
     "text": [
      "WARNING: FITSFixedWarning: RADECSYS= 'ICRS ' / Astrometric system \n",
      "the RADECSYS keyword is deprecated, use RADESYSa. [astropy.wcs.wcs]\n",
      "WARNING: FITSFixedWarning: RADECSYS= 'ICRS ' / Astrometric system \n",
      "the RADECSYS keyword is deprecated, use RADESYSa. [astropy.wcs.wcs]\n",
      "WARNING: FITSFixedWarning: RADECSYS= 'ICRS ' / Astrometric system \n",
      "the RADECSYS keyword is deprecated, use RADESYSa. [astropy.wcs.wcs]\n",
      "/arc/home/IsaacCheng/coop_f2021/packages/fits_utils.py:241: RuntimeWarning: divide by zero encountered in log10\n",
      "  rel_mag = -2.5 * np.log10(flux) + zpt\n",
      "/arc/home/IsaacCheng/coop_f2021/packages/fits_utils.py:242: RuntimeWarning: invalid value encountered in true_divide\n",
      "  rel_mag_err = 2.5 / np.log(10) * abs(flux_err / flux)\n"
     ]
    },
    {
     "name": "stdout",
     "output_type": "stream",
     "text": [
      "Pickled /arc/home/IsaacCheng/coop_f2021/galaxies/NGC4532/NGC4532_regBin_extinctionCorr_nyquist_noNorm.pkl\n",
      "Pickled /arc/home/IsaacCheng/coop_f2021/galaxies/NGC4568/NGC4568_regBin_extinctionCorr_nyquist_noNorm.pkl\n"
     ]
    },
    {
     "name": "stderr",
     "output_type": "stream",
     "text": [
      "WARNING: FITSFixedWarning: RADECSYS= 'ICRS ' / Astrometric system \n",
      "the RADECSYS keyword is deprecated, use RADESYSa. [astropy.wcs.wcs]\n",
      "WARNING: FITSFixedWarning: RADECSYS= 'ICRS ' / Astrometric system \n",
      "the RADECSYS keyword is deprecated, use RADESYSa. [astropy.wcs.wcs]\n",
      "WARNING: FITSFixedWarning: RADECSYS= 'ICRS ' / Astrometric system \n",
      "the RADECSYS keyword is deprecated, use RADESYSa. [astropy.wcs.wcs]\n",
      "WARNING: FITSFixedWarning: RADECSYS= 'ICRS ' / Astrometric system \n",
      "the RADECSYS keyword is deprecated, use RADESYSa. [astropy.wcs.wcs]\n",
      "WARNING: FITSFixedWarning: RADECSYS= 'ICRS ' / Astrometric system \n",
      "the RADECSYS keyword is deprecated, use RADESYSa. [astropy.wcs.wcs]\n",
      "WARNING: FITSFixedWarning: RADECSYS= 'ICRS ' / Astrometric system \n",
      "the RADECSYS keyword is deprecated, use RADESYSa. [astropy.wcs.wcs]\n"
     ]
    },
    {
     "name": "stdout",
     "output_type": "stream",
     "text": [
      "Pickled /arc/home/IsaacCheng/coop_f2021/galaxies/NGC4694/NGC4694_regBin_extinctionCorr_nyquist_noNorm.pkl\n"
     ]
    },
    {
     "name": "stderr",
     "output_type": "stream",
     "text": [
      "/arc/home/IsaacCheng/coop_f2021/packages/fits_utils.py:241: RuntimeWarning: divide by zero encountered in log10\n",
      "  rel_mag = -2.5 * np.log10(flux) + zpt\n",
      "/arc/home/IsaacCheng/coop_f2021/packages/fits_utils.py:242: RuntimeWarning: invalid value encountered in true_divide\n",
      "  rel_mag_err = 2.5 / np.log(10) * abs(flux_err / flux)\n",
      "/arc/home/IsaacCheng/coop_f2021/packages/fits_utils.py:241: RuntimeWarning: invalid value encountered in log10\n",
      "  rel_mag = -2.5 * np.log10(flux) + zpt\n"
     ]
    },
    {
     "name": "stdout",
     "output_type": "stream",
     "text": [
      "Pickled /arc/home/IsaacCheng/coop_f2021/galaxies/NGC4222/NGC4222_regBin_extinctionCorr_nyquist_noNorm.pkl\n"
     ]
    },
    {
     "name": "stderr",
     "output_type": "stream",
     "text": [
      "WARNING: FITSFixedWarning: RADECSYS= 'ICRS ' / Astrometric system \n",
      "the RADECSYS keyword is deprecated, use RADESYSa. [astropy.wcs.wcs]\n",
      "WARNING: FITSFixedWarning: RADECSYS= 'ICRS ' / Astrometric system \n",
      "the RADECSYS keyword is deprecated, use RADESYSa. [astropy.wcs.wcs]\n",
      "/arc/home/IsaacCheng/coop_f2021/packages/fits_utils.py:241: RuntimeWarning: divide by zero encountered in log10\n",
      "  rel_mag = -2.5 * np.log10(flux) + zpt\n",
      "/arc/home/IsaacCheng/coop_f2021/packages/fits_utils.py:242: RuntimeWarning: invalid value encountered in true_divide\n",
      "  rel_mag_err = 2.5 / np.log(10) * abs(flux_err / flux)\n",
      "/arc/home/IsaacCheng/coop_f2021/packages/fits_utils.py:241: RuntimeWarning: invalid value encountered in log10\n",
      "  rel_mag = -2.5 * np.log10(flux) + zpt\n"
     ]
    },
    {
     "name": "stdout",
     "output_type": "stream",
     "text": [
      "Pickled /arc/home/IsaacCheng/coop_f2021/galaxies/NGC4330/NGC4330_regBin_extinctionCorr_nyquist_noNorm.pkl\n"
     ]
    },
    {
     "name": "stderr",
     "output_type": "stream",
     "text": [
      "/arc/home/IsaacCheng/coop_f2021/packages/fits_utils.py:241: RuntimeWarning: divide by zero encountered in log10\n",
      "  rel_mag = -2.5 * np.log10(flux) + zpt\n",
      "/arc/home/IsaacCheng/coop_f2021/packages/fits_utils.py:242: RuntimeWarning: invalid value encountered in true_divide\n",
      "  rel_mag_err = 2.5 / np.log(10) * abs(flux_err / flux)\n",
      "WARNING: FITSFixedWarning: RADECSYS= 'ICRS ' / Astrometric system \n",
      "the RADECSYS keyword is deprecated, use RADESYSa. [astropy.wcs.wcs]\n"
     ]
    },
    {
     "name": "stdout",
     "output_type": "stream",
     "text": [
      "Pickled /arc/home/IsaacCheng/coop_f2021/galaxies/NGC4298/NGC4298_regBin_extinctionCorr_nyquist_noNorm.pkl\n"
     ]
    },
    {
     "name": "stderr",
     "output_type": "stream",
     "text": [
      "WARNING: FITSFixedWarning: RADECSYS= 'ICRS ' / Astrometric system \n",
      "the RADECSYS keyword is deprecated, use RADESYSa. [astropy.wcs.wcs]\n",
      "WARNING: FITSFixedWarning: RADECSYS= 'ICRS ' / Astrometric system \n",
      "the RADECSYS keyword is deprecated, use RADESYSa. [astropy.wcs.wcs]\n",
      "WARNING"
     ]
    },
    {
     "name": "stdout",
     "output_type": "stream",
     "text": [
      "Pickled /arc/home/IsaacCheng/coop_f2021/galaxies/NGC4580/NGC4580_regBin_extinctionCorr_nyquist_noNorm.pkl"
     ]
    },
    {
     "name": "stderr",
     "output_type": "stream",
     "text": [
      ": FITSFixedWarning: RADECSYS= 'ICRS ' / Astrometric system \n",
      "the RADECSYS keyword is deprecated, use RADESYSa. [astropy.wcs.wcs]\n"
     ]
    },
    {
     "name": "stdout",
     "output_type": "stream",
     "text": [
      "\n"
     ]
    },
    {
     "name": "stderr",
     "output_type": "stream",
     "text": [
      "WARNING: FITSFixedWarning: RADECSYS= 'ICRS ' / Astrometric system \n",
      "the RADECSYS keyword is deprecated, use RADESYSa. [astropy.wcs.wcs]\n",
      "WARNING: FITSFixedWarning: RADECSYS= 'ICRS ' / Astrometric system \n",
      "the RADECSYS keyword is deprecated, use RADESYSa. [astropy.wcs.wcs]\n",
      "WARNING: FITSFixedWarning: RADECSYS= 'ICRS ' / Astrometric system \n",
      "the RADECSYS keyword is deprecated, use RADESYSa. [astropy.wcs.wcs]\n",
      "WARNING: FITSFixedWarning: RADECSYS= 'ICRS ' / Astrometric system \n",
      "the RADECSYS keyword is deprecated, use RADESYSa. [astropy.wcs.wcs]\n",
      "WARNING: FITSFixedWarning: RADECSYS= 'ICRS ' / Astrometric system \n",
      "the RADECSYS keyword is deprecated, use RADESYSa. [astropy.wcs.wcs]\n",
      "WARNING: FITSFixedWarning: RADECSYS= 'ICRS ' / Astrometric system \n",
      "the RADECSYS keyword is deprecated, use RADESYSa. [astropy.wcs.wcs]\n",
      "WARNING: FITSFixedWarning: RADECSYS= 'ICRS ' / Astrometric system \n",
      "the RADECSYS keyword is deprecated, use RADESYSa. [astropy.wcs.wcs]\n",
      "WARNING: FITSFixedWarning: RADECSYS= 'ICRS ' / Astrometric system \n",
      "the RADECSYS keyword is deprecated, use RADESYSa. [astropy.wcs.wcs]\n",
      "WARNING/arc/home/IsaacCheng/coop_f2021/packages/fits_utils.py:241: RuntimeWarning: divide by zero encountered in log10\n",
      "  rel_mag = -2.5 * np.log10(flux) + zpt\n",
      ": FITSFixedWarning: RADECSYS= 'ICRS ' / Astrometric system \n",
      "the RADECSYS keyword is deprecated, use RADESYSa. [astropy.wcs.wcs]/arc/home/IsaacCheng/coop_f2021/packages/fits_utils.py:242: RuntimeWarning: invalid value encountered in true_divide\n",
      "  rel_mag_err = 2.5 / np.log(10) * abs(flux_err / flux)\n",
      "\n"
     ]
    },
    {
     "name": "stdout",
     "output_type": "stream",
     "text": [
      "Pickled /arc/home/IsaacCheng/coop_f2021/galaxies/NGC4388/NGC4388_regBin_extinctionCorr_nyquist_noNorm.pkl\n"
     ]
    },
    {
     "name": "stderr",
     "output_type": "stream",
     "text": [
      "WARNING: FITSFixedWarning: RADECSYS= 'ICRS ' / Astrometric system \n",
      "the RADECSYS keyword is deprecated, use RADESYSa. [astropy.wcs.wcs]\n",
      "WARNING: FITSFixedWarning: RADECSYS= 'ICRS ' / Astrometric system \n",
      "the RADECSYS keyword is deprecated, use RADESYSa. [astropy.wcs.wcs]\n",
      "/arc/home/IsaacCheng/coop_f2021/packages/fits_utils.py:241: RuntimeWarning: divide by zero encountered in log10\n",
      "  rel_mag = -2.5 * np.log10(flux) + zpt\n",
      "/arc/home/IsaacCheng/coop_f2021/packages/fits_utils.py:242: RuntimeWarning: invalid value encountered in true_divide\n",
      "  rel_mag_err = 2.5 / np.log(10) * abs(flux_err / flux)\n"
     ]
    },
    {
     "name": "stdout",
     "output_type": "stream",
     "text": [
      "Pickled /arc/home/IsaacCheng/coop_f2021/galaxies/NGC4450/NGC4450_regBin_extinctionCorr_nyquist_noNorm.pkl\n"
     ]
    },
    {
     "name": "stderr",
     "output_type": "stream",
     "text": [
      "WARNING: FITSFixedWarning: RADECSYS= 'ICRS ' / Astrometric system \n",
      "the RADECSYS keyword is deprecated, use RADESYSa. [astropy.wcs.wcs]\n",
      "WARNING: FITSFixedWarning: RADECSYS= 'ICRS ' / Astrometric system \n",
      "the RADECSYS keyword is deprecated, use RADESYSa. [astropy.wcs.wcs]\n"
     ]
    },
    {
     "name": "stdout",
     "output_type": "stream",
     "text": [
      "Pickled /arc/home/IsaacCheng/coop_f2021/galaxies/NGC4651/NGC4651_regBin_extinctionCorr_nyquist_noNorm.pkl\n",
      "Pickled /arc/home/IsaacCheng/coop_f2021/galaxies/NGC4380/NGC4380_regBin_extinctionCorr_nyquist_noNorm.pkl\n"
     ]
    },
    {
     "name": "stderr",
     "output_type": "stream",
     "text": [
      "WARNING: FITSFixedWarning: RADECSYS= 'ICRS ' / Astrometric system \n",
      "the RADECSYS keyword is deprecated, use RADESYSa. [astropy.wcs.wcs]\n",
      "WARNING: FITSFixedWarning: RADECSYS= 'ICRS ' / Astrometric system \n",
      "the RADECSYS keyword is deprecated, use RADESYSa. [astropy.wcs.wcs]\n",
      "/arc/home/IsaacCheng/coop_f2021/packages/fits_utils.py:241: RuntimeWarning: divide by zero encountered in log10\n",
      "  rel_mag = -2.5 * np.log10(flux) + zpt\n",
      "/arc/home/IsaacCheng/coop_f2021/packages/fits_utils.py:242: RuntimeWarning: invalid value encountered in true_divide\n",
      "  rel_mag_err = 2.5 / np.log(10) * abs(flux_err / flux)\n"
     ]
    },
    {
     "name": "stdout",
     "output_type": "stream",
     "text": [
      "Pickled /arc/home/IsaacCheng/coop_f2021/galaxies/NGC4501/NGC4501_regBin_extinctionCorr_nyquist_noNorm.pkl\n"
     ]
    },
    {
     "name": "stderr",
     "output_type": "stream",
     "text": [
      "WARNING: FITSFixedWarning: RADECSYS= 'ICRS ' / Astrometric system \n",
      "the RADECSYS keyword is deprecated, use RADESYSa. [astropy.wcs.wcs]\n",
      "WARNING: FITSFixedWarning: RADECSYS= 'ICRS ' / Astrometric system \n",
      "the RADECSYS keyword is deprecated, use RADESYSa. [astropy.wcs.wcs]\n",
      "WARNING: FITSFixedWarning: RADECSYS= 'ICRS ' / Astrometric system \n",
      "the RADECSYS keyword is deprecated, use RADESYSa. [astropy.wcs.wcs]\n",
      "/arc/home/IsaacCheng/coop_f2021/packages/fits_utils.py:241: RuntimeWarning: divide by zero encountered in log10\n",
      "  rel_mag = -2.5 * np.log10(flux) + zpt\n",
      "/arc/home/IsaacCheng/coop_f2021/packages/fits_utils.py:242: RuntimeWarning: invalid value encountered in true_divide\n",
      "  rel_mag_err = 2.5 / np.log(10) * abs(flux_err / flux)\n",
      "/arc/home/IsaacCheng/coop_f2021/packages/fits_utils.py:241: RuntimeWarning: invalid value encountered in log10\n",
      "  rel_mag = -2.5 * np.log10(flux) + zpt\n"
     ]
    },
    {
     "name": "stdout",
     "output_type": "stream",
     "text": [
      "Pickled /arc/home/IsaacCheng/coop_f2021/galaxies/NGC4396/NGC4396_regBin_extinctionCorr_nyquist_noNorm.pkl\n"
     ]
    },
    {
     "name": "stderr",
     "output_type": "stream",
     "text": [
      "WARNING: FITSFixedWarning: RADECSYS= 'ICRS ' / Astrometric system \n",
      "the RADECSYS keyword is deprecated, use RADESYSa. [astropy.wcs.wcs]\n"
     ]
    },
    {
     "name": "stdout",
     "output_type": "stream",
     "text": [
      "Pickled /arc/home/IsaacCheng/coop_f2021/galaxies/NGC4689/NGC4689_regBin_extinctionCorr_nyquist_noNorm.pkl\n"
     ]
    },
    {
     "name": "stderr",
     "output_type": "stream",
     "text": [
      "WARNING: FITSFixedWarning: RADECSYS= 'ICRS ' / Astrometric system \n",
      "the RADECSYS keyword is deprecated, use RADESYSa. [astropy.wcs.wcs]\n",
      "WARNING: FITSFixedWarning: RADECSYS= 'ICRS ' / Astrometric system \n",
      "the RADECSYS keyword is deprecated, use RADESYSa. [astropy.wcs.wcs]\n",
      "WARNING: FITSFixedWarning: RADECSYS= 'ICRS ' / Astrometric system \n",
      "the RADECSYS keyword is deprecated, use RADESYSa. [astropy.wcs.wcs]\n"
     ]
    },
    {
     "name": "stdout",
     "output_type": "stream",
     "text": [
      "Pickled /arc/home/IsaacCheng/coop_f2021/galaxies/NGC4579/NGC4579_regBin_extinctionCorr_nyquist_noNorm.pkl\n"
     ]
    },
    {
     "name": "stderr",
     "output_type": "stream",
     "text": [
      "WARNING: FITSFixedWarning: RADECSYS= 'ICRS ' / Astrometric system \n",
      "the RADECSYS keyword is deprecated, use RADESYSa. [astropy.wcs.wcs]\n",
      "/arc/home/IsaacCheng/coop_f2021/packages/fits_utils.py:241: RuntimeWarning: divide by zero encountered in log10\n",
      "  rel_mag = -2.5 * np.log10(flux) + zpt\n",
      "/arc/home/IsaacCheng/coop_f2021/packages/fits_utils.py:242: RuntimeWarning: invalid value encountered in true_divide\n",
      "  rel_mag_err = 2.5 / np.log(10) * abs(flux_err / flux)\n"
     ]
    },
    {
     "name": "stdout",
     "output_type": "stream",
     "text": [
      "Pickled /arc/home/IsaacCheng/coop_f2021/galaxies/NGC4402/NGC4402_regBin_extinctionCorr_nyquist_noNorm.pkl\n"
     ]
    },
    {
     "name": "stderr",
     "output_type": "stream",
     "text": [
      "/arc/home/IsaacCheng/coop_f2021/packages/fits_utils.py:241: RuntimeWarning: divide by zero encountered in log10\n",
      "  rel_mag = -2.5 * np.log10(flux) + zpt\n",
      "/arc/home/IsaacCheng/coop_f2021/packages/fits_utils.py:242: RuntimeWarning: invalid value encountered in true_divide\n",
      "  rel_mag_err = 2.5 / np.log(10) * abs(flux_err / flux)\n"
     ]
    },
    {
     "name": "stdout",
     "output_type": "stream",
     "text": [
      "Pickled /arc/home/IsaacCheng/coop_f2021/galaxies/NGC4535/NGC4535_regBin_extinctionCorr_nyquist_noNorm.pkl\n"
     ]
    },
    {
     "name": "stderr",
     "output_type": "stream",
     "text": [
      "WARNING: FITSFixedWarning: RADECSYS= 'ICRS ' / Astrometric system \n",
      "the RADECSYS keyword is deprecated, use RADESYSa. [astropy.wcs.wcs]\n"
     ]
    },
    {
     "name": "stdout",
     "output_type": "stream",
     "text": [
      "Pickled /arc/home/IsaacCheng/coop_f2021/galaxies/NGC4548/NGC4548_regBin_extinctionCorr_nyquist_noNorm.pkl\n"
     ]
    },
    {
     "name": "stderr",
     "output_type": "stream",
     "text": [
      "WARNING: FITSFixedWarning: RADECSYS= 'ICRS ' / Astrometric system \n",
      "the RADECSYS keyword is deprecated, use RADESYSa. [astropy.wcs.wcs]\n"
     ]
    },
    {
     "name": "stdout",
     "output_type": "stream",
     "text": [
      "Pickled /arc/home/IsaacCheng/coop_f2021/galaxies/NGC4569/NGC4569_regBin_extinctionCorr_nyquist_noNorm.pkl\n"
     ]
    },
    {
     "name": "stderr",
     "output_type": "stream",
     "text": [
      "WARNING: FITSFixedWarning: RADECSYS= 'ICRS ' / Astrometric system \n",
      "the RADECSYS keyword is deprecated, use RADESYSa. [astropy.wcs.wcs]\n",
      "WARNING: FITSFixedWarning: RADECSYS= 'ICRS ' / Astrometric system \n",
      "the RADECSYS keyword is deprecated, use RADESYSa. [astropy.wcs.wcs]\n",
      "WARNING: FITSFixedWarning: RADECSYS= 'ICRS ' / Astrometric system \n",
      "the RADECSYS keyword is deprecated, use RADESYSa. [astropy.wcs.wcs]\n",
      "/arc/home/IsaacCheng/coop_f2021/packages/fits_utils.py:241: RuntimeWarning: divide by zero encountered in log10\n",
      "  rel_mag = -2.5 * np.log10(flux) + zpt\n",
      "/arc/home/IsaacCheng/coop_f2021/packages/fits_utils.py:242: RuntimeWarning: invalid value encountered in true_divide\n",
      "  rel_mag_err = 2.5 / np.log(10) * abs(flux_err / flux)\n"
     ]
    },
    {
     "name": "stdout",
     "output_type": "stream",
     "text": [
      "Pickled /arc/home/IsaacCheng/coop_f2021/galaxies/NGC4321/NGC4321_regBin_extinctionCorr_nyquist_noNorm.pkl\n"
     ]
    },
    {
     "name": "stderr",
     "output_type": "stream",
     "text": [
      "WARNING: FITSFixedWarning: RADECSYS= 'ICRS ' / Astrometric system \n",
      "the RADECSYS keyword is deprecated, use RADESYSa. [astropy.wcs.wcs]\n",
      "/arc/home/IsaacCheng/coop_f2021/packages/fits_utils.py:241: RuntimeWarning: divide by zero encountered in log10\n",
      "  rel_mag = -2.5 * np.log10(flux) + zpt\n",
      "/arc/home/IsaacCheng/coop_f2021/packages/fits_utils.py:242: RuntimeWarning: invalid value encountered in true_divide\n",
      "  rel_mag_err = 2.5 / np.log(10) * abs(flux_err / flux)\n"
     ]
    },
    {
     "name": "stdout",
     "output_type": "stream",
     "text": [
      "Pickled /arc/home/IsaacCheng/coop_f2021/galaxies/NGC4654/NGC4654_regBin_extinctionCorr_nyquist_noNorm.pkl\n"
     ]
    },
    {
     "name": "stderr",
     "output_type": "stream",
     "text": [
      "/arc/home/IsaacCheng/coop_f2021/packages/fits_utils.py:241: RuntimeWarning: divide by zero encountered in log10\n",
      "  rel_mag = -2.5 * np.log10(flux) + zpt\n",
      "/arc/home/IsaacCheng/coop_f2021/packages/fits_utils.py:242: RuntimeWarning: invalid value encountered in true_divide\n",
      "  rel_mag_err = 2.5 / np.log(10) * abs(flux_err / flux)\n",
      "/arc/home/IsaacCheng/coop_f2021/packages/fits_utils.py:241: RuntimeWarning: invalid value encountered in log10\n",
      "  rel_mag = -2.5 * np.log10(flux) + zpt\n"
     ]
    },
    {
     "name": "stdout",
     "output_type": "stream",
     "text": [
      "Pickled /arc/home/IsaacCheng/coop_f2021/galaxies/NGC4254/NGC4254_regBin_extinctionCorr_nyquist_noNorm.pkl\n"
     ]
    },
    {
     "name": "stderr",
     "output_type": "stream",
     "text": [
      "/arc/home/IsaacCheng/coop_f2021/packages/fits_utils.py:241: RuntimeWarning: divide by zero encountered in log10\n",
      "  rel_mag = -2.5 * np.log10(flux) + zpt\n",
      "/arc/home/IsaacCheng/coop_f2021/packages/fits_utils.py:242: RuntimeWarning: invalid value encountered in true_divide\n",
      "  rel_mag_err = 2.5 / np.log(10) * abs(flux_err / flux)\n",
      "/arc/home/IsaacCheng/coop_f2021/packages/fits_utils.py:241: RuntimeWarning: invalid value encountered in log10\n",
      "  rel_mag = -2.5 * np.log10(flux) + zpt\n"
     ]
    },
    {
     "name": "stdout",
     "output_type": "stream",
     "text": [
      "Pickled /arc/home/IsaacCheng/coop_f2021/galaxies/NGC4192/NGC4192_regBin_extinctionCorr_nyquist_noNorm.pkl\n"
     ]
    },
    {
     "name": "stderr",
     "output_type": "stream",
     "text": [
      "/arc/home/IsaacCheng/coop_f2021/packages/fits_utils.py:241: RuntimeWarning: divide by zero encountered in log10\n",
      "  rel_mag = -2.5 * np.log10(flux) + zpt\n",
      "/arc/home/IsaacCheng/coop_f2021/packages/fits_utils.py:241: RuntimeWarning: invalid value encountered in log10\n",
      "  rel_mag = -2.5 * np.log10(flux) + zpt\n",
      "/arc/home/IsaacCheng/coop_f2021/packages/fits_utils.py:242: RuntimeWarning: invalid value encountered in true_divide\n",
      "  rel_mag_err = 2.5 / np.log(10) * abs(flux_err / flux)\n"
     ]
    },
    {
     "name": "stdout",
     "output_type": "stream",
     "text": [
      "Pickled /arc/home/IsaacCheng/coop_f2021/galaxies/NGC4302/NGC4302_regBin_extinctionCorr_nyquist_noNorm.pkl\n"
     ]
    },
    {
     "name": "stderr",
     "output_type": "stream",
     "text": [
      "WARNING: FITSFixedWarning: RADECSYS= 'ICRS ' / Astrometric system \n",
      "the RADECSYS keyword is deprecated, use RADESYSa. [astropy.wcs.wcs]\n",
      "/arc/home/IsaacCheng/coop_f2021/packages/fits_utils.py:241: RuntimeWarning: divide by zero encountered in log10\n",
      "  rel_mag = -2.5 * np.log10(flux) + zpt\n",
      "/arc/home/IsaacCheng/coop_f2021/packages/fits_utils.py:242: RuntimeWarning: invalid value encountered in true_divide\n",
      "  rel_mag_err = 2.5 / np.log(10) * abs(flux_err / flux)\n",
      "/arc/home/IsaacCheng/coop_f2021/packages/fits_utils.py:241: RuntimeWarning: invalid value encountered in log10\n",
      "  rel_mag = -2.5 * np.log10(flux) + zpt\n"
     ]
    },
    {
     "name": "stdout",
     "output_type": "stream",
     "text": [
      "Pickled /arc/home/IsaacCheng/coop_f2021/galaxies/NGC4216/NGC4216_regBin_extinctionCorr_nyquist_noNorm.pkl\n",
      "Done\n"
     ]
    }
   ],
   "source": [
    "with Pool(processes=None) as p:\n",
    "    p.starmap(bin_ngvs_data_noNorm, zip(GALAXIES, VCC_GALAXIES, repeat(\"nyquist\")))\n",
    "print(\"Done\")"
   ]
  },
  {
   "cell_type": "markdown",
   "id": "italic-barcelona",
   "metadata": {},
   "source": [
    "## 9 arcsec beam with 2 arcsec pixels Resolution\n"
   ]
  },
  {
   "cell_type": "code",
   "execution_count": 5,
   "id": "every-development",
   "metadata": {
    "collapsed": true,
    "jupyter": {
     "outputs_hidden": true
    },
    "tags": []
   },
   "outputs": [
    {
     "name": "stderr",
     "output_type": "stream",
     "text": [
      "WARNINGWARNING: FITSFixedWarning: 'datfix' made the change 'Set MJD-OBS to 58800.586857 from DATE-OBS'. [astropy.wcs.wcs]: FITSFixedWarning: 'datfix' made the change 'Set MJD-OBS to 58771.720579 from DATE-OBS'. [astropy.wcs.wcs]\n",
      "WARNINGWARNINGWARNING\n",
      "WARNING: FITSFixedWarning: 'obsfix' made the change 'Observatory coordinates incomplete'. [astropy.wcs.wcs]: FITSFixedWarning: 'datfix' made the change 'Set MJD-OBS to 58830.570338 from DATE-OBS'. [astropy.wcs.wcs]: FITSFixedWarning: 'datfix' made the change 'Set MJD-OBS to 58857.486979 from DATE-OBS'. [astropy.wcs.wcs]WARNING: FITSFixedWarning: 'datfix' made the change 'Set MJD-OBS to 58203.170749 from DATE-OBS'. [astropy.wcs.wcs]\n",
      ": FITSFixedWarning: 'obsfix' made the change 'Observatory coordinates incomplete'. [astropy.wcs.wcs]\n",
      ": FITSFixedWarning: 'datfix' made the change 'Set MJD-OBS to 58184.283297 from DATE-OBS'. [astropy.wcs.wcs]\n",
      "WARNING\n",
      "WARNING\n",
      ": FITSFixedWarning: 'obsfix' made the change 'Observatory coordinates incomplete'. [astropy.wcs.wcs]\n",
      "WARNINGWARNING: FITSFixedWarning: 'obsfix' made the change 'Observatory coordinates incomplete'. [astropy.wcs.wcs]: FITSFixedWarning: RADECSYS= 'ICRS ' / Astrometric system \n",
      "the RADECSYS keyword is deprecated, use RADESYSa. [astropy.wcs.wcs]\n",
      "\n",
      "WARNING: FITSFixedWarning: 'obsfix' made the change 'Observatory coordinates incomplete'. [astropy.wcs.wcs]\n",
      "WARNING\n",
      ": FITSFixedWarning: RADECSYS= 'ICRS ' / Astrometric system \n",
      "the RADECSYS keyword is deprecated, use RADESYSa. [astropy.wcs.wcs]WARNINGWARNINGWARNINGWARNING\n",
      ": FITSFixedWarning: RADECSYS= 'ICRS ' / Astrometric system \n",
      "the RADECSYS keyword is deprecated, use RADESYSa. [astropy.wcs.wcs]: FITSFixedWarning: 'datfix' made the change 'Set MJD-OBS to 58837.406607 from DATE-OBS'. [astropy.wcs.wcs]: FITSFixedWarning: 'obsfix' made the change 'Observatory coordinates incomplete'. [astropy.wcs.wcs]: FITSFixedWarning: RADECSYS= 'ICRS ' / Astrometric system \n",
      "the RADECSYS keyword is deprecated, use RADESYSa. [astropy.wcs.wcs]WARNING\n",
      "\n",
      "\n",
      "\n",
      ": FITSFixedWarning: RADECSYS= 'ICRS ' / Astrometric system \n",
      "the RADECSYS keyword is deprecated, use RADESYSa. [astropy.wcs.wcs]\n",
      "WARNING: FITSFixedWarning: 'obsfix' made the change 'Observatory coordinates incomplete'. [astropy.wcs.wcs]\n",
      "WARNINGWARNINGWARNING: FITSFixedWarning: 'datfix' made the change 'Set MJD-OBS to 58855.371869 from DATE-OBS'. [astropy.wcs.wcs]: FITSFixedWarning: 'datfix' made the change 'Set MJD-OBS to 58786.495183 from DATE-OBS'. [astropy.wcs.wcs]: FITSFixedWarning: RADECSYS= 'ICRS ' / Astrometric system \n",
      "the RADECSYS keyword is deprecated, use RADESYSa. [astropy.wcs.wcs]\n",
      "\n",
      "WARNING: FITSFixedWarning: RADECSYS= 'ICRS ' / Astrometric system \n",
      "the RADECSYS keyword is deprecated, use RADESYSa. [astropy.wcs.wcs]\n",
      "\n",
      "WARNINGWARNING: FITSFixedWarning: 'obsfix' made the change 'Observatory coordinates incomplete'. [astropy.wcs.wcs]\n",
      "WARNING: FITSFixedWarning: 'datfix' made the change 'Set MJD-OBS to 58838.438545 from DATE-OBS'. [astropy.wcs.wcs]\n",
      ": FITSFixedWarning: 'obsfix' made the change 'Observatory coordinates incomplete'. [astropy.wcs.wcs]\n",
      "WARNINGWARNINGWARNING: FITSFixedWarning: 'datfix' made the change 'Set MJD-OBS to 58034.639742 from DATE-OBS'. [astropy.wcs.wcs]WARNINGWARNING: FITSFixedWarning: 'obsfix' made the change 'Observatory coordinates incomplete'. [astropy.wcs.wcs]\n",
      ": FITSFixedWarning: 'datfix' made the change 'Set MJD-OBS to 57729.380956 from DATE-OBS'. [astropy.wcs.wcs]: FITSFixedWarning: RADECSYS= 'ICRS ' / Astrometric system \n",
      "the RADECSYS keyword is deprecated, use RADESYSa. [astropy.wcs.wcs]WARNINGWARNINGWARNING\n",
      "WARNING\n",
      ": FITSFixedWarning: 'datfix' made the change 'Set MJD-OBS to 58858.416048 from DATE-OBS'. [astropy.wcs.wcs]: FITSFixedWarning: 'datfix' made the change 'Set MJD-OBS to 58807.603859 from DATE-OBS'. [astropy.wcs.wcs]: FITSFixedWarning: RADECSYS= 'ICRS ' / Astrometric system \n",
      "the RADECSYS keyword is deprecated, use RADESYSa. [astropy.wcs.wcs]WARNING\n",
      "\n",
      "\n",
      ": FITSFixedWarning: 'datfix' made the change 'Set MJD-OBS to 58771.655996 from DATE-OBS'. [astropy.wcs.wcs]\n",
      "WARNINGWARNING\n",
      "WARNINGWARNINGWARNINGWARNING: FITSFixedWarning: 'datfix' made the change 'Set MJD-OBS to 58125.369839 from DATE-OBS'. [astropy.wcs.wcs]WARNING: FITSFixedWarning: 'datfix' made the change 'Set MJD-OBS to 58835.533518 from DATE-OBS'. [astropy.wcs.wcs]: FITSFixedWarning: 'datfix' made the change 'Set MJD-OBS to 58906.231702 from DATE-OBS'. [astropy.wcs.wcs]: FITSFixedWarning: 'obsfix' made the change 'Observatory coordinates incomplete'. [astropy.wcs.wcs]: FITSFixedWarning: 'datfix' made the change 'Set MJD-OBS to 58855.352029 from DATE-OBS'. [astropy.wcs.wcs]: FITSFixedWarning: 'obsfix' made the change 'Observatory coordinates incomplete'. [astropy.wcs.wcs]WARNING: FITSFixedWarning: 'obsfix' made the change 'Observatory coordinates incomplete'. [astropy.wcs.wcs]WARNING: FITSFixedWarning: 'obsfix' made the change 'Observatory coordinates incomplete'. [astropy.wcs.wcs]\n",
      "WARNING\n",
      ": FITSFixedWarning: 'obsfix' made the change 'Observatory coordinates incomplete'. [astropy.wcs.wcs]: FITSFixedWarning: RADECSYS= 'ICRS ' / Astrometric system \n",
      "the RADECSYS keyword is deprecated, use RADESYSa. [astropy.wcs.wcs]WARNING\n",
      ": FITSFixedWarning: 'datfix' made the change 'Set MJD-OBS to 58197.199664 from DATE-OBS'. [astropy.wcs.wcs]\n",
      "\n",
      "\n",
      "\n",
      "\n",
      ": FITSFixedWarning: 'datfix' made the change 'Set MJD-OBS to 58832.392244 from DATE-OBS'. [astropy.wcs.wcs]WARNINGWARNING\n",
      "WARNING: FITSFixedWarning: 'datfix' made the change 'Set MJD-OBS to 58811.578396 from DATE-OBS'. [astropy.wcs.wcs]WARNINGWARNINGWARNING: FITSFixedWarning: 'datfix' made the change 'Set MJD-OBS to 58910.235509 from DATE-OBS'. [astropy.wcs.wcs]: FITSFixedWarning: 'datfix' made the change 'Set MJD-OBS to 58839.379235 from DATE-OBS'. [astropy.wcs.wcs]\n",
      ": FITSFixedWarning: 'obsfix' made the change 'Observatory coordinates incomplete'. [astropy.wcs.wcs]: FITSFixedWarning: 'datfix' made the change 'Set MJD-OBS to 58820.540981 from DATE-OBS'. [astropy.wcs.wcs]\n",
      "WARNING\n",
      "\n",
      ": FITSFixedWarning: RADECSYS= 'ICRS ' / Astrometric system \n",
      "the RADECSYS keyword is deprecated, use RADESYSa. [astropy.wcs.wcs]WARNING\n",
      "WARNING\n",
      ": FITSFixedWarning: 'obsfix' made the change 'Observatory coordinates incomplete'. [astropy.wcs.wcs]WARNINGWARNING: FITSFixedWarning: RADECSYS= 'ICRS ' / Astrometric system \n",
      "the RADECSYS keyword is deprecated, use RADESYSa. [astropy.wcs.wcs]\n",
      "\n",
      "WARNING\n",
      ": FITSFixedWarning: 'obsfix' made the change 'Observatory coordinates incomplete'. [astropy.wcs.wcs]: FITSFixedWarning: RADECSYS= 'ICRS ' / Astrometric system \n",
      "the RADECSYS keyword is deprecated, use RADESYSa. [astropy.wcs.wcs]\n",
      "\n",
      "WARNINGWARNING: FITSFixedWarning: 'obsfix' made the change 'Observatory coordinates incomplete'. [astropy.wcs.wcs]: FITSFixedWarning: RADECSYS= 'ICRS ' / Astrometric system \n",
      "the RADECSYS keyword is deprecated, use RADESYSa. [astropy.wcs.wcs]WARNING\n",
      "\n",
      ": FITSFixedWarning: 'obsfix' made the change 'Observatory coordinates incomplete'. [astropy.wcs.wcs]: FITSFixedWarning: 'obsfix' made the change 'Observatory coordinates incomplete'. [astropy.wcs.wcs]WARNINGWARNING\n",
      "\n",
      ": FITSFixedWarning: 'obsfix' made the change 'Observatory coordinates incomplete'. [astropy.wcs.wcs]: FITSFixedWarning: RADECSYS= 'ICRS ' / Astrometric system \n",
      "the RADECSYS keyword is deprecated, use RADESYSa. [astropy.wcs.wcs]: FITSFixedWarning: 'obsfix' made the change 'Observatory coordinates incomplete'. [astropy.wcs.wcs]\n",
      ": FITSFixedWarning: 'obsfix' made the change 'Observatory coordinates incomplete'. [astropy.wcs.wcs]WARNINGWARNING: FITSFixedWarning: 'obsfix' made the change 'Observatory coordinates incomplete'. [astropy.wcs.wcs]: FITSFixedWarning: RADECSYS= 'ICRS ' / Astrometric system \n",
      "the RADECSYS keyword is deprecated, use RADESYSa. [astropy.wcs.wcs]\n",
      "\n",
      "WARNING\n",
      "\n",
      "\n",
      ": FITSFixedWarning: RADECSYS= 'ICRS ' / Astrometric system \n",
      "the RADECSYS keyword is deprecated, use RADESYSa. [astropy.wcs.wcs]WARNINGWARNING\n",
      "WARNING: FITSFixedWarning: RADECSYS= 'ICRS ' / Astrometric system \n",
      "the RADECSYS keyword is deprecated, use RADESYSa. [astropy.wcs.wcs]: FITSFixedWarning: RADECSYS= 'ICRS ' / Astrometric system \n",
      "the RADECSYS keyword is deprecated, use RADESYSa. [astropy.wcs.wcs]: FITSFixedWarning: RADECSYS= 'ICRS ' / Astrometric system \n",
      "the RADECSYS keyword is deprecated, use RADESYSa. [astropy.wcs.wcs]\n",
      "WARNING\n",
      ": FITSFixedWarning: RADECSYS= 'ICRS ' / Astrometric system \n",
      "the RADECSYS keyword is deprecated, use RADESYSa. [astropy.wcs.wcs]WARNING\n",
      ": FITSFixedWarning: 'datfix' made the change 'Set MJD-OBS to 57613.735997 from DATE-OBS'. [astropy.wcs.wcs]\n",
      "WARNING\n",
      ": FITSFixedWarning: RADECSYS= 'ICRS ' / Astrometric system \n",
      "the RADECSYS keyword is deprecated, use RADESYSa. [astropy.wcs.wcs]WARNING\n",
      "\n",
      "WARNING: FITSFixedWarning: 'obsfix' made the change 'Observatory coordinates incomplete'. [astropy.wcs.wcs]\n",
      "\n",
      "WARNINGWARNING: FITSFixedWarning: RADECSYS= 'ICRS ' / Astrometric system \n",
      "the RADECSYS keyword is deprecated, use RADESYSa. [astropy.wcs.wcs]WARNING: FITSFixedWarning: RADECSYS= 'ICRS ' / Astrometric system \n",
      "the RADECSYS keyword is deprecated, use RADESYSa. [astropy.wcs.wcs]\n",
      ": FITSFixedWarning: 'datfix' made the change 'Set MJD-OBS to 58827.396029 from DATE-OBS'. [astropy.wcs.wcs]WARNINGWARNING: FITSFixedWarning: 'datfix' made the change 'Set MJD-OBS to 58822.371327 from DATE-OBS'. [astropy.wcs.wcs]\n",
      ": FITSFixedWarning: RADECSYS= 'ICRS ' / Astrometric system \n",
      "the RADECSYS keyword is deprecated, use RADESYSa. [astropy.wcs.wcs]\n",
      ": FITSFixedWarning: RADECSYS= 'ICRS ' / Astrometric system \n",
      "the RADECSYS keyword is deprecated, use RADESYSa. [astropy.wcs.wcs]\n",
      "\n",
      "WARNING\n",
      ": FITSFixedWarning: 'obsfix' made the change 'Observatory coordinates incomplete'. [astropy.wcs.wcs]WARNINGWARNING\n",
      ": FITSFixedWarning: 'datfix' made the change 'Set MJD-OBS to 57524.101317 from DATE-OBS'. [astropy.wcs.wcs]WARNINGWARNING\n",
      "WARNING\n",
      ": FITSFixedWarning: 'obsfix' made the change 'Observatory coordinates incomplete'. [astropy.wcs.wcs]: FITSFixedWarning: 'obsfix' made the change 'Observatory coordinates incomplete'. [astropy.wcs.wcs]WARNING: FITSFixedWarning: 'datfix' made the change 'Set MJD-OBS to 57594.978228 from DATE-OBS'. [astropy.wcs.wcs]\n",
      "WARNING: FITSFixedWarning: 'datfix' made the change 'Set MJD-OBS to 58821.370833 from DATE-OBS'. [astropy.wcs.wcs]: FITSFixedWarning: RADECSYS= 'ICRS ' / Astrometric system \n",
      "the RADECSYS keyword is deprecated, use RADESYSa. [astropy.wcs.wcs]\n",
      "WARNING\n",
      "WARNING: FITSFixedWarning: RADECSYS= 'ICRS ' / Astrometric system \n",
      "the RADECSYS keyword is deprecated, use RADESYSa. [astropy.wcs.wcs]\n",
      "WARNING: FITSFixedWarning: 'obsfix' made the change 'Observatory coordinates incomplete'. [astropy.wcs.wcs]\n",
      ": FITSFixedWarning: RADECSYS= 'ICRS ' / Astrometric system \n",
      "the RADECSYS keyword is deprecated, use RADESYSa. [astropy.wcs.wcs]: FITSFixedWarning: 'obsfix' made the change 'Observatory coordinates incomplete'. [astropy.wcs.wcs]\n",
      "\n",
      "WARNING: FITSFixedWarning: RADECSYS= 'ICRS ' / Astrometric system \n",
      "the RADECSYS keyword is deprecated, use RADESYSa. [astropy.wcs.wcs]\n",
      "\n",
      "WARNING: FITSFixedWarning: RADECSYS= 'ICRS ' / Astrometric system \n",
      "the RADECSYS keyword is deprecated, use RADESYSa. [astropy.wcs.wcs]\n",
      "WARNING: FITSFixedWarning: RADECSYS= 'ICRS ' / Astrometric system \n",
      "the RADECSYS keyword is deprecated, use RADESYSa. [astropy.wcs.wcs]\n",
      "WARNING: FITSFixedWarning: 'datfix' made the change 'Set MJD-OBS to 58823.434418 from DATE-OBS'. [astropy.wcs.wcs]\n",
      "WARNINGWARNING: FITSFixedWarning: 'obsfix' made the change 'Observatory coordinates incomplete'. [astropy.wcs.wcs]: FITSFixedWarning: RADECSYS= 'ICRS ' / Astrometric system \n",
      "the RADECSYS keyword is deprecated, use RADESYSa. [astropy.wcs.wcs]\n",
      "\n",
      "WARNING: FITSFixedWarning: RADECSYS= 'ICRS ' / Astrometric system \n",
      "the RADECSYS keyword is deprecated, use RADESYSa. [astropy.wcs.wcs]\n",
      "WARNING: FITSFixedWarning: RADECSYS= 'ICRS ' / Astrometric system \n",
      "the RADECSYS keyword is deprecated, use RADESYSa. [astropy.wcs.wcs]\n",
      "WARNINGWARNING: FITSFixedWarning: RADECSYS= 'ICRS ' / Astrometric system \n",
      "the RADECSYS keyword is deprecated, use RADESYSa. [astropy.wcs.wcs]: FITSFixedWarning: RADECSYS= 'ICRS ' / Astrometric system \n",
      "the RADECSYS keyword is deprecated, use RADESYSa. [astropy.wcs.wcs]WARNING: FITSFixedWarning: RADECSYS= 'ICRS ' / Astrometric system \n",
      "the RADECSYS keyword is deprecated, use RADESYSa. [astropy.wcs.wcs]\n",
      "\n",
      "\n",
      "WARNING: FITSFixedWarning: RADECSYS= 'ICRS ' / Astrometric system \n",
      "the RADECSYS keyword is deprecated, use RADESYSa. [astropy.wcs.wcs]\n",
      "WARNING: FITSFixedWarning: RADECSYS= 'ICRS ' / Astrometric system \n",
      "the RADECSYS keyword is deprecated, use RADESYSa. [astropy.wcs.wcs]\n",
      "WARNINGWARNING: FITSFixedWarning: RADECSYS= 'ICRS ' / Astrometric system \n",
      "the RADECSYS keyword is deprecated, use RADESYSa. [astropy.wcs.wcs]: FITSFixedWarning: RADECSYS= 'ICRS ' / Astrometric system \n",
      "the RADECSYS keyword is deprecated, use RADESYSa. [astropy.wcs.wcs]WARNING\n",
      "\n",
      ": FITSFixedWarning: RADECSYS= 'ICRS ' / Astrometric system \n",
      "the RADECSYS keyword is deprecated, use RADESYSa. [astropy.wcs.wcs]\n",
      "WARNING: FITSFixedWarning: RADECSYS= 'ICRS ' / Astrometric system \n",
      "the RADECSYS keyword is deprecated, use RADESYSa. [astropy.wcs.wcs]\n",
      "WARNING: FITSFixedWarning: RADECSYS= 'ICRS ' / Astrometric system \n",
      "the RADECSYS keyword is deprecated, use RADESYSa. [astropy.wcs.wcs]\n",
      "WARNING: FITSFixedWarning: RADECSYS= 'ICRS ' / Astrometric system \n",
      "the RADECSYS keyword is deprecated, use RADESYSa. [astropy.wcs.wcs]\n",
      "WARNING: FITSFixedWarning: RADECSYS= 'ICRS ' / Astrometric system \n",
      "the RADECSYS keyword is deprecated, use RADESYSa. [astropy.wcs.wcs]\n",
      "WARNING: FITSFixedWarning: RADECSYS= 'ICRS ' / Astrometric system \n",
      "the RADECSYS keyword is deprecated, use RADESYSa. [astropy.wcs.wcs]WARNING: FITSFixedWarning: RADECSYS= 'ICRS ' / Astrometric system \n",
      "the RADECSYS keyword is deprecated, use RADESYSa. [astropy.wcs.wcs]\n",
      "\n",
      "WARNING: FITSFixedWarning: RADECSYS= 'ICRS ' / Astrometric system \n",
      "the RADECSYS keyword is deprecated, use RADESYSa. [astropy.wcs.wcs]\n",
      "WARNING: FITSFixedWarning: RADECSYS= 'ICRS ' / Astrometric system \n",
      "the RADECSYS keyword is deprecated, use RADESYSa. [astropy.wcs.wcs]\n",
      "WARNING: FITSFixedWarning: RADECSYS= 'ICRS ' / Astrometric system \n",
      "the RADECSYS keyword is deprecated, use RADESYSa. [astropy.wcs.wcs]\n",
      "WARNINGWARNING: FITSFixedWarning: RADECSYS= 'ICRS ' / Astrometric system \n",
      "the RADECSYS keyword is deprecated, use RADESYSa. [astropy.wcs.wcs]: FITSFixedWarning: RADECSYS= 'ICRS ' / Astrometric system \n",
      "the RADECSYS keyword is deprecated, use RADESYSa. [astropy.wcs.wcs]\n",
      "WARNING\n",
      ": FITSFixedWarning: RADECSYS= 'ICRS ' / Astrometric system \n",
      "the RADECSYS keyword is deprecated, use RADESYSa. [astropy.wcs.wcs]\n",
      "WARNING: FITSFixedWarning: RADECSYS= 'ICRS ' / Astrometric system \n",
      "the RADECSYS keyword is deprecated, use RADESYSa. [astropy.wcs.wcs]\n",
      "WARNING: FITSFixedWarning: RADECSYS= 'ICRS ' / Astrometric system \n",
      "the RADECSYS keyword is deprecated, use RADESYSa. [astropy.wcs.wcs]\n"
     ]
    },
    {
     "name": "stdout",
     "output_type": "stream",
     "text": [
      "Pickled /arc/home/IsaacCheng/coop_f2021/galaxies/IC3392/IC3392_regBin_extinctionCorr_9as.pkl\n"
     ]
    },
    {
     "name": "stderr",
     "output_type": "stream",
     "text": [
      "WARNING: FITSFixedWarning: 'datfix' made the change 'Set MJD-OBS to 58837.456786 from DATE-OBS'. [astropy.wcs.wcs]\n",
      "WARNING: FITSFixedWarning: 'obsfix' made the change 'Observatory coordinates incomplete'. [astropy.wcs.wcs]\n",
      "WARNINGWARNING: FITSFixedWarning: RADECSYS= 'ICRS ' / Astrometric system \n",
      "the RADECSYS keyword is deprecated, use RADESYSa. [astropy.wcs.wcs]\n",
      "WARNING: FITSFixedWarning: RADECSYS= 'ICRS ' / Astrometric system \n",
      "the RADECSYS keyword is deprecated, use RADESYSa. [astropy.wcs.wcs]\n",
      ": FITSFixedWarning: RADECSYS= 'ICRS ' / Astrometric system \n",
      "the RADECSYS keyword is deprecated, use RADESYSa. [astropy.wcs.wcs]\n"
     ]
    },
    {
     "name": "stdout",
     "output_type": "stream",
     "text": [
      "Pickled /arc/home/IsaacCheng/coop_f2021/galaxies/NGC4580/NGC4580_regBin_extinctionCorr_9as.pkl"
     ]
    },
    {
     "name": "stderr",
     "output_type": "stream",
     "text": [
      "WARNINGWARNING: FITSFixedWarning: RADECSYS= 'ICRS ' / Astrometric system \n",
      "the RADECSYS keyword is deprecated, use RADESYSa. [astropy.wcs.wcs]"
     ]
    },
    {
     "name": "stdout",
     "output_type": "stream",
     "text": [
      "\n"
     ]
    },
    {
     "name": "stderr",
     "output_type": "stream",
     "text": [
      ": FITSFixedWarning: RADECSYS= 'ICRS ' / Astrometric system \n",
      "the RADECSYS keyword is deprecated, use RADESYSa. [astropy.wcs.wcs]\n",
      "\n"
     ]
    },
    {
     "name": "stdout",
     "output_type": "stream",
     "text": [
      "Pickled /arc/home/IsaacCheng/coop_f2021/galaxies/NGC4405/NGC4405_regBin_extinctionCorr_9as.pkl"
     ]
    },
    {
     "name": "stderr",
     "output_type": "stream",
     "text": [
      "WARNING: FITSFixedWarning: RADECSYS= 'ICRS ' / Astrometric system \n",
      "the RADECSYS keyword is deprecated, use RADESYSa. [astropy.wcs.wcs]\n"
     ]
    },
    {
     "name": "stdout",
     "output_type": "stream",
     "text": [
      "\n"
     ]
    },
    {
     "name": "stderr",
     "output_type": "stream",
     "text": [
      "WARNING: FITSFixedWarning: RADECSYS= 'ICRS ' / Astrometric system \n",
      "the RADECSYS keyword is deprecated, use RADESYSa. [astropy.wcs.wcs]\n",
      "WARNING: FITSFixedWarning: 'datfix' made the change 'Set MJD-OBS to 58119.389391 from DATE-OBS'. [astropy.wcs.wcs]\n",
      "WARNING: FITSFixedWarning: RADECSYS= 'ICRS ' / Astrometric system \n",
      "the RADECSYS keyword is deprecated, use RADESYSa. [astropy.wcs.wcs]WARNING\n",
      ": FITSFixedWarning: 'obsfix' made the change 'Observatory coordinates incomplete'. [astropy.wcs.wcs]\n",
      "WARNING: FITSFixedWarning: RADECSYS= 'ICRS ' / Astrometric system \n",
      "the RADECSYS keyword is deprecated, use RADESYSa. [astropy.wcs.wcs]\n",
      "WARNING: FITSFixedWarning: RADECSYS= 'ICRS ' / Astrometric system \n",
      "the RADECSYS keyword is deprecated, use RADESYSa. [astropy.wcs.wcs]\n",
      "WARNING: FITSFixedWarning: 'datfix' made the change 'Set MJD-OBS to 58125.480975 from DATE-OBS'. [astropy.wcs.wcs]\n",
      "WARNINGWARNING: FITSFixedWarning: RADECSYS= 'ICRS ' / Astrometric system \n",
      "the RADECSYS keyword is deprecated, use RADESYSa. [astropy.wcs.wcs]: FITSFixedWarning: 'obsfix' made the change 'Observatory coordinates incomplete'. [astropy.wcs.wcs]\n",
      "\n",
      "WARNING: FITSFixedWarning: RADECSYS= 'ICRS ' / Astrometric system \n",
      "the RADECSYS keyword is deprecated, use RADESYSa. [astropy.wcs.wcs]\n",
      "WARNING: FITSFixedWarning: RADECSYS= 'ICRS ' / Astrometric system \n",
      "the RADECSYS keyword is deprecated, use RADESYSa. [astropy.wcs.wcs]\n",
      "WARNING: FITSFixedWarning: RADECSYS= 'ICRS ' / Astrometric system \n",
      "the RADECSYS keyword is deprecated, use RADESYSa. [astropy.wcs.wcs]WARNING: FITSFixedWarning: RADECSYS= 'ICRS ' / Astrometric system \n",
      "the RADECSYS keyword is deprecated, use RADESYSa. [astropy.wcs.wcs]\n",
      "\n",
      "WARNING: FITSFixedWarning: RADECSYS= 'ICRS ' / Astrometric system \n",
      "the RADECSYS keyword is deprecated, use RADESYSa. [astropy.wcs.wcs]WARNING\n",
      ": FITSFixedWarning: RADECSYS= 'ICRS ' / Astrometric system \n",
      "the RADECSYS keyword is deprecated, use RADESYSa. [astropy.wcs.wcs]\n",
      "WARNING: FITSFixedWarning: RADECSYS= 'ICRS ' / Astrometric system \n",
      "the RADECSYS keyword is deprecated, use RADESYSa. [astropy.wcs.wcs]\n"
     ]
    },
    {
     "name": "stdout",
     "output_type": "stream",
     "text": [
      "Pickled /arc/home/IsaacCheng/coop_f2021/galaxies/NGC4424/NGC4424_regBin_extinctionCorr_9as.pkl\n"
     ]
    },
    {
     "name": "stderr",
     "output_type": "stream",
     "text": [
      "WARNING: FITSFixedWarning: RADECSYS= 'ICRS ' / Astrometric system \n",
      "the RADECSYS keyword is deprecated, use RADESYSa. [astropy.wcs.wcs]\n",
      "WARNING: FITSFixedWarning: RADECSYS= 'ICRS ' / Astrometric system \n",
      "the RADECSYS keyword is deprecated, use RADESYSa. [astropy.wcs.wcs]\n",
      "WARNING: FITSFixedWarning: 'datfix' made the change 'Set MJD-OBS to 58029.684441 from DATE-OBS'. [astropy.wcs.wcs]\n",
      "WARNING: FITSFixedWarning: 'obsfix' made the change 'Observatory coordinates incomplete'. [astropy.wcs.wcs]\n",
      "WARNING: FITSFixedWarning: RADECSYS= 'ICRS ' / Astrometric system \n",
      "the RADECSYS keyword is deprecated, use RADESYSa. [astropy.wcs.wcs]\n",
      "WARNINGWARNING: FITSFixedWarning: RADECSYS= 'ICRS ' / Astrometric system \n",
      "the RADECSYS keyword is deprecated, use RADESYSa. [astropy.wcs.wcs]: FITSFixedWarning: RADECSYS= 'ICRS ' / Astrometric system \n",
      "the RADECSYS keyword is deprecated, use RADESYSa. [astropy.wcs.wcs]\n",
      "\n",
      "WARNING/arc/home/IsaacCheng/coop_f2021/packages/fits_utils.py:241: RuntimeWarning: invalid value encountered in log10\n",
      "  rel_mag = -2.5 * np.log10(flux) + zpt\n",
      "WARNING: FITSFixedWarning: RADECSYS= 'ICRS ' / Astrometric system \n",
      "the RADECSYS keyword is deprecated, use RADESYSa. [astropy.wcs.wcs]: FITSFixedWarning: RADECSYS= 'ICRS ' / Astrometric system \n",
      "the RADECSYS keyword is deprecated, use RADESYSa. [astropy.wcs.wcs]\n",
      "\n"
     ]
    },
    {
     "name": "stdout",
     "output_type": "stream",
     "text": [
      "\n",
      "Pickled /arc/home/IsaacCheng/coop_f2021/galaxies/NGC4351/NGC4351_regBin_extinctionCorr_9as.pkl"
     ]
    },
    {
     "name": "stderr",
     "output_type": "stream",
     "text": [
      "WARNING: FITSFixedWarning: RADECSYS= 'ICRS ' / Astrometric system \n",
      "the RADECSYS keyword is deprecated, use RADESYSa. [astropy.wcs.wcs]\n",
      "WARNING: FITSFixedWarning: RADECSYS= 'ICRS ' / Astrometric system \n",
      "the RADECSYS keyword is deprecated, use RADESYSa. [astropy.wcs.wcs]\n",
      "WARNING: FITSFixedWarning: RADECSYS= 'ICRS ' / Astrometric system \n",
      "the RADECSYS keyword is deprecated, use RADESYSa. [astropy.wcs.wcs]\n",
      "/arc/home/IsaacCheng/coop_f2021/packages/fits_utils.py:241: RuntimeWarning: divide by zero encountered in log10\n",
      "  rel_mag = -2.5 * np.log10(flux) + zpt\n",
      "/arc/home/IsaacCheng/coop_f2021/packages/fits_utils.py:242: RuntimeWarning: invalid value encountered in true_divide\n",
      "  rel_mag_err = 2.5 / np.log(10) * abs(flux_err / flux)\n"
     ]
    },
    {
     "name": "stdout",
     "output_type": "stream",
     "text": [
      "Pickled /arc/home/IsaacCheng/coop_f2021/galaxies/NGC4294/NGC4294_regBin_extinctionCorr_9as.pkl\n"
     ]
    },
    {
     "name": "stderr",
     "output_type": "stream",
     "text": [
      "WARNING: FITSFixedWarning: RADECSYS= 'ICRS ' / Astrometric system \n",
      "the RADECSYS keyword is deprecated, use RADESYSa. [astropy.wcs.wcs]\n",
      "WARNING: FITSFixedWarning: RADECSYS= 'ICRS ' / Astrometric system \n",
      "the RADECSYS keyword is deprecated, use RADESYSa. [astropy.wcs.wcs]\n",
      "WARNING: FITSFixedWarning: RADECSYS= 'ICRS ' / Astrometric system \n",
      "the RADECSYS keyword is deprecated, use RADESYSa. [astropy.wcs.wcs]\n",
      "/arc/home/IsaacCheng/coop_f2021/packages/fits_utils.py:241: RuntimeWarning: divide by zero encountered in log10\n",
      "  rel_mag = -2.5 * np.log10(flux) + zpt\n",
      "/arc/home/IsaacCheng/coop_f2021/packages/fits_utils.py:242: RuntimeWarning: invalid value encountered in true_divide\n",
      "  rel_mag_err = 2.5 / np.log(10) * abs(flux_err / flux)\n",
      "WARNING: FITSFixedWarning: RADECSYS= 'ICRS ' / Astrometric system \n",
      "the RADECSYS keyword is deprecated, use RADESYSa. [astropy.wcs.wcs]\n"
     ]
    },
    {
     "name": "stdout",
     "output_type": "stream",
     "text": [
      "Pickled /arc/home/IsaacCheng/coop_f2021/galaxies/NGC4299/NGC4299_regBin_extinctionCorr_9as.pkl\n"
     ]
    },
    {
     "name": "stderr",
     "output_type": "stream",
     "text": [
      "WARNING: FITSFixedWarning: RADECSYS= 'ICRS ' / Astrometric system \n",
      "the RADECSYS keyword is deprecated, use RADESYSa. [astropy.wcs.wcs]\n",
      "WARNING: FITSFixedWarning: RADECSYS= 'ICRS ' / Astrometric system \n",
      "the RADECSYS keyword is deprecated, use RADESYSa. [astropy.wcs.wcs]\n",
      "WARNING: FITSFixedWarning: RADECSYS= 'ICRS ' / Astrometric system \n",
      "the RADECSYS keyword is deprecated, use RADESYSa. [astropy.wcs.wcs]\n",
      "WARNING: FITSFixedWarning: RADECSYS= 'ICRS ' / Astrometric system \n",
      "the RADECSYS keyword is deprecated, use RADESYSa. [astropy.wcs.wcs]\n",
      "/arc/home/IsaacCheng/coop_f2021/packages/fits_utils.py:241: RuntimeWarning: invalid value encountered in log10\n",
      "  rel_mag = -2.5 * np.log10(flux) + zpt\n",
      "/arc/home/IsaacCheng/coop_f2021/packages/fits_utils.py:241: RuntimeWarning: divide by zero encountered in log10\n",
      "  rel_mag = -2.5 * np.log10(flux) + zpt\n",
      "/arc/home/IsaacCheng/coop_f2021/packages/fits_utils.py:242: RuntimeWarning: invalid value encountered in true_divide\n",
      "  rel_mag_err = 2.5 / np.log(10) * abs(flux_err / flux)\n"
     ]
    },
    {
     "name": "stdout",
     "output_type": "stream",
     "text": [
      "Pickled /arc/home/IsaacCheng/coop_f2021/galaxies/NGC4522/NGC4522_regBin_extinctionCorr_9as.pkl\n",
      "Pickled /arc/home/IsaacCheng/coop_f2021/galaxies/NGC4383/NGC4383_regBin_extinctionCorr_9as.pkl\n"
     ]
    },
    {
     "name": "stderr",
     "output_type": "stream",
     "text": [
      "WARNING: FITSFixedWarning: RADECSYS= 'ICRS ' / Astrometric system \n",
      "the RADECSYS keyword is deprecated, use RADESYSa. [astropy.wcs.wcs]\n",
      "WARNING: FITSFixedWarning: RADECSYS= 'ICRS ' / Astrometric system \n",
      "the RADECSYS keyword is deprecated, use RADESYSa. [astropy.wcs.wcs]\n",
      "WARNING: FITSFixedWarning: RADECSYS= 'ICRS ' / Astrometric system \n",
      "the RADECSYS keyword is deprecated, use RADESYSa. [astropy.wcs.wcs]\n",
      "WARNING: FITSFixedWarning: RADECSYS= 'ICRS ' / Astrometric system \n",
      "the RADECSYS keyword is deprecated, use RADESYSa. [astropy.wcs.wcs]\n",
      "WARNING: FITSFixedWarning: RADECSYS= 'ICRS ' / Astrometric system \n",
      "the RADECSYS keyword is deprecated, use RADESYSa. [astropy.wcs.wcs]\n",
      "WARNING: FITSFixedWarning: RADECSYS= 'ICRS ' / Astrometric system \n",
      "the RADECSYS keyword is deprecated, use RADESYSa. [astropy.wcs.wcs]\n",
      "/arc/home/IsaacCheng/coop_f2021/packages/fits_utils.py:241: RuntimeWarning: divide by zero encountered in log10\n",
      "  rel_mag = -2.5 * np.log10(flux) + zpt\n",
      "/arc/home/IsaacCheng/coop_f2021/packages/fits_utils.py:242: RuntimeWarning: invalid value encountered in true_divide\n",
      "  rel_mag_err = 2.5 / np.log(10) * abs(flux_err / flux)\n",
      "/arc/home/IsaacCheng/coop_f2021/packages/fits_utils.py:241: RuntimeWarning: invalid value encountered in log10\n",
      "  rel_mag = -2.5 * np.log10(flux) + zpt\n",
      "/arc/home/IsaacCheng/coop_f2021/packages/fits_utils.py:241: RuntimeWarning: divide by zero encountered in log10\n",
      "  rel_mag = -2.5 * np.log10(flux) + zpt\n",
      "/arc/home/IsaacCheng/coop_f2021/packages/fits_utils.py:242: RuntimeWarning: invalid value encountered in true_divide\n",
      "  rel_mag_err = 2.5 / np.log(10) * abs(flux_err / flux)\n",
      "WARNING: FITSFixedWarning: RADECSYS= 'ICRS ' / Astrometric system \n",
      "the RADECSYS keyword is deprecated, use RADESYSa. [astropy.wcs.wcs]\n"
     ]
    },
    {
     "name": "stdout",
     "output_type": "stream",
     "text": [
      "Pickled /arc/home/IsaacCheng/coop_f2021/galaxies/NGC4222/NGC4222_regBin_extinctionCorr_9as.pkl\n",
      "Pickled /arc/home/IsaacCheng/coop_f2021/galaxies/NGC4419/NGC4419_regBin_extinctionCorr_9as.pkl\n"
     ]
    },
    {
     "name": "stderr",
     "output_type": "stream",
     "text": [
      "WARNING: FITSFixedWarning: RADECSYS= 'ICRS ' / Astrometric system \n",
      "the RADECSYS keyword is deprecated, use RADESYSa. [astropy.wcs.wcs]\n"
     ]
    },
    {
     "name": "stdout",
     "output_type": "stream",
     "text": [
      "Pickled /arc/home/IsaacCheng/coop_f2021/galaxies/NGC4568/NGC4568_regBin_extinctionCorr_9as.pkl\n"
     ]
    },
    {
     "name": "stderr",
     "output_type": "stream",
     "text": [
      "WARNING: FITSFixedWarning: RADECSYS= 'ICRS ' / Astrometric system \n",
      "the RADECSYS keyword is deprecated, use RADESYSa. [astropy.wcs.wcs]\n",
      "WARNING: FITSFixedWarning: RADECSYS= 'ICRS ' / Astrometric system \n",
      "the RADECSYS keyword is deprecated, use RADESYSa. [astropy.wcs.wcs]\n",
      "WARNING: FITSFixedWarning: RADECSYS= 'ICRS ' / Astrometric system \n",
      "the RADECSYS keyword is deprecated, use RADESYSa. [astropy.wcs.wcs]\n",
      "WARNING: FITSFixedWarning: RADECSYS= 'ICRS ' / Astrometric system \n",
      "the RADECSYS keyword is deprecated, use RADESYSa. [astropy.wcs.wcs]\n",
      "/arc/home/IsaacCheng/coop_f2021/packages/fits_utils.py:241: RuntimeWarning: divide by zero encountered in log10\n",
      "  rel_mag = -2.5 * np.log10(flux) + zpt\n",
      "/arc/home/IsaacCheng/coop_f2021/packages/fits_utils.py:242: RuntimeWarning: invalid value encountered in true_divide\n",
      "  rel_mag_err = 2.5 / np.log(10) * abs(flux_err / flux)\n",
      "/arc/home/IsaacCheng/coop_f2021/packages/fits_utils.py:241: RuntimeWarning: invalid value encountered in log10\n",
      "  rel_mag = -2.5 * np.log10(flux) + zpt\n"
     ]
    },
    {
     "name": "stdout",
     "output_type": "stream",
     "text": [
      "Pickled /arc/home/IsaacCheng/coop_f2021/galaxies/NGC4396/NGC4396_regBin_extinctionCorr_9as.pkl\n",
      "Pickled /arc/home/IsaacCheng/coop_f2021/galaxies/NGC4567/NGC4567_regBin_extinctionCorr_9as.pkl\n"
     ]
    },
    {
     "name": "stderr",
     "output_type": "stream",
     "text": [
      "WARNING: FITSFixedWarning: RADECSYS= 'ICRS ' / Astrometric system \n",
      "the RADECSYS keyword is deprecated, use RADESYSa. [astropy.wcs.wcs]\n",
      "/arc/home/IsaacCheng/coop_f2021/packages/fits_utils.py:241: RuntimeWarning: invalid value encountered in log10\n",
      "  rel_mag = -2.5 * np.log10(flux) + zpt\n"
     ]
    },
    {
     "name": "stdout",
     "output_type": "stream",
     "text": [
      "Pickled /arc/home/IsaacCheng/coop_f2021/galaxies/NGC4607/NGC4607_regBin_extinctionCorr_9as.pkl\n",
      "Pickled /arc/home/IsaacCheng/coop_f2021/galaxies/NGC4694/NGC4694_regBin_extinctionCorr_9as.pkl\n"
     ]
    },
    {
     "name": "stderr",
     "output_type": "stream",
     "text": [
      "WARNING: FITSFixedWarning: RADECSYS= 'ICRS ' / Astrometric system \n",
      "the RADECSYS keyword is deprecated, use RADESYSa. [astropy.wcs.wcs]\n",
      "WARNING: FITSFixedWarning: RADECSYS= 'ICRS ' / Astrometric system \n",
      "the RADECSYS keyword is deprecated, use RADESYSa. [astropy.wcs.wcs]\n",
      "/arc/home/IsaacCheng/coop_f2021/packages/fits_utils.py:241: RuntimeWarning: divide by zero encountered in log10\n",
      "  rel_mag = -2.5 * np.log10(flux) + zpt\n",
      "/arc/home/IsaacCheng/coop_f2021/packages/fits_utils.py:242: RuntimeWarning: invalid value encountered in true_divide\n",
      "  rel_mag_err = 2.5 / np.log(10) * abs(flux_err / flux)\n"
     ]
    },
    {
     "name": "stdout",
     "output_type": "stream",
     "text": [
      "Pickled /arc/home/IsaacCheng/coop_f2021/galaxies/NGC4532/NGC4532_regBin_extinctionCorr_9as.pkl\n"
     ]
    },
    {
     "name": "stderr",
     "output_type": "stream",
     "text": [
      "WARNING: FITSFixedWarning: RADECSYS= 'ICRS ' / Astrometric system \n",
      "the RADECSYS keyword is deprecated, use RADESYSa. [astropy.wcs.wcs]\n",
      "WARNING: FITSFixedWarning: RADECSYS= 'ICRS ' / Astrometric system \n",
      "the RADECSYS keyword is deprecated, use RADESYSa. [astropy.wcs.wcs]\n",
      "WARNING: FITSFixedWarning: RADECSYS= 'ICRS ' / Astrometric system \n",
      "the RADECSYS keyword is deprecated, use RADESYSa. [astropy.wcs.wcs]\n",
      "WARNING: FITSFixedWarning: RADECSYS= 'ICRS ' / Astrometric system \n",
      "the RADECSYS keyword is deprecated, use RADESYSa. [astropy.wcs.wcs]\n"
     ]
    },
    {
     "name": "stdout",
     "output_type": "stream",
     "text": [
      "Pickled /arc/home/IsaacCheng/coop_f2021/galaxies/NGC4651/NGC4651_regBin_extinctionCorr_9as.pkl\n"
     ]
    },
    {
     "name": "stderr",
     "output_type": "stream",
     "text": [
      "WARNING: FITSFixedWarning: RADECSYS= 'ICRS ' / Astrometric system \n",
      "the RADECSYS keyword is deprecated, use RADESYSa. [astropy.wcs.wcs]\n",
      "WARNING: FITSFixedWarning: RADECSYS= 'ICRS ' / Astrometric system \n",
      "the RADECSYS keyword is deprecated, use RADESYSa. [astropy.wcs.wcs]\n",
      "WARNING: FITSFixedWarning: RADECSYS= 'ICRS ' / Astrometric system \n",
      "the RADECSYS keyword is deprecated, use RADESYSa. [astropy.wcs.wcs]\n",
      "WARNING: FITSFixedWarning: RADECSYS= 'ICRS ' / Astrometric system \n",
      "the RADECSYS keyword is deprecated, use RADESYSa. [astropy.wcs.wcs]\n",
      "WARNING: FITSFixedWarning: RADECSYS= 'ICRS ' / Astrometric system \n",
      "the RADECSYS keyword is deprecated, use RADESYSa. [astropy.wcs.wcs]\n",
      "WARNING: FITSFixedWarning: RADECSYS= 'ICRS ' / Astrometric system \n",
      "the RADECSYS keyword is deprecated, use RADESYSa. [astropy.wcs.wcs]\n",
      "/arc/home/IsaacCheng/coop_f2021/packages/fits_utils.py:241: RuntimeWarning: divide by zero encountered in log10\n",
      "  rel_mag = -2.5 * np.log10(flux) + zpt\n",
      "/arc/home/IsaacCheng/coop_f2021/packages/fits_utils.py:242: RuntimeWarning: invalid value encountered in true_divide\n",
      "  rel_mag_err = 2.5 / np.log(10) * abs(flux_err / flux)\n",
      "/arc/home/IsaacCheng/coop_f2021/packages/fits_utils.py:241: RuntimeWarning: invalid value encountered in log10\n",
      "  rel_mag = -2.5 * np.log10(flux) + zpt\n",
      "WARNING: FITSFixedWarning: RADECSYS= 'ICRS ' / Astrometric system \n",
      "the RADECSYS keyword is deprecated, use RADESYSa. [astropy.wcs.wcs]\n"
     ]
    },
    {
     "name": "stdout",
     "output_type": "stream",
     "text": [
      "Pickled /arc/home/IsaacCheng/coop_f2021/galaxies/NGC4330/NGC4330_regBin_extinctionCorr_9as.pkl\n"
     ]
    },
    {
     "name": "stderr",
     "output_type": "stream",
     "text": [
      "WARNING: FITSFixedWarning: RADECSYS= 'ICRS ' / Astrometric system \n",
      "the RADECSYS keyword is deprecated, use RADESYSa. [astropy.wcs.wcs]\n",
      "WARNING: FITSFixedWarning: RADECSYS= 'ICRS ' / Astrometric system \n",
      "the RADECSYS keyword is deprecated, use RADESYSa. [astropy.wcs.wcs]\n",
      "/arc/home/IsaacCheng/coop_f2021/packages/fits_utils.py:241: RuntimeWarning: divide by zero encountered in log10\n",
      "  rel_mag = -2.5 * np.log10(flux) + zpt\n",
      "/arc/home/IsaacCheng/coop_f2021/packages/fits_utils.py:242: RuntimeWarning: invalid value encountered in true_divide\n",
      "  rel_mag_err = 2.5 / np.log(10) * abs(flux_err / flux)\n"
     ]
    },
    {
     "name": "stdout",
     "output_type": "stream",
     "text": [
      "Pickled /arc/home/IsaacCheng/coop_f2021/galaxies/NGC4298/NGC4298_regBin_extinctionCorr_9as.pkl\n"
     ]
    },
    {
     "name": "stderr",
     "output_type": "stream",
     "text": [
      "WARNING: FITSFixedWarning: RADECSYS= 'ICRS ' / Astrometric system \n",
      "the RADECSYS keyword is deprecated, use RADESYSa. [astropy.wcs.wcs]\n",
      "WARNING: FITSFixedWarning: RADECSYS= 'ICRS ' / Astrometric system \n",
      "the RADECSYS keyword is deprecated, use RADESYSa. [astropy.wcs.wcs]\n",
      "WARNING: FITSFixedWarning: RADECSYS= 'ICRS ' / Astrometric system \n",
      "the RADECSYS keyword is deprecated, use RADESYSa. [astropy.wcs.wcs]\n",
      "WARNING: FITSFixedWarning: RADECSYS= 'ICRS ' / Astrometric system \n",
      "the RADECSYS keyword is deprecated, use RADESYSa. [astropy.wcs.wcs]\n",
      "WARNING: FITSFixedWarning: RADECSYS= 'ICRS ' / Astrometric system \n",
      "the RADECSYS keyword is deprecated, use RADESYSa. [astropy.wcs.wcs]\n"
     ]
    },
    {
     "name": "stdout",
     "output_type": "stream",
     "text": [
      "Pickled /arc/home/IsaacCheng/coop_f2021/galaxies/NGC4380/NGC4380_regBin_extinctionCorr_9as.pkl\n"
     ]
    },
    {
     "name": "stderr",
     "output_type": "stream",
     "text": [
      "WARNING: FITSFixedWarning: RADECSYS= 'ICRS ' / Astrometric system \n",
      "the RADECSYS keyword is deprecated, use RADESYSa. [astropy.wcs.wcs]\n",
      "WARNING: FITSFixedWarning: RADECSYS= 'ICRS ' / Astrometric system \n",
      "the RADECSYS keyword is deprecated, use RADESYSa. [astropy.wcs.wcs]\n",
      "WARNING: FITSFixedWarning: RADECSYS= 'ICRS ' / Astrometric system \n",
      "the RADECSYS keyword is deprecated, use RADESYSa. [astropy.wcs.wcs]\n",
      "WARNING: FITSFixedWarning: RADECSYS= 'ICRS ' / Astrometric system \n",
      "the RADECSYS keyword is deprecated, use RADESYSa. [astropy.wcs.wcs]\n",
      "/arc/home/IsaacCheng/coop_f2021/packages/fits_utils.py:241: RuntimeWarning: divide by zero encountered in log10\n",
      "  rel_mag = -2.5 * np.log10(flux) + zpt\n",
      "/arc/home/IsaacCheng/coop_f2021/packages/fits_utils.py:242: RuntimeWarning: invalid value encountered in true_divide\n",
      "  rel_mag_err = 2.5 / np.log(10) * abs(flux_err / flux)\n"
     ]
    },
    {
     "name": "stdout",
     "output_type": "stream",
     "text": [
      "Pickled /arc/home/IsaacCheng/coop_f2021/galaxies/NGC4388/NGC4388_regBin_extinctionCorr_9as.pkl\n"
     ]
    },
    {
     "name": "stderr",
     "output_type": "stream",
     "text": [
      "WARNING: FITSFixedWarning: RADECSYS= 'ICRS ' / Astrometric system \n",
      "the RADECSYS keyword is deprecated, use RADESYSa. [astropy.wcs.wcs]\n",
      "/arc/home/IsaacCheng/coop_f2021/packages/fits_utils.py:241: RuntimeWarning: divide by zero encountered in log10\n",
      "  rel_mag = -2.5 * np.log10(flux) + zpt\n",
      "/arc/home/IsaacCheng/coop_f2021/packages/fits_utils.py:242: RuntimeWarning: invalid value encountered in true_divide\n",
      "  rel_mag_err = 2.5 / np.log(10) * abs(flux_err / flux)\n"
     ]
    },
    {
     "name": "stdout",
     "output_type": "stream",
     "text": [
      "Pickled /arc/home/IsaacCheng/coop_f2021/galaxies/NGC4450/NGC4450_regBin_extinctionCorr_9as.pkl\n"
     ]
    },
    {
     "name": "stderr",
     "output_type": "stream",
     "text": [
      "WARNING: FITSFixedWarning: RADECSYS= 'ICRS ' / Astrometric system \n",
      "the RADECSYS keyword is deprecated, use RADESYSa. [astropy.wcs.wcs]\n"
     ]
    },
    {
     "name": "stdout",
     "output_type": "stream",
     "text": [
      "Pickled /arc/home/IsaacCheng/coop_f2021/galaxies/NGC4569/NGC4569_regBin_extinctionCorr_9as.pkl\n",
      "Pickled /arc/home/IsaacCheng/coop_f2021/galaxies/NGC4689/NGC4689_regBin_extinctionCorr_9as.pkl\n"
     ]
    },
    {
     "name": "stderr",
     "output_type": "stream",
     "text": [
      "WARNING: FITSFixedWarning: RADECSYS= 'ICRS ' / Astrometric system \n",
      "the RADECSYS keyword is deprecated, use RADESYSa. [astropy.wcs.wcs]\n",
      "WARNING: FITSFixedWarning: RADECSYS= 'ICRS ' / Astrometric system \n",
      "the RADECSYS keyword is deprecated, use RADESYSa. [astropy.wcs.wcs]\n",
      "/arc/home/IsaacCheng/coop_f2021/packages/fits_utils.py:241: RuntimeWarning: divide by zero encountered in log10\n",
      "  rel_mag = -2.5 * np.log10(flux) + zpt\n",
      "/arc/home/IsaacCheng/coop_f2021/packages/fits_utils.py:242: RuntimeWarning: invalid value encountered in true_divide\n",
      "  rel_mag_err = 2.5 / np.log(10) * abs(flux_err / flux)\n"
     ]
    },
    {
     "name": "stdout",
     "output_type": "stream",
     "text": [
      "Pickled /arc/home/IsaacCheng/coop_f2021/galaxies/NGC4501/NGC4501_regBin_extinctionCorr_9as.pkl\n",
      "Pickled /arc/home/IsaacCheng/coop_f2021/galaxies/NGC4548/NGC4548_regBin_extinctionCorr_9as.pkl\n"
     ]
    },
    {
     "name": "stderr",
     "output_type": "stream",
     "text": [
      "WARNING: FITSFixedWarning: RADECSYS= 'ICRS ' / Astrometric system \n",
      "the RADECSYS keyword is deprecated, use RADESYSa. [astropy.wcs.wcs]\n",
      "WARNING: FITSFixedWarning: RADECSYS= 'ICRS ' / Astrometric system \n",
      "the RADECSYS keyword is deprecated, use RADESYSa. [astropy.wcs.wcs]\n",
      "WARNING: FITSFixedWarning: RADECSYS= 'ICRS ' / Astrometric system \n",
      "the RADECSYS keyword is deprecated, use RADESYSa. [astropy.wcs.wcs]\n",
      "/arc/home/IsaacCheng/coop_f2021/packages/fits_utils.py:241: RuntimeWarning: divide by zero encountered in log10\n",
      "  rel_mag = -2.5 * np.log10(flux) + zpt\n",
      "/arc/home/IsaacCheng/coop_f2021/packages/fits_utils.py:242: RuntimeWarning: invalid value encountered in true_divide\n",
      "  rel_mag_err = 2.5 / np.log(10) * abs(flux_err / flux)\n"
     ]
    },
    {
     "name": "stdout",
     "output_type": "stream",
     "text": [
      "Pickled /arc/home/IsaacCheng/coop_f2021/galaxies/NGC4402/NGC4402_regBin_extinctionCorr_9as.pkl\n"
     ]
    },
    {
     "name": "stderr",
     "output_type": "stream",
     "text": [
      "WARNING: FITSFixedWarning: RADECSYS= 'ICRS ' / Astrometric system \n",
      "the RADECSYS keyword is deprecated, use RADESYSa. [astropy.wcs.wcs]\n"
     ]
    },
    {
     "name": "stdout",
     "output_type": "stream",
     "text": [
      "Pickled /arc/home/IsaacCheng/coop_f2021/galaxies/NGC4579/NGC4579_regBin_extinctionCorr_9as.pkl\n"
     ]
    },
    {
     "name": "stderr",
     "output_type": "stream",
     "text": [
      "WARNING: FITSFixedWarning: RADECSYS= 'ICRS ' / Astrometric system \n",
      "the RADECSYS keyword is deprecated, use RADESYSa. [astropy.wcs.wcs]\n",
      "/arc/home/IsaacCheng/coop_f2021/packages/fits_utils.py:241: RuntimeWarning: divide by zero encountered in log10\n",
      "  rel_mag = -2.5 * np.log10(flux) + zpt\n",
      "/arc/home/IsaacCheng/coop_f2021/packages/fits_utils.py:242: RuntimeWarning: invalid value encountered in true_divide\n",
      "  rel_mag_err = 2.5 / np.log(10) * abs(flux_err / flux)\n"
     ]
    },
    {
     "name": "stdout",
     "output_type": "stream",
     "text": [
      "Pickled /arc/home/IsaacCheng/coop_f2021/galaxies/NGC4535/NGC4535_regBin_extinctionCorr_9as.pkl\n"
     ]
    },
    {
     "name": "stderr",
     "output_type": "stream",
     "text": [
      "WARNING: FITSFixedWarning: RADECSYS= 'ICRS ' / Astrometric system \n",
      "the RADECSYS keyword is deprecated, use RADESYSa. [astropy.wcs.wcs]\n",
      "WARNING: FITSFixedWarning: RADECSYS= 'ICRS ' / Astrometric system \n",
      "the RADECSYS keyword is deprecated, use RADESYSa. [astropy.wcs.wcs]\n",
      "WARNING: FITSFixedWarning: RADECSYS= 'ICRS ' / Astrometric system \n",
      "the RADECSYS keyword is deprecated, use RADESYSa. [astropy.wcs.wcs]\n",
      "/arc/home/IsaacCheng/coop_f2021/packages/fits_utils.py:241: RuntimeWarning: divide by zero encountered in log10\n",
      "  rel_mag = -2.5 * np.log10(flux) + zpt\n",
      "/arc/home/IsaacCheng/coop_f2021/packages/fits_utils.py:242: RuntimeWarning: invalid value encountered in true_divide\n",
      "  rel_mag_err = 2.5 / np.log(10) * abs(flux_err / flux)\n"
     ]
    },
    {
     "name": "stdout",
     "output_type": "stream",
     "text": [
      "Pickled /arc/home/IsaacCheng/coop_f2021/galaxies/NGC4654/NGC4654_regBin_extinctionCorr_9as.pkl\n"
     ]
    },
    {
     "name": "stderr",
     "output_type": "stream",
     "text": [
      "WARNING: FITSFixedWarning: RADECSYS= 'ICRS ' / Astrometric system \n",
      "the RADECSYS keyword is deprecated, use RADESYSa. [astropy.wcs.wcs]\n",
      "/arc/home/IsaacCheng/coop_f2021/packages/fits_utils.py:241: RuntimeWarning: divide by zero encountered in log10\n",
      "  rel_mag = -2.5 * np.log10(flux) + zpt\n",
      "/arc/home/IsaacCheng/coop_f2021/packages/fits_utils.py:242: RuntimeWarning: invalid value encountered in true_divide\n",
      "  rel_mag_err = 2.5 / np.log(10) * abs(flux_err / flux)\n",
      "/arc/home/IsaacCheng/coop_f2021/packages/fits_utils.py:241: RuntimeWarning: invalid value encountered in log10\n",
      "  rel_mag = -2.5 * np.log10(flux) + zpt\n"
     ]
    },
    {
     "name": "stdout",
     "output_type": "stream",
     "text": [
      "Pickled /arc/home/IsaacCheng/coop_f2021/galaxies/NGC4254/NGC4254_regBin_extinctionCorr_9as.pkl\n"
     ]
    },
    {
     "name": "stderr",
     "output_type": "stream",
     "text": [
      "/arc/home/IsaacCheng/coop_f2021/packages/fits_utils.py:241: RuntimeWarning: divide by zero encountered in log10\n",
      "  rel_mag = -2.5 * np.log10(flux) + zpt\n",
      "/arc/home/IsaacCheng/coop_f2021/packages/fits_utils.py:242: RuntimeWarning: invalid value encountered in true_divide\n",
      "  rel_mag_err = 2.5 / np.log(10) * abs(flux_err / flux)\n"
     ]
    },
    {
     "name": "stdout",
     "output_type": "stream",
     "text": [
      "Pickled /arc/home/IsaacCheng/coop_f2021/galaxies/NGC4321/NGC4321_regBin_extinctionCorr_9as.pkl\n"
     ]
    },
    {
     "name": "stderr",
     "output_type": "stream",
     "text": [
      "/arc/home/IsaacCheng/coop_f2021/packages/fits_utils.py:241: RuntimeWarning: divide by zero encountered in log10\n",
      "  rel_mag = -2.5 * np.log10(flux) + zpt\n",
      "/arc/home/IsaacCheng/coop_f2021/packages/fits_utils.py:241: RuntimeWarning: invalid value encountered in log10\n",
      "  rel_mag = -2.5 * np.log10(flux) + zpt\n",
      "/arc/home/IsaacCheng/coop_f2021/packages/fits_utils.py:242: RuntimeWarning: invalid value encountered in true_divide\n",
      "  rel_mag_err = 2.5 / np.log(10) * abs(flux_err / flux)\n"
     ]
    },
    {
     "name": "stdout",
     "output_type": "stream",
     "text": [
      "Pickled /arc/home/IsaacCheng/coop_f2021/galaxies/NGC4192/NGC4192_regBin_extinctionCorr_9as.pkl\n"
     ]
    },
    {
     "name": "stderr",
     "output_type": "stream",
     "text": [
      "/arc/home/IsaacCheng/coop_f2021/packages/fits_utils.py:241: RuntimeWarning: divide by zero encountered in log10\n",
      "  rel_mag = -2.5 * np.log10(flux) + zpt\n",
      "/arc/home/IsaacCheng/coop_f2021/packages/fits_utils.py:241: RuntimeWarning: invalid value encountered in log10\n",
      "  rel_mag = -2.5 * np.log10(flux) + zpt\n",
      "/arc/home/IsaacCheng/coop_f2021/packages/fits_utils.py:242: RuntimeWarning: invalid value encountered in true_divide\n",
      "  rel_mag_err = 2.5 / np.log(10) * abs(flux_err / flux)\n"
     ]
    },
    {
     "name": "stdout",
     "output_type": "stream",
     "text": [
      "Pickled /arc/home/IsaacCheng/coop_f2021/galaxies/NGC4302/NGC4302_regBin_extinctionCorr_9as.pkl\n"
     ]
    },
    {
     "name": "stderr",
     "output_type": "stream",
     "text": [
      "WARNING: FITSFixedWarning: RADECSYS= 'ICRS ' / Astrometric system \n",
      "the RADECSYS keyword is deprecated, use RADESYSa. [astropy.wcs.wcs]\n",
      "/arc/home/IsaacCheng/coop_f2021/packages/fits_utils.py:241: RuntimeWarning: divide by zero encountered in log10\n",
      "  rel_mag = -2.5 * np.log10(flux) + zpt\n",
      "/arc/home/IsaacCheng/coop_f2021/packages/fits_utils.py:242: RuntimeWarning: invalid value encountered in true_divide\n",
      "  rel_mag_err = 2.5 / np.log(10) * abs(flux_err / flux)\n",
      "/arc/home/IsaacCheng/coop_f2021/packages/fits_utils.py:241: RuntimeWarning: invalid value encountered in log10\n",
      "  rel_mag = -2.5 * np.log10(flux) + zpt\n"
     ]
    },
    {
     "name": "stdout",
     "output_type": "stream",
     "text": [
      "Pickled /arc/home/IsaacCheng/coop_f2021/galaxies/NGC4216/NGC4216_regBin_extinctionCorr_9as.pkl\n",
      "Done\n"
     ]
    }
   ],
   "source": [
    "with Pool(processes=None) as p:\n",
    "    p.starmap(bin_ngvs_data, zip(GALAXIES, VCC_GALAXIES, repeat(\"9as\")))\n",
    "print(\"Done\")"
   ]
  },
  {
   "cell_type": "code",
   "execution_count": 6,
   "id": "72723659-25d3-4970-8f98-f4be9cb6f988",
   "metadata": {
    "collapsed": true,
    "jupyter": {
     "outputs_hidden": true
    },
    "tags": []
   },
   "outputs": [
    {
     "name": "stderr",
     "output_type": "stream",
     "text": [
      "WARNINGWARNING: FITSFixedWarning: 'datfix' made the change 'Set MJD-OBS to 58830.570338 from DATE-OBS'. [astropy.wcs.wcs]WARNING: FITSFixedWarning: 'datfix' made the change 'Set MJD-OBS to 58800.586857 from DATE-OBS'. [astropy.wcs.wcs]\n",
      "WARNING: FITSFixedWarning: 'datfix' made the change 'Set MJD-OBS to 58857.486979 from DATE-OBS'. [astropy.wcs.wcs]\n",
      "WARNING\n",
      "WARNINGWARNING: FITSFixedWarning: 'obsfix' made the change 'Observatory coordinates incomplete'. [astropy.wcs.wcs]: FITSFixedWarning: 'datfix' made the change 'Set MJD-OBS to 58184.283297 from DATE-OBS'. [astropy.wcs.wcs]: FITSFixedWarning: 'datfix' made the change 'Set MJD-OBS to 58203.170749 from DATE-OBS'. [astropy.wcs.wcs]WARNINGWARNING: FITSFixedWarning: 'datfix' made the change 'Set MJD-OBS to 58771.720579 from DATE-OBS'. [astropy.wcs.wcs]: FITSFixedWarning: 'obsfix' made the change 'Observatory coordinates incomplete'. [astropy.wcs.wcs]\n",
      "\n",
      "\n",
      "\n",
      "WARNING\n",
      ": FITSFixedWarning: 'obsfix' made the change 'Observatory coordinates incomplete'. [astropy.wcs.wcs]\n",
      ": FITSFixedWarning: 'obsfix' made the change 'Observatory coordinates incomplete'. [astropy.wcs.wcs]WARNINGWARNING: FITSFixedWarning: RADECSYS= 'ICRS ' / Astrometric system \n",
      "the RADECSYS keyword is deprecated, use RADESYSa. [astropy.wcs.wcs]WARNING\n",
      "\n",
      ": FITSFixedWarning: 'obsfix' made the change 'Observatory coordinates incomplete'. [astropy.wcs.wcs]WARNING: FITSFixedWarning: 'obsfix' made the change 'Observatory coordinates incomplete'. [astropy.wcs.wcs]: FITSFixedWarning: RADECSYS= 'ICRS ' / Astrometric system \n",
      "the RADECSYS keyword is deprecated, use RADESYSa. [astropy.wcs.wcs]\n",
      "\n",
      "\n",
      "WARNINGWARNINGWARNING: FITSFixedWarning: RADECSYS= 'ICRS ' / Astrometric system \n",
      "the RADECSYS keyword is deprecated, use RADESYSa. [astropy.wcs.wcs]: FITSFixedWarning: RADECSYS= 'ICRS ' / Astrometric system \n",
      "the RADECSYS keyword is deprecated, use RADESYSa. [astropy.wcs.wcs]WARNING: FITSFixedWarning: RADECSYS= 'ICRS ' / Astrometric system \n",
      "the RADECSYS keyword is deprecated, use RADESYSa. [astropy.wcs.wcs]\n",
      "\n",
      "\n",
      "WARNING: FITSFixedWarning: 'datfix' made the change 'Set MJD-OBS to 58855.371869 from DATE-OBS'. [astropy.wcs.wcs]: FITSFixedWarning: RADECSYS= 'ICRS ' / Astrometric system \n",
      "the RADECSYS keyword is deprecated, use RADESYSa. [astropy.wcs.wcs]\n",
      "\n",
      "WARNINGWARNING: FITSFixedWarning: 'datfix' made the change 'Set MJD-OBS to 58837.406607 from DATE-OBS'. [astropy.wcs.wcs]: FITSFixedWarning: 'obsfix' made the change 'Observatory coordinates incomplete'. [astropy.wcs.wcs]\n",
      "WARNING\n",
      ": FITSFixedWarning: 'datfix' made the change 'Set MJD-OBS to 58832.392244 from DATE-OBS'. [astropy.wcs.wcs]WARNINGWARNING: FITSFixedWarning: 'datfix' made the change 'Set MJD-OBS to 58125.369839 from DATE-OBS'. [astropy.wcs.wcs]\n",
      "WARNING: FITSFixedWarning: 'obsfix' made the change 'Observatory coordinates incomplete'. [astropy.wcs.wcs]\n",
      "WARNING: FITSFixedWarning: RADECSYS= 'ICRS ' / Astrometric system \n",
      "the RADECSYS keyword is deprecated, use RADESYSa. [astropy.wcs.wcs]\n",
      ": FITSFixedWarning: 'obsfix' made the change 'Observatory coordinates incomplete'. [astropy.wcs.wcs]\n",
      "\n",
      "WARNINGWARNINGWARNINGWARNINGWARNINGWARNING: FITSFixedWarning: 'datfix' made the change 'Set MJD-OBS to 58855.352029 from DATE-OBS'. [astropy.wcs.wcs]: FITSFixedWarning: 'datfix' made the change 'Set MJD-OBS to 58838.438545 from DATE-OBS'. [astropy.wcs.wcs]: FITSFixedWarning: 'datfix' made the change 'Set MJD-OBS to 58807.603859 from DATE-OBS'. [astropy.wcs.wcs]: FITSFixedWarning: 'obsfix' made the change 'Observatory coordinates incomplete'. [astropy.wcs.wcs]\n",
      "\n",
      ": FITSFixedWarning: RADECSYS= 'ICRS ' / Astrometric system \n",
      "the RADECSYS keyword is deprecated, use RADESYSa. [astropy.wcs.wcs]: FITSFixedWarning: 'datfix' made the change 'Set MJD-OBS to 58786.495183 from DATE-OBS'. [astropy.wcs.wcs]\n",
      "\n",
      "WARNING: FITSFixedWarning: 'datfix' made the change 'Set MJD-OBS to 58835.533518 from DATE-OBS'. [astropy.wcs.wcs]\n",
      "WARNINGWARNING\n",
      ": FITSFixedWarning: 'datfix' made the change 'Set MJD-OBS to 58858.416048 from DATE-OBS'. [astropy.wcs.wcs]WARNINGWARNING: FITSFixedWarning: 'obsfix' made the change 'Observatory coordinates incomplete'. [astropy.wcs.wcs]: FITSFixedWarning: RADECSYS= 'ICRS ' / Astrometric system \n",
      "the RADECSYS keyword is deprecated, use RADESYSa. [astropy.wcs.wcs]WARNING\n",
      "\n",
      "WARNINGWARNING: FITSFixedWarning: 'obsfix' made the change 'Observatory coordinates incomplete'. [astropy.wcs.wcs]\n",
      "\n",
      ": FITSFixedWarning: 'obsfix' made the change 'Observatory coordinates incomplete'. [astropy.wcs.wcs]: FITSFixedWarning: 'datfix' made the change 'Set MJD-OBS to 57729.380956 from DATE-OBS'. [astropy.wcs.wcs]: FITSFixedWarning: 'datfix' made the change 'Set MJD-OBS to 58771.655996 from DATE-OBS'. [astropy.wcs.wcs]WARNING\n",
      "\n",
      "\n",
      ": FITSFixedWarning: 'datfix' made the change 'Set MJD-OBS to 58820.540981 from DATE-OBS'. [astropy.wcs.wcs]WARNINGWARNING\n",
      ": FITSFixedWarning: 'obsfix' made the change 'Observatory coordinates incomplete'. [astropy.wcs.wcs]WARNING\n",
      "WARNING: FITSFixedWarning: 'obsfix' made the change 'Observatory coordinates incomplete'. [astropy.wcs.wcs]\n",
      "WARNINGWARNINGWARNING: FITSFixedWarning: RADECSYS= 'ICRS ' / Astrometric system \n",
      "the RADECSYS keyword is deprecated, use RADESYSa. [astropy.wcs.wcs]\n",
      ": FITSFixedWarning: 'obsfix' made the change 'Observatory coordinates incomplete'. [astropy.wcs.wcs]: FITSFixedWarning: RADECSYS= 'ICRS ' / Astrometric system \n",
      "the RADECSYS keyword is deprecated, use RADESYSa. [astropy.wcs.wcs]WARNINGWARNING\n",
      "\n",
      ": FITSFixedWarning: RADECSYS= 'ICRS ' / Astrometric system \n",
      "the RADECSYS keyword is deprecated, use RADESYSa. [astropy.wcs.wcs]WARNING: FITSFixedWarning: 'obsfix' made the change 'Observatory coordinates incomplete'. [astropy.wcs.wcs]\n",
      "\n",
      ": FITSFixedWarning: RADECSYS= 'ICRS ' / Astrometric system \n",
      "the RADECSYS keyword is deprecated, use RADESYSa. [astropy.wcs.wcs]WARNING\n",
      "\n",
      ": FITSFixedWarning: RADECSYS= 'ICRS ' / Astrometric system \n",
      "the RADECSYS keyword is deprecated, use RADESYSa. [astropy.wcs.wcs]WARNINGWARNING: FITSFixedWarning: 'obsfix' made the change 'Observatory coordinates incomplete'. [astropy.wcs.wcs]\n",
      "\n",
      ": FITSFixedWarning: RADECSYS= 'ICRS ' / Astrometric system \n",
      "the RADECSYS keyword is deprecated, use RADESYSa. [astropy.wcs.wcs]: FITSFixedWarning: 'obsfix' made the change 'Observatory coordinates incomplete'. [astropy.wcs.wcs]: FITSFixedWarning: 'datfix' made the change 'Set MJD-OBS to 58034.639742 from DATE-OBS'. [astropy.wcs.wcs]\n",
      "WARNING\n",
      "WARNINGWARNINGWARNINGWARNING: FITSFixedWarning: 'datfix' made the change 'Set MJD-OBS to 58811.578396 from DATE-OBS'. [astropy.wcs.wcs]WARNINGWARNING: FITSFixedWarning: 'obsfix' made the change 'Observatory coordinates incomplete'. [astropy.wcs.wcs]: FITSFixedWarning: 'datfix' made the change 'Set MJD-OBS to 58839.379235 from DATE-OBS'. [astropy.wcs.wcs]: FITSFixedWarning: RADECSYS= 'ICRS ' / Astrometric system \n",
      "the RADECSYS keyword is deprecated, use RADESYSa. [astropy.wcs.wcs]: FITSFixedWarning: RADECSYS= 'ICRS ' / Astrometric system \n",
      "the RADECSYS keyword is deprecated, use RADESYSa. [astropy.wcs.wcs]\n",
      ": FITSFixedWarning: RADECSYS= 'ICRS ' / Astrometric system \n",
      "the RADECSYS keyword is deprecated, use RADESYSa. [astropy.wcs.wcs]\n",
      "\n",
      "\n",
      "\n",
      ": FITSFixedWarning: RADECSYS= 'ICRS ' / Astrometric system \n",
      "the RADECSYS keyword is deprecated, use RADESYSa. [astropy.wcs.wcs]\n",
      "\n",
      "WARNINGWARNINGWARNINGWARNING: FITSFixedWarning: 'obsfix' made the change 'Observatory coordinates incomplete'. [astropy.wcs.wcs]WARNING\n",
      ": FITSFixedWarning: RADECSYS= 'ICRS ' / Astrometric system \n",
      "the RADECSYS keyword is deprecated, use RADESYSa. [astropy.wcs.wcs]: FITSFixedWarning: 'datfix' made the change 'Set MJD-OBS to 58906.231702 from DATE-OBS'. [astropy.wcs.wcs]: FITSFixedWarning: 'obsfix' made the change 'Observatory coordinates incomplete'. [astropy.wcs.wcs]\n",
      "WARNING\n",
      "\n",
      ": FITSFixedWarning: 'datfix' made the change 'Set MJD-OBS to 58197.199664 from DATE-OBS'. [astropy.wcs.wcs]\n",
      "WARNINGWARNING\n",
      "WARNING: FITSFixedWarning: 'datfix' made the change 'Set MJD-OBS to 58910.235509 from DATE-OBS'. [astropy.wcs.wcs]WARNING: FITSFixedWarning: 'datfix' made the change 'Set MJD-OBS to 58822.371327 from DATE-OBS'. [astropy.wcs.wcs]: FITSFixedWarning: 'datfix' made the change 'Set MJD-OBS to 57613.735997 from DATE-OBS'. [astropy.wcs.wcs]\n",
      "WARNINGWARNINGWARNING: FITSFixedWarning: 'obsfix' made the change 'Observatory coordinates incomplete'. [astropy.wcs.wcs]\n",
      "\n",
      ": FITSFixedWarning: 'datfix' made the change 'Set MJD-OBS to 58827.396029 from DATE-OBS'. [astropy.wcs.wcs]: FITSFixedWarning: RADECSYS= 'ICRS ' / Astrometric system \n",
      "the RADECSYS keyword is deprecated, use RADESYSa. [astropy.wcs.wcs]: FITSFixedWarning: 'obsfix' made the change 'Observatory coordinates incomplete'. [astropy.wcs.wcs]\n",
      "WARNING\n",
      "\n",
      "WARNINGWARNING: FITSFixedWarning: RADECSYS= 'ICRS ' / Astrometric system \n",
      "the RADECSYS keyword is deprecated, use RADESYSa. [astropy.wcs.wcs]\n",
      "WARNING\n",
      ": FITSFixedWarning: 'obsfix' made the change 'Observatory coordinates incomplete'. [astropy.wcs.wcs]WARNING: FITSFixedWarning: 'obsfix' made the change 'Observatory coordinates incomplete'. [astropy.wcs.wcs]: FITSFixedWarning: 'obsfix' made the change 'Observatory coordinates incomplete'. [astropy.wcs.wcs]: FITSFixedWarning: 'obsfix' made the change 'Observatory coordinates incomplete'. [astropy.wcs.wcs]\n",
      ": FITSFixedWarning: RADECSYS= 'ICRS ' / Astrometric system \n",
      "the RADECSYS keyword is deprecated, use RADESYSa. [astropy.wcs.wcs]\n",
      "WARNING\n",
      "\n",
      ": FITSFixedWarning: RADECSYS= 'ICRS ' / Astrometric system \n",
      "the RADECSYS keyword is deprecated, use RADESYSa. [astropy.wcs.wcs]\n",
      "WARNINGWARNING\n",
      ": FITSFixedWarning: RADECSYS= 'ICRS ' / Astrometric system \n",
      "the RADECSYS keyword is deprecated, use RADESYSa. [astropy.wcs.wcs]WARNINGWARNING\n",
      ": FITSFixedWarning: RADECSYS= 'ICRS ' / Astrometric system \n",
      "the RADECSYS keyword is deprecated, use RADESYSa. [astropy.wcs.wcs]: FITSFixedWarning: RADECSYS= 'ICRS ' / Astrometric system \n",
      "the RADECSYS keyword is deprecated, use RADESYSa. [astropy.wcs.wcs]WARNING\n",
      "\n",
      ": FITSFixedWarning: 'datfix' made the change 'Set MJD-OBS to 57524.101317 from DATE-OBS'. [astropy.wcs.wcs]WARNING: FITSFixedWarning: RADECSYS= 'ICRS ' / Astrometric system \n",
      "the RADECSYS keyword is deprecated, use RADESYSa. [astropy.wcs.wcs]: FITSFixedWarning: 'datfix' made the change 'Set MJD-OBS to 58821.370833 from DATE-OBS'. [astropy.wcs.wcs]\n",
      "\n",
      "\n",
      "WARNING: FITSFixedWarning: 'obsfix' made the change 'Observatory coordinates incomplete'. [astropy.wcs.wcs]\n",
      "WARNINGWARNING: FITSFixedWarning: 'obsfix' made the change 'Observatory coordinates incomplete'. [astropy.wcs.wcs]: FITSFixedWarning: RADECSYS= 'ICRS ' / Astrometric system \n",
      "the RADECSYS keyword is deprecated, use RADESYSa. [astropy.wcs.wcs]\n",
      "WARNING\n",
      ": FITSFixedWarning: 'datfix' made the change 'Set MJD-OBS to 57594.978228 from DATE-OBS'. [astropy.wcs.wcs]WARNING\n",
      "WARNING: FITSFixedWarning: 'obsfix' made the change 'Observatory coordinates incomplete'. [astropy.wcs.wcs]: FITSFixedWarning: RADECSYS= 'ICRS ' / Astrometric system \n",
      "the RADECSYS keyword is deprecated, use RADESYSa. [astropy.wcs.wcs]\n",
      "\n",
      "WARNING: FITSFixedWarning: RADECSYS= 'ICRS ' / Astrometric system \n",
      "the RADECSYS keyword is deprecated, use RADESYSa. [astropy.wcs.wcs]\n",
      "WARNING: FITSFixedWarning: RADECSYS= 'ICRS ' / Astrometric system \n",
      "the RADECSYS keyword is deprecated, use RADESYSa. [astropy.wcs.wcs]\n",
      "WARNING: FITSFixedWarning: RADECSYS= 'ICRS ' / Astrometric system \n",
      "the RADECSYS keyword is deprecated, use RADESYSa. [astropy.wcs.wcs]\n",
      "WARNING: FITSFixedWarning: RADECSYS= 'ICRS ' / Astrometric system \n",
      "the RADECSYS keyword is deprecated, use RADESYSa. [astropy.wcs.wcs]\n",
      "WARNING: FITSFixedWarning: RADECSYS= 'ICRS ' / Astrometric system \n",
      "the RADECSYS keyword is deprecated, use RADESYSa. [astropy.wcs.wcs]WARNING\n",
      ": FITSFixedWarning: 'datfix' made the change 'Set MJD-OBS to 58823.434418 from DATE-OBS'. [astropy.wcs.wcs]\n",
      "WARNING: FITSFixedWarning: 'obsfix' made the change 'Observatory coordinates incomplete'. [astropy.wcs.wcs]\n",
      "WARNINGWARNING: FITSFixedWarning: RADECSYS= 'ICRS ' / Astrometric system \n",
      "the RADECSYS keyword is deprecated, use RADESYSa. [astropy.wcs.wcs]WARNINGWARNING: FITSFixedWarning: RADECSYS= 'ICRS ' / Astrometric system \n",
      "the RADECSYS keyword is deprecated, use RADESYSa. [astropy.wcs.wcs]\n",
      "\n",
      ": FITSFixedWarning: RADECSYS= 'ICRS ' / Astrometric system \n",
      "the RADECSYS keyword is deprecated, use RADESYSa. [astropy.wcs.wcs]: FITSFixedWarning: RADECSYS= 'ICRS ' / Astrometric system \n",
      "the RADECSYS keyword is deprecated, use RADESYSa. [astropy.wcs.wcs]\n",
      "\n",
      "WARNING: FITSFixedWarning: RADECSYS= 'ICRS ' / Astrometric system \n",
      "the RADECSYS keyword is deprecated, use RADESYSa. [astropy.wcs.wcs]\n",
      "WARNING: FITSFixedWarning: RADECSYS= 'ICRS ' / Astrometric system \n",
      "the RADECSYS keyword is deprecated, use RADESYSa. [astropy.wcs.wcs]\n",
      "WARNING: FITSFixedWarning: RADECSYS= 'ICRS ' / Astrometric system \n",
      "the RADECSYS keyword is deprecated, use RADESYSa. [astropy.wcs.wcs]\n",
      "WARNING: FITSFixedWarning: RADECSYS= 'ICRS ' / Astrometric system \n",
      "the RADECSYS keyword is deprecated, use RADESYSa. [astropy.wcs.wcs]\n",
      "WARNING: FITSFixedWarning: RADECSYS= 'ICRS ' / Astrometric system \n",
      "the RADECSYS keyword is deprecated, use RADESYSa. [astropy.wcs.wcs]\n",
      "WARNING: FITSFixedWarning: RADECSYS= 'ICRS ' / Astrometric system \n",
      "the RADECSYS keyword is deprecated, use RADESYSa. [astropy.wcs.wcs]\n",
      "WARNING: FITSFixedWarning: RADECSYS= 'ICRS ' / Astrometric system \n",
      "the RADECSYS keyword is deprecated, use RADESYSa. [astropy.wcs.wcs]\n",
      "WARNING: FITSFixedWarning: RADECSYS= 'ICRS ' / Astrometric system \n",
      "the RADECSYS keyword is deprecated, use RADESYSa. [astropy.wcs.wcs]\n",
      "WARNING: FITSFixedWarning: RADECSYS= 'ICRS ' / Astrometric system \n",
      "the RADECSYS keyword is deprecated, use RADESYSa. [astropy.wcs.wcs]\n",
      "WARNING: FITSFixedWarning: RADECSYS= 'ICRS ' / Astrometric system \n",
      "the RADECSYS keyword is deprecated, use RADESYSa. [astropy.wcs.wcs]\n",
      "WARNING: FITSFixedWarning: RADECSYS= 'ICRS ' / Astrometric system \n",
      "the RADECSYS keyword is deprecated, use RADESYSa. [astropy.wcs.wcs]\n",
      "WARNING: FITSFixedWarning: RADECSYS= 'ICRS ' / Astrometric system \n",
      "the RADECSYS keyword is deprecated, use RADESYSa. [astropy.wcs.wcs]\n",
      "WARNING: FITSFixedWarning: RADECSYS= 'ICRS ' / Astrometric system \n",
      "the RADECSYS keyword is deprecated, use RADESYSa. [astropy.wcs.wcs]\n",
      "WARNING: FITSFixedWarning: RADECSYS= 'ICRS ' / Astrometric system \n",
      "the RADECSYS keyword is deprecated, use RADESYSa. [astropy.wcs.wcs]\n",
      "WARNING: FITSFixedWarning: RADECSYS= 'ICRS ' / Astrometric system \n",
      "the RADECSYS keyword is deprecated, use RADESYSa. [astropy.wcs.wcs]\n",
      "WARNING: FITSFixedWarning: RADECSYS= 'ICRS ' / Astrometric system \n",
      "the RADECSYS keyword is deprecated, use RADESYSa. [astropy.wcs.wcs]\n",
      "WARNINGWARNING: FITSFixedWarning: RADECSYS= 'ICRS ' / Astrometric system \n",
      "the RADECSYS keyword is deprecated, use RADESYSa. [astropy.wcs.wcs]: FITSFixedWarning: RADECSYS= 'ICRS ' / Astrometric system \n",
      "the RADECSYS keyword is deprecated, use RADESYSa. [astropy.wcs.wcs]\n",
      "\n",
      "WARNING: FITSFixedWarning: RADECSYS= 'ICRS ' / Astrometric system \n",
      "the RADECSYS keyword is deprecated, use RADESYSa. [astropy.wcs.wcs]"
     ]
    },
    {
     "name": "stdout",
     "output_type": "stream",
     "text": [
      "Pickled /arc/home/IsaacCheng/coop_f2021/galaxies/NGC4580/NGC4580_regBin_extinctionCorr_9as_noNorm.pkl"
     ]
    },
    {
     "name": "stderr",
     "output_type": "stream",
     "text": [
      "\n",
      "WARNING"
     ]
    },
    {
     "name": "stdout",
     "output_type": "stream",
     "text": [
      "\n"
     ]
    },
    {
     "name": "stderr",
     "output_type": "stream",
     "text": [
      ": FITSFixedWarning: RADECSYS= 'ICRS ' / Astrometric system \n",
      "the RADECSYS keyword is deprecated, use RADESYSa. [astropy.wcs.wcs]\n",
      "WARNING: FITSFixedWarning: 'datfix' made the change 'Set MJD-OBS to 58837.456786 from DATE-OBS'. [astropy.wcs.wcs]\n",
      "WARNING: FITSFixedWarning: 'obsfix' made the change 'Observatory coordinates incomplete'. [astropy.wcs.wcs]\n",
      "WARNING: FITSFixedWarning: RADECSYS= 'ICRS ' / Astrometric system \n",
      "the RADECSYS keyword is deprecated, use RADESYSa. [astropy.wcs.wcs]\n",
      "WARNING: FITSFixedWarning: RADECSYS= 'ICRS ' / Astrometric system \n",
      "the RADECSYS keyword is deprecated, use RADESYSa. [astropy.wcs.wcs]\n",
      "WARNING: FITSFixedWarning: RADECSYS= 'ICRS ' / Astrometric system \n",
      "the RADECSYS keyword is deprecated, use RADESYSa. [astropy.wcs.wcs]\n",
      "WARNING: FITSFixedWarning: RADECSYS= 'ICRS ' / Astrometric system \n",
      "the RADECSYS keyword is deprecated, use RADESYSa. [astropy.wcs.wcs]\n",
      "WARNING"
     ]
    },
    {
     "name": "stdout",
     "output_type": "stream",
     "text": [
      "Pickled /arc/home/IsaacCheng/coop_f2021/galaxies/IC3392/IC3392_regBin_extinctionCorr_9as_noNorm.pkl\n"
     ]
    },
    {
     "name": "stderr",
     "output_type": "stream",
     "text": [
      ": FITSFixedWarning: RADECSYS= 'ICRS ' / Astrometric system \n",
      "the RADECSYS keyword is deprecated, use RADESYSa. [astropy.wcs.wcs]WARNING: FITSFixedWarning: RADECSYS= 'ICRS ' / Astrometric system \n",
      "the RADECSYS keyword is deprecated, use RADESYSa. [astropy.wcs.wcs]\n",
      "WARNING\n"
     ]
    },
    {
     "name": "stdout",
     "output_type": "stream",
     "text": [
      "Pickled /arc/home/IsaacCheng/coop_f2021/galaxies/NGC4405/NGC4405_regBin_extinctionCorr_9as_noNorm.pkl"
     ]
    },
    {
     "name": "stderr",
     "output_type": "stream",
     "text": [
      ": FITSFixedWarning: RADECSYS= 'ICRS ' / Astrometric system \n",
      "the RADECSYS keyword is deprecated, use RADESYSa. [astropy.wcs.wcs]"
     ]
    },
    {
     "name": "stdout",
     "output_type": "stream",
     "text": [
      "\n"
     ]
    },
    {
     "name": "stderr",
     "output_type": "stream",
     "text": [
      "\n",
      "WARNINGWARNING: FITSFixedWarning: RADECSYS= 'ICRS ' / Astrometric system \n",
      "the RADECSYS keyword is deprecated, use RADESYSa. [astropy.wcs.wcs]\n",
      "WARNING: FITSFixedWarning: RADECSYS= 'ICRS ' / Astrometric system \n",
      "the RADECSYS keyword is deprecated, use RADESYSa. [astropy.wcs.wcs]: FITSFixedWarning: RADECSYS= 'ICRS ' / Astrometric system \n",
      "the RADECSYS keyword is deprecated, use RADESYSa. [astropy.wcs.wcs]\n",
      "\n",
      "WARNING: FITSFixedWarning: 'datfix' made the change 'Set MJD-OBS to 58125.480975 from DATE-OBS'. [astropy.wcs.wcs]WARNING\n",
      ": FITSFixedWarning: 'datfix' made the change 'Set MJD-OBS to 58119.389391 from DATE-OBS'. [astropy.wcs.wcs]WARNING: FITSFixedWarning: 'obsfix' made the change 'Observatory coordinates incomplete'. [astropy.wcs.wcs]\n",
      "WARNING\n",
      ": FITSFixedWarning: 'obsfix' made the change 'Observatory coordinates incomplete'. [astropy.wcs.wcs]\n",
      "WARNINGWARNING: FITSFixedWarning: RADECSYS= 'ICRS ' / Astrometric system \n",
      "the RADECSYS keyword is deprecated, use RADESYSa. [astropy.wcs.wcs]: FITSFixedWarning: RADECSYS= 'ICRS ' / Astrometric system \n",
      "the RADECSYS keyword is deprecated, use RADESYSa. [astropy.wcs.wcs]\n",
      "\n",
      "WARNING: FITSFixedWarning: RADECSYS= 'ICRS ' / Astrometric system \n",
      "the RADECSYS keyword is deprecated, use RADESYSa. [astropy.wcs.wcs]\n",
      "WARNING: FITSFixedWarning: RADECSYS= 'ICRS ' / Astrometric system \n",
      "the RADECSYS keyword is deprecated, use RADESYSa. [astropy.wcs.wcs]\n",
      "WARNING: FITSFixedWarning: RADECSYS= 'ICRS ' / Astrometric system \n",
      "the RADECSYS keyword is deprecated, use RADESYSa. [astropy.wcs.wcs]\n",
      "WARNING: FITSFixedWarning: RADECSYS= 'ICRS ' / Astrometric system \n",
      "the RADECSYS keyword is deprecated, use RADESYSa. [astropy.wcs.wcs]\n",
      "WARNING: FITSFixedWarning: RADECSYS= 'ICRS ' / Astrometric system \n",
      "the RADECSYS keyword is deprecated, use RADESYSa. [astropy.wcs.wcs]\n",
      "WARNINGWARNING: FITSFixedWarning: RADECSYS= 'ICRS ' / Astrometric system \n",
      "the RADECSYS keyword is deprecated, use RADESYSa. [astropy.wcs.wcs]: FITSFixedWarning: RADECSYS= 'ICRS ' / Astrometric system \n",
      "the RADECSYS keyword is deprecated, use RADESYSa. [astropy.wcs.wcs]\n",
      "WARNING\n",
      ": FITSFixedWarning: RADECSYS= 'ICRS ' / Astrometric system \n",
      "the RADECSYS keyword is deprecated, use RADESYSa. [astropy.wcs.wcs]\n",
      "WARNING: FITSFixedWarning: RADECSYS= 'ICRS ' / Astrometric system \n",
      "the RADECSYS keyword is deprecated, use RADESYSa. [astropy.wcs.wcs]\n",
      "/arc/home/IsaacCheng/coop_f2021/packages/fits_utils.py:241: RuntimeWarning: divide by zero encountered in log10\n",
      "  rel_mag = -2.5 * np.log10(flux) + zpt\n",
      "/arc/home/IsaacCheng/coop_f2021/packages/fits_utils.py:242: RuntimeWarning: invalid value encountered in true_divide\n",
      "  rel_mag_err = 2.5 / np.log(10) * abs(flux_err / flux)\n"
     ]
    },
    {
     "name": "stdout",
     "output_type": "stream",
     "text": [
      "Pickled /arc/home/IsaacCheng/coop_f2021/galaxies/NGC4419/NGC4419_regBin_extinctionCorr_9as_noNorm.pkl\n"
     ]
    },
    {
     "name": "stderr",
     "output_type": "stream",
     "text": [
      "/arc/home/IsaacCheng/coop_f2021/packages/fits_utils.py:241: RuntimeWarning: invalid value encountered in log10\n",
      "  rel_mag = -2.5 * np.log10(flux) + zpt\n"
     ]
    },
    {
     "name": "stdout",
     "output_type": "stream",
     "text": [
      "Pickled /arc/home/IsaacCheng/coop_f2021/galaxies/NGC4351/NGC4351_regBin_extinctionCorr_9as_noNorm.pkl\n"
     ]
    },
    {
     "name": "stderr",
     "output_type": "stream",
     "text": [
      "WARNING: FITSFixedWarning: 'datfix' made the change 'Set MJD-OBS to 58029.684441 from DATE-OBS'. [astropy.wcs.wcs]\n",
      "WARNING: FITSFixedWarning: 'obsfix' made the change 'Observatory coordinates incomplete'. [astropy.wcs.wcs]\n",
      "WARNINGWARNING: FITSFixedWarning: RADECSYS= 'ICRS ' / Astrometric system \n",
      "the RADECSYS keyword is deprecated, use RADESYSa. [astropy.wcs.wcs]\n",
      ": FITSFixedWarning: RADECSYS= 'ICRS ' / Astrometric system \n",
      "the RADECSYS keyword is deprecated, use RADESYSa. [astropy.wcs.wcs]\n",
      "WARNING: FITSFixedWarning: RADECSYS= 'ICRS ' / Astrometric system \n",
      "the RADECSYS keyword is deprecated, use RADESYSa. [astropy.wcs.wcs]\n"
     ]
    },
    {
     "name": "stdout",
     "output_type": "stream",
     "text": [
      "Pickled /arc/home/IsaacCheng/coop_f2021/galaxies/NGC4424/NGC4424_regBin_extinctionCorr_9as_noNorm.pkl\n"
     ]
    },
    {
     "name": "stderr",
     "output_type": "stream",
     "text": [
      "WARNING: FITSFixedWarning: RADECSYS= 'ICRS ' / Astrometric system \n",
      "the RADECSYS keyword is deprecated, use RADESYSa. [astropy.wcs.wcs]/arc/home/IsaacCheng/coop_f2021/packages/fits_utils.py:241: RuntimeWarning: divide by zero encountered in log10\n",
      "  rel_mag = -2.5 * np.log10(flux) + zpt\n",
      "\n",
      "/arc/home/IsaacCheng/coop_f2021/packages/fits_utils.py:242: RuntimeWarning: invalid value encountered in true_divide\n",
      "  rel_mag_err = 2.5 / np.log(10) * abs(flux_err / flux)\n",
      "WARNING: FITSFixedWarning: RADECSYS= 'ICRS ' / Astrometric system \n",
      "the RADECSYS keyword is deprecated, use RADESYSa. [astropy.wcs.wcs]\n"
     ]
    },
    {
     "name": "stdout",
     "output_type": "stream",
     "text": [
      "Pickled /arc/home/IsaacCheng/coop_f2021/galaxies/NGC4294/NGC4294_regBin_extinctionCorr_9as_noNorm.pkl\n"
     ]
    },
    {
     "name": "stderr",
     "output_type": "stream",
     "text": [
      "WARNING: FITSFixedWarning: RADECSYS= 'ICRS ' / Astrometric system \n",
      "the RADECSYS keyword is deprecated, use RADESYSa. [astropy.wcs.wcs]\n",
      "WARNING: FITSFixedWarning: RADECSYS= 'ICRS ' / Astrometric system \n",
      "the RADECSYS keyword is deprecated, use RADESYSa. [astropy.wcs.wcs]\n",
      "WARNING: FITSFixedWarning: RADECSYS= 'ICRS ' / Astrometric system \n",
      "the RADECSYS keyword is deprecated, use RADESYSa. [astropy.wcs.wcs]\n",
      "WARNING: FITSFixedWarning: RADECSYS= 'ICRS ' / Astrometric system \n",
      "the RADECSYS keyword is deprecated, use RADESYSa. [astropy.wcs.wcs]\n",
      "/arc/home/IsaacCheng/coop_f2021/packages/fits_utils.py:241: RuntimeWarning: divide by zero encountered in log10\n",
      "  rel_mag = -2.5 * np.log10(flux) + zpt\n",
      "/arc/home/IsaacCheng/coop_f2021/packages/fits_utils.py:242: RuntimeWarning: invalid value encountered in true_divide\n",
      "  rel_mag_err = 2.5 / np.log(10) * abs(flux_err / flux)\n"
     ]
    },
    {
     "name": "stdout",
     "output_type": "stream",
     "text": [
      "Pickled /arc/home/IsaacCheng/coop_f2021/galaxies/NGC4532/NGC4532_regBin_extinctionCorr_9as_noNorm.pkl\n"
     ]
    },
    {
     "name": "stderr",
     "output_type": "stream",
     "text": [
      "WARNING: FITSFixedWarning: RADECSYS= 'ICRS ' / Astrometric system \n",
      "the RADECSYS keyword is deprecated, use RADESYSa. [astropy.wcs.wcs]\n",
      "/arc/home/IsaacCheng/coop_f2021/packages/fits_utils.py:241: RuntimeWarning: divide by zero encountered in log10\n",
      "  rel_mag = -2.5 * np.log10(flux) + zpt\n",
      "/arc/home/IsaacCheng/coop_f2021/packages/fits_utils.py:242: RuntimeWarning: invalid value encountered in true_divide\n",
      "  rel_mag_err = 2.5 / np.log(10) * abs(flux_err / flux)\n"
     ]
    },
    {
     "name": "stdout",
     "output_type": "stream",
     "text": [
      "Pickled /arc/home/IsaacCheng/coop_f2021/galaxies/NGC4299/NGC4299_regBin_extinctionCorr_9as_noNorm.pkl\n"
     ]
    },
    {
     "name": "stderr",
     "output_type": "stream",
     "text": [
      "WARNING: FITSFixedWarning: RADECSYS= 'ICRS ' / Astrometric system \n",
      "the RADECSYS keyword is deprecated, use RADESYSa. [astropy.wcs.wcs]\n",
      "WARNING: FITSFixedWarning: RADECSYS= 'ICRS ' / Astrometric system \n",
      "the RADECSYS keyword is deprecated, use RADESYSa. [astropy.wcs.wcs]\n",
      "WARNING: FITSFixedWarning: RADECSYS= 'ICRS ' / Astrometric system \n",
      "the RADECSYS keyword is deprecated, use RADESYSa. [astropy.wcs.wcs]\n",
      "WARNING: FITSFixedWarning: RADECSYS= 'ICRS ' / Astrometric system \n",
      "the RADECSYS keyword is deprecated, use RADESYSa. [astropy.wcs.wcs]\n",
      "WARNING: FITSFixedWarning: RADECSYS= 'ICRS ' / Astrometric system \n",
      "the RADECSYS keyword is deprecated, use RADESYSa. [astropy.wcs.wcs]\n",
      "/arc/home/IsaacCheng/coop_f2021/packages/fits_utils.py:241: RuntimeWarning: invalid value encountered in log10\n",
      "  rel_mag = -2.5 * np.log10(flux) + zpt\n"
     ]
    },
    {
     "name": "stdout",
     "output_type": "stream",
     "text": [
      "Pickled /arc/home/IsaacCheng/coop_f2021/galaxies/NGC4522/NGC4522_regBin_extinctionCorr_9as_noNorm.pkl\n"
     ]
    },
    {
     "name": "stderr",
     "output_type": "stream",
     "text": [
      "WARNING: FITSFixedWarning: RADECSYS= 'ICRS ' / Astrometric system \n",
      "the RADECSYS keyword is deprecated, use RADESYSa. [astropy.wcs.wcs]\n",
      "/arc/home/IsaacCheng/coop_f2021/packages/fits_utils.py:241: RuntimeWarning: invalid value encountered in log10\n",
      "  rel_mag = -2.5 * np.log10(flux) + zpt\n"
     ]
    },
    {
     "name": "stdout",
     "output_type": "stream",
     "text": [
      "Pickled /arc/home/IsaacCheng/coop_f2021/galaxies/NGC4607/NGC4607_regBin_extinctionCorr_9as_noNorm.pkl\n"
     ]
    },
    {
     "name": "stderr",
     "output_type": "stream",
     "text": [
      "WARNING: FITSFixedWarning: RADECSYS= 'ICRS ' / Astrometric system \n",
      "the RADECSYS keyword is deprecated, use RADESYSa. [astropy.wcs.wcs]\n",
      "WARNING: FITSFixedWarning: RADECSYS= 'ICRS ' / Astrometric system \n",
      "the RADECSYS keyword is deprecated, use RADESYSa. [astropy.wcs.wcs]\n",
      "/arc/home/IsaacCheng/coop_f2021/packages/fits_utils.py:241: RuntimeWarning: divide by zero encountered in log10\n",
      "  rel_mag = -2.5 * np.log10(flux) + zpt\n",
      "/arc/home/IsaacCheng/coop_f2021/packages/fits_utils.py:242: RuntimeWarning: invalid value encountered in true_divide\n",
      "  rel_mag_err = 2.5 / np.log(10) * abs(flux_err / flux)\n"
     ]
    },
    {
     "name": "stdout",
     "output_type": "stream",
     "text": [
      "Pickled /arc/home/IsaacCheng/coop_f2021/galaxies/NGC4383/NGC4383_regBin_extinctionCorr_9as_noNorm.pkl\n"
     ]
    },
    {
     "name": "stderr",
     "output_type": "stream",
     "text": [
      "WARNING: FITSFixedWarning: RADECSYS= 'ICRS ' / Astrometric system \n",
      "the RADECSYS keyword is deprecated, use RADESYSa. [astropy.wcs.wcs]\n",
      "WARNING: FITSFixedWarning: RADECSYS= 'ICRS ' / Astrometric system \n",
      "the RADECSYS keyword is deprecated, use RADESYSa. [astropy.wcs.wcs]\n",
      "WARNING: FITSFixedWarning: RADECSYS= 'ICRS ' / Astrometric system \n",
      "the RADECSYS keyword is deprecated, use RADESYSa. [astropy.wcs.wcs]\n",
      "/arc/home/IsaacCheng/coop_f2021/packages/fits_utils.py:241: RuntimeWarning: divide by zero encountered in log10\n",
      "  rel_mag = -2.5 * np.log10(flux) + zpt\n",
      "/arc/home/IsaacCheng/coop_f2021/packages/fits_utils.py:242: RuntimeWarning: invalid value encountered in true_divide\n",
      "  rel_mag_err = 2.5 / np.log(10) * abs(flux_err / flux)\n",
      "/arc/home/IsaacCheng/coop_f2021/packages/fits_utils.py:241: RuntimeWarning: invalid value encountered in log10\n",
      "  rel_mag = -2.5 * np.log10(flux) + zpt\n"
     ]
    },
    {
     "name": "stdout",
     "output_type": "stream",
     "text": [
      "Pickled /arc/home/IsaacCheng/coop_f2021/galaxies/NGC4396/NGC4396_regBin_extinctionCorr_9as_noNorm.pkl\n"
     ]
    },
    {
     "name": "stderr",
     "output_type": "stream",
     "text": [
      "WARNING: FITSFixedWarning: RADECSYS= 'ICRS ' / Astrometric system \n",
      "the RADECSYS keyword is deprecated, use RADESYSa. [astropy.wcs.wcs]\n"
     ]
    },
    {
     "name": "stdout",
     "output_type": "stream",
     "text": [
      "Pickled /arc/home/IsaacCheng/coop_f2021/galaxies/NGC4568/NGC4568_regBin_extinctionCorr_9as_noNorm.pkl\n"
     ]
    },
    {
     "name": "stderr",
     "output_type": "stream",
     "text": [
      "WARNING: FITSFixedWarning: RADECSYS= 'ICRS ' / Astrometric system \n",
      "the RADECSYS keyword is deprecated, use RADESYSa. [astropy.wcs.wcs]\n"
     ]
    },
    {
     "name": "stdout",
     "output_type": "stream",
     "text": [
      "Pickled /arc/home/IsaacCheng/coop_f2021/galaxies/NGC4567/NGC4567_regBin_extinctionCorr_9as_noNorm.pkl\n"
     ]
    },
    {
     "name": "stderr",
     "output_type": "stream",
     "text": [
      "WARNING: FITSFixedWarning: RADECSYS= 'ICRS ' / Astrometric system \n",
      "the RADECSYS keyword is deprecated, use RADESYSa. [astropy.wcs.wcs]\n",
      "WARNING: FITSFixedWarning: RADECSYS= 'ICRS ' / Astrometric system \n",
      "the RADECSYS keyword is deprecated, use RADESYSa. [astropy.wcs.wcs]\n",
      "WARNING: FITSFixedWarning: RADECSYS= 'ICRS ' / Astrometric system \n",
      "the RADECSYS keyword is deprecated, use RADESYSa. [astropy.wcs.wcs]\n",
      "WARNING: FITSFixedWarning: RADECSYS= 'ICRS ' / Astrometric system \n",
      "the RADECSYS keyword is deprecated, use RADESYSa. [astropy.wcs.wcs]\n"
     ]
    },
    {
     "name": "stdout",
     "output_type": "stream",
     "text": [
      "Pickled /arc/home/IsaacCheng/coop_f2021/galaxies/NGC4694/NGC4694_regBin_extinctionCorr_9as_noNorm.pkl\n"
     ]
    },
    {
     "name": "stderr",
     "output_type": "stream",
     "text": [
      "WARNING: FITSFixedWarning: RADECSYS= 'ICRS ' / Astrometric system \n",
      "the RADECSYS keyword is deprecated, use RADESYSa. [astropy.wcs.wcs]\n",
      "WARNING: FITSFixedWarning: RADECSYS= 'ICRS ' / Astrometric system \n",
      "the RADECSYS keyword is deprecated, use RADESYSa. [astropy.wcs.wcs]\n",
      "WARNING: FITSFixedWarning: RADECSYS= 'ICRS ' / Astrometric system \n",
      "the RADECSYS keyword is deprecated, use RADESYSa. [astropy.wcs.wcs]\n",
      "/arc/home/IsaacCheng/coop_f2021/packages/fits_utils.py:241: RuntimeWarning: divide by zero encountered in log10\n",
      "  rel_mag = -2.5 * np.log10(flux) + zpt\n",
      "/arc/home/IsaacCheng/coop_f2021/packages/fits_utils.py:242: RuntimeWarning: invalid value encountered in true_divide\n",
      "  rel_mag_err = 2.5 / np.log(10) * abs(flux_err / flux)\n",
      "/arc/home/IsaacCheng/coop_f2021/packages/fits_utils.py:241: RuntimeWarning: invalid value encountered in log10\n",
      "  rel_mag = -2.5 * np.log10(flux) + zpt\n",
      "WARNING: FITSFixedWarning: RADECSYS= 'ICRS ' / Astrometric system \n",
      "the RADECSYS keyword is deprecated, use RADESYSa. [astropy.wcs.wcs]"
     ]
    },
    {
     "name": "stdout",
     "output_type": "stream",
     "text": [
      "Pickled /arc/home/IsaacCheng/coop_f2021/galaxies/NGC4222/NGC4222_regBin_extinctionCorr_9as_noNorm.pkl"
     ]
    },
    {
     "name": "stderr",
     "output_type": "stream",
     "text": [
      "\n"
     ]
    },
    {
     "name": "stdout",
     "output_type": "stream",
     "text": [
      "\n"
     ]
    },
    {
     "name": "stderr",
     "output_type": "stream",
     "text": [
      "/arc/home/IsaacCheng/coop_f2021/packages/fits_utils.py:241: RuntimeWarning: divide by zero encountered in log10\n",
      "  rel_mag = -2.5 * np.log10(flux) + zpt\n",
      "/arc/home/IsaacCheng/coop_f2021/packages/fits_utils.py:242: RuntimeWarning: invalid value encountered in true_divide\n",
      "  rel_mag_err = 2.5 / np.log(10) * abs(flux_err / flux)\n",
      "/arc/home/IsaacCheng/coop_f2021/packages/fits_utils.py:241: RuntimeWarning: invalid value encountered in log10\n",
      "  rel_mag = -2.5 * np.log10(flux) + zpt\n"
     ]
    },
    {
     "name": "stdout",
     "output_type": "stream",
     "text": [
      "Pickled /arc/home/IsaacCheng/coop_f2021/galaxies/NGC4330/NGC4330_regBin_extinctionCorr_9as_noNorm.pkl\n"
     ]
    },
    {
     "name": "stderr",
     "output_type": "stream",
     "text": [
      "WARNING: FITSFixedWarning: RADECSYS= 'ICRS ' / Astrometric system \n",
      "the RADECSYS keyword is deprecated, use RADESYSa. [astropy.wcs.wcs]\n",
      "WARNING: FITSFixedWarning: RADECSYS= 'ICRS ' / Astrometric system \n",
      "the RADECSYS keyword is deprecated, use RADESYSa. [astropy.wcs.wcs]\n",
      "WARNING: FITSFixedWarning: RADECSYS= 'ICRS ' / Astrometric system \n",
      "the RADECSYS keyword is deprecated, use RADESYSa. [astropy.wcs.wcs]\n",
      "WARNING: FITSFixedWarning: RADECSYS= 'ICRS ' / Astrometric system \n",
      "the RADECSYS keyword is deprecated, use RADESYSa. [astropy.wcs.wcs]\n",
      "WARNING: FITSFixedWarning: RADECSYS= 'ICRS ' / Astrometric system \n",
      "the RADECSYS keyword is deprecated, use RADESYSa. [astropy.wcs.wcs]\n",
      "WARNING: FITSFixedWarning: RADECSYS= 'ICRS ' / Astrometric system \n",
      "the RADECSYS keyword is deprecated, use RADESYSa. [astropy.wcs.wcs]\n",
      "WARNING: FITSFixedWarning: RADECSYS= 'ICRS ' / Astrometric system \n",
      "the RADECSYS keyword is deprecated, use RADESYSa. [astropy.wcs.wcs]\n",
      "WARNING: FITSFixedWarning: RADECSYS= 'ICRS ' / Astrometric system \n",
      "the RADECSYS keyword is deprecated, use RADESYSa. [astropy.wcs.wcs]\n",
      "WARNING: FITSFixedWarning: RADECSYS= 'ICRS ' / Astrometric system \n",
      "the RADECSYS keyword is deprecated, use RADESYSa. [astropy.wcs.wcs]\n",
      "WARNING: FITSFixedWarning: RADECSYS= 'ICRS ' / Astrometric system \n",
      "the RADECSYS keyword is deprecated, use RADESYSa. [astropy.wcs.wcs]\n",
      "WARNING: FITSFixedWarning: RADECSYS= 'ICRS ' / Astrometric system \n",
      "the RADECSYS keyword is deprecated, use RADESYSa. [astropy.wcs.wcs]\n",
      "/arc/home/IsaacCheng/coop_f2021/packages/fits_utils.py:241: RuntimeWarning: divide by zero encountered in log10\n",
      "  rel_mag = -2.5 * np.log10(flux) + zpt\n",
      "/arc/home/IsaacCheng/coop_f2021/packages/fits_utils.py:242: RuntimeWarning: invalid value encountered in true_divide\n",
      "  rel_mag_err = 2.5 / np.log(10) * abs(flux_err / flux)\n"
     ]
    },
    {
     "name": "stdout",
     "output_type": "stream",
     "text": [
      "Pickled /arc/home/IsaacCheng/coop_f2021/galaxies/NGC4298/NGC4298_regBin_extinctionCorr_9as_noNorm.pkl\n"
     ]
    },
    {
     "name": "stderr",
     "output_type": "stream",
     "text": [
      "WARNING: FITSFixedWarning: RADECSYS= 'ICRS ' / Astrometric system \n",
      "the RADECSYS keyword is deprecated, use RADESYSa. [astropy.wcs.wcs]\n",
      "WARNING: FITSFixedWarning: RADECSYS= 'ICRS ' / Astrometric system \n",
      "the RADECSYS keyword is deprecated, use RADESYSa. [astropy.wcs.wcs]\n"
     ]
    },
    {
     "name": "stdout",
     "output_type": "stream",
     "text": [
      "Pickled /arc/home/IsaacCheng/coop_f2021/galaxies/NGC4380/NGC4380_regBin_extinctionCorr_9as_noNorm.pkl\n"
     ]
    },
    {
     "name": "stderr",
     "output_type": "stream",
     "text": [
      "WARNING: FITSFixedWarning: RADECSYS= 'ICRS ' / Astrometric system \n",
      "the RADECSYS keyword is deprecated, use RADESYSa. [astropy.wcs.wcs]\n"
     ]
    },
    {
     "name": "stdout",
     "output_type": "stream",
     "text": [
      "Pickled /arc/home/IsaacCheng/coop_f2021/galaxies/NGC4651/NGC4651_regBin_extinctionCorr_9as_noNorm.pkl\n"
     ]
    },
    {
     "name": "stderr",
     "output_type": "stream",
     "text": [
      "/arc/home/IsaacCheng/coop_f2021/packages/fits_utils.py:241: RuntimeWarning: divide by zero encountered in log10\n",
      "  rel_mag = -2.5 * np.log10(flux) + zpt\n",
      "/arc/home/IsaacCheng/coop_f2021/packages/fits_utils.py:242: RuntimeWarning: invalid value encountered in true_divide\n",
      "  rel_mag_err = 2.5 / np.log(10) * abs(flux_err / flux)\n"
     ]
    },
    {
     "name": "stdout",
     "output_type": "stream",
     "text": [
      "Pickled /arc/home/IsaacCheng/coop_f2021/galaxies/NGC4388/NGC4388_regBin_extinctionCorr_9as_noNorm.pkl\n"
     ]
    },
    {
     "name": "stderr",
     "output_type": "stream",
     "text": [
      "WARNING: FITSFixedWarning: RADECSYS= 'ICRS ' / Astrometric system \n",
      "the RADECSYS keyword is deprecated, use RADESYSa. [astropy.wcs.wcs]\n",
      "WARNING: FITSFixedWarning: RADECSYS= 'ICRS ' / Astrometric system \n",
      "the RADECSYS keyword is deprecated, use RADESYSa. [astropy.wcs.wcs]\n",
      "WARNING: FITSFixedWarning: RADECSYS= 'ICRS ' / Astrometric system \n",
      "the RADECSYS keyword is deprecated, use RADESYSa. [astropy.wcs.wcs]\n",
      "WARNING: FITSFixedWarning: RADECSYS= 'ICRS ' / Astrometric system \n",
      "the RADECSYS keyword is deprecated, use RADESYSa. [astropy.wcs.wcs]\n",
      "WARNING: FITSFixedWarning: RADECSYS= 'ICRS ' / Astrometric system \n",
      "the RADECSYS keyword is deprecated, use RADESYSa. [astropy.wcs.wcs]\n",
      "/arc/home/IsaacCheng/coop_f2021/packages/fits_utils.py:241: RuntimeWarning: divide by zero encountered in log10\n",
      "  rel_mag = -2.5 * np.log10(flux) + zpt\n",
      "/arc/home/IsaacCheng/coop_f2021/packages/fits_utils.py:242: RuntimeWarning: invalid value encountered in true_divide\n",
      "  rel_mag_err = 2.5 / np.log(10) * abs(flux_err / flux)\n",
      "WARNING: FITSFixedWarning: RADECSYS= 'ICRS ' / Astrometric system \n",
      "the RADECSYS keyword is deprecated, use RADESYSa. [astropy.wcs.wcs]\n"
     ]
    },
    {
     "name": "stdout",
     "output_type": "stream",
     "text": [
      "Pickled /arc/home/IsaacCheng/coop_f2021/galaxies/NGC4450/NGC4450_regBin_extinctionCorr_9as_noNorm.pkl\n"
     ]
    },
    {
     "name": "stderr",
     "output_type": "stream",
     "text": [
      "WARNING: FITSFixedWarning: RADECSYS= 'ICRS ' / Astrometric system \n",
      "the RADECSYS keyword is deprecated, use RADESYSa. [astropy.wcs.wcs]\n",
      "/arc/home/IsaacCheng/coop_f2021/packages/fits_utils.py:241: RuntimeWarning: divide by zero encountered in log10\n",
      "  rel_mag = -2.5 * np.log10(flux) + zpt\n",
      "/arc/home/IsaacCheng/coop_f2021/packages/fits_utils.py:242: RuntimeWarning: invalid value encountered in true_divide\n",
      "  rel_mag_err = 2.5 / np.log(10) * abs(flux_err / flux)\n"
     ]
    },
    {
     "name": "stdout",
     "output_type": "stream",
     "text": [
      "Pickled /arc/home/IsaacCheng/coop_f2021/galaxies/NGC4501/NGC4501_regBin_extinctionCorr_9as_noNorm.pkl\n"
     ]
    },
    {
     "name": "stderr",
     "output_type": "stream",
     "text": [
      "WARNING: FITSFixedWarning: RADECSYS= 'ICRS ' / Astrometric system \n",
      "the RADECSYS keyword is deprecated, use RADESYSa. [astropy.wcs.wcs]\n",
      "WARNING: FITSFixedWarning: RADECSYS= 'ICRS ' / Astrometric system \n",
      "the RADECSYS keyword is deprecated, use RADESYSa. [astropy.wcs.wcs]\n",
      "WARNING: FITSFixedWarning: RADECSYS= 'ICRS ' / Astrometric system \n",
      "the RADECSYS keyword is deprecated, use RADESYSa. [astropy.wcs.wcs]\n"
     ]
    },
    {
     "name": "stdout",
     "output_type": "stream",
     "text": [
      "Pickled /arc/home/IsaacCheng/coop_f2021/galaxies/NGC4689/NGC4689_regBin_extinctionCorr_9as_noNorm.pkl\n"
     ]
    },
    {
     "name": "stderr",
     "output_type": "stream",
     "text": [
      "WARNING: FITSFixedWarning: RADECSYS= 'ICRS ' / Astrometric system \n",
      "the RADECSYS keyword is deprecated, use RADESYSa. [astropy.wcs.wcs]\n"
     ]
    },
    {
     "name": "stdout",
     "output_type": "stream",
     "text": [
      "Pickled /arc/home/IsaacCheng/coop_f2021/galaxies/NGC4569/NGC4569_regBin_extinctionCorr_9as_noNorm.pkl\n"
     ]
    },
    {
     "name": "stderr",
     "output_type": "stream",
     "text": [
      "WARNING: FITSFixedWarning: RADECSYS= 'ICRS ' / Astrometric system \n",
      "the RADECSYS keyword is deprecated, use RADESYSa. [astropy.wcs.wcs]\n"
     ]
    },
    {
     "name": "stdout",
     "output_type": "stream",
     "text": [
      "Pickled /arc/home/IsaacCheng/coop_f2021/galaxies/NGC4548/NGC4548_regBin_extinctionCorr_9as_noNorm.pkl\n"
     ]
    },
    {
     "name": "stderr",
     "output_type": "stream",
     "text": [
      "/arc/home/IsaacCheng/coop_f2021/packages/fits_utils.py:241: RuntimeWarning: divide by zero encountered in log10\n",
      "  rel_mag = -2.5 * np.log10(flux) + zpt\n",
      "/arc/home/IsaacCheng/coop_f2021/packages/fits_utils.py:242: RuntimeWarning: invalid value encountered in true_divide\n",
      "  rel_mag_err = 2.5 / np.log(10) * abs(flux_err / flux)\n"
     ]
    },
    {
     "name": "stdout",
     "output_type": "stream",
     "text": [
      "Pickled /arc/home/IsaacCheng/coop_f2021/galaxies/NGC4535/NGC4535_regBin_extinctionCorr_9as_noNorm.pkl\n"
     ]
    },
    {
     "name": "stderr",
     "output_type": "stream",
     "text": [
      "WARNING: FITSFixedWarning: RADECSYS= 'ICRS ' / Astrometric system \n",
      "the RADECSYS keyword is deprecated, use RADESYSa. [astropy.wcs.wcs]\n"
     ]
    },
    {
     "name": "stdout",
     "output_type": "stream",
     "text": [
      "Pickled /arc/home/IsaacCheng/coop_f2021/galaxies/NGC4579/NGC4579_regBin_extinctionCorr_9as_noNorm.pkl\n"
     ]
    },
    {
     "name": "stderr",
     "output_type": "stream",
     "text": [
      "WARNING: FITSFixedWarning: RADECSYS= 'ICRS ' / Astrometric system \n",
      "the RADECSYS keyword is deprecated, use RADESYSa. [astropy.wcs.wcs]\n",
      "WARNING: FITSFixedWarning: RADECSYS= 'ICRS ' / Astrometric system \n",
      "the RADECSYS keyword is deprecated, use RADESYSa. [astropy.wcs.wcs]\n",
      "/arc/home/IsaacCheng/coop_f2021/packages/fits_utils.py:241: RuntimeWarning: divide by zero encountered in log10\n",
      "  rel_mag = -2.5 * np.log10(flux) + zpt\n",
      "/arc/home/IsaacCheng/coop_f2021/packages/fits_utils.py:242: RuntimeWarning: invalid value encountered in true_divide\n",
      "  rel_mag_err = 2.5 / np.log(10) * abs(flux_err / flux)\n"
     ]
    },
    {
     "name": "stdout",
     "output_type": "stream",
     "text": [
      "Pickled /arc/home/IsaacCheng/coop_f2021/galaxies/NGC4402/NGC4402_regBin_extinctionCorr_9as_noNorm.pkl\n"
     ]
    },
    {
     "name": "stderr",
     "output_type": "stream",
     "text": [
      "WARNING: FITSFixedWarning: RADECSYS= 'ICRS ' / Astrometric system \n",
      "the RADECSYS keyword is deprecated, use RADESYSa. [astropy.wcs.wcs]\n",
      "WARNING: FITSFixedWarning: RADECSYS= 'ICRS ' / Astrometric system \n",
      "the RADECSYS keyword is deprecated, use RADESYSa. [astropy.wcs.wcs]\n",
      "/arc/home/IsaacCheng/coop_f2021/packages/fits_utils.py:241: RuntimeWarning: divide by zero encountered in log10\n",
      "  rel_mag = -2.5 * np.log10(flux) + zpt\n",
      "/arc/home/IsaacCheng/coop_f2021/packages/fits_utils.py:242: RuntimeWarning: invalid value encountered in true_divide\n",
      "  rel_mag_err = 2.5 / np.log(10) * abs(flux_err / flux)\n"
     ]
    },
    {
     "name": "stdout",
     "output_type": "stream",
     "text": [
      "Pickled /arc/home/IsaacCheng/coop_f2021/galaxies/NGC4321/NGC4321_regBin_extinctionCorr_9as_noNorm.pkl\n"
     ]
    },
    {
     "name": "stderr",
     "output_type": "stream",
     "text": [
      "WARNING: FITSFixedWarning: RADECSYS= 'ICRS ' / Astrometric system \n",
      "the RADECSYS keyword is deprecated, use RADESYSa. [astropy.wcs.wcs]\n",
      "/arc/home/IsaacCheng/coop_f2021/packages/fits_utils.py:241: RuntimeWarning: divide by zero encountered in log10\n",
      "  rel_mag = -2.5 * np.log10(flux) + zpt\n",
      "/arc/home/IsaacCheng/coop_f2021/packages/fits_utils.py:242: RuntimeWarning: invalid value encountered in true_divide\n",
      "  rel_mag_err = 2.5 / np.log(10) * abs(flux_err / flux)\n"
     ]
    },
    {
     "name": "stdout",
     "output_type": "stream",
     "text": [
      "Pickled /arc/home/IsaacCheng/coop_f2021/galaxies/NGC4654/NGC4654_regBin_extinctionCorr_9as_noNorm.pkl\n"
     ]
    },
    {
     "name": "stderr",
     "output_type": "stream",
     "text": [
      "/arc/home/IsaacCheng/coop_f2021/packages/fits_utils.py:241: RuntimeWarning: divide by zero encountered in log10\n",
      "  rel_mag = -2.5 * np.log10(flux) + zpt\n",
      "/arc/home/IsaacCheng/coop_f2021/packages/fits_utils.py:241: RuntimeWarning: invalid value encountered in log10\n",
      "  rel_mag = -2.5 * np.log10(flux) + zpt\n",
      "/arc/home/IsaacCheng/coop_f2021/packages/fits_utils.py:242: RuntimeWarning: invalid value encountered in true_divide\n",
      "  rel_mag_err = 2.5 / np.log(10) * abs(flux_err / flux)\n"
     ]
    },
    {
     "name": "stdout",
     "output_type": "stream",
     "text": [
      "Pickled /arc/home/IsaacCheng/coop_f2021/galaxies/NGC4192/NGC4192_regBin_extinctionCorr_9as_noNorm.pkl\n"
     ]
    },
    {
     "name": "stderr",
     "output_type": "stream",
     "text": [
      "/arc/home/IsaacCheng/coop_f2021/packages/fits_utils.py:241: RuntimeWarning: divide by zero encountered in log10\n",
      "  rel_mag = -2.5 * np.log10(flux) + zpt\n",
      "/arc/home/IsaacCheng/coop_f2021/packages/fits_utils.py:242: RuntimeWarning: invalid value encountered in true_divide\n",
      "  rel_mag_err = 2.5 / np.log(10) * abs(flux_err / flux)\n",
      "/arc/home/IsaacCheng/coop_f2021/packages/fits_utils.py:241: RuntimeWarning: invalid value encountered in log10\n",
      "  rel_mag = -2.5 * np.log10(flux) + zpt\n"
     ]
    },
    {
     "name": "stdout",
     "output_type": "stream",
     "text": [
      "Pickled /arc/home/IsaacCheng/coop_f2021/galaxies/NGC4254/NGC4254_regBin_extinctionCorr_9as_noNorm.pkl\n"
     ]
    },
    {
     "name": "stderr",
     "output_type": "stream",
     "text": [
      "/arc/home/IsaacCheng/coop_f2021/packages/fits_utils.py:241: RuntimeWarning: divide by zero encountered in log10\n",
      "  rel_mag = -2.5 * np.log10(flux) + zpt\n",
      "/arc/home/IsaacCheng/coop_f2021/packages/fits_utils.py:241: RuntimeWarning: invalid value encountered in log10\n",
      "  rel_mag = -2.5 * np.log10(flux) + zpt\n",
      "/arc/home/IsaacCheng/coop_f2021/packages/fits_utils.py:242: RuntimeWarning: invalid value encountered in true_divide\n",
      "  rel_mag_err = 2.5 / np.log(10) * abs(flux_err / flux)\n"
     ]
    },
    {
     "name": "stdout",
     "output_type": "stream",
     "text": [
      "Pickled /arc/home/IsaacCheng/coop_f2021/galaxies/NGC4302/NGC4302_regBin_extinctionCorr_9as_noNorm.pkl\n"
     ]
    },
    {
     "name": "stderr",
     "output_type": "stream",
     "text": [
      "WARNING: FITSFixedWarning: RADECSYS= 'ICRS ' / Astrometric system \n",
      "the RADECSYS keyword is deprecated, use RADESYSa. [astropy.wcs.wcs]\n",
      "/arc/home/IsaacCheng/coop_f2021/packages/fits_utils.py:241: RuntimeWarning: divide by zero encountered in log10\n",
      "  rel_mag = -2.5 * np.log10(flux) + zpt\n",
      "/arc/home/IsaacCheng/coop_f2021/packages/fits_utils.py:242: RuntimeWarning: invalid value encountered in true_divide\n",
      "  rel_mag_err = 2.5 / np.log(10) * abs(flux_err / flux)\n",
      "/arc/home/IsaacCheng/coop_f2021/packages/fits_utils.py:241: RuntimeWarning: invalid value encountered in log10\n",
      "  rel_mag = -2.5 * np.log10(flux) + zpt\n"
     ]
    },
    {
     "name": "stdout",
     "output_type": "stream",
     "text": [
      "Pickled /arc/home/IsaacCheng/coop_f2021/galaxies/NGC4216/NGC4216_regBin_extinctionCorr_9as_noNorm.pkl\n",
      "Done\n"
     ]
    }
   ],
   "source": [
    "with Pool(processes=None) as p:\n",
    "    p.starmap(bin_ngvs_data_noNorm, zip(GALAXIES, VCC_GALAXIES, repeat(\"9as\")))\n",
    "print(\"Done\")"
   ]
  },
  {
   "cell_type": "markdown",
   "id": "expanded-tyler",
   "metadata": {},
   "source": [
    "# Check if files pickled properly\n"
   ]
  },
  {
   "cell_type": "code",
   "execution_count": 7,
   "id": "internal-nitrogen",
   "metadata": {},
   "outputs": [
    {
     "name": "stdout",
     "output_type": "stream",
     "text": [
      "dict_keys(['README', 'reproject_method', 'binning_function', 'dist_pc', 'x_coords', 'y_coords', 'bin_dimensions', 'wcs_binned', 'wcs_binned_array_shape', 'ebv_coeff', 'ebv_u', 'ebv_g', 'ebv_i', 'ebv_z', 'uband_signal', 'uband_noise', 'gband_signal', 'gband_noise', 'iband_signal', 'iband_noise', 'zband_signal', 'zband_noise', 'uband_rel_mag', 'uband_rel_mag_err', 'gband_rel_mag', 'gband_rel_mag_err', 'iband_rel_mag', 'iband_rel_mag_err', 'zband_rel_mag', 'zband_rel_mag_err', 'uband_is_good', 'gband_is_good', 'iband_is_good', 'zband_is_good'])\n",
      "4.594\n",
      "0.037\n",
      "The binned signal and noise arrays, as well as the relative magnitudes, have all been normalized by the number of pixels per bin. To recover the un-normalized binned signal and noise arrays, simply multiply the signal and noise arrays by (`bin_dimensions`[0] * `bin_dimensions`[1]). \n",
      "The relative magnitudes have been corrected for extinction; the binned signal and noise arrays have not. \n",
      "`ebv_coeff` is the extinction coefficient for the galaxy from the NGVS catalogue; `ebv_u`, `ebv_g`, `ebv_i`, `ebv_z` are the NGVS extinction coefficient conversion factors from http://www.cadc-ccda.hia-iha.nrc-cnrc.gc.ca/en/community/ngvs/query/catdoc.html#ebv. \n",
      "Also remember to set `wcs_binned.array_shape = wcs_binned_array_shape`\n",
      "(23, 23)\n"
     ]
    }
   ],
   "source": [
    "import dill\n",
    "import numpy as np\n",
    "with open(\"/arc/home/IsaacCheng/coop_f2021/galaxies/IC3392/IC3392_regBin_extinctionCorr_nyquist.pkl\", \"rb\") as f:\n",
    "    file = dill.load(f)\n",
    "    print(file.keys())\n",
    "    print(file[\"ebv_u\"])\n",
    "    print(file[\"ebv_coeff\"])\n",
    "    print(file[\"README\"])\n",
    "    print(file[\"gband_signal\"].shape)"
   ]
  },
  {
   "cell_type": "code",
   "execution_count": null,
   "id": "national-messaging",
   "metadata": {},
   "outputs": [],
   "source": [
    "R"
   ]
  }
 ],
 "metadata": {
  "kernelspec": {
   "display_name": "Python 3 (ipykernel)",
   "language": "python",
   "name": "python3"
  },
  "language_info": {
   "codemirror_mode": {
    "name": "ipython",
    "version": 3
   },
   "file_extension": ".py",
   "mimetype": "text/x-python",
   "name": "python",
   "nbconvert_exporter": "python",
   "pygments_lexer": "ipython3",
   "version": "3.8.12"
  }
 },
 "nbformat": 4,
 "nbformat_minor": 5
}
